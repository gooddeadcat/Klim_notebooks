{
 "cells": [
  {
   "cell_type": "markdown",
   "id": "52d0c9f0",
   "metadata": {},
   "source": [
    "# БОТ, СОЗДАЮЩИЙ ОБЛАКА СЛОВ"
   ]
  },
  {
   "cell_type": "code",
   "execution_count": 1,
   "id": "481d5f62",
   "metadata": {
    "collapsed": true
   },
   "outputs": [
    {
     "name": "stdout",
     "output_type": "stream",
     "text": [
      "Defaulting to user installation because normal site-packages is not writeable\n",
      "Collecting https://github.com/aiogram/aiogram/archive/refs/heads/dev-3.x.zip\n",
      "  Using cached https://github.com/aiogram/aiogram/archive/refs/heads/dev-3.x.zip\n",
      "  Installing build dependencies: started\n",
      "  Installing build dependencies: finished with status 'done'\n",
      "  Getting requirements to build wheel: started\n",
      "  Getting requirements to build wheel: finished with status 'done'\n",
      "    Preparing wheel metadata: started\n",
      "    Preparing wheel metadata: finished with status 'done'\n",
      "Requirement already satisfied: aiofiles<23.0.0,>=22.1.0 in c:\\users\\klim\\appdata\\roaming\\python\\python39\\site-packages (from aiogram==3.0.0b7) (22.1.0)\n",
      "Requirement already satisfied: certifi<2023.0.0,>=2022.9.24 in c:\\users\\klim\\appdata\\roaming\\python\\python39\\site-packages (from aiogram==3.0.0b7) (2022.9.24)\n",
      "Requirement already satisfied: pydantic<2.0.0,>=1.10.2 in c:\\users\\klim\\appdata\\roaming\\python\\python39\\site-packages (from aiogram==3.0.0b7) (1.10.2)\n",
      "Requirement already satisfied: magic-filter<2.0.0,>=1.0.9 in c:\\users\\klim\\appdata\\roaming\\python\\python39\\site-packages (from aiogram==3.0.0b7) (1.0.9)\n",
      "Requirement already satisfied: aiohttp<4.0.0,>=3.8.3 in c:\\users\\klim\\appdata\\roaming\\python\\python39\\site-packages (from aiogram==3.0.0b7) (3.8.3)\n",
      "Requirement already satisfied: async-timeout<5.0,>=4.0.0a3 in c:\\programdata\\anaconda3\\lib\\site-packages (from aiohttp<4.0.0,>=3.8.3->aiogram==3.0.0b7) (4.0.1)\n",
      "Requirement already satisfied: aiosignal>=1.1.2 in c:\\programdata\\anaconda3\\lib\\site-packages (from aiohttp<4.0.0,>=3.8.3->aiogram==3.0.0b7) (1.2.0)\n",
      "Requirement already satisfied: frozenlist>=1.1.1 in c:\\programdata\\anaconda3\\lib\\site-packages (from aiohttp<4.0.0,>=3.8.3->aiogram==3.0.0b7) (1.2.0)\n",
      "Requirement already satisfied: yarl<2.0,>=1.0 in c:\\programdata\\anaconda3\\lib\\site-packages (from aiohttp<4.0.0,>=3.8.3->aiogram==3.0.0b7) (1.6.3)\n",
      "Requirement already satisfied: attrs>=17.3.0 in c:\\programdata\\anaconda3\\lib\\site-packages (from aiohttp<4.0.0,>=3.8.3->aiogram==3.0.0b7) (21.4.0)\n",
      "Requirement already satisfied: multidict<7.0,>=4.5 in c:\\programdata\\anaconda3\\lib\\site-packages (from aiohttp<4.0.0,>=3.8.3->aiogram==3.0.0b7) (5.1.0)\n",
      "Requirement already satisfied: charset-normalizer<3.0,>=2.0 in c:\\programdata\\anaconda3\\lib\\site-packages (from aiohttp<4.0.0,>=3.8.3->aiogram==3.0.0b7) (2.0.4)\n",
      "Requirement already satisfied: typing-extensions>=3.6.5 in c:\\programdata\\anaconda3\\lib\\site-packages (from async-timeout<5.0,>=4.0.0a3->aiohttp<4.0.0,>=3.8.3->aiogram==3.0.0b7) (4.1.1)\n",
      "Requirement already satisfied: idna>=2.0 in c:\\programdata\\anaconda3\\lib\\site-packages (from yarl<2.0,>=1.0->aiohttp<4.0.0,>=3.8.3->aiogram==3.0.0b7) (3.3)\n",
      "Note: you may need to restart the kernel to use updated packages.\n"
     ]
    }
   ],
   "source": [
    "pip install https://github.com/aiogram/aiogram/archive/refs/heads/dev-3.x.zip"
   ]
  },
  {
   "cell_type": "code",
   "execution_count": 2,
   "id": "2565b179",
   "metadata": {
    "collapsed": true
   },
   "outputs": [
    {
     "name": "stdout",
     "output_type": "stream",
     "text": [
      "Defaulting to user installation because normal site-packages is not writeable\n",
      "Requirement already satisfied: nest_asyncio in c:\\programdata\\anaconda3\\lib\\site-packages (1.5.5)\n",
      "Note: you may need to restart the kernel to use updated packages.\n"
     ]
    }
   ],
   "source": [
    "pip install nest_asyncio"
   ]
  },
  {
   "cell_type": "code",
   "execution_count": 3,
   "id": "5d24e2ab",
   "metadata": {
    "collapsed": true
   },
   "outputs": [
    {
     "name": "stdout",
     "output_type": "stream",
     "text": [
      "Defaulting to user installation because normal site-packages is not writeable\n",
      "Requirement already satisfied: wordcloud in c:\\users\\klim\\appdata\\roaming\\python\\python39\\site-packages (1.8.2.2)\n",
      "Requirement already satisfied: numpy>=1.6.1 in c:\\programdata\\anaconda3\\lib\\site-packages (from wordcloud) (1.21.5)\n",
      "Requirement already satisfied: pillow in c:\\programdata\\anaconda3\\lib\\site-packages (from wordcloud) (9.0.1)\n",
      "Requirement already satisfied: matplotlib in c:\\programdata\\anaconda3\\lib\\site-packages (from wordcloud) (3.5.1)\n",
      "Requirement already satisfied: python-dateutil>=2.7 in c:\\programdata\\anaconda3\\lib\\site-packages (from matplotlib->wordcloud) (2.8.2)\n",
      "Requirement already satisfied: kiwisolver>=1.0.1 in c:\\programdata\\anaconda3\\lib\\site-packages (from matplotlib->wordcloud) (1.3.2)\n",
      "Requirement already satisfied: pyparsing>=2.2.1 in c:\\programdata\\anaconda3\\lib\\site-packages (from matplotlib->wordcloud) (3.0.4)\n",
      "Requirement already satisfied: fonttools>=4.22.0 in c:\\programdata\\anaconda3\\lib\\site-packages (from matplotlib->wordcloud) (4.25.0)\n",
      "Requirement already satisfied: packaging>=20.0 in c:\\programdata\\anaconda3\\lib\\site-packages (from matplotlib->wordcloud) (21.3)\n",
      "Requirement already satisfied: cycler>=0.10 in c:\\programdata\\anaconda3\\lib\\site-packages (from matplotlib->wordcloud) (0.11.0)\n",
      "Requirement already satisfied: six>=1.5 in c:\\programdata\\anaconda3\\lib\\site-packages (from python-dateutil>=2.7->matplotlib->wordcloud) (1.16.0)\n",
      "Note: you may need to restart the kernel to use updated packages.\n"
     ]
    }
   ],
   "source": [
    "pip install wordcloud"
   ]
  },
  {
   "cell_type": "code",
   "execution_count": 4,
   "id": "b59b8f7d",
   "metadata": {
    "collapsed": true
   },
   "outputs": [
    {
     "name": "stdout",
     "output_type": "stream",
     "text": [
      "Defaulting to user installation because normal site-packages is not writeable\n",
      "Requirement already satisfied: nltk in c:\\programdata\\anaconda3\\lib\\site-packages (3.7)\n",
      "Requirement already satisfied: tqdm in c:\\programdata\\anaconda3\\lib\\site-packages (from nltk) (4.64.0)\n",
      "Requirement already satisfied: joblib in c:\\programdata\\anaconda3\\lib\\site-packages (from nltk) (1.1.0)\n",
      "Requirement already satisfied: click in c:\\programdata\\anaconda3\\lib\\site-packages (from nltk) (8.0.4)\n",
      "Requirement already satisfied: regex>=2021.8.3 in c:\\programdata\\anaconda3\\lib\\site-packages (from nltk) (2022.3.15)\n",
      "Requirement already satisfied: colorama in c:\\programdata\\anaconda3\\lib\\site-packages (from click->nltk) (0.4.4)\n",
      "Note: you may need to restart the kernel to use updated packages.\n"
     ]
    }
   ],
   "source": [
    "pip install nltk"
   ]
  },
  {
   "cell_type": "code",
   "execution_count": 5,
   "id": "cb4c3380",
   "metadata": {
    "collapsed": true
   },
   "outputs": [
    {
     "name": "stdout",
     "output_type": "stream",
     "text": [
      "Defaulting to user installation because normal site-packages is not writeable\n",
      "Collecting pymorphy3\n",
      "  Downloading pymorphy3-1.1.0-py3-none-any.whl (66 kB)\n",
      "Collecting pymorphy3-dicts-ru\n",
      "  Downloading pymorphy3_dicts_ru-2.4.417150.4580142-py2.py3-none-any.whl (8.4 MB)\n",
      "Collecting docopt>=0.6\n",
      "  Downloading docopt-0.6.2.tar.gz (25 kB)\n",
      "Collecting dawg-python>=0.7.1\n",
      "  Downloading DAWG_Python-0.7.2-py2.py3-none-any.whl (11 kB)\n",
      "Building wheels for collected packages: docopt\n",
      "  Building wheel for docopt (setup.py): started\n",
      "  Building wheel for docopt (setup.py): finished with status 'done'\n",
      "  Created wheel for docopt: filename=docopt-0.6.2-py2.py3-none-any.whl size=13723 sha256=0375329f0beab32aa1037713c7d1d95489de3ceba2d0c32d2e6139a4c461b953\n",
      "  Stored in directory: c:\\users\\klim\\appdata\\local\\pip\\cache\\wheels\\70\\4a\\46\\1309fc853b8d395e60bafaf1b6df7845bdd82c95fd59dd8d2b\n",
      "Successfully built docopt\n",
      "Installing collected packages: pymorphy3-dicts-ru, docopt, dawg-python, pymorphy3\n",
      "Successfully installed dawg-python-0.7.2 docopt-0.6.2 pymorphy3-1.1.0 pymorphy3-dicts-ru-2.4.417150.4580142\n",
      "Note: you may need to restart the kernel to use updated packages.\n"
     ]
    },
    {
     "name": "stderr",
     "output_type": "stream",
     "text": [
      "  WARNING: The script pymorphy.exe is installed in 'C:\\Users\\Klim\\AppData\\Roaming\\Python\\Python39\\Scripts' which is not on PATH.\n",
      "  Consider adding this directory to PATH or, if you prefer to suppress this warning, use --no-warn-script-location.\n"
     ]
    }
   ],
   "source": [
    "pip install pymorphy3"
   ]
  },
  {
   "cell_type": "code",
   "execution_count": 28,
   "id": "8a659bc7",
   "metadata": {},
   "outputs": [
    {
     "name": "stderr",
     "output_type": "stream",
     "text": [
      "[nltk_data] Downloading package stopwords to\n",
      "[nltk_data]     C:\\Users\\Klim\\AppData\\Roaming\\nltk_data...\n",
      "[nltk_data]   Package stopwords is already up-to-date!\n"
     ]
    }
   ],
   "source": [
    "import os\n",
    "import nest_asyncio\n",
    "import asyncio\n",
    "import logging\n",
    "from aiogram import Bot, Dispatcher, types, filters, Router, handlers, F\n",
    "from aiogram.filters import Command\n",
    "from aiogram.types import FSInputFile\n",
    "\n",
    "import json\n",
    "import pandas as pd\n",
    "import matplotlib.pyplot as plt\n",
    "from wordcloud import WordCloud, STOPWORDS, ImageColorGenerator\n",
    "\n",
    "import nltk\n",
    "nltk.download('stopwords')\n",
    "from nltk.corpus import stopwords\n",
    "from string import punctuation\n",
    "\n",
    "from pymorphy3 import MorphAnalyzer\n",
    "pymorphy3_analyzer = MorphAnalyzer()"
   ]
  },
  {
   "cell_type": "code",
   "execution_count": 37,
   "id": "655bc812",
   "metadata": {},
   "outputs": [],
   "source": [
    "def prepare(infile, switch):\n",
    "    if switch == 'channel':\n",
    "        with open(infile, 'r', encoding='utf8') as f:\n",
    "            jdata = f.read()\n",
    "        data = json.loads(jdata)\n",
    "        messages = data['messages']\n",
    "        df = pd.DataFrame(messages)\n",
    "        df['text'] = df['text'].apply(lambda x: [i for i in x if type(i) == str] if type(x) == list else x)\n",
    "        df['text'] = df['text'].astype('str')\n",
    "        df['text'].replace(r'\\\\n', ' ', regex=True, inplace=True)\n",
    "        df['text'].replace(r'\\n', ' ', regex=True, inplace=True)\n",
    "        text = ' '.join(df['text'].to_list()).lower()\n",
    "    elif switch == 'txt':\n",
    "        with open(infile, 'r', encoding='utf8') as f:\n",
    "            text = f.read().lower().replace('\\n', ' ')\n",
    "    return text\n",
    "\n",
    "def cloud(text, infile):\n",
    "    text_masked = ' '.join([pymorphy3_analyzer.parse(word)[0].normal_form for word in text.split() if\n",
    "                            pymorphy3_analyzer.parse(word)[0].tag.POS == 'NOUN'])\n",
    "    noise = stopwords.words('russian')\n",
    "    punctuation_new = list(punctuation) + list('»') + list('«')\n",
    "    wordcloud = WordCloud(stopwords=noise + punctuation_new + ['мочь', 'который', 'свой', 'весь'], \n",
    "                          mode='RGBA', background_color=None).generate(text_masked)\n",
    "    outfile = infile.replace('json', 'png').replace('txt', 'png')\n",
    "    wordcloud.to_file(outfile)\n",
    "    return outfile"
   ]
  },
  {
   "cell_type": "code",
   "execution_count": null,
   "id": "78fc0fd3",
   "metadata": {},
   "outputs": [
    {
     "name": "stderr",
     "output_type": "stream",
     "text": [
      "INFO:aiogram.dispatcher:Start polling\n",
      "INFO:aiogram.dispatcher:Run polling for bot @very_cloudy_bot id=5930567047 - 'Cloudy'\n",
      "INFO:aiogram.event:Update id=983441765 is handled. Duration 343 ms by bot id=5930567047\n"
     ]
    }
   ],
   "source": [
    "nest_asyncio.apply()\n",
    "\n",
    "logging.basicConfig(level=logging.INFO)\n",
    "\n",
    "TOKEN = '5930567047:AAFUeBgC1hDCaay14Sr47NjdBU8ZLkNQta0'\n",
    "\n",
    "async def main():\n",
    "    bot = Bot(token=TOKEN)\n",
    "    global switch\n",
    "    switch = 'off'\n",
    "    dp = Dispatcher()\n",
    "    dp.include_router(router)\n",
    "    await bot.delete_webhook(drop_pending_updates=True)\n",
    "    await dp.start_polling(bot)\n",
    "\n",
    "router = Router()\n",
    "\n",
    "@router.message(Command('start'))\n",
    "async def start(message): \n",
    "    global switch\n",
    "    switch = 'off'\n",
    "    kb = [\n",
    "        [types.KeyboardButton(text='Telegram канал/чат')],\n",
    "        [types.KeyboardButton(text='Текстовый файл (с расширением .txt)')],\n",
    "        [types.KeyboardButton(text='Спасибо, не надо облаков.')]\n",
    "    ]\n",
    "    keyboard = types.ReplyKeyboardMarkup(keyboard=kb, resize_keyboard=True, one_time_keyboard=True)\n",
    "    await message.answer_sticker(r'CAACAgUAAxkBAAEGlihjhJzOCae5KywwFe850cZstkjtawACtQUAAqMFQQctHaXKG0pkxysE')\n",
    "    await message.answer('Здравствуйте.\\nМеня зовут Клауди и я делаю облака слов.\\n\\\n",
    "Что Вы хотите превратить в облако?', reply_markup=keyboard)\n",
    "\n",
    "@router.message(lambda message: message.text == 'Telegram канал/чат')\n",
    "async def option_channel(message):\n",
    "    global switch\n",
    "    switch = 'channel'\n",
    "    await message.answer('Экспортируйте историю канала/чата в формате JSON\\\n",
    " (данная функция доступна только в Telegram Desktop) и \\\n",
    "вставьте в сообщение ниже.\\n\\nВведите любое сообщение, чтобы начать заново.')\n",
    "    \n",
    "@router.message(lambda message: message.text == 'Текстовый файл (с расширением .txt)')\n",
    "async def option_txt(message):\n",
    "    global switch\n",
    "    switch = 'txt'\n",
    "    await message.answer('Вставьте текстовый файл в сообщение ниже.\\nЧем чище файл, тем красивее облако.\\n\\n\\\n",
    "Введите любое сообщение, чтобы начать заново.')\n",
    "\n",
    "@router.message(~F.content_type.in_({'text'}))\n",
    "async def inout(message, bot):\n",
    "    if switch in ['channel', 'txt']:\n",
    "        infile_error = False\n",
    "        try:\n",
    "            os.makedirs(f'{os.getcwd()}\\\\cloudy_files', exist_ok=True)\n",
    "            if switch == 'channel':\n",
    "                extension = '.json'\n",
    "            elif switch == 'txt':\n",
    "                extension = '.txt' \n",
    "            infile = f'{os.getcwd()}\\\\cloudy_files\\\\{message.document.file_id}{extension}'\n",
    "            await bot.download(message.document, destination=infile)\n",
    "            await message.answer_sticker(r'CAACAgUAAxkBAAEGmAxjhOd0fyuNg24ngDHR_mMZLWeGqQAC-QUAAqMFQQeMBfF0g8QOLisE')\n",
    "            await message.answer('Делаю облако.\\nВам необязательно здесь ждать. Я пришлю результат с вороном.')\n",
    "            text = prepare(infile, switch)\n",
    "        except:\n",
    "            infile_error = True\n",
    "            await message.answer_sticker(r'CAACAgUAAxkBAAEGn0ljhvkqvM96D6icF-IyO9Zxr5O49wAC5wUAAqMFQQfz3mvY5aG69CsE')\n",
    "            if switch == 'json':\n",
    "                await message.answer('Не получается обработать файл.\\nВставьте экспорт канала/чата\\\n",
    " в формате JSON.\\n\\nВведите любое сообщение, чтобы начать заново.')\n",
    "            if switch == 'txt':\n",
    "                await message.answer('Не получается обработать файл.\\nВставьте текстовый файл\\\n",
    " с расширением .txt.\\n\\nВведите любое сообщение, чтобы начать заново.')\n",
    "        if infile_error == False:\n",
    "            try:\n",
    "                outfile = cloud(text, infile)\n",
    "                result = FSInputFile(outfile)\n",
    "                await message.answer_photo(result)\n",
    "                await message.answer('Ваше облако готово.\\nЕсли хотите ещё одно, вставьте новый файл.\\n\\n\\\n",
    "Введите любое сообщение, чтобы начать заново.')\n",
    "            except:\n",
    "                await message.answer_sticker(r'CAACAgUAAxkBAAEGn0tjhvnDHh3GjdC946_BOYClWEZ7BQACuQUAAqMFQQfoxuUFtV3sGisE')\n",
    "                await message.answer('Что-то сломалось. Попробуйте вставить другой файл в формате JSON.\\n\\n\\\n",
    "Введите любое сообщение, чтобы начать заново.')\n",
    "    else:\n",
    "        kb = [\n",
    "        [types.KeyboardButton(text='/start')],\n",
    "        [types.KeyboardButton(text='/help (в разработке)')]\n",
    "        ]\n",
    "        keyboard = types.ReplyKeyboardMarkup(keyboard=kb, resize_keyboard=True, one_time_keyboard=True)\n",
    "        await message.answer_sticker(r'CAACAgUAAxkBAAEGn99jh1oHZzET1tjBRiN3w_6ru1-TBAAC4QUAAqMFQQdMy6ISqoHknCsE')\n",
    "        await message.answer('Нельзя просто прийти и что-то в меня кинуть.\\nСначала надо поздороваться.')\n",
    "        await message.answer('Нажмите /start, чтобы начать общение.\\n\\\n",
    "Нажмите /help, чтобы узнать обо мне.', reply_markup=keyboard)\n",
    "    \n",
    "@router.message(lambda message: message.text == 'Спасибо, не надо облаков.')\n",
    "async def cancel(message):\n",
    "    global switch\n",
    "    switch = 'off'\n",
    "    await message.answer_sticker(r'CAACAgUAAxkBAAEGli5jhJ3TB9AIa1XroQQlRAlSvbXrBQAC8QUAAqMFQQeTfXHOdOBBJysE')\n",
    "    await message.answer('Понимаю.\\n\\nВведите любое сообщение, если захотите делать облака.')\n",
    "    \n",
    "@router.message(Command('help'))\n",
    "async def about(message): \n",
    "    global switch\n",
    "    switch = 'off'\n",
    "    await message.answer_sticker(r'CAACAgUAAxkBAAEGn-Vjh1qEke0WNzojT5J6kGUttB0idgACxQUAAqMFQQd6VxpupFr34SsE')\n",
    "    await message.answer('Разрешите представиться.\\n\\n\\\n",
    "Я облако Клауди и я делаю облака слов на основе файлов, содержащих текст. В данный момент я принимаю на вход:\\n\\n\\\n",
    "1. JSON файлы с историей (всеми сообщениями) Telegram каналов или чатов, которые можно выгрузить \\\n",
    "из Telegram Desktop (ПК-версия Telegram). Мобильная и браузерная версии Telegram не экспортируют историю переписки.\\n\\n\\\n",
    "2. Обычные текстовые файлы (блокноты) с разрешением .txt.\\n\\n\\\n",
    "На выходе Вы получите облако слов (а именно: существительных в начальной форме) в виде изображения с расширением .png.\\n\\n\\\n",
    "На любом экране нашей переписки можно ввести любое сообщение, даже один символ, чтобы увидеть две кнопки:\\n\\n\\\n",
    "/start - отправляет Вас в главное меню, состоящее на данный момент из трёх пунктов: 2 метода ввода и отмена;\\n\\n\\\n",
    "/help - отправляет Вас сюда.\\n\\n\\\n",
    "Длительность обработки файлов зависит от объёмов текста. Но Вы можете выйти из чата и через некоторое время \\\n",
    "(секунды, минуты, часы...) Вам придёт от меня сообщение с готовым облаком слов...\\n\\n\\\n",
    "... Если всё получится. Но у нас должно получиться, хоть я и нахожусь на стадии разработки.\\n\\n\\\n",
    "Желаю Вам приятного облакотворения!')\n",
    "       \n",
    "@router.message()\n",
    "async def every(message):\n",
    "    global switch\n",
    "    switch = 'off'\n",
    "    kb = [\n",
    "        [types.KeyboardButton(text='/start')],\n",
    "        [types.KeyboardButton(text='/help (в разработке)')]\n",
    "    ]\n",
    "    keyboard = types.ReplyKeyboardMarkup(keyboard=kb, resize_keyboard=True, one_time_keyboard=True)\n",
    "    await message.answer('Нажмите /start, чтобы начать общение.\\n\\\n",
    "Нажмите /help, чтобы узнать обо мне.', reply_markup=keyboard)\n",
    "\n",
    "if __name__ == \"__main__\":\n",
    "    asyncio.run(main())"
   ]
  },
  {
   "cell_type": "code",
   "execution_count": null,
   "id": "1e6d24eb",
   "metadata": {},
   "outputs": [],
   "source": []
  }
 ],
 "metadata": {
  "kernelspec": {
   "display_name": "Python 3 (ipykernel)",
   "language": "python",
   "name": "python3"
  },
  "language_info": {
   "codemirror_mode": {
    "name": "ipython",
    "version": 3
   },
   "file_extension": ".py",
   "mimetype": "text/x-python",
   "name": "python",
   "nbconvert_exporter": "python",
   "pygments_lexer": "ipython3",
   "version": "3.9.12"
  }
 },
 "nbformat": 4,
 "nbformat_minor": 5
}
