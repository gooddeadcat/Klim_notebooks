{
 "cells": [
  {
   "cell_type": "markdown",
   "id": "2372ce98",
   "metadata": {},
   "source": [
    "http://t.me/very_cloudy_bot\n",
    "\n",
    "'5930567047:AAFUeBgC1hDCaay14Sr47NjdBU8ZLkNQta0'"
   ]
  },
  {
   "cell_type": "code",
   "execution_count": null,
   "id": "31b7bb5b",
   "metadata": {},
   "outputs": [],
   "source": [
    "@bot.message_handler(commands=['start'])\n",
    "def send_keyboard(message, text=\"Привет, для чего создать облако?\"):\n",
    "    keyboard = types.ReplyKeyboardMarkup(row_width=2) \n",
    "    itembtn1 = types.KeyboardButton('Для канала или чата')\n",
    "    itembtn2 = types.KeyboardButton('Для файла')\n",
    "    itembtn3 = types.KeyboardButton('Для текста')\n",
    "    itembtn6 = types.KeyboardButton('Создавать облака не надо')\n",
    "    \n",
    "    msg = bot.send_message(message.from_user.id,\n",
    "                     text=text, reply_markup=keyboard)\n",
    "    \n",
    "    bot.register_next_step_handler(msg, callback_worker)"
   ]
  },
  {
   "cell_type": "code",
   "execution_count": null,
   "id": "b1c6bd2f",
   "metadata": {},
   "outputs": [],
   "source": [
    "pip install nest_asyncio"
   ]
  },
  {
   "cell_type": "code",
   "execution_count": 13,
   "id": "126126c9",
   "metadata": {},
   "outputs": [
    {
     "name": "stdout",
     "output_type": "stream",
     "text": [
      "Defaulting to user installation because normal site-packages is not writeable\n",
      "Requirement already satisfied: aiogram in c:\\users\\klim\\appdata\\roaming\\python\\python39\\site-packages (2.23.1)\n",
      "Requirement already satisfied: aiohttp<3.9.0,>=3.8.0 in c:\\programdata\\anaconda3\\lib\\site-packages (from aiogram) (3.8.1)\n",
      "Requirement already satisfied: certifi>=2021.10.8 in c:\\programdata\\anaconda3\\lib\\site-packages (from aiogram) (2021.10.8)\n",
      "Requirement already satisfied: magic-filter>=1.0.9 in c:\\users\\klim\\appdata\\roaming\\python\\python39\\site-packages (from aiogram) (1.0.9)\n",
      "Requirement already satisfied: Babel<2.10.0,>=2.9.1 in c:\\programdata\\anaconda3\\lib\\site-packages (from aiogram) (2.9.1)\n",
      "Requirement already satisfied: async-timeout<5.0,>=4.0.0a3 in c:\\programdata\\anaconda3\\lib\\site-packages (from aiohttp<3.9.0,>=3.8.0->aiogram) (4.0.1)\n",
      "Requirement already satisfied: charset-normalizer<3.0,>=2.0 in c:\\programdata\\anaconda3\\lib\\site-packages (from aiohttp<3.9.0,>=3.8.0->aiogram) (2.0.4)\n",
      "Requirement already satisfied: attrs>=17.3.0 in c:\\programdata\\anaconda3\\lib\\site-packages (from aiohttp<3.9.0,>=3.8.0->aiogram) (21.4.0)\n",
      "Requirement already satisfied: yarl<2.0,>=1.0 in c:\\programdata\\anaconda3\\lib\\site-packages (from aiohttp<3.9.0,>=3.8.0->aiogram) (1.6.3)\n",
      "Requirement already satisfied: frozenlist>=1.1.1 in c:\\programdata\\anaconda3\\lib\\site-packages (from aiohttp<3.9.0,>=3.8.0->aiogram) (1.2.0)\n",
      "Requirement already satisfied: aiosignal>=1.1.2 in c:\\programdata\\anaconda3\\lib\\site-packages (from aiohttp<3.9.0,>=3.8.0->aiogram) (1.2.0)\n",
      "Requirement already satisfied: multidict<7.0,>=4.5 in c:\\programdata\\anaconda3\\lib\\site-packages (from aiohttp<3.9.0,>=3.8.0->aiogram) (5.1.0)\n",
      "Requirement already satisfied: typing-extensions>=3.6.5 in c:\\programdata\\anaconda3\\lib\\site-packages (from async-timeout<5.0,>=4.0.0a3->aiohttp<3.9.0,>=3.8.0->aiogram) (4.1.1)\n",
      "Requirement already satisfied: pytz>=2015.7 in c:\\programdata\\anaconda3\\lib\\site-packages (from Babel<2.10.0,>=2.9.1->aiogram) (2021.3)\n",
      "Requirement already satisfied: idna>=2.0 in c:\\programdata\\anaconda3\\lib\\site-packages (from yarl<2.0,>=1.0->aiohttp<3.9.0,>=3.8.0->aiogram) (3.3)\n",
      "Note: you may need to restart the kernel to use updated packages.\n"
     ]
    }
   ],
   "source": [
    "pip install -U aiogram"
   ]
  },
  {
   "cell_type": "code",
   "execution_count": 47,
   "id": "8a659bc7",
   "metadata": {},
   "outputs": [],
   "source": [
    "import nest_asyncio\n",
    "import logging\n",
    "from aiogram import Bot, Dispatcher, executor, types"
   ]
  },
  {
   "cell_type": "code",
   "execution_count": 54,
   "id": "78fc0fd3",
   "metadata": {},
   "outputs": [
    {
     "name": "stderr",
     "output_type": "stream",
     "text": [
      "INFO:aiogram:Bot: Cloudy [@very_cloudy_bot]\n",
      "WARNING:aiogram:Updates were skipped successfully.\n",
      "INFO:aiogram.dispatcher.dispatcher:Start polling.\n",
      "ERROR:aiogram.dispatcher.dispatcher:Cause exception while getting updates.\n",
      "Traceback (most recent call last):\n",
      "  File \"C:\\Users\\Klim\\AppData\\Roaming\\Python\\Python39\\site-packages\\aiogram\\bot\\api.py\", line 139, in make_request\n",
      "    async with session.post(url, data=req, **kwargs) as response:\n",
      "  File \"C:\\ProgramData\\Anaconda3\\lib\\site-packages\\aiohttp\\client.py\", line 1138, in __aenter__\n",
      "    self._resp = await self._coro\n",
      "  File \"C:\\ProgramData\\Anaconda3\\lib\\site-packages\\aiohttp\\client.py\", line 559, in _request\n",
      "    await resp.start(conn)\n",
      "  File \"C:\\ProgramData\\Anaconda3\\lib\\site-packages\\aiohttp\\client_reqrep.py\", line 898, in start\n",
      "    message, payload = await protocol.read()  # type: ignore[union-attr]\n",
      "  File \"C:\\ProgramData\\Anaconda3\\lib\\site-packages\\aiohttp\\streams.py\", line 616, in read\n",
      "    await self._waiter\n",
      "  File \"C:\\ProgramData\\Anaconda3\\lib\\asyncio\\futures.py\", line 284, in __await__\n",
      "    yield self  # This tells Task to wait for completion.\n",
      "  File \"C:\\ProgramData\\Anaconda3\\lib\\asyncio\\tasks.py\", line 328, in __wakeup\n",
      "    future.result()\n",
      "  File \"C:\\ProgramData\\Anaconda3\\lib\\asyncio\\futures.py\", line 201, in result\n",
      "    raise self._exception\n",
      "aiohttp.client_exceptions.ClientOSError: [Errno 1] [SSL: APPLICATION_DATA_AFTER_CLOSE_NOTIFY] application data after close notify (_ssl.c:2756)\n",
      "\n",
      "During handling of the above exception, another exception occurred:\n",
      "\n",
      "Traceback (most recent call last):\n",
      "  File \"C:\\Users\\Klim\\AppData\\Roaming\\Python\\Python39\\site-packages\\aiogram\\dispatcher\\dispatcher.py\", line 381, in start_polling\n",
      "    updates = await self.bot.get_updates(\n",
      "  File \"C:\\Users\\Klim\\AppData\\Roaming\\Python\\Python39\\site-packages\\aiogram\\bot\\bot.py\", line 110, in get_updates\n",
      "    result = await self.request(api.Methods.GET_UPDATES, payload)\n",
      "  File \"C:\\Users\\Klim\\AppData\\Roaming\\Python\\Python39\\site-packages\\aiogram\\bot\\base.py\", line 236, in request\n",
      "    return await api.make_request(await self.get_session(), self.server, self.__token, method, data, files,\n",
      "  File \"C:\\Users\\Klim\\AppData\\Roaming\\Python\\Python39\\site-packages\\aiogram\\bot\\api.py\", line 142, in make_request\n",
      "    raise exceptions.NetworkError(f\"aiohttp client throws an error: {e.__class__.__name__}: {e}\")\n",
      "aiogram.utils.exceptions.NetworkError: Aiohttp client throws an error: ClientOSError: [Errno 1] [SSL: APPLICATION_DATA_AFTER_CLOSE_NOTIFY] application data after close notify (_ssl.c:2756)\n",
      "WARNING:aiogram.dispatcher.dispatcher:Polling is stopped.\n",
      "INFO:aiogram.dispatcher.dispatcher:Stop polling...\n",
      "WARNING:aiogram:Goodbye!\n"
     ]
    }
   ],
   "source": [
    "nest_asyncio.apply()\n",
    "\n",
    "logging.basicConfig(level=logging.INFO)\n",
    "\n",
    "bot = Bot(token='5930567047:AAFUeBgC1hDCaay14Sr47NjdBU8ZLkNQta0')\n",
    "dp = Dispatcher(bot)\n",
    "\n",
    "@dp.message_handler(commands=['start'])\n",
    "async def start(message: types.Message):\n",
    "    poll_keyboard = types.ReplyKeyboardMarkup(resize_keyboard=True)\n",
    "    poll_keyboard.add(types.KeyboardButton(text='Для канала/чата'))\n",
    "    poll_keyboard.add(types.KeyboardButton(text='Для текста'))\n",
    "    poll_keyboard.add(types.KeyboardButton(text='Для файла'))\n",
    "    poll_keyboard.add(types.KeyboardButton(text='Не надо облаков'))\n",
    "    await message.reply('Привет. Я делаю облака.\\nКакое облако ты хочешь?', reply_markup=poll_keyboard)\n",
    "    \n",
    "\n",
    "@dp.message_handler(lambda message: message.text == 'Отмена')\n",
    "async def action_cancel(message: types.Message):\n",
    "    remove_keyboard = types.ReplyKeyboardRemove()\n",
    "    await message.answer('Хорошо. Нажми /start, чтобы начать заново.', reply_markup=remove_keyboard)\n",
    "    \n",
    "@dp.message_handler()\n",
    "async def echo(message: types.Message):\n",
    "    await message.answer(message.text)\n",
    "\n",
    "if __name__ == '__main__':\n",
    "    executor.start_polling(dp, skip_updates=True)"
   ]
  },
  {
   "cell_type": "code",
   "execution_count": 10,
   "id": "66714853",
   "metadata": {},
   "outputs": [],
   "source": [
    "@dp.message_handler(commands=[\"start\"])\n",
    "async def cmd_start(message: types.Message):\n",
    "    poll_keyboard = types.ReplyKeyboardMarkup(resize_keyboard=True)\n",
    "    poll_keyboard.add(types.KeyboardButton(text=\"Создать викторину\",\n",
    "                                           request_poll=types.KeyboardButtonPollType(type=types.PollType.QUIZ)))\n",
    "    poll_keyboard.add(types.KeyboardButton(text=\"Отмена\"))\n",
    "    await message.answer(\"Нажмите на кнопку ниже и создайте викторину!\", reply_markup=poll_keyboard)\n",
    "\n",
    "# Хэндлер на текстовое сообщение с текстом “Отмена”\n",
    "@dp.message_handler(lambda message: message.text == \"Отмена\")\n",
    "async def action_cancel(message: types.Message):\n",
    "    remove_keyboard = types.ReplyKeyboardRemove()\n",
    "    await message.answer(\"Действие отменено. Введите /start, чтобы начать заново.\", reply_markup=remove_keyboard)"
   ]
  },
  {
   "cell_type": "code",
   "execution_count": null,
   "id": "9c0b3cc6",
   "metadata": {},
   "outputs": [],
   "source": []
  }
 ],
 "metadata": {
  "kernelspec": {
   "display_name": "Python 3 (ipykernel)",
   "language": "python",
   "name": "python3"
  },
  "language_info": {
   "codemirror_mode": {
    "name": "ipython",
    "version": 3
   },
   "file_extension": ".py",
   "mimetype": "text/x-python",
   "name": "python",
   "nbconvert_exporter": "python",
   "pygments_lexer": "ipython3",
   "version": "3.9.12"
  }
 },
 "nbformat": 4,
 "nbformat_minor": 5
}
