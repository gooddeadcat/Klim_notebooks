{
 "cells": [
  {
   "cell_type": "code",
   "execution_count": null,
   "id": "eae57ff4",
   "metadata": {},
   "outputs": [],
   "source": [
    "#pip install nest_asyncio"
   ]
  },
  {
   "cell_type": "code",
   "execution_count": 6,
   "id": "68c33329",
   "metadata": {},
   "outputs": [
    {
     "name": "stdout",
     "output_type": "stream",
     "text": [
      "Note: you may need to restart the kernel to use updated packages.\n"
     ]
    },
    {
     "name": "stderr",
     "output_type": "stream",
     "text": [
      "\n",
      "Usage:   \n",
      "  C:\\ProgramData\\Anaconda3\\python.exe -m pip uninstall [options] <package> ...\n",
      "  C:\\ProgramData\\Anaconda3\\python.exe -m pip uninstall [options] -r <requirements file> ...\n",
      "\n",
      "no such option: -U\n"
     ]
    }
   ],
   "source": [
    "pip uninstall -U --pre aiogram"
   ]
  },
  {
   "cell_type": "code",
   "execution_count": 1,
   "id": "33cdfea8",
   "metadata": {},
   "outputs": [
    {
     "name": "stdout",
     "output_type": "stream",
     "text": [
      "^C\n",
      "Note: you may need to restart the kernel to use updated packages.\n"
     ]
    }
   ],
   "source": [
    "pip uninstall aiogram"
   ]
  },
  {
   "cell_type": "code",
   "execution_count": 7,
   "id": "42afb80c",
   "metadata": {},
   "outputs": [
    {
     "name": "stdout",
     "output_type": "stream",
     "text": [
      "Note: you may need to restart the kernel to use updated packages.\n"
     ]
    },
    {
     "name": "stderr",
     "output_type": "stream",
     "text": [
      "\n",
      "Usage:   \n",
      "  C:\\ProgramData\\Anaconda3\\python.exe -m pip uninstall [options] <package> ...\n",
      "  C:\\ProgramData\\Anaconda3\\python.exe -m pip uninstall [options] -r <requirements file> ...\n",
      "\n",
      "no such option: -U\n"
     ]
    }
   ],
   "source": [
    "pip install -U aiogram"
   ]
  },
  {
   "cell_type": "markdown",
   "id": "2372ce98",
   "metadata": {},
   "source": [
    "http://t.me/very_cloudy_bot\n",
    "\n",
    "'5930567047:AAFUeBgC1hDCaay14Sr47NjdBU8ZLkNQta0'"
   ]
  },
  {
   "cell_type": "code",
   "execution_count": 1,
   "id": "8a659bc7",
   "metadata": {},
   "outputs": [],
   "source": [
    "import nest_asyncio\n",
    "import logging\n",
    "from aiogram import Bot, Dispatcher, types, filters, Router, handlers"
   ]
  },
  {
   "cell_type": "code",
   "execution_count": 17,
   "id": "3a4ade61",
   "metadata": {},
   "outputs": [],
   "source": [
    "import aiogram"
   ]
  },
  {
   "cell_type": "code",
   "execution_count": 36,
   "id": "4ec8b7c0",
   "metadata": {},
   "outputs": [
    {
     "ename": "ImportError",
     "evalue": "cannot import name 'Router' from 'aiogram' (C:\\Users\\Klim\\anaconda3\\lib\\site-packages\\aiogram\\__init__.py)",
     "output_type": "error",
     "traceback": [
      "\u001b[1;31m---------------------------------------------------------------------------\u001b[0m",
      "\u001b[1;31mImportError\u001b[0m                               Traceback (most recent call last)",
      "\u001b[1;32m<ipython-input-36-292d0aff66b2>\u001b[0m in \u001b[0;36m<module>\u001b[1;34m\u001b[0m\n\u001b[1;32m----> 1\u001b[1;33m \u001b[1;32mfrom\u001b[0m \u001b[0maiogram\u001b[0m \u001b[1;32mimport\u001b[0m \u001b[0mRouter\u001b[0m\u001b[1;33m\u001b[0m\u001b[1;33m\u001b[0m\u001b[0m\n\u001b[0m",
      "\u001b[1;31mImportError\u001b[0m: cannot import name 'Router' from 'aiogram' (C:\\Users\\Klim\\anaconda3\\lib\\site-packages\\aiogram\\__init__.py)"
     ]
    }
   ],
   "source": [
    "from aiogram import Router"
   ]
  },
  {
   "cell_type": "code",
   "execution_count": 9,
   "id": "723b9512",
   "metadata": {},
   "outputs": [
    {
     "ename": "ModuleNotFoundError",
     "evalue": "No module named 'aiogram.filters'",
     "output_type": "error",
     "traceback": [
      "\u001b[1;31m---------------------------------------------------------------------------\u001b[0m",
      "\u001b[1;31mModuleNotFoundError\u001b[0m                       Traceback (most recent call last)",
      "\u001b[1;32m<ipython-input-9-d8ea4d703d24>\u001b[0m in \u001b[0;36m<module>\u001b[1;34m\u001b[0m\n\u001b[1;32m----> 1\u001b[1;33m \u001b[1;32mfrom\u001b[0m \u001b[0maiogram\u001b[0m\u001b[1;33m.\u001b[0m\u001b[0mfilters\u001b[0m \u001b[1;32mimport\u001b[0m \u001b[0mContentTypeFilter\u001b[0m\u001b[1;33m\u001b[0m\u001b[1;33m\u001b[0m\u001b[0m\n\u001b[0m",
      "\u001b[1;31mModuleNotFoundError\u001b[0m: No module named 'aiogram.filters'"
     ]
    }
   ],
   "source": [
    "from aiogram import\n",
    "from aiogram.filters import ContentTypeFilter"
   ]
  },
  {
   "cell_type": "code",
   "execution_count": 22,
   "id": "b89acb95",
   "metadata": {},
   "outputs": [
    {
     "name": "stdout",
     "output_type": "stream",
     "text": [
      "Object `message.document()` not found.\n"
     ]
    }
   ],
   "source": [
    "?message.document()"
   ]
  },
  {
   "cell_type": "code",
   "execution_count": 5,
   "id": "78fc0fd3",
   "metadata": {
    "scrolled": true
   },
   "outputs": [
    {
     "ename": "TypeError",
     "evalue": "__call__() got an unexpected keyword argument 'commands'",
     "output_type": "error",
     "traceback": [
      "\u001b[1;31m---------------------------------------------------------------------------\u001b[0m",
      "\u001b[1;31mTypeError\u001b[0m                                 Traceback (most recent call last)",
      "Input \u001b[1;32mIn [5]\u001b[0m, in \u001b[0;36m<cell line: 8>\u001b[1;34m()\u001b[0m\n\u001b[0;32m      5\u001b[0m bot \u001b[38;5;241m=\u001b[39m Bot(token\u001b[38;5;241m=\u001b[39m\u001b[38;5;124m'\u001b[39m\u001b[38;5;124m5930567047:AAFUeBgC1hDCaay14Sr47NjdBU8ZLkNQta0\u001b[39m\u001b[38;5;124m'\u001b[39m)\n\u001b[0;32m      6\u001b[0m dp \u001b[38;5;241m=\u001b[39m Dispatcher()\n\u001b[1;32m----> 8\u001b[0m \u001b[38;5;129m@dp\u001b[39m\u001b[38;5;241;43m.\u001b[39;49m\u001b[43mmessage\u001b[49m\u001b[43m(\u001b[49m\u001b[43mcommands\u001b[49m\u001b[38;5;241;43m=\u001b[39;49m\u001b[43m[\u001b[49m\u001b[38;5;124;43m'\u001b[39;49m\u001b[38;5;124;43mstart\u001b[39;49m\u001b[38;5;124;43m'\u001b[39;49m\u001b[43m]\u001b[49m\u001b[43m)\u001b[49m\n\u001b[0;32m      9\u001b[0m \u001b[38;5;28;01masync\u001b[39;00m \u001b[38;5;28;01mdef\u001b[39;00m \u001b[38;5;21mstart\u001b[39m(message: types\u001b[38;5;241m.\u001b[39mMessage):\n\u001b[0;32m     10\u001b[0m     poll_keyboard \u001b[38;5;241m=\u001b[39m types\u001b[38;5;241m.\u001b[39mReplyKeyboardMarkup(resize_keyboard\u001b[38;5;241m=\u001b[39m\u001b[38;5;28;01mTrue\u001b[39;00m)\n\u001b[0;32m     11\u001b[0m     poll_keyboard\u001b[38;5;241m.\u001b[39madd(types\u001b[38;5;241m.\u001b[39mKeyboardButton(text\u001b[38;5;241m=\u001b[39m\u001b[38;5;124m'\u001b[39m\u001b[38;5;124mДля канала/чата (только Telegram Desktop)\u001b[39m\u001b[38;5;124m'\u001b[39m))\n",
      "\u001b[1;31mTypeError\u001b[0m: __call__() got an unexpected keyword argument 'commands'"
     ]
    }
   ],
   "source": [
    "nest_asyncio.apply()\n",
    "\n",
    "logging.basicConfig(level=logging.INFO)\n",
    "\n",
    "bot = Bot(token='5930567047:AAFUeBgC1hDCaay14Sr47NjdBU8ZLkNQta0')\n",
    "dp = Dispatcher()\n",
    "\n",
    "@dp.message(commands=['start'])\n",
    "async def start(message: types.Message):\n",
    "    poll_keyboard = types.ReplyKeyboardMarkup(resize_keyboard=True)\n",
    "    poll_keyboard.add(types.KeyboardButton(text='Для канала/чата (только Telegram Desktop)'))\n",
    "    poll_keyboard.add(types.KeyboardButton(text='Для текста'))\n",
    "    poll_keyboard.add(types.KeyboardButton(text='Для файла'))\n",
    "    poll_keyboard.add(types.KeyboardButton(text='Не надо облаков'))\n",
    "    await message.reply('Привет. Я делаю облака.\\nКакое облако Вы хотите?', reply_markup=poll_keyboard)\n",
    "    \n",
    "channel = Router()\n",
    "\n",
    "@channel.message(lambda message: message.text == 'Для канала/чата (только Telegram Desktop)')\n",
    "async def action_channel(message: types.Message):\n",
    "    remove_keyboard = types.ReplyKeyboardRemove()\n",
    "    await message.answer('Экспортируйте историю канала/чата в формате JSON и \\\n",
    "                         вставьте сюда.', reply_markup=remove_keyboard)\n",
    "    \n",
    "@channel.message(content_types=['document'])\n",
    "async def action_input(message: types.Message):\n",
    "    await message.document.download('get.json')\n",
    "    \n",
    "@dp.message(lambda message: message.text == 'Не надо облаков')\n",
    "async def action_cancel(message: types.Message):\n",
    "    remove_keyboard = types.ReplyKeyboardRemove()\n",
    "    await message.answer_sticker(r'CAACAgUAAxkBAAEGkt1jg2K6nuH6mZF93ScXx41R-nsZugAC0wUAAqMFQQdD_GHqUCw4PisE')\n",
    "    await message.answer('Хорошо. Нажмите /start, когда будет надо.', reply_markup=remove_keyboard)\n",
    "    \n",
    "@dp.message()\n",
    "async def echo(message: types.Message):\n",
    "    await message.answer(message.text)\n",
    "\n",
    "if __name__ == '__main__':\n",
    "    executor.start_polling(dp, skip_updates=True)"
   ]
  },
  {
   "cell_type": "code",
   "execution_count": 29,
   "id": "459e1f52",
   "metadata": {},
   "outputs": [
    {
     "data": {
      "text/plain": [
       "''"
      ]
     },
     "execution_count": 29,
     "metadata": {},
     "output_type": "execute_result"
    },
    {
     "name": "stderr",
     "output_type": "stream",
     "text": [
      "ERROR:aiogram.dispatcher.dispatcher:Cause exception while getting updates.\n",
      "Traceback (most recent call last):\n",
      "  File \"C:\\Users\\Klim\\anaconda3\\lib\\site-packages\\aiogram\\bot\\api.py\", line 139, in make_request\n",
      "    async with session.post(url, data=req, **kwargs) as response:\n",
      "  File \"C:\\Users\\Klim\\anaconda3\\lib\\site-packages\\aiohttp\\client.py\", line 1141, in __aenter__\n",
      "    self._resp = await self._coro\n",
      "  File \"C:\\Users\\Klim\\anaconda3\\lib\\site-packages\\aiohttp\\client.py\", line 560, in _request\n",
      "    await resp.start(conn)\n",
      "  File \"C:\\Users\\Klim\\anaconda3\\lib\\site-packages\\aiohttp\\client_reqrep.py\", line 899, in start\n",
      "    message, payload = await protocol.read()  # type: ignore[union-attr]\n",
      "  File \"C:\\Users\\Klim\\anaconda3\\lib\\site-packages\\aiohttp\\streams.py\", line 616, in read\n",
      "    await self._waiter\n",
      "  File \"C:\\Users\\Klim\\anaconda3\\lib\\asyncio\\futures.py\", line 260, in __await__\n",
      "    yield self  # This tells Task to wait for completion.\n",
      "  File \"C:\\Users\\Klim\\anaconda3\\lib\\asyncio\\tasks.py\", line 349, in __wakeup\n",
      "    future.result()\n",
      "  File \"C:\\Users\\Klim\\anaconda3\\lib\\asyncio\\futures.py\", line 178, in result\n",
      "    raise self._exception\n",
      "aiohttp.client_exceptions.ClientOSError: [Errno 1] [SSL: APPLICATION_DATA_AFTER_CLOSE_NOTIFY] application data after close notify (_ssl.c:2747)\n",
      "\n",
      "During handling of the above exception, another exception occurred:\n",
      "\n",
      "Traceback (most recent call last):\n",
      "  File \"C:\\Users\\Klim\\anaconda3\\lib\\site-packages\\aiogram\\dispatcher\\dispatcher.py\", line 381, in start_polling\n",
      "    updates = await self.bot.get_updates(\n",
      "  File \"C:\\Users\\Klim\\anaconda3\\lib\\site-packages\\aiogram\\bot\\bot.py\", line 110, in get_updates\n",
      "    result = await self.request(api.Methods.GET_UPDATES, payload)\n",
      "  File \"C:\\Users\\Klim\\anaconda3\\lib\\site-packages\\aiogram\\bot\\base.py\", line 236, in request\n",
      "    return await api.make_request(await self.get_session(), self.server, self.__token, method, data, files,\n",
      "  File \"C:\\Users\\Klim\\anaconda3\\lib\\site-packages\\aiogram\\bot\\api.py\", line 142, in make_request\n",
      "    raise exceptions.NetworkError(f\"aiohttp client throws an error: {e.__class__.__name__}: {e}\")\n",
      "aiogram.utils.exceptions.NetworkError: Aiohttp client throws an error: ClientOSError: [Errno 1] [SSL: APPLICATION_DATA_AFTER_CLOSE_NOTIFY] application data after close notify (_ssl.c:2747)\n",
      "WARNING:aiogram.dispatcher.dispatcher:Polling is stopped.\n"
     ]
    }
   ],
   "source": [
    "inp"
   ]
  },
  {
   "cell_type": "code",
   "execution_count": 10,
   "id": "66714853",
   "metadata": {},
   "outputs": [],
   "source": [
    "@dp.message_handler(commands=[\"start\"])\n",
    "async def cmd_start(message: types.Message):\n",
    "    poll_keyboard = types.ReplyKeyboardMarkup(resize_keyboard=True)\n",
    "    poll_keyboard.add(types.KeyboardButton(text=\"Создать викторину\",\n",
    "                                           request_poll=types.KeyboardButtonPollType(type=types.PollType.QUIZ)))\n",
    "    poll_keyboard.add(types.KeyboardButton(text=\"Отмена\"))\n",
    "    await message.answer(\"Нажмите на кнопку ниже и создайте викторину!\", reply_markup=poll_keyboard)\n",
    "\n",
    "# Хэндлер на текстовое сообщение с текстом “Отмена”\n",
    "@dp.message_handler(lambda message: message.text == \"Отмена\")\n",
    "async def action_cancel(message: types.Message):\n",
    "    remove_keyboard = types.ReplyKeyboardRemove()\n",
    "    await message.answer(\"Действие отменено. Введите /start, чтобы начать заново.\", reply_markup=remove_keyboard)"
   ]
  },
  {
   "cell_type": "code",
   "execution_count": null,
   "id": "5d755995",
   "metadata": {},
   "outputs": [],
   "source": []
  }
 ],
 "metadata": {
  "kernelspec": {
   "display_name": "Python 3 (ipykernel)",
   "language": "python",
   "name": "python3"
  },
  "language_info": {
   "codemirror_mode": {
    "name": "ipython",
    "version": 3
   },
   "file_extension": ".py",
   "mimetype": "text/x-python",
   "name": "python",
   "nbconvert_exporter": "python",
   "pygments_lexer": "ipython3",
   "version": "3.9.12"
  }
 },
 "nbformat": 4,
 "nbformat_minor": 5
}
