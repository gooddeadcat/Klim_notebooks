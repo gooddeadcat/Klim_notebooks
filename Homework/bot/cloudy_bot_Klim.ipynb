{
 "cells": [
  {
   "cell_type": "markdown",
   "id": "2372ce98",
   "metadata": {},
   "source": [
    "http://t.me/very_cloudy_bot\n",
    "\n",
    "'5930567047:AAFUeBgC1hDCaay14Sr47NjdBU8ZLkNQta0'"
   ]
  },
  {
   "cell_type": "code",
   "execution_count": null,
   "id": "31b7bb5b",
   "metadata": {},
   "outputs": [],
   "source": [
    "@bot.message_handler(commands=['start'])\n",
    "def send_keyboard(message, text=\"Привет, для чего создать облако?\"):\n",
    "    keyboard = types.ReplyKeyboardMarkup(row_width=2) \n",
    "    itembtn1 = types.KeyboardButton('Для канала или чата')\n",
    "    itembtn2 = types.KeyboardButton('Для файла')\n",
    "    itembtn3 = types.KeyboardButton('Для текста')\n",
    "    itembtn6 = types.KeyboardButton('Создавать облака не надо')\n",
    "    \n",
    "    msg = bot.send_message(message.from_user.id,\n",
    "                     text=text, reply_markup=keyboard)\n",
    "    \n",
    "    bot.register_next_step_handler(msg, callback_worker)"
   ]
  },
  {
   "cell_type": "code",
   "execution_count": 1,
   "id": "b1c6bd2f",
   "metadata": {},
   "outputs": [
    {
     "name": "stdout",
     "output_type": "stream",
     "text": [
      "Requirement already satisfied: nest_asyncio in c:\\users\\klim\\anaconda3\\lib\\site-packages (1.5.1)Note: you may need to restart the kernel to use updated packages.\n",
      "\n"
     ]
    }
   ],
   "source": [
    "pip install nest_asyncio"
   ]
  },
  {
   "cell_type": "code",
   "execution_count": 2,
   "id": "126126c9",
   "metadata": {},
   "outputs": [
    {
     "name": "stdout",
     "output_type": "stream",
     "text": [
      "Collecting aiogramNote: you may need to restart the kernel to use updated packages.\n"
     ]
    },
    {
     "name": "stderr",
     "output_type": "stream",
     "text": [
      "ERROR: pip's dependency resolver does not currently take into account all the packages that are installed. This behaviour is the source of the following dependency conflicts.\n",
      "conda-repo-cli 1.0.4 requires pathlib, which is not installed.\n",
      "anaconda-project 0.9.1 requires ruamel-yaml, which is not installed.\n"
     ]
    },
    {
     "name": "stdout",
     "output_type": "stream",
     "text": [
      "\n",
      "  Downloading aiogram-2.23.1-py3-none-any.whl (199 kB)\n",
      "Collecting certifi>=2021.10.8\n",
      "  Downloading certifi-2022.9.24-py3-none-any.whl (161 kB)\n",
      "Collecting magic-filter>=1.0.9\n",
      "  Downloading magic_filter-1.0.9-py3-none-any.whl (9.3 kB)\n",
      "Collecting aiohttp<3.9.0,>=3.8.0\n",
      "  Downloading aiohttp-3.8.3-cp38-cp38-win_amd64.whl (324 kB)\n",
      "Collecting Babel<2.10.0,>=2.9.1\n",
      "  Downloading Babel-2.9.1-py2.py3-none-any.whl (8.8 MB)\n",
      "Collecting aiosignal>=1.1.2\n",
      "  Downloading aiosignal-1.3.1-py3-none-any.whl (7.6 kB)\n",
      "Collecting frozenlist>=1.1.1\n",
      "  Downloading frozenlist-1.3.3-cp38-cp38-win_amd64.whl (34 kB)\n",
      "Collecting yarl<2.0,>=1.0\n",
      "  Downloading yarl-1.8.1-cp38-cp38-win_amd64.whl (56 kB)\n",
      "Requirement already satisfied: attrs>=17.3.0 in c:\\users\\klim\\anaconda3\\lib\\site-packages (from aiohttp<3.9.0,>=3.8.0->aiogram) (20.3.0)\n",
      "Collecting charset-normalizer<3.0,>=2.0\n",
      "  Downloading charset_normalizer-2.1.1-py3-none-any.whl (39 kB)\n",
      "Collecting multidict<7.0,>=4.5\n",
      "  Downloading multidict-6.0.2-cp38-cp38-win_amd64.whl (28 kB)\n",
      "Collecting async-timeout<5.0,>=4.0.0a3\n",
      "  Downloading async_timeout-4.0.2-py3-none-any.whl (5.8 kB)\n",
      "Requirement already satisfied: pytz>=2015.7 in c:\\users\\klim\\anaconda3\\lib\\site-packages (from Babel<2.10.0,>=2.9.1->aiogram) (2021.1)\n",
      "Requirement already satisfied: idna>=2.0 in c:\\users\\klim\\anaconda3\\lib\\site-packages (from yarl<2.0,>=1.0->aiohttp<3.9.0,>=3.8.0->aiogram) (2.10)\n",
      "Installing collected packages: multidict, frozenlist, yarl, charset-normalizer, async-timeout, aiosignal, magic-filter, certifi, Babel, aiohttp, aiogram\n",
      "  Attempting uninstall: certifi\n",
      "    Found existing installation: certifi 2020.12.5\n",
      "    Uninstalling certifi-2020.12.5:\n",
      "      Successfully uninstalled certifi-2020.12.5\n",
      "  Attempting uninstall: Babel\n",
      "    Found existing installation: Babel 2.9.0\n",
      "    Uninstalling Babel-2.9.0:\n",
      "      Successfully uninstalled Babel-2.9.0\n",
      "Successfully installed Babel-2.9.1 aiogram-2.23.1 aiohttp-3.8.3 aiosignal-1.3.1 async-timeout-4.0.2 certifi-2022.9.24 charset-normalizer-2.1.1 frozenlist-1.3.3 magic-filter-1.0.9 multidict-6.0.2 yarl-1.8.1\n"
     ]
    }
   ],
   "source": [
    "pip install -U aiogram"
   ]
  },
  {
   "cell_type": "code",
   "execution_count": 3,
   "id": "8a659bc7",
   "metadata": {},
   "outputs": [],
   "source": [
    "import nest_asyncio\n",
    "import logging\n",
    "from aiogram import Bot, Dispatcher, executor, types"
   ]
  },
  {
   "cell_type": "code",
   "execution_count": 4,
   "id": "78fc0fd3",
   "metadata": {},
   "outputs": [
    {
     "name": "stderr",
     "output_type": "stream",
     "text": [
      "INFO:aiogram:Bot: Cloudy [@very_cloudy_bot]\n",
      "WARNING:aiogram:Updates were skipped successfully.\n",
      "INFO:aiogram.dispatcher.dispatcher:Start polling.\n",
      "INFO:aiogram.dispatcher.dispatcher:Stop polling...\n",
      "WARNING:aiogram:Goodbye!\n"
     ]
    }
   ],
   "source": [
    "nest_asyncio.apply()\n",
    "\n",
    "logging.basicConfig(level=logging.INFO)\n",
    "\n",
    "bot = Bot(token='5930567047:AAFUeBgC1hDCaay14Sr47NjdBU8ZLkNQta0')\n",
    "dp = Dispatcher(bot)\n",
    "\n",
    "@dp.message_handler(commands=['start'])\n",
    "async def start(message: types.Message):\n",
    "    poll_keyboard = types.ReplyKeyboardMarkup(resize_keyboard=True)\n",
    "    poll_keyboard.add(types.KeyboardButton(text='Для канала/чата'))\n",
    "    poll_keyboard.add(types.KeyboardButton(text='Для текста'))\n",
    "    poll_keyboard.add(types.KeyboardButton(text='Для файла'))\n",
    "    poll_keyboard.add(types.KeyboardButton(text='Не надо облаков'))\n",
    "    await message.reply('Привет. Я делаю облака.\\nКакое облако ты хочешь?', reply_markup=poll_keyboard)\n",
    "    \n",
    "\n",
    "@dp.message_handler(lambda message: message.text == 'Отмена')\n",
    "async def action_cancel(message: types.Message):\n",
    "    remove_keyboard = types.ReplyKeyboardRemove()\n",
    "    await message.answer('Хорошо. Нажми /start, чтобы начать заново.', reply_markup=remove_keyboard)\n",
    "    \n",
    "@dp.message_handler()\n",
    "async def echo(message: types.Message):\n",
    "    await message.answer(message.text)\n",
    "\n",
    "if __name__ == '__main__':\n",
    "    executor.start_polling(dp, skip_updates=True)"
   ]
  },
  {
   "cell_type": "code",
   "execution_count": 10,
   "id": "66714853",
   "metadata": {},
   "outputs": [],
   "source": [
    "@dp.message_handler(commands=[\"start\"])\n",
    "async def cmd_start(message: types.Message):\n",
    "    poll_keyboard = types.ReplyKeyboardMarkup(resize_keyboard=True)\n",
    "    poll_keyboard.add(types.KeyboardButton(text=\"Создать викторину\",\n",
    "                                           request_poll=types.KeyboardButtonPollType(type=types.PollType.QUIZ)))\n",
    "    poll_keyboard.add(types.KeyboardButton(text=\"Отмена\"))\n",
    "    await message.answer(\"Нажмите на кнопку ниже и создайте викторину!\", reply_markup=poll_keyboard)\n",
    "\n",
    "# Хэндлер на текстовое сообщение с текстом “Отмена”\n",
    "@dp.message_handler(lambda message: message.text == \"Отмена\")\n",
    "async def action_cancel(message: types.Message):\n",
    "    remove_keyboard = types.ReplyKeyboardRemove()\n",
    "    await message.answer(\"Действие отменено. Введите /start, чтобы начать заново.\", reply_markup=remove_keyboard)"
   ]
  },
  {
   "cell_type": "code",
   "execution_count": null,
   "id": "9c0b3cc6",
   "metadata": {},
   "outputs": [],
   "source": []
  }
 ],
 "metadata": {
  "kernelspec": {
   "display_name": "Python 3",
   "language": "python",
   "name": "python3"
  },
  "language_info": {
   "codemirror_mode": {
    "name": "ipython",
    "version": 3
   },
   "file_extension": ".py",
   "mimetype": "text/x-python",
   "name": "python",
   "nbconvert_exporter": "python",
   "pygments_lexer": "ipython3",
   "version": "3.8.8"
  }
 },
 "nbformat": 4,
 "nbformat_minor": 5
}
