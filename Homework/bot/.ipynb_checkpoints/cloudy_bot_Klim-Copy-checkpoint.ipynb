{
 "cells": [
  {
   "cell_type": "code",
   "execution_count": 6,
   "id": "68c33329",
   "metadata": {},
   "outputs": [
    {
     "name": "stdout",
     "output_type": "stream",
     "text": [
      "Note: you may need to restart the kernel to use updated packages.\n"
     ]
    },
    {
     "name": "stderr",
     "output_type": "stream",
     "text": [
      "\n",
      "Usage:   \n",
      "  C:\\ProgramData\\Anaconda3\\python.exe -m pip uninstall [options] <package> ...\n",
      "  C:\\ProgramData\\Anaconda3\\python.exe -m pip uninstall [options] -r <requirements file> ...\n",
      "\n",
      "no such option: -U\n"
     ]
    }
   ],
   "source": [
    "# Инсталлируем бету третьей версии aiogram. Она несовместима со второй, так что будьте осторожны.\n",
    "pip install -U --pre aiogram"
   ]
  },
  {
   "cell_type": "code",
   "execution_count": null,
   "id": "e1b3591e",
   "metadata": {},
   "outputs": [],
   "source": [
    "# Устанавливаем эту либу, чтобы развести циклы (event loops) aiogram и jupyter.\n",
    "pip install nest_asyncio"
   ]
  },
  {
   "cell_type": "code",
   "execution_count": 5,
   "id": "42afb80c",
   "metadata": {},
   "outputs": [
    {
     "name": "stdout",
     "output_type": "stream",
     "text": [
      "Defaulting to user installation because normal site-packages is not writeable\n",
      "Collecting https://github.com/aiogram/aiogram/archive/refs/heads/dev-3.x.zip\n",
      "  Downloading https://github.com/aiogram/aiogram/archive/refs/heads/dev-3.x.zip\n",
      "  Installing build dependencies: started\n",
      "  Installing build dependencies: finished with status 'done'\n",
      "  Getting requirements to build wheel: started\n",
      "  Getting requirements to build wheel: finished with status 'done'\n",
      "    Preparing wheel metadata: started\n",
      "    Preparing wheel metadata: finished with status 'done'\n",
      "Requirement already satisfied: certifi<2023.0.0,>=2022.9.24 in c:\\users\\klim\\appdata\\roaming\\python\\python39\\site-packages (from aiogram==3.0.0b7) (2022.9.24)\n",
      "Requirement already satisfied: aiohttp<4.0.0,>=3.8.3 in c:\\users\\klim\\appdata\\roaming\\python\\python39\\site-packages (from aiogram==3.0.0b7) (3.8.3)\n",
      "Requirement already satisfied: pydantic<2.0.0,>=1.10.2 in c:\\users\\klim\\appdata\\roaming\\python\\python39\\site-packages (from aiogram==3.0.0b7) (1.10.2)\n",
      "Requirement already satisfied: magic-filter<2.0.0,>=1.0.9 in c:\\users\\klim\\appdata\\roaming\\python\\python39\\site-packages (from aiogram==3.0.0b7) (1.0.9)\n",
      "Requirement already satisfied: aiofiles<23.0.0,>=22.1.0 in c:\\users\\klim\\appdata\\roaming\\python\\python39\\site-packages (from aiogram==3.0.0b7) (22.1.0)\n",
      "Requirement already satisfied: frozenlist>=1.1.1 in c:\\programdata\\anaconda3\\lib\\site-packages (from aiohttp<4.0.0,>=3.8.3->aiogram==3.0.0b7) (1.2.0)\n",
      "Requirement already satisfied: multidict<7.0,>=4.5 in c:\\programdata\\anaconda3\\lib\\site-packages (from aiohttp<4.0.0,>=3.8.3->aiogram==3.0.0b7) (5.1.0)\n",
      "Requirement already satisfied: aiosignal>=1.1.2 in c:\\programdata\\anaconda3\\lib\\site-packages (from aiohttp<4.0.0,>=3.8.3->aiogram==3.0.0b7) (1.2.0)\n",
      "Requirement already satisfied: yarl<2.0,>=1.0 in c:\\programdata\\anaconda3\\lib\\site-packages (from aiohttp<4.0.0,>=3.8.3->aiogram==3.0.0b7) (1.6.3)\n",
      "Requirement already satisfied: charset-normalizer<3.0,>=2.0 in c:\\programdata\\anaconda3\\lib\\site-packages (from aiohttp<4.0.0,>=3.8.3->aiogram==3.0.0b7) (2.0.4)\n",
      "Requirement already satisfied: attrs>=17.3.0 in c:\\programdata\\anaconda3\\lib\\site-packages (from aiohttp<4.0.0,>=3.8.3->aiogram==3.0.0b7) (21.4.0)\n",
      "Requirement already satisfied: async-timeout<5.0,>=4.0.0a3 in c:\\programdata\\anaconda3\\lib\\site-packages (from aiohttp<4.0.0,>=3.8.3->aiogram==3.0.0b7) (4.0.1)\n",
      "Requirement already satisfied: typing-extensions>=3.6.5 in c:\\programdata\\anaconda3\\lib\\site-packages (from async-timeout<5.0,>=4.0.0a3->aiohttp<4.0.0,>=3.8.3->aiogram==3.0.0b7) (4.1.1)\n",
      "Requirement already satisfied: idna>=2.0 in c:\\programdata\\anaconda3\\lib\\site-packages (from yarl<2.0,>=1.0->aiohttp<4.0.0,>=3.8.3->aiogram==3.0.0b7) (3.3)\n",
      "Building wheels for collected packages: aiogram\n",
      "  Building wheel for aiogram (PEP 517): started\n",
      "  Building wheel for aiogram (PEP 517): finished with status 'done'\n",
      "  Created wheel for aiogram: filename=aiogram-3.0.0b7-py3-none-any.whl size=327674 sha256=efc3e2d7b9f900a5410deb2bb1f1197b95b54997879a3d988c4e4d57daafb327\n",
      "  Stored in directory: c:\\users\\klim\\appdata\\local\\pip\\cache\\wheels\\c3\\e5\\a7\\eaa61f3a7aca2db4dedea401c7a002d3c56e1172e06db00cec\n",
      "Successfully built aiogram\n",
      "Installing collected packages: aiogram\n",
      "  Attempting uninstall: aiogram\n",
      "    Found existing installation: aiogram 3.0.0b6\n",
      "    Uninstalling aiogram-3.0.0b6:\n",
      "      Successfully uninstalled aiogram-3.0.0b6\n",
      "Successfully installed aiogram-3.0.0b7\n",
      "Note: you may need to restart the kernel to use updated packages.\n"
     ]
    }
   ],
   "source": [
    "pip install https://github.com/aiogram/aiogram/archive/refs/heads/dev-3.x.zip"
   ]
  },
  {
   "cell_type": "markdown",
   "id": "2372ce98",
   "metadata": {},
   "source": [
    "http://t.me/very_cloudy_bot\n",
    "\n",
    "'5930567047:AAFUeBgC1hDCaay14Sr47NjdBU8ZLkNQta0'"
   ]
  },
  {
   "cell_type": "code",
   "execution_count": 14,
   "id": "8a659bc7",
   "metadata": {},
   "outputs": [],
   "source": [
    "import nest_asyncio\n",
    "import logging\n",
    "from aiogram import Bot, Dispatcher, types, filters, Router, handlers, F"
   ]
  },
  {
   "cell_type": "code",
   "execution_count": 18,
   "id": "a9620105",
   "metadata": {},
   "outputs": [],
   "source": [
    "import asyncio"
   ]
  },
  {
   "cell_type": "code",
   "execution_count": 43,
   "id": "3a4ade61",
   "metadata": {},
   "outputs": [],
   "source": [
    "from aiogram.types import ReplyKeyboardMarkup\n",
    "from aiogram.utils.keyboard import ReplyKeyboardBuilder\n",
    "from aiogram.filters.text import Text\n",
    "from aiogram.types import Message, ReplyKeyboardRemove\n",
    "from aiogram.filters import Command"
   ]
  },
  {
   "cell_type": "code",
   "execution_count": 6,
   "id": "4ec8b7c0",
   "metadata": {},
   "outputs": [],
   "source": [
    "from aiogram import F"
   ]
  },
  {
   "cell_type": "code",
   "execution_count": 9,
   "id": "723b9512",
   "metadata": {},
   "outputs": [
    {
     "ename": "ModuleNotFoundError",
     "evalue": "No module named 'aiogram.filters'",
     "output_type": "error",
     "traceback": [
      "\u001b[1;31m---------------------------------------------------------------------------\u001b[0m",
      "\u001b[1;31mModuleNotFoundError\u001b[0m                       Traceback (most recent call last)",
      "\u001b[1;32m<ipython-input-9-d8ea4d703d24>\u001b[0m in \u001b[0;36m<module>\u001b[1;34m\u001b[0m\n\u001b[1;32m----> 1\u001b[1;33m \u001b[1;32mfrom\u001b[0m \u001b[0maiogram\u001b[0m\u001b[1;33m.\u001b[0m\u001b[0mfilters\u001b[0m \u001b[1;32mimport\u001b[0m \u001b[0mContentTypeFilter\u001b[0m\u001b[1;33m\u001b[0m\u001b[1;33m\u001b[0m\u001b[0m\n\u001b[0m",
      "\u001b[1;31mModuleNotFoundError\u001b[0m: No module named 'aiogram.filters'"
     ]
    }
   ],
   "source": [
    "from aiogram import\n",
    "from aiogram.filters import ContentTypeFilter"
   ]
  },
  {
   "cell_type": "code",
   "execution_count": 22,
   "id": "b89acb95",
   "metadata": {},
   "outputs": [
    {
     "name": "stdout",
     "output_type": "stream",
     "text": [
      "Object `message.document()` not found.\n"
     ]
    }
   ],
   "source": [
    "?message.document()"
   ]
  },
  {
   "cell_type": "code",
   "execution_count": 98,
   "id": "78fc0fd3",
   "metadata": {
    "scrolled": true
   },
   "outputs": [
    {
     "name": "stderr",
     "output_type": "stream",
     "text": [
      "INFO:aiogram.dispatcher:Start polling\n",
      "INFO:aiogram.dispatcher:Run polling for bot @very_cloudy_bot id=5930567047 - 'Cloudy'\n",
      "INFO:aiogram.event:Update id=983441427 is handled. Duration 2282 ms by bot id=5930567047\n",
      "INFO:aiogram.dispatcher:Polling stopped\n"
     ]
    },
    {
     "ename": "KeyboardInterrupt",
     "evalue": "",
     "output_type": "error",
     "traceback": [
      "\u001b[1;31m---------------------------------------------------------------------------\u001b[0m",
      "\u001b[1;31mKeyboardInterrupt\u001b[0m                         Traceback (most recent call last)",
      "Input \u001b[1;32mIn [98]\u001b[0m, in \u001b[0;36m<cell line: 55>\u001b[1;34m()\u001b[0m\n\u001b[0;32m     52\u001b[0m     \u001b[38;5;28;01mawait\u001b[39;00m message\u001b[38;5;241m.\u001b[39manswer(\u001b[38;5;124m'\u001b[39m\u001b[38;5;124mНажмите /start, чтобы начать общаться.\u001b[39m\u001b[38;5;130;01m\\n\u001b[39;00m\u001b[38;5;130;01m\\\u001b[39;00m\n\u001b[0;32m     53\u001b[0m \u001b[38;5;124mНажмите /help, чтобы узнать обо мне.\u001b[39m\u001b[38;5;124m'\u001b[39m, reply_markup\u001b[38;5;241m=\u001b[39mkeyboard)\n\u001b[0;32m     55\u001b[0m \u001b[38;5;28;01mif\u001b[39;00m \u001b[38;5;18m__name__\u001b[39m \u001b[38;5;241m==\u001b[39m \u001b[38;5;124m\"\u001b[39m\u001b[38;5;124m__main__\u001b[39m\u001b[38;5;124m\"\u001b[39m:\n\u001b[1;32m---> 56\u001b[0m     \u001b[43masyncio\u001b[49m\u001b[38;5;241;43m.\u001b[39;49m\u001b[43mrun\u001b[49m\u001b[43m(\u001b[49m\u001b[43mmain\u001b[49m\u001b[43m(\u001b[49m\u001b[43m)\u001b[49m\u001b[43m)\u001b[49m\n",
      "File \u001b[1;32mC:\\ProgramData\\Anaconda3\\lib\\site-packages\\nest_asyncio.py:35\u001b[0m, in \u001b[0;36m_patch_asyncio.<locals>.run\u001b[1;34m(main, debug)\u001b[0m\n\u001b[0;32m     33\u001b[0m task \u001b[38;5;241m=\u001b[39m asyncio\u001b[38;5;241m.\u001b[39mensure_future(main)\n\u001b[0;32m     34\u001b[0m \u001b[38;5;28;01mtry\u001b[39;00m:\n\u001b[1;32m---> 35\u001b[0m     \u001b[38;5;28;01mreturn\u001b[39;00m \u001b[43mloop\u001b[49m\u001b[38;5;241;43m.\u001b[39;49m\u001b[43mrun_until_complete\u001b[49m\u001b[43m(\u001b[49m\u001b[43mtask\u001b[49m\u001b[43m)\u001b[49m\n\u001b[0;32m     36\u001b[0m \u001b[38;5;28;01mfinally\u001b[39;00m:\n\u001b[0;32m     37\u001b[0m     \u001b[38;5;28;01mif\u001b[39;00m \u001b[38;5;129;01mnot\u001b[39;00m task\u001b[38;5;241m.\u001b[39mdone():\n",
      "File \u001b[1;32mC:\\ProgramData\\Anaconda3\\lib\\site-packages\\nest_asyncio.py:83\u001b[0m, in \u001b[0;36m_patch_loop.<locals>.run_until_complete\u001b[1;34m(self, future)\u001b[0m\n\u001b[0;32m     81\u001b[0m     f\u001b[38;5;241m.\u001b[39m_log_destroy_pending \u001b[38;5;241m=\u001b[39m \u001b[38;5;28;01mFalse\u001b[39;00m\n\u001b[0;32m     82\u001b[0m \u001b[38;5;28;01mwhile\u001b[39;00m \u001b[38;5;129;01mnot\u001b[39;00m f\u001b[38;5;241m.\u001b[39mdone():\n\u001b[1;32m---> 83\u001b[0m     \u001b[38;5;28;43mself\u001b[39;49m\u001b[38;5;241;43m.\u001b[39;49m\u001b[43m_run_once\u001b[49m\u001b[43m(\u001b[49m\u001b[43m)\u001b[49m\n\u001b[0;32m     84\u001b[0m     \u001b[38;5;28;01mif\u001b[39;00m \u001b[38;5;28mself\u001b[39m\u001b[38;5;241m.\u001b[39m_stopping:\n\u001b[0;32m     85\u001b[0m         \u001b[38;5;28;01mbreak\u001b[39;00m\n",
      "File \u001b[1;32mC:\\ProgramData\\Anaconda3\\lib\\site-packages\\nest_asyncio.py:106\u001b[0m, in \u001b[0;36m_patch_loop.<locals>._run_once\u001b[1;34m(self)\u001b[0m\n\u001b[0;32m     99\u001b[0m     heappop(scheduled)\n\u001b[0;32m    101\u001b[0m timeout \u001b[38;5;241m=\u001b[39m (\n\u001b[0;32m    102\u001b[0m     \u001b[38;5;241m0\u001b[39m \u001b[38;5;28;01mif\u001b[39;00m ready \u001b[38;5;129;01mor\u001b[39;00m \u001b[38;5;28mself\u001b[39m\u001b[38;5;241m.\u001b[39m_stopping\n\u001b[0;32m    103\u001b[0m     \u001b[38;5;28;01melse\u001b[39;00m \u001b[38;5;28mmin\u001b[39m(\u001b[38;5;28mmax\u001b[39m(\n\u001b[0;32m    104\u001b[0m         scheduled[\u001b[38;5;241m0\u001b[39m]\u001b[38;5;241m.\u001b[39m_when \u001b[38;5;241m-\u001b[39m \u001b[38;5;28mself\u001b[39m\u001b[38;5;241m.\u001b[39mtime(), \u001b[38;5;241m0\u001b[39m), \u001b[38;5;241m86400\u001b[39m) \u001b[38;5;28;01mif\u001b[39;00m scheduled\n\u001b[0;32m    105\u001b[0m     \u001b[38;5;28;01melse\u001b[39;00m \u001b[38;5;28;01mNone\u001b[39;00m)\n\u001b[1;32m--> 106\u001b[0m event_list \u001b[38;5;241m=\u001b[39m \u001b[38;5;28;43mself\u001b[39;49m\u001b[38;5;241;43m.\u001b[39;49m\u001b[43m_selector\u001b[49m\u001b[38;5;241;43m.\u001b[39;49m\u001b[43mselect\u001b[49m\u001b[43m(\u001b[49m\u001b[43mtimeout\u001b[49m\u001b[43m)\u001b[49m\n\u001b[0;32m    107\u001b[0m \u001b[38;5;28mself\u001b[39m\u001b[38;5;241m.\u001b[39m_process_events(event_list)\n\u001b[0;32m    109\u001b[0m end_time \u001b[38;5;241m=\u001b[39m \u001b[38;5;28mself\u001b[39m\u001b[38;5;241m.\u001b[39mtime() \u001b[38;5;241m+\u001b[39m \u001b[38;5;28mself\u001b[39m\u001b[38;5;241m.\u001b[39m_clock_resolution\n",
      "File \u001b[1;32mC:\\ProgramData\\Anaconda3\\lib\\selectors.py:324\u001b[0m, in \u001b[0;36mSelectSelector.select\u001b[1;34m(self, timeout)\u001b[0m\n\u001b[0;32m    322\u001b[0m ready \u001b[38;5;241m=\u001b[39m []\n\u001b[0;32m    323\u001b[0m \u001b[38;5;28;01mtry\u001b[39;00m:\n\u001b[1;32m--> 324\u001b[0m     r, w, _ \u001b[38;5;241m=\u001b[39m \u001b[38;5;28;43mself\u001b[39;49m\u001b[38;5;241;43m.\u001b[39;49m\u001b[43m_select\u001b[49m\u001b[43m(\u001b[49m\u001b[38;5;28;43mself\u001b[39;49m\u001b[38;5;241;43m.\u001b[39;49m\u001b[43m_readers\u001b[49m\u001b[43m,\u001b[49m\u001b[43m \u001b[49m\u001b[38;5;28;43mself\u001b[39;49m\u001b[38;5;241;43m.\u001b[39;49m\u001b[43m_writers\u001b[49m\u001b[43m,\u001b[49m\u001b[43m \u001b[49m\u001b[43m[\u001b[49m\u001b[43m]\u001b[49m\u001b[43m,\u001b[49m\u001b[43m \u001b[49m\u001b[43mtimeout\u001b[49m\u001b[43m)\u001b[49m\n\u001b[0;32m    325\u001b[0m \u001b[38;5;28;01mexcept\u001b[39;00m \u001b[38;5;167;01mInterruptedError\u001b[39;00m:\n\u001b[0;32m    326\u001b[0m     \u001b[38;5;28;01mreturn\u001b[39;00m ready\n",
      "File \u001b[1;32mC:\\ProgramData\\Anaconda3\\lib\\selectors.py:315\u001b[0m, in \u001b[0;36mSelectSelector._select\u001b[1;34m(self, r, w, _, timeout)\u001b[0m\n\u001b[0;32m    314\u001b[0m \u001b[38;5;28;01mdef\u001b[39;00m \u001b[38;5;21m_select\u001b[39m(\u001b[38;5;28mself\u001b[39m, r, w, _, timeout\u001b[38;5;241m=\u001b[39m\u001b[38;5;28;01mNone\u001b[39;00m):\n\u001b[1;32m--> 315\u001b[0m     r, w, x \u001b[38;5;241m=\u001b[39m \u001b[43mselect\u001b[49m\u001b[38;5;241;43m.\u001b[39;49m\u001b[43mselect\u001b[49m\u001b[43m(\u001b[49m\u001b[43mr\u001b[49m\u001b[43m,\u001b[49m\u001b[43m \u001b[49m\u001b[43mw\u001b[49m\u001b[43m,\u001b[49m\u001b[43m \u001b[49m\u001b[43mw\u001b[49m\u001b[43m,\u001b[49m\u001b[43m \u001b[49m\u001b[43mtimeout\u001b[49m\u001b[43m)\u001b[49m\n\u001b[0;32m    316\u001b[0m     \u001b[38;5;28;01mreturn\u001b[39;00m r, w \u001b[38;5;241m+\u001b[39m x, []\n",
      "\u001b[1;31mKeyboardInterrupt\u001b[0m: "
     ]
    }
   ],
   "source": [
    "nest_asyncio.apply()\n",
    "\n",
    "logging.basicConfig(level=logging.INFO)\n",
    "\n",
    "async def main():\n",
    "    bot = Bot(token='5930567047:AAFUeBgC1hDCaay14Sr47NjdBU8ZLkNQta0')\n",
    "    dp = Dispatcher()\n",
    "    dp.include_router(channel)\n",
    "    dp.include_router(highway)\n",
    "    await bot.delete_webhook(drop_pending_updates=True)\n",
    "    await dp.start_polling(bot)\n",
    "\n",
    "highway = Router()\n",
    "\n",
    "@highway.message(Command('start'))\n",
    "async def start(message):\n",
    "    kb = [\n",
    "        [types.KeyboardButton(text='Для канала/чата (только Telegram Desktop)')],\n",
    "        [types.KeyboardButton(text='Для текста')],\n",
    "        [types.KeyboardButton(text='Для файла.txt')],\n",
    "        [types.KeyboardButton(text='Спасибо, не надо облаков.')]\n",
    "    ]\n",
    "    keyboard = types.ReplyKeyboardMarkup(keyboard=kb, resize_keyboard=True, one_time_keyboard=True)\n",
    "    await message.answer_sticker(r'CAACAgUAAxkBAAEGlihjhJzOCae5KywwFe850cZstkjtawACtQUAAqMFQQctHaXKG0pkxysE')\n",
    "    await message.answer('Здравствуйте.\\nМеня зовут Клауди и я делаю облака слов.\\n\\\n",
    "Какое облако Вы хотите?', reply_markup=keyboard)\n",
    "    \n",
    "channel = Router()\n",
    "\n",
    "@channel.message(lambda message: message.text == 'Для канала/чата (только Telegram Desktop)')\n",
    "async def action_channel(message):\n",
    "    await message.answer('Экспортируйте историю канала/чата в формате JSON и \\\n",
    "                         вставьте в сообщение ниже.')\n",
    "    \n",
    "@channel.message(F.content_type.in_({'document'}))\n",
    "async def action_json(message):\n",
    "    await bot.download(message.document, destination=f'C:/Users/Klim/Desktop/Анализ Данных\\\n",
    "/Python/Klim_notebooks/Homework/bot/user_files/{message.document.file_id}.json')\n",
    "    \n",
    "@highway.message(lambda message: message.text == 'Спасибо, не надо облаков.')\n",
    "async def action_cancel(message):\n",
    "    await message.answer_sticker(r'CAACAgUAAxkBAAEGli5jhJ3TB9AIa1XroQQlRAlSvbXrBQAC8QUAAqMFQQeTfXHOdOBBJysE')\n",
    "    await message.answer('Хорошо. Возвращайтесь.')\n",
    "    \n",
    "@highway.message()\n",
    "async def action_echo(message):\n",
    "    kb = [\n",
    "        [types.KeyboardButton(text='/start')],\n",
    "        [types.KeyboardButton(text='/help')]\n",
    "    ]\n",
    "    keyboard = types.ReplyKeyboardMarkup(keyboard=kb, resize_keyboard=True, one_time_keyboard=True)\n",
    "    await message.answer('Нажмите /start, чтобы начать общаться.\\n\\\n",
    "Нажмите /help, чтобы узнать обо мне.', reply_markup=keyboard)\n",
    "\n",
    "if __name__ == \"__main__\":\n",
    "    asyncio.run(main())"
   ]
  },
  {
   "cell_type": "code",
   "execution_count": 29,
   "id": "459e1f52",
   "metadata": {},
   "outputs": [
    {
     "data": {
      "text/plain": [
       "''"
      ]
     },
     "execution_count": 29,
     "metadata": {},
     "output_type": "execute_result"
    },
    {
     "name": "stderr",
     "output_type": "stream",
     "text": [
      "ERROR:aiogram.dispatcher.dispatcher:Cause exception while getting updates.\n",
      "Traceback (most recent call last):\n",
      "  File \"C:\\Users\\Klim\\anaconda3\\lib\\site-packages\\aiogram\\bot\\api.py\", line 139, in make_request\n",
      "    async with session.post(url, data=req, **kwargs) as response:\n",
      "  File \"C:\\Users\\Klim\\anaconda3\\lib\\site-packages\\aiohttp\\client.py\", line 1141, in __aenter__\n",
      "    self._resp = await self._coro\n",
      "  File \"C:\\Users\\Klim\\anaconda3\\lib\\site-packages\\aiohttp\\client.py\", line 560, in _request\n",
      "    await resp.start(conn)\n",
      "  File \"C:\\Users\\Klim\\anaconda3\\lib\\site-packages\\aiohttp\\client_reqrep.py\", line 899, in start\n",
      "    message, payload = await protocol.read()  # type: ignore[union-attr]\n",
      "  File \"C:\\Users\\Klim\\anaconda3\\lib\\site-packages\\aiohttp\\streams.py\", line 616, in read\n",
      "    await self._waiter\n",
      "  File \"C:\\Users\\Klim\\anaconda3\\lib\\asyncio\\futures.py\", line 260, in __await__\n",
      "    yield self  # This tells Task to wait for completion.\n",
      "  File \"C:\\Users\\Klim\\anaconda3\\lib\\asyncio\\tasks.py\", line 349, in __wakeup\n",
      "    future.result()\n",
      "  File \"C:\\Users\\Klim\\anaconda3\\lib\\asyncio\\futures.py\", line 178, in result\n",
      "    raise self._exception\n",
      "aiohttp.client_exceptions.ClientOSError: [Errno 1] [SSL: APPLICATION_DATA_AFTER_CLOSE_NOTIFY] application data after close notify (_ssl.c:2747)\n",
      "\n",
      "During handling of the above exception, another exception occurred:\n",
      "\n",
      "Traceback (most recent call last):\n",
      "  File \"C:\\Users\\Klim\\anaconda3\\lib\\site-packages\\aiogram\\dispatcher\\dispatcher.py\", line 381, in start_polling\n",
      "    updates = await self.bot.get_updates(\n",
      "  File \"C:\\Users\\Klim\\anaconda3\\lib\\site-packages\\aiogram\\bot\\bot.py\", line 110, in get_updates\n",
      "    result = await self.request(api.Methods.GET_UPDATES, payload)\n",
      "  File \"C:\\Users\\Klim\\anaconda3\\lib\\site-packages\\aiogram\\bot\\base.py\", line 236, in request\n",
      "    return await api.make_request(await self.get_session(), self.server, self.__token, method, data, files,\n",
      "  File \"C:\\Users\\Klim\\anaconda3\\lib\\site-packages\\aiogram\\bot\\api.py\", line 142, in make_request\n",
      "    raise exceptions.NetworkError(f\"aiohttp client throws an error: {e.__class__.__name__}: {e}\")\n",
      "aiogram.utils.exceptions.NetworkError: Aiohttp client throws an error: ClientOSError: [Errno 1] [SSL: APPLICATION_DATA_AFTER_CLOSE_NOTIFY] application data after close notify (_ssl.c:2747)\n",
      "WARNING:aiogram.dispatcher.dispatcher:Polling is stopped.\n"
     ]
    }
   ],
   "source": [
    "inp"
   ]
  },
  {
   "cell_type": "code",
   "execution_count": 10,
   "id": "66714853",
   "metadata": {},
   "outputs": [],
   "source": [
    "@dp.message_handler(commands=[\"start\"])\n",
    "async def cmd_start(message: types.Message):\n",
    "    poll_keyboard = types.ReplyKeyboardMarkup(resize_keyboard=True)\n",
    "    poll_keyboard.add(types.KeyboardButton(text=\"Создать викторину\",\n",
    "                                           request_poll=types.KeyboardButtonPollType(type=types.PollType.QUIZ)))\n",
    "    poll_keyboard.add(types.KeyboardButton(text=\"Отмена\"))\n",
    "    await message.answer(\"Нажмите на кнопку ниже и создайте викторину!\", reply_markup=poll_keyboard)\n",
    "\n",
    "# Хэндлер на текстовое сообщение с текстом “Отмена”\n",
    "@dp.message_handler(lambda message: message.text == \"Отмена\")\n",
    "async def action_cancel(message: types.Message):\n",
    "    remove_keyboard = types.ReplyKeyboardRemove()\n",
    "    await message.answer(\"Действие отменено. Введите /start, чтобы начать заново.\", reply_markup=remove_keyboard)"
   ]
  },
  {
   "cell_type": "code",
   "execution_count": null,
   "id": "5d755995",
   "metadata": {},
   "outputs": [],
   "source": []
  }
 ],
 "metadata": {
  "kernelspec": {
   "display_name": "Python 3 (ipykernel)",
   "language": "python",
   "name": "python3"
  },
  "language_info": {
   "codemirror_mode": {
    "name": "ipython",
    "version": 3
   },
   "file_extension": ".py",
   "mimetype": "text/x-python",
   "name": "python",
   "nbconvert_exporter": "python",
   "pygments_lexer": "ipython3",
   "version": "3.9.12"
  }
 },
 "nbformat": 4,
 "nbformat_minor": 5
}
