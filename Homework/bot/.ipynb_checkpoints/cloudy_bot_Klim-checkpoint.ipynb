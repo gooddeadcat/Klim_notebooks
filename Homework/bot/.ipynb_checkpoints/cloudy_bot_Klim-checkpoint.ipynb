{
 "cells": [
  {
   "cell_type": "code",
   "execution_count": null,
   "id": "09650884",
   "metadata": {},
   "outputs": [],
   "source": [
    "#pip install nest_asyncio"
   ]
  },
  {
   "cell_type": "code",
   "execution_count": null,
   "id": "2e593e83",
   "metadata": {},
   "outputs": [],
   "source": [
    "#pip install -U aiogram"
   ]
  },
  {
   "cell_type": "markdown",
   "id": "2372ce98",
   "metadata": {},
   "source": [
    "http://t.me/very_cloudy_bot\n",
    "\n",
    "'5930567047:AAFUeBgC1hDCaay14Sr47NjdBU8ZLkNQta0'"
   ]
  },
  {
   "cell_type": "code",
   "execution_count": null,
   "id": "31b7bb5b",
   "metadata": {},
   "outputs": [],
   "source": [
    "@bot.message_handler(commands=['start'])\n",
    "def send_keyboard(message, text=\"Привет, для чего создать облако?\"):\n",
    "    keyboard = types.ReplyKeyboardMarkup(row_width=2) \n",
    "    itembtn1 = types.KeyboardButton('Для канала или чата')\n",
    "    itembtn2 = types.KeyboardButton('Для файла')\n",
    "    itembtn3 = types.KeyboardButton('Для текста')\n",
    "    itembtn6 = types.KeyboardButton('Создавать облака не надо')\n",
    "    \n",
    "    msg = bot.send_message(message.from_user.id,\n",
    "                     text=text, reply_markup=keyboard)\n",
    "    \n",
    "    bot.register_next_step_handler(msg, callback_worker)"
   ]
  },
  {
   "cell_type": "code",
   "execution_count": 23,
   "id": "8a659bc7",
   "metadata": {},
   "outputs": [
    {
     "ename": "ImportError",
     "evalue": "cannot import name 'FSInputFile' from 'aiogram.types' (C:\\Users\\Klim\\anaconda3\\lib\\site-packages\\aiogram\\types\\__init__.py)",
     "output_type": "error",
     "traceback": [
      "\u001b[1;31m---------------------------------------------------------------------------\u001b[0m",
      "\u001b[1;31mImportError\u001b[0m                               Traceback (most recent call last)",
      "\u001b[1;32m<ipython-input-23-b9bc6f1ea32f>\u001b[0m in \u001b[0;36m<module>\u001b[1;34m\u001b[0m\n\u001b[0;32m      2\u001b[0m \u001b[1;32mimport\u001b[0m \u001b[0mlogging\u001b[0m\u001b[1;33m\u001b[0m\u001b[1;33m\u001b[0m\u001b[0m\n\u001b[0;32m      3\u001b[0m \u001b[1;32mfrom\u001b[0m \u001b[0maiogram\u001b[0m \u001b[1;32mimport\u001b[0m \u001b[0mBot\u001b[0m\u001b[1;33m,\u001b[0m \u001b[0mDispatcher\u001b[0m\u001b[1;33m,\u001b[0m \u001b[0mexecutor\u001b[0m\u001b[1;33m,\u001b[0m \u001b[0mtypes\u001b[0m\u001b[1;33m\u001b[0m\u001b[1;33m\u001b[0m\u001b[0m\n\u001b[1;32m----> 4\u001b[1;33m \u001b[1;32mfrom\u001b[0m \u001b[0maiogram\u001b[0m\u001b[1;33m.\u001b[0m\u001b[0mtypes\u001b[0m \u001b[1;32mimport\u001b[0m \u001b[0mFSInputFile\u001b[0m\u001b[1;33m\u001b[0m\u001b[1;33m\u001b[0m\u001b[0m\n\u001b[0m",
      "\u001b[1;31mImportError\u001b[0m: cannot import name 'FSInputFile' from 'aiogram.types' (C:\\Users\\Klim\\anaconda3\\lib\\site-packages\\aiogram\\types\\__init__.py)"
     ]
    }
   ],
   "source": [
    "import nest_asyncio\n",
    "import logging\n",
    "from aiogram import Bot, Dispatcher, executor, types"
   ]
  },
  {
   "cell_type": "code",
   "execution_count": 19,
   "id": "7002e4a7",
   "metadata": {},
   "outputs": [],
   "source": [
    "import aiogram"
   ]
  },
  {
   "cell_type": "code",
   "execution_count": 5,
   "id": "1e120eb9",
   "metadata": {},
   "outputs": [
    {
     "name": "stdout",
     "output_type": "stream",
     "text": [
      "Object `await message.answer` not found.\n"
     ]
    }
   ],
   "source": [
    "?await message.answer"
   ]
  },
  {
   "cell_type": "code",
   "execution_count": 24,
   "id": "78fc0fd3",
   "metadata": {
    "scrolled": true
   },
   "outputs": [
    {
     "name": "stderr",
     "output_type": "stream",
     "text": [
      "INFO:aiogram:Bot: Cloudy [@very_cloudy_bot]\n",
      "ERROR:asyncio:Task exception was never retrieved\n",
      "future: <Task finished name='Task-245' coro=<Dispatcher._process_polling_updates() done, defined at C:\\Users\\Klim\\anaconda3\\lib\\site-packages\\aiogram\\dispatcher\\dispatcher.py:407> exception=NameError(\"name 'InputFile' is not defined\")>\n",
      "Traceback (most recent call last):\n",
      "  File \"C:\\Users\\Klim\\anaconda3\\lib\\asyncio\\tasks.py\", line 282, in __step\n",
      "    result = coro.throw(exc)\n",
      "  File \"C:\\Users\\Klim\\anaconda3\\lib\\site-packages\\aiogram\\dispatcher\\dispatcher.py\", line 415, in _process_polling_updates\n",
      "    for responses in itertools.chain.from_iterable(await self.process_updates(updates, fast)):\n",
      "  File \"C:\\Users\\Klim\\anaconda3\\lib\\site-packages\\aiogram\\dispatcher\\dispatcher.py\", line 235, in process_updates\n",
      "    return await asyncio.gather(*tasks)\n",
      "  File \"C:\\Users\\Klim\\anaconda3\\lib\\asyncio\\tasks.py\", line 349, in __wakeup\n",
      "    future.result()\n",
      "  File \"C:\\Users\\Klim\\anaconda3\\lib\\asyncio\\tasks.py\", line 280, in __step\n",
      "    result = coro.send(None)\n",
      "  File \"C:\\Users\\Klim\\anaconda3\\lib\\site-packages\\aiogram\\dispatcher\\handler.py\", line 117, in notify\n",
      "    response = await handler_obj.handler(*args, **partial_data)\n",
      "  File \"C:\\Users\\Klim\\anaconda3\\lib\\site-packages\\aiogram\\dispatcher\\dispatcher.py\", line 256, in process_update\n",
      "    return await self.message_handlers.notify(update.message)\n",
      "  File \"C:\\Users\\Klim\\anaconda3\\lib\\site-packages\\aiogram\\dispatcher\\handler.py\", line 117, in notify\n",
      "    response = await handler_obj.handler(*args, **partial_data)\n",
      "  File \"<ipython-input-22-5d306fe69fc0>\", line 21, in action_cancel\n",
      "    await message.answer_sticker(InputFile('sticker.webp'))\n",
      "NameError: name 'InputFile' is not defined\n",
      "WARNING:aiogram:Updates were skipped successfully.\n",
      "INFO:aiogram.dispatcher.dispatcher:Start polling.\n",
      "INFO:aiogram.dispatcher.dispatcher:Stop polling...\n",
      "WARNING:aiogram:Goodbye!\n"
     ]
    }
   ],
   "source": [
    "nest_asyncio.apply()\n",
    "\n",
    "logging.basicConfig(level=logging.INFO)\n",
    "\n",
    "bot = Bot(token='5930567047:AAFUeBgC1hDCaay14Sr47NjdBU8ZLkNQta0')\n",
    "dp = Dispatcher(bot)\n",
    "\n",
    "@dp.message_handler(commands=['start'])\n",
    "async def start(message: types.Message):\n",
    "    poll_keyboard = types.ReplyKeyboardMarkup(resize_keyboard=True)\n",
    "    poll_keyboard.add(types.KeyboardButton(text='Для канала/чата'))\n",
    "    poll_keyboard.add(types.KeyboardButton(text='Для текста'))\n",
    "    poll_keyboard.add(types.KeyboardButton(text='Для файла'))\n",
    "    poll_keyboard.add(types.KeyboardButton(text='Не надо облаков'))\n",
    "    await message.reply('Привет. Я делаю облака.\\nКакое облако ты хочешь?', reply_markup=poll_keyboard)\n",
    "    \n",
    "\n",
    "@dp.message_handler(lambda message: message.text == 'Не надо облаков')\n",
    "async def action_cancel(message: types.Message):\n",
    "    remove_keyboard = types.ReplyKeyboardRemove()\n",
    "    await message.answer_sticker(FSInputFile('sticker.webp'))\n",
    "    await message.answer('Хорошо. Нажми /start, когда будет надо.', reply_markup=remove_keyboard)\n",
    "    \n",
    "@dp.message_handler()\n",
    "async def echo(message: types.Message):\n",
    "    await message.answer(message.text)\n",
    "\n",
    "if __name__ == '__main__':\n",
    "    executor.start_polling(dp, skip_updates=True)"
   ]
  },
  {
   "cell_type": "code",
   "execution_count": 10,
   "id": "66714853",
   "metadata": {},
   "outputs": [],
   "source": [
    "@dp.message_handler(commands=[\"start\"])\n",
    "async def cmd_start(message: types.Message):\n",
    "    poll_keyboard = types.ReplyKeyboardMarkup(resize_keyboard=True)\n",
    "    poll_keyboard.add(types.KeyboardButton(text=\"Создать викторину\",\n",
    "                                           request_poll=types.KeyboardButtonPollType(type=types.PollType.QUIZ)))\n",
    "    poll_keyboard.add(types.KeyboardButton(text=\"Отмена\"))\n",
    "    await message.answer(\"Нажмите на кнопку ниже и создайте викторину!\", reply_markup=poll_keyboard)\n",
    "\n",
    "# Хэндлер на текстовое сообщение с текстом “Отмена”\n",
    "@dp.message_handler(lambda message: message.text == \"Отмена\")\n",
    "async def action_cancel(message: types.Message):\n",
    "    remove_keyboard = types.ReplyKeyboardRemove()\n",
    "    await message.answer(\"Действие отменено. Введите /start, чтобы начать заново.\", reply_markup=remove_keyboard)"
   ]
  },
  {
   "cell_type": "code",
   "execution_count": null,
   "id": "9c0b3cc6",
   "metadata": {},
   "outputs": [],
   "source": []
  }
 ],
 "metadata": {
  "kernelspec": {
   "display_name": "Python 3",
   "language": "python",
   "name": "python3"
  },
  "language_info": {
   "codemirror_mode": {
    "name": "ipython",
    "version": 3
   },
   "file_extension": ".py",
   "mimetype": "text/x-python",
   "name": "python",
   "nbconvert_exporter": "python",
   "pygments_lexer": "ipython3",
   "version": "3.8.8"
  }
 },
 "nbformat": 4,
 "nbformat_minor": 5
}
