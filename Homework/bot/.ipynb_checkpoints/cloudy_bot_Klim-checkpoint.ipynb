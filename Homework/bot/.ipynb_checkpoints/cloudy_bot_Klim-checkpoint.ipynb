{
 "cells": [
  {
   "cell_type": "code",
   "execution_count": null,
   "id": "eae57ff4",
   "metadata": {},
   "outputs": [],
   "source": [
    "#pip install nest_asyncio"
   ]
  },
  {
   "cell_type": "code",
   "execution_count": 35,
   "id": "68c33329",
   "metadata": {},
   "outputs": [
    {
     "name": "stdout",
     "output_type": "stream",
     "text": [
      "Requirement already satisfied: aiogram in c:\\users\\klim\\anaconda3\\lib\\site-packages (2.23.1)Note: you may need to restart the kernel to use updated packages.\n",
      "Collecting aiogram\n",
      "  Downloading aiogram-3.0.0b6-py3-none-any.whl (325 kB)\n",
      "Collecting pydantic<2.0.0,>=1.10.2\n",
      "  Downloading pydantic-1.10.2-cp38-cp38-win_amd64.whl (2.2 MB)\n",
      "Collecting aiofiles<23.0.0,>=22.1.0\n",
      "  Downloading aiofiles-22.1.0-py3-none-any.whl (14 kB)\n",
      "Requirement already satisfied: aiohttp<4.0.0,>=3.8.3 in c:\\users\\klim\\anaconda3\\lib\\site-packages (from aiogram) (3.8.3)\n",
      "Requirement already satisfied: certifi<2023.0.0,>=2022.9.24 in c:\\users\\klim\\anaconda3\\lib\\site-packages (from aiogram) (2022.9.24)\n",
      "Requirement already satisfied: magic-filter<2.0.0,>=1.0.9 in c:\\users\\klim\\anaconda3\\lib\\site-packages (from aiogram) (1.0.9)\n",
      "Requirement already satisfied: yarl<2.0,>=1.0 in c:\\users\\klim\\anaconda3\\lib\\site-packages (from aiohttp<4.0.0,>=3.8.3->aiogram) (1.8.1)\n",
      "Requirement already satisfied: aiosignal>=1.1.2 in c:\\users\\klim\\anaconda3\\lib\\site-packages (from aiohttp<4.0.0,>=3.8.3->aiogram) (1.3.1)\n",
      "Requirement already satisfied: charset-normalizer<3.0,>=2.0 in c:\\users\\klim\\anaconda3\\lib\\site-packages (from aiohttp<4.0.0,>=3.8.3->aiogram) (2.1.1)\n",
      "Requirement already satisfied: frozenlist>=1.1.1 in c:\\users\\klim\\anaconda3\\lib\\site-packages (from aiohttp<4.0.0,>=3.8.3->aiogram) (1.3.3)\n",
      "Requirement already satisfied: attrs>=17.3.0 in c:\\users\\klim\\anaconda3\\lib\\site-packages (from aiohttp<4.0.0,>=3.8.3->aiogram) (20.3.0)\n",
      "Requirement already satisfied: async-timeout<5.0,>=4.0.0a3 in c:\\users\\klim\\anaconda3\\lib\\site-packages (from aiohttp<4.0.0,>=3.8.3->aiogram) (4.0.2)\n",
      "Requirement already satisfied: multidict<7.0,>=4.5 in c:\\users\\klim\\anaconda3\\lib\\site-packages (from aiohttp<4.0.0,>=3.8.3->aiogram) (6.0.2)\n",
      "Collecting typing-extensions>=4.1.0\n",
      "  Downloading typing_extensions-4.4.0-py3-none-any.whl (26 kB)\n",
      "Requirement already satisfied: idna>=2.0 in c:\\users\\klim\\anaconda3\\lib\\site-packages (from yarl<2.0,>=1.0->aiohttp<4.0.0,>=3.8.3->aiogram) (2.10)\n",
      "Installing collected packages: typing-extensions, pydantic, aiofiles, aiogram\n",
      "  Attempting uninstall: typing-extensions\n",
      "    Found existing installation: typing-extensions 3.7.4.3\n",
      "    Uninstalling typing-extensions-3.7.4.3:\n",
      "      Successfully uninstalled typing-extensions-3.7.4.3\n",
      "  Attempting uninstall: aiogram\n",
      "    Found existing installation: aiogram 2.23.1\n",
      "    Uninstalling aiogram-2.23.1:\n",
      "      Successfully uninstalled aiogram-2.23.1\n",
      "Successfully installed aiofiles-22.1.0 aiogram-3.0.0b6 pydantic-1.10.2 typing-extensions-4.4.0\n",
      "\n"
     ]
    }
   ],
   "source": [
    "pip install -U --pre aiogram"
   ]
  },
  {
   "cell_type": "markdown",
   "id": "2372ce98",
   "metadata": {},
   "source": [
    "http://t.me/very_cloudy_bot\n",
    "\n",
    "'5930567047:AAFUeBgC1hDCaay14Sr47NjdBU8ZLkNQta0'"
   ]
  },
  {
   "cell_type": "code",
   "execution_count": null,
   "id": "31b7bb5b",
   "metadata": {},
   "outputs": [],
   "source": [
    "@bot.message_handler(commands=['start'])\n",
    "def send_keyboard(message, text=\"Привет, для чего создать облако?\"):\n",
    "    keyboard = types.ReplyKeyboardMarkup(row_width=2) \n",
    "    itembtn1 = types.KeyboardButton('Для канала или чата')\n",
    "    itembtn2 = types.KeyboardButton('Для файла')\n",
    "    itembtn3 = types.KeyboardButton('Для текста')\n",
    "    itembtn6 = types.KeyboardButton('Создавать облака не надо')\n",
    "    \n",
    "    msg = bot.send_message(message.from_user.id,\n",
    "                     text=text, reply_markup=keyboard)\n",
    "    \n",
    "    bot.register_next_step_handler(msg, callback_worker)"
   ]
  },
  {
   "cell_type": "code",
   "execution_count": 19,
   "id": "8a659bc7",
   "metadata": {},
   "outputs": [],
   "source": [
    "import nest_asyncio\n",
    "import logging\n",
    "from aiogram import Bot, Dispatcher, types, filters, Router, handlers"
   ]
  },
  {
   "cell_type": "code",
   "execution_count": 17,
   "id": "3a4ade61",
   "metadata": {},
   "outputs": [],
   "source": [
    "import aiogram"
   ]
  },
  {
   "cell_type": "code",
   "execution_count": 36,
   "id": "4ec8b7c0",
   "metadata": {},
   "outputs": [
    {
     "ename": "ImportError",
     "evalue": "cannot import name 'Router' from 'aiogram' (C:\\Users\\Klim\\anaconda3\\lib\\site-packages\\aiogram\\__init__.py)",
     "output_type": "error",
     "traceback": [
      "\u001b[1;31m---------------------------------------------------------------------------\u001b[0m",
      "\u001b[1;31mImportError\u001b[0m                               Traceback (most recent call last)",
      "\u001b[1;32m<ipython-input-36-292d0aff66b2>\u001b[0m in \u001b[0;36m<module>\u001b[1;34m\u001b[0m\n\u001b[1;32m----> 1\u001b[1;33m \u001b[1;32mfrom\u001b[0m \u001b[0maiogram\u001b[0m \u001b[1;32mimport\u001b[0m \u001b[0mRouter\u001b[0m\u001b[1;33m\u001b[0m\u001b[1;33m\u001b[0m\u001b[0m\n\u001b[0m",
      "\u001b[1;31mImportError\u001b[0m: cannot import name 'Router' from 'aiogram' (C:\\Users\\Klim\\anaconda3\\lib\\site-packages\\aiogram\\__init__.py)"
     ]
    }
   ],
   "source": [
    "from aiogram import Router"
   ]
  },
  {
   "cell_type": "code",
   "execution_count": 9,
   "id": "723b9512",
   "metadata": {},
   "outputs": [
    {
     "ename": "ModuleNotFoundError",
     "evalue": "No module named 'aiogram.filters'",
     "output_type": "error",
     "traceback": [
      "\u001b[1;31m---------------------------------------------------------------------------\u001b[0m",
      "\u001b[1;31mModuleNotFoundError\u001b[0m                       Traceback (most recent call last)",
      "\u001b[1;32m<ipython-input-9-d8ea4d703d24>\u001b[0m in \u001b[0;36m<module>\u001b[1;34m\u001b[0m\n\u001b[1;32m----> 1\u001b[1;33m \u001b[1;32mfrom\u001b[0m \u001b[0maiogram\u001b[0m\u001b[1;33m.\u001b[0m\u001b[0mfilters\u001b[0m \u001b[1;32mimport\u001b[0m \u001b[0mContentTypeFilter\u001b[0m\u001b[1;33m\u001b[0m\u001b[1;33m\u001b[0m\u001b[0m\n\u001b[0m",
      "\u001b[1;31mModuleNotFoundError\u001b[0m: No module named 'aiogram.filters'"
     ]
    }
   ],
   "source": [
    "from aiogram import\n",
    "from aiogram.filters import ContentTypeFilter"
   ]
  },
  {
   "cell_type": "code",
   "execution_count": 22,
   "id": "b89acb95",
   "metadata": {},
   "outputs": [
    {
     "name": "stdout",
     "output_type": "stream",
     "text": [
      "Object `message.document()` not found.\n"
     ]
    }
   ],
   "source": [
    "?message.document()"
   ]
  },
  {
   "cell_type": "code",
   "execution_count": 35,
   "id": "78fc0fd3",
   "metadata": {
    "scrolled": true
   },
   "outputs": [
    {
     "ename": "NameError",
     "evalue": "name 'command' is not defined",
     "output_type": "error",
     "traceback": [
      "\u001b[1;31m---------------------------------------------------------------------------\u001b[0m",
      "\u001b[1;31mNameError\u001b[0m                                 Traceback (most recent call last)",
      "\u001b[1;32m<ipython-input-35-fc1c45897b62>\u001b[0m in \u001b[0;36m<module>\u001b[1;34m\u001b[0m\n\u001b[0;32m      6\u001b[0m \u001b[0mdp\u001b[0m \u001b[1;33m=\u001b[0m \u001b[0mDispatcher\u001b[0m\u001b[1;33m(\u001b[0m\u001b[1;33m)\u001b[0m\u001b[1;33m\u001b[0m\u001b[1;33m\u001b[0m\u001b[0m\n\u001b[0;32m      7\u001b[0m \u001b[1;33m\u001b[0m\u001b[0m\n\u001b[1;32m----> 8\u001b[1;33m \u001b[1;33m@\u001b[0m\u001b[0mdp\u001b[0m\u001b[1;33m.\u001b[0m\u001b[0mmessage\u001b[0m\u001b[1;33m(\u001b[0m\u001b[0mfilters\u001b[0m\u001b[1;33m=\u001b[0m\u001b[1;33m[\u001b[0m\u001b[0mcommand\u001b[0m\u001b[1;33m(\u001b[0m\u001b[1;34m'start'\u001b[0m\u001b[1;33m)\u001b[0m\u001b[1;33m]\u001b[0m\u001b[1;33m)\u001b[0m\u001b[1;33m\u001b[0m\u001b[1;33m\u001b[0m\u001b[0m\n\u001b[0m\u001b[0;32m      9\u001b[0m \u001b[1;32masync\u001b[0m \u001b[1;32mdef\u001b[0m \u001b[0mstart\u001b[0m\u001b[1;33m(\u001b[0m\u001b[0mmessage\u001b[0m\u001b[1;33m:\u001b[0m \u001b[0mtypes\u001b[0m\u001b[1;33m.\u001b[0m\u001b[0mMessage\u001b[0m\u001b[1;33m)\u001b[0m\u001b[1;33m:\u001b[0m\u001b[1;33m\u001b[0m\u001b[1;33m\u001b[0m\u001b[0m\n\u001b[0;32m     10\u001b[0m     \u001b[0mpoll_keyboard\u001b[0m \u001b[1;33m=\u001b[0m \u001b[0mtypes\u001b[0m\u001b[1;33m.\u001b[0m\u001b[0mReplyKeyboardMarkup\u001b[0m\u001b[1;33m(\u001b[0m\u001b[0mresize_keyboard\u001b[0m\u001b[1;33m=\u001b[0m\u001b[1;32mTrue\u001b[0m\u001b[1;33m)\u001b[0m\u001b[1;33m\u001b[0m\u001b[1;33m\u001b[0m\u001b[0m\n",
      "\u001b[1;31mNameError\u001b[0m: name 'command' is not defined"
     ]
    }
   ],
   "source": [
    "nest_asyncio.apply()\n",
    "\n",
    "logging.basicConfig(level=logging.INFO)\n",
    "\n",
    "bot = Bot(token='5930567047:AAFUeBgC1hDCaay14Sr47NjdBU8ZLkNQta0')\n",
    "dp = Dispatcher()\n",
    "\n",
    "@dp.message(filters=[command('start')])\n",
    "async def start(message: types.Message):\n",
    "    poll_keyboard = types.ReplyKeyboardMarkup(resize_keyboard=True)\n",
    "    poll_keyboard.add(types.KeyboardButton(text='Для канала/чата (только Telegram Desktop)'))\n",
    "    poll_keyboard.add(types.KeyboardButton(text='Для текста'))\n",
    "    poll_keyboard.add(types.KeyboardButton(text='Для файла'))\n",
    "    poll_keyboard.add(types.KeyboardButton(text='Не надо облаков'))\n",
    "    await message.reply('Привет. Я делаю облака.\\nКакое облако Вы хотите?', reply_markup=poll_keyboard)\n",
    "    \n",
    "channel = Router()\n",
    "\n",
    "@channel.message(lambda message: message.text == 'Для канала/чата (только Telegram Desktop)')\n",
    "async def action_channel(message: types.Message):\n",
    "    remove_keyboard = types.ReplyKeyboardRemove()\n",
    "    await message.answer('Экспортируйте историю канала/чата в формате JSON и \\\n",
    "                         вставьте сюда.', reply_markup=remove_keyboard)\n",
    "    \n",
    "@channel.message(content_types=['document'])\n",
    "async def action_input(message: types.Message):\n",
    "    await message.document.download('get.json')\n",
    "    \n",
    "@dp.message(lambda message: message.text == 'Не надо облаков')\n",
    "async def action_cancel(message: types.Message):\n",
    "    remove_keyboard = types.ReplyKeyboardRemove()\n",
    "    await message.answer_sticker(r'CAACAgUAAxkBAAEGkt1jg2K6nuH6mZF93ScXx41R-nsZugAC0wUAAqMFQQdD_GHqUCw4PisE')\n",
    "    await message.answer('Хорошо. Нажмите /start, когда будет надо.', reply_markup=remove_keyboard)\n",
    "    \n",
    "@dp.message()\n",
    "async def echo(message: types.Message):\n",
    "    await message.answer(message.text)\n",
    "\n",
    "if __name__ == '__main__':\n",
    "    executor.start_polling(dp, skip_updates=True)"
   ]
  },
  {
   "cell_type": "code",
   "execution_count": 29,
   "id": "459e1f52",
   "metadata": {},
   "outputs": [
    {
     "data": {
      "text/plain": [
       "''"
      ]
     },
     "execution_count": 29,
     "metadata": {},
     "output_type": "execute_result"
    },
    {
     "name": "stderr",
     "output_type": "stream",
     "text": [
      "ERROR:aiogram.dispatcher.dispatcher:Cause exception while getting updates.\n",
      "Traceback (most recent call last):\n",
      "  File \"C:\\Users\\Klim\\anaconda3\\lib\\site-packages\\aiogram\\bot\\api.py\", line 139, in make_request\n",
      "    async with session.post(url, data=req, **kwargs) as response:\n",
      "  File \"C:\\Users\\Klim\\anaconda3\\lib\\site-packages\\aiohttp\\client.py\", line 1141, in __aenter__\n",
      "    self._resp = await self._coro\n",
      "  File \"C:\\Users\\Klim\\anaconda3\\lib\\site-packages\\aiohttp\\client.py\", line 560, in _request\n",
      "    await resp.start(conn)\n",
      "  File \"C:\\Users\\Klim\\anaconda3\\lib\\site-packages\\aiohttp\\client_reqrep.py\", line 899, in start\n",
      "    message, payload = await protocol.read()  # type: ignore[union-attr]\n",
      "  File \"C:\\Users\\Klim\\anaconda3\\lib\\site-packages\\aiohttp\\streams.py\", line 616, in read\n",
      "    await self._waiter\n",
      "  File \"C:\\Users\\Klim\\anaconda3\\lib\\asyncio\\futures.py\", line 260, in __await__\n",
      "    yield self  # This tells Task to wait for completion.\n",
      "  File \"C:\\Users\\Klim\\anaconda3\\lib\\asyncio\\tasks.py\", line 349, in __wakeup\n",
      "    future.result()\n",
      "  File \"C:\\Users\\Klim\\anaconda3\\lib\\asyncio\\futures.py\", line 178, in result\n",
      "    raise self._exception\n",
      "aiohttp.client_exceptions.ClientOSError: [Errno 1] [SSL: APPLICATION_DATA_AFTER_CLOSE_NOTIFY] application data after close notify (_ssl.c:2747)\n",
      "\n",
      "During handling of the above exception, another exception occurred:\n",
      "\n",
      "Traceback (most recent call last):\n",
      "  File \"C:\\Users\\Klim\\anaconda3\\lib\\site-packages\\aiogram\\dispatcher\\dispatcher.py\", line 381, in start_polling\n",
      "    updates = await self.bot.get_updates(\n",
      "  File \"C:\\Users\\Klim\\anaconda3\\lib\\site-packages\\aiogram\\bot\\bot.py\", line 110, in get_updates\n",
      "    result = await self.request(api.Methods.GET_UPDATES, payload)\n",
      "  File \"C:\\Users\\Klim\\anaconda3\\lib\\site-packages\\aiogram\\bot\\base.py\", line 236, in request\n",
      "    return await api.make_request(await self.get_session(), self.server, self.__token, method, data, files,\n",
      "  File \"C:\\Users\\Klim\\anaconda3\\lib\\site-packages\\aiogram\\bot\\api.py\", line 142, in make_request\n",
      "    raise exceptions.NetworkError(f\"aiohttp client throws an error: {e.__class__.__name__}: {e}\")\n",
      "aiogram.utils.exceptions.NetworkError: Aiohttp client throws an error: ClientOSError: [Errno 1] [SSL: APPLICATION_DATA_AFTER_CLOSE_NOTIFY] application data after close notify (_ssl.c:2747)\n",
      "WARNING:aiogram.dispatcher.dispatcher:Polling is stopped.\n"
     ]
    }
   ],
   "source": [
    "inp"
   ]
  },
  {
   "cell_type": "code",
   "execution_count": 10,
   "id": "66714853",
   "metadata": {},
   "outputs": [],
   "source": [
    "@dp.message_handler(commands=[\"start\"])\n",
    "async def cmd_start(message: types.Message):\n",
    "    poll_keyboard = types.ReplyKeyboardMarkup(resize_keyboard=True)\n",
    "    poll_keyboard.add(types.KeyboardButton(text=\"Создать викторину\",\n",
    "                                           request_poll=types.KeyboardButtonPollType(type=types.PollType.QUIZ)))\n",
    "    poll_keyboard.add(types.KeyboardButton(text=\"Отмена\"))\n",
    "    await message.answer(\"Нажмите на кнопку ниже и создайте викторину!\", reply_markup=poll_keyboard)\n",
    "\n",
    "# Хэндлер на текстовое сообщение с текстом “Отмена”\n",
    "@dp.message_handler(lambda message: message.text == \"Отмена\")\n",
    "async def action_cancel(message: types.Message):\n",
    "    remove_keyboard = types.ReplyKeyboardRemove()\n",
    "    await message.answer(\"Действие отменено. Введите /start, чтобы начать заново.\", reply_markup=remove_keyboard)"
   ]
  },
  {
   "cell_type": "code",
   "execution_count": null,
   "id": "5d755995",
   "metadata": {},
   "outputs": [],
   "source": []
  }
 ],
 "metadata": {
  "kernelspec": {
   "display_name": "Python 3",
   "language": "python",
   "name": "python3"
  },
  "language_info": {
   "codemirror_mode": {
    "name": "ipython",
    "version": 3
   },
   "file_extension": ".py",
   "mimetype": "text/x-python",
   "name": "python",
   "nbconvert_exporter": "python",
   "pygments_lexer": "ipython3",
   "version": "3.8.8"
  }
 },
 "nbformat": 4,
 "nbformat_minor": 5
}
