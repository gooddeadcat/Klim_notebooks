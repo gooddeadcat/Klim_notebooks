{
 "cells": [
  {
   "cell_type": "markdown",
   "metadata": {},
   "source": [
    "1 2 3\n",
    "\n",
    "3 4 1"
   ]
  },
  {
   "cell_type": "code",
   "execution_count": 29,
   "metadata": {},
   "outputs": [
    {
     "name": "stdout",
     "output_type": "stream",
     "text": [
      "1 2 3\n",
      "1 1 10\n",
      "[1.0, 2.0, 3.0]\n",
      "[1.0, 1.0, 10.0]\n",
      "Boxes are incomparable\n"
     ]
    }
   ],
   "source": [
    "box1 = sorted([float(i) for i in input().split()])\n",
    "box2 = sorted([float(i) for i in input().split()])\n",
    "\n",
    "print(box1)\n",
    "print(box2)\n",
    "\n",
    "if box1[0] >= box2[0] and box1[1] >= box2[1] and box1[2] >= box2[2]:\n",
    "    if box1[0] > box2[0] or box1[1] > box2[1] or box1[2] > box2[2]:\n",
    "        print('The first box is larger than the second one')\n",
    "    else:\n",
    "        print('Boxes are equal')\n",
    "elif box1[0] <= box2[0] and box1[1] <= box2[1] and box1[2] <= box2[2]:\n",
    "    if box1[0] < box2[0] or box1[1] < box2[1] or box1[2] < box2[2]:\n",
    "        print('The first box is smaller than the second one')\n",
    "else:\n",
    "    print('Boxes are incomparable')"
   ]
  },
  {
   "cell_type": "code",
   "execution_count": 1,
   "metadata": {},
   "outputs": [
    {
     "name": "stdout",
     "output_type": "stream",
     "text": [
      "1\n",
      "2\n",
      "3\n",
      "3\n",
      "2\n",
      "1\n",
      "[1.0, 2.0, 3.0]\n",
      "[1.0, 2.0, 3.0]\n",
      "Boxes are equal\n"
     ]
    }
   ],
   "source": [
    "box1 = sorted([float(input()), float(input()), float(input())])\n",
    "box2 = sorted([float(input()), float(input()), float(input())])\n",
    "\n",
    "print(box1)\n",
    "print(box2)\n",
    "\n",
    "if box1[0] >= box2[0] and box1[1] >= box2[1] and box1[2] >= box2[2]:\n",
    "    if box1[0] > box2[0] or box1[1] > box2[1] or box1[2] > box2[2]:\n",
    "        print('The first box is larger than the second one')\n",
    "    else:\n",
    "        print('Boxes are equal')\n",
    "elif box1[0] <= box2[0] and box1[1] <= box2[1] and box1[2] <= box2[2]:\n",
    "    if box1[0] < box2[0] or box1[1] < box2[1] or box1[2] < box2[2]:\n",
    "        print('The first box is smaller than the second one')\n",
    "else:\n",
    "    print('Boxes are incomparable')"
   ]
  },
  {
   "cell_type": "code",
   "execution_count": 25,
   "metadata": {},
   "outputs": [
    {
     "name": "stdout",
     "output_type": "stream",
     "text": [
      "9\n",
      "1\n",
      "12\n",
      "123\n",
      "1234\n",
      "12345\n",
      "123456\n",
      "1234567\n",
      "12345678\n",
      "123456789\n"
     ]
    }
   ],
   "source": [
    "n = int(input())\n",
    "\n",
    "for i in range (1, n + 1):\n",
    "    print(*[j for j in range(1, i + 1)], sep='')"
   ]
  },
  {
   "cell_type": "code",
   "execution_count": null,
   "metadata": {},
   "outputs": [],
   "source": [
    "def factorial(n):\n",
    "    if n == 1:\n",
    "        return 1\n",
    "    else:\n",
    "        return n * factorial(n-1)"
   ]
  },
  {
   "cell_type": "code",
   "execution_count": 7,
   "metadata": {},
   "outputs": [
    {
     "data": {
      "text/plain": [
       "120"
      ]
     },
     "execution_count": 7,
     "metadata": {},
     "output_type": "execute_result"
    }
   ],
   "source": [
    "def factorial(n):\n",
    "    if n == 0:\n",
    "        return 1\n",
    "    else:\n",
    "        return n * factorial(n - 1)\n",
    "  \n",
    "\n",
    "factorial(5)"
   ]
  },
  {
   "cell_type": "code",
   "execution_count": null,
   "metadata": {},
   "outputs": [],
   "source": [
    "def fact_sum(n):\n",
    "    if n == 0:\n",
    "        return 0\n",
    "    else:\n",
    "        def factorial(n):\n",
    "            if n == 1:\n",
    "                return 1\n",
    "            else:\n",
    "                return n * factorial(n - 1)\n",
    "    return factorial(n) + fact_sum(factorial(n - 1))\n",
    "\n",
    "fact_sum(3)"
   ]
  },
  {
   "cell_type": "code",
   "execution_count": 6,
   "metadata": {},
   "outputs": [
    {
     "name": "stdout",
     "output_type": "stream",
     "text": [
      "4\n",
      "33\n"
     ]
    }
   ],
   "source": [
    "def factorial(n):\n",
    "    if n == 1:\n",
    "        return 1\n",
    "    else:\n",
    "        return n * factorial(n - 1)\n",
    "\n",
    "j = 0\n",
    "for i in range(int(input()) + 1):\n",
    "    if i != 0:\n",
    "        j += factorial(i)\n",
    "print(j)"
   ]
  },
  {
   "cell_type": "code",
   "execution_count": 6,
   "metadata": {},
   "outputs": [
    {
     "name": "stdout",
     "output_type": "stream",
     "text": [
      "ff\n",
      "hh\n",
      "ee\n",
      "jj\n",
      "{'ff': 'hh', 'ee': 'jj'}\n"
     ]
    }
   ],
   "source": [
    "n = int(input())\n",
    "pairs = {}\n",
    "for i in range(2):\n",
    "    pairs.update({input(): input()})\n",
    "print(pairs)\n",
    "word = find('дело')"
   ]
  },
  {
   "cell_type": "code",
   "execution_count": 2,
   "metadata": {},
   "outputs": [
    {
     "name": "stdout",
     "output_type": "stream",
     "text": [
      "2\n",
      "a s\n",
      "d f\n",
      "f\n",
      "d\n"
     ]
    }
   ],
   "source": [
    "n = int(input())\n",
    "pairs = {}\n",
    "for i in range(n):\n",
    "    pair = input().split()\n",
    "    pairs.update({pair[0]: pair[1]})\n",
    "k = list(pairs.keys())\n",
    "v = list(pairs.values())\n",
    "s = input()\n",
    "if s in k:\n",
    "    i = k.index(s)\n",
    "    print(v[i])\n",
    "elif s in v:\n",
    "    i = v.index(s)\n",
    "    print(k[i])"
   ]
  },
  {
   "cell_type": "code",
   "execution_count": null,
   "metadata": {},
   "outputs": [],
   "source": []
  }
 ],
 "metadata": {
  "kernelspec": {
   "display_name": "Python 3",
   "language": "python",
   "name": "python3"
  },
  "language_info": {
   "codemirror_mode": {
    "name": "ipython",
    "version": 3
   },
   "file_extension": ".py",
   "mimetype": "text/x-python",
   "name": "python",
   "nbconvert_exporter": "python",
   "pygments_lexer": "ipython3",
   "version": "3.8.5"
  }
 },
 "nbformat": 4,
 "nbformat_minor": 5
}
