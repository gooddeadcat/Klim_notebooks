{
 "cells": [
  {
   "cell_type": "markdown",
   "id": "a0aa2c7e",
   "metadata": {},
   "source": [
    "1 2 3\n",
    "\n",
    "3 4 1"
   ]
  },
  {
   "cell_type": "code",
   "execution_count": 29,
   "id": "926a3002",
   "metadata": {},
   "outputs": [
    {
     "name": "stdout",
     "output_type": "stream",
     "text": [
      "1 2 3\n",
      "1 1 10\n",
      "[1.0, 2.0, 3.0]\n",
      "[1.0, 1.0, 10.0]\n",
      "Boxes are incomparable\n"
     ]
    }
   ],
   "source": [
    "box1 = sorted([float(i) for i in input().split()])\n",
    "box2 = sorted([float(i) for i in input().split()])\n",
    "\n",
    "print(box1)\n",
    "print(box2)\n",
    "\n",
    "if box1[0] >= box2[0] and box1[1] >= box2[1] and box1[2] >= box2[2]:\n",
    "    if box1[0] > box2[0] or box1[1] > box2[1] or box1[2] > box2[2]:\n",
    "        print('The first box is larger than the second one')\n",
    "    else:\n",
    "        print('Boxes are equal')\n",
    "elif box1[0] <= box2[0] and box1[1] <= box2[1] and box1[2] <= box2[2]:\n",
    "    if box1[0] < box2[0] or box1[1] < box2[1] or box1[2] < box2[2]:\n",
    "        print('The first box is smaller than the second one')\n",
    "else:\n",
    "    print('Boxes are incomparable')"
   ]
  },
  {
   "cell_type": "code",
   "execution_count": 1,
   "id": "12c3e497",
   "metadata": {},
   "outputs": [
    {
     "name": "stdout",
     "output_type": "stream",
     "text": [
      "1\n",
      "2\n",
      "3\n",
      "3\n",
      "2\n",
      "1\n",
      "[1.0, 2.0, 3.0]\n",
      "[1.0, 2.0, 3.0]\n",
      "Boxes are equal\n"
     ]
    }
   ],
   "source": [
    "box1 = sorted([float(input()), float(input()), float(input())])\n",
    "box2 = sorted([float(input()), float(input()), float(input())])\n",
    "\n",
    "print(box1)\n",
    "print(box2)\n",
    "\n",
    "if box1[0] >= box2[0] and box1[1] >= box2[1] and box1[2] >= box2[2]:\n",
    "    if box1[0] > box2[0] or box1[1] > box2[1] or box1[2] > box2[2]:\n",
    "        print('The first box is larger than the second one')\n",
    "    else:\n",
    "        print('Boxes are equal')\n",
    "elif box1[0] <= box2[0] and box1[1] <= box2[1] and box1[2] <= box2[2]:\n",
    "    if box1[0] < box2[0] or box1[1] < box2[1] or box1[2] < box2[2]:\n",
    "        print('The first box is smaller than the second one')\n",
    "else:\n",
    "    print('Boxes are incomparable')"
   ]
  },
  {
   "cell_type": "code",
   "execution_count": null,
   "id": "62a2f26b",
   "metadata": {},
   "outputs": [],
   "source": [
    "def ladder(n):\n",
    "    for i in range(n):\n",
    "        \n",
    "    \n",
    "n = int(input)"
   ]
  }
 ],
 "metadata": {
  "kernelspec": {
   "display_name": "Python 3 (ipykernel)",
   "language": "python",
   "name": "python3"
  },
  "language_info": {
   "codemirror_mode": {
    "name": "ipython",
    "version": 3
   },
   "file_extension": ".py",
   "mimetype": "text/x-python",
   "name": "python",
   "nbconvert_exporter": "python",
   "pygments_lexer": "ipython3",
   "version": "3.9.7"
  }
 },
 "nbformat": 4,
 "nbformat_minor": 5
}
