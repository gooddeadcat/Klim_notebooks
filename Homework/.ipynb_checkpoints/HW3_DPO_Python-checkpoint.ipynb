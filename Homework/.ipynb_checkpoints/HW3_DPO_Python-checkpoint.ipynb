{
 "cells": [
  {
   "cell_type": "markdown",
   "id": "a0aa2c7e",
   "metadata": {},
   "source": [
    "1 2 3\n",
    "\n",
    "3 4 1"
   ]
  },
  {
   "cell_type": "code",
   "execution_count": 29,
   "id": "926a3002",
   "metadata": {},
   "outputs": [
    {
     "name": "stdout",
     "output_type": "stream",
     "text": [
      "1 2 3\n",
      "1 1 10\n",
      "[1.0, 2.0, 3.0]\n",
      "[1.0, 1.0, 10.0]\n",
      "Boxes are incomparable\n"
     ]
    }
   ],
   "source": [
    "box1 = sorted([float(i) for i in input().split()])\n",
    "box2 = sorted([float(i) for i in input().split()])\n",
    "\n",
    "print(box1)\n",
    "print(box2)\n",
    "\n",
    "if box1[0] >= box2[0] and box1[1] >= box2[1] and box1[2] >= box2[2]:\n",
    "    if box1[0] > box2[0] or box1[1] > box2[1] or box1[2] > box2[2]:\n",
    "        print('The first box is larger than the second one')\n",
    "    else:\n",
    "        print('Boxes are equal')\n",
    "elif box1[0] <= box2[0] and box1[1] <= box2[1] and box1[2] <= box2[2]:\n",
    "    if box1[0] < box2[0] or box1[1] < box2[1] or box1[2] < box2[2]:\n",
    "        print('The first box is smaller than the second one')\n",
    "else:\n",
    "    print('Boxes are incomparable')"
   ]
  },
  {
   "cell_type": "code",
   "execution_count": 1,
   "id": "12c3e497",
   "metadata": {},
   "outputs": [
    {
     "name": "stdout",
     "output_type": "stream",
     "text": [
      "1\n",
      "2\n",
      "3\n",
      "3\n",
      "2\n",
      "1\n",
      "[1.0, 2.0, 3.0]\n",
      "[1.0, 2.0, 3.0]\n",
      "Boxes are equal\n"
     ]
    }
   ],
   "source": [
    "box1 = sorted([float(input()), float(input()), float(input())])\n",
    "box2 = sorted([float(input()), float(input()), float(input())])\n",
    "\n",
    "print(box1)\n",
    "print(box2)\n",
    "\n",
    "if box1[0] >= box2[0] and box1[1] >= box2[1] and box1[2] >= box2[2]:\n",
    "    if box1[0] > box2[0] or box1[1] > box2[1] or box1[2] > box2[2]:\n",
    "        print('The first box is larger than the second one')\n",
    "    else:\n",
    "        print('Boxes are equal')\n",
    "elif box1[0] <= box2[0] and box1[1] <= box2[1] and box1[2] <= box2[2]:\n",
    "    if box1[0] < box2[0] or box1[1] < box2[1] or box1[2] < box2[2]:\n",
    "        print('The first box is smaller than the second one')\n",
    "else:\n",
    "    print('Boxes are incomparable')"
   ]
  },
  {
   "cell_type": "code",
   "execution_count": 25,
   "id": "62a2f26b",
   "metadata": {},
   "outputs": [
    {
     "name": "stdout",
     "output_type": "stream",
     "text": [
      "9\n",
      "1\n",
      "12\n",
      "123\n",
      "1234\n",
      "12345\n",
      "123456\n",
      "1234567\n",
      "12345678\n",
      "123456789\n"
     ]
    }
   ],
   "source": [
    "n = int(input())\n",
    "\n",
    "for i in range (1, n + 1):\n",
    "    print(*[j for j in range(1, i + 1)], sep='')"
   ]
  },
  {
   "cell_type": "code",
   "execution_count": null,
   "id": "189b2388",
   "metadata": {},
   "outputs": [],
   "source": [
    "def factorial(n):\n",
    "    if n == 1:\n",
    "        return 1\n",
    "    else:\n",
    "        return n * factorial(n-1)"
   ]
  },
  {
   "cell_type": "code",
   "execution_count": 7,
   "id": "5157b173",
   "metadata": {},
   "outputs": [
    {
     "data": {
      "text/plain": [
       "120"
      ]
     },
     "execution_count": 7,
     "metadata": {},
     "output_type": "execute_result"
    }
   ],
   "source": [
    "def factorial(n):\n",
    "    if n == 0:\n",
    "        return 1\n",
    "    else:\n",
    "        return n * factorial(n - 1)\n",
    "  \n",
    "\n",
    "factorial(5)"
   ]
  },
  {
   "cell_type": "code",
   "execution_count": null,
   "id": "f2fb68ac",
   "metadata": {},
   "outputs": [],
   "source": [
    "def fact_sum(n):\n",
    "    if n == 0:\n",
    "        return 0\n",
    "    else:\n",
    "        def factorial(n):\n",
    "            if n == 1:\n",
    "                return 1\n",
    "            else:\n",
    "                return n * factorial(n - 1)\n",
    "    return factorial(n) + fact_sum(factorial(n - 1))\n",
    "\n",
    "fact_sum(3)"
   ]
  },
  {
   "cell_type": "code",
   "execution_count": 6,
   "id": "9d01ddf8",
   "metadata": {},
   "outputs": [
    {
     "name": "stdout",
     "output_type": "stream",
     "text": [
      "4\n",
      "33\n"
     ]
    }
   ],
   "source": [
    "def factorial(n):\n",
    "    if n == 1:\n",
    "        return 1\n",
    "    else:\n",
    "        return n * factorial(n - 1)\n",
    "\n",
    "j = 0\n",
    "for i in range(int(input()) + 1):\n",
    "    if i != 0:\n",
    "        j += factorial(i)\n",
    "print(j)"
   ]
  },
  {
   "cell_type": "code",
   "execution_count": 15,
   "id": "e540ae72",
   "metadata": {
    "scrolled": true
   },
   "outputs": [
    {
     "name": "stdout",
     "output_type": "stream",
     "text": [
      "2\n",
      "a\n",
      "s\n",
      "d\n",
      "f\n",
      "{'a': 's', 'd': 'f'}\n",
      "dict_items([('a', 's'), ('d', 'f')])\n",
      "dict_keys(['a', 'd'])\n",
      "dict_values(['s', 'f'])\n",
      "<class 'dict_items'>\n"
     ]
    },
    {
     "ename": "TypeError",
     "evalue": "str.join() takes exactly one argument (2 given)",
     "output_type": "error",
     "traceback": [
      "\u001b[1;31m---------------------------------------------------------------------------\u001b[0m",
      "\u001b[1;31mTypeError\u001b[0m                                 Traceback (most recent call last)",
      "Input \u001b[1;32mIn [15]\u001b[0m, in \u001b[0;36m<cell line: 11>\u001b[1;34m()\u001b[0m\n\u001b[0;32m      9\u001b[0m \u001b[38;5;124m'\u001b[39m\u001b[38;5;124mc\u001b[39m\u001b[38;5;124m'\u001b[39m \u001b[38;5;129;01min\u001b[39;00m pairs\u001b[38;5;241m.\u001b[39mitems()\n\u001b[0;32m     10\u001b[0m \u001b[38;5;28mprint\u001b[39m(\u001b[38;5;28mtype\u001b[39m(pairs\u001b[38;5;241m.\u001b[39mitems()))\n\u001b[1;32m---> 11\u001b[0m a \u001b[38;5;241m=\u001b[39m \u001b[38;5;28mstr\u001b[39m(\u001b[38;5;124;43m'\u001b[39;49m\u001b[38;5;124;43m,\u001b[39;49m\u001b[38;5;124;43m'\u001b[39;49m\u001b[38;5;241;43m.\u001b[39;49m\u001b[43mjoin\u001b[49m\u001b[43m(\u001b[49m\u001b[38;5;241;43m*\u001b[39;49m\u001b[43mpairs\u001b[49m\u001b[38;5;241;43m.\u001b[39;49m\u001b[43mitems\u001b[49m\u001b[43m(\u001b[49m\u001b[43m)\u001b[49m\u001b[43m)\u001b[49m)\n\u001b[0;32m     12\u001b[0m \u001b[38;5;28mprint\u001b[39m(a)\n",
      "\u001b[1;31mTypeError\u001b[0m: str.join() takes exactly one argument (2 given)"
     ]
    }
   ],
   "source": [
    "n = int(input())\n",
    "pairs = {}\n",
    "for i in range(n):\n",
    "    pairs.update({input(): input()})\n",
    "print(pairs)\n",
    "print(pairs.items())\n",
    "print(pairs.keys())\n",
    "print(pairs.values())\n",
    "'c' in pairs.items()\n",
    "print(type(pairs.items()))\n",
    "a = str(','.join(*pairs.items()))\n",
    "print(a)"
   ]
  },
  {
   "cell_type": "code",
   "execution_count": 25,
   "id": "a14a847d",
   "metadata": {},
   "outputs": [
    {
     "name": "stdout",
     "output_type": "stream",
     "text": [
      "2\n",
      "a\n",
      "s\n",
      "d\n",
      "f\n",
      "d\n",
      "f\n"
     ]
    }
   ],
   "source": [
    "n = int(input())\n",
    "pairs = {}\n",
    "for i in range(n):\n",
    "    pairs.update({input(): input()})\n",
    "k = list(pairs.keys())\n",
    "v = list(pairs.values())\n",
    "s = input()\n",
    "if s in k:\n",
    "    i = k.index(s)\n",
    "    print(v[i])\n",
    "elif s in v:\n",
    "    i = v.index(s)\n",
    "    print(k[i])"
   ]
  },
  {
   "cell_type": "code",
   "execution_count": 26,
   "id": "3020c865",
   "metadata": {},
   "outputs": [
    {
     "name": "stdout",
     "output_type": "stream",
     "text": [
      "2\n",
      "a s\n",
      "d f\n",
      "s\n",
      "a\n"
     ]
    }
   ],
   "source": [
    "n = int(input())\n",
    "pairs = {}\n",
    "for i in range(n):\n",
    "    pair = input().split()\n",
    "    pairs.update({pair[0]: pair[1]})\n",
    "k = list(pairs.keys())\n",
    "v = list(pairs.values())\n",
    "s = input()\n",
    "if s in k:\n",
    "    i = k.index(s)\n",
    "    print(v[i])\n",
    "elif s in v:\n",
    "    i = v.index(s)\n",
    "    print(k[i])"
   ]
  },
  {
   "cell_type": "code",
   "execution_count": 36,
   "id": "ab3a560d",
   "metadata": {},
   "outputs": [
    {
     "name": "stdout",
     "output_type": "stream",
     "text": [
      "-1\n",
      "0\n",
      "Yes\n"
     ]
    }
   ],
   "source": [
    "def IsPointInSquare(x, y):\n",
    "    return str(-1 <= x <= 1 and -1 <= y <= 1).replace('True', 'Yes').replace('False', 'No')\n",
    "\n",
    "x = float(input())\n",
    "y = float(input())\n",
    "\n",
    "print(IsPointInSquare(x, y))"
   ]
  },
  {
   "cell_type": "code",
   "execution_count": 33,
   "id": "590f011a",
   "metadata": {},
   "outputs": [
    {
     "name": "stdout",
     "output_type": "stream",
     "text": [
      "No\n"
     ]
    }
   ],
   "source": [
    "print(str((-1 <= 2 <= 1 and -1 <= 0 <= 1)).replace('True', 'Yes').replace('False', 'No'))"
   ]
  },
  {
   "cell_type": "code",
   "execution_count": 37,
   "id": "ca6355f6",
   "metadata": {},
   "outputs": [
    {
     "name": "stdout",
     "output_type": "stream",
     "text": [
      "2\n",
      "3\n",
      "8.0\n"
     ]
    }
   ],
   "source": [
    "def power(a, n):\n",
    "    if n == 0:\n",
    "        return 1\n",
    "    elif n % 2 == 1:\n",
    "        return power(a, n - 1) * a\n",
    "    else:\n",
    "        return power(a, n // 2) ** 2\n",
    "    \n",
    "a = float(input())\n",
    "n = int(input())\n",
    "\n",
    "print(power(a, n))"
   ]
  },
  {
   "cell_type": "markdown",
   "id": "70e2b9d9",
   "metadata": {},
   "source": [
    "Petrov Ivanov, DL Bio\n",
    "\n",
    "Petrov, DL\n",
    "\n",
    "Komarov Ivanov, DL Ling\n",
    "\n",
    "Komarov, Ling Math\n",
    "\n",
    "Petrov Komarov, DL Math\n",
    "\n",
    "0"
   ]
  },
  {
   "cell_type": "markdown",
   "id": "51d9369e",
   "metadata": {},
   "source": [
    "article = input().split(', ')\n",
    "authors = article[0].split()\n",
    "topics = article[1].split()\n",
    "\n",
    "\n",
    "pairs = [(authors[i], topics[j]) for i in range(len(authors)) for j in range(len(topics))] + [(authors[i], topics[j]) for i in range(len(authors)) for j in range(len(topics))]\n",
    "\n",
    "print(article)\n",
    "print(authors)\n",
    "print(topics)\n",
    "print(pairs)"
   ]
  },
  {
   "cell_type": "code",
   "execution_count": 88,
   "id": "55411432",
   "metadata": {},
   "outputs": [
    {
     "name": "stdout",
     "output_type": "stream",
     "text": [
      "Smirnova Ivanova, Classification Biology\n",
      "Smirnova Ivanova, Clustering Biology\n",
      "Smirnova, Clustering\n",
      "0\n",
      "[(('Smirnova', 'Classification'), 1), (('Smirnova', 'Biology'), 2), (('Ivanova', 'Classification'), 1), (('Ivanova', 'Biology'), 2), (('Smirnova', 'Clustering'), 2), (('Ivanova', 'Clustering'), 1)]\n",
      "('Smirnova', 'Biology')\n",
      "('Ivanova', 'Biology')\n",
      "('Smirnova', 'Clustering')\n"
     ]
    }
   ],
   "source": [
    "pairs = []\n",
    "\n",
    "while True:\n",
    "    article = input().split(', ')\n",
    "    if article == ['0']:\n",
    "        break\n",
    "    else:\n",
    "        authors = article[0].split()\n",
    "        topics = article[1].split()\n",
    "        pairs += [(authors[i], topics[j]) for i in range(len(authors)) for j in range(len(topics))]\n",
    "        \n",
    "freq = {pairs[i]: pairs.count(pairs[i]) for i in range(len(pairs))}\n",
    "\n",
    "m = max(list(freq.values()))\n",
    "it = list(freq.items())\n",
    "print(it)\n",
    "\n",
    "for i in range(len(it)):\n",
    "    if m in it[i]:\n",
    "        print(it[i][0])"
   ]
  },
  {
   "cell_type": "code",
   "execution_count": 85,
   "id": "066c31d6",
   "metadata": {},
   "outputs": [
    {
     "name": "stdout",
     "output_type": "stream",
     "text": [
      "{('Petrov', 'DL'): 3, ('Petrov', 'Bio'): 1, ('Ivanov', 'DL'): 2, ('Ivanov', 'Bio'): 1, ('Komarov', 'DL'): 2, ('Komarov', 'Ling'): 2, ('Ivanov', 'Ling'): 1, ('Komarov', 'Math'): 2, ('Petrov', 'Math'): 1}\n",
      "9\n",
      "3\n",
      "[(('Petrov', 'DL'), 3), (('Petrov', 'Bio'), 1), (('Ivanov', 'DL'), 2), (('Ivanov', 'Bio'), 1), (('Komarov', 'DL'), 2), (('Komarov', 'Ling'), 2), (('Ivanov', 'Ling'), 1), (('Komarov', 'Math'), 2), (('Petrov', 'Math'), 1)]\n"
     ]
    }
   ],
   "source": [
    "test = [('Petrov', 'DL'), ('Petrov', 'Bio'), ('Ivanov', 'DL'), ('Ivanov', 'Bio'), ('Petrov', 'DL'), ('Komarov', 'DL'), ('Komarov', 'Ling'), ('Ivanov', 'DL'), ('Ivanov', 'Ling'), ('Komarov', 'Ling'), ('Komarov', 'Math'), ('Petrov', 'DL'), ('Petrov', 'Math'), ('Komarov', 'DL'), ('Komarov', 'Math')]\n",
    "\n",
    "test.count(test[0])\n",
    "freq = {test[i]: test.count(test[i]) for i in range(len(test))}\n",
    "print(freq)\n",
    "print(len(freq))\n",
    "\n",
    "v = list(freq.values())\n",
    "m = max(v)\n",
    "print(m)\n",
    "it = list(freq.items())\n",
    "print(it)\n",
    "\n",
    "#for i in range(len(freq)):\n",
    "#    if m == freq[i]:\n",
    "#        print(i)"
   ]
  },
  {
   "cell_type": "code",
   "execution_count": null,
   "id": "4ca70731",
   "metadata": {},
   "outputs": [],
   "source": [
    "pairs = []\n",
    "\n",
    "while True:\n",
    "    article = input().split(', ')\n",
    "    if article == ['0']:\n",
    "        break\n",
    "    else:\n",
    "        authors = article[0].split()\n",
    "        topics = article[1].split()\n",
    "        pairs += [(authors[i], topics[j]) for i in range(len(authors)) for j in range(len(topics))]\n",
    "        \n",
    "freq = {pairs[i]: pairs.count(pairs[i]) for i in range(len(pairs))}\n",
    "\n",
    "m = max(list(freq.values()))\n",
    "it = list(freq.items())\n",
    "\n",
    "for i in range(len(it)):\n",
    "    if m in it[i]:\n",
    "        print(it[i][0])"
   ]
  },
  {
   "cell_type": "code",
   "execution_count": null,
   "id": "e136b015",
   "metadata": {},
   "outputs": [],
   "source": [
    "pairs = [] # создаём список pairs, в который будут заноситься все совпадения автор-тема\n",
    "\n",
    "while True: # инициируем цикл\n",
    "    article = input().split(', ') # разбиваем ввод на авторов и темы и заносим эти 2 элемента в список article\n",
    "    if article == ['0']: # по условию задания, заканчиваем цикл командой break, если на вводе оказался 0\n",
    "        break\n",
    "    else: # в противном случае:\n",
    "        authors = article[0].split() # разбиваем строку авторов article[0] по пробелу и делаем из них список authors\n",
    "        topics = article[1].split() # аналогично - для тем. Индексация в Питоне начинается с 0, поэтому [0] и [1].\n",
    "        \n",
    "        pairs += [(authors[i], topics[j]) for i in range(len(authors)) for j in range(len(topics))]\n",
    "'''Самая важная строчка. В ней мы на каждом вводе пополняем список pairs новыми совпадениями.\n",
    "Запись pairs += [списковое включение] означает, что на каждой итерации pairs = pairs из предыдущей итерации + новые элементы,\n",
    "которые задаются списковым включением. А оно буквально делает следующее: для текущего ввода для каждого автора i\n",
    "от 1-го до последнего из списка авторов <for i in range(len(authors))>  (len - length) и для каждой темы j\n",
    "от 1-й до последней из списка тем <for j in range(len(topics))> создаётся новый элемент списка pairs, представляющий\n",
    "собой пару (автор, тема) <(authors[i], topics[j])>''' \n",
    "\n",
    "freq = {pairs[i]: pairs.count(pairs[i]) for i in range(len(pairs))}\n",
    "\n",
    "'''Вторая самая важная строчка. В ней мы создаём словарь freq (от frequency) на основе списка pairs. Делаем это словарным\n",
    "включением. Оно для каждого элемента (автор, тема) в pairs <for i in range(len(pairs))>\n",
    "в качестве уникального ключа добавляет этот элемент <pairs[i]> в словарь, а в качестве его значения - частота, с которой\n",
    "этот элемент встречается в списке pairs, с помощью метода список.count(i-й элемент), <pairs.count(pairs[i])>'''\n",
    "\n",
    "m = max(list(freq.values())) # находим в списке значений словаря ммксимальное и добавлем его в переменную m\n",
    "it = list(freq.items()) # создаём переменную it как список элементов словаря freq. Элемент это пара ключ: значение\n",
    "# через запятую: ((автор, тема), количество)\n",
    "\n",
    "for i in range(len(it)): # для каждого i-го элемента списка it:\n",
    "    if m in it[i]: # если в нём есть m (будем считать, что цифр в фамилиях не бывает, иначе бы искали по второму\n",
    "# под-элементу it[i][1]):\n",
    "        print(it[i][0]) # распечатываем его первый под-элемент, а именно пару (автор, тема)"
   ]
  },
  {
   "cell_type": "code",
   "execution_count": null,
   "id": "1de44a22",
   "metadata": {},
   "outputs": [],
   "source": []
  }
 ],
 "metadata": {
  "kernelspec": {
   "display_name": "Python 3 (ipykernel)",
   "language": "python",
   "name": "python3"
  },
  "language_info": {
   "codemirror_mode": {
    "name": "ipython",
    "version": 3
   },
   "file_extension": ".py",
   "mimetype": "text/x-python",
   "name": "python",
   "nbconvert_exporter": "python",
   "pygments_lexer": "ipython3",
   "version": "3.9.12"
  }
 },
 "nbformat": 4,
 "nbformat_minor": 5
}
