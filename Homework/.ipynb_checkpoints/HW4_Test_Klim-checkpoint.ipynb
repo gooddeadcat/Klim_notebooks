{
 "cells": [
  {
   "cell_type": "markdown",
   "id": "6da466f2",
   "metadata": {},
   "source": [
    "Петя, ты ШТО делаеШь?"
   ]
  },
  {
   "cell_type": "code",
   "execution_count": 58,
   "id": "9c273084",
   "metadata": {},
   "outputs": [
    {
     "name": "stdout",
     "output_type": "stream",
     "text": [
      "Мама мыла раму\n",
      "МаМа МыЛа РаМу\n"
     ]
    }
   ],
   "source": [
    "import re\n",
    "\n",
    "phrase = input().lower()\n",
    "\n",
    "letters = [i for i in range(len(phrase)) if phrase[i].isalpha()]\n",
    "\n",
    "uc = [letters[i] for i in range(0, len(letters), 2)]\n",
    "\n",
    "retro = ''\n",
    "for i in range(len(phrase)):\n",
    "    if i in uc:\n",
    "        retro += phrase[i].upper()\n",
    "    else:\n",
    "        retro += phrase[i]\n",
    "    \n",
    "print(retro)  "
   ]
  },
  {
   "cell_type": "code",
   "execution_count": 23,
   "id": "f32cb5e4",
   "metadata": {},
   "outputs": [
    {
     "name": "stdout",
     "output_type": "stream",
     "text": [
      "1.0043478260869565\n"
     ]
    }
   ],
   "source": [
    "with open('input.txt') as f:\n",
    " x = f.read()\n",
    "\n",
    "y = x.split('\\n')\n",
    "\n",
    "s = set()\n",
    "for i in range(len(y)):\n",
    "    s.add(y[i].split()[0])\n",
    "    \n",
    "d = {}\n",
    "for i in s:\n",
    "    l = []\n",
    "    for j in range(len(y)):\n",
    "        if i == y[j].split()[0]:\n",
    "            l.append(int(y[j].split()[2]))\n",
    "    d[i] = l\n",
    "\n",
    "print(max([max(d[i]) / max(d[i][0], d[i][-1]) for i in d]))"
   ]
  },
  {
   "cell_type": "markdown",
   "id": "de114bff",
   "metadata": {},
   "source": [
    "2020-07-19 21:00:00 20\n",
    "2020-07-19 22:00:00 10\n",
    "2020-07-19 23:00:00 40\n",
    "2020-07-20 00:00:00 50\n",
    "2020-07-20 01:00:00 10\n",
    "2020-07-20 02:00:00 20\n",
    "2020-07-20 03:00:00 15\n",
    "2020-07-20 04:00:00 60\n",
    "2020-07-20 05:00:00 10"
   ]
  },
  {
   "cell_type": "code",
   "execution_count": 1,
   "id": "45b598ae",
   "metadata": {},
   "outputs": [
    {
     "name": "stdout",
     "output_type": "stream",
     "text": [
      "Ivanov:\n",
      "envelope 5\n",
      "marker 3\n",
      "paper 17\n",
      "Petrov:\n",
      "envelope 20\n",
      "pens 5\n"
     ]
    }
   ],
   "source": [
    "with open('input.txt') as f:\n",
    "    purchases = [line.strip() for line in f]\n",
    "\n",
    "buyers = sorted({purchases[i].split()[0] for i in range(len(purchases))})\n",
    "articles = sorted({purchases[i].split()[1] for i in range(len(purchases))})\n",
    "\n",
    "record = {}\n",
    "for buyer in buyers:\n",
    "    cart = {}\n",
    "    for article in articles:\n",
    "        q = 0\n",
    "        for i in range(len(purchases)):\n",
    "            if buyer == purchases[i].split()[0] and article == purchases[i].split()[1]:\n",
    "                q += int(purchases[i].split()[2])\n",
    "        if q != 0:\n",
    "            cart[article] = q\n",
    "    if len(cart) != 0:\n",
    "        record[buyer] = cart\n",
    "\n",
    "for i in record:\n",
    "    print(f'{i}:')\n",
    "    for j in record[i]:\n",
    "        print(f'{j} {record[i][j]}')"
   ]
  },
  {
   "cell_type": "code",
   "execution_count": null,
   "id": "e7db4301",
   "metadata": {},
   "outputs": [],
   "source": []
  },
  {
   "cell_type": "code",
   "execution_count": 59,
   "id": "551a11ad",
   "metadata": {},
   "outputs": [
    {
     "name": "stdout",
     "output_type": "stream",
     "text": [
      "['Ivanov paper 10', 'Petrov pens 5', 'Ivanov marker 3', 'Ivanov paper 7', 'Petrov envelope 20', 'Ivanov envelope 5']\n",
      "{'Ivanov': {'envelope': 0, 'marker': 0, 'paper': 0, 'pens': 0}, 'Petrov': {'envelope': 0, 'marker': 0, 'paper': 0, 'pens': 0}}\n",
      "Ivanov:\n",
      "envelope 5\n",
      "marker 3\n",
      "paper 17\n",
      "Petrov:\n",
      "envelope 20\n",
      "pens 5\n",
      "{'Ivanov': {'envelope': 5, 'marker': 3, 'paper': 17, 'pens': 0}, 'Petrov': {'envelope': 20, 'marker': 0, 'paper': 0, 'pens': 5}}\n"
     ]
    }
   ],
   "source": [
    "with open('input.txt') as f:\n",
    "    purchases = [line.strip() for line in f]\n",
    "\n",
    "buyers = sorted({purchases[i].split()[0] for i in range(len(purchases))})\n",
    "articles = sorted({purchases[i].split()[1] for i in range(len(purchases))})\n",
    "\n",
    "\n",
    "sales = {buyers[buyer]: {articles[article]: 0 for article in range(len(articles))}\n",
    "          for buyer in range(len(buyers))}\n",
    "\n",
    "for buyer in sales:\n",
    "    for article in sales[buyer]: \n",
    "        for i in range(len(purchases)):\n",
    "            if buyer == purchases[i].split()[0] and article == purchases[i].split()[1]:\n",
    "                sales[buyer][article] += int(purchases[i].split()[2])\n",
    "\n",
    "for buyer in sales:\n",
    "    print(buyer + ':')\n",
    "    for article in sales[buyer]:\n",
    "        if sales[buyer][article] != 0:\n",
    "            print(article, sales[buyer][article])"
   ]
  },
  {
   "cell_type": "markdown",
   "id": "8fbddc36",
   "metadata": {},
   "source": [
    "4 3\n",
    "0\n",
    "1\n",
    "10\n",
    "9\n",
    "1\n",
    "3\n",
    "0"
   ]
  },
  {
   "cell_type": "code",
   "execution_count": null,
   "id": "a563b486",
   "metadata": {},
   "outputs": [],
   "source": [
    "from collections import defaultdict\n",
    "f = open('input.txt')\n",
    "dict = defaultdict(lambda: defaultdict(int))\n",
    "for line in f:\n",
    "    name, thing, quan = map(str, line.split())\n",
    "    dict[name][thing] += int(quan)\n",
    "for name in sorted(dict):\n",
    "    print(name + \":\")\n",
    "    for thing in sorted(dict[name]):\n",
    "        print(thing, dict[name][thing])"
   ]
  },
  {
   "cell_type": "code",
   "execution_count": 199,
   "id": "da12a67f",
   "metadata": {},
   "outputs": [
    {
     "name": "stdout",
     "output_type": "stream",
     "text": [
      "3 3\n",
      "3\n",
      "2\n",
      "1\n",
      "5\n",
      "2\n",
      "3\n",
      "{1, 2, 3}\n",
      "{2, 3, 5}\n",
      "2\n",
      "2 3\n"
     ]
    }
   ],
   "source": [
    "ab = input()\n",
    "a = int(ab.split()[0])\n",
    "b = int(ab.split()[1])\n",
    "\n",
    "an = {int(input()) for _ in range(a)}\n",
    "bo = {int(input()) for _ in range(b)}\n",
    "\n",
    "\n",
    "print(len(an & bo))\n",
    "print(*sorted(an & bo), sep=' ')\n",
    "\n",
    "print(len(an - bo))\n",
    "print(*sorted(an - bo), sep=' ')\n",
    "\n",
    "print(len(bo - an))\n",
    "print(*sorted(bo - an), sep=' ')"
   ]
  },
  {
   "cell_type": "markdown",
   "id": "b0f2eabd",
   "metadata": {},
   "source": [
    "Ivanov paper 10\n",
    "Petrov pens 5\n",
    "Ivanov marker 3\n",
    "Ivanov paper 7\n",
    "Petrov envelope 20\n",
    "Ivanov envelope 5\n"
   ]
  },
  {
   "cell_type": "code",
   "execution_count": 233,
   "id": "77b643aa",
   "metadata": {},
   "outputs": [
    {
     "name": "stdout",
     "output_type": "stream",
     "text": [
      "10\n",
      "0 0 5 4 7 10 9 8 3 8\n",
      "[0, 0, 5, 4, 7, 10, 9, 8, 3, 8]\n",
      "0 10 5\n",
      "2\n",
      "2 1 4\n"
     ]
    }
   ],
   "source": [
    "N = int(input())\n",
    "grades = [int(num) for num in input().split()]\n",
    "\n",
    "print(min(grades), max(grades), round(sum(grades) / N))\n",
    "print(grades.count(0))\n",
    "print(grades.count(4) + grades.count(5), grades.count(6) + grades.count(7),\n",
    "     grades.count(8) + grades.count(9) + grades.count(10))"
   ]
  },
  {
   "cell_type": "code",
   "execution_count": 1,
   "id": "47383fb9",
   "metadata": {},
   "outputs": [],
   "source": [
    "import numpy as np"
   ]
  },
  {
   "attachments": {
    "image.png": {
     "image/png": "[encoded data removed]"
    }
   },
   "cell_type": "markdown",
   "id": "f624dce6",
   "metadata": {},
   "source": [
    "![image.png](attachment:image.png)"
   ]
  },
  {
   "cell_type": "code",
   "execution_count": 21,
   "id": "3014edd2",
   "metadata": {},
   "outputs": [
    {
     "name": "stdout",
     "output_type": "stream",
     "text": [
      "2\n",
      "[[1 0]\n",
      " [0 2]]\n",
      "[[1 0]\n",
      " [0 1]]\n",
      "[[10. 10.]\n",
      " [10. 10.]]\n",
      "[[1 0]\n",
      " [0 1]]\n",
      "[[1 0]\n",
      " [0 1]]\n",
      "[[2 0]\n",
      " [0 3]]\n",
      "[[0.5        0.        ]\n",
      " [0.         0.33333333]]\n",
      "[[10. 10.]\n",
      " [10. 10.]]\n",
      "[[200. 200.]\n",
      " [200. 200.]]\n",
      "[[200.5        200.        ]\n",
      " [200.         200.33333333]]\n",
      "166.83333333333917\n"
     ]
    }
   ],
   "source": [
    "n = int(input())\n",
    "\n",
    "v = np.arange(1, n + 1, 1)\n",
    "a = np.diag(v)\n",
    "print(a)\n",
    "\n",
    "if n % 2 == 0:\n",
    "    b = np.tile(np.array([[1,0],[0,1]]), (n // 2, n // 2))\n",
    "    print(b)\n",
    "else:\n",
    "    b = np.tile(np.array([[1,0],[0,1]]), ((n + 1) // 2, (n + 1) // 2))[:n, :n]\n",
    "    print(b)\n",
    "    \n",
    "c = np.zeros((n, n))\n",
    "c[0, :] += 10\n",
    "c[1:, 0] += 10\n",
    "c[-1, 1:] += 10\n",
    "c[1: -1, -1] += 10\n",
    "print(c)\n",
    "\n",
    "bt = b.T\n",
    "print(bt)\n",
    "\n",
    "btb = bt.dot(b)\n",
    "print(btb)\n",
    "\n",
    "btb_a = btb + a\n",
    "print(btb_a)\n",
    "\n",
    "btb_a_inv = np.linalg.inv(btb_a)\n",
    "print(btb_a_inv)\n",
    "\n",
    "ct = c.T\n",
    "print(ct)\n",
    "\n",
    "ctc = ct.dot(c)\n",
    "print(ctc)\n",
    "\n",
    "d = btb_a_inv + ctc\n",
    "print(d)\n",
    "\n",
    "det_d = np.linalg.det(d)\n",
    "\n",
    "print(det_d)"
   ]
  },
  {
   "cell_type": "code",
   "execution_count": 40,
   "id": "06332b7e",
   "metadata": {},
   "outputs": [
    {
     "name": "stdout",
     "output_type": "stream",
     "text": [
      "1\n",
      "100.5\n"
     ]
    }
   ],
   "source": [
    "n = int(input())\n",
    "\n",
    "v = np.arange(1, n + 1, 1)\n",
    "a = np.diag(v)\n",
    "\n",
    "if n % 2 == 0:\n",
    "    b = np.tile(np.array([[1,0],[0,1]]), (n // 2, n // 2))\n",
    "else:\n",
    "    b = np.tile(np.array([[1,0],[0,1]]), ((n + 1) // 2, (n + 1) // 2))[:-1, :-1]\n",
    "    \n",
    "c = np.zeros((n, n))\n",
    "c[0, :] += 10\n",
    "c[1:, 0] += 10\n",
    "c[-1, 1:] += 10\n",
    "c[1: -1, -1] += 10\n",
    "\n",
    "d = np.linalg.inv(b.T.dot(b) + a) + c.T.dot(c)\n",
    "\n",
    "print(round(np.linalg.det(d), 2))"
   ]
  },
  {
   "cell_type": "code",
   "execution_count": 32,
   "id": "7a616c4a",
   "metadata": {},
   "outputs": [
    {
     "name": "stdout",
     "output_type": "stream",
     "text": [
      "5\n",
      "[[1 0 1 0 1]\n",
      " [0 1 0 1 0]\n",
      " [1 0 1 0 1]\n",
      " [0 1 0 1 0]\n",
      " [1 0 1 0 1]]\n"
     ]
    }
   ],
   "source": [
    "n = int(input())\n",
    "\n",
    "if n % 2 == 0:\n",
    "    x = np.tile(np.array([[1,0],[0,1]]), (n // 2, n // 2))\n",
    "    print(x)\n",
    "else:\n",
    "    x = np.tile(np.array([[1,0],[0,1]]), ((n + 1) // 2, (n + 1) // 2))[:-1, :-1]\n",
    "    print(x)"
   ]
  },
  {
   "cell_type": "code",
   "execution_count": 9,
   "id": "786afbae",
   "metadata": {},
   "outputs": [
    {
     "name": "stdout",
     "output_type": "stream",
     "text": [
      "5\n",
      "[[10. 10. 10. 10. 10.]\n",
      " [10.  0.  0.  0. 10.]\n",
      " [10.  0.  0.  0. 10.]\n",
      " [10.  0.  0.  0. 10.]\n",
      " [10. 10. 10. 10. 10.]]\n"
     ]
    }
   ],
   "source": [
    "n = int(input())\n",
    "\n",
    "c = np.zeros((n, n))\n",
    "c[0, :] += 10\n",
    "c[1:, 0] += 10\n",
    "c[-1, 1:] += 10\n",
    "c[1: -1, -1] += 10\n",
    "print(c)"
   ]
  },
  {
   "cell_type": "code",
   "execution_count": 255,
   "id": "5d6cb9bf",
   "metadata": {},
   "outputs": [
    {
     "ename": "TypeError",
     "evalue": "'int' object is not iterable",
     "output_type": "error",
     "traceback": [
      "\u001b[1;31m---------------------------------------------------------------------------\u001b[0m",
      "\u001b[1;31mTypeError\u001b[0m                                 Traceback (most recent call last)",
      "Input \u001b[1;32mIn [255]\u001b[0m, in \u001b[0;36m<cell line: 1>\u001b[1;34m()\u001b[0m\n\u001b[1;32m----> 1\u001b[0m \u001b[43mnp\u001b[49m\u001b[38;5;241;43m.\u001b[39;49m\u001b[43mindices\u001b[49m\u001b[43m(\u001b[49m\u001b[38;5;241;43m4\u001b[39;49m\u001b[43m)\u001b[49m\u001b[38;5;241m.\u001b[39msum(axis\u001b[38;5;241m=\u001b[39m\u001b[38;5;241m0\u001b[39m) \u001b[38;5;241m%\u001b[39m \u001b[38;5;241m2\u001b[39m\n",
      "File \u001b[1;32mC:\\ProgramData\\Anaconda3\\lib\\site-packages\\numpy\\core\\numeric.py:1764\u001b[0m, in \u001b[0;36mindices\u001b[1;34m(dimensions, dtype, sparse)\u001b[0m\n\u001b[0;32m   1679\u001b[0m \u001b[38;5;129m@set_module\u001b[39m(\u001b[38;5;124m'\u001b[39m\u001b[38;5;124mnumpy\u001b[39m\u001b[38;5;124m'\u001b[39m)\n\u001b[0;32m   1680\u001b[0m \u001b[38;5;28;01mdef\u001b[39;00m \u001b[38;5;21mindices\u001b[39m(dimensions, dtype\u001b[38;5;241m=\u001b[39m\u001b[38;5;28mint\u001b[39m, sparse\u001b[38;5;241m=\u001b[39m\u001b[38;5;28;01mFalse\u001b[39;00m):\n\u001b[0;32m   1681\u001b[0m     \u001b[38;5;124;03m\"\"\"\u001b[39;00m\n\u001b[0;32m   1682\u001b[0m \u001b[38;5;124;03m    Return an array representing the indices of a grid.\u001b[39;00m\n\u001b[0;32m   1683\u001b[0m \n\u001b[1;32m   (...)\u001b[0m\n\u001b[0;32m   1762\u001b[0m \n\u001b[0;32m   1763\u001b[0m \u001b[38;5;124;03m    \"\"\"\u001b[39;00m\n\u001b[1;32m-> 1764\u001b[0m     dimensions \u001b[38;5;241m=\u001b[39m \u001b[38;5;28;43mtuple\u001b[39;49m\u001b[43m(\u001b[49m\u001b[43mdimensions\u001b[49m\u001b[43m)\u001b[49m\n\u001b[0;32m   1765\u001b[0m     N \u001b[38;5;241m=\u001b[39m \u001b[38;5;28mlen\u001b[39m(dimensions)\n\u001b[0;32m   1766\u001b[0m     shape \u001b[38;5;241m=\u001b[39m (\u001b[38;5;241m1\u001b[39m,)\u001b[38;5;241m*\u001b[39mN\n",
      "\u001b[1;31mTypeError\u001b[0m: 'int' object is not iterable"
     ]
    }
   ],
   "source": []
  },
  {
   "attachments": {
    "image.png": {
     "image/png": "[encoded data removed]"
    }
   },
   "cell_type": "markdown",
   "id": "5e8a3c02",
   "metadata": {},
   "source": [
    "![image.png](attachment:image.png)"
   ]
  },
  {
   "cell_type": "code",
   "execution_count": 84,
   "id": "a61d9874",
   "metadata": {},
   "outputs": [],
   "source": [
    "import math\n",
    "import re"
   ]
  },
  {
   "cell_type": "code",
   "execution_count": 68,
   "id": "51036b31",
   "metadata": {},
   "outputs": [
    {
     "data": {
      "text/plain": [
       "7.3890560989306495"
      ]
     },
     "execution_count": 68,
     "metadata": {},
     "output_type": "execute_result"
    }
   ],
   "source": [
    "pow(math.e, 2)"
   ]
  },
  {
   "cell_type": "code",
   "execution_count": 87,
   "id": "169c435b",
   "metadata": {},
   "outputs": [
    {
     "name": "stdout",
     "output_type": "stream",
     "text": [
      "2\n",
      "10\n",
      "6.3890560989\n",
      "4.3890560989\n",
      "2.3890560989\n",
      "1.0557227656\n",
      "0.3890560989\n",
      "0.1223894323\n",
      "0.0335005434\n",
      "0.0081037180\n",
      "0.0017545116\n",
      "0.0003435769\n"
     ]
    }
   ],
   "source": [
    "x = float(input())\n",
    "n = int(input())\n",
    "\n",
    "m = 0\n",
    "for i in range(n):\n",
    "    m += pow(x, i) / math.factorial(i)\n",
    "    error = (abs(m - pow(math.e, x)))\n",
    "    print(\"%.10f\"%error)"
   ]
  },
  {
   "cell_type": "code",
   "execution_count": 69,
   "id": "cf3e7e93",
   "metadata": {},
   "outputs": [
    {
     "data": {
      "text/plain": [
       "1"
      ]
     },
     "execution_count": 69,
     "metadata": {},
     "output_type": "execute_result"
    }
   ],
   "source": [
    "math.factorial(0)"
   ]
  },
  {
   "cell_type": "code",
   "execution_count": 63,
   "id": "efe6b14c",
   "metadata": {},
   "outputs": [],
   "source": [
    "b = pow(0.125, 3)"
   ]
  },
  {
   "cell_type": "code",
   "execution_count": 65,
   "id": "4be17692",
   "metadata": {},
   "outputs": [
    {
     "data": {
      "text/plain": [
       "0.0003255208333333333"
      ]
     },
     "execution_count": 65,
     "metadata": {},
     "output_type": "execute_result"
    }
   ],
   "source": [
    "b / a"
   ]
  },
  {
   "cell_type": "code",
   "execution_count": 67,
   "id": "8517b1e6",
   "metadata": {},
   "outputs": [
    {
     "data": {
      "text/plain": [
       "1.3333333333333333"
      ]
     },
     "execution_count": 67,
     "metadata": {},
     "output_type": "execute_result"
    }
   ],
   "source": [
    "8 / 6"
   ]
  },
  {
   "cell_type": "code",
   "execution_count": null,
   "id": "0c20d1b4",
   "metadata": {},
   "outputs": [],
   "source": []
  }
 ],
 "metadata": {
  "kernelspec": {
   "display_name": "Python 3 (ipykernel)",
   "language": "python",
   "name": "python3"
  },
  "language_info": {
   "codemirror_mode": {
    "name": "ipython",
    "version": 3
   },
   "file_extension": ".py",
   "mimetype": "text/x-python",
   "name": "python",
   "nbconvert_exporter": "python",
   "pygments_lexer": "ipython3",
   "version": "3.9.12"
  }
 },
 "nbformat": 4,
 "nbformat_minor": 5
}
