{
 "cells": [
  {
   "cell_type": "markdown",
   "id": "6da466f2",
   "metadata": {},
   "source": [
    "Петя, ты ШТО делаеШь?"
   ]
  },
  {
   "cell_type": "code",
   "execution_count": 58,
   "id": "9c273084",
   "metadata": {},
   "outputs": [
    {
     "name": "stdout",
     "output_type": "stream",
     "text": [
      "Мама мыла раму\n",
      "МаМа МыЛа РаМу\n"
     ]
    }
   ],
   "source": [
    "import re\n",
    "\n",
    "phrase = input().lower()\n",
    "\n",
    "letters = [i for i in range(len(phrase)) if phrase[i].isalpha()]\n",
    "\n",
    "uc = [letters[i] for i in range(0, len(letters), 2)]\n",
    "\n",
    "retro = ''\n",
    "for i in range(len(phrase)):\n",
    "    if i in uc:\n",
    "        retro += phrase[i].upper()\n",
    "    else:\n",
    "        retro += phrase[i]\n",
    "    \n",
    "print(retro)  "
   ]
  },
  {
   "cell_type": "code",
   "execution_count": 23,
   "id": "f32cb5e4",
   "metadata": {},
   "outputs": [
    {
     "name": "stdout",
     "output_type": "stream",
     "text": [
      "1.0043478260869565\n"
     ]
    }
   ],
   "source": [
    "with open('input.txt') as f:\n",
    " x = f.read()\n",
    "\n",
    "y = x.split('\\n')\n",
    "\n",
    "s = set()\n",
    "for i in range(len(y)):\n",
    "    s.add(y[i].split()[0])\n",
    "    \n",
    "d = {}\n",
    "for i in s:\n",
    "    l = []\n",
    "    for j in range(len(y)):\n",
    "        if i == y[j].split()[0]:\n",
    "            l.append(int(y[j].split()[2]))\n",
    "    d[i] = l\n",
    "\n",
    "print(max([max(d[i]) / max(d[i][0], d[i][-1]) for i in d]))"
   ]
  },
  {
   "cell_type": "markdown",
   "id": "de114bff",
   "metadata": {},
   "source": [
    "2020-07-19 21:00:00 20\n",
    "2020-07-19 22:00:00 10\n",
    "2020-07-19 23:00:00 40\n",
    "2020-07-20 00:00:00 50\n",
    "2020-07-20 01:00:00 10\n",
    "2020-07-20 02:00:00 20\n",
    "2020-07-20 03:00:00 15\n",
    "2020-07-20 04:00:00 60\n",
    "2020-07-20 05:00:00 10"
   ]
  },
  {
   "cell_type": "code",
   "execution_count": 100,
   "id": "45b598ae",
   "metadata": {},
   "outputs": [
    {
     "name": "stdout",
     "output_type": "stream",
     "text": [
      "Ivanov:\n",
      "envelope 5\n",
      "marker 3\n",
      "paper 17\n",
      "Petrov:\n",
      "envelope 20\n",
      "pens 5\n"
     ]
    }
   ],
   "source": [
    "with open('input.txt') as f:\n",
    " x = f.read()\n",
    "\n",
    "purchases = x.split('\\n')\n",
    "\n",
    "buyers = sorted(list({purchases[i].split()[0] for i in range(len(purchases))}))\n",
    "\n",
    "articles = sorted(list({purchases[i].split()[1] for i in range(len(purchases))}))\n",
    "\n",
    "record = {}\n",
    "for buyer in buyers:\n",
    "    cart = {}\n",
    "    for article in articles:\n",
    "        q = 0\n",
    "        for i in range(len(purchases)):\n",
    "            if buyer == purchases[i].split()[0] and article == purchases[i].split()[1]:\n",
    "                q += int(purchases[i].split()[2])\n",
    "        if q != 0:\n",
    "            cart[article] = q\n",
    "    if len(cart) != 0:\n",
    "        record[buyer] = cart\n",
    "\n",
    "for i in record:\n",
    "    print(f'{i}:')\n",
    "    for j in record[i]:\n",
    "        print(f'{j} {record[i][j]}')"
   ]
  },
  {
   "cell_type": "code",
   "execution_count": 109,
   "id": "30b82081",
   "metadata": {},
   "outputs": [
    {
     "name": "stdout",
     "output_type": "stream",
     "text": [
      "Ivanov:\n",
      "envelope 5\n",
      "marker 3\n",
      "paper 17\n",
      "Petrov:\n",
      "envelope 20\n",
      "pens 5\n"
     ]
    }
   ],
   "source": [
    "with open('input.txt') as f:\n",
    " x = f.read()\n",
    "\n",
    "purchases = x.split('\\n')\n",
    "\n",
    "buyers = sorted({purchases[i].split()[0] for i in range(len(purchases))})\n",
    "\n",
    "articles = sorted({purchases[i].split()[1] for i in range(len(purchases))})\n",
    "\n",
    "record = {}\n",
    "for buyer in buyers:\n",
    "    cart = {}\n",
    "    for article in articles:\n",
    "        q = 0\n",
    "        for i in range(len(purchases)):\n",
    "            if buyer == purchases[i].split()[0] and article == purchases[i].split()[1]:\n",
    "                q += int(purchases[i].split()[2])\n",
    "        if q != 0:\n",
    "            cart[article] = q\n",
    "    if len(cart) != 0:\n",
    "        record[buyer] = cart\n",
    "\n",
    "for i in record:\n",
    "    print(i + ':')\n",
    "    for j in record[i]:\n",
    "        print(j, record[i][j])"
   ]
  },
  {
   "cell_type": "code",
   "execution_count": 191,
   "id": "1122a3bf",
   "metadata": {},
   "outputs": [
    {
     "name": "stdout",
     "output_type": "stream",
     "text": [
      "<class 'set'>\n"
     ]
    }
   ],
   "source": [
    "f = open(\"input.txt\", 'r', encoding='utf8')\n",
    "x = f.read()\n",
    "f.close()\n",
    "\n",
    "purchases = x.split('\\n')\n",
    "\n",
    "deals = {purchases[i].split()[0] for i in range(len(purchases))}"
   ]
  },
  {
   "cell_type": "code",
   "execution_count": 220,
   "id": "34521e0c",
   "metadata": {},
   "outputs": [
    {
     "name": "stdout",
     "output_type": "stream",
     "text": [
      "<class 'list'>\n",
      "56643:\n",
      "htgfg 56\n",
      "57:\n",
      "gfd 85\n",
      ":%:;?::\n",
      "рппрп 76\n",
      "Ivanov:\n",
      "envelope 5\n",
      "marker 3\n",
      "paper 17\n",
      "Petrov:\n",
      "envelope 20\n",
      "pens 5\n",
      "Алексеев:\n",
      "печати 19\n",
      "Фёдоров:\n",
      "дрова 8\n",
      "алек$уув:\n",
      "file 10\n"
     ]
    }
   ],
   "source": [
    "f = open(\"input.txt\", 'r', encoding='utf8')\n",
    "x = f.read()\n",
    "f.close()\n",
    "\n",
    "purchases = x.split('\\n')\n",
    "\n",
    "buyers = sorted({purchases[i].split()[0] for i in range(len(purchases))})\n",
    "articles = sorted({purchases[i].split()[1] for i in range(len(purchases))})\n",
    "print(type(buyers))\n",
    "\n",
    "record = {}\n",
    "for buyer in buyers:\n",
    "    cart = {}\n",
    "    for article in articles:\n",
    "        q = 0\n",
    "        for i in range(len(purchases)):\n",
    "            if purchases[i].split()[0] == buyer and purchases[i].split()[1] == article:\n",
    "                q += int(purchases[i].split()[2])\n",
    "        if q != 0:\n",
    "            cart[article] = q\n",
    "    if len(cart) != 0:\n",
    "        record[buyer] = cart\n",
    "        \n",
    "for i in record:\n",
    "    print(i + ':')\n",
    "    for j in record[i]:\n",
    "        print(j, record[i][j])"
   ]
  },
  {
   "cell_type": "code",
   "execution_count": 177,
   "id": "4b7b3bbc",
   "metadata": {},
   "outputs": [
    {
     "name": "stdout",
     "output_type": "stream",
     "text": [
      "Ivanov:\n",
      "e n\n",
      "m a\n",
      "p a\n",
      "Petrov:\n",
      "e n\n",
      "p e\n",
      "Р¤С‘РґРѕСЂРѕРІ:\n",
      "Р ґ\n",
      "РђР»РµРєСЃРµРµРІ:\n",
      "Р ї\n"
     ]
    }
   ],
   "source": [
    "f = open(\"input.txt\", 'r', encoding='utf8')\n",
    "x = f.read()\n",
    "f.close()\n",
    "\n",
    "purchases = x.split('\\n')\n",
    "\n",
    "buyers = {purchases[i].split()[0] for i in range(len(purchases))}\n",
    "articles = {purchases[i].split()[1] for i in range(len(purchases))}\n",
    "\n",
    "record = {}\n",
    "for buyer in buyers:\n",
    "    cart = {}\n",
    "    for article in articles:\n",
    "        q = 0\n",
    "        for i in range(len(purchases)):\n",
    "            if buyer == purchases[i].split()[0] and article == purchases[i].split()[1]:\n",
    "                q += int(purchases[i].split()[2])\n",
    "        if q != 0:\n",
    "            cart[article] = q\n",
    "    record[buyer] = cart\n",
    "\n",
    "decor = {}\n",
    "for i in record:\n",
    "    decor[i] = sorted(list(record[i].keys()), key=str.lower)\n",
    "    \n",
    "decora = sorted(list(decor.items()))\n",
    "\n",
    "for i in range(len(decora)):\n",
    "    print(decora[i][0] + ':')\n",
    "    for j in range(len(decora[i][1])):\n",
    "        print(decora[i][1][j][0], decora[i][1][j][1])"
   ]
  },
  {
   "cell_type": "code",
   "execution_count": 171,
   "id": "972808d8",
   "metadata": {},
   "outputs": [
    {
     "name": "stdout",
     "output_type": "stream",
     "text": [
      "Ivanov paper 10\n",
      "Petrov pens 5\n",
      "Ivanov marker 3\n",
      "Ivanov paper 7\n",
      "Petrov envelope 20\n",
      "Ivanov envelope 5\n",
      "Фёдоров дрова 8\n",
      "Алексеев печати 19\n",
      "<class 'str'>\n",
      "Ivanov paper 10\n",
      "Petrov pens 5\n",
      "Ivanov marker 3\n",
      "Ivanov paper 7\n",
      "Petrov envelope 20\n",
      "Ivanov envelope 5\n",
      "Фёдоров дрова 8\n",
      "Алексеев печати 19\n",
      "['Ivanov paper 10', 'Petrov pens 5', 'Ivanov marker 3', 'Ivanov paper 7', 'Petrov envelope 20', 'Ivanov envelope 5', 'Фёдоров дрова 8', 'Алексеев печати 19']\n"
     ]
    }
   ],
   "source": [
    "f = open(\"input.txt\", 'r', encoding='utf8')\n",
    "print(f.read())\n",
    "f.seek(0)\n",
    "x = ''\n",
    "for line in f.readlines():\n",
    "    x += line\n",
    "\n",
    "print(type(x))\n",
    "print(x)\n",
    "\n",
    "purchases = x.split('\\n')\n",
    "print(purchases)\n",
    "\n",
    "f.close()"
   ]
  },
  {
   "cell_type": "markdown",
   "id": "8fbddc36",
   "metadata": {},
   "source": [
    "4 3\n",
    "0\n",
    "1\n",
    "10\n",
    "9\n",
    "1\n",
    "3\n",
    "0"
   ]
  },
  {
   "cell_type": "code",
   "execution_count": 199,
   "id": "da12a67f",
   "metadata": {},
   "outputs": [
    {
     "name": "stdout",
     "output_type": "stream",
     "text": [
      "3 3\n",
      "3\n",
      "2\n",
      "1\n",
      "5\n",
      "2\n",
      "3\n",
      "{1, 2, 3}\n",
      "{2, 3, 5}\n",
      "2\n",
      "2 3\n"
     ]
    }
   ],
   "source": [
    "ab = input()\n",
    "a = int(ab.split()[0])\n",
    "b = int(ab.split()[1])\n",
    "\n",
    "an = {int(input()) for _ in range(a)}\n",
    "bo = {int(input()) for _ in range(b)}\n",
    "\n",
    "\n",
    "print(len(an & bo))\n",
    "print(*sorted(an & bo), sep=' ')\n",
    "\n",
    "print(len(an - bo))\n",
    "print(*sorted(an - bo), sep=' ')\n",
    "\n",
    "print(len(bo - an))\n",
    "print(*sorted(bo - an), sep=' ')"
   ]
  },
  {
   "cell_type": "code",
   "execution_count": 218,
   "id": "b1af68cc",
   "metadata": {
    "scrolled": true
   },
   "outputs": [
    {
     "name": "stdout",
     "output_type": "stream",
     "text": [
      "Ivanov paper 10\n",
      "Ivanov paper 10\n",
      "Ivanov paper 10\n",
      "\n",
      "Ivanov:\n",
      "paper 30\n"
     ]
    }
   ],
   "source": [
    "purchases = []\n",
    "while True:\n",
    "    x = input()\n",
    "    if x == '':\n",
    "        break\n",
    "    else:\n",
    "        purchases.append(x)\n",
    "\n",
    "buyers = sorted({purchases[i].split()[0] for i in range(len(purchases))})\n",
    "articles = sorted({purchases[i].split()[1] for i in range(len(purchases))})\n",
    "\n",
    "record = {}\n",
    "for buyer in buyers:\n",
    "    cart = {}\n",
    "    for article in articles:\n",
    "        q = 0\n",
    "        for i in range(len(purchases)):\n",
    "            if purchases[i].split()[0] == buyer and purchases[i].split()[1] == article:\n",
    "                q += int(purchases[i].split()[2])\n",
    "        if q != 0:\n",
    "            cart[article] = q\n",
    "    if len(cart) != 0:\n",
    "        record[buyer] = cart\n",
    "        \n",
    "for i in record:\n",
    "    print(i + ':')\n",
    "    for j in record[i]:\n",
    "        print(j, record[i][j])"
   ]
  },
  {
   "cell_type": "code",
   "execution_count": 221,
   "id": "ba08d40e",
   "metadata": {},
   "outputs": [
    {
     "name": "stdout",
     "output_type": "stream",
     "text": [
      "Ivanov:\n",
      "envelope 5\n",
      "marker 3\n",
      "paper 17\n",
      "Petrov:\n",
      "envelope 20\n",
      "pens 5\n"
     ]
    }
   ],
   "source": [
    "from collections import defaultdict\n",
    "f = open('input.txt')\n",
    "dict = defaultdict(lambda: defaultdict(int))\n",
    "for line in f:\n",
    "    name, thing, quan = map(str, line.split())\n",
    "    dict[name][thing] += int(quan)\n",
    "for name in sorted(dict):\n",
    "    print(name + \":\")\n",
    "    for thing in sorted(dict[name]):\n",
    "        print(thing, dict[name][thing])"
   ]
  },
  {
   "cell_type": "code",
   "execution_count": 223,
   "id": "e2bf1319",
   "metadata": {},
   "outputs": [
    {
     "name": "stdout",
     "output_type": "stream",
     "text": [
      "Ivanov:\n",
      "envelope 5\n",
      "marker 3\n",
      "paper 17\n",
      "Petrov:\n",
      "envelope 20\n",
      "pens 5\n"
     ]
    }
   ],
   "source": [
    "from collections import defaultdict\n",
    "f = open('input.txt')\n",
    "dict = defaultdict(lambda: defaultdict(int))\n",
    "for line in f:\n",
    "    name, thing, quan = line.split()\n",
    "    dict[name][thing] += int(quan)\n",
    "for name in sorted(dict):\n",
    "    print(name + \":\")\n",
    "    for thing in sorted(dict[name]):\n",
    "        print(thing, dict[name][thing])"
   ]
  },
  {
   "cell_type": "markdown",
   "id": "b0f2eabd",
   "metadata": {},
   "source": [
    "Ivanov paper 10\n",
    "Petrov pens 5\n",
    "Ivanov marker 3\n",
    "Ivanov paper 7\n",
    "Petrov envelope 20\n",
    "Ivanov envelope 5\n"
   ]
  },
  {
   "cell_type": "code",
   "execution_count": 233,
   "id": "77b643aa",
   "metadata": {},
   "outputs": [
    {
     "name": "stdout",
     "output_type": "stream",
     "text": [
      "10\n",
      "0 0 5 4 7 10 9 8 3 8\n",
      "[0, 0, 5, 4, 7, 10, 9, 8, 3, 8]\n",
      "0 10 5\n",
      "2\n",
      "2 1 4\n"
     ]
    }
   ],
   "source": [
    "N = int(input())\n",
    "grades = [int(num) for num in input().split()]\n",
    "\n",
    "print(min(grades), max(grades), round(sum(grades) / N))\n",
    "print(grades.count(0))\n",
    "print(grades.count(4) + grades.count(5), grades.count(6) + grades.count(7),\n",
    "     grades.count(8) + grades.count(9) + grades.count(10))"
   ]
  },
  {
   "cell_type": "code",
   "execution_count": 236,
   "id": "fab251cb",
   "metadata": {},
   "outputs": [],
   "source": [
    "import numpy as np"
   ]
  },
  {
   "cell_type": "code",
   "execution_count": 297,
   "id": "caed0add",
   "metadata": {},
   "outputs": [
    {
     "name": "stdout",
     "output_type": "stream",
     "text": [
      "5\n"
     ]
    },
    {
     "data": {
      "text/plain": [
       "array([[1, 0, 0, 0, 0],\n",
       "       [0, 2, 0, 0, 0],\n",
       "       [0, 0, 3, 0, 0],\n",
       "       [0, 0, 0, 4, 0],\n",
       "       [0, 0, 0, 0, 5]])"
      ]
     },
     "execution_count": 297,
     "metadata": {},
     "output_type": "execute_result"
    }
   ],
   "source": [
    "n = int(input())\n",
    "v = np.arange(1, n + 1, 1)\n",
    "np.diag(v)"
   ]
  },
  {
   "cell_type": "code",
   "execution_count": 301,
   "id": "bd156f87",
   "metadata": {},
   "outputs": [
    {
     "name": "stdout",
     "output_type": "stream",
     "text": [
      "1\n",
      "[[1]]\n"
     ]
    }
   ],
   "source": [
    "n = int(input())\n",
    "\n",
    "if n % 2 == 0:\n",
    "    x = np.tile(np.array([[1,0],[0,1]]), (n // 2, n // 2))\n",
    "    print(x)\n",
    "else:\n",
    "    x = np.tile(np.array([[1,0],[0,1]]), ((n + 1) // 2, (n + 1) // 2))[:n, :n]\n",
    "    print(x)"
   ]
  },
  {
   "cell_type": "code",
   "execution_count": 307,
   "id": "67230a6d",
   "metadata": {},
   "outputs": [
    {
     "name": "stdout",
     "output_type": "stream",
     "text": [
      "1\n",
      "[[0.]]\n",
      "[[10.]]\n"
     ]
    }
   ],
   "source": [
    "n = int(input())\n",
    "\n",
    "z = np.zeros((n, n))\n",
    "print(z)\n",
    "z[0, :n] += 10\n",
    "z[1:n, 0] += 10\n",
    "z[n - 1, 1:n] += 10\n",
    "z[1:n - 1, n - 1] += 10\n",
    "print(z)"
   ]
  },
  {
   "cell_type": "code",
   "execution_count": 255,
   "id": "30c12b09",
   "metadata": {},
   "outputs": [
    {
     "ename": "TypeError",
     "evalue": "'int' object is not iterable",
     "output_type": "error",
     "traceback": [
      "\u001b[1;31m---------------------------------------------------------------------------\u001b[0m",
      "\u001b[1;31mTypeError\u001b[0m                                 Traceback (most recent call last)",
      "Input \u001b[1;32mIn [255]\u001b[0m, in \u001b[0;36m<cell line: 1>\u001b[1;34m()\u001b[0m\n\u001b[1;32m----> 1\u001b[0m \u001b[43mnp\u001b[49m\u001b[38;5;241;43m.\u001b[39;49m\u001b[43mindices\u001b[49m\u001b[43m(\u001b[49m\u001b[38;5;241;43m4\u001b[39;49m\u001b[43m)\u001b[49m\u001b[38;5;241m.\u001b[39msum(axis\u001b[38;5;241m=\u001b[39m\u001b[38;5;241m0\u001b[39m) \u001b[38;5;241m%\u001b[39m \u001b[38;5;241m2\u001b[39m\n",
      "File \u001b[1;32mC:\\ProgramData\\Anaconda3\\lib\\site-packages\\numpy\\core\\numeric.py:1764\u001b[0m, in \u001b[0;36mindices\u001b[1;34m(dimensions, dtype, sparse)\u001b[0m\n\u001b[0;32m   1679\u001b[0m \u001b[38;5;129m@set_module\u001b[39m(\u001b[38;5;124m'\u001b[39m\u001b[38;5;124mnumpy\u001b[39m\u001b[38;5;124m'\u001b[39m)\n\u001b[0;32m   1680\u001b[0m \u001b[38;5;28;01mdef\u001b[39;00m \u001b[38;5;21mindices\u001b[39m(dimensions, dtype\u001b[38;5;241m=\u001b[39m\u001b[38;5;28mint\u001b[39m, sparse\u001b[38;5;241m=\u001b[39m\u001b[38;5;28;01mFalse\u001b[39;00m):\n\u001b[0;32m   1681\u001b[0m     \u001b[38;5;124;03m\"\"\"\u001b[39;00m\n\u001b[0;32m   1682\u001b[0m \u001b[38;5;124;03m    Return an array representing the indices of a grid.\u001b[39;00m\n\u001b[0;32m   1683\u001b[0m \n\u001b[1;32m   (...)\u001b[0m\n\u001b[0;32m   1762\u001b[0m \n\u001b[0;32m   1763\u001b[0m \u001b[38;5;124;03m    \"\"\"\u001b[39;00m\n\u001b[1;32m-> 1764\u001b[0m     dimensions \u001b[38;5;241m=\u001b[39m \u001b[38;5;28;43mtuple\u001b[39;49m\u001b[43m(\u001b[49m\u001b[43mdimensions\u001b[49m\u001b[43m)\u001b[49m\n\u001b[0;32m   1765\u001b[0m     N \u001b[38;5;241m=\u001b[39m \u001b[38;5;28mlen\u001b[39m(dimensions)\n\u001b[0;32m   1766\u001b[0m     shape \u001b[38;5;241m=\u001b[39m (\u001b[38;5;241m1\u001b[39m,)\u001b[38;5;241m*\u001b[39mN\n",
      "\u001b[1;31mTypeError\u001b[0m: 'int' object is not iterable"
     ]
    }
   ],
   "source": []
  },
  {
   "cell_type": "code",
   "execution_count": null,
   "id": "75efdd5e",
   "metadata": {},
   "outputs": [],
   "source": []
  }
 ],
 "metadata": {
  "kernelspec": {
   "display_name": "Python 3 (ipykernel)",
   "language": "python",
   "name": "python3"
  },
  "language_info": {
   "codemirror_mode": {
    "name": "ipython",
    "version": 3
   },
   "file_extension": ".py",
   "mimetype": "text/x-python",
   "name": "python",
   "nbconvert_exporter": "python",
   "pygments_lexer": "ipython3",
   "version": "3.9.12"
  }
 },
 "nbformat": 4,
 "nbformat_minor": 5
}
