{
 "cells": [
  {
   "cell_type": "code",
   "execution_count": 11,
   "id": "8f28d286",
   "metadata": {},
   "outputs": [
    {
     "data": {
      "text/plain": [
       "'2020-07-19 21:00:00 20\\n2020-07-19 22:00:00 10\\n2020-07-19 23:00:00 40\\n2020-07-20 00:00:00 50\\n2020-07-20 01:00:00 10\\n2020-07-20 02:00:00 20\\n2020-07-20 03:00:00 15\\n2020-07-20 04:00:00 60\\n2020-07-20 05:00:00 10'"
      ]
     },
     "execution_count": 11,
     "metadata": {},
     "output_type": "execute_result"
    }
   ],
   "source": [
    "with open('input.txt') as f:\n",
    " x = f.read()\n",
    "x"
   ]
  },
  {
   "cell_type": "code",
   "execution_count": 9,
   "id": "ce597d29",
   "metadata": {},
   "outputs": [
    {
     "ename": "NameError",
     "evalue": "name 'i' is not defined",
     "output_type": "error",
     "traceback": [
      "\u001b[1;31m---------------------------------------------------------------------------\u001b[0m",
      "\u001b[1;31mNameError\u001b[0m                                 Traceback (most recent call last)",
      "Input \u001b[1;32mIn [9]\u001b[0m, in \u001b[0;36m<cell line: 2>\u001b[1;34m()\u001b[0m\n\u001b[0;32m      1\u001b[0m y \u001b[38;5;241m=\u001b[39m x\u001b[38;5;241m.\u001b[39msplit(\u001b[38;5;124m'\u001b[39m\u001b[38;5;130;01m\\n\u001b[39;00m\u001b[38;5;124m'\u001b[39m)\n\u001b[1;32m----> 2\u001b[0m z \u001b[38;5;241m=\u001b[39m {i: {j: z} \u001b[38;5;28;01mfor\u001b[39;00m i \u001b[38;5;129;01min\u001b[39;00m y[\u001b[43mi\u001b[49m]\u001b[38;5;241m.\u001b[39msplit()[\u001b[38;5;241m0\u001b[39m] \u001b[38;5;28;01mfor\u001b[39;00m j \u001b[38;5;129;01min\u001b[39;00m y[i]\u001b[38;5;241m.\u001b[39msplit()[\u001b[38;5;241m1\u001b[39m] \u001b[38;5;28;01mfor\u001b[39;00m z \u001b[38;5;129;01min\u001b[39;00m y[i]\u001b[38;5;241m.\u001b[39msplit()[\u001b[38;5;241m2\u001b[39m]}\n",
      "\u001b[1;31mNameError\u001b[0m: name 'i' is not defined"
     ]
    }
   ],
   "source": [
    "y = x.split('\\n')\n",
    "z = {i: {j: z} for i in y[i].split()[0] for j in y[i].split()[1] for z in y[i].split()[2]}"
   ]
  },
  {
   "cell_type": "code",
   "execution_count": 22,
   "id": "4d123781",
   "metadata": {},
   "outputs": [
    {
     "name": "stdout",
     "output_type": "stream",
     "text": [
      "{'2020-07-19': {'23:00:00': '40'}, '2020-07-20': {'05:00:00': '10'}}\n"
     ]
    }
   ],
   "source": [
    "y = x.split('\\n')\n",
    "z = {y[i].split()[0]: {y[i].split()[1]: y[i].split()[2]} for i in range(len(y))}\n",
    "print(z)"
   ]
  },
  {
   "cell_type": "code",
   "execution_count": 23,
   "id": "1db076d5",
   "metadata": {},
   "outputs": [
    {
     "name": "stdout",
     "output_type": "stream",
     "text": [
      "{'2020-07-19': {'21:00:00': '20', '22:00:00': '10', '23:00:00': '40', '00:00:00': '50', '01:00:00': '10', '02:00:00': '20', '03:00:00': '15', '04:00:00': '60', '05:00:00': '10'}, '2020-07-20': {'21:00:00': '20', '22:00:00': '10', '23:00:00': '40', '00:00:00': '50', '01:00:00': '10', '02:00:00': '20', '03:00:00': '15', '04:00:00': '60', '05:00:00': '10'}}\n"
     ]
    }
   ],
   "source": [
    "y = x.split('\\n')\n",
    "z = {y[i].split()[0]: {y[i].split()[1]: y[i].split()[2] for i in range(len(y))} for i in range(len(y))}\n",
    "print(z)"
   ]
  },
  {
   "cell_type": "code",
   "execution_count": 7,
   "id": "677a9145",
   "metadata": {},
   "outputs": [
    {
     "data": {
      "text/plain": [
       "'2020-07-19'"
      ]
     },
     "execution_count": 7,
     "metadata": {},
     "output_type": "execute_result"
    }
   ],
   "source": [
    "y = x.split('\\n')\n",
    "y[0].split()[0]"
   ]
  },
  {
   "cell_type": "code",
   "execution_count": 20,
   "id": "114039b0",
   "metadata": {},
   "outputs": [
    {
     "data": {
      "text/plain": [
       "{'2020-07-19': ['4', '0'], '2020-07-20': ['1', '0']}"
      ]
     },
     "execution_count": 20,
     "metadata": {},
     "output_type": "execute_result"
    }
   ],
   "source": [
    "z = {}\n",
    "y = x.split('\\n')\n",
    "for i in range(len(y)):\n",
    "    l = []\n",
    "    l += y[i].split()[2]\n",
    "    z.update({y[i].split()[0]: l})\n",
    "z"
   ]
  },
  {
   "cell_type": "code",
   "execution_count": null,
   "id": "f6d77b43",
   "metadata": {},
   "outputs": [],
   "source": [
    "dates = [y[i].split()[0]\n",
    "s = set"
   ]
  }
 ],
 "metadata": {
  "kernelspec": {
   "display_name": "Python 3 (ipykernel)",
   "language": "python",
   "name": "python3"
  },
  "language_info": {
   "codemirror_mode": {
    "name": "ipython",
    "version": 3
   },
   "file_extension": ".py",
   "mimetype": "text/x-python",
   "name": "python",
   "nbconvert_exporter": "python",
   "pygments_lexer": "ipython3",
   "version": "3.9.12"
  }
 },
 "nbformat": 4,
 "nbformat_minor": 5
}
