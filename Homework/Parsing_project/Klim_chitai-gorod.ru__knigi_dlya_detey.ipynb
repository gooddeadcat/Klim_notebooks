{
 "cells": [
  {
   "cell_type": "code",
   "execution_count": 1,
   "id": "5da22b08",
   "metadata": {},
   "outputs": [],
   "source": [
    "import requests\n",
    "from bs4 import BeautifulSoup\n",
    "import pandas as pd\n",
    "import time\n",
    "from tqdm.notebook import tqdm"
   ]
  },
  {
   "cell_type": "code",
   "execution_count": null,
   "id": "da1be424",
   "metadata": {},
   "outputs": [],
   "source": [
    "<div class=\"product-card js_product js__product_card js__slider_item\" data-chg-product-preview=\"\" data-chg-id=\"2956645\" data-chg-book-id=\"2948747\" data-chg-position=\"1\" data-chg-price=\"625\" data-chg-sale-price=\"\" data-book-id=\"2948747\" data-product=\"2956645\" data-chg-book-name=\"Волшебные приключения куколок Трикси-Фикси\" data-productlist=\"Книги\" data-productprice=\"625\" data-oldproductprice=\"\" data-productbrand=\"АСТ\" data-productcategory=\"\" data-index=\"0\" data-not-avail=\"\">\n",
    "\t\t<div class=\"img-product-block js__img-product-block\" style=\"position:relative;\">\n",
    "\t\t<a class=\"product-card__img js-analytic-productlink\" href=\"/catalog/book/2956645/\" data-chg-move-link=\"\">\n",
    "\t\t\t<img alt=\"Волшебные приключения куколок Трикси-Фикси\" title=\"Волшебные приключения куколок Трикси-Фикси\" class=\" lazyloaded\" data-src=\"https://img-gorod.ru/29/487/2948747_preview.jpg\" src=\"https://img-gorod.ru/29/487/2948747_preview.jpg\">\n",
    "\t\t</a>\n",
    "\t\t\t\t\t</div>\n",
    "\t\t<!-- product-card info -->\n",
    "\t<div class=\"product-card__info\">\n",
    "\t\t<a class=\"product-card__link js-watch-productlink\" href=\"/catalog/book/2956645/\" data-chg-move-link=\"\" title=\"Волшебные приключения куколок Трикси-Фикси\">\n",
    "\t\t\t<div class=\"product-card__title js-analytic-product-title\">\n",
    "\t\t\t\tВолшебные приключения куколок Трикси-Фикси\n",
    "\t\t\t</div>\n",
    "\t\t\t<div class=\"product-card__author\">\n",
    "\t\t\t\tМатюшкина К., Ларичкина О.А.\n",
    "\t\t\t</div>\n",
    "\t\t</a>\n",
    "\t\t<div class=\"product-card__data land-view\">\n",
    "\t\t\t\t\t\t\t<span class=\"publisher\">\n",
    "\t\t\t\t\t<span class=\"product-card__data-title\">Издательство</span>\n",
    "\t\t\t\t\t<span>АСТ</span>\n",
    "\t\t\t\t</span>&nbsp;\n",
    "\t\t\t\n",
    "\t\t\t\t\t\t\t<span class=\"publisher\">\n",
    "\t\t\t\t\t<span class=\"product-card__data-title\">Год издания</span>\n",
    "\t\t\t\t\t<span>2022</span>\n",
    "\t\t\t\t</span>\n",
    "\t\t\t\t\t</div>\n",
    "\t\t<div class=\"product-card__annotation land-view full-short\">\n",
    "\t\t\t<span class=\"short-view\">\n",
    "\t\t\t\t\n",
    "\t\t\t</span>\n",
    "\t\t\t<span class=\"full-view\"></span>\n",
    "\t\t\t\t\t</div>\n",
    "\t\t<div class=\"land-view__wrapper\">\n",
    "\t\t\t<div class=\"product-card__price\">\n",
    "\t\t\t\t\t\t\t\t\t\t\t\t\t\t\t<span class=\"product-price__value\">625 ₽</span>\n",
    "\t\t\t\t\t\t\t\t\t\t\t\t</div>\n",
    "\t\t\t<div class=\"product-card__footer\">\n",
    "\t\t\t\t\t\t\t\t\t\t\t\t\t\t\t<div class=\"note hidden\">Начало продаж:&nbsp;<span>ноябре 2022</span></div>\n",
    "\t\t\t\t\t\t\t\t\t\t<button type=\"button\" class=\"button js__product_card_button product-card__button button_product\" data-status=\"buy\" data-type=\"preorder\" data-book-id=\"2948747\" data-chg-book-id=\"2948747\" data-element=\"2956645\" data-productprice=\"625\" data-oldproductprice=\"\" data-chg-add-to-cart=\"2948747\">\n",
    "\t\t\t\t\t\t<span class=\"js__card_button_text\">Предзаказ</span>\n",
    "\t\t\t\t\t</button>\n",
    "\t\t\t\t\n",
    "\t\t\t\t<span class=\"bookmarks_button js__product_bookmarks_button\n",
    "\t\t\t\t\" data-chg-bookmarks=\"2948747\" data-book-id=\"2948747\" data-chg-book-id=\"2948747\" data-element=\"2956645\" data-productprice=\"625\" data-oldproductprice=\"\">\n",
    "\t\t\t\t\t<i class=\"chg-icon chg-icon-bookmark\"></i>\n",
    "\t\t\t\t\t\t\t\t\t</span>\n",
    "\n",
    "\t\t\t</div>\n",
    "\t\t</div>\n",
    "\t</div>\n",
    "\t<!-- /product-card info -->\n",
    "</div>"
   ]
  },
  {
   "cell_type": "code",
   "execution_count": 38,
   "id": "881a3e08",
   "metadata": {},
   "outputs": [
    {
     "name": "stdout",
     "output_type": "stream",
     "text": [
      "['Волшебные приключения куколок Трикси-Фикси', 'Князь Владимир Красное Солнышко', 'Сотворенная природа глазами биологов. Поведение и чувства животных 3-е издание', 'Большая книга бродилок, находилок и лабиринтов', 'Сказки продолжаются', 'Рыжая долина', 'Всё, что нужно прочитать малышу до 3 лет', 'Всё, что нужно прочитать малышу в 3-4 года', 'Всё, что нужно прочитать малышу в 4-5 лет', 'Всё, что нужно прочитать малышу в 5-6 лет', 'Маленький принц', 'Читаем малышу от 2 до 5 лет', 'Моя семья (НЕ) на связи', 'Школа Единорогов. Вечеринка-сюрприз', 'Сказка про зелёную лошадь', 'Белый пудель: рассказы', 'Волшебное кольцо: сказки и рассказы', 'Городок в табакерке: сказки русских писателей', 'Путешествия Гулливера: роман', 'Стихи и сказки', 'Удивительные приключения мальчика без тени и тени без мальчика: сказочная повесть', '100 простых картинок для малышей', 'Кот да Винчи и загадочные сокровища', 'Великий Кристалл 2. Гуси-гуси, га-га-га...']\n",
      "['625 ₽', '369 ₽', '813 ₽', '475 ₽', '645 ₽', '495 ₽', '595 ₽', '595 ₽', '595 ₽', '595 ₽', '778 ₽', '995 ₽', '645 ₽', '399 ₽', '795 ₽', '161 ₽', '161 ₽', '161 ₽', '161 ₽', '147 ₽', '174 ₽', '389 ₽', '795 ₽', '475 ₽']\n",
      "[]\n"
     ]
    }
   ],
   "source": [
    "url = 'https://www.chitai-gorod.ru/catalog/books/knigi_dlya_detey-9072/?page=4'\n",
    "    \n",
    "response = requests.get(url)\n",
    "    \n",
    "tree = BeautifulSoup(response.content, 'html.parser')\n",
    "    \n",
    "books = tree.find_all('div', {'class' : 'product-card js_product js__product_card js__slider_item'})\n",
    "\n",
    "name = []\n",
    "author = []\n",
    "price = []\n",
    "publisher = []\n",
    "href = []\n",
    "book_id = []\n",
    "element_id = []\n",
    "year = []\n",
    "old_price = []\n",
    "    \n",
    "for book in books:\n",
    "    name.append(book.find('div', {'class': 'product-card__title js-analytic-product-title'}).text.strip())\n",
    "    publisher = book.find_all('span', {'class': 'publisher'})[0].text.split('\\n')[2]\n",
    "    price.append(book.find('span', {'class': 'product-price__value'}).text)\n",
    "    #old_price.append(book.find('span', {'class': 'old-price'}).text.strip())\n",
    "\n",
    "print(name)\n",
    "print(price)\n",
    "print(old_price)"
   ]
  },
  {
   "cell_type": "code",
   "execution_count": 58,
   "id": "9fe23d3a",
   "metadata": {},
   "outputs": [],
   "source": [
    "def get_page_chitai_knigi_dlya_detey(p):\n",
    "\n",
    "    if p == 1:\n",
    "        url = 'https://www.chitai-gorod.ru/catalog/books/knigi_dlya_detey-9072/'\n",
    "    else:\n",
    "        url = 'https://www.chitai-gorod.ru/catalog/books/knigi_dlya_detey-9072/?page={}'.format(p)\n",
    "\n",
    "    response = requests.get(url)\n",
    "    tree = BeautifulSoup(response.content, 'html.parser')\n",
    "    \n",
    "    books = tree.find_all('div', {'class' : 'product-card js_product js__product_card js__slider_item'})\n",
    "\n",
    "    data = []\n",
    "    \n",
    "    for book in books:\n",
    "        data.append({'Название': book.find('div', {'class': 'product-card__title js-analytic-product-title'}).text.strip(),\n",
    "                     'Автор': book.find('div', {'class': 'product-card__author'}).text.strip(),\n",
    "                     'Издательство': book.find_all('span', {'class': 'publisher'})[0].text.split('\\n')[2],\n",
    "                     'Год издания': book.find_all('span', {'class': 'publisher'})[1].text.split('\\n')[2],\n",
    "                     'Цена': book.get('data-chg-price'),\n",
    "                     'Цена со скидкой': book.get('data-chg-sale-price'),\n",
    "                     'ID книги': book.get('data-book-id'),\n",
    "                     'ID элемента': book.get('data-product'),\n",
    "                     'Ссылка': 'https://www.chitai-gorod.ru' + book.a.get('href'),\n",
    "                     'Страница выдачи': p})\n",
    "    return data"
   ]
  },
  {
   "cell_type": "code",
   "execution_count": 57,
   "id": "adad3d9e",
   "metadata": {},
   "outputs": [
    {
     "data": {
      "application/vnd.jupyter.widget-view+json": {
       "model_id": "293049dd9c954119a331c6117b1c0a6e",
       "version_major": 2,
       "version_minor": 0
      },
      "text/plain": [
       "  0%|          | 0/1 [00:00<?, ?it/s]"
      ]
     },
     "metadata": {},
     "output_type": "display_data"
    },
    {
     "name": "stdout",
     "output_type": "stream",
     "text": [
      "[{'Название': 'Бемби. Сказочная повесть', 'Автор': 'Зальтен Ф.', 'Издательство': 'Махаон', 'Год издания': '2022', 'Цена': '294', 'Цена со скидкой': '', 'ID товара': '2949861', 'ID элемента': '2957741', 'Ссылка': 'https://www.chitai-gorod.ru/catalog/book/2957741/', 'Страница выдачи': 1}, {'Название': 'Атлас удивительного человеческого тела', 'Автор': 'Коллинс Дж.', 'Издательство': 'Попурри', 'Год издания': '2022', 'Цена': '875', 'Цена со скидкой': '', 'ID товара': '2953716', 'ID элемента': '2957640', 'Ссылка': 'https://www.chitai-gorod.ru/catalog/book/2957640/', 'Страница выдачи': 1}, {'Название': 'Моя первая книга о планетах: Всё о Солнечной системе для детей', 'Автор': 'Беттс Б.', 'Издательство': 'Попурри', 'Год издания': '2022', 'Цена': '809', 'Цена со скидкой': '', 'ID товара': '2953717', 'ID элемента': '2957639', 'Ссылка': 'https://www.chitai-gorod.ru/catalog/book/2957639/', 'Страница выдачи': 1}, {'Название': 'Клуб друзей', 'Автор': 'Геррив С.', 'Издательство': 'Самокат', 'Год издания': '2022', 'Цена': '997', 'Цена со скидкой': '', 'ID товара': '2953904', 'ID элемента': '2957634', 'Ссылка': 'https://www.chitai-gorod.ru/catalog/book/2957634/', 'Страница выдачи': 1}, {'Название': 'Панда: дополни картинку. Многоразовые наклейки', 'Автор': 'Деньго Е.', 'Издательство': 'Стрекоза', 'Год издания': '2022', 'Цена': '281', 'Цена со скидкой': '', 'ID товара': '2954773', 'ID элемента': '2957594', 'Ссылка': 'https://www.chitai-gorod.ru/catalog/book/2957594/', 'Страница выдачи': 1}, {'Название': 'Полиция: дополни картинку. Многоразовые наклейки', 'Автор': 'Маврина Л.В.', 'Издательство': 'Стрекоза', 'Год издания': '2022', 'Цена': '281', 'Цена со скидкой': '', 'ID товара': '2954774', 'ID элемента': '2957593', 'Ссылка': 'https://www.chitai-gorod.ru/catalog/book/2957593/', 'Страница выдачи': 1}, {'Название': 'У врача: дополни картинку. Многоразовые наклейки', 'Автор': 'Маврина Л.В.', 'Издательство': 'Стрекоза', 'Год издания': '2022', 'Цена': '281', 'Цена со скидкой': '', 'ID товара': '2954775', 'ID элемента': '2957592', 'Ссылка': 'https://www.chitai-gorod.ru/catalog/book/2957592/', 'Страница выдачи': 1}, {'Название': 'Денискины рассказы', 'Автор': 'Драгунский В.Ю.', 'Издательство': 'Стрекоза', 'Год издания': '2022', 'Цена': '683', 'Цена со скидкой': '', 'ID товара': '2954776', 'ID элемента': '2957591', 'Ссылка': 'https://www.chitai-gorod.ru/catalog/book/2957591/', 'Страница выдачи': 1}, {'Название': 'Рыжий, как солнышко', 'Автор': 'Коваль Т.', 'Издательство': 'Стрекоза', 'Год издания': '2022', 'Цена': '683', 'Цена со скидкой': '', 'ID товара': '2954777', 'ID элемента': '2957590', 'Ссылка': 'https://www.chitai-gorod.ru/catalog/book/2957590/', 'Страница выдачи': 1}, {'Название': 'Самое обычное чудо', 'Автор': 'Коваль Т.', 'Издательство': 'Стрекоза', 'Год издания': '2022', 'Цена': '683', 'Цена со скидкой': '', 'ID товара': '2954778', 'ID элемента': '2957589', 'Ссылка': 'https://www.chitai-gorod.ru/catalog/book/2957589/', 'Страница выдачи': 1}, {'Название': 'Ночь перед Рождеством', 'Автор': 'Гоголь Н.В.', 'Издательство': 'Росмэн', 'Год издания': '2022', 'Цена': '1169', 'Цена со скидкой': '', 'ID товара': '2954784', 'ID элемента': '2957588', 'Ссылка': 'https://www.chitai-gorod.ru/catalog/book/2957588/', 'Страница выдачи': 1}, {'Название': 'В лесу родилась ёлочка и другие стихи', 'Автор': 'Заходер Б., Усачев А.А. и др.', 'Издательство': 'Росмэн', 'Год издания': '2022', 'Цена': '224', 'Цена со скидкой': '', 'ID товара': '2954785', 'ID элемента': '2957587', 'Ссылка': 'https://www.chitai-gorod.ru/catalog/book/2957587/', 'Страница выдачи': 1}, {'Название': 'Робинзон Крузо (ил. Ж. Гранвиля)', 'Автор': 'Дефо Д.', 'Издательство': 'Эксмо', 'Год издания': '2023', 'Цена': '445', 'Цена со скидкой': '', 'ID товара': '2946307', 'ID элемента': '2957548', 'Ссылка': 'https://www.chitai-gorod.ru/catalog/book/2957548/', 'Страница выдачи': 1}, {'Название': 'Девочка из города. Повести (ил. В. Гальдяева)', 'Автор': 'Воронкова Л.Ф.', 'Издательство': 'Эксмо', 'Год издания': '2022', 'Цена': '445', 'Цена со скидкой': '', 'ID товара': '2947139', 'ID элемента': '2957537', 'Ссылка': 'https://www.chitai-gorod.ru/catalog/book/2957537/', 'Страница выдачи': 1}, {'Название': 'Сказки дядюшки Римуса', 'Автор': 'Харрис Д.', 'Издательство': 'Вита Нова', 'Год издания': '2022', 'Цена': '2640', 'Цена со скидкой': '', 'ID товара': '2954011', 'ID элемента': '2957449', 'Ссылка': 'https://www.chitai-gorod.ru/catalog/book/2957449/', 'Страница выдачи': 1}, {'Название': 'Как братец кролик победил льва', 'Автор': 'Харрис Д.', 'Издательство': 'Вита Нова', 'Год издания': '2022', 'Цена': '2640', 'Цена со скидкой': '', 'ID товара': '2954012', 'ID элемента': '2957448', 'Ссылка': 'https://www.chitai-gorod.ru/catalog/book/2957448/', 'Страница выдачи': 1}, {'Название': 'Волшебная лавка', 'Автор': 'Уэллс Г.', 'Издательство': 'БХВ-Петербург', 'Год издания': '2023', 'Цена': '425', 'Цена со скидкой': '', 'ID товара': '2954391', 'ID элемента': '2957442', 'Ссылка': 'https://www.chitai-gorod.ru/catalog/book/2957442/', 'Страница выдачи': 1}, {'Название': 'Флин Райдер. Последний из тёмного королевства', 'Автор': 'Калонита Д.', 'Издательство': 'Эксмо', 'Год издания': '2020', 'Цена': '595', 'Цена со скидкой': '', 'ID товара': '2946005', 'ID элемента': '2957304', 'Ссылка': 'https://www.chitai-gorod.ru/catalog/book/2957304/', 'Страница выдачи': 1}, {'Название': 'Настоящие сказки Шарля Перро', 'Автор': 'Перро Ш.', 'Издательство': 'Эксмо', 'Год издания': '2023', 'Цена': '1595', 'Цена со скидкой': '', 'ID товара': '2952884', 'ID элемента': '2957269', 'Ссылка': 'https://www.chitai-gorod.ru/catalog/book/2957269/', 'Страница выдачи': 1}, {'Название': 'Еноты и ноты', 'Автор': 'Фёдорова К.Л.', 'Издательство': 'У Никитских ворот', 'Год издания': '2022', 'Цена': '960', 'Цена со скидкой': '', 'ID товара': '2953622', 'ID элемента': '2957253', 'Ссылка': 'https://www.chitai-gorod.ru/catalog/book/2957253/', 'Страница выдачи': 1}, {'Название': 'Конфетные поляны', 'Автор': 'Ординарцева-Тарасенко Е.', 'Издательство': 'У Никитских ворот', 'Год издания': '2022', 'Цена': '960', 'Цена со скидкой': '', 'ID товара': '2953634', 'ID элемента': '2957244', 'Ссылка': 'https://www.chitai-gorod.ru/catalog/book/2957244/', 'Страница выдачи': 1}, {'Название': 'Много дел у малыша!', 'Автор': 'Сон С.Л.', 'Издательство': 'Энас-Книга', 'Год издания': '2022', 'Цена': '487', 'Цена со скидкой': '', 'ID товара': '2953737', 'ID элемента': '2957239', 'Ссылка': 'https://www.chitai-gorod.ru/catalog/book/2957239/', 'Страница выдачи': 1}, {'Название': 'Папы учат малышей', 'Автор': 'Еремеев С.', 'Издательство': 'Энас-Книга', 'Год издания': '2022', 'Цена': '487', 'Цена со скидкой': '', 'ID товара': '2953738', 'ID элемента': '2957238', 'Ссылка': 'https://www.chitai-gorod.ru/catalog/book/2957238/', 'Страница выдачи': 1}, {'Название': 'Ботинки как с картинки. Истории от Котофея для детей. Книга с окошками', 'Автор': 'Марченкова А.', 'Издательство': 'Альпина. Дети', 'Год издания': '2022', 'Цена': '528', 'Цена со скидкой': '', 'ID товара': '2939233', 'ID элемента': '2957211', 'Ссылка': 'https://www.chitai-gorod.ru/catalog/book/2957211/', 'Страница выдачи': 1}]\n"
     ]
    }
   ],
   "source": [
    "feed = []\n",
    "\n",
    "for p in tqdm(range(1, 2)):\n",
    "    try:\n",
    "        feed.extend(get_page_chitai_knigi_dlya_detey(p))\n",
    "        df = pd.DataFrame(feed)\n",
    "        df.to_csv('parsed_chitay_gorod_kids_01.csv', index=False)\n",
    "    except:\n",
    "        feed.extend({'Название': p, 'Автор': p, 'Цена': p, 'Издательство': p, 'ID товара': p, 'ID элемента': p, 'Ссылка': p, 'Страница выдачи': p})\n",
    "        df = pd.DataFrame(feed)\n",
    "        df.to_csv('parsed_chitay_gorod_hudlit_02.csv', index=False)\n",
    "        \n",
    "print(feed)"
   ]
  },
  {
   "cell_type": "code",
   "execution_count": null,
   "id": "787c1f24",
   "metadata": {},
   "outputs": [],
   "source": []
  }
 ],
 "metadata": {
  "kernelspec": {
   "display_name": "Python 3 (ipykernel)",
   "language": "python",
   "name": "python3"
  },
  "language_info": {
   "codemirror_mode": {
    "name": "ipython",
    "version": 3
   },
   "file_extension": ".py",
   "mimetype": "text/x-python",
   "name": "python",
   "nbconvert_exporter": "python",
   "pygments_lexer": "ipython3",
   "version": "3.9.12"
  }
 },
 "nbformat": 4,
 "nbformat_minor": 5
}
