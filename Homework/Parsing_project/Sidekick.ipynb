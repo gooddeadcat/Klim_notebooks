{
 "cells": [
  {
   "cell_type": "code",
   "execution_count": 44,
   "id": "db8321f3",
   "metadata": {},
   "outputs": [],
   "source": [
    "# Импортируем библиотеки, которые скорее всего понядобятся.\n",
    "\n",
    "import requests\n",
    "from bs4 import BeautifulSoup\n",
    "import pandas as pd\n",
    "import time\n",
    "from tqdm.notebook import tqdm\n",
    "import re"
   ]
  },
  {
   "cell_type": "code",
   "execution_count": 63,
   "id": "2e7bbd4a",
   "metadata": {},
   "outputs": [
    {
     "name": "stdout",
     "output_type": "stream",
     "text": [
      "(3384, 31)\n"
     ]
    },
    {
     "data": {
      "text/html": [
       "<div>\n",
       "<style scoped>\n",
       "    .dataframe tbody tr th:only-of-type {\n",
       "        vertical-align: middle;\n",
       "    }\n",
       "\n",
       "    .dataframe tbody tr th {\n",
       "        vertical-align: top;\n",
       "    }\n",
       "\n",
       "    .dataframe thead th {\n",
       "        text-align: right;\n",
       "    }\n",
       "</style>\n",
       "<table border=\"1\" class=\"dataframe\">\n",
       "  <thead>\n",
       "    <tr style=\"text-align: right;\">\n",
       "      <th></th>\n",
       "      <th>ID товара</th>\n",
       "      <th>Название</th>\n",
       "      <th>Автор</th>\n",
       "      <th>Цикл</th>\n",
       "      <th>Том</th>\n",
       "      <th>Категория</th>\n",
       "      <th>Подкатегории</th>\n",
       "      <th>Издательство</th>\n",
       "      <th>Серия</th>\n",
       "      <th>Год издания</th>\n",
       "      <th>...</th>\n",
       "      <th>Кол-во страниц</th>\n",
       "      <th>Тип обложки</th>\n",
       "      <th>Формат</th>\n",
       "      <th>Вес</th>\n",
       "      <th>Тираж</th>\n",
       "      <th>Наличие на сайте</th>\n",
       "      <th>Поступит в продажу</th>\n",
       "      <th>Наличие в магазинах</th>\n",
       "      <th>Наличие в местных магазинах</th>\n",
       "      <th>Карта</th>\n",
       "    </tr>\n",
       "  </thead>\n",
       "  <tbody>\n",
       "    <tr>\n",
       "      <th>3379</th>\n",
       "      <td>2803206</td>\n",
       "      <td>Умные загадки, веселые скороговорки и любимые ...</td>\n",
       "      <td>Скиба Т. (сост.)</td>\n",
       "      <td>-</td>\n",
       "      <td>-</td>\n",
       "      <td>Детская художественная литература</td>\n",
       "      <td>Стихи и песни</td>\n",
       "      <td>Владис</td>\n",
       "      <td>-</td>\n",
       "      <td>2020</td>\n",
       "      <td>...</td>\n",
       "      <td>64</td>\n",
       "      <td>Твердая глянцевая</td>\n",
       "      <td>24.5 x 17.5 x 0.6</td>\n",
       "      <td>240</td>\n",
       "      <td>5000</td>\n",
       "      <td>Осталось мало</td>\n",
       "      <td>-</td>\n",
       "      <td>40 магазинов</td>\n",
       "      <td>5 магазинов (Москва)</td>\n",
       "      <td>https://www.chitai-gorod.ru/shops/reserve/?ele...</td>\n",
       "    </tr>\n",
       "    <tr>\n",
       "      <th>3380</th>\n",
       "      <td>2803208</td>\n",
       "      <td>Лучшая книга для маленького эрудита. Что? Когд...</td>\n",
       "      <td>Феданова Ю., Скиба Т., Машир Т. (ред.)</td>\n",
       "      <td>-</td>\n",
       "      <td>-</td>\n",
       "      <td>Детская научно-популярная литература</td>\n",
       "      <td>Универсальные детские энциклопедии и справочники</td>\n",
       "      <td>Владис</td>\n",
       "      <td>-</td>\n",
       "      <td>2020</td>\n",
       "      <td>...</td>\n",
       "      <td>64</td>\n",
       "      <td>Твердая глянцевая</td>\n",
       "      <td>24.5 x 17.5 x 0.6</td>\n",
       "      <td>240</td>\n",
       "      <td>4000</td>\n",
       "      <td>Осталось мало</td>\n",
       "      <td>-</td>\n",
       "      <td>23 магазина</td>\n",
       "      <td>7 магазинов (Москва)</td>\n",
       "      <td>https://www.chitai-gorod.ru/shops/reserve/?ele...</td>\n",
       "    </tr>\n",
       "    <tr>\n",
       "      <th>3381</th>\n",
       "      <td>2803209</td>\n",
       "      <td>Россия. Почемучкам и любознашкам</td>\n",
       "      <td>Феданова Ю., Скиба Т., Машир Т. (ред.)</td>\n",
       "      <td>-</td>\n",
       "      <td>-</td>\n",
       "      <td>Детская научно-популярная литература</td>\n",
       "      <td>Универсальные детские энциклопедии и справочники</td>\n",
       "      <td>Владис</td>\n",
       "      <td>123 вопроса – 123 ответа</td>\n",
       "      <td>2020</td>\n",
       "      <td>...</td>\n",
       "      <td>64</td>\n",
       "      <td>Твердая глянцевая</td>\n",
       "      <td>24.5 x 17.5 x 0.6</td>\n",
       "      <td>240</td>\n",
       "      <td>5000</td>\n",
       "      <td>Осталось мало</td>\n",
       "      <td>-</td>\n",
       "      <td>33 магазина</td>\n",
       "      <td>8 магазинов (Москва)</td>\n",
       "      <td>https://www.chitai-gorod.ru/shops/reserve/?ele...</td>\n",
       "    </tr>\n",
       "    <tr>\n",
       "      <th>3382</th>\n",
       "      <td>2803840</td>\n",
       "      <td>Секрет лисенка</td>\n",
       "      <td>Бен Фогл</td>\n",
       "      <td>Мистер Пёс</td>\n",
       "      <td>4</td>\n",
       "      <td>Детская художественная литература</td>\n",
       "      <td>Проза для детей. Повести, рассказы</td>\n",
       "      <td>Эксмо</td>\n",
       "      <td>Мистер Пес спешит на помощь</td>\n",
       "      <td>2020</td>\n",
       "      <td>...</td>\n",
       "      <td>160</td>\n",
       "      <td>Твердая бумажная</td>\n",
       "      <td>20.5 x 13 x 1.2</td>\n",
       "      <td>240</td>\n",
       "      <td>4000</td>\n",
       "      <td>В наличии</td>\n",
       "      <td>-</td>\n",
       "      <td>136 магазинов</td>\n",
       "      <td>20 магазинов (Москва)</td>\n",
       "      <td>https://www.chitai-gorod.ru/shops/reserve/?ele...</td>\n",
       "    </tr>\n",
       "    <tr>\n",
       "      <th>3383</th>\n",
       "      <td>2803841</td>\n",
       "      <td>Кошачий секрет</td>\n",
       "      <td>Фрауке Шойнеманн, Антье Циллат</td>\n",
       "      <td>Пауль и Сникерс</td>\n",
       "      <td>2</td>\n",
       "      <td>Детская художественная литература</td>\n",
       "      <td>Приключения</td>\n",
       "      <td>Эксмо</td>\n",
       "      <td>Пауль и Сникерс, детективы на четырех лапах</td>\n",
       "      <td>2020</td>\n",
       "      <td>...</td>\n",
       "      <td>208</td>\n",
       "      <td>Твердая бумажная</td>\n",
       "      <td>21 x 15 x 1.5</td>\n",
       "      <td>390</td>\n",
       "      <td>4000</td>\n",
       "      <td>В наличии</td>\n",
       "      <td>-</td>\n",
       "      <td>429 магазинов</td>\n",
       "      <td>65 магазинов (Москва)</td>\n",
       "      <td>https://www.chitai-gorod.ru/shops/reserve/?ele...</td>\n",
       "    </tr>\n",
       "  </tbody>\n",
       "</table>\n",
       "<p>5 rows × 31 columns</p>\n",
       "</div>"
      ],
      "text/plain": [
       "      ID товара                                           Название  \\\n",
       "3379    2803206  Умные загадки, веселые скороговорки и любимые ...   \n",
       "3380    2803208  Лучшая книга для маленького эрудита. Что? Когд...   \n",
       "3381    2803209                   Россия. Почемучкам и любознашкам   \n",
       "3382    2803840                                     Секрет лисенка   \n",
       "3383    2803841                                     Кошачий секрет   \n",
       "\n",
       "                                       Автор             Цикл Том  \\\n",
       "3379                        Скиба Т. (сост.)                -   -   \n",
       "3380  Феданова Ю., Скиба Т., Машир Т. (ред.)                -   -   \n",
       "3381  Феданова Ю., Скиба Т., Машир Т. (ред.)                -   -   \n",
       "3382                                Бен Фогл       Мистер Пёс   4   \n",
       "3383          Фрауке Шойнеманн, Антье Циллат  Пауль и Сникерс   2   \n",
       "\n",
       "                                 Категория  \\\n",
       "3379     Детская художественная литература   \n",
       "3380  Детская научно-популярная литература   \n",
       "3381  Детская научно-популярная литература   \n",
       "3382     Детская художественная литература   \n",
       "3383     Детская художественная литература   \n",
       "\n",
       "                                          Подкатегории Издательство  \\\n",
       "3379                                     Стихи и песни       Владис   \n",
       "3380  Универсальные детские энциклопедии и справочники       Владис   \n",
       "3381  Универсальные детские энциклопедии и справочники       Владис   \n",
       "3382                Проза для детей. Повести, рассказы        Эксмо   \n",
       "3383                                       Приключения        Эксмо   \n",
       "\n",
       "                                            Серия Год издания  ...  \\\n",
       "3379                                            -        2020  ...   \n",
       "3380                                            -        2020  ...   \n",
       "3381                     123 вопроса – 123 ответа        2020  ...   \n",
       "3382                  Мистер Пес спешит на помощь        2020  ...   \n",
       "3383  Пауль и Сникерс, детективы на четырех лапах        2020  ...   \n",
       "\n",
       "     Кол-во страниц        Тип обложки             Формат  Вес  Тираж  \\\n",
       "3379             64  Твердая глянцевая  24.5 x 17.5 x 0.6  240   5000   \n",
       "3380             64  Твердая глянцевая  24.5 x 17.5 x 0.6  240   4000   \n",
       "3381             64  Твердая глянцевая  24.5 x 17.5 x 0.6  240   5000   \n",
       "3382            160   Твердая бумажная    20.5 x 13 x 1.2  240   4000   \n",
       "3383            208   Твердая бумажная      21 x 15 x 1.5  390   4000   \n",
       "\n",
       "      Наличие на сайте  Поступит в продажу Наличие в магазинах  \\\n",
       "3379     Осталось мало                   -        40 магазинов   \n",
       "3380     Осталось мало                   -         23 магазина   \n",
       "3381     Осталось мало                   -         33 магазина   \n",
       "3382         В наличии                   -       136 магазинов   \n",
       "3383         В наличии                   -       429 магазинов   \n",
       "\n",
       "     Наличие в местных магазинах  \\\n",
       "3379        5 магазинов (Москва)   \n",
       "3380        7 магазинов (Москва)   \n",
       "3381        8 магазинов (Москва)   \n",
       "3382       20 магазинов (Москва)   \n",
       "3383       65 магазинов (Москва)   \n",
       "\n",
       "                                                  Карта  \n",
       "3379  https://www.chitai-gorod.ru/shops/reserve/?ele...  \n",
       "3380  https://www.chitai-gorod.ru/shops/reserve/?ele...  \n",
       "3381  https://www.chitai-gorod.ru/shops/reserve/?ele...  \n",
       "3382  https://www.chitai-gorod.ru/shops/reserve/?ele...  \n",
       "3383  https://www.chitai-gorod.ru/shops/reserve/?ele...  \n",
       "\n",
       "[5 rows x 31 columns]"
      ]
     },
     "execution_count": 63,
     "metadata": {},
     "output_type": "execute_result"
    }
   ],
   "source": [
    "# Считаем то, что получилось, из файла.\n",
    "\n",
    "df = pd.read_csv('parsed_chitay_gorod_kids_02.csv')\n",
    "print(df.shape)\n",
    "df.tail()"
   ]
  },
  {
   "cell_type": "code",
   "execution_count": 62,
   "id": "84ed043d",
   "metadata": {},
   "outputs": [
    {
     "data": {
      "text/plain": [
       "ID товара                                                                2807665\n",
       "Название                                        Второе криминальное дело Сосыски\n",
       "Автор                                                              Антон Березин\n",
       "Цикл                                                                           -\n",
       "Том                                                                            -\n",
       "Категория                                      Детская художественная литература\n",
       "Подкатегории                                                         Приключения\n",
       "Издательство                                                               Малыш\n",
       "Серия                                                  СОбачье СЫСКкное Агенство\n",
       "Год издания                                                                 2020\n",
       "Возрастные ограничения                                                        6+\n",
       "Переводчик                                                                     -\n",
       "Художник                                                           Курчевская М.\n",
       "Цена                                                                         389\n",
       "Цена со скидкой                                                              314\n",
       "Рейтинг                                                                      0.0\n",
       "Кол-во оценок                                                                  0\n",
       "ISBN                                                           978-5-17-117319-7\n",
       "Аннотация                      В книге \"Второе криминальное дело СОСЫСКИ\" пре...\n",
       "Отрывок                                  https://img-gorod.ru/28/076/2807665.pdf\n",
       "Обложка                           https://img-gorod.ru/28/076/2807665_detail.jpg\n",
       "Кол-во страниц                                                                42\n",
       "Тип обложки                                                     Твердая бумажная\n",
       "Формат                                                         21.5 x 16.5 x 0.6\n",
       "Вес                                                                          200\n",
       "Тираж                                                                       4000\n",
       "Наличие на сайте                                                       В наличии\n",
       "Поступит в продажу                                                             -\n",
       "Наличие в магазинах                                                 95 магазинов\n",
       "Наличие в местных магазинах                                14 магазинов (Москва)\n",
       "Карта                          https://www.chitai-gorod.ru/shops/reserve/?ele...\n",
       "Name: 3167, dtype: object"
      ]
     },
     "execution_count": 62,
     "metadata": {},
     "output_type": "execute_result"
    }
   ],
   "source": [
    "# Посмотрим, как выглядит какая-нибудь строка целиком.\n",
    "\n",
    "df.loc[3167]"
   ]
  },
  {
   "cell_type": "code",
   "execution_count": 19,
   "id": "6780cc0c",
   "metadata": {},
   "outputs": [
    {
     "data": {
      "text/plain": [
       "'Однажды мама дарит Селесте подарок. И это вовсе не желанный телескоп, а… очки! Селесте непросто к ним сразу привыкнуть — очки давят на уши, запотевают от горячего чая, да еще и одноклассник придумал ей обидное прозвище. Да зачем вообще нужны эти очки?! Для того, чтобы увидеть этот мир во всей полноте его красок, наслаждаться и восхищаться им, а значит, и жить более полной жизнью и становиться благодаря этому лучше! Эта книга поможет всем детям, которым прописали очки, преодолеть сомнения и понять, что очки – это вовсе не проблема, а очень крутая вещь, которая наделяет тебя суперсилой – острым зрением! А специальный разворот с советами от экспертов-офтальмологов о том, как замотивировать ребенка и помочь ему привыкнуть к очкам будет, полезен родителям. Для детей от 4 до 8 лет и их родителей.'"
      ]
     },
     "execution_count": 19,
     "metadata": {},
     "output_type": "execute_result"
    }
   ],
   "source": [
    "# Выведем полностью аннотацию.\n",
    "\n",
    "df.loc[324]['Аннотация']"
   ]
  },
  {
   "cell_type": "markdown",
   "id": "a080717b",
   "metadata": {},
   "source": [
    "## Доделки и ошибки\n",
    "\n",
    "**Чтобы дальше работать с этим датасетом, надо провести дебаг, собрать все пропущенные книги, а также\n",
    "оставшиеся издания детской литературы в разные файлы, а потом склеить всё в один DataFrame.**\n",
    "\n",
    "- удалить \\r из аннотации\n",
    "- не делать том числом\n",
    "- не делать кол-во страниц числом\n",
    "- исправить ISBN (https://www.chitai-gorod.ru/catalog/book/2872501/)\n",
    "- лучше выводить последний book_error и отмечать страницу, а весь список перезаписывать в файл"
   ]
  },
  {
   "cell_type": "code",
   "execution_count": 41,
   "id": "2f7dac3c",
   "metadata": {},
   "outputs": [
    {
     "name": "stdout",
     "output_type": "stream",
     "text": [
      "https://www.chitai-gorod.ru/catalog/book/2911881/\n",
      "https://www.chitai-gorod.ru/catalog/book/2911233/\n",
      "https://www.chitai-gorod.ru/catalog/book/2907392/\n",
      "https://www.chitai-gorod.ru/catalog/book/2879302/\n",
      "https://www.chitai-gorod.ru/catalog/book/2879301/\n",
      "https://www.chitai-gorod.ru/catalog/book/2879300/\n",
      "https://www.chitai-gorod.ru/catalog/book/2875131/\n",
      "https://www.chitai-gorod.ru/catalog/book/2874478/\n",
      "https://www.chitai-gorod.ru/catalog/book/2872501/\n",
      "https://www.chitai-gorod.ru/catalog/book/2860709/\n",
      "https://www.chitai-gorod.ru/catalog/book/2856315/\n",
      "https://www.chitai-gorod.ru/catalog/book/2846846/\n",
      "https://www.chitai-gorod.ru/catalog/book/2841112/\n",
      "\n"
     ]
    }
   ],
   "source": [
    "book_error = ['https://www.chitai-gorod.ru/catalog/book/2911881/', 'https://www.chitai-gorod.ru/catalog/book/2911233/', 'https://www.chitai-gorod.ru/catalog/book/2907392/', 'https://www.chitai-gorod.ru/catalog/book/2879302/', 'https://www.chitai-gorod.ru/catalog/book/2879301/', 'https://www.chitai-gorod.ru/catalog/book/2879300/', 'https://www.chitai-gorod.ru/catalog/book/2875131/', 'https://www.chitai-gorod.ru/catalog/book/2874478/', 'https://www.chitai-gorod.ru/catalog/book/2872501/', 'https://www.chitai-gorod.ru/catalog/book/2860709/', 'https://www.chitai-gorod.ru/catalog/book/2856315/', 'https://www.chitai-gorod.ru/catalog/book/2846846/', 'https://www.chitai-gorod.ru/catalog/book/2841112/']\n",
    "\n",
    "for book in book_error:\n",
    "    with open('book_error.text', 'a') as log:\n",
    "        log.write(book + '\\n')\n",
    "\n",
    "with open('book_error.text', 'r') as log:\n",
    "    print(log.read())"
   ]
  },
  {
   "cell_type": "code",
   "execution_count": 42,
   "id": "927764a2",
   "metadata": {},
   "outputs": [
    {
     "name": "stdout",
     "output_type": "stream",
     "text": [
      "['https://www.chitai-gorod.ru/catalog/book/2911881/\\n', 'https://www.chitai-gorod.ru/catalog/book/2911233/\\n', 'https://www.chitai-gorod.ru/catalog/book/2907392/\\n', 'https://www.chitai-gorod.ru/catalog/book/2879302/\\n', 'https://www.chitai-gorod.ru/catalog/book/2879301/\\n', 'https://www.chitai-gorod.ru/catalog/book/2879300/\\n', 'https://www.chitai-gorod.ru/catalog/book/2875131/\\n', 'https://www.chitai-gorod.ru/catalog/book/2874478/\\n', 'https://www.chitai-gorod.ru/catalog/book/2872501/\\n', 'https://www.chitai-gorod.ru/catalog/book/2860709/\\n', 'https://www.chitai-gorod.ru/catalog/book/2856315/\\n', 'https://www.chitai-gorod.ru/catalog/book/2846846/\\n', 'https://www.chitai-gorod.ru/catalog/book/2841112/\\n']\n"
     ]
    }
   ],
   "source": [
    "with open('book_error.text', 'r') as log:\n",
    "    missed = list(log)\n",
    "    \n",
    "print(missed)"
   ]
  },
  {
   "cell_type": "code",
   "execution_count": 32,
   "id": "037b9da2",
   "metadata": {},
   "outputs": [
    {
     "name": "stdout",
     "output_type": "stream",
     "text": [
      "https://www.chitai-gorod.ru/catalog/book/2841112/\n",
      "\n",
      "\n"
     ]
    }
   ],
   "source": [
    "with open('book_error.text', 'a') as log:\n",
    "    log.write(book_error[-1] + '\\n')\n",
    "\n",
    "with open('book_error.text', 'r') as log:\n",
    "    print(log.read())"
   ]
  },
  {
   "cell_type": "code",
   "execution_count": 40,
   "id": "f7379269",
   "metadata": {},
   "outputs": [],
   "source": [
    "with open('book_error.text', 'w') as log:\n",
    "    log.flush()"
   ]
  },
  {
   "cell_type": "code",
   "execution_count": 39,
   "id": "8fbc4a3c",
   "metadata": {},
   "outputs": [
    {
     "name": "stdout",
     "output_type": "stream",
     "text": [
      "5 https://www.chitai-gorod.ru/catalog/book/2841112/\n"
     ]
    }
   ],
   "source": [
    "book_error = ['https://www.chitai-gorod.ru/catalog/book/2911881/', 'https://www.chitai-gorod.ru/catalog/book/2911233/', 'https://www.chitai-gorod.ru/catalog/book/2907392/', 'https://www.chitai-gorod.ru/catalog/book/2879302/', 'https://www.chitai-gorod.ru/catalog/book/2879301/', 'https://www.chitai-gorod.ru/catalog/book/2879300/', 'https://www.chitai-gorod.ru/catalog/book/2875131/', 'https://www.chitai-gorod.ru/catalog/book/2874478/', 'https://www.chitai-gorod.ru/catalog/book/2872501/', 'https://www.chitai-gorod.ru/catalog/book/2860709/', 'https://www.chitai-gorod.ru/catalog/book/2856315/', 'https://www.chitai-gorod.ru/catalog/book/2846846/', 'https://www.chitai-gorod.ru/catalog/book/2841112/']\n",
    "\n",
    "p = 5\n",
    "\n",
    "print(str(p) + ' ' + book_error[-1])"
   ]
  },
  {
   "cell_type": "code",
   "execution_count": 45,
   "id": "f3993885",
   "metadata": {},
   "outputs": [
    {
     "data": {
      "text/html": [
       "<div>\n",
       "<style scoped>\n",
       "    .dataframe tbody tr th:only-of-type {\n",
       "        vertical-align: middle;\n",
       "    }\n",
       "\n",
       "    .dataframe tbody tr th {\n",
       "        vertical-align: top;\n",
       "    }\n",
       "\n",
       "    .dataframe thead th {\n",
       "        text-align: right;\n",
       "    }\n",
       "</style>\n",
       "<table border=\"1\" class=\"dataframe\">\n",
       "  <thead>\n",
       "    <tr style=\"text-align: right;\">\n",
       "      <th></th>\n",
       "      <th>a</th>\n",
       "    </tr>\n",
       "  </thead>\n",
       "  <tbody>\n",
       "    <tr>\n",
       "      <th>0</th>\n",
       "      <td>10</td>\n",
       "    </tr>\n",
       "    <tr>\n",
       "      <th>1</th>\n",
       "      <td>20</td>\n",
       "    </tr>\n",
       "    <tr>\n",
       "      <th>2</th>\n",
       "      <td>30</td>\n",
       "    </tr>\n",
       "  </tbody>\n",
       "</table>\n",
       "</div>"
      ],
      "text/plain": [
       "    a\n",
       "0  10\n",
       "1  20\n",
       "2  30"
      ]
     },
     "execution_count": 45,
     "metadata": {},
     "output_type": "execute_result"
    }
   ],
   "source": [
    "a = pd.DataFrame() # создали пустой датафрейм с помощью метода DataFrame() библиотеки pandas (pd)\n",
    "a['a'] = [10,20,30] # создаем колонку \"а\" и помещаем в нее столбец с данными - [10, 20, 30]\n",
    "a"
   ]
  },
  {
   "cell_type": "code",
   "execution_count": 46,
   "id": "8970c58f",
   "metadata": {},
   "outputs": [
    {
     "data": {
      "text/html": [
       "<div>\n",
       "<style scoped>\n",
       "    .dataframe tbody tr th:only-of-type {\n",
       "        vertical-align: middle;\n",
       "    }\n",
       "\n",
       "    .dataframe tbody tr th {\n",
       "        vertical-align: top;\n",
       "    }\n",
       "\n",
       "    .dataframe thead th {\n",
       "        text-align: right;\n",
       "    }\n",
       "</style>\n",
       "<table border=\"1\" class=\"dataframe\">\n",
       "  <thead>\n",
       "    <tr style=\"text-align: right;\">\n",
       "      <th></th>\n",
       "      <th>a</th>\n",
       "    </tr>\n",
       "  </thead>\n",
       "  <tbody>\n",
       "    <tr>\n",
       "      <th>0</th>\n",
       "      <td>30</td>\n",
       "    </tr>\n",
       "    <tr>\n",
       "      <th>1</th>\n",
       "      <td>40</td>\n",
       "    </tr>\n",
       "    <tr>\n",
       "      <th>2</th>\n",
       "      <td>50</td>\n",
       "    </tr>\n",
       "  </tbody>\n",
       "</table>\n",
       "</div>"
      ],
      "text/plain": [
       "    a\n",
       "0  30\n",
       "1  40\n",
       "2  50"
      ]
     },
     "execution_count": 46,
     "metadata": {},
     "output_type": "execute_result"
    }
   ],
   "source": [
    "b = pd.DataFrame() # создали пустой датафрейм с помощью метода DataFrame() библиотеки pandas (pd)\n",
    "b['a'] = [30,40,50] # создаем колонку \"а\" и помещаем в нее столбец с данными - [10, 20, 30]\n",
    "b"
   ]
  },
  {
   "cell_type": "code",
   "execution_count": 57,
   "id": "80ecef4f",
   "metadata": {},
   "outputs": [
    {
     "name": "stderr",
     "output_type": "stream",
     "text": [
      "C:\\Users\\Klim\\AppData\\Local\\Temp\\ipykernel_5540\\3027864119.py:1: FutureWarning: The frame.append method is deprecated and will be removed from pandas in a future version. Use pandas.concat instead.\n",
      "  c = a.append(b, ignore_index=True)\n"
     ]
    },
    {
     "data": {
      "text/html": [
       "<div>\n",
       "<style scoped>\n",
       "    .dataframe tbody tr th:only-of-type {\n",
       "        vertical-align: middle;\n",
       "    }\n",
       "\n",
       "    .dataframe tbody tr th {\n",
       "        vertical-align: top;\n",
       "    }\n",
       "\n",
       "    .dataframe thead th {\n",
       "        text-align: right;\n",
       "    }\n",
       "</style>\n",
       "<table border=\"1\" class=\"dataframe\">\n",
       "  <thead>\n",
       "    <tr style=\"text-align: right;\">\n",
       "      <th></th>\n",
       "      <th>a</th>\n",
       "    </tr>\n",
       "  </thead>\n",
       "  <tbody>\n",
       "    <tr>\n",
       "      <th>0</th>\n",
       "      <td>10</td>\n",
       "    </tr>\n",
       "    <tr>\n",
       "      <th>1</th>\n",
       "      <td>20</td>\n",
       "    </tr>\n",
       "    <tr>\n",
       "      <th>2</th>\n",
       "      <td>30</td>\n",
       "    </tr>\n",
       "    <tr>\n",
       "      <th>3</th>\n",
       "      <td>40</td>\n",
       "    </tr>\n",
       "    <tr>\n",
       "      <th>4</th>\n",
       "      <td>50</td>\n",
       "    </tr>\n",
       "  </tbody>\n",
       "</table>\n",
       "</div>"
      ],
      "text/plain": [
       "    a\n",
       "0  10\n",
       "1  20\n",
       "2  30\n",
       "3  40\n",
       "4  50"
      ]
     },
     "execution_count": 57,
     "metadata": {},
     "output_type": "execute_result"
    }
   ],
   "source": [
    "c = a.append(b, ignore_index=True)\n",
    "c.drop_duplicates(inplace=True)\n",
    "d = c.reset_index(drop=True)\n",
    "d"
   ]
  },
  {
   "cell_type": "code",
   "execution_count": null,
   "id": "d51cac4e",
   "metadata": {},
   "outputs": [],
   "source": []
  }
 ],
 "metadata": {
  "kernelspec": {
   "display_name": "Python 3 (ipykernel)",
   "language": "python",
   "name": "python3"
  },
  "language_info": {
   "codemirror_mode": {
    "name": "ipython",
    "version": 3
   },
   "file_extension": ".py",
   "mimetype": "text/x-python",
   "name": "python",
   "nbconvert_exporter": "python",
   "pygments_lexer": "ipython3",
   "version": "3.9.12"
  }
 },
 "nbformat": 4,
 "nbformat_minor": 5
}
