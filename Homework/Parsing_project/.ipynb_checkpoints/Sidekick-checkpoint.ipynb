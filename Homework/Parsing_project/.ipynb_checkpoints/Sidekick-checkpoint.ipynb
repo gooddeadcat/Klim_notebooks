{
 "cells": [
  {
   "cell_type": "code",
   "execution_count": 44,
   "id": "db8321f3",
   "metadata": {},
   "outputs": [],
   "source": [
    "# Импортируем библиотеки, которые скорее всего понядобятся.\n",
    "\n",
    "import requests\n",
    "from bs4 import BeautifulSoup\n",
    "import pandas as pd\n",
    "import time\n",
    "from tqdm.notebook import tqdm\n",
    "import re"
   ]
  },
  {
   "cell_type": "code",
   "execution_count": 24,
   "id": "2e7bbd4a",
   "metadata": {},
   "outputs": [
    {
     "name": "stdout",
     "output_type": "stream",
     "text": [
      "(9276, 31)\n"
     ]
    },
    {
     "data": {
      "text/html": [
       "<div>\n",
       "<style scoped>\n",
       "    .dataframe tbody tr th:only-of-type {\n",
       "        vertical-align: middle;\n",
       "    }\n",
       "\n",
       "    .dataframe tbody tr th {\n",
       "        vertical-align: top;\n",
       "    }\n",
       "\n",
       "    .dataframe thead th {\n",
       "        text-align: right;\n",
       "    }\n",
       "</style>\n",
       "<table border=\"1\" class=\"dataframe\">\n",
       "  <thead>\n",
       "    <tr style=\"text-align: right;\">\n",
       "      <th></th>\n",
       "      <th>ID товара</th>\n",
       "      <th>Название</th>\n",
       "      <th>Автор</th>\n",
       "      <th>Цикл</th>\n",
       "      <th>Том</th>\n",
       "      <th>Категория</th>\n",
       "      <th>Подкатегории</th>\n",
       "      <th>Издательство</th>\n",
       "      <th>Серия</th>\n",
       "      <th>Год издания</th>\n",
       "      <th>...</th>\n",
       "      <th>Кол-во страниц</th>\n",
       "      <th>Тип обложки</th>\n",
       "      <th>Формат</th>\n",
       "      <th>Вес</th>\n",
       "      <th>Тираж</th>\n",
       "      <th>Наличие на сайте</th>\n",
       "      <th>Поступит в продажу</th>\n",
       "      <th>Наличие в магазинах</th>\n",
       "      <th>Наличие в местных магазинах</th>\n",
       "      <th>Карта</th>\n",
       "    </tr>\n",
       "  </thead>\n",
       "  <tbody>\n",
       "    <tr>\n",
       "      <th>0</th>\n",
       "      <td>2938632</td>\n",
       "      <td>Мир вокруг тебя. Первая энциклопедия для малышей</td>\n",
       "      <td>Феданова Ю., Скиба Т.</td>\n",
       "      <td>-</td>\n",
       "      <td>-</td>\n",
       "      <td>Детская научно-популярная литература</td>\n",
       "      <td>Первые энциклопедии для малышей (0-6 л.)</td>\n",
       "      <td>Владис</td>\n",
       "      <td>Первая энциклопедия для малышей</td>\n",
       "      <td>2022</td>\n",
       "      <td>...</td>\n",
       "      <td>64</td>\n",
       "      <td>Твердая глянцевая</td>\n",
       "      <td>24.7 x 17.5 x 0.8</td>\n",
       "      <td>226</td>\n",
       "      <td>5000</td>\n",
       "      <td>В наличии</td>\n",
       "      <td>-</td>\n",
       "      <td>-</td>\n",
       "      <td>-</td>\n",
       "      <td>-</td>\n",
       "    </tr>\n",
       "    <tr>\n",
       "      <th>1</th>\n",
       "      <td>2938633</td>\n",
       "      <td>Космос. Первая энциклопедия для малышей</td>\n",
       "      <td>Феданова Ю., Скиба Т.</td>\n",
       "      <td>-</td>\n",
       "      <td>-</td>\n",
       "      <td>Детская научно-популярная литература</td>\n",
       "      <td>Первые энциклопедии для малышей (0-6 л.)</td>\n",
       "      <td>-</td>\n",
       "      <td>Первая энциклопедия для малышей</td>\n",
       "      <td>2022</td>\n",
       "      <td>...</td>\n",
       "      <td>64</td>\n",
       "      <td>Твердая глянцевая</td>\n",
       "      <td>24.7 x 17.5 x 0.8</td>\n",
       "      <td>226</td>\n",
       "      <td>5000</td>\n",
       "      <td>В наличии</td>\n",
       "      <td>-</td>\n",
       "      <td>-</td>\n",
       "      <td>-</td>\n",
       "      <td>-</td>\n",
       "    </tr>\n",
       "    <tr>\n",
       "      <th>2</th>\n",
       "      <td>2946110</td>\n",
       "      <td>История одного волшебства (выпуск 1)</td>\n",
       "      <td>&lt;не указано&gt;</td>\n",
       "      <td>-</td>\n",
       "      <td>-</td>\n",
       "      <td>Детская художественная литература</td>\n",
       "      <td>Проза для детей. Повести, рассказы</td>\n",
       "      <td>Эксмо</td>\n",
       "      <td>-</td>\n",
       "      <td>2023</td>\n",
       "      <td>...</td>\n",
       "      <td>144</td>\n",
       "      <td>-</td>\n",
       "      <td>-</td>\n",
       "      <td>-</td>\n",
       "      <td>-</td>\n",
       "      <td>Предзаказ</td>\n",
       "      <td>В ноябре 2022</td>\n",
       "      <td>-</td>\n",
       "      <td>-</td>\n",
       "      <td>-</td>\n",
       "    </tr>\n",
       "    <tr>\n",
       "      <th>3</th>\n",
       "      <td>2946460</td>\n",
       "      <td>Крольчонок Миа, или Ключи зимы</td>\n",
       "      <td>Медоус Д.</td>\n",
       "      <td>-</td>\n",
       "      <td>-</td>\n",
       "      <td>Детская художественная литература</td>\n",
       "      <td>Сказки</td>\n",
       "      <td>Эксмо</td>\n",
       "      <td>Детск. Уютные истории для зимнего вечера</td>\n",
       "      <td>2023</td>\n",
       "      <td>...</td>\n",
       "      <td>192</td>\n",
       "      <td>-</td>\n",
       "      <td>-</td>\n",
       "      <td>-</td>\n",
       "      <td>-</td>\n",
       "      <td>Предзаказ</td>\n",
       "      <td>В ноябре 2022</td>\n",
       "      <td>-</td>\n",
       "      <td>-</td>\n",
       "      <td>-</td>\n",
       "    </tr>\n",
       "    <tr>\n",
       "      <th>4</th>\n",
       "      <td>2950851</td>\n",
       "      <td>Тачки в пути. Большая книга раскрасок и игр</td>\n",
       "      <td>-</td>\n",
       "      <td>-</td>\n",
       "      <td>-</td>\n",
       "      <td>Детская художественная литература</td>\n",
       "      <td>Книги-игрушки/Книги с наклейками</td>\n",
       "      <td>Эксмо</td>\n",
       "      <td>Disney. PIXAR. Игры, раскраски, наклейки</td>\n",
       "      <td>2022</td>\n",
       "      <td>...</td>\n",
       "      <td>64</td>\n",
       "      <td>-</td>\n",
       "      <td>-</td>\n",
       "      <td>-</td>\n",
       "      <td>-</td>\n",
       "      <td>Предзаказ</td>\n",
       "      <td>В декабре 2022</td>\n",
       "      <td>-</td>\n",
       "      <td>-</td>\n",
       "      <td>-</td>\n",
       "    </tr>\n",
       "  </tbody>\n",
       "</table>\n",
       "<p>5 rows × 31 columns</p>\n",
       "</div>"
      ],
      "text/plain": [
       "   ID товара                                          Название  \\\n",
       "0    2938632  Мир вокруг тебя. Первая энциклопедия для малышей   \n",
       "1    2938633           Космос. Первая энциклопедия для малышей   \n",
       "2    2946110              История одного волшебства (выпуск 1)   \n",
       "3    2946460                    Крольчонок Миа, или Ключи зимы   \n",
       "4    2950851       Тачки в пути. Большая книга раскрасок и игр   \n",
       "\n",
       "                   Автор Цикл Том                             Категория  \\\n",
       "0  Феданова Ю., Скиба Т.    -   -  Детская научно-популярная литература   \n",
       "1  Феданова Ю., Скиба Т.    -   -  Детская научно-популярная литература   \n",
       "2           <не указано>    -   -     Детская художественная литература   \n",
       "3              Медоус Д.    -   -     Детская художественная литература   \n",
       "4                      -    -   -     Детская художественная литература   \n",
       "\n",
       "                               Подкатегории Издательство  \\\n",
       "0  Первые энциклопедии для малышей (0-6 л.)       Владис   \n",
       "1  Первые энциклопедии для малышей (0-6 л.)            -   \n",
       "2        Проза для детей. Повести, рассказы        Эксмо   \n",
       "3                                    Сказки        Эксмо   \n",
       "4          Книги-игрушки/Книги с наклейками        Эксмо   \n",
       "\n",
       "                                      Серия Год издания  ... Кол-во страниц  \\\n",
       "0           Первая энциклопедия для малышей        2022  ...             64   \n",
       "1           Первая энциклопедия для малышей        2022  ...             64   \n",
       "2                                         -        2023  ...            144   \n",
       "3  Детск. Уютные истории для зимнего вечера        2023  ...            192   \n",
       "4  Disney. PIXAR. Игры, раскраски, наклейки        2022  ...             64   \n",
       "\n",
       "         Тип обложки             Формат  Вес  Тираж  Наличие на сайте  \\\n",
       "0  Твердая глянцевая  24.7 x 17.5 x 0.8  226   5000         В наличии   \n",
       "1  Твердая глянцевая  24.7 x 17.5 x 0.8  226   5000         В наличии   \n",
       "2                  -                  -    -      -         Предзаказ   \n",
       "3                  -                  -    -      -         Предзаказ   \n",
       "4                  -                  -    -      -         Предзаказ   \n",
       "\n",
       "   Поступит в продажу Наличие в магазинах Наличие в местных магазинах Карта  \n",
       "0                   -                   -                           -     -  \n",
       "1                   -                   -                           -     -  \n",
       "2       В ноябре 2022                   -                           -     -  \n",
       "3       В ноябре 2022                   -                           -     -  \n",
       "4      В декабре 2022                   -                           -     -  \n",
       "\n",
       "[5 rows x 31 columns]"
      ]
     },
     "execution_count": 24,
     "metadata": {},
     "output_type": "execute_result"
    }
   ],
   "source": [
    "# Считаем то, что получилось, из файла.\n",
    "\n",
    "df = pd.read_csv('parsed_chitay_gorod_kids.csv')\n",
    "print(df.shape)\n",
    "df.head()"
   ]
  },
  {
   "cell_type": "code",
   "execution_count": 20,
   "id": "84ed043d",
   "metadata": {},
   "outputs": [
    {
     "data": {
      "text/plain": [
       "ID товара                                                                2954469\n",
       "Название                                         Раскраски-находилки «Транспорт»\n",
       "Автор                                                               Степанова Ю.\n",
       "Цикл                                                                           -\n",
       "Том                                                                            -\n",
       "Категория                                      Детская художественная литература\n",
       "Подкатегории                                                           Раскраски\n",
       "Издательство                                                               Ранок\n",
       "Серия                                                        Раскраски-находилки\n",
       "Год издания                                                                 2020\n",
       "Возрастные ограничения                                                         -\n",
       "Переводчик                                                                     -\n",
       "Художник                                                            Ю. Степанова\n",
       "Цена                                                                         251\n",
       "Цена со скидкой                                                              251\n",
       "Рейтинг                                                                      0.0\n",
       "Кол-во оценок                                                                  0\n",
       "ISBN                                                           978-966-7503-17-8\n",
       "Аннотация                      Ищите с интересом, раскрашивайте с удовольстви...\n",
       "Отрывок                                                                        -\n",
       "Обложка                           https://img-gorod.ru/29/544/2954469_detail.jpg\n",
       "Кол-во страниц                                                                 -\n",
       "Тип обложки                                                      Мягкая бумажная\n",
       "Формат                                                         27.5 x 21.5 x 0.2\n",
       "Вес                                                                          100\n",
       "Тираж                                                                          -\n",
       "Наличие на сайте                                                   Осталось мало\n",
       "Поступит в продажу                                                             -\n",
       "Наличие в магазинах                                                            -\n",
       "Наличие в местных магазинах                                                    -\n",
       "Карта                                                                          -\n",
       "Name: 128, dtype: object"
      ]
     },
     "execution_count": 20,
     "metadata": {},
     "output_type": "execute_result"
    }
   ],
   "source": [
    "# Посмотрим, как выглядит какая-нибудь строка целиком.\n",
    "\n",
    "df.loc[128]"
   ]
  },
  {
   "cell_type": "code",
   "execution_count": 19,
   "id": "6780cc0c",
   "metadata": {},
   "outputs": [
    {
     "data": {
      "text/plain": [
       "'Однажды мама дарит Селесте подарок. И это вовсе не желанный телескоп, а… очки! Селесте непросто к ним сразу привыкнуть — очки давят на уши, запотевают от горячего чая, да еще и одноклассник придумал ей обидное прозвище. Да зачем вообще нужны эти очки?! Для того, чтобы увидеть этот мир во всей полноте его красок, наслаждаться и восхищаться им, а значит, и жить более полной жизнью и становиться благодаря этому лучше! Эта книга поможет всем детям, которым прописали очки, преодолеть сомнения и понять, что очки – это вовсе не проблема, а очень крутая вещь, которая наделяет тебя суперсилой – острым зрением! А специальный разворот с советами от экспертов-офтальмологов о том, как замотивировать ребенка и помочь ему привыкнуть к очкам будет, полезен родителям. Для детей от 4 до 8 лет и их родителей.'"
      ]
     },
     "execution_count": 19,
     "metadata": {},
     "output_type": "execute_result"
    }
   ],
   "source": [
    "# Выведем полностью аннотацию.\n",
    "\n",
    "df.loc[324]['Аннотация']"
   ]
  },
  {
   "cell_type": "markdown",
   "id": "a080717b",
   "metadata": {},
   "source": [
    "## Доделки и ошибки\n",
    "\n",
    "**Чтобы дальше работать с этим датасетом, надо провести дебаг, собрать все пропущенные книги, а также\n",
    "оставшиеся издания детской литературы в разные файлы, а потом склеить всё в один DataFrame.**\n",
    "\n",
    "- удалить \\r из аннотации\n",
    "- не делать том числом\n",
    "- не делать кол-во страниц числом\n",
    "- исправить ISBN (https://www.chitai-gorod.ru/catalog/book/2872501/)\n",
    "- лучше выводить последний book_error и отмечать страницу, а весь список перезаписывать в файл"
   ]
  },
  {
   "cell_type": "code",
   "execution_count": 41,
   "id": "2f7dac3c",
   "metadata": {},
   "outputs": [
    {
     "name": "stdout",
     "output_type": "stream",
     "text": [
      "https://www.chitai-gorod.ru/catalog/book/2911881/\n",
      "https://www.chitai-gorod.ru/catalog/book/2911233/\n",
      "https://www.chitai-gorod.ru/catalog/book/2907392/\n",
      "https://www.chitai-gorod.ru/catalog/book/2879302/\n",
      "https://www.chitai-gorod.ru/catalog/book/2879301/\n",
      "https://www.chitai-gorod.ru/catalog/book/2879300/\n",
      "https://www.chitai-gorod.ru/catalog/book/2875131/\n",
      "https://www.chitai-gorod.ru/catalog/book/2874478/\n",
      "https://www.chitai-gorod.ru/catalog/book/2872501/\n",
      "https://www.chitai-gorod.ru/catalog/book/2860709/\n",
      "https://www.chitai-gorod.ru/catalog/book/2856315/\n",
      "https://www.chitai-gorod.ru/catalog/book/2846846/\n",
      "https://www.chitai-gorod.ru/catalog/book/2841112/\n",
      "\n"
     ]
    }
   ],
   "source": [
    "book_error = ['https://www.chitai-gorod.ru/catalog/book/2911881/', 'https://www.chitai-gorod.ru/catalog/book/2911233/', 'https://www.chitai-gorod.ru/catalog/book/2907392/', 'https://www.chitai-gorod.ru/catalog/book/2879302/', 'https://www.chitai-gorod.ru/catalog/book/2879301/', 'https://www.chitai-gorod.ru/catalog/book/2879300/', 'https://www.chitai-gorod.ru/catalog/book/2875131/', 'https://www.chitai-gorod.ru/catalog/book/2874478/', 'https://www.chitai-gorod.ru/catalog/book/2872501/', 'https://www.chitai-gorod.ru/catalog/book/2860709/', 'https://www.chitai-gorod.ru/catalog/book/2856315/', 'https://www.chitai-gorod.ru/catalog/book/2846846/', 'https://www.chitai-gorod.ru/catalog/book/2841112/']\n",
    "\n",
    "for book in book_error:\n",
    "    with open('book_error.text', 'a') as log:\n",
    "        log.write(book + '\\n')\n",
    "\n",
    "with open('book_error.text', 'r') as log:\n",
    "    print(log.read())"
   ]
  },
  {
   "cell_type": "code",
   "execution_count": 42,
   "id": "a36f7734",
   "metadata": {},
   "outputs": [
    {
     "name": "stdout",
     "output_type": "stream",
     "text": [
      "['https://www.chitai-gorod.ru/catalog/book/2911881/\\n', 'https://www.chitai-gorod.ru/catalog/book/2911233/\\n', 'https://www.chitai-gorod.ru/catalog/book/2907392/\\n', 'https://www.chitai-gorod.ru/catalog/book/2879302/\\n', 'https://www.chitai-gorod.ru/catalog/book/2879301/\\n', 'https://www.chitai-gorod.ru/catalog/book/2879300/\\n', 'https://www.chitai-gorod.ru/catalog/book/2875131/\\n', 'https://www.chitai-gorod.ru/catalog/book/2874478/\\n', 'https://www.chitai-gorod.ru/catalog/book/2872501/\\n', 'https://www.chitai-gorod.ru/catalog/book/2860709/\\n', 'https://www.chitai-gorod.ru/catalog/book/2856315/\\n', 'https://www.chitai-gorod.ru/catalog/book/2846846/\\n', 'https://www.chitai-gorod.ru/catalog/book/2841112/\\n']\n"
     ]
    }
   ],
   "source": [
    "with open('book_error.text', 'r') as log:\n",
    "    missed = list(log)\n",
    "    \n",
    "print(missed)"
   ]
  },
  {
   "cell_type": "code",
   "execution_count": 32,
   "id": "60fd2968",
   "metadata": {},
   "outputs": [
    {
     "name": "stdout",
     "output_type": "stream",
     "text": [
      "https://www.chitai-gorod.ru/catalog/book/2841112/\n",
      "\n",
      "\n"
     ]
    }
   ],
   "source": [
    "with open('book_error.text', 'a') as log:\n",
    "    log.write(book_error[-1] + '\\n')\n",
    "\n",
    "with open('book_error.text', 'r') as log:\n",
    "    print(log.read())"
   ]
  },
  {
   "cell_type": "code",
   "execution_count": 40,
   "id": "4e38db68",
   "metadata": {},
   "outputs": [],
   "source": [
    "with open('book_error.text', 'w') as log:\n",
    "    log.flush()"
   ]
  },
  {
   "cell_type": "code",
   "execution_count": 39,
   "id": "f12a60cd",
   "metadata": {},
   "outputs": [
    {
     "name": "stdout",
     "output_type": "stream",
     "text": [
      "5 https://www.chitai-gorod.ru/catalog/book/2841112/\n"
     ]
    }
   ],
   "source": [
    "book_error = ['https://www.chitai-gorod.ru/catalog/book/2911881/', 'https://www.chitai-gorod.ru/catalog/book/2911233/', 'https://www.chitai-gorod.ru/catalog/book/2907392/', 'https://www.chitai-gorod.ru/catalog/book/2879302/', 'https://www.chitai-gorod.ru/catalog/book/2879301/', 'https://www.chitai-gorod.ru/catalog/book/2879300/', 'https://www.chitai-gorod.ru/catalog/book/2875131/', 'https://www.chitai-gorod.ru/catalog/book/2874478/', 'https://www.chitai-gorod.ru/catalog/book/2872501/', 'https://www.chitai-gorod.ru/catalog/book/2860709/', 'https://www.chitai-gorod.ru/catalog/book/2856315/', 'https://www.chitai-gorod.ru/catalog/book/2846846/', 'https://www.chitai-gorod.ru/catalog/book/2841112/']\n",
    "\n",
    "p = 5\n",
    "\n",
    "print(str(p) + ' ' + book_error[-1])"
   ]
  },
  {
   "cell_type": "code",
   "execution_count": 45,
   "id": "ce8f5fe3",
   "metadata": {},
   "outputs": [
    {
     "data": {
      "text/html": [
       "<div>\n",
       "<style scoped>\n",
       "    .dataframe tbody tr th:only-of-type {\n",
       "        vertical-align: middle;\n",
       "    }\n",
       "\n",
       "    .dataframe tbody tr th {\n",
       "        vertical-align: top;\n",
       "    }\n",
       "\n",
       "    .dataframe thead th {\n",
       "        text-align: right;\n",
       "    }\n",
       "</style>\n",
       "<table border=\"1\" class=\"dataframe\">\n",
       "  <thead>\n",
       "    <tr style=\"text-align: right;\">\n",
       "      <th></th>\n",
       "      <th>a</th>\n",
       "    </tr>\n",
       "  </thead>\n",
       "  <tbody>\n",
       "    <tr>\n",
       "      <th>0</th>\n",
       "      <td>10</td>\n",
       "    </tr>\n",
       "    <tr>\n",
       "      <th>1</th>\n",
       "      <td>20</td>\n",
       "    </tr>\n",
       "    <tr>\n",
       "      <th>2</th>\n",
       "      <td>30</td>\n",
       "    </tr>\n",
       "  </tbody>\n",
       "</table>\n",
       "</div>"
      ],
      "text/plain": [
       "    a\n",
       "0  10\n",
       "1  20\n",
       "2  30"
      ]
     },
     "execution_count": 45,
     "metadata": {},
     "output_type": "execute_result"
    }
   ],
   "source": [
    "a = pd.DataFrame() # создали пустой датафрейм с помощью метода DataFrame() библиотеки pandas (pd)\n",
    "a['a'] = [10,20,30] # создаем колонку \"а\" и помещаем в нее столбец с данными - [10, 20, 30]\n",
    "a"
   ]
  },
  {
   "cell_type": "code",
   "execution_count": 46,
   "id": "20f20fcc",
   "metadata": {},
   "outputs": [
    {
     "data": {
      "text/html": [
       "<div>\n",
       "<style scoped>\n",
       "    .dataframe tbody tr th:only-of-type {\n",
       "        vertical-align: middle;\n",
       "    }\n",
       "\n",
       "    .dataframe tbody tr th {\n",
       "        vertical-align: top;\n",
       "    }\n",
       "\n",
       "    .dataframe thead th {\n",
       "        text-align: right;\n",
       "    }\n",
       "</style>\n",
       "<table border=\"1\" class=\"dataframe\">\n",
       "  <thead>\n",
       "    <tr style=\"text-align: right;\">\n",
       "      <th></th>\n",
       "      <th>a</th>\n",
       "    </tr>\n",
       "  </thead>\n",
       "  <tbody>\n",
       "    <tr>\n",
       "      <th>0</th>\n",
       "      <td>30</td>\n",
       "    </tr>\n",
       "    <tr>\n",
       "      <th>1</th>\n",
       "      <td>40</td>\n",
       "    </tr>\n",
       "    <tr>\n",
       "      <th>2</th>\n",
       "      <td>50</td>\n",
       "    </tr>\n",
       "  </tbody>\n",
       "</table>\n",
       "</div>"
      ],
      "text/plain": [
       "    a\n",
       "0  30\n",
       "1  40\n",
       "2  50"
      ]
     },
     "execution_count": 46,
     "metadata": {},
     "output_type": "execute_result"
    }
   ],
   "source": [
    "b = pd.DataFrame() # создали пустой датафрейм с помощью метода DataFrame() библиотеки pandas (pd)\n",
    "b['a'] = [30,40,50] # создаем колонку \"а\" и помещаем в нее столбец с данными - [10, 20, 30]\n",
    "b"
   ]
  },
  {
   "cell_type": "code",
   "execution_count": 57,
   "id": "c5a9b681",
   "metadata": {},
   "outputs": [
    {
     "name": "stderr",
     "output_type": "stream",
     "text": [
      "C:\\Users\\Klim\\AppData\\Local\\Temp\\ipykernel_5540\\3027864119.py:1: FutureWarning: The frame.append method is deprecated and will be removed from pandas in a future version. Use pandas.concat instead.\n",
      "  c = a.append(b, ignore_index=True)\n"
     ]
    },
    {
     "data": {
      "text/html": [
       "<div>\n",
       "<style scoped>\n",
       "    .dataframe tbody tr th:only-of-type {\n",
       "        vertical-align: middle;\n",
       "    }\n",
       "\n",
       "    .dataframe tbody tr th {\n",
       "        vertical-align: top;\n",
       "    }\n",
       "\n",
       "    .dataframe thead th {\n",
       "        text-align: right;\n",
       "    }\n",
       "</style>\n",
       "<table border=\"1\" class=\"dataframe\">\n",
       "  <thead>\n",
       "    <tr style=\"text-align: right;\">\n",
       "      <th></th>\n",
       "      <th>a</th>\n",
       "    </tr>\n",
       "  </thead>\n",
       "  <tbody>\n",
       "    <tr>\n",
       "      <th>0</th>\n",
       "      <td>10</td>\n",
       "    </tr>\n",
       "    <tr>\n",
       "      <th>1</th>\n",
       "      <td>20</td>\n",
       "    </tr>\n",
       "    <tr>\n",
       "      <th>2</th>\n",
       "      <td>30</td>\n",
       "    </tr>\n",
       "    <tr>\n",
       "      <th>3</th>\n",
       "      <td>40</td>\n",
       "    </tr>\n",
       "    <tr>\n",
       "      <th>4</th>\n",
       "      <td>50</td>\n",
       "    </tr>\n",
       "  </tbody>\n",
       "</table>\n",
       "</div>"
      ],
      "text/plain": [
       "    a\n",
       "0  10\n",
       "1  20\n",
       "2  30\n",
       "3  40\n",
       "4  50"
      ]
     },
     "execution_count": 57,
     "metadata": {},
     "output_type": "execute_result"
    }
   ],
   "source": [
    "c = a.append(b, ignore_index=True)\n",
    "c.drop_duplicates(inplace=True)\n",
    "d = c.reset_index(drop=True)\n",
    "d"
   ]
  },
  {
   "cell_type": "code",
   "execution_count": null,
   "id": "9e9aecc8",
   "metadata": {},
   "outputs": [],
   "source": []
  }
 ],
 "metadata": {
  "kernelspec": {
   "display_name": "Python 3 (ipykernel)",
   "language": "python",
   "name": "python3"
  },
  "language_info": {
   "codemirror_mode": {
    "name": "ipython",
    "version": 3
   },
   "file_extension": ".py",
   "mimetype": "text/x-python",
   "name": "python",
   "nbconvert_exporter": "python",
   "pygments_lexer": "ipython3",
   "version": "3.9.12"
  }
 },
 "nbformat": 4,
 "nbformat_minor": 5
}
