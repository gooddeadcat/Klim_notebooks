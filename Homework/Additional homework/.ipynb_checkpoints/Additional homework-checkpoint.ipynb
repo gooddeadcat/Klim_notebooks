{
 "cells": [
  {
   "cell_type": "code",
   "execution_count": 337,
   "id": "abfb7a2c",
   "metadata": {},
   "outputs": [],
   "source": [
    "from sys import stdin\n",
    "class Matrix(str):\n",
    "    def __init__(self, lol):\n",
    "        self.lol = lol.copy()\n",
    "        self.matrix = ''\n",
    "        for i in range(len(self.lol) - 1):\n",
    "            self.matrix += ('\\t'.join(map(str, self.lol[i])) + '\\n')\n",
    "        self.matrix += ('\\t'.join(map(str, self.lol[-1])))\n",
    "    def __repr__(self):\n",
    "        return self.matrix\n",
    "    def __str__(self):\n",
    "        return str(self.matrix)\n",
    "    def size(self):\n",
    "        return (len(self.lol), len(self.lol[0]))\n",
    "    def __add__(self, matrix2):\n",
    "        self.add = []\n",
    "        for i in range(len(str(self.matrix).split('\\n'))):\n",
    "            self.add.append([int(sum(x)) if sum(x) == 0 or sum(x) % int(sum(x)) == 0 else sum(x)\n",
    "                      for x in zip(list(map(float, str(self.matrix).split('\\n')[i].split('\\t'))),\n",
    "                      list(map(float, str(matrix2).split('\\n')[i].split('\\t'))))])\n",
    "        return Matrix(self.add)\n",
    "    def __mul__(self, number):\n",
    "        self.mul = []\n",
    "        for i in range(len(str(self.matrix).split('\\n'))):\n",
    "            self.mul.append([int(x * number) if x * number == 0 or x * number % int(x * number) == 0 else x * number\n",
    "                      for x in list(map(float, str(self.matrix).split('\\n')[i].split('\\t')))])\n",
    "        return Matrix(self.mul)\n",
    "    def __rmul__(self, number):\n",
    "        return self.__mul__(number)\n",
    "exec(stdin.read())"
   ]
  },
  {
   "cell_type": "code",
   "execution_count": 345,
   "id": "cdf40b66",
   "metadata": {},
   "outputs": [],
   "source": [
    "from sys import stdin\n",
    "class Matrix(str):\n",
    "    def __init__(self, lol):\n",
    "        self.lol = lol.copy()\n",
    "        self.matrix = ''\n",
    "        for i in range(len(self.lol) - 1):\n",
    "            self.matrix += ('\\t'.join(map(str, self.lol[i])) + '\\n')\n",
    "        self.matrix += ('\\t'.join(map(str, self.lol[-1])))\n",
    "    def __repr__(self):\n",
    "        return self.matrix\n",
    "    def __str__(self):\n",
    "        return str(self.matrix)\n",
    "    def size(self):\n",
    "        return (len(self.lol), len(self.lol[0]))\n",
    "    def __add__(self, matrix2):\n",
    "        self.add = []\n",
    "        for i in range(len(str(self.matrix).split('\\n'))):\n",
    "            self.add.append([int(sum(x)) if int(sum(x)) == sum(x) else sum(x)\n",
    "                      for x in zip(list(map(float, str(self.matrix).split('\\n')[i].split('\\t'))),\n",
    "                      list(map(float, str(matrix2).split('\\n')[i].split('\\t'))))])\n",
    "        return Matrix(self.add)\n",
    "    def __mul__(self, number):\n",
    "        self.mul = []\n",
    "        for i in range(len(str(self.matrix).split('\\n'))):\n",
    "            self.mul.append([int(x * number) if int(x * number) == x * number else x * number\n",
    "                      for x in list(map(float, str(self.matrix).split('\\n')[i].split('\\t')))])\n",
    "        return Matrix(self.mul)\n",
    "    def __rmul__(self, number):\n",
    "        return self.__mul__(number)\n",
    "exec(stdin.read())"
   ]
  },
  {
   "cell_type": "code",
   "execution_count": 380,
   "id": "c83b523b",
   "metadata": {},
   "outputs": [],
   "source": [
    "from sys import stdin\n",
    "class Matrix(str):\n",
    "    def __init__(self, lol):\n",
    "        self.lol = lol.copy()\n",
    "        self.matrix = ''\n",
    "        for i in range(len(self.lol) - 1):\n",
    "            self.matrix += ('\\t'.join(map(str, self.lol[i])) + '\\n')\n",
    "        self.matrix += ('\\t'.join(map(str, self.lol[-1])))\n",
    "    def __repr__(self):\n",
    "        return self.matrix\n",
    "    def __str__(self):\n",
    "        return str(self.matrix)\n",
    "    def size(self):\n",
    "        return (len(self.lol), len(self.lol[0]))\n",
    "    def __add__(self, matrix2):\n",
    "        self.add = []\n",
    "        for i in range(len(str(self.matrix).split('\\n'))):\n",
    "            self.add.append([int(sum(x)) if int(sum(x)) == sum(x) else sum(x)\n",
    "                      for x in zip(list(map(float, str(self.matrix).split('\\n')[i].split('\\t'))),\n",
    "                      list(map(float, str(matrix2).split('\\n')[i].split('\\t'))))])\n",
    "        trig = 0\n",
    "        for i in range(len(self.add)):\n",
    "            for j in range(len(self.add[i])):\n",
    "                if int(self.add[i][j]) != self.add[i][j]:\n",
    "                    trig += 1\n",
    "        if trig > 0:\n",
    "            for i in range(len(self.add)):\n",
    "                for j in range(len(self.add[i])):\n",
    "                    self.add[i][j] = float(self.add[i][j])\n",
    "        return Matrix(self.add)\n",
    "    def __mul__(self, number):\n",
    "        self.mul = []\n",
    "        for i in range(len(str(self.matrix).split('\\n'))):\n",
    "            self.mul.append([int(x * number) if int(x * number) == x * number else x * number\n",
    "                      for x in list(map(float, str(self.matrix).split('\\n')[i].split('\\t')))])\n",
    "        trig = 0\n",
    "        for i in range(len(self.mul)):\n",
    "            for j in range(len(self.mul[i])):\n",
    "                if int(self.mul[i][j]) != self.mul[i][j]:\n",
    "                    trig += 1\n",
    "        if trig > 0:\n",
    "            for i in range(len(self.mul)):\n",
    "                for j in range(len(self.mul[i])):\n",
    "                    self.mul[i][j] = float(self.mul[i][j])\n",
    "        return Matrix(self.mul)\n",
    "    def __rmul__(self, number):\n",
    "        return self.__mul__(number)\n",
    "exec(stdin.read())"
   ]
  },
  {
   "cell_type": "code",
   "execution_count": 375,
   "id": "d9c0d8ed",
   "metadata": {},
   "outputs": [
    {
     "data": {
      "text/plain": [
       "0.0"
      ]
     },
     "execution_count": 375,
     "metadata": {},
     "output_type": "execute_result"
    }
   ],
   "source": [
    "float(0)"
   ]
  },
  {
   "cell_type": "code",
   "execution_count": 346,
   "id": "3f9b8b37",
   "metadata": {},
   "outputs": [
    {
     "name": "stdout",
     "output_type": "stream",
     "text": [
      "[[1, 2, 3], [4, -5, 6], [7.5, 8.1, 9.0], [10, 11, 12]]\n"
     ]
    }
   ],
   "source": [
    "l = [[1, 2, 3], [4, -5, 6], [7.5, 8.1, 9.0], [10, 11, 12]]\n",
    "print(l)"
   ]
  },
  {
   "cell_type": "code",
   "execution_count": 381,
   "id": "5e2a148e",
   "metadata": {},
   "outputs": [
    {
     "name": "stdout",
     "output_type": "stream",
     "text": [
      "1\t1\t1\n",
      "20\t1\t-1\n",
      "-1\t-2\t1\n"
     ]
    }
   ],
   "source": [
    "m1 = Matrix([[1, 0, 0], [0, 1, 0], [0, 0, 1]])\n",
    "m2 = Matrix([[0, 1, 1], [20, 0, -1], [-1, -2, 0]])\n",
    "print(m1 + m2)"
   ]
  },
  {
   "cell_type": "code",
   "execution_count": 384,
   "id": "a20ecc5c",
   "metadata": {},
   "outputs": [
    {
     "name": "stdout",
     "output_type": "stream",
     "text": [
      "5.0\t5.0\t0.0\n",
      "0.0\t12.5\t50.0\n",
      "50.0\t75.0\t150.0\n",
      "5.0\t5.0\t0.0\n",
      "0.0\t12.5\t50.0\n",
      "50.0\t75.0\t150.0\n"
     ]
    }
   ],
   "source": [
    "m = Matrix([[1, 1, 0], [0, 2.5, 10], [10, 15, 30]])\n",
    "alpha = 5\n",
    "print(m * alpha)\n",
    "print(alpha * m)"
   ]
  },
  {
   "cell_type": "code",
   "execution_count": 350,
   "id": "61104cfb",
   "metadata": {},
   "outputs": [
    {
     "name": "stdout",
     "output_type": "stream",
     "text": [
      "(3, 2)\n"
     ]
    },
    {
     "data": {
      "text/plain": [
       "1\t2\t0\n",
       "40\t1\t-2\n",
       "-2\t-4\t1"
      ]
     },
     "execution_count": 350,
     "metadata": {},
     "output_type": "execute_result"
    }
   ],
   "source": [
    "m = Matrix([[10, 10], [0, 0], [1, 1]])\n",
    "print(m.size())\n",
    "\n",
    "m1 = Matrix([[1, 0, 0], [0, 1, 0], [0, 0, 1]])\n",
    "m2 = Matrix([[0, 1, 0], [20, 0, -1], [-1, -2, 0]])\n",
    "m3 = m1 + m2\n",
    "m3 + m2"
   ]
  },
  {
   "cell_type": "code",
   "execution_count": 351,
   "id": "83e21f04",
   "metadata": {},
   "outputs": [
    {
     "name": "stdout",
     "output_type": "stream",
     "text": [
      "3\n"
     ]
    }
   ],
   "source": [
    "m1 = Matrix([[1]])\n",
    "m2 = Matrix([[2]])\n",
    "print(m2 + m1)"
   ]
  },
  {
   "cell_type": "code",
   "execution_count": 352,
   "id": "95c4bb44",
   "metadata": {},
   "outputs": [
    {
     "name": "stdout",
     "output_type": "stream",
     "text": [
      "15\t15\t0\n",
      "0\t30\t150\n",
      "150\t225\t450\n",
      "15\t15\t0\n",
      "0\t30\t150\n",
      "150\t225\t450\n"
     ]
    }
   ],
   "source": [
    "m = Matrix([[1, 1, 0], [0, 2, 10], [10, 15, 30]])\n",
    "alpha = 15\n",
    "print(m * alpha)\n",
    "print(alpha * m)"
   ]
  },
  {
   "cell_type": "code",
   "execution_count": 353,
   "id": "da87bebe",
   "metadata": {},
   "outputs": [
    {
     "data": {
      "text/plain": [
       "1\t1\t0\n",
       "0\t2\t10\n",
       "10\t15\t30"
      ]
     },
     "execution_count": 353,
     "metadata": {},
     "output_type": "execute_result"
    }
   ],
   "source": [
    "m"
   ]
  },
  {
   "cell_type": "code",
   "execution_count": 354,
   "id": "c89c2de2",
   "metadata": {},
   "outputs": [
    {
     "data": {
      "text/plain": [
       "'15\\t15\\t0\\n0\\t30\\t150\\n150\\t225\\t450'"
      ]
     },
     "execution_count": 354,
     "metadata": {},
     "output_type": "execute_result"
    }
   ],
   "source": [
    "str(alpha * m)"
   ]
  },
  {
   "cell_type": "code",
   "execution_count": 355,
   "id": "e95cb044",
   "metadata": {},
   "outputs": [],
   "source": [
    "g = Matrix(l)\n",
    "f = Matrix(l)"
   ]
  },
  {
   "cell_type": "code",
   "execution_count": 356,
   "id": "3423ae8b",
   "metadata": {},
   "outputs": [
    {
     "data": {
      "text/plain": [
       "['1\\t2\\t3', '4\\t-5\\t6', '7.5\\t8.1\\t9.0', '10\\t11\\t12']"
      ]
     },
     "execution_count": 356,
     "metadata": {},
     "output_type": "execute_result"
    }
   ],
   "source": [
    "str(g).split('\\n')"
   ]
  },
  {
   "cell_type": "code",
   "execution_count": 357,
   "id": "4d65ffed",
   "metadata": {},
   "outputs": [
    {
     "data": {
      "text/plain": [
       "2\t4\t6\n",
       "8\t-10\t12\n",
       "15\t16.2\t18\n",
       "20\t22\t24"
      ]
     },
     "execution_count": 357,
     "metadata": {},
     "output_type": "execute_result"
    }
   ],
   "source": [
    "f + g"
   ]
  },
  {
   "cell_type": "code",
   "execution_count": 358,
   "id": "25eb3710",
   "metadata": {},
   "outputs": [
    {
     "name": "stdout",
     "output_type": "stream",
     "text": [
      "2\t4\t6\n",
      "8\t-10\t12\n",
      "15\t16.2\t18\n",
      "20\t22\t24\n"
     ]
    }
   ],
   "source": [
    "print(g + f)"
   ]
  },
  {
   "cell_type": "code",
   "execution_count": 359,
   "id": "b66933f6",
   "metadata": {},
   "outputs": [
    {
     "data": {
      "text/plain": [
       "'2\\t4\\t6\\n8\\t-10\\t12\\n15\\t16.2\\t18\\n20\\t22\\t24'"
      ]
     },
     "execution_count": 359,
     "metadata": {},
     "output_type": "execute_result"
    }
   ],
   "source": [
    "str(g + f)"
   ]
  },
  {
   "cell_type": "code",
   "execution_count": 360,
   "id": "10fd5ca9",
   "metadata": {},
   "outputs": [
    {
     "data": {
      "text/plain": [
       "(4, 3)"
      ]
     },
     "execution_count": 360,
     "metadata": {},
     "output_type": "execute_result"
    }
   ],
   "source": [
    "g.size()"
   ]
  },
  {
   "cell_type": "code",
   "execution_count": 361,
   "id": "2a5385b3",
   "metadata": {},
   "outputs": [
    {
     "name": "stdout",
     "output_type": "stream",
     "text": [
      "1\t2\t3\n",
      "4\t-5\t6\n",
      "7.5\t8.1\t9.0\n",
      "10\t11\t12\n"
     ]
    }
   ],
   "source": [
    "print(g)"
   ]
  },
  {
   "cell_type": "code",
   "execution_count": 362,
   "id": "eb4c4051",
   "metadata": {},
   "outputs": [
    {
     "data": {
      "text/plain": [
       "'1\\t2\\t3\\n4\\t-5\\t6\\n7.5\\t8.1\\t9.0\\n10\\t11\\t12'"
      ]
     },
     "execution_count": 362,
     "metadata": {},
     "output_type": "execute_result"
    }
   ],
   "source": [
    "str(g)"
   ]
  },
  {
   "cell_type": "code",
   "execution_count": 363,
   "id": "975353fa",
   "metadata": {},
   "outputs": [
    {
     "name": "stdout",
     "output_type": "stream",
     "text": [
      "1\t2\t3\n",
      "4\t-5\t6\n",
      "7.5\t8.1\t9.0\n",
      "10\t11\t12\n"
     ]
    }
   ],
   "source": [
    "print(str(g))"
   ]
  },
  {
   "cell_type": "code",
   "execution_count": 364,
   "id": "5c4a53fe",
   "metadata": {},
   "outputs": [
    {
     "data": {
      "text/plain": [
       "'-2.9\\t-5.8\\t-8.7\\n-11.6\\t14.5\\t-17.4\\n-21.75\\t-23.49\\t-26.099999999999998\\n-29\\t-31.9\\t-34.8'"
      ]
     },
     "execution_count": 364,
     "metadata": {},
     "output_type": "execute_result"
    }
   ],
   "source": [
    "str(-2.9 * g)"
   ]
  },
  {
   "cell_type": "code",
   "execution_count": 365,
   "id": "a0861fae",
   "metadata": {},
   "outputs": [
    {
     "data": {
      "text/plain": [
       "__main__.Matrix"
      ]
     },
     "execution_count": 365,
     "metadata": {},
     "output_type": "execute_result"
    }
   ],
   "source": [
    "type(g + f)"
   ]
  },
  {
   "cell_type": "code",
   "execution_count": 366,
   "id": "0534fda7",
   "metadata": {},
   "outputs": [
    {
     "data": {
      "text/plain": [
       "__main__.Matrix"
      ]
     },
     "execution_count": 366,
     "metadata": {},
     "output_type": "execute_result"
    }
   ],
   "source": [
    "type(g)"
   ]
  },
  {
   "cell_type": "code",
   "execution_count": null,
   "id": "9c2562bc",
   "metadata": {},
   "outputs": [],
   "source": []
  }
 ],
 "metadata": {
  "kernelspec": {
   "display_name": "Python 3 (ipykernel)",
   "language": "python",
   "name": "python3"
  },
  "language_info": {
   "codemirror_mode": {
    "name": "ipython",
    "version": 3
   },
   "file_extension": ".py",
   "mimetype": "text/x-python",
   "name": "python",
   "nbconvert_exporter": "python",
   "pygments_lexer": "ipython3",
   "version": "3.9.12"
  }
 },
 "nbformat": 4,
 "nbformat_minor": 5
}
