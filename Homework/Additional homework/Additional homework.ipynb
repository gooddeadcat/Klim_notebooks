{
 "cells": [
  {
   "cell_type": "code",
   "execution_count": 722,
   "id": "46e1fca9",
   "metadata": {},
   "outputs": [],
   "source": [
    "from sys import stdin\n",
    "\n",
    "class Matrix(str):\n",
    "    def __init__(self, lol):\n",
    "        self.lol = lol.copy()\n",
    "        self.matrix = ''\n",
    "        for i in range(len(self.lol) - 1):\n",
    "            self.matrix += ('\\t'.join(map(str, self.lol[i])) + '\\n')\n",
    "        self.matrix += ('\\t'.join(map(str, self.lol[-1])))\n",
    "    def __repr__(self):\n",
    "        return self.matrix\n",
    "    def __str__(self):\n",
    "        return str(self.matrix)\n",
    "    def size(self):\n",
    "        return (len(self.lol), len(self.lol[0]))\n",
    "    def __add__(self, matrix2):\n",
    "        if len(str(self).split('\\n')) == len(str(matrix2).split('\\n')) and \\\n",
    "           len(str(self).split('\\n')[0].split('\\t')) == len(str(matrix2).split('\\n')[0].split('\\t')):\n",
    "            add = []\n",
    "            for i in range(len(str(self).split('\\n'))):\n",
    "                add.append([int(sum(x)) if int(sum(x)) == sum(x) else sum(x)\n",
    "                          for x in zip(list(map(float, str(self).split('\\n')[i].split('\\t'))),\n",
    "                          list(map(float, str(matrix2).split('\\n')[i].split('\\t'))))])\n",
    "            trig = 0\n",
    "            for i in range(len(add)):\n",
    "                for j in range(len(add[i])):\n",
    "                    if int(add[i][j]) != add[i][j]:\n",
    "                        trig += 1\n",
    "            if trig > 0:\n",
    "                for i in range(len(add)):\n",
    "                    for j in range(len(add[i])):\n",
    "                        add[i][j] = float(add[i][j])\n",
    "            return Matrix(add)\n",
    "        else:\n",
    "            raise MatrixError(self, matrix2)                                \n",
    "    def __mul__(self, number):\n",
    "        mul = []\n",
    "        for i in range(len(str(self).split('\\n'))):\n",
    "            mul.append([int(x * number) if int(x * number) == x * number else x * number\n",
    "                      for x in list(map(float, str(self).split('\\n')[i].split('\\t')))])\n",
    "        trig = 0\n",
    "        for i in range(len(mul)):\n",
    "            for j in range(len(mul[i])):\n",
    "                if int(mul[i][j]) != mul[i][j]:\n",
    "                    trig += 1\n",
    "        if trig > 0:\n",
    "            for i in range(len(mul)):\n",
    "                for j in range(len(mul[i])):\n",
    "                    mul[i][j] = float(mul[i][j])\n",
    "        return Matrix(mul)\n",
    "    def __rmul__(self, number):\n",
    "        return self.__mul__(number)\n",
    "    def transpose(self):\n",
    "        s = []\n",
    "        for j in range(len(str(self).split('\\n')[0].split('\\t'))):\n",
    "            for i in range(len(str(self).split('\\n'))):\n",
    "                s.append(str(self).split('\\n')[i].split('\\t')[j])\n",
    "        t = []\n",
    "        for i in range(len(s) // len(str(self).split('\\n'))):\n",
    "            t.append([x for x in s[len(str(self).split('\\n')) * i : len(str(self).split('\\n')) * (i + 1)]])\n",
    "        self.matrix = Matrix(t)\n",
    "        return Matrix(t)\n",
    "    @staticmethod\n",
    "    def transposed(matrix):\n",
    "        s = []\n",
    "        for j in range(len(str(matrix).split('\\n')[0].split('\\t'))):\n",
    "            for i in range(len(str(matrix).split('\\n'))):\n",
    "                s.append(str(matrix).split('\\n')[i].split('\\t')[j])\n",
    "        t = []\n",
    "        for i in range(len(s) // len(str(matrix).split('\\n'))):\n",
    "            t.append([x for x in s[len(str(matrix).split('\\n')) * i : len(str(matrix).split('\\n')) * (i + 1)]])\n",
    "        return Matrix(t)\n",
    "\n",
    "class MatrixError(Exception):\n",
    "    def __init__(self, matrix1, matrix2):\n",
    "        self.matrix1 = matrix1\n",
    "        self.matrix2 = matrix2\n",
    "    \n",
    "exec(stdin.read())"
   ]
  },
  {
   "cell_type": "code",
   "execution_count": 73,
   "id": "710a7d24",
   "metadata": {},
   "outputs": [],
   "source": [
    "from sys import stdin\n",
    "\n",
    "class Matrix(str):\n",
    "    \n",
    "    def __init__(self, lol):\n",
    "        self.lol = lol.copy()\n",
    "        self.matrix = ''\n",
    "        for i in range(len(self.lol) - 1):\n",
    "            self.matrix += ('\\t'.join(map(str, self.lol[i])) + '\\n')\n",
    "        self.matrix += ('\\t'.join(map(str, self.lol[-1])))\n",
    "        \n",
    "    def __repr__(self):\n",
    "        return self.matrix\n",
    "    \n",
    "    def __str__(self):\n",
    "        return str(self.matrix)\n",
    "    \n",
    "    def size(self):\n",
    "        return (len(self.lol), len(self.lol[0]))\n",
    "    \n",
    "    def __add__(self, matrix2):\n",
    "        if len(str(self).split('\\n')) == len(str(matrix2).split('\\n')) and \\\n",
    "           len(str(self).split('\\n')[0].split('\\t')) == len(str(matrix2).split('\\n')[0].split('\\t')):\n",
    "            add = []\n",
    "            for i in range(len(str(self).split('\\n'))):\n",
    "                add.append([int(sum(x)) if int(sum(x)) == sum(x) else sum(x)\n",
    "                          for x in zip(list(map(float, str(self).split('\\n')[i].split('\\t'))),\n",
    "                          list(map(float, str(matrix2).split('\\n')[i].split('\\t'))))])\n",
    "            trig = 0\n",
    "            for i in range(len(add)):\n",
    "                for j in range(len(add[i])):\n",
    "                    if int(add[i][j]) != add[i][j]:\n",
    "                        trig += 1\n",
    "            if trig > 0:\n",
    "                for i in range(len(add)):\n",
    "                    for j in range(len(add[i])):\n",
    "                        add[i][j] = float(add[i][j])\n",
    "            return Matrix(add)\n",
    "        else:\n",
    "            raise MatrixError(self, matrix2)   \n",
    "            \n",
    "    def __mul__(self, other):\n",
    "        mul = []\n",
    "        if type(other) != Matrix:\n",
    "            for i in range(len(str(self).split('\\n'))):\n",
    "                mul.append([int(x * other) if int(x * other) == x * other else x * other\n",
    "                          for x in list(map(float, str(self).split('\\n')[i].split('\\t')))])\n",
    "        else:\n",
    "            t = Matrix.transposed(other)\n",
    "            s = []\n",
    "            for i in range(len(str(self).split('\\n'))):\n",
    "                for j in range(len(str(t).split('\\n'))):\n",
    "                    s.append(sum(a * b for a, b in zip(list(map(float, str(self).split('\\n')[i].split('\\t'))),\n",
    "                          list(map(float, str(t).split('\\n')[j].split('\\t'))))))\n",
    "            for i in range(len(s) // len(str(t).split('\\n'))):\n",
    "                mul.append([x for x in s[len(str(t).split('\\n')) * i : len(str(t).split('\\n')) * (i + 1)]])\n",
    "        trig = 0\n",
    "        for i in range(len(mul)):\n",
    "            for j in range(len(mul[i])):\n",
    "                if int(mul[i][j]) != mul[i][j]:\n",
    "                    trig += 1\n",
    "        if trig > 0:\n",
    "            for i in range(len(mul)):\n",
    "                for j in range(len(mul[i])):\n",
    "                    mul[i][j] = float(mul[i][j])\n",
    "        return Matrix(mul)\n",
    "                                 \n",
    "    def __rmul__(self, other):\n",
    "        if type(other) != Matrix:\n",
    "            return self.__mul__(other)\n",
    "        #else:\n",
    "            \n",
    "    def transpose(self):\n",
    "        s = []\n",
    "        for j in range(len(str(self).split('\\n')[0].split('\\t'))):\n",
    "            for i in range(len(str(self).split('\\n'))):\n",
    "                s.append(str(self).split('\\n')[i].split('\\t')[j])\n",
    "        t = []\n",
    "        for i in range(len(s) // len(str(self).split('\\n'))):\n",
    "            t.append([x for x in s[len(str(self).split('\\n')) * i : len(str(self).split('\\n')) * (i + 1)]])\n",
    "        self.matrix = Matrix(t)\n",
    "        return Matrix(t)\n",
    "                                 \n",
    "    @staticmethod\n",
    "    def transposed(matrix):\n",
    "        s = []\n",
    "        for j in range(len(str(matrix).split('\\n')[0].split('\\t'))):\n",
    "            for i in range(len(str(matrix).split('\\n'))):\n",
    "                s.append(str(matrix).split('\\n')[i].split('\\t')[j])\n",
    "        t = []\n",
    "        for i in range(len(s) // len(str(matrix).split('\\n'))):\n",
    "            t.append([x for x in s[len(str(matrix).split('\\n')) * i : len(str(matrix).split('\\n')) * (i + 1)]])\n",
    "        return Matrix(t)\n",
    "\n",
    "class MatrixError(Exception):\n",
    "    def __init__(self, matrix1, matrix2):\n",
    "        self.matrix1 = matrix1\n",
    "        self.matrix2 = matrix2\n",
    "    \n",
    "exec(stdin.read())"
   ]
  },
  {
   "cell_type": "code",
   "execution_count": 161,
   "id": "78ae31cd",
   "metadata": {},
   "outputs": [],
   "source": [
    "from sys import stdin\n",
    "    \n",
    "class Matrix(str):\n",
    "    \n",
    "    def __init__(self, lol):\n",
    "        self.lol = lol.copy()\n",
    "        self.matrix = ''\n",
    "        for i in range(len(self.lol) - 1):\n",
    "            self.matrix += ('\\t'.join(map(str, self.lol[i])) + '\\n')\n",
    "        self.matrix += ('\\t'.join(map(str, self.lol[-1])))\n",
    "        \n",
    "    def __repr__(self):\n",
    "        return self.matrix\n",
    "    \n",
    "    def __str__(self):\n",
    "        return str(self.matrix)\n",
    "    \n",
    "    def size(self):\n",
    "        return (len(self.lol), len(self.lol[0]))\n",
    "    \n",
    "    def deMatrix(self):\n",
    "        m = []\n",
    "        for i in range(len(str(self).split('\\n'))):\n",
    "            m.append([int(x) if int(x) == x else x\n",
    "                      for x in list(map(float, str(self).split('\\n')[i].split('\\t')))])\n",
    "        return m\n",
    "    \n",
    "    def __add__(self, matrix2):\n",
    "        m1 = self.deMatrix()\n",
    "        m2 = matrix2.deMatrix()\n",
    "        if len(m1) == len(m2) and len(m1[0]) == len(m2[0]):\n",
    "            add = []\n",
    "            for i in range(len(m1)):\n",
    "                add.append([sum(x) for x in zip(m1[i], m2[i])])\n",
    "            return Matrix(add)\n",
    "        else:\n",
    "            raise MatrixError(self, matrix2)\n",
    "    \n",
    "    def __mul__(self, other):\n",
    "        m1 = self.deMatrix()\n",
    "        mul = []\n",
    "        if type(other) != Matrix:\n",
    "            for i in range(len(m1)):\n",
    "                mul.append([x * other for x in m1[i]])\n",
    "            return Matrix(mul)\n",
    "        else:\n",
    "            if len(m1[0]) == len(str(other).split('\\n')):\n",
    "                t = Matrix.transposed(other)\n",
    "                m2 = t.deMatrix()\n",
    "                s = []\n",
    "                for i in range(len(m1)):\n",
    "                    for j in range(len(m2)):\n",
    "                        s.append(sum(a * b for a, b in zip(m1[i], m2[j])))\n",
    "                for i in range(len(s) // len(m2)):\n",
    "                    mul.append([x for x in s[len(m2) * i : len(m2) * (i + 1)]])\n",
    "                return Matrix(mul)\n",
    "            else:\n",
    "                raise MatrixError(self, other)\n",
    "    \n",
    "    def __rmul__(self, other):\n",
    "        return self.__mul__(other)\n",
    "    \n",
    "    def transpose(self):\n",
    "        m = self.deMatrix()\n",
    "        s = []\n",
    "        for j in range(len(m[0])):\n",
    "            for i in range(len(m)):\n",
    "                s.append(m[i][j])\n",
    "        t = []\n",
    "        for i in range(len(s) // len(m)):\n",
    "            t.append([x for x in s[len(m) * i : len(m) * (i + 1)]])\n",
    "        self.matrix = Matrix(t)\n",
    "        return Matrix(t)\n",
    "                                 \n",
    "    @staticmethod\n",
    "    def transposed(matrix):\n",
    "        m = matrix.deMatrix()\n",
    "        s = []\n",
    "        for j in range(len(m[0])):\n",
    "            for i in range(len(m)):\n",
    "                s.append(m[i][j])\n",
    "        t = []\n",
    "        for i in range(len(s) // len(m)):\n",
    "            t.append([x for x in s[len(m) * i : len(m) * (i + 1)]])\n",
    "        return Matrix(t)\n",
    "    \n",
    "class MatrixError(Exception):\n",
    "    def __init__(self, matrix1, matrix2):\n",
    "        self.matrix1 = matrix1\n",
    "        self.matrix2 = matrix2\n",
    "    \n",
    "exec(stdin.read())"
   ]
  },
  {
   "cell_type": "code",
   "execution_count": 148,
   "id": "0e7f636d",
   "metadata": {},
   "outputs": [
    {
     "name": "stdout",
     "output_type": "stream",
     "text": [
      "15\t1\t0\n",
      "20\t1\t-1\n",
      "-1\t-2\t1\n"
     ]
    }
   ],
   "source": [
    "m1 = Matrix([[15, 0, 0], [0, 1, 0], [0, 0, 1]])\n",
    "m2 = Matrix([[0, 1, 0], [20, 0, -1], [-1, -2, 0]])\n",
    "print(m1 + m2)"
   ]
  },
  {
   "cell_type": "code",
   "execution_count": 164,
   "id": "83a17687",
   "metadata": {},
   "outputs": [
    {
     "name": "stdout",
     "output_type": "stream",
     "text": [
      "0.25\t0.25\t0.0\n",
      "0.0\t0.625\t2.5\n",
      "2.5\t3.75\t7.5\n",
      "0.25\t0.25\t0.0\n",
      "0.0\t0.625\t2.5\n",
      "2.5\t3.75\t7.5\n"
     ]
    }
   ],
   "source": [
    "m = Matrix([[1, 1, 0], [0, 2.5, 10], [10, 15, 30]])\n",
    "alpha = 0.25\n",
    "print(m * alpha)\n",
    "print(alpha * m)"
   ]
  },
  {
   "cell_type": "code",
   "execution_count": 150,
   "id": "ed854382",
   "metadata": {},
   "outputs": [
    {
     "name": "stdout",
     "output_type": "stream",
     "text": [
      "10\t10\n",
      "0\t0\n",
      "1\t1\n",
      "10\t0\t1\n",
      "10\t0\t1\n",
      "10\t0\t1\n",
      "10\t0\t1\n",
      "(2, 3)\n"
     ]
    }
   ],
   "source": [
    "m = Matrix([[10, 10], [0, 0], [1, 1]])\n",
    "print(m)\n",
    "m1 = m.transpose()\n",
    "print(m)\n",
    "print(m1)\n",
    "print(m1.size())"
   ]
  },
  {
   "cell_type": "code",
   "execution_count": 151,
   "id": "b316f160",
   "metadata": {},
   "outputs": [
    {
     "data": {
      "text/plain": [
       "0\t20\t-1\n",
       "1\t0\t-2\n",
       "0\t-1\t0"
      ]
     },
     "execution_count": 151,
     "metadata": {},
     "output_type": "execute_result"
    }
   ],
   "source": [
    "m3 = Matrix.transposed(m2)\n",
    "m3"
   ]
  },
  {
   "cell_type": "code",
   "execution_count": 155,
   "id": "4892692e",
   "metadata": {},
   "outputs": [
    {
     "name": "stdout",
     "output_type": "stream",
     "text": [
      "1.5\t1\t0\n",
      "20\t1\t-1\n",
      "-1\t-2\t1\n",
      "1.5\t0\t0\n",
      "0\t1\t0\n",
      "0\t0\t1\n",
      "0\t1\t0\n",
      "20\t0\t-1\n"
     ]
    }
   ],
   "source": [
    "m1 = Matrix([[1.5, 0, 0], [0, 1, 0], [0, 0, 1]])\n",
    "m2 = Matrix([[0, 1, 0], [20, 0, -1], [-1, -2, 0]])\n",
    "print(m1 + m2)\n",
    "\n",
    "m2 = Matrix([[0, 1, 0], [20, 0, -1]])\n",
    "try:\n",
    "    m = m1 + m2\n",
    "    print('WA\\n' + str(m))\n",
    "except MatrixError as e:\n",
    "    print(e.matrix1)\n",
    "    print(e.matrix2)"
   ]
  },
  {
   "cell_type": "code",
   "execution_count": 156,
   "id": "c6f79e0a",
   "metadata": {},
   "outputs": [
    {
     "name": "stdout",
     "output_type": "stream",
     "text": [
      "3\t2\n",
      "-10\t0\n",
      "14\t5\n",
      "5.0\t2.0\t10.0\n",
      "-0.5\t-0.25\t18.0\n",
      "-22.0\t-2.5\t-0.125\n",
      "135\t60\n",
      "253.0\t89.0\n",
      "-42.75\t-44.625\n"
     ]
    }
   ],
   "source": [
    "mid = Matrix([[1, 0, 0],[0, 1, 0],[0, 0, 1]])\n",
    "m1 = Matrix([[3, 2], [-10, 0], [14, 5]])\n",
    "m2 = Matrix([[5, 2, 10], [-0.5, -0.25, 18], [-22, -2.5, -0.125]])\n",
    "print(mid * m1)\n",
    "print(mid * m2)\n",
    "print(m2 * m1)"
   ]
  },
  {
   "cell_type": "code",
   "execution_count": 159,
   "id": "38285d04",
   "metadata": {},
   "outputs": [
    {
     "name": "stdout",
     "output_type": "stream",
     "text": [
      "3\t2\n",
      "-10\t0\n",
      "14\t5\n",
      "5.0\t2.0\t10.0\n",
      "-0.5\t-0.25\t18.0\n",
      "-22.0\t-2.5\t-0.125\n",
      "135\t60\n",
      "253.0\t89.0\n",
      "-42.75\t-44.625\n",
      "3\t2\n",
      "-10\t0\n",
      "14\t5\n",
      "5\t2\t10\n",
      "-0.5\t-0.25\t18\n",
      "-22\t-2.5\t-0.125\n"
     ]
    }
   ],
   "source": [
    "mid = Matrix([[1, 0, 0],[0, 1, 0],[0, 0, 1]])\n",
    "m1 = Matrix([[3, 2], [-10, 0], [14, 5]])\n",
    "m2 = Matrix([[5, 2, 10], [-0.5, -0.25, 18], [-22, -2.5, -0.125]])\n",
    "print(mid * m1)\n",
    "print(mid * m2)\n",
    "print(m2 * m1)\n",
    "try:\n",
    "    m = m1 * m2\n",
    "    print(\"WA It should be error\")\n",
    "except MatrixError as e:\n",
    "    print(e.matrix1)\n",
    "    print(e.matrix2)"
   ]
  },
  {
   "cell_type": "code",
   "execution_count": 162,
   "id": "cf8583ed",
   "metadata": {},
   "outputs": [
    {
     "name": "stdout",
     "output_type": "stream",
     "text": [
      "2.5\t1.0\t5.0\n",
      "-0.25\t-0.125\t9.0\n",
      "-11.0\t-1.25\t-0.0625\n",
      "67.5\t30.0\n",
      "126.5\t44.5\n",
      "-21.375\t-22.3125\n"
     ]
    }
   ],
   "source": [
    "mid = Matrix([[1, 0, 0],[0, 1, 0],[0, 0, 1]])\n",
    "m1 = Matrix([[3, 2], [-10, 0], [14, 5]])\n",
    "m2 = Matrix([[5, 2, 10], [-0.5, -0.25, 18], [-22, -2.5, -0.125]])\n",
    "print(0.5 * m2)\n",
    "print(m2 * (0.5 * mid * m1))"
   ]
  },
  {
   "cell_type": "code",
   "execution_count": 163,
   "id": "0e7487b0",
   "metadata": {},
   "outputs": [
    {
     "name": "stdout",
     "output_type": "stream",
     "text": [
      "25\t10\t50\n",
      "-2.5\t-1.25\t90\n",
      "-110\t-12.5\t-0.625\n",
      "16200\t7200\n",
      "30360.0\t10680.0\n",
      "-5130.0\t-5355.0\n"
     ]
    }
   ],
   "source": [
    "mid = Matrix([[1, 0, 0],[0, 1, 0],[0, 0, 1]])\n",
    "m1 = Matrix([[3, 2], [-10, 0], [14, 5]])\n",
    "m2 = Matrix([[5, 2, 10], [-0.5, -0.25, 18], [-22, -2.5, -0.125]])\n",
    "print(5 * m2)\n",
    "print(m2 * (120 * mid * m1))"
   ]
  }
 ],
 "metadata": {
  "kernelspec": {
   "display_name": "Python 3 (ipykernel)",
   "language": "python",
   "name": "python3"
  },
  "language_info": {
   "codemirror_mode": {
    "name": "ipython",
    "version": 3
   },
   "file_extension": ".py",
   "mimetype": "text/x-python",
   "name": "python",
   "nbconvert_exporter": "python",
   "pygments_lexer": "ipython3",
   "version": "3.9.12"
  }
 },
 "nbformat": 4,
 "nbformat_minor": 5
}
