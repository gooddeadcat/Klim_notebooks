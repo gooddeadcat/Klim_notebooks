{
 "cells": [
  {
   "cell_type": "code",
   "execution_count": 35,
   "id": "eb96f3fe",
   "metadata": {},
   "outputs": [],
   "source": [
    "from sys import stdin\n",
    "class Matrix:\n",
    "    def __init__(self, lol):\n",
    "        self.lol = lol.copy()\n",
    "        self.matrix = ''\n",
    "        for i in range(len(self.lol) - 1):\n",
    "            self.matrix += ('\\t'.join(map(str, self.lol[i])) + '\\n')\n",
    "        self.matrix += ('\\t'.join(map(str, self.lol[-1])))\n",
    "    def __repr__(self):\n",
    "        return self.matrix\n",
    "    def __str__(self):\n",
    "        return str(self.matrix)\n",
    "    def size(self):\n",
    "        return (len(self.lol), len(self.lol[0]))\n",
    "exec(stdin.read())"
   ]
  },
  {
   "cell_type": "code",
   "execution_count": 36,
   "id": "3f9b8b37",
   "metadata": {},
   "outputs": [
    {
     "name": "stdout",
     "output_type": "stream",
     "text": [
      "[[1, 2, 3], [4, 5, 6], [7.5, 8.1, 9.0], [10, 11, 12]]\n"
     ]
    }
   ],
   "source": [
    "l = [[1, 2, 3], [4, 5, 6], [7.5, 8.1, 9.0], [10, 11, 12]]\n",
    "k = [[1, 2, 3]]\n",
    "s = [[1, 2]]\n",
    "print(l)"
   ]
  },
  {
   "cell_type": "code",
   "execution_count": 37,
   "id": "e95cb044",
   "metadata": {},
   "outputs": [],
   "source": [
    "g = Matrix(l)"
   ]
  },
  {
   "cell_type": "code",
   "execution_count": 38,
   "id": "10fd5ca9",
   "metadata": {},
   "outputs": [
    {
     "data": {
      "text/plain": [
       "(4, 3)"
      ]
     },
     "execution_count": 38,
     "metadata": {},
     "output_type": "execute_result"
    }
   ],
   "source": [
    "g.size()"
   ]
  },
  {
   "cell_type": "code",
   "execution_count": 39,
   "id": "7d15e83e",
   "metadata": {},
   "outputs": [
    {
     "data": {
      "text/plain": [
       "1\t2\t3\n",
       "4\t5\t6\n",
       "7.5\t8.1\t9.0\n",
       "10\t11\t12"
      ]
     },
     "execution_count": 39,
     "metadata": {},
     "output_type": "execute_result"
    }
   ],
   "source": [
    "g"
   ]
  },
  {
   "cell_type": "code",
   "execution_count": 40,
   "id": "2a5385b3",
   "metadata": {},
   "outputs": [
    {
     "name": "stdout",
     "output_type": "stream",
     "text": [
      "1\t2\t3\n",
      "4\t5\t6\n",
      "7.5\t8.1\t9.0\n",
      "10\t11\t12\n"
     ]
    }
   ],
   "source": [
    "print(g)"
   ]
  },
  {
   "cell_type": "code",
   "execution_count": 41,
   "id": "eb4c4051",
   "metadata": {},
   "outputs": [
    {
     "data": {
      "text/plain": [
       "'1\\t2\\t3\\n4\\t5\\t6\\n7.5\\t8.1\\t9.0\\n10\\t11\\t12'"
      ]
     },
     "execution_count": 41,
     "metadata": {},
     "output_type": "execute_result"
    }
   ],
   "source": [
    "str(g)"
   ]
  },
  {
   "cell_type": "code",
   "execution_count": 42,
   "id": "975353fa",
   "metadata": {},
   "outputs": [
    {
     "name": "stdout",
     "output_type": "stream",
     "text": [
      "1\t2\t3\n",
      "4\t5\t6\n",
      "7.5\t8.1\t9.0\n",
      "10\t11\t12\n"
     ]
    }
   ],
   "source": [
    "print(str(g))"
   ]
  },
  {
   "cell_type": "code",
   "execution_count": 252,
   "id": "c4402ce2",
   "metadata": {},
   "outputs": [],
   "source": [
    "?stdin"
   ]
  }
 ],
 "metadata": {
  "kernelspec": {
   "display_name": "Python 3 (ipykernel)",
   "language": "python",
   "name": "python3"
  },
  "language_info": {
   "codemirror_mode": {
    "name": "ipython",
    "version": 3
   },
   "file_extension": ".py",
   "mimetype": "text/x-python",
   "name": "python",
   "nbconvert_exporter": "python",
   "pygments_lexer": "ipython3",
   "version": "3.9.12"
  }
 },
 "nbformat": 4,
 "nbformat_minor": 5
}
