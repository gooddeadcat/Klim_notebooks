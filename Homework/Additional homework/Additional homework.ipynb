{
 "cells": [
  {
   "cell_type": "code",
   "execution_count": 280,
   "id": "abfb7a2c",
   "metadata": {},
   "outputs": [],
   "source": [
    "from sys import stdin\n",
    "class Matrix(str):\n",
    "    def __init__(self, lol):\n",
    "        self.lol = lol.copy()\n",
    "        self.matrix = ''\n",
    "        for i in range(len(self.lol) - 1):\n",
    "            self.matrix += ('\\t'.join(map(str, self.lol[i])) + '\\n')\n",
    "        self.matrix += ('\\t'.join(map(str, self.lol[-1])))\n",
    "    def __repr__(self):\n",
    "        return self.matrix\n",
    "    def __str__(self):\n",
    "        return str(self.matrix)\n",
    "    def __add__(self, matrix2):\n",
    "        self.sum = []\n",
    "        for i in range(len(str(self.matrix).split('\\n'))):\n",
    "            self.sum.append([int(sum(x)) if sum(x) % int(sum(x)) == 0 else sum(x)\n",
    "                      for x in zip(list(map(float, str(self.matrix).split('\\n')[i].split('\\t'))),\n",
    "                      list(map(float, str(matrix2).split('\\n')[i].split('\\t'))))])\n",
    "        return Matrix(self.sum)\n",
    "    def size(self):\n",
    "        return (len(self.lol), len(self.lol[0]))\n",
    "exec(stdin.read())"
   ]
  },
  {
   "cell_type": "code",
   "execution_count": 281,
   "id": "3f9b8b37",
   "metadata": {},
   "outputs": [
    {
     "name": "stdout",
     "output_type": "stream",
     "text": [
      "[[1, 2, 3], [4, 5, 6], [7.5, 8.1, 9.0], [10, 11, 12]]\n"
     ]
    }
   ],
   "source": [
    "l = [[1, 2, 3], [4, 5, 6], [7.5, 8.1, 9.0], [10, 11, 12]]\n",
    "k = [[1, 2, 3]]\n",
    "s = [[1, 2]]\n",
    "print(l)"
   ]
  },
  {
   "cell_type": "code",
   "execution_count": 140,
   "id": "61104cfb",
   "metadata": {},
   "outputs": [
    {
     "data": {
      "text/plain": [
       "[[2.0, 4.0, 6.0], [8.0, 10.0, 12.0], [15.0, 16.2, 18.0], [20.0, 22.0, 24.0]]"
      ]
     },
     "execution_count": 140,
     "metadata": {},
     "output_type": "execute_result"
    }
   ],
   "source": [
    "m"
   ]
  },
  {
   "cell_type": "code",
   "execution_count": 282,
   "id": "e95cb044",
   "metadata": {},
   "outputs": [],
   "source": [
    "g = Matrix(l)\n",
    "f = Matrix(l)"
   ]
  },
  {
   "cell_type": "code",
   "execution_count": 199,
   "id": "3423ae8b",
   "metadata": {},
   "outputs": [
    {
     "data": {
      "text/plain": [
       "['1\\t2\\t3', '4\\t5\\t6', '7.5\\t8.1\\t9.0', '10\\t11\\t12']"
      ]
     },
     "execution_count": 199,
     "metadata": {},
     "output_type": "execute_result"
    }
   ],
   "source": [
    "str(g).split('\\n')"
   ]
  },
  {
   "cell_type": "code",
   "execution_count": 225,
   "id": "b6e1e776",
   "metadata": {},
   "outputs": [
    {
     "data": {
      "text/plain": [
       "['2', '4', '6']"
      ]
     },
     "execution_count": 225,
     "metadata": {},
     "output_type": "execute_result"
    }
   ],
   "source": [
    "str(g).split('\\n')[0].split('\\t')"
   ]
  },
  {
   "cell_type": "code",
   "execution_count": 235,
   "id": "9ff21f80",
   "metadata": {},
   "outputs": [],
   "source": [
    "a = 2\n",
    "b = 3"
   ]
  },
  {
   "cell_type": "code",
   "execution_count": 239,
   "id": "d590c2eb",
   "metadata": {},
   "outputs": [
    {
     "data": {
      "text/plain": [
       "5"
      ]
     },
     "execution_count": 239,
     "metadata": {},
     "output_type": "execute_result"
    }
   ],
   "source": [
    "a + b"
   ]
  },
  {
   "cell_type": "code",
   "execution_count": 292,
   "id": "4d65ffed",
   "metadata": {},
   "outputs": [
    {
     "data": {
      "text/plain": [
       "2\t4\t6\n",
       "8\t10\t12\n",
       "15\t16.2\t18\n",
       "20\t22\t24"
      ]
     },
     "execution_count": 292,
     "metadata": {},
     "output_type": "execute_result"
    }
   ],
   "source": [
    "g + f"
   ]
  },
  {
   "cell_type": "code",
   "execution_count": 284,
   "id": "25eb3710",
   "metadata": {},
   "outputs": [
    {
     "name": "stdout",
     "output_type": "stream",
     "text": [
      "2\t4\t6\n",
      "8\t10\t12\n",
      "15\t16.2\t18\n",
      "20\t22\t24\n"
     ]
    }
   ],
   "source": [
    "print(g + f)"
   ]
  },
  {
   "cell_type": "code",
   "execution_count": 286,
   "id": "b66933f6",
   "metadata": {},
   "outputs": [
    {
     "data": {
      "text/plain": [
       "'2\\t4\\t6\\n8\\t10\\t12\\n15\\t16.2\\t18\\n20\\t22\\t24'"
      ]
     },
     "execution_count": 286,
     "metadata": {},
     "output_type": "execute_result"
    }
   ],
   "source": [
    "str(g + f)"
   ]
  },
  {
   "cell_type": "code",
   "execution_count": 287,
   "id": "10fd5ca9",
   "metadata": {},
   "outputs": [
    {
     "data": {
      "text/plain": [
       "(4, 3)"
      ]
     },
     "execution_count": 287,
     "metadata": {},
     "output_type": "execute_result"
    }
   ],
   "source": [
    "g.size()"
   ]
  },
  {
   "cell_type": "code",
   "execution_count": 288,
   "id": "2a5385b3",
   "metadata": {},
   "outputs": [
    {
     "name": "stdout",
     "output_type": "stream",
     "text": [
      "1\t2\t3\n",
      "4\t5\t6\n",
      "7.5\t8.1\t9.0\n",
      "10\t11\t12\n"
     ]
    }
   ],
   "source": [
    "print(g)"
   ]
  },
  {
   "cell_type": "code",
   "execution_count": 289,
   "id": "eb4c4051",
   "metadata": {},
   "outputs": [
    {
     "data": {
      "text/plain": [
       "'1\\t2\\t3\\n4\\t5\\t6\\n7.5\\t8.1\\t9.0\\n10\\t11\\t12'"
      ]
     },
     "execution_count": 289,
     "metadata": {},
     "output_type": "execute_result"
    }
   ],
   "source": [
    "str(g)"
   ]
  },
  {
   "cell_type": "code",
   "execution_count": 290,
   "id": "975353fa",
   "metadata": {},
   "outputs": [
    {
     "name": "stdout",
     "output_type": "stream",
     "text": [
      "1\t2\t3\n",
      "4\t5\t6\n",
      "7.5\t8.1\t9.0\n",
      "10\t11\t12\n"
     ]
    }
   ],
   "source": [
    "print(str(g))"
   ]
  },
  {
   "cell_type": "code",
   "execution_count": 293,
   "id": "5c4a53fe",
   "metadata": {},
   "outputs": [
    {
     "data": {
      "text/plain": [
       "1\t2\t3\n",
       "4\t5\t6\n",
       "7.5\t8.1\t9.0\n",
       "10\t11\t12"
      ]
     },
     "execution_count": 293,
     "metadata": {},
     "output_type": "execute_result"
    }
   ],
   "source": [
    "g"
   ]
  },
  {
   "cell_type": "code",
   "execution_count": 295,
   "id": "a0861fae",
   "metadata": {},
   "outputs": [
    {
     "data": {
      "text/plain": [
       "__main__.Matrix"
      ]
     },
     "execution_count": 295,
     "metadata": {},
     "output_type": "execute_result"
    }
   ],
   "source": [
    "type(g + f)"
   ]
  },
  {
   "cell_type": "code",
   "execution_count": null,
   "id": "0534fda7",
   "metadata": {},
   "outputs": [],
   "source": []
  }
 ],
 "metadata": {
  "kernelspec": {
   "display_name": "Python 3 (ipykernel)",
   "language": "python",
   "name": "python3"
  },
  "language_info": {
   "codemirror_mode": {
    "name": "ipython",
    "version": 3
   },
   "file_extension": ".py",
   "mimetype": "text/x-python",
   "name": "python",
   "nbconvert_exporter": "python",
   "pygments_lexer": "ipython3",
   "version": "3.9.12"
  }
 },
 "nbformat": 4,
 "nbformat_minor": 5
}
