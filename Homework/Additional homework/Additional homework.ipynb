{
 "cells": [
  {
   "cell_type": "code",
   "execution_count": 345,
   "id": "e9f4b890",
   "metadata": {},
   "outputs": [],
   "source": [
    "from sys import stdin\n",
    "class Matrix(str):\n",
    "    def __init__(self, lol):\n",
    "        self.lol = lol.copy()\n",
    "        self.matrix = ''\n",
    "        for i in range(len(self.lol) - 1):\n",
    "            self.matrix += ('\\t'.join(map(str, self.lol[i])) + '\\n')\n",
    "        self.matrix += ('\\t'.join(map(str, self.lol[-1])))\n",
    "    def __repr__(self):\n",
    "        return self.matrix\n",
    "    def __str__(self):\n",
    "        return str(self.matrix)\n",
    "    def size(self):\n",
    "        return (len(self.lol), len(self.lol[0]))\n",
    "    def __add__(self, matrix2):\n",
    "        self.add = []\n",
    "        for i in range(len(str(self.matrix).split('\\n'))):\n",
    "            self.add.append([int(sum(x)) if int(sum(x)) == sum(x) else sum(x)\n",
    "                      for x in zip(list(map(float, str(self.matrix).split('\\n')[i].split('\\t'))),\n",
    "                      list(map(float, str(matrix2).split('\\n')[i].split('\\t'))))])\n",
    "        return Matrix(self.add)\n",
    "    def __mul__(self, number):\n",
    "        self.mul = []\n",
    "        for i in range(len(str(self.matrix).split('\\n'))):\n",
    "            self.mul.append([int(x * number) if int(x * number) == x * number else x * number\n",
    "                      for x in list(map(float, str(self.matrix).split('\\n')[i].split('\\t')))])\n",
    "        return Matrix(self.mul)\n",
    "    def __rmul__(self, number):\n",
    "        return self.__mul__(number)\n",
    "exec(stdin.read())"
   ]
  },
  {
   "cell_type": "code",
   "execution_count": 722,
   "id": "fe373164",
   "metadata": {},
   "outputs": [],
   "source": [
    "from sys import stdin\n",
    "\n",
    "class Matrix(str):\n",
    "    def __init__(self, lol):\n",
    "        self.lol = lol.copy()\n",
    "        self.matrix = ''\n",
    "        for i in range(len(self.lol) - 1):\n",
    "            self.matrix += ('\\t'.join(map(str, self.lol[i])) + '\\n')\n",
    "        self.matrix += ('\\t'.join(map(str, self.lol[-1])))\n",
    "    def __repr__(self):\n",
    "        return self.matrix\n",
    "    def __str__(self):\n",
    "        return str(self.matrix)\n",
    "    def size(self):\n",
    "        return (len(self.lol), len(self.lol[0]))\n",
    "    def __add__(self, matrix2):\n",
    "        if len(str(self).split('\\n')) == len(str(matrix2).split('\\n')) and \\\n",
    "           len(str(self).split('\\n')[0].split('\\t')) == len(str(matrix2).split('\\n')[0].split('\\t')):\n",
    "            add = []\n",
    "            for i in range(len(str(self).split('\\n'))):\n",
    "                add.append([int(sum(x)) if int(sum(x)) == sum(x) else sum(x)\n",
    "                          for x in zip(list(map(float, str(self).split('\\n')[i].split('\\t'))),\n",
    "                          list(map(float, str(matrix2).split('\\n')[i].split('\\t'))))])\n",
    "            trig = 0\n",
    "            for i in range(len(add)):\n",
    "                for j in range(len(add[i])):\n",
    "                    if int(add[i][j]) != add[i][j]:\n",
    "                        trig += 1\n",
    "            if trig > 0:\n",
    "                for i in range(len(add)):\n",
    "                    for j in range(len(add[i])):\n",
    "                        add[i][j] = float(add[i][j])\n",
    "            return Matrix(add)\n",
    "        else:\n",
    "            raise MatrixError(self, matrix2)                                \n",
    "    def __mul__(self, number):\n",
    "        mul = []\n",
    "        for i in range(len(str(self).split('\\n'))):\n",
    "            mul.append([int(x * number) if int(x * number) == x * number else x * number\n",
    "                      for x in list(map(float, str(self).split('\\n')[i].split('\\t')))])\n",
    "        trig = 0\n",
    "        for i in range(len(mul)):\n",
    "            for j in range(len(mul[i])):\n",
    "                if int(mul[i][j]) != mul[i][j]:\n",
    "                    trig += 1\n",
    "        if trig > 0:\n",
    "            for i in range(len(mul)):\n",
    "                for j in range(len(mul[i])):\n",
    "                    mul[i][j] = float(mul[i][j])\n",
    "        return Matrix(mul)\n",
    "    def __rmul__(self, number):\n",
    "        return self.__mul__(number)\n",
    "    def transpose(self):\n",
    "        s = []\n",
    "        for j in range(len(str(self).split('\\n')[0].split('\\t'))):\n",
    "            for i in range(len(str(self).split('\\n'))):\n",
    "                s.append(str(self).split('\\n')[i].split('\\t')[j])\n",
    "        t = []\n",
    "        for i in range(len(s) // len(str(self).split('\\n'))):\n",
    "            t.append([x for x in s[len(str(self).split('\\n')) * i : len(str(self).split('\\n')) * (i + 1)]])\n",
    "        self.matrix = Matrix(t)\n",
    "        return Matrix(t)\n",
    "    @staticmethod\n",
    "    def transposed(matrix):\n",
    "        s = []\n",
    "        for j in range(len(str(matrix).split('\\n')[0].split('\\t'))):\n",
    "            for i in range(len(str(matrix).split('\\n'))):\n",
    "                s.append(str(matrix).split('\\n')[i].split('\\t')[j])\n",
    "        t = []\n",
    "        for i in range(len(s) // len(str(matrix).split('\\n'))):\n",
    "            t.append([x for x in s[len(str(matrix).split('\\n')) * i : len(str(matrix).split('\\n')) * (i + 1)]])\n",
    "        return Matrix(t)\n",
    "\n",
    "class MatrixError(Exception):\n",
    "    def __init__(self, matrix1, matrix2):\n",
    "        self.matrix1 = matrix1\n",
    "        self.matrix2 = matrix2\n",
    "    \n",
    "exec(stdin.read())"
   ]
  },
  {
   "cell_type": "code",
   "execution_count": 723,
   "id": "9e859385",
   "metadata": {},
   "outputs": [
    {
     "name": "stdout",
     "output_type": "stream",
     "text": [
      "10\t10\n",
      "0\t0\n",
      "1\t1\n",
      "10\t0\t1\n",
      "10\t0\t1\n",
      "10\t10\n",
      "0\t0\n",
      "1\t1\n"
     ]
    }
   ],
   "source": [
    "m = Matrix([[10, 10], [0, 0], [1, 1]])\n",
    "print(m)\n",
    "print(Matrix.transposed(m))\n",
    "print(m)"
   ]
  },
  {
   "cell_type": "code",
   "execution_count": 720,
   "id": "4ca307ce",
   "metadata": {},
   "outputs": [
    {
     "name": "stdout",
     "output_type": "stream",
     "text": [
      "10\t10\n",
      "0\t0\n",
      "1\t1\n",
      "(2, 3)\n"
     ]
    }
   ],
   "source": [
    "m1 = Matrix.transposed(m)\n",
    "print(m)\n",
    "print(m1.size())"
   ]
  },
  {
   "cell_type": "code",
   "execution_count": 709,
   "id": "20bc24b6",
   "metadata": {},
   "outputs": [
    {
     "name": "stdout",
     "output_type": "stream",
     "text": [
      "10\t10\n",
      "0\t0\n",
      "1\t1\n",
      "10\t0\t1\n",
      "10\t0\t1\n"
     ]
    }
   ],
   "source": [
    "m = Matrix([[10, 10], [0, 0], [1, 1]])\n",
    "print(m)\n",
    "print(m.transpose())"
   ]
  },
  {
   "cell_type": "code",
   "execution_count": 724,
   "id": "8effbb3e",
   "metadata": {},
   "outputs": [
    {
     "name": "stdout",
     "output_type": "stream",
     "text": [
      "10\t10\n",
      "0\t0\n",
      "1\t1\n",
      "10\t0\t1\n",
      "10\t0\t1\n",
      "10\t0\t1\n",
      "10\t0\t1\n",
      "(2, 3)\n"
     ]
    }
   ],
   "source": [
    "m = Matrix([[10, 10], [0, 0], [1, 1]])\n",
    "print(m)\n",
    "m1 = m.transpose()\n",
    "print(m)\n",
    "print(m1)\n",
    "print(m1.size())"
   ]
  },
  {
   "cell_type": "code",
   "execution_count": 680,
   "id": "516cbb75",
   "metadata": {},
   "outputs": [
    {
     "data": {
      "text/plain": [
       "(3, 2)"
      ]
     },
     "execution_count": 680,
     "metadata": {},
     "output_type": "execute_result"
    }
   ],
   "source": [
    "m.size()"
   ]
  },
  {
   "cell_type": "code",
   "execution_count": 681,
   "id": "d8b2bdbc",
   "metadata": {},
   "outputs": [
    {
     "ename": "AttributeError",
     "evalue": "'str' object has no attribute 'size'",
     "output_type": "error",
     "traceback": [
      "\u001b[1;31m---------------------------------------------------------------------------\u001b[0m",
      "\u001b[1;31mAttributeError\u001b[0m                            Traceback (most recent call last)",
      "Input \u001b[1;32mIn [681]\u001b[0m, in \u001b[0;36m<cell line: 1>\u001b[1;34m()\u001b[0m\n\u001b[1;32m----> 1\u001b[0m \u001b[43mm1\u001b[49m\u001b[38;5;241;43m.\u001b[39;49m\u001b[43msize\u001b[49m()\n",
      "\u001b[1;31mAttributeError\u001b[0m: 'str' object has no attribute 'size'"
     ]
    }
   ],
   "source": [
    "m1.size()"
   ]
  },
  {
   "cell_type": "code",
   "execution_count": 704,
   "id": "d74b3e8c",
   "metadata": {},
   "outputs": [
    {
     "ename": "TypeError",
     "evalue": "__init__() missing 1 required positional argument: 'tr'",
     "output_type": "error",
     "traceback": [
      "\u001b[1;31m---------------------------------------------------------------------------\u001b[0m",
      "\u001b[1;31mTypeError\u001b[0m                                 Traceback (most recent call last)",
      "Input \u001b[1;32mIn [704]\u001b[0m, in \u001b[0;36m<cell line: 1>\u001b[1;34m()\u001b[0m\n\u001b[1;32m----> 1\u001b[0m m \u001b[38;5;241m=\u001b[39m \u001b[43mMatrix\u001b[49m\u001b[43m(\u001b[49m\u001b[43m[\u001b[49m\u001b[43m[\u001b[49m\u001b[38;5;241;43m10\u001b[39;49m\u001b[43m,\u001b[49m\u001b[43m \u001b[49m\u001b[38;5;241;43m10\u001b[39;49m\u001b[43m]\u001b[49m\u001b[43m,\u001b[49m\u001b[43m \u001b[49m\u001b[43m[\u001b[49m\u001b[38;5;241;43m0\u001b[39;49m\u001b[43m,\u001b[49m\u001b[43m \u001b[49m\u001b[38;5;241;43m0\u001b[39;49m\u001b[43m]\u001b[49m\u001b[43m,\u001b[49m\u001b[43m \u001b[49m\u001b[43m[\u001b[49m\u001b[38;5;241;43m1\u001b[39;49m\u001b[43m,\u001b[49m\u001b[43m \u001b[49m\u001b[38;5;241;43m1\u001b[39;49m\u001b[43m]\u001b[49m\u001b[43m]\u001b[49m\u001b[43m)\u001b[49m\n\u001b[0;32m      2\u001b[0m \u001b[38;5;28mprint\u001b[39m(m)\n\u001b[0;32m      3\u001b[0m m\u001b[38;5;241m.\u001b[39mtranspose()\n",
      "\u001b[1;31mTypeError\u001b[0m: __init__() missing 1 required positional argument: 'tr'"
     ]
    }
   ],
   "source": [
    "m = Matrix([[10, 10], [0, 0], [1, 1]])\n",
    "print(m)\n",
    "m.transpose()\n",
    "print(m)"
   ]
  },
  {
   "cell_type": "code",
   "execution_count": 705,
   "id": "d89ff8bd",
   "metadata": {},
   "outputs": [
    {
     "ename": "TypeError",
     "evalue": "__init__() missing 1 required positional argument: 'tr'",
     "output_type": "error",
     "traceback": [
      "\u001b[1;31m---------------------------------------------------------------------------\u001b[0m",
      "\u001b[1;31mTypeError\u001b[0m                                 Traceback (most recent call last)",
      "Input \u001b[1;32mIn [705]\u001b[0m, in \u001b[0;36m<cell line: 1>\u001b[1;34m()\u001b[0m\n\u001b[1;32m----> 1\u001b[0m m1 \u001b[38;5;241m=\u001b[39m \u001b[43mMatrix\u001b[49m\u001b[43m(\u001b[49m\u001b[43m[\u001b[49m\u001b[43m[\u001b[49m\u001b[38;5;241;43m15\u001b[39;49m\u001b[43m,\u001b[49m\u001b[43m \u001b[49m\u001b[38;5;241;43m0\u001b[39;49m\u001b[43m,\u001b[49m\u001b[43m \u001b[49m\u001b[38;5;241;43m0\u001b[39;49m\u001b[43m]\u001b[49m\u001b[43m,\u001b[49m\u001b[43m \u001b[49m\u001b[43m[\u001b[49m\u001b[38;5;241;43m0\u001b[39;49m\u001b[43m,\u001b[49m\u001b[43m \u001b[49m\u001b[38;5;241;43m1\u001b[39;49m\u001b[43m,\u001b[49m\u001b[43m \u001b[49m\u001b[38;5;241;43m0\u001b[39;49m\u001b[43m]\u001b[49m\u001b[43m,\u001b[49m\u001b[43m \u001b[49m\u001b[43m[\u001b[49m\u001b[38;5;241;43m0\u001b[39;49m\u001b[43m,\u001b[49m\u001b[43m \u001b[49m\u001b[38;5;241;43m0\u001b[39;49m\u001b[43m,\u001b[49m\u001b[43m \u001b[49m\u001b[38;5;241;43m1\u001b[39;49m\u001b[43m]\u001b[49m\u001b[43m]\u001b[49m\u001b[43m)\u001b[49m\n\u001b[0;32m      2\u001b[0m m2 \u001b[38;5;241m=\u001b[39m Matrix([[\u001b[38;5;241m0\u001b[39m, \u001b[38;5;241m1\u001b[39m, \u001b[38;5;241m0\u001b[39m], [\u001b[38;5;241m20\u001b[39m, \u001b[38;5;241m0\u001b[39m, \u001b[38;5;241m-\u001b[39m\u001b[38;5;241m1\u001b[39m], [\u001b[38;5;241m-\u001b[39m\u001b[38;5;241m1\u001b[39m, \u001b[38;5;241m-\u001b[39m\u001b[38;5;241m2\u001b[39m, \u001b[38;5;241m0\u001b[39m]])\n\u001b[0;32m      3\u001b[0m \u001b[38;5;28mprint\u001b[39m(m1 \u001b[38;5;241m+\u001b[39m m2)\n",
      "\u001b[1;31mTypeError\u001b[0m: __init__() missing 1 required positional argument: 'tr'"
     ]
    }
   ],
   "source": [
    "m1 = Matrix([[15, 0, 0], [0, 1, 0], [0, 0, 1]])\n",
    "m2 = Matrix([[0, 1, 0], [20, 0, -1], [-1, -2, 0]])\n",
    "print(m1 + m2)"
   ]
  },
  {
   "cell_type": "code",
   "execution_count": 672,
   "id": "44028935",
   "metadata": {},
   "outputs": [
    {
     "name": "stdout",
     "output_type": "stream",
     "text": [
      "1.5\t1.0\t0.0\n",
      "20.0\t1.0\t-1.0\n",
      "-1.0\t-2.0\t1.0\n",
      "1.5\t0\t0\n",
      "0\t1\t0\n",
      "0\t0\t1\n",
      "0\t1\t0\n",
      "20\t0\t-1\n"
     ]
    }
   ],
   "source": [
    "m1 = Matrix([[1.5, 0, 0], [0, 1, 0], [0, 0, 1]])\n",
    "m2 = Matrix([[0, 1, 0], [20, 0, -1], [-1, -2, 0]])\n",
    "print(m1 + m2)\n",
    "\n",
    "m2 = Matrix([[0, 1, 0], [20, 0, -1]])\n",
    "try:\n",
    "    m = m1 + m2\n",
    "    print('WA\\n' + str(m))\n",
    "except MatrixError as e:\n",
    "    print(e.matrix1)\n",
    "    print(e.matrix2)"
   ]
  },
  {
   "cell_type": "code",
   "execution_count": 645,
   "id": "6f53a5bb",
   "metadata": {},
   "outputs": [
    {
     "name": "stdout",
     "output_type": "stream",
     "text": [
      "1\t1\t0\n",
      "20\t1\t-1\n",
      "-1\t-2\t1\n"
     ]
    },
    {
     "ename": "MatrixError",
     "evalue": "(1\t0\t0\n0\t1\t0\n0\t0\t1, 0\t1\n20\t-1\n20\t-1)",
     "output_type": "error",
     "traceback": [
      "\u001b[1;31m---------------------------------------------------------------------------\u001b[0m",
      "\u001b[1;31mMatrixError\u001b[0m                               Traceback (most recent call last)",
      "Input \u001b[1;32mIn [645]\u001b[0m, in \u001b[0;36m<cell line: 7>\u001b[1;34m()\u001b[0m\n\u001b[0;32m      3\u001b[0m \u001b[38;5;28mprint\u001b[39m(m1 \u001b[38;5;241m+\u001b[39m m2)\n\u001b[0;32m      5\u001b[0m m2 \u001b[38;5;241m=\u001b[39m Matrix([[\u001b[38;5;241m0\u001b[39m, \u001b[38;5;241m1\u001b[39m], [\u001b[38;5;241m20\u001b[39m, \u001b[38;5;241m-\u001b[39m\u001b[38;5;241m1\u001b[39m], [\u001b[38;5;241m20\u001b[39m, \u001b[38;5;241m-\u001b[39m\u001b[38;5;241m1\u001b[39m]])\n\u001b[1;32m----> 7\u001b[0m m \u001b[38;5;241m=\u001b[39m \u001b[43mm1\u001b[49m\u001b[43m \u001b[49m\u001b[38;5;241;43m+\u001b[39;49m\u001b[43m \u001b[49m\u001b[43mm2\u001b[49m\n\u001b[0;32m      8\u001b[0m \u001b[38;5;28mprint\u001b[39m(\u001b[38;5;124m'\u001b[39m\u001b[38;5;124mWA\u001b[39m\u001b[38;5;130;01m\\n\u001b[39;00m\u001b[38;5;124m'\u001b[39m \u001b[38;5;241m+\u001b[39m \u001b[38;5;28mstr\u001b[39m(m))\n",
      "Input \u001b[1;32mIn [628]\u001b[0m, in \u001b[0;36mMatrix.__add__\u001b[1;34m(self, matrix2)\u001b[0m\n\u001b[0;32m     33\u001b[0m     \u001b[38;5;28;01mreturn\u001b[39;00m Matrix(add)\n\u001b[0;32m     34\u001b[0m \u001b[38;5;28;01melse\u001b[39;00m:\n\u001b[1;32m---> 35\u001b[0m     \u001b[38;5;28;01mraise\u001b[39;00m MatrixError(\u001b[38;5;28mself\u001b[39m, matrix2)\n",
      "\u001b[1;31mMatrixError\u001b[0m: (1\t0\t0\n0\t1\t0\n0\t0\t1, 0\t1\n20\t-1\n20\t-1)"
     ]
    }
   ],
   "source": [
    "m1 = Matrix([[1, 0, 0], [0, 1, 0], [0, 0, 1]])\n",
    "m2 = Matrix([[0, 1, 0], [20, 0, -1], [-1, -2, 0]])\n",
    "print(m1 + m2)\n",
    "\n",
    "m2 = Matrix([[0, 1], [20, -1], [20, -1]])\n",
    "\n",
    "m = m1 + m2\n",
    "print('WA\\n' + str(m))"
   ]
  },
  {
   "cell_type": "code",
   "execution_count": 375,
   "id": "ed91d003",
   "metadata": {},
   "outputs": [
    {
     "data": {
      "text/plain": [
       "0.0"
      ]
     },
     "execution_count": 375,
     "metadata": {},
     "output_type": "execute_result"
    }
   ],
   "source": [
    "float(0)"
   ]
  },
  {
   "cell_type": "code",
   "execution_count": 346,
   "id": "3f9b8b37",
   "metadata": {},
   "outputs": [
    {
     "name": "stdout",
     "output_type": "stream",
     "text": [
      "[[1, 2, 3], [4, -5, 6], [7.5, 8.1, 9.0], [10, 11, 12]]\n"
     ]
    }
   ],
   "source": [
    "l = [[1, 2, 3], [4, -5, 6], [7.5, 8.1, 9.0], [10, 11, 12]]\n",
    "print(l)"
   ]
  },
  {
   "cell_type": "code",
   "execution_count": 648,
   "id": "abcad09e",
   "metadata": {},
   "outputs": [
    {
     "name": "stdout",
     "output_type": "stream",
     "text": [
      "1.0\t1.0\t1.0\n",
      "20.0\t1.5\t-1.0\n",
      "-1.0\t-2.0\t1.0\n"
     ]
    }
   ],
   "source": [
    "m1 = Matrix([[1, 0, 0], [0, 1, 0], [0, 0, 1]])\n",
    "m2 = Matrix([[0, 1, 1], [20, 0.5, -1], [-1, -2, 0]])\n",
    "print(m1 + m2)"
   ]
  },
  {
   "cell_type": "code",
   "execution_count": 649,
   "id": "b1cab741",
   "metadata": {},
   "outputs": [
    {
     "ename": "MatrixError",
     "evalue": "(1\t0\t0\n0\t1\t0\n0\t0\t1, 0\t1\t1\n20\t0\t-1)",
     "output_type": "error",
     "traceback": [
      "\u001b[1;31m---------------------------------------------------------------------------\u001b[0m",
      "\u001b[1;31mMatrixError\u001b[0m                               Traceback (most recent call last)",
      "Input \u001b[1;32mIn [649]\u001b[0m, in \u001b[0;36m<cell line: 3>\u001b[1;34m()\u001b[0m\n\u001b[0;32m      1\u001b[0m m1 \u001b[38;5;241m=\u001b[39m Matrix([[\u001b[38;5;241m1\u001b[39m, \u001b[38;5;241m0\u001b[39m, \u001b[38;5;241m0\u001b[39m], [\u001b[38;5;241m0\u001b[39m, \u001b[38;5;241m1\u001b[39m, \u001b[38;5;241m0\u001b[39m], [\u001b[38;5;241m0\u001b[39m, \u001b[38;5;241m0\u001b[39m, \u001b[38;5;241m1\u001b[39m]])\n\u001b[0;32m      2\u001b[0m m2 \u001b[38;5;241m=\u001b[39m Matrix([[\u001b[38;5;241m0\u001b[39m, \u001b[38;5;241m1\u001b[39m, \u001b[38;5;241m1\u001b[39m], [\u001b[38;5;241m20\u001b[39m, \u001b[38;5;241m0\u001b[39m, \u001b[38;5;241m-\u001b[39m\u001b[38;5;241m1\u001b[39m]])\n\u001b[1;32m----> 3\u001b[0m \u001b[38;5;28mprint\u001b[39m(\u001b[43mm1\u001b[49m\u001b[43m \u001b[49m\u001b[38;5;241;43m+\u001b[39;49m\u001b[43m \u001b[49m\u001b[43mm2\u001b[49m)\n",
      "Input \u001b[1;32mIn [628]\u001b[0m, in \u001b[0;36mMatrix.__add__\u001b[1;34m(self, matrix2)\u001b[0m\n\u001b[0;32m     33\u001b[0m     \u001b[38;5;28;01mreturn\u001b[39;00m Matrix(add)\n\u001b[0;32m     34\u001b[0m \u001b[38;5;28;01melse\u001b[39;00m:\n\u001b[1;32m---> 35\u001b[0m     \u001b[38;5;28;01mraise\u001b[39;00m MatrixError(\u001b[38;5;28mself\u001b[39m, matrix2)\n",
      "\u001b[1;31mMatrixError\u001b[0m: (1\t0\t0\n0\t1\t0\n0\t0\t1, 0\t1\t1\n20\t0\t-1)"
     ]
    }
   ],
   "source": [
    "m1 = Matrix([[1, 0, 0], [0, 1, 0], [0, 0, 1]])\n",
    "m2 = Matrix([[0, 1, 1], [20, 0, -1]])\n",
    "print(m1 + m2)"
   ]
  },
  {
   "cell_type": "code",
   "execution_count": 650,
   "id": "846377ae",
   "metadata": {},
   "outputs": [
    {
     "name": "stdout",
     "output_type": "stream",
     "text": [
      "5.0\t5.0\t0.0\n",
      "0.0\t12.5\t50.0\n",
      "50.0\t75.0\t150.0\n",
      "5.0\t5.0\t0.0\n",
      "0.0\t12.5\t50.0\n",
      "50.0\t75.0\t150.0\n"
     ]
    }
   ],
   "source": [
    "m = Matrix([[1, 1, 0], [0, 2.5, 10], [10, 15, 30]])\n",
    "alpha = 5\n",
    "print(m * alpha)\n",
    "print(alpha * m)"
   ]
  },
  {
   "cell_type": "code",
   "execution_count": 651,
   "id": "61104cfb",
   "metadata": {},
   "outputs": [
    {
     "name": "stdout",
     "output_type": "stream",
     "text": [
      "(3, 2)\n"
     ]
    },
    {
     "data": {
      "text/plain": [
       "1\t2\t0\n",
       "40\t1\t-2\n",
       "-2\t-4\t1"
      ]
     },
     "execution_count": 651,
     "metadata": {},
     "output_type": "execute_result"
    }
   ],
   "source": [
    "m = Matrix([[10, 10], [0, 0], [1, 1]])\n",
    "print(m.size())\n",
    "\n",
    "m1 = Matrix([[1, 0, 0], [0, 1, 0], [0, 0, 1]])\n",
    "m2 = Matrix([[0, 1, 0], [20, 0, -1], [-1, -2, 0]])\n",
    "m3 = m1 + m2\n",
    "m3 + m2"
   ]
  },
  {
   "cell_type": "code",
   "execution_count": 652,
   "id": "04faff05",
   "metadata": {},
   "outputs": [
    {
     "name": "stdout",
     "output_type": "stream",
     "text": [
      "3\n"
     ]
    }
   ],
   "source": [
    "m1 = Matrix([[1]])\n",
    "m2 = Matrix([[2]])\n",
    "print(m2 + m1)"
   ]
  },
  {
   "cell_type": "code",
   "execution_count": 653,
   "id": "cd81993c",
   "metadata": {},
   "outputs": [
    {
     "name": "stdout",
     "output_type": "stream",
     "text": [
      "15\t15\t0\n",
      "0\t30\t150\n",
      "150\t225\t450\n",
      "15\t15\t0\n",
      "0\t30\t150\n",
      "150\t225\t450\n"
     ]
    }
   ],
   "source": [
    "m = Matrix([[1, 1, 0], [0, 2, 10], [10, 15, 30]])\n",
    "alpha = 15\n",
    "print(m * alpha)\n",
    "print(alpha * m)"
   ]
  },
  {
   "cell_type": "code",
   "execution_count": 654,
   "id": "59e1bf0a",
   "metadata": {},
   "outputs": [
    {
     "data": {
      "text/plain": [
       "1\t1\t0\n",
       "0\t2\t10\n",
       "10\t15\t30"
      ]
     },
     "execution_count": 654,
     "metadata": {},
     "output_type": "execute_result"
    }
   ],
   "source": [
    "m"
   ]
  },
  {
   "cell_type": "code",
   "execution_count": 655,
   "id": "a91b4d49",
   "metadata": {},
   "outputs": [
    {
     "data": {
      "text/plain": [
       "'15\\t15\\t0\\n0\\t30\\t150\\n150\\t225\\t450'"
      ]
     },
     "execution_count": 655,
     "metadata": {},
     "output_type": "execute_result"
    }
   ],
   "source": [
    "str(alpha * m)"
   ]
  },
  {
   "cell_type": "code",
   "execution_count": 656,
   "id": "e95cb044",
   "metadata": {},
   "outputs": [],
   "source": [
    "g = Matrix(l)\n",
    "f = Matrix(l)"
   ]
  },
  {
   "cell_type": "code",
   "execution_count": 657,
   "id": "3423ae8b",
   "metadata": {},
   "outputs": [
    {
     "data": {
      "text/plain": [
       "['1\\t2\\t3', '4\\t-5\\t6', '7.5\\t8.1\\t9.0', '10\\t11\\t12']"
      ]
     },
     "execution_count": 657,
     "metadata": {},
     "output_type": "execute_result"
    }
   ],
   "source": [
    "str(g).split('\\n')"
   ]
  },
  {
   "cell_type": "code",
   "execution_count": 658,
   "id": "4d65ffed",
   "metadata": {},
   "outputs": [
    {
     "data": {
      "text/plain": [
       "2.0\t4.0\t6.0\n",
       "8.0\t-10.0\t12.0\n",
       "15.0\t16.2\t18.0\n",
       "20.0\t22.0\t24.0"
      ]
     },
     "execution_count": 658,
     "metadata": {},
     "output_type": "execute_result"
    }
   ],
   "source": [
    "f + g"
   ]
  },
  {
   "cell_type": "code",
   "execution_count": 659,
   "id": "25eb3710",
   "metadata": {},
   "outputs": [
    {
     "name": "stdout",
     "output_type": "stream",
     "text": [
      "2.0\t4.0\t6.0\n",
      "8.0\t-10.0\t12.0\n",
      "15.0\t16.2\t18.0\n",
      "20.0\t22.0\t24.0\n"
     ]
    }
   ],
   "source": [
    "print(g + f)"
   ]
  },
  {
   "cell_type": "code",
   "execution_count": 660,
   "id": "b66933f6",
   "metadata": {},
   "outputs": [
    {
     "data": {
      "text/plain": [
       "'2.0\\t4.0\\t6.0\\n8.0\\t-10.0\\t12.0\\n15.0\\t16.2\\t18.0\\n20.0\\t22.0\\t24.0'"
      ]
     },
     "execution_count": 660,
     "metadata": {},
     "output_type": "execute_result"
    }
   ],
   "source": [
    "str(g + f)"
   ]
  },
  {
   "cell_type": "code",
   "execution_count": 661,
   "id": "10fd5ca9",
   "metadata": {},
   "outputs": [
    {
     "data": {
      "text/plain": [
       "(4, 3)"
      ]
     },
     "execution_count": 661,
     "metadata": {},
     "output_type": "execute_result"
    }
   ],
   "source": [
    "g.size()"
   ]
  },
  {
   "cell_type": "code",
   "execution_count": 361,
   "id": "2a5385b3",
   "metadata": {},
   "outputs": [
    {
     "name": "stdout",
     "output_type": "stream",
     "text": [
      "1\t2\t3\n",
      "4\t-5\t6\n",
      "7.5\t8.1\t9.0\n",
      "10\t11\t12\n"
     ]
    }
   ],
   "source": [
    "print(g)"
   ]
  },
  {
   "cell_type": "code",
   "execution_count": 362,
   "id": "eb4c4051",
   "metadata": {},
   "outputs": [
    {
     "data": {
      "text/plain": [
       "'1\\t2\\t3\\n4\\t-5\\t6\\n7.5\\t8.1\\t9.0\\n10\\t11\\t12'"
      ]
     },
     "execution_count": 362,
     "metadata": {},
     "output_type": "execute_result"
    }
   ],
   "source": [
    "str(g)"
   ]
  },
  {
   "cell_type": "code",
   "execution_count": 363,
   "id": "975353fa",
   "metadata": {},
   "outputs": [
    {
     "name": "stdout",
     "output_type": "stream",
     "text": [
      "1\t2\t3\n",
      "4\t-5\t6\n",
      "7.5\t8.1\t9.0\n",
      "10\t11\t12\n"
     ]
    }
   ],
   "source": [
    "print(str(g))"
   ]
  },
  {
   "cell_type": "code",
   "execution_count": 364,
   "id": "5c4a53fe",
   "metadata": {},
   "outputs": [
    {
     "data": {
      "text/plain": [
       "'-2.9\\t-5.8\\t-8.7\\n-11.6\\t14.5\\t-17.4\\n-21.75\\t-23.49\\t-26.099999999999998\\n-29\\t-31.9\\t-34.8'"
      ]
     },
     "execution_count": 364,
     "metadata": {},
     "output_type": "execute_result"
    }
   ],
   "source": [
    "str(-2.9 * g)"
   ]
  },
  {
   "cell_type": "code",
   "execution_count": 365,
   "id": "a0861fae",
   "metadata": {},
   "outputs": [
    {
     "data": {
      "text/plain": [
       "__main__.Matrix"
      ]
     },
     "execution_count": 365,
     "metadata": {},
     "output_type": "execute_result"
    }
   ],
   "source": [
    "type(g + f)"
   ]
  },
  {
   "cell_type": "code",
   "execution_count": 366,
   "id": "0534fda7",
   "metadata": {},
   "outputs": [
    {
     "data": {
      "text/plain": [
       "__main__.Matrix"
      ]
     },
     "execution_count": 366,
     "metadata": {},
     "output_type": "execute_result"
    }
   ],
   "source": [
    "type(g)"
   ]
  },
  {
   "cell_type": "code",
   "execution_count": null,
   "id": "b411d006",
   "metadata": {},
   "outputs": [],
   "source": []
  }
 ],
 "metadata": {
  "kernelspec": {
   "display_name": "Python 3 (ipykernel)",
   "language": "python",
   "name": "python3"
  },
  "language_info": {
   "codemirror_mode": {
    "name": "ipython",
    "version": 3
   },
   "file_extension": ".py",
   "mimetype": "text/x-python",
   "name": "python",
   "nbconvert_exporter": "python",
   "pygments_lexer": "ipython3",
   "version": "3.9.12"
  }
 },
 "nbformat": 4,
 "nbformat_minor": 5
}
