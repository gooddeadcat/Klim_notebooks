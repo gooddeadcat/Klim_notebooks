{
 "cells": [
  {
   "cell_type": "code",
   "execution_count": 6,
   "metadata": {},
   "outputs": [
    {
     "name": "stdout",
     "output_type": "stream",
     "text": [
      "Введите число: 48\n",
      "12\n",
      "24\n",
      "36\n",
      "48\n"
     ]
    }
   ],
   "source": [
    "# Задача 1 (Счастливые числа)\n",
    "\n",
    "n = int(input('Введите число: '))\n",
    "x = 1\n",
    "\n",
    "while x <= n:\n",
    "    if x % 4 == 0 and x % 6 == 0:\n",
    "        print(x)\n",
    "    x += 1"
   ]
  },
  {
   "cell_type": "code",
   "execution_count": 8,
   "metadata": {},
   "outputs": [
    {
     "name": "stdout",
     "output_type": "stream",
     "text": [
      "Введите число: 48\n",
      "12\n",
      "24\n",
      "36\n",
      "48\n"
     ]
    }
   ],
   "source": [
    "# Задача 1 (Счастливые числа)\n",
    "\n",
    "n = int(input('Введите число: '))\n",
    "x = 1\n",
    "\n",
    "for x in range(1, n + 1):\n",
    "    if x % 4 == 0 and x % 6 == 0:\n",
    "        print(x)"
   ]
  },
  {
   "cell_type": "code",
   "execution_count": 12,
   "metadata": {},
   "outputs": [
    {
     "name": "stdout",
     "output_type": "stream",
     "text": [
      "4:45\n",
      "7:13\n",
      "6:34\n",
      "3:55\n",
      "7:02\n",
      "5:35\n",
      "6:43\n",
      "3:45\n",
      "7\n"
     ]
    }
   ],
   "source": [
    "# Задача 2 (Альбом)\n",
    "# маски называются регулярными выражениями\n",
    "\n",
    "time = 0\n",
    "tracks = 0\n",
    "while time <= 45:\n",
    "    duration = input().split(':')\n",
    "    time = time + (int(duration[0]) * 60 + int(duration[1])) / 60\n",
    "    tracks += 1\n",
    "print(tracks - 1)"
   ]
  },
  {
   "cell_type": "code",
   "execution_count": 17,
   "metadata": {},
   "outputs": [
    {
     "name": "stdout",
     "output_type": "stream",
     "text": [
      "Введите Ваш год рождения: 1990\n",
      "Введите 3 варианта пароля через пробелgghgrgt65 fvfg1990 ghyjfhnfd\n",
      "False\n",
      "True\n",
      "False\n"
     ]
    }
   ],
   "source": [
    "# Задача 3 (Пароли)\n",
    "\n",
    "year = input('Введите Ваш год рождения: ')\n",
    "passwords = input('Введите 3 варианта пароля через пробел: ').split()\n",
    "\n",
    "for i in range(0, len(passwords)):\n",
    "    print(year in passwords[i])"
   ]
  },
  {
   "cell_type": "code",
   "execution_count": 18,
   "metadata": {},
   "outputs": [
    {
     "name": "stdout",
     "output_type": "stream",
     "text": [
      "Введите Ваш год рождения: 1990\n",
      "Введите 3 варианта пароля через пробел: gghgrgt65 fvfg1990 ghyjfhnfd\n",
      "False\n",
      "True\n",
      "False\n"
     ]
    }
   ],
   "source": [
    "# Задача 3 (Пароли)\n",
    "\n",
    "year = input('Введите Ваш год рождения: ')\n",
    "passwords = input('Введите 3 варианта пароля через пробел: ').split()\n",
    "\n",
    "for i in passwords:\n",
    "    print(year in i)"
   ]
  },
  {
   "cell_type": "code",
   "execution_count": null,
   "metadata": {},
   "outputs": [],
   "source": [
    "# Задача 4 (Адресная книга)\n",
    "\n",
    "emails = input().split(',')\n",
    "n = int(input())\n",
    "\n",
    "for student in range(n):\n",
    "    changes = input().split()\n",
    "    for i in range(len(emails)):\n",
    "        if emails[i] == changes[0]:\n",
    "            emails[i] = changes[1]\n",
    "            break\n",
    "print(*emails, sep=';')\n",
    "# print(';'.join(emails))"
   ]
  },
  {
   "cell_type": "code",
   "execution_count": 19,
   "metadata": {},
   "outputs": [
    {
     "name": "stdout",
     "output_type": "stream",
     "text": [
      "КОНЕЦ\n"
     ]
    }
   ],
   "source": [
    "# Задача 6 (Битва блогеров)\n",
    "\n",
    "blogger = input().split() # ['Аня', '300'] \n",
    "anya = 0\n",
    "vanya = 0\n",
    "\n",
    "while blogger != ['КОНЕЦ']:\n",
    "    if blogger[0] == 'Аня':\n",
    "        anya += int(blogger[1])\n",
    "    else:\n",
    "        vanya += int(blogger[1])\n",
    "    blogger = input().split()\n",
    "\n",
    "if anya > vanya:\n",
    "    print('Аня')\n",
    "elif vanya > anya:\n",
    "    print('Ваня')\n",
    "else:\n",
    "    print('Ничья’)"
   ]
  },
  {
   "cell_type": "code",
   "execution_count": null,
   "metadata": {},
   "outputs": [],
   "source": [
    "# Задача 6 (Битва блогеров)\n",
    "\n",
    "records = dict()\n",
    "while True:\n",
    "    inp = input().split()\n",
    "    if inp == ['КОНЕЦ']:\n",
    "        break\n",
    "    else:\n",
    "        val = int(inp[1])\n",
    "        if inp[0] in records:\n",
    "            val += int(records[inp[0]])\n",
    "        records.update({inp[0]:val})\n",
    "\n",
    "winner = ['Name', 0]\n",
    "\n",
    "for name in records:        \n",
    "    if records[name] > winner[1]:\n",
    "        winner[1] = records[name]\n",
    "        winner[0] = name\n",
    "        \n",
    "print(f'Победитель – {winner[0]}, заработано {winner[1]}’)"
   ]
  },
  {
   "cell_type": "markdown",
   "metadata": {},
   "source": [
    "# Методы строк"
   ]
  },
  {
   "cell_type": "code",
   "execution_count": 20,
   "metadata": {},
   "outputs": [
    {
     "name": "stdout",
     "output_type": "stream",
     "text": [
      "True\n"
     ]
    }
   ],
   "source": [
    "print('3456'.isdigit())"
   ]
  },
  {
   "cell_type": "code",
   "execution_count": 22,
   "metadata": {},
   "outputs": [
    {
     "name": "stdout",
     "output_type": "stream",
     "text": [
      "True\n"
     ]
    }
   ],
   "source": [
    "print('ывапрнол'.isalpha())"
   ]
  },
  {
   "cell_type": "code",
   "execution_count": 23,
   "metadata": {},
   "outputs": [
    {
     "data": {
      "text/plain": [
       "'hello'"
      ]
     },
     "execution_count": 23,
     "metadata": {},
     "output_type": "execute_result"
    }
   ],
   "source": [
    "'HELLO'.lower()"
   ]
  },
  {
   "cell_type": "code",
   "execution_count": 26,
   "metadata": {},
   "outputs": [
    {
     "data": {
      "text/plain": [
       "'HELLO'"
      ]
     },
     "execution_count": 26,
     "metadata": {},
     "output_type": "execute_result"
    }
   ],
   "source": [
    "'hello'.upper()"
   ]
  },
  {
   "cell_type": "code",
   "execution_count": 25,
   "metadata": {},
   "outputs": [
    {
     "name": "stdout",
     "output_type": "stream",
     "text": [
      "True\n"
     ]
    }
   ],
   "source": [
    "print('gvf43234gvfcd'.isalnum())"
   ]
  },
  {
   "cell_type": "code",
   "execution_count": 27,
   "metadata": {},
   "outputs": [
    {
     "data": {
      "text/plain": [
       "[9, 6, 5]"
      ]
     },
     "execution_count": 27,
     "metadata": {},
     "output_type": "execute_result"
    }
   ],
   "source": [
    "sh_list = ['coca cola', 'cheese', 'apple']\n",
    "list(map(len, sh_list))"
   ]
  },
  {
   "cell_type": "code",
   "execution_count": 30,
   "metadata": {},
   "outputs": [
    {
     "name": "stdout",
     "output_type": "stream",
     "text": [
      "4,9,16\n",
      "[4, 9, 16]\n"
     ]
    }
   ],
   "source": [
    "import math\n",
    "\n",
    "numbers = input().split(',')\n",
    "numbers_int = list(map(int, numbers))\n",
    "numbers_sqrt = list(map(math.sqrt, numbers_int))\n",
    "numbers_sqrt = list(map(int, numbers_int))\n",
    "print(numbers_sqrt)"
   ]
  },
  {
   "cell_type": "code",
   "execution_count": null,
   "metadata": {},
   "outputs": [],
   "source": []
  }
 ],
 "metadata": {
  "kernelspec": {
   "display_name": "Python 3",
   "language": "python",
   "name": "python3"
  },
  "language_info": {
   "codemirror_mode": {
    "name": "ipython",
    "version": 3
   },
   "file_extension": ".py",
   "mimetype": "text/x-python",
   "name": "python",
   "nbconvert_exporter": "python",
   "pygments_lexer": "ipython3",
   "version": "3.8.5"
  }
 },
 "nbformat": 4,
 "nbformat_minor": 4
}
