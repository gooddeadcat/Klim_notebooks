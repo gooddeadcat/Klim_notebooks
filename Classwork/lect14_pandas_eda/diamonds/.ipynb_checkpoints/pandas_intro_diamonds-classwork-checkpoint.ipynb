{
 "cells": [
  {
   "cell_type": "markdown",
   "metadata": {
    "id": "3Mk-Yh-B60hr",
    "toc": true
   },
   "source": [
    "<h1>Table of Contents<span class=\"tocSkip\"></span></h1>\n",
    "<div class=\"toc\"><ul class=\"toc-item\"><li><span><a href=\"#Введение-в-pandas\" data-toc-modified-id=\"Введение-в-pandas-1\"><span class=\"toc-item-num\">1&nbsp;&nbsp;</span>Введение в pandas</a></span><ul class=\"toc-item\"><li><span><a href=\"#Загружаем-и-смотрим-датасет\" data-toc-modified-id=\"Загружаем-и-смотрим-датасет-1.1\"><span class=\"toc-item-num\">1.1&nbsp;&nbsp;</span>Загружаем и смотрим датасет</a></span></li><li><span><a href=\"#Считаем-различные-характеристики\" data-toc-modified-id=\"Считаем-различные-характеристики-1.2\"><span class=\"toc-item-num\">1.2&nbsp;&nbsp;</span>Считаем различные характеристики</a></span><ul class=\"toc-item\"><li><span><a href=\"#Агрегирующие-функции\" data-toc-modified-id=\"Агрегирующие-функции-1.2.1\"><span class=\"toc-item-num\">1.2.1&nbsp;&nbsp;</span>Агрегирующие функции</a></span></li><li><span><a href=\"#Группировки\" data-toc-modified-id=\"Группировки-1.2.2\"><span class=\"toc-item-num\">1.2.2&nbsp;&nbsp;</span>Группировки</a></span></li><li><span><a href=\"#Уникальные-значения\" data-toc-modified-id=\"Уникальные-значения-1.2.3\"><span class=\"toc-item-num\">1.2.3&nbsp;&nbsp;</span>Уникальные значения</a></span></li></ul></li><li><span><a href=\"#Гистограмма-распределения\" data-toc-modified-id=\"Гистограмма-распределения-1.3\"><span class=\"toc-item-num\">1.3&nbsp;&nbsp;</span>Гистограмма распределения</a></span><ul class=\"toc-item\"><li><span><a href=\"#Среднее,-медиана,-мода\" data-toc-modified-id=\"Среднее,-медиана,-мода-1.3.1\"><span class=\"toc-item-num\">1.3.1&nbsp;&nbsp;</span>Среднее, медиана, мода</a></span></li></ul></li><li><span><a href=\"#Создаем-и-удаляем-колонки\" data-toc-modified-id=\"Создаем-и-удаляем-колонки-1.4\"><span class=\"toc-item-num\">1.4&nbsp;&nbsp;</span>Создаем и удаляем колонки</a></span></li><li><span><a href=\"#Индексация-и-срезы\" data-toc-modified-id=\"Индексация-и-срезы-1.5\"><span class=\"toc-item-num\">1.5&nbsp;&nbsp;</span>Индексация и срезы</a></span><ul class=\"toc-item\"><li><span><a href=\"#Индексация\" data-toc-modified-id=\"Индексация-1.5.1\"><span class=\"toc-item-num\">1.5.1&nbsp;&nbsp;</span>Индексация</a></span></li><li><span><a href=\"#Условные-срезы\" data-toc-modified-id=\"Условные-срезы-1.5.2\"><span class=\"toc-item-num\">1.5.2&nbsp;&nbsp;</span>Условные срезы</a></span></li><li><span><a href=\"#Условные-операторы\" data-toc-modified-id=\"Условные-операторы-1.5.3\"><span class=\"toc-item-num\">1.5.3&nbsp;&nbsp;</span>Условные операторы</a></span></li><li><span><a href=\"#Работа-со-строками\" data-toc-modified-id=\"Работа-со-строками-1.5.4\"><span class=\"toc-item-num\">1.5.4&nbsp;&nbsp;</span>Работа со строками</a></span></li></ul></li></ul></li><li><span><a href=\"#Ревью\" data-toc-modified-id=\"Ревью-2\"><span class=\"toc-item-num\">2&nbsp;&nbsp;</span>Ревью</a></span></li><li><span><a href=\"#Практика\" data-toc-modified-id=\"Практика-3\"><span class=\"toc-item-num\">3&nbsp;&nbsp;</span>Практика</a></span></li></ul></div>"
   ]
  },
  {
   "cell_type": "markdown",
   "metadata": {
    "id": "RiX4BSlA60hs"
   },
   "source": [
    "# Введение в pandas"
   ]
  },
  {
   "cell_type": "markdown",
   "metadata": {
    "id": "WtUhQqnm60ht"
   },
   "source": [
    "- Pandas — библиотека языка Python для удобных обработки и анализа данных.\n",
    "- Официальная документация [тут](https://pandas.pydata.org/docs/user_guide/index.html#user-guide)\n",
    "---\n",
    "Небольшой список литературы:\n",
    "1. [Шпаргалка по pandas](https://pandas.pydata.org/Pandas_Cheat_Sheet.pdf)\n",
    "2. [Введение в pandas](https://khashtamov.com/ru/pandas-introduction/)\n",
    "\n",
    "---\n",
    "Необязательное ДЗ\n",
    "- проработать [статью](https://habr.com/ru/company/ods/blog/322626/) про то как в pandas можно делать разные штуки"
   ]
  },
  {
   "cell_type": "markdown",
   "metadata": {
    "id": "3ZYX4eDk60hu"
   },
   "source": [
    "## Загружаем и смотрим датасет"
   ]
  },
  {
   "cell_type": "markdown",
   "metadata": {
    "id": "fLnoJjg960hv"
   },
   "source": [
    "Импортируем библиотеку `pandas` и присваиваем ей alias `pd`."
   ]
  },
  {
   "cell_type": "code",
   "execution_count": 1,
   "metadata": {
    "id": "Zhy04XbE60hw"
   },
   "outputs": [],
   "source": [
    "import pandas as pd"
   ]
  },
  {
   "cell_type": "markdown",
   "metadata": {
    "id": "tpZLcfGE60h4"
   },
   "source": [
    "Загружаем датасет из `csv`-файла в переменную `df` специального типа `pd.DataFrame`. Внимательно указываем путь к файлу. Передаем параметру `index_col` значение `0` – номер колонки, где хранятся индексы объектов в таблице.\n",
    "\n",
    "Если не хотите указывать путь к файлу, переместите датасет в ту же папку, где и ноутбук!"
   ]
  },
  {
   "cell_type": "code",
   "execution_count": 6,
   "metadata": {
    "id": "xAZWeHWk60h5"
   },
   "outputs": [],
   "source": [
    "df = pd.read_csv('diamonds.csv', index_col=0)"
   ]
  },
  {
   "cell_type": "markdown",
   "metadata": {
    "id": "SMM1eCCb60iI"
   },
   "source": [
    "у функции `read_csv`, есть ряд важных параметров, которые иногда могут пригодиться\n",
    "- `sep` — разделитель данных, по умолчанию `','`\n",
    "- `decimal` — разделитель числа на целую и дробную часть, по умолчанию `'.'`\n",
    "- `names` — список с названиями колонок\n",
    "- `skiprows` — если файл содержит системную информацию, можно просто её пропустить\n",
    "- `index_col` - номер колонки с индексом"
   ]
  },
  {
   "cell_type": "markdown",
   "metadata": {
    "id": "Z0YX_gLM60iJ"
   },
   "source": [
    "Посмотрим на первые 10 строк датасета с помощью метода `.head()` и последние 5 строк с помощью метода `.tail()`"
   ]
  },
  {
   "cell_type": "code",
   "execution_count": 7,
   "metadata": {},
   "outputs": [
    {
     "data": {
      "text/html": [
       "<div>\n",
       "<style scoped>\n",
       "    .dataframe tbody tr th:only-of-type {\n",
       "        vertical-align: middle;\n",
       "    }\n",
       "\n",
       "    .dataframe tbody tr th {\n",
       "        vertical-align: top;\n",
       "    }\n",
       "\n",
       "    .dataframe thead th {\n",
       "        text-align: right;\n",
       "    }\n",
       "</style>\n",
       "<table border=\"1\" class=\"dataframe\">\n",
       "  <thead>\n",
       "    <tr style=\"text-align: right;\">\n",
       "      <th></th>\n",
       "      <th>carat</th>\n",
       "      <th>cut</th>\n",
       "      <th>color</th>\n",
       "      <th>clarity</th>\n",
       "      <th>depth</th>\n",
       "      <th>table</th>\n",
       "      <th>price</th>\n",
       "      <th>x</th>\n",
       "      <th>y</th>\n",
       "      <th>z</th>\n",
       "    </tr>\n",
       "  </thead>\n",
       "  <tbody>\n",
       "    <tr>\n",
       "      <th>1</th>\n",
       "      <td>0.23</td>\n",
       "      <td>Ideal</td>\n",
       "      <td>E</td>\n",
       "      <td>SI2</td>\n",
       "      <td>61.5</td>\n",
       "      <td>55.0</td>\n",
       "      <td>326</td>\n",
       "      <td>3.95</td>\n",
       "      <td>3.98</td>\n",
       "      <td>2.43</td>\n",
       "    </tr>\n",
       "    <tr>\n",
       "      <th>2</th>\n",
       "      <td>0.21</td>\n",
       "      <td>Premium</td>\n",
       "      <td>E</td>\n",
       "      <td>SI1</td>\n",
       "      <td>59.8</td>\n",
       "      <td>61.0</td>\n",
       "      <td>326</td>\n",
       "      <td>3.89</td>\n",
       "      <td>3.84</td>\n",
       "      <td>2.31</td>\n",
       "    </tr>\n",
       "    <tr>\n",
       "      <th>3</th>\n",
       "      <td>0.23</td>\n",
       "      <td>Good</td>\n",
       "      <td>E</td>\n",
       "      <td>VS1</td>\n",
       "      <td>56.9</td>\n",
       "      <td>65.0</td>\n",
       "      <td>327</td>\n",
       "      <td>4.05</td>\n",
       "      <td>4.07</td>\n",
       "      <td>2.31</td>\n",
       "    </tr>\n",
       "    <tr>\n",
       "      <th>4</th>\n",
       "      <td>0.29</td>\n",
       "      <td>Premium</td>\n",
       "      <td>I</td>\n",
       "      <td>VS2</td>\n",
       "      <td>62.4</td>\n",
       "      <td>58.0</td>\n",
       "      <td>334</td>\n",
       "      <td>4.20</td>\n",
       "      <td>4.23</td>\n",
       "      <td>2.63</td>\n",
       "    </tr>\n",
       "    <tr>\n",
       "      <th>5</th>\n",
       "      <td>0.31</td>\n",
       "      <td>Good</td>\n",
       "      <td>J</td>\n",
       "      <td>SI2</td>\n",
       "      <td>63.3</td>\n",
       "      <td>58.0</td>\n",
       "      <td>335</td>\n",
       "      <td>4.34</td>\n",
       "      <td>4.35</td>\n",
       "      <td>2.75</td>\n",
       "    </tr>\n",
       "    <tr>\n",
       "      <th>6</th>\n",
       "      <td>0.24</td>\n",
       "      <td>Very Good</td>\n",
       "      <td>J</td>\n",
       "      <td>VVS2</td>\n",
       "      <td>62.8</td>\n",
       "      <td>57.0</td>\n",
       "      <td>336</td>\n",
       "      <td>3.94</td>\n",
       "      <td>3.96</td>\n",
       "      <td>2.48</td>\n",
       "    </tr>\n",
       "    <tr>\n",
       "      <th>7</th>\n",
       "      <td>0.24</td>\n",
       "      <td>Very Good</td>\n",
       "      <td>I</td>\n",
       "      <td>VVS1</td>\n",
       "      <td>62.3</td>\n",
       "      <td>57.0</td>\n",
       "      <td>336</td>\n",
       "      <td>3.95</td>\n",
       "      <td>3.98</td>\n",
       "      <td>2.47</td>\n",
       "    </tr>\n",
       "    <tr>\n",
       "      <th>8</th>\n",
       "      <td>0.26</td>\n",
       "      <td>Very Good</td>\n",
       "      <td>H</td>\n",
       "      <td>SI1</td>\n",
       "      <td>61.9</td>\n",
       "      <td>55.0</td>\n",
       "      <td>337</td>\n",
       "      <td>4.07</td>\n",
       "      <td>4.11</td>\n",
       "      <td>2.53</td>\n",
       "    </tr>\n",
       "    <tr>\n",
       "      <th>9</th>\n",
       "      <td>0.22</td>\n",
       "      <td>Fair</td>\n",
       "      <td>E</td>\n",
       "      <td>VS2</td>\n",
       "      <td>65.1</td>\n",
       "      <td>61.0</td>\n",
       "      <td>337</td>\n",
       "      <td>3.87</td>\n",
       "      <td>3.78</td>\n",
       "      <td>2.49</td>\n",
       "    </tr>\n",
       "    <tr>\n",
       "      <th>10</th>\n",
       "      <td>0.23</td>\n",
       "      <td>Very Good</td>\n",
       "      <td>H</td>\n",
       "      <td>VS1</td>\n",
       "      <td>59.4</td>\n",
       "      <td>61.0</td>\n",
       "      <td>338</td>\n",
       "      <td>4.00</td>\n",
       "      <td>4.05</td>\n",
       "      <td>2.39</td>\n",
       "    </tr>\n",
       "  </tbody>\n",
       "</table>\n",
       "</div>"
      ],
      "text/plain": [
       "    carat        cut color clarity  depth  table  price     x     y     z\n",
       "1    0.23      Ideal     E     SI2   61.5   55.0    326  3.95  3.98  2.43\n",
       "2    0.21    Premium     E     SI1   59.8   61.0    326  3.89  3.84  2.31\n",
       "3    0.23       Good     E     VS1   56.9   65.0    327  4.05  4.07  2.31\n",
       "4    0.29    Premium     I     VS2   62.4   58.0    334  4.20  4.23  2.63\n",
       "5    0.31       Good     J     SI2   63.3   58.0    335  4.34  4.35  2.75\n",
       "6    0.24  Very Good     J    VVS2   62.8   57.0    336  3.94  3.96  2.48\n",
       "7    0.24  Very Good     I    VVS1   62.3   57.0    336  3.95  3.98  2.47\n",
       "8    0.26  Very Good     H     SI1   61.9   55.0    337  4.07  4.11  2.53\n",
       "9    0.22       Fair     E     VS2   65.1   61.0    337  3.87  3.78  2.49\n",
       "10   0.23  Very Good     H     VS1   59.4   61.0    338  4.00  4.05  2.39"
      ]
     },
     "execution_count": 7,
     "metadata": {},
     "output_type": "execute_result"
    }
   ],
   "source": [
    "df.head(10)"
   ]
  },
  {
   "cell_type": "code",
   "execution_count": 5,
   "metadata": {},
   "outputs": [
    {
     "data": {
      "text/html": [
       "<div>\n",
       "<style scoped>\n",
       "    .dataframe tbody tr th:only-of-type {\n",
       "        vertical-align: middle;\n",
       "    }\n",
       "\n",
       "    .dataframe tbody tr th {\n",
       "        vertical-align: top;\n",
       "    }\n",
       "\n",
       "    .dataframe thead th {\n",
       "        text-align: right;\n",
       "    }\n",
       "</style>\n",
       "<table border=\"1\" class=\"dataframe\">\n",
       "  <thead>\n",
       "    <tr style=\"text-align: right;\">\n",
       "      <th></th>\n",
       "      <th>carat</th>\n",
       "      <th>cut</th>\n",
       "      <th>color</th>\n",
       "      <th>clarity</th>\n",
       "      <th>depth</th>\n",
       "      <th>table</th>\n",
       "      <th>price</th>\n",
       "      <th>x</th>\n",
       "      <th>y</th>\n",
       "      <th>z</th>\n",
       "    </tr>\n",
       "  </thead>\n",
       "  <tbody>\n",
       "    <tr>\n",
       "      <th>53936</th>\n",
       "      <td>0.72</td>\n",
       "      <td>Ideal</td>\n",
       "      <td>D</td>\n",
       "      <td>SI1</td>\n",
       "      <td>60.8</td>\n",
       "      <td>57.0</td>\n",
       "      <td>2757</td>\n",
       "      <td>5.75</td>\n",
       "      <td>5.76</td>\n",
       "      <td>3.50</td>\n",
       "    </tr>\n",
       "    <tr>\n",
       "      <th>53937</th>\n",
       "      <td>0.72</td>\n",
       "      <td>Good</td>\n",
       "      <td>D</td>\n",
       "      <td>SI1</td>\n",
       "      <td>63.1</td>\n",
       "      <td>55.0</td>\n",
       "      <td>2757</td>\n",
       "      <td>5.69</td>\n",
       "      <td>5.75</td>\n",
       "      <td>3.61</td>\n",
       "    </tr>\n",
       "    <tr>\n",
       "      <th>53938</th>\n",
       "      <td>0.70</td>\n",
       "      <td>Very Good</td>\n",
       "      <td>D</td>\n",
       "      <td>SI1</td>\n",
       "      <td>62.8</td>\n",
       "      <td>60.0</td>\n",
       "      <td>2757</td>\n",
       "      <td>5.66</td>\n",
       "      <td>5.68</td>\n",
       "      <td>3.56</td>\n",
       "    </tr>\n",
       "    <tr>\n",
       "      <th>53939</th>\n",
       "      <td>0.86</td>\n",
       "      <td>Premium</td>\n",
       "      <td>H</td>\n",
       "      <td>SI2</td>\n",
       "      <td>61.0</td>\n",
       "      <td>58.0</td>\n",
       "      <td>2757</td>\n",
       "      <td>6.15</td>\n",
       "      <td>6.12</td>\n",
       "      <td>3.74</td>\n",
       "    </tr>\n",
       "    <tr>\n",
       "      <th>53940</th>\n",
       "      <td>0.75</td>\n",
       "      <td>Ideal</td>\n",
       "      <td>D</td>\n",
       "      <td>SI2</td>\n",
       "      <td>62.2</td>\n",
       "      <td>55.0</td>\n",
       "      <td>2757</td>\n",
       "      <td>5.83</td>\n",
       "      <td>5.87</td>\n",
       "      <td>3.64</td>\n",
       "    </tr>\n",
       "  </tbody>\n",
       "</table>\n",
       "</div>"
      ],
      "text/plain": [
       "       carat        cut color clarity  depth  table  price     x     y     z\n",
       "53936   0.72      Ideal     D     SI1   60.8   57.0   2757  5.75  5.76  3.50\n",
       "53937   0.72       Good     D     SI1   63.1   55.0   2757  5.69  5.75  3.61\n",
       "53938   0.70  Very Good     D     SI1   62.8   60.0   2757  5.66  5.68  3.56\n",
       "53939   0.86    Premium     H     SI2   61.0   58.0   2757  6.15  6.12  3.74\n",
       "53940   0.75      Ideal     D     SI2   62.2   55.0   2757  5.83  5.87  3.64"
      ]
     },
     "execution_count": 5,
     "metadata": {},
     "output_type": "execute_result"
    }
   ],
   "source": [
    "df.tail()"
   ]
  },
  {
   "cell_type": "markdown",
   "metadata": {
    "id": "pIHCC4YN60h3"
   },
   "source": [
    "- Будем анализировать классический датасет о бриллиантах. \n",
    "- Больше информации о нем [тут](https://www.kaggle.com/shivam2503/diamonds).\n",
    "- Скачать можно [тут](https://drive.google.com/file/d/1PwB6fLZiAOwpDu7VzyI1suOdRgs5YvdA/view)\n",
    "\n",
    "Описание колонок датасета:\n",
    "- `price` – цена бриллианта (в долларах)\n",
    "\n",
    "- `carat` – масса бриллианта (в каратах)\n",
    "\n",
    "- `cut` – качество огранки бриллианта (Fair, Good, Very Good, Premium, Ideal)\n",
    "\n",
    "- `color` – цвет бриллианта, from J (худший) to D (лучший)\n",
    "\n",
    "- `clarity` – чистота бриллианта (I1 (худший), SI2, SI1, VS2, VS1, VVS2, VVS1, IF (лучший))\n",
    "\n",
    "- `x`, `y`, `z` – длина, ширина, высота (в мм)\n",
    "\n",
    "- `depth` – процент глубины равный 2 * z / (x + y)\n",
    "\n",
    "- `table` – ширина площадки сверху бриллианта"
   ]
  },
  {
   "cell_type": "markdown",
   "metadata": {
    "id": "hesPGLf560iT"
   },
   "source": [
    "Посмотрим на размер нашего датасета c помощью атрибута `shape`, который выводит `кортеж` из двух чисел\n",
    "- первое число – количество строк (наблюдений)\n",
    "- второе число – количество столбцов"
   ]
  },
  {
   "cell_type": "code",
   "execution_count": 8,
   "metadata": {},
   "outputs": [
    {
     "data": {
      "text/plain": [
       "(53940, 10)"
      ]
     },
     "execution_count": 8,
     "metadata": {},
     "output_type": "execute_result"
    }
   ],
   "source": [
    "df.shape"
   ]
  },
  {
   "cell_type": "code",
   "execution_count": 9,
   "metadata": {},
   "outputs": [
    {
     "data": {
      "text/plain": [
       "53940"
      ]
     },
     "execution_count": 9,
     "metadata": {},
     "output_type": "execute_result"
    }
   ],
   "source": [
    "df.shape[0] #кол-во рядов (строк, объектов)"
   ]
  },
  {
   "cell_type": "code",
   "execution_count": 10,
   "metadata": {},
   "outputs": [
    {
     "data": {
      "text/plain": [
       "10"
      ]
     },
     "execution_count": 10,
     "metadata": {},
     "output_type": "execute_result"
    }
   ],
   "source": [
    "df.shape[1] #кол-во колонок (переменных, признаков, характеристик)"
   ]
  },
  {
   "cell_type": "markdown",
   "metadata": {
    "id": "0OUf5cy860ie"
   },
   "source": [
    "Давайте посмотрим на информацию о датасете. \n",
    "\n",
    "У метода `.info()` можно передать дополнительные параметры, среди которых:\n",
    "\n",
    "- `verbose`: печатать ли информацию о `DataFrame` полностью (если таблица очень большая, то некоторая информация может потеряться)\n",
    "- `memory_usage`: печатать ли потребление памяти (по умолчанию используется `True`, но можно поставить либо `False`, что уберёт потребление памяти, либо `'deep'` , что подсчитает потребление памяти более точно)\n",
    "- `null_counts`: подсчитывать ли количество пустых элементов (по умолчанию `True`)"
   ]
  },
  {
   "cell_type": "code",
   "execution_count": 11,
   "metadata": {},
   "outputs": [
    {
     "name": "stdout",
     "output_type": "stream",
     "text": [
      "<class 'pandas.core.frame.DataFrame'>\n",
      "Int64Index: 53940 entries, 1 to 53940\n",
      "Data columns (total 10 columns):\n",
      " #   Column   Non-Null Count  Dtype  \n",
      "---  ------   --------------  -----  \n",
      " 0   carat    53940 non-null  float64\n",
      " 1   cut      53940 non-null  object \n",
      " 2   color    53940 non-null  object \n",
      " 3   clarity  53940 non-null  object \n",
      " 4   depth    53940 non-null  float64\n",
      " 5   table    53940 non-null  float64\n",
      " 6   price    53940 non-null  int64  \n",
      " 7   x        53940 non-null  float64\n",
      " 8   y        53940 non-null  float64\n",
      " 9   z        53940 non-null  float64\n",
      "dtypes: float64(6), int64(1), object(3)\n",
      "memory usage: 4.5+ MB\n"
     ]
    }
   ],
   "source": [
    "df.info()"
   ]
  },
  {
   "cell_type": "markdown",
   "metadata": {
    "id": "A4OChr8X60ij"
   },
   "source": [
    "Можно вывести только тип данных в каждой колонке"
   ]
  },
  {
   "cell_type": "code",
   "execution_count": 12,
   "metadata": {},
   "outputs": [
    {
     "data": {
      "text/plain": [
       "carat      float64\n",
       "cut         object\n",
       "color       object\n",
       "clarity     object\n",
       "depth      float64\n",
       "table      float64\n",
       "price        int64\n",
       "x          float64\n",
       "y          float64\n",
       "z          float64\n",
       "dtype: object"
      ]
     },
     "execution_count": 12,
     "metadata": {},
     "output_type": "execute_result"
    }
   ],
   "source": [
    "df.dtypes #data types"
   ]
  },
  {
   "cell_type": "markdown",
   "metadata": {
    "id": "lc5KwCvd60im"
   },
   "source": [
    "## Считаем различные характеристики"
   ]
  },
  {
   "cell_type": "markdown",
   "metadata": {
    "id": "yfBPzFQc60in"
   },
   "source": [
    "### Агрегирующие функции"
   ]
  },
  {
   "cell_type": "markdown",
   "metadata": {
    "id": "aQ2aCc_360in"
   },
   "source": [
    "Метод `.describe()` показывает основные статистические характеристики данных по каждому числовому признаку (типы `int64` и `float64`):  \n",
    "- `count` – число непропущенных значений\n",
    "- `mean`, `std` – среднее, стандартное отклонение\n",
    "- `min`, `max` – минимум, максимум\n",
    "- `25%`, `50%`, `75%` – квантили уровней 0.25, 0.50, 0.75"
   ]
  },
  {
   "cell_type": "code",
   "execution_count": 13,
   "metadata": {},
   "outputs": [
    {
     "data": {
      "text/html": [
       "<div>\n",
       "<style scoped>\n",
       "    .dataframe tbody tr th:only-of-type {\n",
       "        vertical-align: middle;\n",
       "    }\n",
       "\n",
       "    .dataframe tbody tr th {\n",
       "        vertical-align: top;\n",
       "    }\n",
       "\n",
       "    .dataframe thead th {\n",
       "        text-align: right;\n",
       "    }\n",
       "</style>\n",
       "<table border=\"1\" class=\"dataframe\">\n",
       "  <thead>\n",
       "    <tr style=\"text-align: right;\">\n",
       "      <th></th>\n",
       "      <th>carat</th>\n",
       "      <th>depth</th>\n",
       "      <th>table</th>\n",
       "      <th>price</th>\n",
       "      <th>x</th>\n",
       "      <th>y</th>\n",
       "      <th>z</th>\n",
       "    </tr>\n",
       "  </thead>\n",
       "  <tbody>\n",
       "    <tr>\n",
       "      <th>count</th>\n",
       "      <td>53940.000000</td>\n",
       "      <td>53940.000000</td>\n",
       "      <td>53940.000000</td>\n",
       "      <td>53940.000000</td>\n",
       "      <td>53940.000000</td>\n",
       "      <td>53940.000000</td>\n",
       "      <td>53940.000000</td>\n",
       "    </tr>\n",
       "    <tr>\n",
       "      <th>mean</th>\n",
       "      <td>0.797940</td>\n",
       "      <td>61.749405</td>\n",
       "      <td>57.457184</td>\n",
       "      <td>3932.799722</td>\n",
       "      <td>5.731157</td>\n",
       "      <td>5.734526</td>\n",
       "      <td>3.538734</td>\n",
       "    </tr>\n",
       "    <tr>\n",
       "      <th>std</th>\n",
       "      <td>0.474011</td>\n",
       "      <td>1.432621</td>\n",
       "      <td>2.234491</td>\n",
       "      <td>3989.439738</td>\n",
       "      <td>1.121761</td>\n",
       "      <td>1.142135</td>\n",
       "      <td>0.705699</td>\n",
       "    </tr>\n",
       "    <tr>\n",
       "      <th>min</th>\n",
       "      <td>0.200000</td>\n",
       "      <td>43.000000</td>\n",
       "      <td>43.000000</td>\n",
       "      <td>326.000000</td>\n",
       "      <td>0.000000</td>\n",
       "      <td>0.000000</td>\n",
       "      <td>0.000000</td>\n",
       "    </tr>\n",
       "    <tr>\n",
       "      <th>25%</th>\n",
       "      <td>0.400000</td>\n",
       "      <td>61.000000</td>\n",
       "      <td>56.000000</td>\n",
       "      <td>950.000000</td>\n",
       "      <td>4.710000</td>\n",
       "      <td>4.720000</td>\n",
       "      <td>2.910000</td>\n",
       "    </tr>\n",
       "    <tr>\n",
       "      <th>50%</th>\n",
       "      <td>0.700000</td>\n",
       "      <td>61.800000</td>\n",
       "      <td>57.000000</td>\n",
       "      <td>2401.000000</td>\n",
       "      <td>5.700000</td>\n",
       "      <td>5.710000</td>\n",
       "      <td>3.530000</td>\n",
       "    </tr>\n",
       "    <tr>\n",
       "      <th>75%</th>\n",
       "      <td>1.040000</td>\n",
       "      <td>62.500000</td>\n",
       "      <td>59.000000</td>\n",
       "      <td>5324.250000</td>\n",
       "      <td>6.540000</td>\n",
       "      <td>6.540000</td>\n",
       "      <td>4.040000</td>\n",
       "    </tr>\n",
       "    <tr>\n",
       "      <th>max</th>\n",
       "      <td>5.010000</td>\n",
       "      <td>79.000000</td>\n",
       "      <td>95.000000</td>\n",
       "      <td>18823.000000</td>\n",
       "      <td>10.740000</td>\n",
       "      <td>58.900000</td>\n",
       "      <td>31.800000</td>\n",
       "    </tr>\n",
       "  </tbody>\n",
       "</table>\n",
       "</div>"
      ],
      "text/plain": [
       "              carat         depth         table         price             x  \\\n",
       "count  53940.000000  53940.000000  53940.000000  53940.000000  53940.000000   \n",
       "mean       0.797940     61.749405     57.457184   3932.799722      5.731157   \n",
       "std        0.474011      1.432621      2.234491   3989.439738      1.121761   \n",
       "min        0.200000     43.000000     43.000000    326.000000      0.000000   \n",
       "25%        0.400000     61.000000     56.000000    950.000000      4.710000   \n",
       "50%        0.700000     61.800000     57.000000   2401.000000      5.700000   \n",
       "75%        1.040000     62.500000     59.000000   5324.250000      6.540000   \n",
       "max        5.010000     79.000000     95.000000  18823.000000     10.740000   \n",
       "\n",
       "                  y             z  \n",
       "count  53940.000000  53940.000000  \n",
       "mean       5.734526      3.538734  \n",
       "std        1.142135      0.705699  \n",
       "min        0.000000      0.000000  \n",
       "25%        4.720000      2.910000  \n",
       "50%        5.710000      3.530000  \n",
       "75%        6.540000      4.040000  \n",
       "max       58.900000     31.800000  "
      ]
     },
     "execution_count": 13,
     "metadata": {},
     "output_type": "execute_result"
    }
   ],
   "source": [
    "df.describe()"
   ]
  },
  {
   "cell_type": "markdown",
   "metadata": {
    "id": "LL4yog_x60is"
   },
   "source": [
    "Чтобы посмотреть статистику по нечисловым признакам (например, по строчным (`object`) или булевым (`bool`) данным), нужно явно указать интересующие нас типы в параметре `include` метода `describe`, тогда\n",
    "- `unique` – число уникальных категорий в колонке\n",
    "- `top` – самая часто встречаемая категория\n",
    "- `freq` – количество вхождений самой часто встречаемой категории в датасете"
   ]
  },
  {
   "cell_type": "code",
   "execution_count": 14,
   "metadata": {},
   "outputs": [
    {
     "data": {
      "text/html": [
       "<div>\n",
       "<style scoped>\n",
       "    .dataframe tbody tr th:only-of-type {\n",
       "        vertical-align: middle;\n",
       "    }\n",
       "\n",
       "    .dataframe tbody tr th {\n",
       "        vertical-align: top;\n",
       "    }\n",
       "\n",
       "    .dataframe thead th {\n",
       "        text-align: right;\n",
       "    }\n",
       "</style>\n",
       "<table border=\"1\" class=\"dataframe\">\n",
       "  <thead>\n",
       "    <tr style=\"text-align: right;\">\n",
       "      <th></th>\n",
       "      <th>cut</th>\n",
       "      <th>color</th>\n",
       "      <th>clarity</th>\n",
       "    </tr>\n",
       "  </thead>\n",
       "  <tbody>\n",
       "    <tr>\n",
       "      <th>count</th>\n",
       "      <td>53940</td>\n",
       "      <td>53940</td>\n",
       "      <td>53940</td>\n",
       "    </tr>\n",
       "    <tr>\n",
       "      <th>unique</th>\n",
       "      <td>5</td>\n",
       "      <td>7</td>\n",
       "      <td>8</td>\n",
       "    </tr>\n",
       "    <tr>\n",
       "      <th>top</th>\n",
       "      <td>Ideal</td>\n",
       "      <td>G</td>\n",
       "      <td>SI1</td>\n",
       "    </tr>\n",
       "    <tr>\n",
       "      <th>freq</th>\n",
       "      <td>21551</td>\n",
       "      <td>11292</td>\n",
       "      <td>13065</td>\n",
       "    </tr>\n",
       "  </tbody>\n",
       "</table>\n",
       "</div>"
      ],
      "text/plain": [
       "          cut  color clarity\n",
       "count   53940  53940   53940\n",
       "unique      5      7       8\n",
       "top     Ideal      G     SI1\n",
       "freq    21551  11292   13065"
      ]
     },
     "execution_count": 14,
     "metadata": {},
     "output_type": "execute_result"
    }
   ],
   "source": [
    "df.describe(include='object')"
   ]
  },
  {
   "cell_type": "markdown",
   "metadata": {
    "id": "OgKE77H960iv"
   },
   "source": [
    "Из таблицы мы можем \"достать\" отдельный столбец, который будет уже другого специального типа `pd.Series`\n",
    "\n",
    "Это можно сделать несколькими способами, например:\n",
    "```python\n",
    "df['col']\n",
    "```\n",
    "\n",
    "Если название колонки на латинице без пробелов, можно писать:\n",
    " ```python\n",
    "df.col\n",
    "```"
   ]
  },
  {
   "cell_type": "code",
   "execution_count": 15,
   "metadata": {},
   "outputs": [
    {
     "data": {
      "text/plain": [
       "pandas.core.frame.DataFrame"
      ]
     },
     "execution_count": 15,
     "metadata": {},
     "output_type": "execute_result"
    }
   ],
   "source": [
    "type(df) #датафрейм, таблица, матрица"
   ]
  },
  {
   "cell_type": "code",
   "execution_count": 16,
   "metadata": {},
   "outputs": [
    {
     "data": {
      "text/plain": [
       "pandas.core.series.Series"
      ]
     },
     "execution_count": 16,
     "metadata": {},
     "output_type": "execute_result"
    }
   ],
   "source": [
    "type(df['price']) #ряд, вектор"
   ]
  },
  {
   "cell_type": "code",
   "execution_count": 15,
   "metadata": {},
   "outputs": [],
   "source": [
    "# количественные и качественные (категориальные) переменные\n",
    "# количеств: непрерывн (~float), дискретн (~int)\n",
    "# качествен: номинальные (продукт, текст), порядковые (группа крови, уровень АТД, уровень образования), бинарные"
   ]
  },
  {
   "cell_type": "code",
   "execution_count": 17,
   "metadata": {},
   "outputs": [
    {
     "data": {
      "text/plain": [
       "count    53940.000000\n",
       "mean      3932.799722\n",
       "std       3989.439738\n",
       "min        326.000000\n",
       "25%        950.000000\n",
       "50%       2401.000000\n",
       "75%       5324.250000\n",
       "max      18823.000000\n",
       "Name: price, dtype: float64"
      ]
     },
     "execution_count": 17,
     "metadata": {},
     "output_type": "execute_result"
    }
   ],
   "source": [
    "df['price'].describe()"
   ]
  },
  {
   "cell_type": "code",
   "execution_count": 18,
   "metadata": {
    "colab": {
     "base_uri": "https://localhost:8080/"
    },
    "id": "lRvHC0ME60i4",
    "outputId": "b76ea8bb-137e-41f7-ac72-0b0916803f8c"
   },
   "outputs": [
    {
     "data": {
      "text/plain": [
       "count     53940\n",
       "unique        5\n",
       "top       Ideal\n",
       "freq      21551\n",
       "Name: cut, dtype: object"
      ]
     },
     "execution_count": 18,
     "metadata": {},
     "output_type": "execute_result"
    }
   ],
   "source": [
    "df['cut'].describe()"
   ]
  },
  {
   "cell_type": "markdown",
   "metadata": {
    "id": "lm-n1ORk60i7"
   },
   "source": [
    "У отдельного столбца также можно посчитать все характеристики, которые выводятся у метода `describe`"
   ]
  },
  {
   "cell_type": "code",
   "execution_count": 19,
   "metadata": {
    "colab": {
     "base_uri": "https://localhost:8080/"
    },
    "id": "YdS8p3z760i8",
    "outputId": "9660637e-6b09-4f82-a6ef-e52f7a6cad58"
   },
   "outputs": [
    {
     "data": {
      "text/plain": [
       "0.7979397478679852"
      ]
     },
     "execution_count": 19,
     "metadata": {},
     "output_type": "execute_result"
    }
   ],
   "source": [
    "df['carat'].mean()"
   ]
  },
  {
   "cell_type": "code",
   "execution_count": 20,
   "metadata": {
    "colab": {
     "base_uri": "https://localhost:8080/"
    },
    "id": "iWxPNJE560i_",
    "outputId": "b701077b-44ac-40a5-d025-085a80fc96f5"
   },
   "outputs": [
    {
     "data": {
      "text/plain": [
       "0.7"
      ]
     },
     "execution_count": 20,
     "metadata": {},
     "output_type": "execute_result"
    }
   ],
   "source": [
    "df['carat'].median()"
   ]
  },
  {
   "cell_type": "code",
   "execution_count": 21,
   "metadata": {
    "colab": {
     "base_uri": "https://localhost:8080/"
    },
    "id": "XOShFQ8U60jC",
    "outputId": "c8d82f1d-c7ca-4a51-dfce-64ec2d04075b"
   },
   "outputs": [
    {
     "data": {
      "text/plain": [
       "0    Ideal\n",
       "dtype: object"
      ]
     },
     "execution_count": 21,
     "metadata": {},
     "output_type": "execute_result"
    }
   ],
   "source": [
    "df['cut'].mode() # наиболее часто встречаемое значение в колонке"
   ]
  },
  {
   "cell_type": "markdown",
   "metadata": {
    "id": "8rGmc4Ib60jG"
   },
   "source": [
    "### Группировки"
   ]
  },
  {
   "cell_type": "markdown",
   "metadata": {
    "id": "raVxwmf760jH"
   },
   "source": [
    "![](https://i.imgur.com/Ij090Kn.jpg)\n",
    "\n",
    "Таблицы можно также группировать для того, чтобы посмотреть разные характеристики датасета.\n",
    "\n",
    "Например, посмотрим на среднюю цену бриллианта в зависимости от цвета.\n",
    "\n",
    "```python\n",
    "df.groupby('col to group')['col of interest'].mean().sort_values()\n",
    "```\n",
    "- `mean` – агрегирующая функция, можно использовать другие\n",
    "- `sort_values` – функция сортировки"
   ]
  },
  {
   "cell_type": "code",
   "execution_count": 22,
   "metadata": {},
   "outputs": [
    {
     "data": {
      "text/html": [
       "<div>\n",
       "<style scoped>\n",
       "    .dataframe tbody tr th:only-of-type {\n",
       "        vertical-align: middle;\n",
       "    }\n",
       "\n",
       "    .dataframe tbody tr th {\n",
       "        vertical-align: top;\n",
       "    }\n",
       "\n",
       "    .dataframe thead th {\n",
       "        text-align: right;\n",
       "    }\n",
       "</style>\n",
       "<table border=\"1\" class=\"dataframe\">\n",
       "  <thead>\n",
       "    <tr style=\"text-align: right;\">\n",
       "      <th></th>\n",
       "      <th>carat</th>\n",
       "      <th>cut</th>\n",
       "      <th>color</th>\n",
       "      <th>clarity</th>\n",
       "      <th>depth</th>\n",
       "      <th>table</th>\n",
       "      <th>price</th>\n",
       "      <th>x</th>\n",
       "      <th>y</th>\n",
       "      <th>z</th>\n",
       "    </tr>\n",
       "  </thead>\n",
       "  <tbody>\n",
       "    <tr>\n",
       "      <th>1</th>\n",
       "      <td>0.23</td>\n",
       "      <td>Ideal</td>\n",
       "      <td>E</td>\n",
       "      <td>SI2</td>\n",
       "      <td>61.5</td>\n",
       "      <td>55.0</td>\n",
       "      <td>326</td>\n",
       "      <td>3.95</td>\n",
       "      <td>3.98</td>\n",
       "      <td>2.43</td>\n",
       "    </tr>\n",
       "    <tr>\n",
       "      <th>2</th>\n",
       "      <td>0.21</td>\n",
       "      <td>Premium</td>\n",
       "      <td>E</td>\n",
       "      <td>SI1</td>\n",
       "      <td>59.8</td>\n",
       "      <td>61.0</td>\n",
       "      <td>326</td>\n",
       "      <td>3.89</td>\n",
       "      <td>3.84</td>\n",
       "      <td>2.31</td>\n",
       "    </tr>\n",
       "  </tbody>\n",
       "</table>\n",
       "</div>"
      ],
      "text/plain": [
       "   carat      cut color clarity  depth  table  price     x     y     z\n",
       "1   0.23    Ideal     E     SI2   61.5   55.0    326  3.95  3.98  2.43\n",
       "2   0.21  Premium     E     SI1   59.8   61.0    326  3.89  3.84  2.31"
      ]
     },
     "execution_count": 22,
     "metadata": {},
     "output_type": "execute_result"
    }
   ],
   "source": [
    "df.head(2)"
   ]
  },
  {
   "cell_type": "code",
   "execution_count": 22,
   "metadata": {},
   "outputs": [
    {
     "data": {
      "text/plain": [
       "color\n",
       "D    3169.954096\n",
       "E    3076.752475\n",
       "F    3724.886397\n",
       "G    3999.135671\n",
       "H    4486.669196\n",
       "I    5091.874954\n",
       "J    5323.818020\n",
       "Name: price, dtype: float64"
      ]
     },
     "execution_count": 22,
     "metadata": {},
     "output_type": "execute_result"
    }
   ],
   "source": [
    "df.groupby('color')['price'].mean() #группировка, агрегирование (aggregation)"
   ]
  },
  {
   "cell_type": "code",
   "execution_count": 23,
   "metadata": {
    "colab": {
     "base_uri": "https://localhost:8080/"
    },
    "id": "4AVAi5we60jH",
    "outputId": "61a1e274-da9a-4f1b-bc41-a8bccb7769f3"
   },
   "outputs": [
    {
     "data": {
      "text/plain": [
       "color\n",
       "J    5323.818020\n",
       "I    5091.874954\n",
       "H    4486.669196\n",
       "G    3999.135671\n",
       "F    3724.886397\n",
       "D    3169.954096\n",
       "E    3076.752475\n",
       "Name: price, dtype: float64"
      ]
     },
     "execution_count": 23,
     "metadata": {},
     "output_type": "execute_result"
    }
   ],
   "source": [
    "# применяем метод groupby\n",
    "#df.groupby(by='color')\n",
    "\n",
    "# выбираем интересующий столбец\n",
    "#df.groupby(by='color')['price']\n",
    "\n",
    "# выбираем, что хотим посчитать\n",
    "#df.groupby(by='color')['price'].mean()\n",
    "\n",
    "\n",
    "df.groupby(by='color')['price'].mean().sort_values(ascending=False)\n",
    "# на выходе pd.series"
   ]
  },
  {
   "cell_type": "code",
   "execution_count": 24,
   "metadata": {},
   "outputs": [
    {
     "data": {
      "text/plain": [
       "cut\n",
       "Premium      4584.257704\n",
       "Fair         4358.757764\n",
       "Very Good    3981.759891\n",
       "Good         3928.864452\n",
       "Ideal        3457.541970\n",
       "Name: price, dtype: float64"
      ]
     },
     "execution_count": 24,
     "metadata": {},
     "output_type": "execute_result"
    }
   ],
   "source": [
    "df.groupby(by='cut')['price'].mean().sort_values(ascending=False)"
   ]
  },
  {
   "cell_type": "code",
   "execution_count": 25,
   "metadata": {},
   "outputs": [
    {
     "data": {
      "text/plain": [
       "pandas.core.series.Series"
      ]
     },
     "execution_count": 25,
     "metadata": {},
     "output_type": "execute_result"
    }
   ],
   "source": [
    "type(df.groupby(by='cut')['price'].mean().sort_values(ascending=False)) #возрастающий True (default)"
   ]
  },
  {
   "cell_type": "code",
   "execution_count": 26,
   "metadata": {},
   "outputs": [
    {
     "data": {
      "text/plain": [
       "pandas.core.frame.DataFrame"
      ]
     },
     "execution_count": 26,
     "metadata": {},
     "output_type": "execute_result"
    }
   ],
   "source": [
    "type(df.groupby('color')[['price']].mean())"
   ]
  },
  {
   "cell_type": "code",
   "execution_count": 27,
   "metadata": {
    "colab": {
     "base_uri": "https://localhost:8080/",
     "height": 300
    },
    "id": "cDM2kFxC60jK",
    "outputId": "2e7ec8bd-7e28-44f2-d951-f66440d1c865"
   },
   "outputs": [
    {
     "data": {
      "text/html": [
       "<div>\n",
       "<style scoped>\n",
       "    .dataframe tbody tr th:only-of-type {\n",
       "        vertical-align: middle;\n",
       "    }\n",
       "\n",
       "    .dataframe tbody tr th {\n",
       "        vertical-align: top;\n",
       "    }\n",
       "\n",
       "    .dataframe thead th {\n",
       "        text-align: right;\n",
       "    }\n",
       "</style>\n",
       "<table border=\"1\" class=\"dataframe\">\n",
       "  <thead>\n",
       "    <tr style=\"text-align: right;\">\n",
       "      <th></th>\n",
       "      <th>price</th>\n",
       "    </tr>\n",
       "    <tr>\n",
       "      <th>color</th>\n",
       "      <th></th>\n",
       "    </tr>\n",
       "  </thead>\n",
       "  <tbody>\n",
       "    <tr>\n",
       "      <th>D</th>\n",
       "      <td>3169.954096</td>\n",
       "    </tr>\n",
       "    <tr>\n",
       "      <th>E</th>\n",
       "      <td>3076.752475</td>\n",
       "    </tr>\n",
       "    <tr>\n",
       "      <th>F</th>\n",
       "      <td>3724.886397</td>\n",
       "    </tr>\n",
       "    <tr>\n",
       "      <th>G</th>\n",
       "      <td>3999.135671</td>\n",
       "    </tr>\n",
       "    <tr>\n",
       "      <th>H</th>\n",
       "      <td>4486.669196</td>\n",
       "    </tr>\n",
       "    <tr>\n",
       "      <th>I</th>\n",
       "      <td>5091.874954</td>\n",
       "    </tr>\n",
       "    <tr>\n",
       "      <th>J</th>\n",
       "      <td>5323.818020</td>\n",
       "    </tr>\n",
       "  </tbody>\n",
       "</table>\n",
       "</div>"
      ],
      "text/plain": [
       "             price\n",
       "color             \n",
       "D      3169.954096\n",
       "E      3076.752475\n",
       "F      3724.886397\n",
       "G      3999.135671\n",
       "H      4486.669196\n",
       "I      5091.874954\n",
       "J      5323.818020"
      ]
     },
     "execution_count": 27,
     "metadata": {},
     "output_type": "execute_result"
    }
   ],
   "source": [
    "df.groupby('color')[['price']].mean()\n",
    "\n",
    "# на выходе pd.dataframe – посмотрите на разницу!"
   ]
  },
  {
   "cell_type": "code",
   "execution_count": 28,
   "metadata": {
    "colab": {
     "base_uri": "https://localhost:8080/",
     "height": 1000
    },
    "id": "bm_UD6bk60jN",
    "outputId": "e6c86def-e16b-4cb2-a9e6-aa6d8579c92e"
   },
   "outputs": [
    {
     "data": {
      "text/html": [
       "<div>\n",
       "<style scoped>\n",
       "    .dataframe tbody tr th:only-of-type {\n",
       "        vertical-align: middle;\n",
       "    }\n",
       "\n",
       "    .dataframe tbody tr th {\n",
       "        vertical-align: top;\n",
       "    }\n",
       "\n",
       "    .dataframe thead th {\n",
       "        text-align: right;\n",
       "    }\n",
       "</style>\n",
       "<table border=\"1\" class=\"dataframe\">\n",
       "  <thead>\n",
       "    <tr style=\"text-align: right;\">\n",
       "      <th></th>\n",
       "      <th></th>\n",
       "      <th>price</th>\n",
       "      <th>carat</th>\n",
       "    </tr>\n",
       "    <tr>\n",
       "      <th>color</th>\n",
       "      <th>cut</th>\n",
       "      <th></th>\n",
       "      <th></th>\n",
       "    </tr>\n",
       "  </thead>\n",
       "  <tbody>\n",
       "    <tr>\n",
       "      <th rowspan=\"5\" valign=\"top\">D</th>\n",
       "      <th>Fair</th>\n",
       "      <td>4291.061350</td>\n",
       "      <td>0.920123</td>\n",
       "    </tr>\n",
       "    <tr>\n",
       "      <th>Good</th>\n",
       "      <td>3405.382175</td>\n",
       "      <td>0.744517</td>\n",
       "    </tr>\n",
       "    <tr>\n",
       "      <th>Ideal</th>\n",
       "      <td>2629.094566</td>\n",
       "      <td>0.565766</td>\n",
       "    </tr>\n",
       "    <tr>\n",
       "      <th>Premium</th>\n",
       "      <td>3631.292576</td>\n",
       "      <td>0.721547</td>\n",
       "    </tr>\n",
       "    <tr>\n",
       "      <th>Very Good</th>\n",
       "      <td>3470.467284</td>\n",
       "      <td>0.696424</td>\n",
       "    </tr>\n",
       "    <tr>\n",
       "      <th rowspan=\"5\" valign=\"top\">E</th>\n",
       "      <th>Fair</th>\n",
       "      <td>3682.312500</td>\n",
       "      <td>0.856607</td>\n",
       "    </tr>\n",
       "    <tr>\n",
       "      <th>Good</th>\n",
       "      <td>3423.644159</td>\n",
       "      <td>0.745134</td>\n",
       "    </tr>\n",
       "    <tr>\n",
       "      <th>Ideal</th>\n",
       "      <td>2597.550090</td>\n",
       "      <td>0.578401</td>\n",
       "    </tr>\n",
       "    <tr>\n",
       "      <th>Premium</th>\n",
       "      <td>3538.914420</td>\n",
       "      <td>0.717745</td>\n",
       "    </tr>\n",
       "    <tr>\n",
       "      <th>Very Good</th>\n",
       "      <td>3214.652083</td>\n",
       "      <td>0.676317</td>\n",
       "    </tr>\n",
       "    <tr>\n",
       "      <th rowspan=\"5\" valign=\"top\">F</th>\n",
       "      <th>Fair</th>\n",
       "      <td>3827.003205</td>\n",
       "      <td>0.904712</td>\n",
       "    </tr>\n",
       "    <tr>\n",
       "      <th>Good</th>\n",
       "      <td>3495.750275</td>\n",
       "      <td>0.775930</td>\n",
       "    </tr>\n",
       "    <tr>\n",
       "      <th>Ideal</th>\n",
       "      <td>3374.939362</td>\n",
       "      <td>0.655829</td>\n",
       "    </tr>\n",
       "    <tr>\n",
       "      <th>Premium</th>\n",
       "      <td>4324.890176</td>\n",
       "      <td>0.827036</td>\n",
       "    </tr>\n",
       "    <tr>\n",
       "      <th>Very Good</th>\n",
       "      <td>3778.820240</td>\n",
       "      <td>0.740961</td>\n",
       "    </tr>\n",
       "    <tr>\n",
       "      <th rowspan=\"5\" valign=\"top\">G</th>\n",
       "      <th>Fair</th>\n",
       "      <td>4239.254777</td>\n",
       "      <td>1.023822</td>\n",
       "    </tr>\n",
       "    <tr>\n",
       "      <th>Good</th>\n",
       "      <td>4123.482204</td>\n",
       "      <td>0.850896</td>\n",
       "    </tr>\n",
       "    <tr>\n",
       "      <th>Ideal</th>\n",
       "      <td>3720.706388</td>\n",
       "      <td>0.700715</td>\n",
       "    </tr>\n",
       "    <tr>\n",
       "      <th>Premium</th>\n",
       "      <td>4500.742134</td>\n",
       "      <td>0.841488</td>\n",
       "    </tr>\n",
       "    <tr>\n",
       "      <th>Very Good</th>\n",
       "      <td>3872.753806</td>\n",
       "      <td>0.766799</td>\n",
       "    </tr>\n",
       "    <tr>\n",
       "      <th rowspan=\"5\" valign=\"top\">H</th>\n",
       "      <th>Fair</th>\n",
       "      <td>5135.683168</td>\n",
       "      <td>1.219175</td>\n",
       "    </tr>\n",
       "    <tr>\n",
       "      <th>Good</th>\n",
       "      <td>4276.254986</td>\n",
       "      <td>0.914729</td>\n",
       "    </tr>\n",
       "    <tr>\n",
       "      <th>Ideal</th>\n",
       "      <td>3889.334831</td>\n",
       "      <td>0.799525</td>\n",
       "    </tr>\n",
       "    <tr>\n",
       "      <th>Premium</th>\n",
       "      <td>5216.706780</td>\n",
       "      <td>1.016449</td>\n",
       "    </tr>\n",
       "    <tr>\n",
       "      <th>Very Good</th>\n",
       "      <td>4535.390351</td>\n",
       "      <td>0.915948</td>\n",
       "    </tr>\n",
       "    <tr>\n",
       "      <th rowspan=\"5\" valign=\"top\">I</th>\n",
       "      <th>Fair</th>\n",
       "      <td>4685.445714</td>\n",
       "      <td>1.198057</td>\n",
       "    </tr>\n",
       "    <tr>\n",
       "      <th>Good</th>\n",
       "      <td>5078.532567</td>\n",
       "      <td>1.057222</td>\n",
       "    </tr>\n",
       "    <tr>\n",
       "      <th>Ideal</th>\n",
       "      <td>4451.970377</td>\n",
       "      <td>0.913029</td>\n",
       "    </tr>\n",
       "    <tr>\n",
       "      <th>Premium</th>\n",
       "      <td>5946.180672</td>\n",
       "      <td>1.144937</td>\n",
       "    </tr>\n",
       "    <tr>\n",
       "      <th>Very Good</th>\n",
       "      <td>5255.879568</td>\n",
       "      <td>1.046952</td>\n",
       "    </tr>\n",
       "    <tr>\n",
       "      <th rowspan=\"5\" valign=\"top\">J</th>\n",
       "      <th>Fair</th>\n",
       "      <td>4975.655462</td>\n",
       "      <td>1.341176</td>\n",
       "    </tr>\n",
       "    <tr>\n",
       "      <th>Good</th>\n",
       "      <td>4574.172638</td>\n",
       "      <td>1.099544</td>\n",
       "    </tr>\n",
       "    <tr>\n",
       "      <th>Ideal</th>\n",
       "      <td>4918.186384</td>\n",
       "      <td>1.063594</td>\n",
       "    </tr>\n",
       "    <tr>\n",
       "      <th>Premium</th>\n",
       "      <td>6294.591584</td>\n",
       "      <td>1.293094</td>\n",
       "    </tr>\n",
       "    <tr>\n",
       "      <th>Very Good</th>\n",
       "      <td>5103.513274</td>\n",
       "      <td>1.133215</td>\n",
       "    </tr>\n",
       "  </tbody>\n",
       "</table>\n",
       "</div>"
      ],
      "text/plain": [
       "                       price     carat\n",
       "color cut                             \n",
       "D     Fair       4291.061350  0.920123\n",
       "      Good       3405.382175  0.744517\n",
       "      Ideal      2629.094566  0.565766\n",
       "      Premium    3631.292576  0.721547\n",
       "      Very Good  3470.467284  0.696424\n",
       "E     Fair       3682.312500  0.856607\n",
       "      Good       3423.644159  0.745134\n",
       "      Ideal      2597.550090  0.578401\n",
       "      Premium    3538.914420  0.717745\n",
       "      Very Good  3214.652083  0.676317\n",
       "F     Fair       3827.003205  0.904712\n",
       "      Good       3495.750275  0.775930\n",
       "      Ideal      3374.939362  0.655829\n",
       "      Premium    4324.890176  0.827036\n",
       "      Very Good  3778.820240  0.740961\n",
       "G     Fair       4239.254777  1.023822\n",
       "      Good       4123.482204  0.850896\n",
       "      Ideal      3720.706388  0.700715\n",
       "      Premium    4500.742134  0.841488\n",
       "      Very Good  3872.753806  0.766799\n",
       "H     Fair       5135.683168  1.219175\n",
       "      Good       4276.254986  0.914729\n",
       "      Ideal      3889.334831  0.799525\n",
       "      Premium    5216.706780  1.016449\n",
       "      Very Good  4535.390351  0.915948\n",
       "I     Fair       4685.445714  1.198057\n",
       "      Good       5078.532567  1.057222\n",
       "      Ideal      4451.970377  0.913029\n",
       "      Premium    5946.180672  1.144937\n",
       "      Very Good  5255.879568  1.046952\n",
       "J     Fair       4975.655462  1.341176\n",
       "      Good       4574.172638  1.099544\n",
       "      Ideal      4918.186384  1.063594\n",
       "      Premium    6294.591584  1.293094\n",
       "      Very Good  5103.513274  1.133215"
      ]
     },
     "execution_count": 28,
     "metadata": {},
     "output_type": "execute_result"
    }
   ],
   "source": [
    "df.groupby(['color','cut'])[['price','carat']].mean()\n",
    "\n",
    "\n",
    "list_for_grouping = ['color','cut']\n",
    "list_for_stats = ['price','carat']\n",
    "df.groupby(list_for_grouping)[list_for_stats].mean()\n",
    "\n"
   ]
  },
  {
   "cell_type": "markdown",
   "metadata": {
    "id": "7LCy0oc360jT"
   },
   "source": [
    "В pandas строено много способов построения простых графиков. Подробнее о них [тут](https://pandas.pydata.org/pandas-docs/stable/reference/api/pandas.DataFrame.plot.html). О более сложных позднее.\n",
    "\n",
    "Воспользуемся методом `.plot()` и построим столбчатую диаграмму (`kind='bar'`) средней цены бриллианта в зависимости от цвета."
   ]
  },
  {
   "cell_type": "code",
   "execution_count": 29,
   "metadata": {
    "colab": {
     "base_uri": "https://localhost:8080/",
     "height": 279
    },
    "id": "S51f4b6g60jU",
    "outputId": "794fd3b2-1f16-4665-e7ea-9409df620f7b"
   },
   "outputs": [
    {
     "data": {
      "image/png": "[encoded data removed]",
      "text/plain": [
       "<Figure size 432x288 with 1 Axes>"
      ]
     },
     "metadata": {
      "needs_background": "light"
     },
     "output_type": "display_data"
    }
   ],
   "source": [
    "# самый простой график\n",
    "df.groupby('color')['price'].mean().sort_values().plot();"
   ]
  },
  {
   "cell_type": "code",
   "execution_count": 30,
   "metadata": {
    "colab": {
     "base_uri": "https://localhost:8080/",
     "height": 277
    },
    "id": "sMNzhVIq60jW",
    "outputId": "49203bd9-96ac-4c0e-d328-443daf3ac4ff"
   },
   "outputs": [
    {
     "data": {
      "image/png": "[encoded data removed]",
      "text/plain": [
       "<Figure size 432x288 with 1 Axes>"
      ]
     },
     "metadata": {
      "needs_background": "light"
     },
     "output_type": "display_data"
    }
   ],
   "source": [
    "# столбчатый график\n",
    "df.groupby('color')['price'].mean().sort_values().plot(kind='bar');"
   ]
  },
  {
   "cell_type": "markdown",
   "metadata": {
    "id": "GdjlFjIt60jZ"
   },
   "source": [
    "Можно посмотреть сразу несколько характеристик с помощью метода `.agg(['some_char_1','some_char_2'])`у нескольких колонок"
   ]
  },
  {
   "cell_type": "code",
   "execution_count": 31,
   "metadata": {
    "colab": {
     "base_uri": "https://localhost:8080/",
     "height": 331
    },
    "id": "h-AW39sc60ja",
    "outputId": "464d324b-7c14-4828-e988-e5dd81df04f3"
   },
   "outputs": [
    {
     "data": {
      "text/html": [
       "<div>\n",
       "<style scoped>\n",
       "    .dataframe tbody tr th:only-of-type {\n",
       "        vertical-align: middle;\n",
       "    }\n",
       "\n",
       "    .dataframe tbody tr th {\n",
       "        vertical-align: top;\n",
       "    }\n",
       "\n",
       "    .dataframe thead tr th {\n",
       "        text-align: left;\n",
       "    }\n",
       "\n",
       "    .dataframe thead tr:last-of-type th {\n",
       "        text-align: right;\n",
       "    }\n",
       "</style>\n",
       "<table border=\"1\" class=\"dataframe\">\n",
       "  <thead>\n",
       "    <tr>\n",
       "      <th></th>\n",
       "      <th colspan=\"2\" halign=\"left\">price</th>\n",
       "      <th colspan=\"2\" halign=\"left\">carat</th>\n",
       "    </tr>\n",
       "    <tr>\n",
       "      <th></th>\n",
       "      <th>mean</th>\n",
       "      <th>median</th>\n",
       "      <th>mean</th>\n",
       "      <th>median</th>\n",
       "    </tr>\n",
       "    <tr>\n",
       "      <th>color</th>\n",
       "      <th></th>\n",
       "      <th></th>\n",
       "      <th></th>\n",
       "      <th></th>\n",
       "    </tr>\n",
       "  </thead>\n",
       "  <tbody>\n",
       "    <tr>\n",
       "      <th>D</th>\n",
       "      <td>3169.954096</td>\n",
       "      <td>1838.0</td>\n",
       "      <td>0.657795</td>\n",
       "      <td>0.53</td>\n",
       "    </tr>\n",
       "    <tr>\n",
       "      <th>E</th>\n",
       "      <td>3076.752475</td>\n",
       "      <td>1739.0</td>\n",
       "      <td>0.657867</td>\n",
       "      <td>0.53</td>\n",
       "    </tr>\n",
       "    <tr>\n",
       "      <th>F</th>\n",
       "      <td>3724.886397</td>\n",
       "      <td>2343.5</td>\n",
       "      <td>0.736538</td>\n",
       "      <td>0.70</td>\n",
       "    </tr>\n",
       "    <tr>\n",
       "      <th>G</th>\n",
       "      <td>3999.135671</td>\n",
       "      <td>2242.0</td>\n",
       "      <td>0.771190</td>\n",
       "      <td>0.70</td>\n",
       "    </tr>\n",
       "    <tr>\n",
       "      <th>H</th>\n",
       "      <td>4486.669196</td>\n",
       "      <td>3460.0</td>\n",
       "      <td>0.911799</td>\n",
       "      <td>0.90</td>\n",
       "    </tr>\n",
       "    <tr>\n",
       "      <th>I</th>\n",
       "      <td>5091.874954</td>\n",
       "      <td>3730.0</td>\n",
       "      <td>1.026927</td>\n",
       "      <td>1.00</td>\n",
       "    </tr>\n",
       "    <tr>\n",
       "      <th>J</th>\n",
       "      <td>5323.818020</td>\n",
       "      <td>4234.0</td>\n",
       "      <td>1.162137</td>\n",
       "      <td>1.11</td>\n",
       "    </tr>\n",
       "  </tbody>\n",
       "</table>\n",
       "</div>"
      ],
      "text/plain": [
       "             price             carat       \n",
       "              mean  median      mean median\n",
       "color                                      \n",
       "D      3169.954096  1838.0  0.657795   0.53\n",
       "E      3076.752475  1739.0  0.657867   0.53\n",
       "F      3724.886397  2343.5  0.736538   0.70\n",
       "G      3999.135671  2242.0  0.771190   0.70\n",
       "H      4486.669196  3460.0  0.911799   0.90\n",
       "I      5091.874954  3730.0  1.026927   1.00\n",
       "J      5323.818020  4234.0  1.162137   1.11"
      ]
     },
     "execution_count": 31,
     "metadata": {},
     "output_type": "execute_result"
    }
   ],
   "source": [
    "groupped = df.groupby('color')[['price', 'carat']].agg(['mean','median']) #aggregation\n",
    "groupped"
   ]
  },
  {
   "cell_type": "code",
   "execution_count": 32,
   "metadata": {
    "id": "LKJvdHu9wQxI"
   },
   "outputs": [],
   "source": [
    "groupped.to_csv('my_tittle_groupped.csv')"
   ]
  },
  {
   "cell_type": "code",
   "execution_count": 33,
   "metadata": {},
   "outputs": [],
   "source": [
    "groupped.to_excel('my_tittle_groupped.xlsx', encoding='utf-8')"
   ]
  },
  {
   "cell_type": "code",
   "execution_count": 34,
   "metadata": {},
   "outputs": [],
   "source": [
    "import matplotlib.pyplot as plt"
   ]
  },
  {
   "cell_type": "code",
   "execution_count": 35,
   "metadata": {
    "colab": {
     "base_uri": "https://localhost:8080/",
     "height": 295
    },
    "id": "4D-Qt_sG60jf",
    "outputId": "06394e2f-4980-4ff8-cd5d-bc2b1aedbce9"
   },
   "outputs": [
    {
     "data": {
      "image/png": "[encoded data removed]",
      "text/plain": [
       "<Figure size 432x288 with 1 Axes>"
      ]
     },
     "metadata": {
      "needs_background": "light"
     },
     "output_type": "display_data"
    }
   ],
   "source": [
    "ax = df.groupby('color')['price'].agg(['mean','median']).plot(kind='bar');\n",
    "\n",
    "fig = ax.get_figure() #забрать фигуру (оси, значения, фон)\n",
    "\n",
    "ax.tick_params(axis='x', colors='green')\n",
    "ax.tick_params(axis='y', colors='red')\n",
    "\n",
    "fig.savefig('graph.png')"
   ]
  },
  {
   "cell_type": "markdown",
   "metadata": {
    "id": "M6tK5bnU60ji"
   },
   "source": [
    "![title](https://i.imgur.com/6PannTm.jpg)\n",
    "\n",
    "Можно строить сложные сводные таблицы. \n",
    "\n",
    "Например, можно посмотреть на среднюю цену бриллианта в зависимости от цвета (color) и качества огранки (cut)"
   ]
  },
  {
   "cell_type": "code",
   "execution_count": 23,
   "metadata": {
    "colab": {
     "base_uri": "https://localhost:8080/",
     "height": 312
    },
    "id": "-i9eJLld60ji",
    "outputId": "2aca5e8e-96ae-47fd-e82f-2c0391cb6293"
   },
   "outputs": [
    {
     "data": {
      "text/html": [
       "<div>\n",
       "<style scoped>\n",
       "    .dataframe tbody tr th:only-of-type {\n",
       "        vertical-align: middle;\n",
       "    }\n",
       "\n",
       "    .dataframe tbody tr th {\n",
       "        vertical-align: top;\n",
       "    }\n",
       "\n",
       "    .dataframe thead th {\n",
       "        text-align: right;\n",
       "    }\n",
       "</style>\n",
       "<table border=\"1\" class=\"dataframe\">\n",
       "  <thead>\n",
       "    <tr style=\"text-align: right;\">\n",
       "      <th>color</th>\n",
       "      <th>D</th>\n",
       "      <th>E</th>\n",
       "      <th>F</th>\n",
       "      <th>G</th>\n",
       "      <th>H</th>\n",
       "      <th>I</th>\n",
       "      <th>J</th>\n",
       "      <th>All</th>\n",
       "    </tr>\n",
       "    <tr>\n",
       "      <th>cut</th>\n",
       "      <th></th>\n",
       "      <th></th>\n",
       "      <th></th>\n",
       "      <th></th>\n",
       "      <th></th>\n",
       "      <th></th>\n",
       "      <th></th>\n",
       "      <th></th>\n",
       "    </tr>\n",
       "  </thead>\n",
       "  <tbody>\n",
       "    <tr>\n",
       "      <th>Fair</th>\n",
       "      <td>4291.061350</td>\n",
       "      <td>3682.312500</td>\n",
       "      <td>3827.003205</td>\n",
       "      <td>4239.254777</td>\n",
       "      <td>5135.683168</td>\n",
       "      <td>4685.445714</td>\n",
       "      <td>4975.655462</td>\n",
       "      <td>4358.757764</td>\n",
       "    </tr>\n",
       "    <tr>\n",
       "      <th>Good</th>\n",
       "      <td>3405.382175</td>\n",
       "      <td>3423.644159</td>\n",
       "      <td>3495.750275</td>\n",
       "      <td>4123.482204</td>\n",
       "      <td>4276.254986</td>\n",
       "      <td>5078.532567</td>\n",
       "      <td>4574.172638</td>\n",
       "      <td>3928.864452</td>\n",
       "    </tr>\n",
       "    <tr>\n",
       "      <th>Ideal</th>\n",
       "      <td>2629.094566</td>\n",
       "      <td>2597.550090</td>\n",
       "      <td>3374.939362</td>\n",
       "      <td>3720.706388</td>\n",
       "      <td>3889.334831</td>\n",
       "      <td>4451.970377</td>\n",
       "      <td>4918.186384</td>\n",
       "      <td>3457.541970</td>\n",
       "    </tr>\n",
       "    <tr>\n",
       "      <th>Premium</th>\n",
       "      <td>3631.292576</td>\n",
       "      <td>3538.914420</td>\n",
       "      <td>4324.890176</td>\n",
       "      <td>4500.742134</td>\n",
       "      <td>5216.706780</td>\n",
       "      <td>5946.180672</td>\n",
       "      <td>6294.591584</td>\n",
       "      <td>4584.257704</td>\n",
       "    </tr>\n",
       "    <tr>\n",
       "      <th>Very Good</th>\n",
       "      <td>3470.467284</td>\n",
       "      <td>3214.652083</td>\n",
       "      <td>3778.820240</td>\n",
       "      <td>3872.753806</td>\n",
       "      <td>4535.390351</td>\n",
       "      <td>5255.879568</td>\n",
       "      <td>5103.513274</td>\n",
       "      <td>3981.759891</td>\n",
       "    </tr>\n",
       "    <tr>\n",
       "      <th>All</th>\n",
       "      <td>3169.954096</td>\n",
       "      <td>3076.752475</td>\n",
       "      <td>3724.886397</td>\n",
       "      <td>3999.135671</td>\n",
       "      <td>4486.669196</td>\n",
       "      <td>5091.874954</td>\n",
       "      <td>5323.818020</td>\n",
       "      <td>3932.799722</td>\n",
       "    </tr>\n",
       "  </tbody>\n",
       "</table>\n",
       "</div>"
      ],
      "text/plain": [
       "color                D            E            F            G            H  \\\n",
       "cut                                                                          \n",
       "Fair       4291.061350  3682.312500  3827.003205  4239.254777  5135.683168   \n",
       "Good       3405.382175  3423.644159  3495.750275  4123.482204  4276.254986   \n",
       "Ideal      2629.094566  2597.550090  3374.939362  3720.706388  3889.334831   \n",
       "Premium    3631.292576  3538.914420  4324.890176  4500.742134  5216.706780   \n",
       "Very Good  3470.467284  3214.652083  3778.820240  3872.753806  4535.390351   \n",
       "All        3169.954096  3076.752475  3724.886397  3999.135671  4486.669196   \n",
       "\n",
       "color                I            J          All  \n",
       "cut                                               \n",
       "Fair       4685.445714  4975.655462  4358.757764  \n",
       "Good       5078.532567  4574.172638  3928.864452  \n",
       "Ideal      4451.970377  4918.186384  3457.541970  \n",
       "Premium    5946.180672  6294.591584  4584.257704  \n",
       "Very Good  5255.879568  5103.513274  3981.759891  \n",
       "All        5091.874954  5323.818020  3932.799722  "
      ]
     },
     "execution_count": 23,
     "metadata": {},
     "output_type": "execute_result"
    }
   ],
   "source": [
    "# columns='color' - что будет колонками в сводной таблице\n",
    "# index='cut' - что будет строками в сводной таблице\n",
    "# values='price' - какую колонку будем использовать для подсчета чего-нибудь\n",
    "# aggfunc='mean' - что будем считать\n",
    "# margins - добавляет среднее по всей категории\n",
    "\n",
    "df.pivot_table(values='price', columns='color', index='cut', aggfunc='mean', margins=True)"
   ]
  },
  {
   "cell_type": "code",
   "execution_count": 37,
   "metadata": {
    "colab": {
     "base_uri": "https://localhost:8080/",
     "height": 300
    },
    "id": "uUvxo_LXuYeF",
    "outputId": "4b19c203-4cf0-4f44-9768-4562e83a61c4"
   },
   "outputs": [
    {
     "data": {
      "text/html": [
       "<div>\n",
       "<style scoped>\n",
       "    .dataframe tbody tr th:only-of-type {\n",
       "        vertical-align: middle;\n",
       "    }\n",
       "\n",
       "    .dataframe tbody tr th {\n",
       "        vertical-align: top;\n",
       "    }\n",
       "\n",
       "    .dataframe thead th {\n",
       "        text-align: right;\n",
       "    }\n",
       "</style>\n",
       "<table border=\"1\" class=\"dataframe\">\n",
       "  <thead>\n",
       "    <tr style=\"text-align: right;\">\n",
       "      <th>cut</th>\n",
       "      <th>Fair</th>\n",
       "      <th>Good</th>\n",
       "      <th>Ideal</th>\n",
       "      <th>Premium</th>\n",
       "      <th>Very Good</th>\n",
       "    </tr>\n",
       "    <tr>\n",
       "      <th>color</th>\n",
       "      <th></th>\n",
       "      <th></th>\n",
       "      <th></th>\n",
       "      <th></th>\n",
       "      <th></th>\n",
       "    </tr>\n",
       "  </thead>\n",
       "  <tbody>\n",
       "    <tr>\n",
       "      <th>D</th>\n",
       "      <td>4291.061350</td>\n",
       "      <td>3405.382175</td>\n",
       "      <td>2629.094566</td>\n",
       "      <td>3631.292576</td>\n",
       "      <td>3470.467284</td>\n",
       "    </tr>\n",
       "    <tr>\n",
       "      <th>E</th>\n",
       "      <td>3682.312500</td>\n",
       "      <td>3423.644159</td>\n",
       "      <td>2597.550090</td>\n",
       "      <td>3538.914420</td>\n",
       "      <td>3214.652083</td>\n",
       "    </tr>\n",
       "    <tr>\n",
       "      <th>F</th>\n",
       "      <td>3827.003205</td>\n",
       "      <td>3495.750275</td>\n",
       "      <td>3374.939362</td>\n",
       "      <td>4324.890176</td>\n",
       "      <td>3778.820240</td>\n",
       "    </tr>\n",
       "    <tr>\n",
       "      <th>G</th>\n",
       "      <td>4239.254777</td>\n",
       "      <td>4123.482204</td>\n",
       "      <td>3720.706388</td>\n",
       "      <td>4500.742134</td>\n",
       "      <td>3872.753806</td>\n",
       "    </tr>\n",
       "    <tr>\n",
       "      <th>H</th>\n",
       "      <td>5135.683168</td>\n",
       "      <td>4276.254986</td>\n",
       "      <td>3889.334831</td>\n",
       "      <td>5216.706780</td>\n",
       "      <td>4535.390351</td>\n",
       "    </tr>\n",
       "    <tr>\n",
       "      <th>I</th>\n",
       "      <td>4685.445714</td>\n",
       "      <td>5078.532567</td>\n",
       "      <td>4451.970377</td>\n",
       "      <td>5946.180672</td>\n",
       "      <td>5255.879568</td>\n",
       "    </tr>\n",
       "    <tr>\n",
       "      <th>J</th>\n",
       "      <td>4975.655462</td>\n",
       "      <td>4574.172638</td>\n",
       "      <td>4918.186384</td>\n",
       "      <td>6294.591584</td>\n",
       "      <td>5103.513274</td>\n",
       "    </tr>\n",
       "  </tbody>\n",
       "</table>\n",
       "</div>"
      ],
      "text/plain": [
       "cut           Fair         Good        Ideal      Premium    Very Good\n",
       "color                                                                 \n",
       "D      4291.061350  3405.382175  2629.094566  3631.292576  3470.467284\n",
       "E      3682.312500  3423.644159  2597.550090  3538.914420  3214.652083\n",
       "F      3827.003205  3495.750275  3374.939362  4324.890176  3778.820240\n",
       "G      4239.254777  4123.482204  3720.706388  4500.742134  3872.753806\n",
       "H      5135.683168  4276.254986  3889.334831  5216.706780  4535.390351\n",
       "I      4685.445714  5078.532567  4451.970377  5946.180672  5255.879568\n",
       "J      4975.655462  4574.172638  4918.186384  6294.591584  5103.513274"
      ]
     },
     "execution_count": 37,
     "metadata": {},
     "output_type": "execute_result"
    }
   ],
   "source": [
    "# так лучше не писать\n",
    "df.pivot_table('price','color','cut','mean')"
   ]
  },
  {
   "cell_type": "code",
   "execution_count": 38,
   "metadata": {
    "colab": {
     "base_uri": "https://localhost:8080/",
     "height": 297
    },
    "id": "Y_nS4kgd60jl",
    "outputId": "84e50957-a8ad-4d97-9d77-28b2bb23aefa"
   },
   "outputs": [
    {
     "data": {
      "image/png": "[encoded data removed]",
      "text/plain": [
       "<Figure size 432x288 with 1 Axes>"
      ]
     },
     "metadata": {
      "needs_background": "light"
     },
     "output_type": "display_data"
    }
   ],
   "source": [
    "df.pivot_table(columns='color', index='cut', values='price', aggfunc='mean').sort_values(by='J').plot();"
   ]
  },
  {
   "cell_type": "code",
   "execution_count": 24,
   "metadata": {},
   "outputs": [
    {
     "ename": "NameError",
     "evalue": "name 'ax' is not defined",
     "output_type": "error",
     "traceback": [
      "\u001b[1;31m---------------------------------------------------------------------------\u001b[0m",
      "\u001b[1;31mNameError\u001b[0m                                 Traceback (most recent call last)",
      "\u001b[1;32m<ipython-input-24-720b0d502174>\u001b[0m in \u001b[0;36m<module>\u001b[1;34m\u001b[0m\n\u001b[1;32m----> 1\u001b[1;33m \u001b[0mfig\u001b[0m \u001b[1;33m=\u001b[0m \u001b[0max\u001b[0m\u001b[1;33m.\u001b[0m\u001b[0mget_figure\u001b[0m\u001b[1;33m(\u001b[0m\u001b[1;33m)\u001b[0m\u001b[1;33m\u001b[0m\u001b[1;33m\u001b[0m\u001b[0m\n\u001b[0m\u001b[0;32m      2\u001b[0m \u001b[0mfig\u001b[0m\u001b[1;33m.\u001b[0m\u001b[0msavefig\u001b[0m\u001b[1;33m(\u001b[0m\u001b[1;34m'/path/to/figure.pdf'\u001b[0m\u001b[1;33m)\u001b[0m\u001b[1;33m\u001b[0m\u001b[1;33m\u001b[0m\u001b[0m\n",
      "\u001b[1;31mNameError\u001b[0m: name 'ax' is not defined"
     ]
    }
   ],
   "source": [
    "fig = ax.get_figure()\n",
    "fig.savefig('/path/to/figure.pdf')"
   ]
  },
  {
   "cell_type": "markdown",
   "metadata": {
    "id": "QhRKuyga60jo"
   },
   "source": [
    "### Уникальные значения"
   ]
  },
  {
   "cell_type": "markdown",
   "metadata": {
    "id": "AdbzQWxb60jo"
   },
   "source": [
    "Посмотрим, как часто бриллианты различного качества (колонка cut) встречаются в датасете, с помощью метода `.value_counts()`"
   ]
  },
  {
   "cell_type": "code",
   "execution_count": null,
   "metadata": {
    "colab": {
     "base_uri": "https://localhost:8080/"
    },
    "id": "q0ENggMg60jp",
    "outputId": "b2c99ef4-e7c7-4791-f4b0-dd6e36e8223c"
   },
   "outputs": [],
   "source": [
    "df['cut']"
   ]
  },
  {
   "cell_type": "code",
   "execution_count": null,
   "metadata": {
    "colab": {
     "base_uri": "https://localhost:8080/"
    },
    "id": "YmjdOCsx60js",
    "outputId": "a03939eb-86fb-40e4-c21f-901bced5b071"
   },
   "outputs": [],
   "source": [
    "df['cut'].value_counts() #абсолютные значения"
   ]
  },
  {
   "cell_type": "code",
   "execution_count": null,
   "metadata": {
    "id": "TLcxQZop60ju"
   },
   "outputs": [],
   "source": [
    "# посмотрим аргументы\n",
    "?pd.value_counts"
   ]
  },
  {
   "cell_type": "code",
   "execution_count": null,
   "metadata": {
    "colab": {
     "base_uri": "https://localhost:8080/"
    },
    "id": "IW0MskXK60jx",
    "outputId": "1607539b-451b-4cbb-f255-96e91e82083d"
   },
   "outputs": [],
   "source": [
    "df['cut'].value_counts(normalize=True) #относительные доли"
   ]
  },
  {
   "cell_type": "code",
   "execution_count": null,
   "metadata": {},
   "outputs": [],
   "source": [
    "df['cut'].value_counts(normalize=True) * 100"
   ]
  },
  {
   "cell_type": "markdown",
   "metadata": {
    "id": "mZXJodzb60j2"
   },
   "source": [
    "Просто посмотреть уникальные категории в колонке можно с помощью метода `.unique()`"
   ]
  },
  {
   "cell_type": "code",
   "execution_count": null,
   "metadata": {
    "colab": {
     "base_uri": "https://localhost:8080/"
    },
    "id": "3gQyyTZ-60j2",
    "outputId": "38b29a78-8425-4c7d-c4b4-3b5d4fb1b28e"
   },
   "outputs": [],
   "source": [
    "list(df['cut'].unique())"
   ]
  },
  {
   "cell_type": "markdown",
   "metadata": {
    "id": "DKRPwV6V60j6"
   },
   "source": [
    "А просто количество уникальных категорий (или значений) можно посмотреть с помощью метода `.nunique()`"
   ]
  },
  {
   "cell_type": "code",
   "execution_count": null,
   "metadata": {
    "colab": {
     "base_uri": "https://localhost:8080/"
    },
    "id": "2Wt5SS5T60j6",
    "outputId": "8b2a677a-0ab2-4856-c516-bef117b474b4"
   },
   "outputs": [],
   "source": [
    "df['cut'].nunique() #number of unique"
   ]
  },
  {
   "cell_type": "code",
   "execution_count": null,
   "metadata": {
    "colab": {
     "base_uri": "https://localhost:8080/",
     "height": 248
    },
    "id": "N6KD9pBm60j9",
    "outputId": "0d5c8458-99e5-4fff-e8f5-ca0f59315664"
   },
   "outputs": [],
   "source": [
    "df['cut'].value_counts().plot(kind='pie');"
   ]
  },
  {
   "cell_type": "markdown",
   "metadata": {
    "id": "oohk75LX60kD"
   },
   "source": [
    "## Гистограмма распределения"
   ]
  },
  {
   "cell_type": "code",
   "execution_count": null,
   "metadata": {
    "colab": {
     "base_uri": "https://localhost:8080/"
    },
    "id": "dXljIojR60kE",
    "outputId": "60ce0e32-e9d4-4421-d70e-eb8ae963e77e"
   },
   "outputs": [],
   "source": [
    "df['price'].describe()"
   ]
  },
  {
   "cell_type": "code",
   "execution_count": null,
   "metadata": {
    "colab": {
     "base_uri": "https://localhost:8080/",
     "height": 265
    },
    "id": "pgF9Wc7z60kG",
    "outputId": "e8990b89-8d2b-49bf-c5f9-6903ff7eb83e"
   },
   "outputs": [],
   "source": [
    "df['price'].plot(kind='hist', bins=30);"
   ]
  },
  {
   "cell_type": "code",
   "execution_count": 25,
   "metadata": {
    "colab": {
     "base_uri": "https://localhost:8080/",
     "height": 265
    },
    "id": "qHvxZnhip3dl",
    "outputId": "67891415-bb53-4255-d014-aaa1ba91d7cf"
   },
   "outputs": [
    {
     "data": {
      "image/png": "[encoded data removed]",
      "text/plain": [
       "<Figure size 432x288 with 1 Axes>"
      ]
     },
     "metadata": {
      "needs_background": "light"
     },
     "output_type": "display_data"
    }
   ],
   "source": [
    "df['price'].plot(kind='box'); #ящик-с-усами Box-Whisker plot"
   ]
  },
  {
   "cell_type": "markdown",
   "metadata": {
    "id": "Fw_rxPVr60kJ"
   },
   "source": [
    "### Среднее, медиана, мода\n",
    "\n",
    "<img src='https://i.pinimg.com/originals/5e/70/90/5e70902088cb6036fa8954327c426aa4.png' width=300>"
   ]
  },
  {
   "cell_type": "markdown",
   "metadata": {
    "id": "WZ5qpXJZ60kJ"
   },
   "source": [
    "## Создаем и удаляем колонки"
   ]
  },
  {
   "cell_type": "code",
   "execution_count": 26,
   "metadata": {
    "colab": {
     "base_uri": "https://localhost:8080/",
     "height": 206
    },
    "id": "_hIUbefW60kK",
    "outputId": "88b1cd9d-8ed4-4e54-a7be-6f9849c1f528"
   },
   "outputs": [
    {
     "data": {
      "text/html": [
       "<div>\n",
       "<style scoped>\n",
       "    .dataframe tbody tr th:only-of-type {\n",
       "        vertical-align: middle;\n",
       "    }\n",
       "\n",
       "    .dataframe tbody tr th {\n",
       "        vertical-align: top;\n",
       "    }\n",
       "\n",
       "    .dataframe thead th {\n",
       "        text-align: right;\n",
       "    }\n",
       "</style>\n",
       "<table border=\"1\" class=\"dataframe\">\n",
       "  <thead>\n",
       "    <tr style=\"text-align: right;\">\n",
       "      <th></th>\n",
       "      <th>carat</th>\n",
       "      <th>cut</th>\n",
       "      <th>color</th>\n",
       "      <th>clarity</th>\n",
       "      <th>depth</th>\n",
       "      <th>table</th>\n",
       "      <th>price</th>\n",
       "      <th>x</th>\n",
       "      <th>y</th>\n",
       "      <th>z</th>\n",
       "    </tr>\n",
       "  </thead>\n",
       "  <tbody>\n",
       "    <tr>\n",
       "      <th>1</th>\n",
       "      <td>0.23</td>\n",
       "      <td>Ideal</td>\n",
       "      <td>E</td>\n",
       "      <td>SI2</td>\n",
       "      <td>61.5</td>\n",
       "      <td>55.0</td>\n",
       "      <td>326</td>\n",
       "      <td>3.95</td>\n",
       "      <td>3.98</td>\n",
       "      <td>2.43</td>\n",
       "    </tr>\n",
       "    <tr>\n",
       "      <th>2</th>\n",
       "      <td>0.21</td>\n",
       "      <td>Premium</td>\n",
       "      <td>E</td>\n",
       "      <td>SI1</td>\n",
       "      <td>59.8</td>\n",
       "      <td>61.0</td>\n",
       "      <td>326</td>\n",
       "      <td>3.89</td>\n",
       "      <td>3.84</td>\n",
       "      <td>2.31</td>\n",
       "    </tr>\n",
       "    <tr>\n",
       "      <th>3</th>\n",
       "      <td>0.23</td>\n",
       "      <td>Good</td>\n",
       "      <td>E</td>\n",
       "      <td>VS1</td>\n",
       "      <td>56.9</td>\n",
       "      <td>65.0</td>\n",
       "      <td>327</td>\n",
       "      <td>4.05</td>\n",
       "      <td>4.07</td>\n",
       "      <td>2.31</td>\n",
       "    </tr>\n",
       "    <tr>\n",
       "      <th>4</th>\n",
       "      <td>0.29</td>\n",
       "      <td>Premium</td>\n",
       "      <td>I</td>\n",
       "      <td>VS2</td>\n",
       "      <td>62.4</td>\n",
       "      <td>58.0</td>\n",
       "      <td>334</td>\n",
       "      <td>4.20</td>\n",
       "      <td>4.23</td>\n",
       "      <td>2.63</td>\n",
       "    </tr>\n",
       "    <tr>\n",
       "      <th>5</th>\n",
       "      <td>0.31</td>\n",
       "      <td>Good</td>\n",
       "      <td>J</td>\n",
       "      <td>SI2</td>\n",
       "      <td>63.3</td>\n",
       "      <td>58.0</td>\n",
       "      <td>335</td>\n",
       "      <td>4.34</td>\n",
       "      <td>4.35</td>\n",
       "      <td>2.75</td>\n",
       "    </tr>\n",
       "  </tbody>\n",
       "</table>\n",
       "</div>"
      ],
      "text/plain": [
       "   carat      cut color clarity  depth  table  price     x     y     z\n",
       "1   0.23    Ideal     E     SI2   61.5   55.0    326  3.95  3.98  2.43\n",
       "2   0.21  Premium     E     SI1   59.8   61.0    326  3.89  3.84  2.31\n",
       "3   0.23     Good     E     VS1   56.9   65.0    327  4.05  4.07  2.31\n",
       "4   0.29  Premium     I     VS2   62.4   58.0    334  4.20  4.23  2.63\n",
       "5   0.31     Good     J     SI2   63.3   58.0    335  4.34  4.35  2.75"
      ]
     },
     "execution_count": 26,
     "metadata": {},
     "output_type": "execute_result"
    }
   ],
   "source": [
    "df.head()\n",
    "# feature engineering"
   ]
  },
  {
   "cell_type": "markdown",
   "metadata": {
    "id": "kPbkHgtp60kM"
   },
   "source": [
    "Добавим в таблицу новую колонку объем бриллианта (volume), используя длину, высоту и глубину брилланта"
   ]
  },
  {
   "cell_type": "code",
   "execution_count": 27,
   "metadata": {
    "colab": {
     "base_uri": "https://localhost:8080/"
    },
    "id": "Njz6ul7060kN",
    "outputId": "a1a84cc1-b167-4e99-8be5-0b7238da8163"
   },
   "outputs": [
    {
     "data": {
      "text/plain": [
       "1        3.95\n",
       "2        3.89\n",
       "3        4.05\n",
       "4        4.20\n",
       "5        4.34\n",
       "         ... \n",
       "53936    5.75\n",
       "53937    5.69\n",
       "53938    5.66\n",
       "53939    6.15\n",
       "53940    5.83\n",
       "Name: x, Length: 53940, dtype: float64"
      ]
     },
     "execution_count": 27,
     "metadata": {},
     "output_type": "execute_result"
    }
   ],
   "source": [
    "df['x']"
   ]
  },
  {
   "cell_type": "code",
   "execution_count": 28,
   "metadata": {
    "colab": {
     "base_uri": "https://localhost:8080/"
    },
    "id": "_vuvZ9X560kR",
    "outputId": "759e58fa-700c-4089-8184-84c09d90a408"
   },
   "outputs": [
    {
     "data": {
      "text/plain": [
       "1        3.98\n",
       "2        3.84\n",
       "3        4.07\n",
       "4        4.23\n",
       "5        4.35\n",
       "         ... \n",
       "53936    5.76\n",
       "53937    5.75\n",
       "53938    5.68\n",
       "53939    6.12\n",
       "53940    5.87\n",
       "Name: y, Length: 53940, dtype: float64"
      ]
     },
     "execution_count": 28,
     "metadata": {},
     "output_type": "execute_result"
    }
   ],
   "source": [
    "df['y']"
   ]
  },
  {
   "cell_type": "code",
   "execution_count": 29,
   "metadata": {
    "colab": {
     "base_uri": "https://localhost:8080/"
    },
    "id": "3Bpvnqj460kU",
    "outputId": "ed85ee74-5162-4c21-e24b-d94a9f6648d8"
   },
   "outputs": [
    {
     "data": {
      "text/plain": [
       "1        2.43\n",
       "2        2.31\n",
       "3        2.31\n",
       "4        2.63\n",
       "5        2.75\n",
       "         ... \n",
       "53936    3.50\n",
       "53937    3.61\n",
       "53938    3.56\n",
       "53939    3.74\n",
       "53940    3.64\n",
       "Name: z, Length: 53940, dtype: float64"
      ]
     },
     "execution_count": 29,
     "metadata": {},
     "output_type": "execute_result"
    }
   ],
   "source": [
    "df['z']"
   ]
  },
  {
   "cell_type": "code",
   "execution_count": 30,
   "metadata": {
    "colab": {
     "base_uri": "https://localhost:8080/"
    },
    "id": "dy4nhAxV60kX",
    "outputId": "aab5e386-acfb-4f19-9d9b-c52fcda57164"
   },
   "outputs": [
    {
     "data": {
      "text/plain": [
       "1         9.6714\n",
       "2         8.8704\n",
       "3         9.4017\n",
       "4        11.1249\n",
       "5        11.9625\n",
       "          ...   \n",
       "53936    20.1600\n",
       "53937    20.7575\n",
       "53938    20.2208\n",
       "53939    22.8888\n",
       "53940    21.3668\n",
       "Length: 53940, dtype: float64"
      ]
     },
     "execution_count": 30,
     "metadata": {},
     "output_type": "execute_result"
    }
   ],
   "source": [
    "df['z'] * df['y']"
   ]
  },
  {
   "cell_type": "code",
   "execution_count": 31,
   "metadata": {
    "id": "ZRUo6-xd60kb"
   },
   "outputs": [],
   "source": [
    "df['volume'] = df['x'] * df['y'] * df['z']"
   ]
  },
  {
   "cell_type": "code",
   "execution_count": 32,
   "metadata": {
    "colab": {
     "base_uri": "https://localhost:8080/",
     "height": 206
    },
    "id": "RzYDezlo60kg",
    "outputId": "804330f2-b0f6-4245-d243-aed174247cd3"
   },
   "outputs": [
    {
     "data": {
      "text/html": [
       "<div>\n",
       "<style scoped>\n",
       "    .dataframe tbody tr th:only-of-type {\n",
       "        vertical-align: middle;\n",
       "    }\n",
       "\n",
       "    .dataframe tbody tr th {\n",
       "        vertical-align: top;\n",
       "    }\n",
       "\n",
       "    .dataframe thead th {\n",
       "        text-align: right;\n",
       "    }\n",
       "</style>\n",
       "<table border=\"1\" class=\"dataframe\">\n",
       "  <thead>\n",
       "    <tr style=\"text-align: right;\">\n",
       "      <th></th>\n",
       "      <th>carat</th>\n",
       "      <th>cut</th>\n",
       "      <th>color</th>\n",
       "      <th>clarity</th>\n",
       "      <th>depth</th>\n",
       "      <th>table</th>\n",
       "      <th>price</th>\n",
       "      <th>x</th>\n",
       "      <th>y</th>\n",
       "      <th>z</th>\n",
       "      <th>volume</th>\n",
       "    </tr>\n",
       "  </thead>\n",
       "  <tbody>\n",
       "    <tr>\n",
       "      <th>1</th>\n",
       "      <td>0.23</td>\n",
       "      <td>Ideal</td>\n",
       "      <td>E</td>\n",
       "      <td>SI2</td>\n",
       "      <td>61.5</td>\n",
       "      <td>55.0</td>\n",
       "      <td>326</td>\n",
       "      <td>3.95</td>\n",
       "      <td>3.98</td>\n",
       "      <td>2.43</td>\n",
       "      <td>38.202030</td>\n",
       "    </tr>\n",
       "    <tr>\n",
       "      <th>2</th>\n",
       "      <td>0.21</td>\n",
       "      <td>Premium</td>\n",
       "      <td>E</td>\n",
       "      <td>SI1</td>\n",
       "      <td>59.8</td>\n",
       "      <td>61.0</td>\n",
       "      <td>326</td>\n",
       "      <td>3.89</td>\n",
       "      <td>3.84</td>\n",
       "      <td>2.31</td>\n",
       "      <td>34.505856</td>\n",
       "    </tr>\n",
       "    <tr>\n",
       "      <th>3</th>\n",
       "      <td>0.23</td>\n",
       "      <td>Good</td>\n",
       "      <td>E</td>\n",
       "      <td>VS1</td>\n",
       "      <td>56.9</td>\n",
       "      <td>65.0</td>\n",
       "      <td>327</td>\n",
       "      <td>4.05</td>\n",
       "      <td>4.07</td>\n",
       "      <td>2.31</td>\n",
       "      <td>38.076885</td>\n",
       "    </tr>\n",
       "    <tr>\n",
       "      <th>4</th>\n",
       "      <td>0.29</td>\n",
       "      <td>Premium</td>\n",
       "      <td>I</td>\n",
       "      <td>VS2</td>\n",
       "      <td>62.4</td>\n",
       "      <td>58.0</td>\n",
       "      <td>334</td>\n",
       "      <td>4.20</td>\n",
       "      <td>4.23</td>\n",
       "      <td>2.63</td>\n",
       "      <td>46.724580</td>\n",
       "    </tr>\n",
       "    <tr>\n",
       "      <th>5</th>\n",
       "      <td>0.31</td>\n",
       "      <td>Good</td>\n",
       "      <td>J</td>\n",
       "      <td>SI2</td>\n",
       "      <td>63.3</td>\n",
       "      <td>58.0</td>\n",
       "      <td>335</td>\n",
       "      <td>4.34</td>\n",
       "      <td>4.35</td>\n",
       "      <td>2.75</td>\n",
       "      <td>51.917250</td>\n",
       "    </tr>\n",
       "  </tbody>\n",
       "</table>\n",
       "</div>"
      ],
      "text/plain": [
       "   carat      cut color clarity  depth  table  price     x     y     z  \\\n",
       "1   0.23    Ideal     E     SI2   61.5   55.0    326  3.95  3.98  2.43   \n",
       "2   0.21  Premium     E     SI1   59.8   61.0    326  3.89  3.84  2.31   \n",
       "3   0.23     Good     E     VS1   56.9   65.0    327  4.05  4.07  2.31   \n",
       "4   0.29  Premium     I     VS2   62.4   58.0    334  4.20  4.23  2.63   \n",
       "5   0.31     Good     J     SI2   63.3   58.0    335  4.34  4.35  2.75   \n",
       "\n",
       "      volume  \n",
       "1  38.202030  \n",
       "2  34.505856  \n",
       "3  38.076885  \n",
       "4  46.724580  \n",
       "5  51.917250  "
      ]
     },
     "execution_count": 32,
     "metadata": {},
     "output_type": "execute_result"
    }
   ],
   "source": [
    "df.head()"
   ]
  },
  {
   "cell_type": "markdown",
   "metadata": {
    "id": "WhBKt_lQ60ki"
   },
   "source": [
    "А колонки с длинной, высотой и глубиной удалим с помощью метода `.drop()`\n",
    "\n",
    "- укажем колонки, которые нужно удалить – список `drop_cols`\n",
    "- `axis=0` – означает, что удаляем строки\n",
    "- `axis=1` – означает, что удаляем колонки, а не строки\n",
    "- `inplace=True` – означает, что удаляем колонки в текущем датасете, а не выводим новый"
   ]
  },
  {
   "cell_type": "code",
   "execution_count": 33,
   "metadata": {
    "colab": {
     "base_uri": "https://localhost:8080/",
     "height": 112
    },
    "id": "KQK2wgOn60kj",
    "outputId": "1e905071-19fd-4854-bae2-ee4ea5bd992a"
   },
   "outputs": [
    {
     "data": {
      "text/html": [
       "<div>\n",
       "<style scoped>\n",
       "    .dataframe tbody tr th:only-of-type {\n",
       "        vertical-align: middle;\n",
       "    }\n",
       "\n",
       "    .dataframe tbody tr th {\n",
       "        vertical-align: top;\n",
       "    }\n",
       "\n",
       "    .dataframe thead th {\n",
       "        text-align: right;\n",
       "    }\n",
       "</style>\n",
       "<table border=\"1\" class=\"dataframe\">\n",
       "  <thead>\n",
       "    <tr style=\"text-align: right;\">\n",
       "      <th></th>\n",
       "      <th>cut</th>\n",
       "      <th>color</th>\n",
       "      <th>clarity</th>\n",
       "      <th>depth</th>\n",
       "      <th>table</th>\n",
       "      <th>price</th>\n",
       "      <th>x</th>\n",
       "      <th>y</th>\n",
       "      <th>z</th>\n",
       "      <th>volume</th>\n",
       "    </tr>\n",
       "  </thead>\n",
       "  <tbody>\n",
       "    <tr>\n",
       "      <th>1</th>\n",
       "      <td>Ideal</td>\n",
       "      <td>E</td>\n",
       "      <td>SI2</td>\n",
       "      <td>61.5</td>\n",
       "      <td>55.0</td>\n",
       "      <td>326</td>\n",
       "      <td>3.95</td>\n",
       "      <td>3.98</td>\n",
       "      <td>2.43</td>\n",
       "      <td>38.202030</td>\n",
       "    </tr>\n",
       "    <tr>\n",
       "      <th>2</th>\n",
       "      <td>Premium</td>\n",
       "      <td>E</td>\n",
       "      <td>SI1</td>\n",
       "      <td>59.8</td>\n",
       "      <td>61.0</td>\n",
       "      <td>326</td>\n",
       "      <td>3.89</td>\n",
       "      <td>3.84</td>\n",
       "      <td>2.31</td>\n",
       "      <td>34.505856</td>\n",
       "    </tr>\n",
       "  </tbody>\n",
       "</table>\n",
       "</div>"
      ],
      "text/plain": [
       "       cut color clarity  depth  table  price     x     y     z     volume\n",
       "1    Ideal     E     SI2   61.5   55.0    326  3.95  3.98  2.43  38.202030\n",
       "2  Premium     E     SI1   59.8   61.0    326  3.89  3.84  2.31  34.505856"
      ]
     },
     "execution_count": 33,
     "metadata": {},
     "output_type": "execute_result"
    }
   ],
   "source": [
    "# без inplace удалим carat\n",
    "df.drop('carat', axis=1).head(2)"
   ]
  },
  {
   "cell_type": "code",
   "execution_count": 34,
   "metadata": {
    "colab": {
     "base_uri": "https://localhost:8080/",
     "height": 112
    },
    "id": "W5M0RqTg60ko",
    "outputId": "a4144553-e67e-469c-d6e4-23387b5fca87",
    "scrolled": true
   },
   "outputs": [
    {
     "data": {
      "text/html": [
       "<div>\n",
       "<style scoped>\n",
       "    .dataframe tbody tr th:only-of-type {\n",
       "        vertical-align: middle;\n",
       "    }\n",
       "\n",
       "    .dataframe tbody tr th {\n",
       "        vertical-align: top;\n",
       "    }\n",
       "\n",
       "    .dataframe thead th {\n",
       "        text-align: right;\n",
       "    }\n",
       "</style>\n",
       "<table border=\"1\" class=\"dataframe\">\n",
       "  <thead>\n",
       "    <tr style=\"text-align: right;\">\n",
       "      <th></th>\n",
       "      <th>carat</th>\n",
       "      <th>cut</th>\n",
       "      <th>color</th>\n",
       "      <th>clarity</th>\n",
       "      <th>depth</th>\n",
       "      <th>table</th>\n",
       "      <th>price</th>\n",
       "      <th>x</th>\n",
       "      <th>y</th>\n",
       "      <th>z</th>\n",
       "      <th>volume</th>\n",
       "    </tr>\n",
       "  </thead>\n",
       "  <tbody>\n",
       "    <tr>\n",
       "      <th>1</th>\n",
       "      <td>0.23</td>\n",
       "      <td>Ideal</td>\n",
       "      <td>E</td>\n",
       "      <td>SI2</td>\n",
       "      <td>61.5</td>\n",
       "      <td>55.0</td>\n",
       "      <td>326</td>\n",
       "      <td>3.95</td>\n",
       "      <td>3.98</td>\n",
       "      <td>2.43</td>\n",
       "      <td>38.202030</td>\n",
       "    </tr>\n",
       "    <tr>\n",
       "      <th>2</th>\n",
       "      <td>0.21</td>\n",
       "      <td>Premium</td>\n",
       "      <td>E</td>\n",
       "      <td>SI1</td>\n",
       "      <td>59.8</td>\n",
       "      <td>61.0</td>\n",
       "      <td>326</td>\n",
       "      <td>3.89</td>\n",
       "      <td>3.84</td>\n",
       "      <td>2.31</td>\n",
       "      <td>34.505856</td>\n",
       "    </tr>\n",
       "  </tbody>\n",
       "</table>\n",
       "</div>"
      ],
      "text/plain": [
       "   carat      cut color clarity  depth  table  price     x     y     z  \\\n",
       "1   0.23    Ideal     E     SI2   61.5   55.0    326  3.95  3.98  2.43   \n",
       "2   0.21  Premium     E     SI1   59.8   61.0    326  3.89  3.84  2.31   \n",
       "\n",
       "      volume  \n",
       "1  38.202030  \n",
       "2  34.505856  "
      ]
     },
     "execution_count": 34,
     "metadata": {},
     "output_type": "execute_result"
    }
   ],
   "source": [
    "# carat остались!\n",
    "df.head(2)"
   ]
  },
  {
   "cell_type": "code",
   "execution_count": 35,
   "metadata": {
    "id": "dZCExEN160kr",
    "scrolled": true
   },
   "outputs": [],
   "source": [
    "drop_cols = ['x', 'y', 'z']\n",
    "df.drop(drop_cols, axis=1, inplace=True)\n",
    "\n",
    "# или то же самое без inplace – лучше первый способ\n",
    "### df = df.drop(drop_cols, axis='columns')"
   ]
  },
  {
   "cell_type": "code",
   "execution_count": 36,
   "metadata": {
    "colab": {
     "base_uri": "https://localhost:8080/",
     "height": 112
    },
    "id": "ADlkd8ic60kt",
    "outputId": "03f478bf-6328-40eb-9056-4041e23a3e5e",
    "scrolled": true
   },
   "outputs": [
    {
     "data": {
      "text/html": [
       "<div>\n",
       "<style scoped>\n",
       "    .dataframe tbody tr th:only-of-type {\n",
       "        vertical-align: middle;\n",
       "    }\n",
       "\n",
       "    .dataframe tbody tr th {\n",
       "        vertical-align: top;\n",
       "    }\n",
       "\n",
       "    .dataframe thead th {\n",
       "        text-align: right;\n",
       "    }\n",
       "</style>\n",
       "<table border=\"1\" class=\"dataframe\">\n",
       "  <thead>\n",
       "    <tr style=\"text-align: right;\">\n",
       "      <th></th>\n",
       "      <th>carat</th>\n",
       "      <th>cut</th>\n",
       "      <th>color</th>\n",
       "      <th>clarity</th>\n",
       "      <th>depth</th>\n",
       "      <th>table</th>\n",
       "      <th>price</th>\n",
       "      <th>volume</th>\n",
       "    </tr>\n",
       "  </thead>\n",
       "  <tbody>\n",
       "    <tr>\n",
       "      <th>1</th>\n",
       "      <td>0.23</td>\n",
       "      <td>Ideal</td>\n",
       "      <td>E</td>\n",
       "      <td>SI2</td>\n",
       "      <td>61.5</td>\n",
       "      <td>55.0</td>\n",
       "      <td>326</td>\n",
       "      <td>38.202030</td>\n",
       "    </tr>\n",
       "    <tr>\n",
       "      <th>2</th>\n",
       "      <td>0.21</td>\n",
       "      <td>Premium</td>\n",
       "      <td>E</td>\n",
       "      <td>SI1</td>\n",
       "      <td>59.8</td>\n",
       "      <td>61.0</td>\n",
       "      <td>326</td>\n",
       "      <td>34.505856</td>\n",
       "    </tr>\n",
       "  </tbody>\n",
       "</table>\n",
       "</div>"
      ],
      "text/plain": [
       "   carat      cut color clarity  depth  table  price     volume\n",
       "1   0.23    Ideal     E     SI2   61.5   55.0    326  38.202030\n",
       "2   0.21  Premium     E     SI1   59.8   61.0    326  34.505856"
      ]
     },
     "execution_count": 36,
     "metadata": {},
     "output_type": "execute_result"
    }
   ],
   "source": [
    "df.head(2)"
   ]
  },
  {
   "cell_type": "markdown",
   "metadata": {
    "id": "ce4ghMKV60kx"
   },
   "source": [
    "Переведем также караты в миллиграммы (умножив массу в каратах на 200)"
   ]
  },
  {
   "cell_type": "code",
   "execution_count": 37,
   "metadata": {
    "colab": {
     "base_uri": "https://localhost:8080/"
    },
    "id": "uugSAmTQ60kx",
    "outputId": "53dc24b2-9469-45f3-8ad3-9ec772d54d37"
   },
   "outputs": [
    {
     "data": {
      "text/plain": [
       "1         46.0\n",
       "2         42.0\n",
       "3         46.0\n",
       "4         58.0\n",
       "5         62.0\n",
       "         ...  \n",
       "53936    144.0\n",
       "53937    144.0\n",
       "53938    140.0\n",
       "53939    172.0\n",
       "53940    150.0\n",
       "Name: carat, Length: 53940, dtype: float64"
      ]
     },
     "execution_count": 37,
     "metadata": {},
     "output_type": "execute_result"
    }
   ],
   "source": [
    "# просто выводится на экран\n",
    "df['carat']*200"
   ]
  },
  {
   "cell_type": "code",
   "execution_count": 38,
   "metadata": {
    "colab": {
     "base_uri": "https://localhost:8080/",
     "height": 206
    },
    "id": "7kVcqP3a60k2",
    "outputId": "4495e2df-fc91-4c8a-f45e-6c9e96734109"
   },
   "outputs": [
    {
     "data": {
      "text/html": [
       "<div>\n",
       "<style scoped>\n",
       "    .dataframe tbody tr th:only-of-type {\n",
       "        vertical-align: middle;\n",
       "    }\n",
       "\n",
       "    .dataframe tbody tr th {\n",
       "        vertical-align: top;\n",
       "    }\n",
       "\n",
       "    .dataframe thead th {\n",
       "        text-align: right;\n",
       "    }\n",
       "</style>\n",
       "<table border=\"1\" class=\"dataframe\">\n",
       "  <thead>\n",
       "    <tr style=\"text-align: right;\">\n",
       "      <th></th>\n",
       "      <th>carat</th>\n",
       "      <th>cut</th>\n",
       "      <th>color</th>\n",
       "      <th>clarity</th>\n",
       "      <th>depth</th>\n",
       "      <th>table</th>\n",
       "      <th>price</th>\n",
       "      <th>volume</th>\n",
       "    </tr>\n",
       "  </thead>\n",
       "  <tbody>\n",
       "    <tr>\n",
       "      <th>1</th>\n",
       "      <td>46.0</td>\n",
       "      <td>Ideal</td>\n",
       "      <td>E</td>\n",
       "      <td>SI2</td>\n",
       "      <td>61.5</td>\n",
       "      <td>55.0</td>\n",
       "      <td>326</td>\n",
       "      <td>38.202030</td>\n",
       "    </tr>\n",
       "    <tr>\n",
       "      <th>2</th>\n",
       "      <td>42.0</td>\n",
       "      <td>Premium</td>\n",
       "      <td>E</td>\n",
       "      <td>SI1</td>\n",
       "      <td>59.8</td>\n",
       "      <td>61.0</td>\n",
       "      <td>326</td>\n",
       "      <td>34.505856</td>\n",
       "    </tr>\n",
       "    <tr>\n",
       "      <th>3</th>\n",
       "      <td>46.0</td>\n",
       "      <td>Good</td>\n",
       "      <td>E</td>\n",
       "      <td>VS1</td>\n",
       "      <td>56.9</td>\n",
       "      <td>65.0</td>\n",
       "      <td>327</td>\n",
       "      <td>38.076885</td>\n",
       "    </tr>\n",
       "    <tr>\n",
       "      <th>4</th>\n",
       "      <td>58.0</td>\n",
       "      <td>Premium</td>\n",
       "      <td>I</td>\n",
       "      <td>VS2</td>\n",
       "      <td>62.4</td>\n",
       "      <td>58.0</td>\n",
       "      <td>334</td>\n",
       "      <td>46.724580</td>\n",
       "    </tr>\n",
       "    <tr>\n",
       "      <th>5</th>\n",
       "      <td>62.0</td>\n",
       "      <td>Good</td>\n",
       "      <td>J</td>\n",
       "      <td>SI2</td>\n",
       "      <td>63.3</td>\n",
       "      <td>58.0</td>\n",
       "      <td>335</td>\n",
       "      <td>51.917250</td>\n",
       "    </tr>\n",
       "  </tbody>\n",
       "</table>\n",
       "</div>"
      ],
      "text/plain": [
       "   carat      cut color clarity  depth  table  price     volume\n",
       "1   46.0    Ideal     E     SI2   61.5   55.0    326  38.202030\n",
       "2   42.0  Premium     E     SI1   59.8   61.0    326  34.505856\n",
       "3   46.0     Good     E     VS1   56.9   65.0    327  38.076885\n",
       "4   58.0  Premium     I     VS2   62.4   58.0    334  46.724580\n",
       "5   62.0     Good     J     SI2   63.3   58.0    335  51.917250"
      ]
     },
     "execution_count": 38,
     "metadata": {},
     "output_type": "execute_result"
    }
   ],
   "source": [
    "# записываем в колонку\n",
    "df['carat'] = df['carat']*200\n",
    "df.head()"
   ]
  },
  {
   "cell_type": "markdown",
   "metadata": {
    "id": "Zz1PUKzx60k4"
   },
   "source": [
    "Переименуем колонку"
   ]
  },
  {
   "cell_type": "code",
   "execution_count": 39,
   "metadata": {
    "id": "7KH47FjT60k5"
   },
   "outputs": [],
   "source": [
    "# передадим словарь, где укажем что на что менять\n",
    "# {'carat':'weight'} - словарь с одной парой key-value\n",
    "\n",
    "df.rename(columns={'carat':'weight'}, inplace=True)"
   ]
  },
  {
   "cell_type": "markdown",
   "metadata": {
    "id": "C9Ih-fPj60k9"
   },
   "source": [
    "Посмотрим теперь на датасет "
   ]
  },
  {
   "cell_type": "code",
   "execution_count": 40,
   "metadata": {
    "colab": {
     "base_uri": "https://localhost:8080/",
     "height": 206
    },
    "id": "MfkTi2xI60k-",
    "outputId": "ec6fc791-2a0b-4cb2-999e-644235952947"
   },
   "outputs": [
    {
     "data": {
      "text/html": [
       "<div>\n",
       "<style scoped>\n",
       "    .dataframe tbody tr th:only-of-type {\n",
       "        vertical-align: middle;\n",
       "    }\n",
       "\n",
       "    .dataframe tbody tr th {\n",
       "        vertical-align: top;\n",
       "    }\n",
       "\n",
       "    .dataframe thead th {\n",
       "        text-align: right;\n",
       "    }\n",
       "</style>\n",
       "<table border=\"1\" class=\"dataframe\">\n",
       "  <thead>\n",
       "    <tr style=\"text-align: right;\">\n",
       "      <th></th>\n",
       "      <th>weight</th>\n",
       "      <th>cut</th>\n",
       "      <th>color</th>\n",
       "      <th>clarity</th>\n",
       "      <th>depth</th>\n",
       "      <th>table</th>\n",
       "      <th>price</th>\n",
       "      <th>volume</th>\n",
       "    </tr>\n",
       "  </thead>\n",
       "  <tbody>\n",
       "    <tr>\n",
       "      <th>1</th>\n",
       "      <td>46.0</td>\n",
       "      <td>Ideal</td>\n",
       "      <td>E</td>\n",
       "      <td>SI2</td>\n",
       "      <td>61.5</td>\n",
       "      <td>55.0</td>\n",
       "      <td>326</td>\n",
       "      <td>38.202030</td>\n",
       "    </tr>\n",
       "    <tr>\n",
       "      <th>2</th>\n",
       "      <td>42.0</td>\n",
       "      <td>Premium</td>\n",
       "      <td>E</td>\n",
       "      <td>SI1</td>\n",
       "      <td>59.8</td>\n",
       "      <td>61.0</td>\n",
       "      <td>326</td>\n",
       "      <td>34.505856</td>\n",
       "    </tr>\n",
       "    <tr>\n",
       "      <th>3</th>\n",
       "      <td>46.0</td>\n",
       "      <td>Good</td>\n",
       "      <td>E</td>\n",
       "      <td>VS1</td>\n",
       "      <td>56.9</td>\n",
       "      <td>65.0</td>\n",
       "      <td>327</td>\n",
       "      <td>38.076885</td>\n",
       "    </tr>\n",
       "    <tr>\n",
       "      <th>4</th>\n",
       "      <td>58.0</td>\n",
       "      <td>Premium</td>\n",
       "      <td>I</td>\n",
       "      <td>VS2</td>\n",
       "      <td>62.4</td>\n",
       "      <td>58.0</td>\n",
       "      <td>334</td>\n",
       "      <td>46.724580</td>\n",
       "    </tr>\n",
       "    <tr>\n",
       "      <th>5</th>\n",
       "      <td>62.0</td>\n",
       "      <td>Good</td>\n",
       "      <td>J</td>\n",
       "      <td>SI2</td>\n",
       "      <td>63.3</td>\n",
       "      <td>58.0</td>\n",
       "      <td>335</td>\n",
       "      <td>51.917250</td>\n",
       "    </tr>\n",
       "  </tbody>\n",
       "</table>\n",
       "</div>"
      ],
      "text/plain": [
       "   weight      cut color clarity  depth  table  price     volume\n",
       "1    46.0    Ideal     E     SI2   61.5   55.0    326  38.202030\n",
       "2    42.0  Premium     E     SI1   59.8   61.0    326  34.505856\n",
       "3    46.0     Good     E     VS1   56.9   65.0    327  38.076885\n",
       "4    58.0  Premium     I     VS2   62.4   58.0    334  46.724580\n",
       "5    62.0     Good     J     SI2   63.3   58.0    335  51.917250"
      ]
     },
     "execution_count": 40,
     "metadata": {},
     "output_type": "execute_result"
    }
   ],
   "source": [
    "# название поменялось\n",
    "df.head()"
   ]
  },
  {
   "cell_type": "markdown",
   "metadata": {
    "id": "30GmPR4W60lA"
   },
   "source": [
    "Для построения точечного графика зависимости цены от массы используем метод `.plot()`, указываем его тип `kind=` и остальные необходимые аргументы."
   ]
  },
  {
   "cell_type": "code",
   "execution_count": 41,
   "metadata": {
    "colab": {
     "base_uri": "https://localhost:8080/",
     "height": 297
    },
    "id": "KhqAjoQS60lB",
    "outputId": "1d3d39d2-39e2-43d7-d964-d89aa02addf0"
   },
   "outputs": [
    {
     "data": {
      "image/png": "[encoded data removed]",
      "text/plain": [
       "<Figure size 432x288 with 1 Axes>"
      ]
     },
     "metadata": {
      "needs_background": "light"
     },
     "output_type": "display_data"
    }
   ],
   "source": [
    "# s – размер точек\n",
    "# x,y – что по каким осям\n",
    "df.plot(kind='scatter', x='weight', y='price', s=0.2); #size #диаграмма рассеяния (точечный график)"
   ]
  },
  {
   "cell_type": "code",
   "execution_count": 42,
   "metadata": {
    "colab": {
     "base_uri": "https://localhost:8080/",
     "height": 301
    },
    "id": "vUkFvGq-60lD",
    "outputId": "0ab5d7ba-8744-4a19-fee7-6179baa076e4"
   },
   "outputs": [
    {
     "data": {
      "image/png": "[encoded data removed]",
      "text/plain": [
       "<Figure size 432x288 with 1 Axes>"
      ]
     },
     "metadata": {
      "needs_background": "light"
     },
     "output_type": "display_data"
    }
   ],
   "source": [
    "# логарифмируем x и y\n",
    "df.plot(kind='scatter', x='weight', y='price', s=0.2, loglog=True);"
   ]
  },
  {
   "cell_type": "markdown",
   "metadata": {
    "id": "w4qM8aq360lF"
   },
   "source": [
    "## Индексация и срезы"
   ]
  },
  {
   "cell_type": "markdown",
   "metadata": {
    "id": "VUlyjhzO60lF"
   },
   "source": [
    "### Индексация"
   ]
  },
  {
   "cell_type": "markdown",
   "metadata": {
    "id": "YyvCZdaw60lF"
   },
   "source": [
    "Разберемся с тем, как доставать определенные строки и столбцы из датасета\n",
    "\n",
    "- для индексации по номеру строки и столбца используется атрибут `iloc[:, :]`\n",
    "    - сначала указываются индексы строк, затем – столбцов\n",
    "- для индексации по имени строки и столбца используется атрибут `loc[:, :]`\n",
    "    - сначала указываются имена строк, затем – столбцов"
   ]
  },
  {
   "cell_type": "code",
   "execution_count": null,
   "metadata": {
    "colab": {
     "base_uri": "https://localhost:8080/",
     "height": 423
    },
    "id": "DU6HUt3E60lG",
    "outputId": "da2f0843-309b-4dca-9840-83a7d2ee42ed"
   },
   "outputs": [],
   "source": [
    "# индексы от 1 до 53940\n",
    "df"
   ]
  },
  {
   "cell_type": "code",
   "execution_count": null,
   "metadata": {},
   "outputs": [],
   "source": [
    "df.iloc[[45,61,68]]"
   ]
  },
  {
   "cell_type": "code",
   "execution_count": null,
   "metadata": {},
   "outputs": [],
   "source": [
    "df.describe(include=['object'])"
   ]
  },
  {
   "cell_type": "code",
   "execution_count": null,
   "metadata": {},
   "outputs": [],
   "source": []
  },
  {
   "cell_type": "code",
   "execution_count": null,
   "metadata": {},
   "outputs": [],
   "source": [
    "df.iloc[2]['price']"
   ]
  },
  {
   "cell_type": "code",
   "execution_count": null,
   "metadata": {},
   "outputs": [],
   "source": [
    "type(df.describe(include=['object']))"
   ]
  },
  {
   "cell_type": "code",
   "execution_count": null,
   "metadata": {
    "scrolled": true
   },
   "outputs": [],
   "source": [
    "df.describe(include=['object']).loc[['unique']][['clarity']]"
   ]
  },
  {
   "cell_type": "code",
   "execution_count": null,
   "metadata": {},
   "outputs": [],
   "source": [
    "df.describe(include=['object']).iloc[[1]][['cut']]"
   ]
  },
  {
   "cell_type": "code",
   "execution_count": null,
   "metadata": {},
   "outputs": [],
   "source": [
    "number = df.iloc[2]['weight']\n",
    "number * 8"
   ]
  },
  {
   "cell_type": "code",
   "execution_count": null,
   "metadata": {},
   "outputs": [],
   "source": [
    "df_new = df.iloc[[50, 51]]"
   ]
  },
  {
   "cell_type": "code",
   "execution_count": null,
   "metadata": {},
   "outputs": [],
   "source": [
    "df_new"
   ]
  },
  {
   "cell_type": "code",
   "execution_count": null,
   "metadata": {
    "colab": {
     "base_uri": "https://localhost:8080/",
     "height": 112
    },
    "id": "y05B_qSl60lI",
    "outputId": "89a3b42b-676d-445d-c1ea-b3c44ffe359d"
   },
   "outputs": [],
   "source": [
    "# ровно 45 и 50 индексы\n",
    "df.iloc[45:50]"
   ]
  },
  {
   "cell_type": "code",
   "execution_count": null,
   "metadata": {
    "colab": {
     "base_uri": "https://localhost:8080/",
     "height": 112
    },
    "id": "VLqr1pq560lJ",
    "outputId": "bfcb0da9-739f-40b5-a19d-063e22bf62a7"
   },
   "outputs": [],
   "source": [
    "# можно взять часть колонок\n",
    "df.loc[[45,50], ['weight','price']]"
   ]
  },
  {
   "cell_type": "code",
   "execution_count": null,
   "metadata": {},
   "outputs": [],
   "source": [
    "df.iloc[]"
   ]
  },
  {
   "cell_type": "code",
   "execution_count": null,
   "metadata": {
    "colab": {
     "base_uri": "https://localhost:8080/",
     "height": 112
    },
    "id": "dNA_BpNP60lL",
    "outputId": "f4d3758c-7f47-4420-b2c4-137a98c08461"
   },
   "outputs": [],
   "source": [
    "# индексы по счёту 45 и 50 по счёту от 0\n",
    "df.iloc[[45,50]]"
   ]
  },
  {
   "cell_type": "code",
   "execution_count": null,
   "metadata": {
    "colab": {
     "base_uri": "https://localhost:8080/",
     "height": 112
    },
    "id": "qTuzZYdd60lN",
    "outputId": "cd1d06eb-5a96-4233-a50d-479dbcccb823"
   },
   "outputs": [],
   "source": [
    "# добавим колонки\n",
    "df.iloc[[45,50], [0,4]]"
   ]
  },
  {
   "cell_type": "code",
   "execution_count": null,
   "metadata": {
    "colab": {
     "base_uri": "https://localhost:8080/",
     "height": 112
    },
    "id": "sqhHqkD660lR",
    "outputId": "8cd7b648-4077-45d4-de8d-7f9c75535783"
   },
   "outputs": [],
   "source": [
    "# можно также использовать срезы\n",
    "df.iloc[[45,50], 0:4]"
   ]
  },
  {
   "cell_type": "markdown",
   "metadata": {
    "id": "3hisuJ2560lT"
   },
   "source": [
    "### Условные срезы"
   ]
  },
  {
   "cell_type": "markdown",
   "metadata": {
    "id": "sY0-jQTG60lT"
   },
   "source": [
    "Вместо срезов (например, 45:50), можно использовать условия.\n",
    "\n",
    "Рассмотрим пример. Если рассмотреть  описательные статистики у колонки volume, то у нее встречаются нулевые значения."
   ]
  },
  {
   "cell_type": "code",
   "execution_count": null,
   "metadata": {
    "colab": {
     "base_uri": "https://localhost:8080/",
     "height": 300
    },
    "id": "VWt_auP760lU",
    "outputId": "600a47de-4ed6-4b7c-a675-69766aff290d"
   },
   "outputs": [],
   "source": [
    "df[['weight','volume']]"
   ]
  },
  {
   "cell_type": "markdown",
   "metadata": {
    "id": "k30s9GCc60lW"
   },
   "source": [
    "При этом если рассмотреть массу и объем бриллиантов с нулевым значением объема, то масса у таких бриллиантов в большинстве оказывается значительно выше среднего, поэтому вряд ли их настоящий объем равен нулю. "
   ]
  },
  {
   "cell_type": "code",
   "execution_count": null,
   "metadata": {
    "colab": {
     "base_uri": "https://localhost:8080/"
    },
    "id": "xm2RPR4g60lX",
    "outputId": "3f262a03-03bf-49eb-ca9a-e553264fc99a"
   },
   "outputs": [],
   "source": [
    "# сравнение каждой строки с нулем\n",
    "(df['volume'] == 0)"
   ]
  },
  {
   "cell_type": "code",
   "execution_count": null,
   "metadata": {
    "colab": {
     "base_uri": "https://localhost:8080/",
     "height": 676
    },
    "id": "jPQu95Js60lZ",
    "outputId": "69e48fe4-f20a-4084-86ee-39c4eb0f9023"
   },
   "outputs": [],
   "source": [
    "# оставляем только те строки, где нулевой объем\n",
    "df.loc[df['volume'] == 0]"
   ]
  },
  {
   "cell_type": "code",
   "execution_count": null,
   "metadata": {
    "colab": {
     "base_uri": "https://localhost:8080/",
     "height": 676
    },
    "id": "HGxHEcdI60lb",
    "outputId": "8088bfde-c1b6-4005-c581-5605dc85cc89"
   },
   "outputs": [],
   "source": [
    "# посмотрим на часть колонок\n",
    "df.loc[df['volume']==0, ['weight', 'volume', 'price']]"
   ]
  },
  {
   "cell_type": "markdown",
   "metadata": {
    "id": "DzVzbdFQ60le"
   },
   "source": [
    "Оставим в датасете только строчки с ненулевым объемом"
   ]
  },
  {
   "cell_type": "code",
   "execution_count": null,
   "metadata": {
    "colab": {
     "base_uri": "https://localhost:8080/"
    },
    "id": "455i5e1x60le",
    "outputId": "e2ed4453-4f5c-400a-cc67-c0e0fc37e7b2"
   },
   "outputs": [],
   "source": [
    "# было\n",
    "df.shape"
   ]
  },
  {
   "cell_type": "code",
   "execution_count": null,
   "metadata": {},
   "outputs": [],
   "source": [
    "df['volume']>0"
   ]
  },
  {
   "cell_type": "code",
   "execution_count": null,
   "metadata": {
    "id": "eVLayVAu60lg"
   },
   "outputs": [],
   "source": [
    "df = df[df['volume']>0] #фильтр а-ля эксель"
   ]
  },
  {
   "cell_type": "code",
   "execution_count": null,
   "metadata": {
    "colab": {
     "base_uri": "https://localhost:8080/"
    },
    "id": "N16Ctj1g60lj",
    "outputId": "10aea3ac-3116-4d72-dfef-57889b6b685a"
   },
   "outputs": [],
   "source": [
    "# стало\n",
    "df.shape"
   ]
  },
  {
   "cell_type": "markdown",
   "metadata": {
    "id": "gtlgxYlv60ll"
   },
   "source": [
    "### Условные операторы"
   ]
  },
  {
   "cell_type": "markdown",
   "metadata": {
    "id": "vwfx8Tzs60lm"
   },
   "source": [
    "Также можно делать срезы из таблицы, используя несколько условий с помощью операторов \n",
    "    - `|` (или)\n",
    "    - `&` (и)\n",
    "\n",
    "```python\n",
    "df[(`condition_1`) | (`condition_2`)]\n",
    "```"
   ]
  },
  {
   "cell_type": "code",
   "execution_count": null,
   "metadata": {
    "colab": {
     "base_uri": "https://localhost:8080/",
     "height": 423
    },
    "id": "GZLmTxlD60ln",
    "outputId": "bc55549d-95d9-4705-8ec9-4f2c8e2c266a"
   },
   "outputs": [],
   "source": [
    "df[(df['volume'] >= 100) & (df['volume'] <= 200)] #амперсанд, [100; 200]"
   ]
  },
  {
   "cell_type": "code",
   "execution_count": null,
   "metadata": {
    "colab": {
     "base_uri": "https://localhost:8080/",
     "height": 423
    },
    "id": "MxOLtxk660lp",
    "outputId": "265af18b-b3f8-4bf1-b539-455fda18a777"
   },
   "outputs": [],
   "source": [
    "# то же самое по шагам и без лишних скобок\n",
    "over100 = df['volume'] >= 100\n",
    "under200 = df['volume'] <= 200\n",
    "df[over100 & under200]"
   ]
  },
  {
   "cell_type": "code",
   "execution_count": null,
   "metadata": {
    "colab": {
     "base_uri": "https://localhost:8080/",
     "height": 300
    },
    "id": "QKdFTV6f60lt",
    "outputId": "22f13758-2a81-4656-a809-0a39eaccfd2d"
   },
   "outputs": [],
   "source": [
    "df[over100 & under200].describe()"
   ]
  },
  {
   "cell_type": "markdown",
   "metadata": {
    "id": "ayWqdsDf60lv"
   },
   "source": [
    "Посмотрим на все идеальные и премиум бриллианты"
   ]
  },
  {
   "cell_type": "code",
   "execution_count": null,
   "metadata": {
    "colab": {
     "base_uri": "https://localhost:8080/"
    },
    "id": "nDrRG5M260lw",
    "outputId": "395c78bd-e22e-4a35-8927-44d6c7542843"
   },
   "outputs": [],
   "source": [
    "df['cut'].unique()"
   ]
  },
  {
   "cell_type": "code",
   "execution_count": null,
   "metadata": {
    "colab": {
     "base_uri": "https://localhost:8080/",
     "height": 423
    },
    "id": "CSg71b6860ly",
    "outputId": "48e61022-eef8-4da4-afcf-cacd79ce3c49"
   },
   "outputs": [],
   "source": [
    "condition_1 = df['cut']=='Ideal'\n",
    "condition_2 = df['cut']=='Premium'\n",
    "df[condition_1 | condition_2]"
   ]
  },
  {
   "cell_type": "markdown",
   "metadata": {
    "id": "Y2XsG4_r60l0"
   },
   "source": [
    "Посмотрим на все идеальные бриллианты массой больше 500 миллиграмм"
   ]
  },
  {
   "cell_type": "code",
   "execution_count": null,
   "metadata": {
    "colab": {
     "base_uri": "https://localhost:8080/",
     "height": 770
    },
    "id": "L1HZ-8xC60l1",
    "outputId": "1d2f0a95-2668-4418-a2ce-1ec99f11fdd9"
   },
   "outputs": [],
   "source": [
    "df[(df['cut']=='Ideal') & (df['weight']>500)].shape"
   ]
  },
  {
   "cell_type": "markdown",
   "metadata": {
    "id": "pJafFoZB60l7"
   },
   "source": [
    "### Работа со строками"
   ]
  },
  {
   "cell_type": "markdown",
   "metadata": {
    "id": "lP-g5Ktm60l7"
   },
   "source": [
    "Для работы со строкововыми колонками можно также воспользоваться методами \n",
    "\n",
    "- `.isin()` – для того, чтобы оставить лишь те строки, категории которой лежат в некотором списке\n",
    "\n",
    "```python \n",
    "df['col'].isin(['category1', 'category2'])\n",
    "```\n",
    "\n",
    "- `.str` – для того, чтобы использовать методы, которые есть у строк\n",
    "- `.str.contains()` – для того, чтобы оставить строки, содержание которых имеет определенный текст\n",
    "\n",
    "```python \n",
    "df['col'].str.contains(['some_text'])\n",
    "```"
   ]
  },
  {
   "cell_type": "code",
   "execution_count": null,
   "metadata": {
    "colab": {
     "base_uri": "https://localhost:8080/"
    },
    "id": "jSR4AM4H60l7",
    "outputId": "796a501e-6879-4204-cb92-08c43b1aa9cd"
   },
   "outputs": [],
   "source": [
    "# снова строки с логическими переменными\n",
    "cut_interested = ['Ideal', 'Premium', 'Good']\n",
    "df['cut'].isin(cut_interested)"
   ]
  },
  {
   "cell_type": "code",
   "execution_count": null,
   "metadata": {
    "scrolled": true
   },
   "outputs": [],
   "source": [
    "df[(df['cut']=='Ideal') | (df['cut']=='Premium') | (df['cut']=='Good')]"
   ]
  },
  {
   "cell_type": "code",
   "execution_count": null,
   "metadata": {
    "colab": {
     "base_uri": "https://localhost:8080/",
     "height": 423
    },
    "id": "uzwIIOJT60l9",
    "outputId": "14b8c8df-61ac-42df-b931-130aed713d58"
   },
   "outputs": [],
   "source": [
    "# делаем условный срез (фильтр)\n",
    "df[df['cut'].isin(cut_interested)]"
   ]
  },
  {
   "cell_type": "code",
   "execution_count": null,
   "metadata": {},
   "outputs": [],
   "source": [
    "df['cut'].str.contains('Good')"
   ]
  },
  {
   "cell_type": "code",
   "execution_count": null,
   "metadata": {
    "colab": {
     "base_uri": "https://localhost:8080/",
     "height": 423
    },
    "id": "pJnglmBg60l_",
    "outputId": "a96b9430-2ec0-4b4c-df7a-4b13da67bdae"
   },
   "outputs": [],
   "source": [
    "df[df['cut'].str.contains('Good')]"
   ]
  },
  {
   "cell_type": "markdown",
   "metadata": {
    "id": "xGV7V1Qv60mT"
   },
   "source": [
    "# Ревью\n",
    "\n",
    "Сегодня мы научились: \n",
    "- загружать таблички \n",
    "    - `df = pd.read_csv('some_data.csv')`\n",
    "- смотреть на них \n",
    "    - `df.head()`,`df.tail()`, \n",
    "    - `df.shape`, `df.info()`, `df.dtypes()`\n",
    "- считать различные характеристики\n",
    "    - `df.describe()` \n",
    "    - `df['col'].mean()`, `df['col'].median()`\n",
    "- делать группировки\n",
    "    - `df.groupby('col1')['col2'].agg(['mean','median'])`\n",
    "    - `df.pivot_table(columns='col1', index='col2', values='col3', aggfunc='mean')`\n",
    "- считать уникальные значения\n",
    "    - `df['col'].value_counts(normalize=True)`, `df['col'].unique()` `df['col'].nunique()`\n",
    "- даже строить немного графики\n",
    "    - `df['col'].value_counts(normalize=True).plot(kind='bar')`\n",
    "- удалять и переименовывать столбцы\n",
    "    - `df.drop(['col1', 'col2'], axis=1, inplace=True)`\n",
    "    - `df.rename(columns={'old_col_name':'new_col_name'}, inplace=True)`\n",
    "- фильтровать таблички, используя сложные условия\n",
    "    - `df.loc[df['col']==some_value, ['col1', 'col2']]`\n",
    "    - `df[(df['col1']==some_value) | (df['col2']!=some_value)]`\n",
    "    - `df[(df['col1']>some_value) & (df['col2']<some_value)]`\n",
    "    - `df['col'].isin(['category1', 'category2'])`\n",
    "    - `df['col'].str.contains(['some_text'])`"
   ]
  },
  {
   "cell_type": "markdown",
   "metadata": {
    "id": "2Yw_-d1f60mB"
   },
   "source": [
    "# Практика"
   ]
  },
  {
   "cell_type": "markdown",
   "metadata": {
    "id": "ZMYvOujC60mB"
   },
   "source": [
    "У бриллиантов какого качества (колонка cut) самое большое значение медианной цены?\n",
    "\n",
    "`Fair`"
   ]
  },
  {
   "cell_type": "code",
   "execution_count": 52,
   "metadata": {
    "id": "jk2fInhqGSHr"
   },
   "outputs": [
    {
     "data": {
      "text/html": [
       "<div>\n",
       "<style scoped>\n",
       "    .dataframe tbody tr th:only-of-type {\n",
       "        vertical-align: middle;\n",
       "    }\n",
       "\n",
       "    .dataframe tbody tr th {\n",
       "        vertical-align: top;\n",
       "    }\n",
       "\n",
       "    .dataframe thead th {\n",
       "        text-align: right;\n",
       "    }\n",
       "</style>\n",
       "<table border=\"1\" class=\"dataframe\">\n",
       "  <thead>\n",
       "    <tr style=\"text-align: right;\">\n",
       "      <th></th>\n",
       "      <th>price</th>\n",
       "    </tr>\n",
       "    <tr>\n",
       "      <th>cut</th>\n",
       "      <th></th>\n",
       "    </tr>\n",
       "  </thead>\n",
       "  <tbody>\n",
       "    <tr>\n",
       "      <th>Ideal</th>\n",
       "      <td>1810.0</td>\n",
       "    </tr>\n",
       "    <tr>\n",
       "      <th>Very Good</th>\n",
       "      <td>2648.0</td>\n",
       "    </tr>\n",
       "    <tr>\n",
       "      <th>Good</th>\n",
       "      <td>3050.5</td>\n",
       "    </tr>\n",
       "    <tr>\n",
       "      <th>Premium</th>\n",
       "      <td>3185.0</td>\n",
       "    </tr>\n",
       "    <tr>\n",
       "      <th>Fair</th>\n",
       "      <td>3282.0</td>\n",
       "    </tr>\n",
       "  </tbody>\n",
       "</table>\n",
       "</div>"
      ],
      "text/plain": [
       "            price\n",
       "cut              \n",
       "Ideal      1810.0\n",
       "Very Good  2648.0\n",
       "Good       3050.5\n",
       "Premium    3185.0\n",
       "Fair       3282.0"
      ]
     },
     "execution_count": 52,
     "metadata": {},
     "output_type": "execute_result"
    }
   ],
   "source": [
    "df.groupby('cut')['price']\n",
    "\n",
    "df.groupby('cut')[['price']].median().sort_values(by='price')"
   ]
  },
  {
   "cell_type": "code",
   "execution_count": 53,
   "metadata": {},
   "outputs": [
    {
     "data": {
      "text/plain": [
       "cut\n",
       "Fair    3282.0\n",
       "Name: price, dtype: float64"
      ]
     },
     "execution_count": 53,
     "metadata": {},
     "output_type": "execute_result"
    }
   ],
   "source": [
    "groupped = df.groupby('cut')['price'].agg('median')\n",
    "max_ = groupped.max()\n",
    "groupped[groupped == max_]"
   ]
  },
  {
   "cell_type": "markdown",
   "metadata": {
    "id": "8S3uCfRY60mF"
   },
   "source": [
    "Какой самый распространенный цвет брилланта (color)?\n",
    "\n",
    "`G`"
   ]
  },
  {
   "cell_type": "code",
   "execution_count": 54,
   "metadata": {
    "id": "ip2NveBQGSHr"
   },
   "outputs": [
    {
     "data": {
      "text/plain": [
       "'G'"
      ]
     },
     "execution_count": 54,
     "metadata": {},
     "output_type": "execute_result"
    }
   ],
   "source": [
    "df['color'].mode()[0]"
   ]
  },
  {
   "cell_type": "markdown",
   "metadata": {
    "id": "CLOaryj060mI"
   },
   "source": [
    "Какой самый распространенный цвет брилланта (color) среди тех, у которых значение цены (price) выше медианной?\n",
    "\n",
    "`G`"
   ]
  },
  {
   "cell_type": "code",
   "execution_count": 51,
   "metadata": {
    "id": "roNWYS-7GSHr"
   },
   "outputs": [
    {
     "data": {
      "text/plain": [
       "'G'"
      ]
     },
     "execution_count": 51,
     "metadata": {},
     "output_type": "execute_result"
    }
   ],
   "source": [
    "df[df['price'] > df['price'].median()]['color'].mode()[0]"
   ]
  },
  {
   "cell_type": "code",
   "execution_count": 54,
   "metadata": {},
   "outputs": [
    {
     "data": {
      "text/plain": [
       "'G'"
      ]
     },
     "execution_count": 54,
     "metadata": {},
     "output_type": "execute_result"
    }
   ],
   "source": [
    "df[df['price'] > df['price'].median()]['color'].value_counts().sort_values().index[-1]"
   ]
  },
  {
   "cell_type": "markdown",
   "metadata": {
    "id": "DfLf1CfN60mJ"
   },
   "source": [
    "Какое самое распространенное качество брилланта (cut) среди тех, у которых значение цены (price) выше медианной, а масса (weight) выше среднего?\n",
    "\n",
    "`Premium`"
   ]
  },
  {
   "cell_type": "code",
   "execution_count": 68,
   "metadata": {
    "id": "tpi9XtOaGSHr"
   },
   "outputs": [
    {
     "data": {
      "text/plain": [
       "'Premium'"
      ]
     },
     "execution_count": 68,
     "metadata": {},
     "output_type": "execute_result"
    }
   ],
   "source": [
    "condition = (df['price'] > df['price'].median()) & (df['weight'] > df['weight'].mean())\n",
    "df[condition]['cut'].mode()[0]"
   ]
  },
  {
   "cell_type": "markdown",
   "metadata": {
    "id": "Ff7XGraJ60mO"
   },
   "source": [
    "Чему равна средняя цена брилланта (price) среди бриллиантов Premium и Ideal качества (cut)? \n",
    "(Предложите, как минимум, два варианта решения)\n",
    "\n",
    "`3894.8`"
   ]
  },
  {
   "cell_type": "code",
   "execution_count": 55,
   "metadata": {
    "id": "MEsLrtaSGSHr"
   },
   "outputs": [
    {
     "data": {
      "text/plain": [
       "3897.204034859374"
      ]
     },
     "execution_count": 55,
     "metadata": {},
     "output_type": "execute_result"
    }
   ],
   "source": [
    "df[(df['cut'] == 'Premium') | (df['cut'] == 'Ideal')]['price'].mean()"
   ]
  },
  {
   "cell_type": "code",
   "execution_count": 56,
   "metadata": {},
   "outputs": [
    {
     "data": {
      "text/plain": [
       "3897.204034859374"
      ]
     },
     "execution_count": 56,
     "metadata": {},
     "output_type": "execute_result"
    }
   ],
   "source": [
    "df[df['cut'].isin(['Premium', 'Ideal'])]['price'].mean()"
   ]
  },
  {
   "cell_type": "code",
   "execution_count": null,
   "metadata": {},
   "outputs": [],
   "source": []
  }
 ],
 "metadata": {
  "colab": {
   "collapsed_sections": [
    "lc5KwCvd60im",
    "yfBPzFQc60in",
    "8rGmc4Ib60jG",
    "QhRKuyga60jo",
    "Fw_rxPVr60kJ",
    "VUlyjhzO60lF",
    "3hisuJ2560lT",
    "gtlgxYlv60ll",
    "pJafFoZB60l7"
   ],
   "name": "sem02_202_pandas-intro_diamonds-version.ipynb",
   "provenance": [],
   "toc_visible": true
  },
  "kernelspec": {
   "display_name": "Python 3",
   "language": "python",
   "name": "python3"
  },
  "language_info": {
   "codemirror_mode": {
    "name": "ipython",
    "version": 3
   },
   "file_extension": ".py",
   "mimetype": "text/x-python",
   "name": "python",
   "nbconvert_exporter": "python",
   "pygments_lexer": "ipython3",
   "version": "3.8.5"
  },
  "latex_envs": {
   "LaTeX_envs_menu_present": true,
   "autoclose": true,
   "autocomplete": true,
   "bibliofile": "biblio.bib",
   "cite_by": "apalike",
   "current_citInitial": 1,
   "eqLabelWithNumbers": true,
   "eqNumInitial": 1,
   "hotkeys": {
    "equation": "Ctrl-E",
    "itemize": "Ctrl-I"
   },
   "labels_anchors": false,
   "latex_user_defs": false,
   "report_style_numbering": false,
   "user_envs_cfg": false
  },
  "toc": {
   "base_numbering": 1,
   "nav_menu": {},
   "number_sections": true,
   "sideBar": true,
   "skip_h1_title": false,
   "title_cell": "Table of Contents",
   "title_sidebar": "Contents",
   "toc_cell": true,
   "toc_position": {},
   "toc_section_display": true,
   "toc_window_display": true
  }
 },
 "nbformat": 4,
 "nbformat_minor": 1
}
