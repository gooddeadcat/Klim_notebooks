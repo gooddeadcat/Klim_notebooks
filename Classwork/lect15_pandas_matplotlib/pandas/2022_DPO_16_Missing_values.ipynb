{
 "cells": [
  {
   "cell_type": "markdown",
   "metadata": {},
   "source": [
    "# Python для анализа данных\n",
    "\n",
    "## Как обработать датасет: стратегии работы с пропущенными, неинформативными и несогласованными данными. Основы работы с сайтом соревнований по машинному обучению kaggle.\n",
    "\n",
    "*Ян Пиле, НИУ ВШЭ*"
   ]
  },
  {
   "cell_type": "markdown",
   "metadata": {},
   "source": [
    "Когда мы работали с датасетом о пассажирах Титаника, мы уже встретились с пропущенными значениями в некоторых колонках. Теперь мы попробуем поамотреть на похожую ситуацию, но уже с другими данными. Сначала дадим \"Определение\".\n",
    "\n",
    "Очистка данных – это процесс обнаружения и исправления (или удаления) поврежденных или неточных записей из набора записей, таблицы или базы данных. Процесс включает в себя выявление неполных, неправильных, неточных или несущественных данных, а затем замену, изменение или удаление «загрязненных» данных.\n",
    "\n",
    "Звучит так себе. По порядку пройдемся по кусочкам этого определения и разберем методы поиска и исправления:\n",
    "\n",
    "* отсутствующих данных;\n",
    "* нетипичных данных – выбросов;\n",
    "* неинформативных данных – дубликатов;\n",
    "* несогласованных данных – одних и тех же данных, представленных в разных регистрах или форматах."
   ]
  },
  {
   "cell_type": "code",
   "execution_count": 1,
   "metadata": {},
   "outputs": [],
   "source": [
    "# импорт пакетов\n",
    "import pandas as pd\n",
    "import numpy as np\n",
    "import seaborn as sns\n",
    "import matplotlib.pyplot as plt\n",
    "import matplotlib.mlab as mlab\n",
    "import matplotlib\n",
    "plt.style.use('ggplot')\n",
    "from matplotlib.pyplot import figure\n",
    "%matplotlib inline\n",
    "matplotlib.rcParams['figure.figsize'] = (24,16)\n",
    "v = None"
   ]
  },
  {
   "cell_type": "markdown",
   "metadata": {},
   "source": [
    "Для начала посмотрим , где лежат наши данные (заодно и познакомимся с kaggle):\n",
    "\n",
    "https://www.kaggle.com/c/sberbank-russian-housing-market/overview/description \n",
    "\n",
    "Это данные о стоимости жилья."
   ]
  },
  {
   "cell_type": "code",
   "execution_count": 2,
   "metadata": {},
   "outputs": [
    {
     "name": "stdout",
     "output_type": "stream",
     "text": [
      "(30471, 292)\n"
     ]
    }
   ],
   "source": [
    "# чтение данных\n",
    "df = pd.read_csv('sberbank.csv')\n",
    "# shape and data types of the data\n",
    "print(df.shape)\n",
    "# print(df.dtypes)"
   ]
  },
  {
   "cell_type": "code",
   "execution_count": 3,
   "metadata": {},
   "outputs": [
    {
     "data": {
      "text/html": [
       "<div>\n",
       "<style scoped>\n",
       "    .dataframe tbody tr th:only-of-type {\n",
       "        vertical-align: middle;\n",
       "    }\n",
       "\n",
       "    .dataframe tbody tr th {\n",
       "        vertical-align: top;\n",
       "    }\n",
       "\n",
       "    .dataframe thead th {\n",
       "        text-align: right;\n",
       "    }\n",
       "</style>\n",
       "<table border=\"1\" class=\"dataframe\">\n",
       "  <thead>\n",
       "    <tr style=\"text-align: right;\">\n",
       "      <th></th>\n",
       "      <th>id</th>\n",
       "      <th>timestamp</th>\n",
       "      <th>full_sq</th>\n",
       "      <th>life_sq</th>\n",
       "      <th>floor</th>\n",
       "      <th>max_floor</th>\n",
       "      <th>material</th>\n",
       "      <th>build_year</th>\n",
       "      <th>num_room</th>\n",
       "      <th>kitch_sq</th>\n",
       "      <th>...</th>\n",
       "      <th>cafe_count_5000_price_2500</th>\n",
       "      <th>cafe_count_5000_price_4000</th>\n",
       "      <th>cafe_count_5000_price_high</th>\n",
       "      <th>big_church_count_5000</th>\n",
       "      <th>church_count_5000</th>\n",
       "      <th>mosque_count_5000</th>\n",
       "      <th>leisure_count_5000</th>\n",
       "      <th>sport_count_5000</th>\n",
       "      <th>market_count_5000</th>\n",
       "      <th>price_doc</th>\n",
       "    </tr>\n",
       "  </thead>\n",
       "  <tbody>\n",
       "    <tr>\n",
       "      <th>0</th>\n",
       "      <td>1</td>\n",
       "      <td>2011-08-20</td>\n",
       "      <td>43</td>\n",
       "      <td>27.0</td>\n",
       "      <td>4.0</td>\n",
       "      <td>NaN</td>\n",
       "      <td>NaN</td>\n",
       "      <td>NaN</td>\n",
       "      <td>NaN</td>\n",
       "      <td>NaN</td>\n",
       "      <td>...</td>\n",
       "      <td>9</td>\n",
       "      <td>4</td>\n",
       "      <td>0</td>\n",
       "      <td>13</td>\n",
       "      <td>22</td>\n",
       "      <td>1</td>\n",
       "      <td>0</td>\n",
       "      <td>52</td>\n",
       "      <td>4</td>\n",
       "      <td>5850000</td>\n",
       "    </tr>\n",
       "    <tr>\n",
       "      <th>1</th>\n",
       "      <td>2</td>\n",
       "      <td>2011-08-23</td>\n",
       "      <td>34</td>\n",
       "      <td>19.0</td>\n",
       "      <td>3.0</td>\n",
       "      <td>NaN</td>\n",
       "      <td>NaN</td>\n",
       "      <td>NaN</td>\n",
       "      <td>NaN</td>\n",
       "      <td>NaN</td>\n",
       "      <td>...</td>\n",
       "      <td>15</td>\n",
       "      <td>3</td>\n",
       "      <td>0</td>\n",
       "      <td>15</td>\n",
       "      <td>29</td>\n",
       "      <td>1</td>\n",
       "      <td>10</td>\n",
       "      <td>66</td>\n",
       "      <td>14</td>\n",
       "      <td>6000000</td>\n",
       "    </tr>\n",
       "    <tr>\n",
       "      <th>2</th>\n",
       "      <td>3</td>\n",
       "      <td>2011-08-27</td>\n",
       "      <td>43</td>\n",
       "      <td>29.0</td>\n",
       "      <td>2.0</td>\n",
       "      <td>NaN</td>\n",
       "      <td>NaN</td>\n",
       "      <td>NaN</td>\n",
       "      <td>NaN</td>\n",
       "      <td>NaN</td>\n",
       "      <td>...</td>\n",
       "      <td>10</td>\n",
       "      <td>3</td>\n",
       "      <td>0</td>\n",
       "      <td>11</td>\n",
       "      <td>27</td>\n",
       "      <td>0</td>\n",
       "      <td>4</td>\n",
       "      <td>67</td>\n",
       "      <td>10</td>\n",
       "      <td>5700000</td>\n",
       "    </tr>\n",
       "    <tr>\n",
       "      <th>3</th>\n",
       "      <td>4</td>\n",
       "      <td>2011-09-01</td>\n",
       "      <td>89</td>\n",
       "      <td>50.0</td>\n",
       "      <td>9.0</td>\n",
       "      <td>NaN</td>\n",
       "      <td>NaN</td>\n",
       "      <td>NaN</td>\n",
       "      <td>NaN</td>\n",
       "      <td>NaN</td>\n",
       "      <td>...</td>\n",
       "      <td>11</td>\n",
       "      <td>2</td>\n",
       "      <td>1</td>\n",
       "      <td>4</td>\n",
       "      <td>4</td>\n",
       "      <td>0</td>\n",
       "      <td>0</td>\n",
       "      <td>26</td>\n",
       "      <td>3</td>\n",
       "      <td>13100000</td>\n",
       "    </tr>\n",
       "    <tr>\n",
       "      <th>4</th>\n",
       "      <td>5</td>\n",
       "      <td>2011-09-05</td>\n",
       "      <td>77</td>\n",
       "      <td>77.0</td>\n",
       "      <td>4.0</td>\n",
       "      <td>NaN</td>\n",
       "      <td>NaN</td>\n",
       "      <td>NaN</td>\n",
       "      <td>NaN</td>\n",
       "      <td>NaN</td>\n",
       "      <td>...</td>\n",
       "      <td>319</td>\n",
       "      <td>108</td>\n",
       "      <td>17</td>\n",
       "      <td>135</td>\n",
       "      <td>236</td>\n",
       "      <td>2</td>\n",
       "      <td>91</td>\n",
       "      <td>195</td>\n",
       "      <td>14</td>\n",
       "      <td>16331452</td>\n",
       "    </tr>\n",
       "    <tr>\n",
       "      <th>...</th>\n",
       "      <td>...</td>\n",
       "      <td>...</td>\n",
       "      <td>...</td>\n",
       "      <td>...</td>\n",
       "      <td>...</td>\n",
       "      <td>...</td>\n",
       "      <td>...</td>\n",
       "      <td>...</td>\n",
       "      <td>...</td>\n",
       "      <td>...</td>\n",
       "      <td>...</td>\n",
       "      <td>...</td>\n",
       "      <td>...</td>\n",
       "      <td>...</td>\n",
       "      <td>...</td>\n",
       "      <td>...</td>\n",
       "      <td>...</td>\n",
       "      <td>...</td>\n",
       "      <td>...</td>\n",
       "      <td>...</td>\n",
       "      <td>...</td>\n",
       "    </tr>\n",
       "    <tr>\n",
       "      <th>30466</th>\n",
       "      <td>30469</td>\n",
       "      <td>2015-06-30</td>\n",
       "      <td>44</td>\n",
       "      <td>27.0</td>\n",
       "      <td>7.0</td>\n",
       "      <td>9.0</td>\n",
       "      <td>1.0</td>\n",
       "      <td>1975.0</td>\n",
       "      <td>2.0</td>\n",
       "      <td>6.0</td>\n",
       "      <td>...</td>\n",
       "      <td>15</td>\n",
       "      <td>5</td>\n",
       "      <td>0</td>\n",
       "      <td>15</td>\n",
       "      <td>26</td>\n",
       "      <td>1</td>\n",
       "      <td>2</td>\n",
       "      <td>84</td>\n",
       "      <td>6</td>\n",
       "      <td>7400000</td>\n",
       "    </tr>\n",
       "    <tr>\n",
       "      <th>30467</th>\n",
       "      <td>30470</td>\n",
       "      <td>2015-06-30</td>\n",
       "      <td>86</td>\n",
       "      <td>59.0</td>\n",
       "      <td>3.0</td>\n",
       "      <td>9.0</td>\n",
       "      <td>2.0</td>\n",
       "      <td>1935.0</td>\n",
       "      <td>4.0</td>\n",
       "      <td>10.0</td>\n",
       "      <td>...</td>\n",
       "      <td>313</td>\n",
       "      <td>128</td>\n",
       "      <td>24</td>\n",
       "      <td>98</td>\n",
       "      <td>182</td>\n",
       "      <td>1</td>\n",
       "      <td>82</td>\n",
       "      <td>171</td>\n",
       "      <td>15</td>\n",
       "      <td>25000000</td>\n",
       "    </tr>\n",
       "    <tr>\n",
       "      <th>30468</th>\n",
       "      <td>30471</td>\n",
       "      <td>2015-06-30</td>\n",
       "      <td>45</td>\n",
       "      <td>NaN</td>\n",
       "      <td>10.0</td>\n",
       "      <td>20.0</td>\n",
       "      <td>1.0</td>\n",
       "      <td>NaN</td>\n",
       "      <td>1.0</td>\n",
       "      <td>1.0</td>\n",
       "      <td>...</td>\n",
       "      <td>1</td>\n",
       "      <td>1</td>\n",
       "      <td>0</td>\n",
       "      <td>2</td>\n",
       "      <td>12</td>\n",
       "      <td>0</td>\n",
       "      <td>1</td>\n",
       "      <td>11</td>\n",
       "      <td>1</td>\n",
       "      <td>6970959</td>\n",
       "    </tr>\n",
       "    <tr>\n",
       "      <th>30469</th>\n",
       "      <td>30472</td>\n",
       "      <td>2015-06-30</td>\n",
       "      <td>64</td>\n",
       "      <td>32.0</td>\n",
       "      <td>5.0</td>\n",
       "      <td>15.0</td>\n",
       "      <td>1.0</td>\n",
       "      <td>2003.0</td>\n",
       "      <td>2.0</td>\n",
       "      <td>11.0</td>\n",
       "      <td>...</td>\n",
       "      <td>22</td>\n",
       "      <td>1</td>\n",
       "      <td>1</td>\n",
       "      <td>6</td>\n",
       "      <td>31</td>\n",
       "      <td>1</td>\n",
       "      <td>4</td>\n",
       "      <td>65</td>\n",
       "      <td>7</td>\n",
       "      <td>13500000</td>\n",
       "    </tr>\n",
       "    <tr>\n",
       "      <th>30470</th>\n",
       "      <td>30473</td>\n",
       "      <td>2015-06-30</td>\n",
       "      <td>43</td>\n",
       "      <td>28.0</td>\n",
       "      <td>1.0</td>\n",
       "      <td>9.0</td>\n",
       "      <td>1.0</td>\n",
       "      <td>1968.0</td>\n",
       "      <td>2.0</td>\n",
       "      <td>6.0</td>\n",
       "      <td>...</td>\n",
       "      <td>5</td>\n",
       "      <td>2</td>\n",
       "      <td>0</td>\n",
       "      <td>7</td>\n",
       "      <td>16</td>\n",
       "      <td>0</td>\n",
       "      <td>9</td>\n",
       "      <td>54</td>\n",
       "      <td>10</td>\n",
       "      <td>5600000</td>\n",
       "    </tr>\n",
       "  </tbody>\n",
       "</table>\n",
       "<p>30471 rows × 292 columns</p>\n",
       "</div>"
      ],
      "text/plain": [
       "          id   timestamp  full_sq  life_sq  floor  max_floor  material  \\\n",
       "0          1  2011-08-20       43     27.0    4.0        NaN       NaN   \n",
       "1          2  2011-08-23       34     19.0    3.0        NaN       NaN   \n",
       "2          3  2011-08-27       43     29.0    2.0        NaN       NaN   \n",
       "3          4  2011-09-01       89     50.0    9.0        NaN       NaN   \n",
       "4          5  2011-09-05       77     77.0    4.0        NaN       NaN   \n",
       "...      ...         ...      ...      ...    ...        ...       ...   \n",
       "30466  30469  2015-06-30       44     27.0    7.0        9.0       1.0   \n",
       "30467  30470  2015-06-30       86     59.0    3.0        9.0       2.0   \n",
       "30468  30471  2015-06-30       45      NaN   10.0       20.0       1.0   \n",
       "30469  30472  2015-06-30       64     32.0    5.0       15.0       1.0   \n",
       "30470  30473  2015-06-30       43     28.0    1.0        9.0       1.0   \n",
       "\n",
       "       build_year  num_room  kitch_sq  ...  cafe_count_5000_price_2500  \\\n",
       "0             NaN       NaN       NaN  ...                           9   \n",
       "1             NaN       NaN       NaN  ...                          15   \n",
       "2             NaN       NaN       NaN  ...                          10   \n",
       "3             NaN       NaN       NaN  ...                          11   \n",
       "4             NaN       NaN       NaN  ...                         319   \n",
       "...           ...       ...       ...  ...                         ...   \n",
       "30466      1975.0       2.0       6.0  ...                          15   \n",
       "30467      1935.0       4.0      10.0  ...                         313   \n",
       "30468         NaN       1.0       1.0  ...                           1   \n",
       "30469      2003.0       2.0      11.0  ...                          22   \n",
       "30470      1968.0       2.0       6.0  ...                           5   \n",
       "\n",
       "      cafe_count_5000_price_4000 cafe_count_5000_price_high  \\\n",
       "0                              4                          0   \n",
       "1                              3                          0   \n",
       "2                              3                          0   \n",
       "3                              2                          1   \n",
       "4                            108                         17   \n",
       "...                          ...                        ...   \n",
       "30466                          5                          0   \n",
       "30467                        128                         24   \n",
       "30468                          1                          0   \n",
       "30469                          1                          1   \n",
       "30470                          2                          0   \n",
       "\n",
       "       big_church_count_5000  church_count_5000  mosque_count_5000  \\\n",
       "0                         13                 22                  1   \n",
       "1                         15                 29                  1   \n",
       "2                         11                 27                  0   \n",
       "3                          4                  4                  0   \n",
       "4                        135                236                  2   \n",
       "...                      ...                ...                ...   \n",
       "30466                     15                 26                  1   \n",
       "30467                     98                182                  1   \n",
       "30468                      2                 12                  0   \n",
       "30469                      6                 31                  1   \n",
       "30470                      7                 16                  0   \n",
       "\n",
       "       leisure_count_5000  sport_count_5000  market_count_5000  price_doc  \n",
       "0                       0                52                  4    5850000  \n",
       "1                      10                66                 14    6000000  \n",
       "2                       4                67                 10    5700000  \n",
       "3                       0                26                  3   13100000  \n",
       "4                      91               195                 14   16331452  \n",
       "...                   ...               ...                ...        ...  \n",
       "30466                   2                84                  6    7400000  \n",
       "30467                  82               171                 15   25000000  \n",
       "30468                   1                11                  1    6970959  \n",
       "30469                   4                65                  7   13500000  \n",
       "30470                   9                54                 10    5600000  \n",
       "\n",
       "[30471 rows x 292 columns]"
      ]
     },
     "execution_count": 3,
     "metadata": {},
     "output_type": "execute_result"
    }
   ],
   "source": [
    "df"
   ]
  },
  {
   "cell_type": "code",
   "execution_count": 4,
   "metadata": {},
   "outputs": [
    {
     "name": "stdout",
     "output_type": "stream",
     "text": [
      "   id   timestamp  full_sq  life_sq  floor  max_floor  material  build_year  \\\n",
      "0   1  2011-08-20       43     27.0    4.0        NaN       NaN         NaN   \n",
      "1   2  2011-08-23       34     19.0    3.0        NaN       NaN         NaN   \n",
      "2   3  2011-08-27       43     29.0    2.0        NaN       NaN         NaN   \n",
      "3   4  2011-09-01       89     50.0    9.0        NaN       NaN         NaN   \n",
      "4   5  2011-09-05       77     77.0    4.0        NaN       NaN         NaN   \n",
      "\n",
      "   num_room  kitch_sq  ...  cafe_count_5000_price_2500  \\\n",
      "0       NaN       NaN  ...                           9   \n",
      "1       NaN       NaN  ...                          15   \n",
      "2       NaN       NaN  ...                          10   \n",
      "3       NaN       NaN  ...                          11   \n",
      "4       NaN       NaN  ...                         319   \n",
      "\n",
      "  cafe_count_5000_price_4000 cafe_count_5000_price_high  \\\n",
      "0                          4                          0   \n",
      "1                          3                          0   \n",
      "2                          3                          0   \n",
      "3                          2                          1   \n",
      "4                        108                         17   \n",
      "\n",
      "   big_church_count_5000  church_count_5000  mosque_count_5000  \\\n",
      "0                     13                 22                  1   \n",
      "1                     15                 29                  1   \n",
      "2                     11                 27                  0   \n",
      "3                      4                  4                  0   \n",
      "4                    135                236                  2   \n",
      "\n",
      "   leisure_count_5000  sport_count_5000  market_count_5000  price_doc  \n",
      "0                   0                52                  4    5850000  \n",
      "1                  10                66                 14    6000000  \n",
      "2                   4                67                 10    5700000  \n",
      "3                   0                26                  3   13100000  \n",
      "4                  91               195                 14   16331452  \n",
      "\n",
      "[5 rows x 292 columns]\n"
     ]
    }
   ],
   "source": [
    "print(df.head())"
   ]
  },
  {
   "cell_type": "code",
   "execution_count": 5,
   "metadata": {},
   "outputs": [
    {
     "name": "stdout",
     "output_type": "stream",
     "text": [
      "<class 'pandas.core.frame.DataFrame'>\n",
      "RangeIndex: 30471 entries, 0 to 30470\n",
      "Columns: 292 entries, id to price_doc\n",
      "dtypes: float64(119), int64(157), object(16)\n",
      "memory usage: 67.9+ MB\n"
     ]
    }
   ],
   "source": [
    "df.info()"
   ]
  },
  {
   "cell_type": "code",
   "execution_count": 6,
   "metadata": {},
   "outputs": [
    {
     "data": {
      "text/plain": [
       "<bound method DataFrame.info of           id   timestamp  full_sq  life_sq  floor  max_floor  material  \\\n",
       "0          1  2011-08-20       43     27.0    4.0        NaN       NaN   \n",
       "1          2  2011-08-23       34     19.0    3.0        NaN       NaN   \n",
       "2          3  2011-08-27       43     29.0    2.0        NaN       NaN   \n",
       "3          4  2011-09-01       89     50.0    9.0        NaN       NaN   \n",
       "4          5  2011-09-05       77     77.0    4.0        NaN       NaN   \n",
       "...      ...         ...      ...      ...    ...        ...       ...   \n",
       "30466  30469  2015-06-30       44     27.0    7.0        9.0       1.0   \n",
       "30467  30470  2015-06-30       86     59.0    3.0        9.0       2.0   \n",
       "30468  30471  2015-06-30       45      NaN   10.0       20.0       1.0   \n",
       "30469  30472  2015-06-30       64     32.0    5.0       15.0       1.0   \n",
       "30470  30473  2015-06-30       43     28.0    1.0        9.0       1.0   \n",
       "\n",
       "       build_year  num_room  kitch_sq  ...  cafe_count_5000_price_2500  \\\n",
       "0             NaN       NaN       NaN  ...                           9   \n",
       "1             NaN       NaN       NaN  ...                          15   \n",
       "2             NaN       NaN       NaN  ...                          10   \n",
       "3             NaN       NaN       NaN  ...                          11   \n",
       "4             NaN       NaN       NaN  ...                         319   \n",
       "...           ...       ...       ...  ...                         ...   \n",
       "30466      1975.0       2.0       6.0  ...                          15   \n",
       "30467      1935.0       4.0      10.0  ...                         313   \n",
       "30468         NaN       1.0       1.0  ...                           1   \n",
       "30469      2003.0       2.0      11.0  ...                          22   \n",
       "30470      1968.0       2.0       6.0  ...                           5   \n",
       "\n",
       "      cafe_count_5000_price_4000 cafe_count_5000_price_high  \\\n",
       "0                              4                          0   \n",
       "1                              3                          0   \n",
       "2                              3                          0   \n",
       "3                              2                          1   \n",
       "4                            108                         17   \n",
       "...                          ...                        ...   \n",
       "30466                          5                          0   \n",
       "30467                        128                         24   \n",
       "30468                          1                          0   \n",
       "30469                          1                          1   \n",
       "30470                          2                          0   \n",
       "\n",
       "       big_church_count_5000  church_count_5000  mosque_count_5000  \\\n",
       "0                         13                 22                  1   \n",
       "1                         15                 29                  1   \n",
       "2                         11                 27                  0   \n",
       "3                          4                  4                  0   \n",
       "4                        135                236                  2   \n",
       "...                      ...                ...                ...   \n",
       "30466                     15                 26                  1   \n",
       "30467                     98                182                  1   \n",
       "30468                      2                 12                  0   \n",
       "30469                      6                 31                  1   \n",
       "30470                      7                 16                  0   \n",
       "\n",
       "       leisure_count_5000  sport_count_5000  market_count_5000  price_doc  \n",
       "0                       0                52                  4    5850000  \n",
       "1                      10                66                 14    6000000  \n",
       "2                       4                67                 10    5700000  \n",
       "3                       0                26                  3   13100000  \n",
       "4                      91               195                 14   16331452  \n",
       "...                   ...               ...                ...        ...  \n",
       "30466                   2                84                  6    7400000  \n",
       "30467                  82               171                 15   25000000  \n",
       "30468                   1                11                  1    6970959  \n",
       "30469                   4                65                  7   13500000  \n",
       "30470                   9                54                 10    5600000  \n",
       "\n",
       "[30471 rows x 292 columns]>"
      ]
     },
     "execution_count": 6,
     "metadata": {},
     "output_type": "execute_result"
    }
   ],
   "source": [
    "df.info"
   ]
  },
  {
   "cell_type": "code",
   "execution_count": 7,
   "metadata": {},
   "outputs": [
    {
     "data": {
      "text/plain": [
       "id                      int64\n",
       "timestamp              object\n",
       "full_sq                 int64\n",
       "life_sq               float64\n",
       "floor                 float64\n",
       "                       ...   \n",
       "mosque_count_5000       int64\n",
       "leisure_count_5000      int64\n",
       "sport_count_5000        int64\n",
       "market_count_5000       int64\n",
       "price_doc               int64\n",
       "Length: 292, dtype: object"
      ]
     },
     "execution_count": 7,
     "metadata": {},
     "output_type": "execute_result"
    }
   ],
   "source": [
    "df.dtypes"
   ]
  },
  {
   "cell_type": "code",
   "execution_count": 8,
   "metadata": {},
   "outputs": [],
   "source": [
    "# отбор числовых колонок (признаков)\n",
    "df_numeric = df.select_dtypes(include=[np.number])\n",
    "numeric_cols = df_numeric.columns.values\n",
    "# print(numeric_cols)\n",
    "# отбор нечисловых колонок (признаков)\n",
    "df_non_numeric = df.select_dtypes(exclude=[np.number])\n",
    "non_numeric_cols = df_non_numeric.columns.values\n",
    "# print(non_numeric_cols)"
   ]
  },
  {
   "cell_type": "code",
   "execution_count": 9,
   "metadata": {},
   "outputs": [
    {
     "data": {
      "text/plain": [
       "array(['timestamp', 'product_type', 'sub_area', 'culture_objects_top_25',\n",
       "       'thermal_power_plant_raion', 'incineration_raion',\n",
       "       'oil_chemistry_raion', 'radiation_raion',\n",
       "       'railroad_terminal_raion', 'big_market_raion',\n",
       "       'nuclear_reactor_raion', 'detention_facility_raion', 'water_1line',\n",
       "       'big_road1_1line', 'railroad_1line', 'ecology'], dtype=object)"
      ]
     },
     "execution_count": 9,
     "metadata": {},
     "output_type": "execute_result"
    }
   ],
   "source": [
    "non_numeric_cols"
   ]
  },
  {
   "cell_type": "code",
   "execution_count": 10,
   "metadata": {},
   "outputs": [
    {
     "data": {
      "text/plain": [
       "array(['id', 'full_sq', 'life_sq', 'floor', 'max_floor', 'material',\n",
       "       'build_year', 'num_room', 'kitch_sq', 'state', 'area_m',\n",
       "       'raion_popul', 'green_zone_part', 'indust_part',\n",
       "       'children_preschool', 'preschool_quota',\n",
       "       'preschool_education_centers_raion', 'children_school',\n",
       "       'school_quota', 'school_education_centers_raion',\n",
       "       'school_education_centers_top_20_raion', 'hospital_beds_raion',\n",
       "       'healthcare_centers_raion', 'university_top_20_raion',\n",
       "       'sport_objects_raion', 'additional_education_raion',\n",
       "       'culture_objects_top_25_raion', 'shopping_centers_raion',\n",
       "       'office_raion', 'full_all', 'male_f', 'female_f', 'young_all',\n",
       "       'young_male', 'young_female', 'work_all', 'work_male',\n",
       "       'work_female', 'ekder_all', 'ekder_male', 'ekder_female',\n",
       "       '0_6_all', '0_6_male', '0_6_female', '7_14_all', '7_14_male',\n",
       "       '7_14_female', '0_17_all', '0_17_male', '0_17_female', '16_29_all',\n",
       "       '16_29_male', '16_29_female', '0_13_all', '0_13_male',\n",
       "       '0_13_female', 'raion_build_count_with_material_info',\n",
       "       'build_count_block', 'build_count_wood', 'build_count_frame',\n",
       "       'build_count_brick', 'build_count_monolith', 'build_count_panel',\n",
       "       'build_count_foam', 'build_count_slag', 'build_count_mix',\n",
       "       'raion_build_count_with_builddate_info', 'build_count_before_1920',\n",
       "       'build_count_1921-1945', 'build_count_1946-1970',\n",
       "       'build_count_1971-1995', 'build_count_after_1995', 'ID_metro',\n",
       "       'metro_min_avto', 'metro_km_avto', 'metro_min_walk',\n",
       "       'metro_km_walk', 'kindergarten_km', 'school_km', 'park_km',\n",
       "       'green_zone_km', 'industrial_km', 'water_treatment_km',\n",
       "       'cemetery_km', 'incineration_km', 'railroad_station_walk_km',\n",
       "       'railroad_station_walk_min', 'ID_railroad_station_walk',\n",
       "       'railroad_station_avto_km', 'railroad_station_avto_min',\n",
       "       'ID_railroad_station_avto', 'public_transport_station_km',\n",
       "       'public_transport_station_min_walk', 'water_km', 'mkad_km',\n",
       "       'ttk_km', 'sadovoe_km', 'bulvar_ring_km', 'kremlin_km',\n",
       "       'big_road1_km', 'ID_big_road1', 'big_road2_km', 'ID_big_road2',\n",
       "       'railroad_km', 'zd_vokzaly_avto_km', 'ID_railroad_terminal',\n",
       "       'bus_terminal_avto_km', 'ID_bus_terminal', 'oil_chemistry_km',\n",
       "       'nuclear_reactor_km', 'radiation_km', 'power_transmission_line_km',\n",
       "       'thermal_power_plant_km', 'ts_km', 'big_market_km',\n",
       "       'market_shop_km', 'fitness_km', 'swim_pool_km', 'ice_rink_km',\n",
       "       'stadium_km', 'basketball_km', 'hospice_morgue_km',\n",
       "       'detention_facility_km', 'public_healthcare_km', 'university_km',\n",
       "       'workplaces_km', 'shopping_centers_km', 'office_km',\n",
       "       'additional_education_km', 'preschool_km', 'big_church_km',\n",
       "       'church_synagogue_km', 'mosque_km', 'theater_km', 'museum_km',\n",
       "       'exhibition_km', 'catering_km', 'green_part_500', 'prom_part_500',\n",
       "       'office_count_500', 'office_sqm_500', 'trc_count_500',\n",
       "       'trc_sqm_500', 'cafe_count_500', 'cafe_sum_500_min_price_avg',\n",
       "       'cafe_sum_500_max_price_avg', 'cafe_avg_price_500',\n",
       "       'cafe_count_500_na_price', 'cafe_count_500_price_500',\n",
       "       'cafe_count_500_price_1000', 'cafe_count_500_price_1500',\n",
       "       'cafe_count_500_price_2500', 'cafe_count_500_price_4000',\n",
       "       'cafe_count_500_price_high', 'big_church_count_500',\n",
       "       'church_count_500', 'mosque_count_500', 'leisure_count_500',\n",
       "       'sport_count_500', 'market_count_500', 'green_part_1000',\n",
       "       'prom_part_1000', 'office_count_1000', 'office_sqm_1000',\n",
       "       'trc_count_1000', 'trc_sqm_1000', 'cafe_count_1000',\n",
       "       'cafe_sum_1000_min_price_avg', 'cafe_sum_1000_max_price_avg',\n",
       "       'cafe_avg_price_1000', 'cafe_count_1000_na_price',\n",
       "       'cafe_count_1000_price_500', 'cafe_count_1000_price_1000',\n",
       "       'cafe_count_1000_price_1500', 'cafe_count_1000_price_2500',\n",
       "       'cafe_count_1000_price_4000', 'cafe_count_1000_price_high',\n",
       "       'big_church_count_1000', 'church_count_1000', 'mosque_count_1000',\n",
       "       'leisure_count_1000', 'sport_count_1000', 'market_count_1000',\n",
       "       'green_part_1500', 'prom_part_1500', 'office_count_1500',\n",
       "       'office_sqm_1500', 'trc_count_1500', 'trc_sqm_1500',\n",
       "       'cafe_count_1500', 'cafe_sum_1500_min_price_avg',\n",
       "       'cafe_sum_1500_max_price_avg', 'cafe_avg_price_1500',\n",
       "       'cafe_count_1500_na_price', 'cafe_count_1500_price_500',\n",
       "       'cafe_count_1500_price_1000', 'cafe_count_1500_price_1500',\n",
       "       'cafe_count_1500_price_2500', 'cafe_count_1500_price_4000',\n",
       "       'cafe_count_1500_price_high', 'big_church_count_1500',\n",
       "       'church_count_1500', 'mosque_count_1500', 'leisure_count_1500',\n",
       "       'sport_count_1500', 'market_count_1500', 'green_part_2000',\n",
       "       'prom_part_2000', 'office_count_2000', 'office_sqm_2000',\n",
       "       'trc_count_2000', 'trc_sqm_2000', 'cafe_count_2000',\n",
       "       'cafe_sum_2000_min_price_avg', 'cafe_sum_2000_max_price_avg',\n",
       "       'cafe_avg_price_2000', 'cafe_count_2000_na_price',\n",
       "       'cafe_count_2000_price_500', 'cafe_count_2000_price_1000',\n",
       "       'cafe_count_2000_price_1500', 'cafe_count_2000_price_2500',\n",
       "       'cafe_count_2000_price_4000', 'cafe_count_2000_price_high',\n",
       "       'big_church_count_2000', 'church_count_2000', 'mosque_count_2000',\n",
       "       'leisure_count_2000', 'sport_count_2000', 'market_count_2000',\n",
       "       'green_part_3000', 'prom_part_3000', 'office_count_3000',\n",
       "       'office_sqm_3000', 'trc_count_3000', 'trc_sqm_3000',\n",
       "       'cafe_count_3000', 'cafe_sum_3000_min_price_avg',\n",
       "       'cafe_sum_3000_max_price_avg', 'cafe_avg_price_3000',\n",
       "       'cafe_count_3000_na_price', 'cafe_count_3000_price_500',\n",
       "       'cafe_count_3000_price_1000', 'cafe_count_3000_price_1500',\n",
       "       'cafe_count_3000_price_2500', 'cafe_count_3000_price_4000',\n",
       "       'cafe_count_3000_price_high', 'big_church_count_3000',\n",
       "       'church_count_3000', 'mosque_count_3000', 'leisure_count_3000',\n",
       "       'sport_count_3000', 'market_count_3000', 'green_part_5000',\n",
       "       'prom_part_5000', 'office_count_5000', 'office_sqm_5000',\n",
       "       'trc_count_5000', 'trc_sqm_5000', 'cafe_count_5000',\n",
       "       'cafe_sum_5000_min_price_avg', 'cafe_sum_5000_max_price_avg',\n",
       "       'cafe_avg_price_5000', 'cafe_count_5000_na_price',\n",
       "       'cafe_count_5000_price_500', 'cafe_count_5000_price_1000',\n",
       "       'cafe_count_5000_price_1500', 'cafe_count_5000_price_2500',\n",
       "       'cafe_count_5000_price_4000', 'cafe_count_5000_price_high',\n",
       "       'big_church_count_5000', 'church_count_5000', 'mosque_count_5000',\n",
       "       'leisure_count_5000', 'sport_count_5000', 'market_count_5000',\n",
       "       'price_doc'], dtype=object)"
      ]
     },
     "execution_count": 10,
     "metadata": {},
     "output_type": "execute_result"
    }
   ],
   "source": [
    "numeric_cols"
   ]
  },
  {
   "cell_type": "code",
   "execution_count": 11,
   "metadata": {},
   "outputs": [
    {
     "data": {
      "text/plain": [
       "pandas.core.indexes.base.Index"
      ]
     },
     "execution_count": 11,
     "metadata": {},
     "output_type": "execute_result"
    }
   ],
   "source": [
    "type(df_non_numeric.columns)"
   ]
  },
  {
   "cell_type": "code",
   "execution_count": 12,
   "metadata": {},
   "outputs": [
    {
     "data": {
      "text/plain": [
       "numpy.ndarray"
      ]
     },
     "execution_count": 12,
     "metadata": {},
     "output_type": "execute_result"
    }
   ],
   "source": [
    "type(df_non_numeric.columns.values)"
   ]
  },
  {
   "cell_type": "code",
   "execution_count": null,
   "metadata": {},
   "outputs": [],
   "source": []
  },
  {
   "cell_type": "code",
   "execution_count": 13,
   "metadata": {},
   "outputs": [
    {
     "data": {
      "text/plain": [
       "id                       0\n",
       "timestamp                0\n",
       "full_sq                  0\n",
       "life_sq               6383\n",
       "floor                  167\n",
       "                      ... \n",
       "mosque_count_5000        0\n",
       "leisure_count_5000       0\n",
       "sport_count_5000         0\n",
       "market_count_5000        0\n",
       "price_doc                0\n",
       "Length: 292, dtype: int64"
      ]
     },
     "execution_count": 13,
     "metadata": {},
     "output_type": "execute_result"
    }
   ],
   "source": [
    "df.isnull().sum() #подсчитать кол-во пропусков\n",
    "# null = NaN (not a number)"
   ]
  },
  {
   "cell_type": "code",
   "execution_count": 14,
   "metadata": {},
   "outputs": [
    {
     "data": {
      "text/plain": [
       "hospital_beds_raion                      14441\n",
       "build_year                               13605\n",
       "state                                    13559\n",
       "cafe_avg_price_500                       13281\n",
       "cafe_sum_500_max_price_avg               13281\n",
       "cafe_sum_500_min_price_avg               13281\n",
       "max_floor                                 9572\n",
       "material                                  9572\n",
       "num_room                                  9572\n",
       "kitch_sq                                  9572\n",
       "preschool_quota                           6688\n",
       "school_quota                              6685\n",
       "cafe_sum_1000_max_price_avg               6524\n",
       "cafe_avg_price_1000                       6524\n",
       "cafe_sum_1000_min_price_avg               6524\n",
       "life_sq                                   6383\n",
       "build_count_wood                          4991\n",
       "build_count_frame                         4991\n",
       "build_count_brick                         4991\n",
       "build_count_monolith                      4991\n",
       "build_count_foam                          4991\n",
       "build_count_panel                         4991\n",
       "build_count_1971-1995                     4991\n",
       "build_count_slag                          4991\n",
       "build_count_mix                           4991\n",
       "raion_build_count_with_builddate_info     4991\n",
       "build_count_before_1920                   4991\n",
       "build_count_1921-1945                     4991\n",
       "raion_build_count_with_material_info      4991\n",
       "build_count_after_1995                    4991\n",
       "build_count_block                         4991\n",
       "build_count_1946-1970                     4991\n",
       "cafe_sum_1500_min_price_avg               4199\n",
       "cafe_sum_1500_max_price_avg               4199\n",
       "cafe_avg_price_1500                       4199\n",
       "cafe_sum_2000_min_price_avg               1725\n",
       "cafe_avg_price_2000                       1725\n",
       "cafe_sum_2000_max_price_avg               1725\n",
       "cafe_sum_3000_min_price_avg                991\n",
       "cafe_sum_3000_max_price_avg                991\n",
       "cafe_avg_price_3000                        991\n",
       "cafe_avg_price_5000                        297\n",
       "cafe_sum_5000_min_price_avg                297\n",
       "cafe_sum_5000_max_price_avg                297\n",
       "prom_part_5000                             178\n",
       "floor                                      167\n",
       "railroad_station_walk_km                    25\n",
       "railroad_station_walk_min                   25\n",
       "ID_railroad_station_walk                    25\n",
       "metro_km_walk                               25\n",
       "dtype: int64"
      ]
     },
     "execution_count": 14,
     "metadata": {},
     "output_type": "execute_result"
    }
   ],
   "source": [
    "df.isnull().sum().sort_values(ascending=False)[:50] #подсчитать кол-во пропусков"
   ]
  },
  {
   "cell_type": "code",
   "execution_count": 15,
   "metadata": {},
   "outputs": [
    {
     "data": {
      "text/plain": [
       "261026"
      ]
     },
     "execution_count": 15,
     "metadata": {},
     "output_type": "execute_result"
    }
   ],
   "source": [
    "df.isnull().sum().sum()"
   ]
  },
  {
   "cell_type": "markdown",
   "metadata": {},
   "source": [
    "Набор данных состоит из 30471 строки и 292 столбцов. Отделим яисловые и нечисловые колонки.\n",
    "\n",
    "Теперь мы можем просмотреть, что же тут такого «грязного» и как это очистить."
   ]
  },
  {
   "cell_type": "markdown",
   "metadata": {},
   "source": [
    "## Отсутствующие данные\n",
    "\n",
    "Работа с отсутствующими значениями – одна из самых сложных, но и самых распространенных проблем очистки. Многие ML-модели не предполагают пропусков."
   ]
  },
  {
   "cell_type": "markdown",
   "metadata": {},
   "source": [
    "### Метод 1 - Тепловая карта"
   ]
  },
  {
   "cell_type": "markdown",
   "metadata": {},
   "source": [
    "Приведенная карта построена для первых 30 признаков набора. По горизонтальной оси расположены признаки, по вертикальной – номера записей/строк. Желтый цвет соответствует пропускам данных.\n",
    "\n",
    "Заметно, например, что признак life_sq имеет довольно много пустых строк, а признак floor – напротив, всего парочку – около 7000 строки."
   ]
  },
  {
   "cell_type": "code",
   "execution_count": 16,
   "metadata": {},
   "outputs": [],
   "source": [
    "#import seaborn as sns"
   ]
  },
  {
   "cell_type": "code",
   "execution_count": 17,
   "metadata": {},
   "outputs": [
    {
     "data": {
      "text/html": [
       "<div>\n",
       "<style scoped>\n",
       "    .dataframe tbody tr th:only-of-type {\n",
       "        vertical-align: middle;\n",
       "    }\n",
       "\n",
       "    .dataframe tbody tr th {\n",
       "        vertical-align: top;\n",
       "    }\n",
       "\n",
       "    .dataframe thead th {\n",
       "        text-align: right;\n",
       "    }\n",
       "</style>\n",
       "<table border=\"1\" class=\"dataframe\">\n",
       "  <thead>\n",
       "    <tr style=\"text-align: right;\">\n",
       "      <th></th>\n",
       "      <th>id</th>\n",
       "      <th>timestamp</th>\n",
       "      <th>full_sq</th>\n",
       "      <th>life_sq</th>\n",
       "      <th>floor</th>\n",
       "      <th>max_floor</th>\n",
       "      <th>material</th>\n",
       "      <th>build_year</th>\n",
       "      <th>num_room</th>\n",
       "      <th>kitch_sq</th>\n",
       "      <th>...</th>\n",
       "      <th>cafe_count_5000_price_2500</th>\n",
       "      <th>cafe_count_5000_price_4000</th>\n",
       "      <th>cafe_count_5000_price_high</th>\n",
       "      <th>big_church_count_5000</th>\n",
       "      <th>church_count_5000</th>\n",
       "      <th>mosque_count_5000</th>\n",
       "      <th>leisure_count_5000</th>\n",
       "      <th>sport_count_5000</th>\n",
       "      <th>market_count_5000</th>\n",
       "      <th>price_doc</th>\n",
       "    </tr>\n",
       "  </thead>\n",
       "  <tbody>\n",
       "    <tr>\n",
       "      <th>0</th>\n",
       "      <td>1</td>\n",
       "      <td>2011-08-20</td>\n",
       "      <td>43</td>\n",
       "      <td>27.0</td>\n",
       "      <td>4.0</td>\n",
       "      <td>NaN</td>\n",
       "      <td>NaN</td>\n",
       "      <td>NaN</td>\n",
       "      <td>NaN</td>\n",
       "      <td>NaN</td>\n",
       "      <td>...</td>\n",
       "      <td>9</td>\n",
       "      <td>4</td>\n",
       "      <td>0</td>\n",
       "      <td>13</td>\n",
       "      <td>22</td>\n",
       "      <td>1</td>\n",
       "      <td>0</td>\n",
       "      <td>52</td>\n",
       "      <td>4</td>\n",
       "      <td>5850000</td>\n",
       "    </tr>\n",
       "    <tr>\n",
       "      <th>1</th>\n",
       "      <td>2</td>\n",
       "      <td>2011-08-23</td>\n",
       "      <td>34</td>\n",
       "      <td>19.0</td>\n",
       "      <td>3.0</td>\n",
       "      <td>NaN</td>\n",
       "      <td>NaN</td>\n",
       "      <td>NaN</td>\n",
       "      <td>NaN</td>\n",
       "      <td>NaN</td>\n",
       "      <td>...</td>\n",
       "      <td>15</td>\n",
       "      <td>3</td>\n",
       "      <td>0</td>\n",
       "      <td>15</td>\n",
       "      <td>29</td>\n",
       "      <td>1</td>\n",
       "      <td>10</td>\n",
       "      <td>66</td>\n",
       "      <td>14</td>\n",
       "      <td>6000000</td>\n",
       "    </tr>\n",
       "    <tr>\n",
       "      <th>2</th>\n",
       "      <td>3</td>\n",
       "      <td>2011-08-27</td>\n",
       "      <td>43</td>\n",
       "      <td>29.0</td>\n",
       "      <td>2.0</td>\n",
       "      <td>NaN</td>\n",
       "      <td>NaN</td>\n",
       "      <td>NaN</td>\n",
       "      <td>NaN</td>\n",
       "      <td>NaN</td>\n",
       "      <td>...</td>\n",
       "      <td>10</td>\n",
       "      <td>3</td>\n",
       "      <td>0</td>\n",
       "      <td>11</td>\n",
       "      <td>27</td>\n",
       "      <td>0</td>\n",
       "      <td>4</td>\n",
       "      <td>67</td>\n",
       "      <td>10</td>\n",
       "      <td>5700000</td>\n",
       "    </tr>\n",
       "    <tr>\n",
       "      <th>3</th>\n",
       "      <td>4</td>\n",
       "      <td>2011-09-01</td>\n",
       "      <td>89</td>\n",
       "      <td>50.0</td>\n",
       "      <td>9.0</td>\n",
       "      <td>NaN</td>\n",
       "      <td>NaN</td>\n",
       "      <td>NaN</td>\n",
       "      <td>NaN</td>\n",
       "      <td>NaN</td>\n",
       "      <td>...</td>\n",
       "      <td>11</td>\n",
       "      <td>2</td>\n",
       "      <td>1</td>\n",
       "      <td>4</td>\n",
       "      <td>4</td>\n",
       "      <td>0</td>\n",
       "      <td>0</td>\n",
       "      <td>26</td>\n",
       "      <td>3</td>\n",
       "      <td>13100000</td>\n",
       "    </tr>\n",
       "    <tr>\n",
       "      <th>4</th>\n",
       "      <td>5</td>\n",
       "      <td>2011-09-05</td>\n",
       "      <td>77</td>\n",
       "      <td>77.0</td>\n",
       "      <td>4.0</td>\n",
       "      <td>NaN</td>\n",
       "      <td>NaN</td>\n",
       "      <td>NaN</td>\n",
       "      <td>NaN</td>\n",
       "      <td>NaN</td>\n",
       "      <td>...</td>\n",
       "      <td>319</td>\n",
       "      <td>108</td>\n",
       "      <td>17</td>\n",
       "      <td>135</td>\n",
       "      <td>236</td>\n",
       "      <td>2</td>\n",
       "      <td>91</td>\n",
       "      <td>195</td>\n",
       "      <td>14</td>\n",
       "      <td>16331452</td>\n",
       "    </tr>\n",
       "    <tr>\n",
       "      <th>...</th>\n",
       "      <td>...</td>\n",
       "      <td>...</td>\n",
       "      <td>...</td>\n",
       "      <td>...</td>\n",
       "      <td>...</td>\n",
       "      <td>...</td>\n",
       "      <td>...</td>\n",
       "      <td>...</td>\n",
       "      <td>...</td>\n",
       "      <td>...</td>\n",
       "      <td>...</td>\n",
       "      <td>...</td>\n",
       "      <td>...</td>\n",
       "      <td>...</td>\n",
       "      <td>...</td>\n",
       "      <td>...</td>\n",
       "      <td>...</td>\n",
       "      <td>...</td>\n",
       "      <td>...</td>\n",
       "      <td>...</td>\n",
       "      <td>...</td>\n",
       "    </tr>\n",
       "    <tr>\n",
       "      <th>30466</th>\n",
       "      <td>30469</td>\n",
       "      <td>2015-06-30</td>\n",
       "      <td>44</td>\n",
       "      <td>27.0</td>\n",
       "      <td>7.0</td>\n",
       "      <td>9.0</td>\n",
       "      <td>1.0</td>\n",
       "      <td>1975.0</td>\n",
       "      <td>2.0</td>\n",
       "      <td>6.0</td>\n",
       "      <td>...</td>\n",
       "      <td>15</td>\n",
       "      <td>5</td>\n",
       "      <td>0</td>\n",
       "      <td>15</td>\n",
       "      <td>26</td>\n",
       "      <td>1</td>\n",
       "      <td>2</td>\n",
       "      <td>84</td>\n",
       "      <td>6</td>\n",
       "      <td>7400000</td>\n",
       "    </tr>\n",
       "    <tr>\n",
       "      <th>30467</th>\n",
       "      <td>30470</td>\n",
       "      <td>2015-06-30</td>\n",
       "      <td>86</td>\n",
       "      <td>59.0</td>\n",
       "      <td>3.0</td>\n",
       "      <td>9.0</td>\n",
       "      <td>2.0</td>\n",
       "      <td>1935.0</td>\n",
       "      <td>4.0</td>\n",
       "      <td>10.0</td>\n",
       "      <td>...</td>\n",
       "      <td>313</td>\n",
       "      <td>128</td>\n",
       "      <td>24</td>\n",
       "      <td>98</td>\n",
       "      <td>182</td>\n",
       "      <td>1</td>\n",
       "      <td>82</td>\n",
       "      <td>171</td>\n",
       "      <td>15</td>\n",
       "      <td>25000000</td>\n",
       "    </tr>\n",
       "    <tr>\n",
       "      <th>30468</th>\n",
       "      <td>30471</td>\n",
       "      <td>2015-06-30</td>\n",
       "      <td>45</td>\n",
       "      <td>NaN</td>\n",
       "      <td>10.0</td>\n",
       "      <td>20.0</td>\n",
       "      <td>1.0</td>\n",
       "      <td>NaN</td>\n",
       "      <td>1.0</td>\n",
       "      <td>1.0</td>\n",
       "      <td>...</td>\n",
       "      <td>1</td>\n",
       "      <td>1</td>\n",
       "      <td>0</td>\n",
       "      <td>2</td>\n",
       "      <td>12</td>\n",
       "      <td>0</td>\n",
       "      <td>1</td>\n",
       "      <td>11</td>\n",
       "      <td>1</td>\n",
       "      <td>6970959</td>\n",
       "    </tr>\n",
       "    <tr>\n",
       "      <th>30469</th>\n",
       "      <td>30472</td>\n",
       "      <td>2015-06-30</td>\n",
       "      <td>64</td>\n",
       "      <td>32.0</td>\n",
       "      <td>5.0</td>\n",
       "      <td>15.0</td>\n",
       "      <td>1.0</td>\n",
       "      <td>2003.0</td>\n",
       "      <td>2.0</td>\n",
       "      <td>11.0</td>\n",
       "      <td>...</td>\n",
       "      <td>22</td>\n",
       "      <td>1</td>\n",
       "      <td>1</td>\n",
       "      <td>6</td>\n",
       "      <td>31</td>\n",
       "      <td>1</td>\n",
       "      <td>4</td>\n",
       "      <td>65</td>\n",
       "      <td>7</td>\n",
       "      <td>13500000</td>\n",
       "    </tr>\n",
       "    <tr>\n",
       "      <th>30470</th>\n",
       "      <td>30473</td>\n",
       "      <td>2015-06-30</td>\n",
       "      <td>43</td>\n",
       "      <td>28.0</td>\n",
       "      <td>1.0</td>\n",
       "      <td>9.0</td>\n",
       "      <td>1.0</td>\n",
       "      <td>1968.0</td>\n",
       "      <td>2.0</td>\n",
       "      <td>6.0</td>\n",
       "      <td>...</td>\n",
       "      <td>5</td>\n",
       "      <td>2</td>\n",
       "      <td>0</td>\n",
       "      <td>7</td>\n",
       "      <td>16</td>\n",
       "      <td>0</td>\n",
       "      <td>9</td>\n",
       "      <td>54</td>\n",
       "      <td>10</td>\n",
       "      <td>5600000</td>\n",
       "    </tr>\n",
       "  </tbody>\n",
       "</table>\n",
       "<p>30471 rows × 292 columns</p>\n",
       "</div>"
      ],
      "text/plain": [
       "          id   timestamp  full_sq  life_sq  floor  max_floor  material  \\\n",
       "0          1  2011-08-20       43     27.0    4.0        NaN       NaN   \n",
       "1          2  2011-08-23       34     19.0    3.0        NaN       NaN   \n",
       "2          3  2011-08-27       43     29.0    2.0        NaN       NaN   \n",
       "3          4  2011-09-01       89     50.0    9.0        NaN       NaN   \n",
       "4          5  2011-09-05       77     77.0    4.0        NaN       NaN   \n",
       "...      ...         ...      ...      ...    ...        ...       ...   \n",
       "30466  30469  2015-06-30       44     27.0    7.0        9.0       1.0   \n",
       "30467  30470  2015-06-30       86     59.0    3.0        9.0       2.0   \n",
       "30468  30471  2015-06-30       45      NaN   10.0       20.0       1.0   \n",
       "30469  30472  2015-06-30       64     32.0    5.0       15.0       1.0   \n",
       "30470  30473  2015-06-30       43     28.0    1.0        9.0       1.0   \n",
       "\n",
       "       build_year  num_room  kitch_sq  ...  cafe_count_5000_price_2500  \\\n",
       "0             NaN       NaN       NaN  ...                           9   \n",
       "1             NaN       NaN       NaN  ...                          15   \n",
       "2             NaN       NaN       NaN  ...                          10   \n",
       "3             NaN       NaN       NaN  ...                          11   \n",
       "4             NaN       NaN       NaN  ...                         319   \n",
       "...           ...       ...       ...  ...                         ...   \n",
       "30466      1975.0       2.0       6.0  ...                          15   \n",
       "30467      1935.0       4.0      10.0  ...                         313   \n",
       "30468         NaN       1.0       1.0  ...                           1   \n",
       "30469      2003.0       2.0      11.0  ...                          22   \n",
       "30470      1968.0       2.0       6.0  ...                           5   \n",
       "\n",
       "      cafe_count_5000_price_4000 cafe_count_5000_price_high  \\\n",
       "0                              4                          0   \n",
       "1                              3                          0   \n",
       "2                              3                          0   \n",
       "3                              2                          1   \n",
       "4                            108                         17   \n",
       "...                          ...                        ...   \n",
       "30466                          5                          0   \n",
       "30467                        128                         24   \n",
       "30468                          1                          0   \n",
       "30469                          1                          1   \n",
       "30470                          2                          0   \n",
       "\n",
       "       big_church_count_5000  church_count_5000  mosque_count_5000  \\\n",
       "0                         13                 22                  1   \n",
       "1                         15                 29                  1   \n",
       "2                         11                 27                  0   \n",
       "3                          4                  4                  0   \n",
       "4                        135                236                  2   \n",
       "...                      ...                ...                ...   \n",
       "30466                     15                 26                  1   \n",
       "30467                     98                182                  1   \n",
       "30468                      2                 12                  0   \n",
       "30469                      6                 31                  1   \n",
       "30470                      7                 16                  0   \n",
       "\n",
       "       leisure_count_5000  sport_count_5000  market_count_5000  price_doc  \n",
       "0                       0                52                  4    5850000  \n",
       "1                      10                66                 14    6000000  \n",
       "2                       4                67                 10    5700000  \n",
       "3                       0                26                  3   13100000  \n",
       "4                      91               195                 14   16331452  \n",
       "...                   ...               ...                ...        ...  \n",
       "30466                   2                84                  6    7400000  \n",
       "30467                  82               171                 15   25000000  \n",
       "30468                   1                11                  1    6970959  \n",
       "30469                   4                65                  7   13500000  \n",
       "30470                   9                54                 10    5600000  \n",
       "\n",
       "[30471 rows x 292 columns]"
      ]
     },
     "execution_count": 17,
     "metadata": {},
     "output_type": "execute_result"
    }
   ],
   "source": [
    "df"
   ]
  },
  {
   "cell_type": "code",
   "execution_count": 18,
   "metadata": {},
   "outputs": [
    {
     "data": {
      "image/png": "[encoded data removed]",
      "text/plain": [
       "<Figure size 1728x1152 with 2 Axes>"
      ]
     },
     "metadata": {
      "needs_background": "light"
     },
     "output_type": "display_data"
    }
   ],
   "source": [
    "cols = df.columns[:30] # первые 30 колонок\n",
    "# определяем цвета \n",
    "# желтый - пропущенные данные, синий - не пропущенные\n",
    "colors = ['#186699', '#ffff00'] \n",
    "a = sns.heatmap(df[cols].isnull(), cmap=sns.color_palette(colors)) #color map"
   ]
  },
  {
   "cell_type": "markdown",
   "metadata": {},
   "source": [
    "## Метод 2 - Процентный список пропущенных данных\n",
    "Если в наборе много признаков и визуализация занимает много времени, можно составить список долей отсутствующих записей для каждого признака. Скажем, картинка для всех признаков датасета будет выглядеть чудовищно."
   ]
  },
  {
   "cell_type": "code",
   "execution_count": 19,
   "metadata": {},
   "outputs": [
    {
     "data": {
      "text/plain": [
       "1"
      ]
     },
     "execution_count": 19,
     "metadata": {},
     "output_type": "execute_result"
    }
   ],
   "source": [
    "int(True)"
   ]
  },
  {
   "cell_type": "code",
   "execution_count": 20,
   "metadata": {},
   "outputs": [
    {
     "data": {
      "text/plain": [
       "0"
      ]
     },
     "execution_count": 20,
     "metadata": {},
     "output_type": "execute_result"
    }
   ],
   "source": [
    "int(False)"
   ]
  },
  {
   "cell_type": "code",
   "execution_count": 21,
   "metadata": {},
   "outputs": [
    {
     "data": {
      "text/plain": [
       "0        False\n",
       "1        False\n",
       "2        False\n",
       "3        False\n",
       "4        False\n",
       "         ...  \n",
       "30466    False\n",
       "30467    False\n",
       "30468     True\n",
       "30469    False\n",
       "30470    False\n",
       "Name: life_sq, Length: 30471, dtype: bool"
      ]
     },
     "execution_count": 21,
     "metadata": {},
     "output_type": "execute_result"
    }
   ],
   "source": [
    "df['life_sq'].isnull()"
   ]
  },
  {
   "cell_type": "code",
   "execution_count": 22,
   "metadata": {},
   "outputs": [
    {
     "data": {
      "text/plain": [
       "2"
      ]
     },
     "execution_count": 22,
     "metadata": {},
     "output_type": "execute_result"
    }
   ],
   "source": [
    "round(1.5) #в случае .5 round округляет до ближайшего четного числа"
   ]
  },
  {
   "cell_type": "code",
   "execution_count": 23,
   "metadata": {},
   "outputs": [
    {
     "data": {
      "text/plain": [
       "2"
      ]
     },
     "execution_count": 23,
     "metadata": {},
     "output_type": "execute_result"
    }
   ],
   "source": [
    "round(2.5)"
   ]
  },
  {
   "cell_type": "code",
   "execution_count": 24,
   "metadata": {},
   "outputs": [
    {
     "data": {
      "text/plain": [
       "4"
      ]
     },
     "execution_count": 24,
     "metadata": {},
     "output_type": "execute_result"
    }
   ],
   "source": [
    "round(3.5)"
   ]
  },
  {
   "cell_type": "code",
   "execution_count": 25,
   "metadata": {},
   "outputs": [
    {
     "data": {
      "text/plain": [
       "[(0, 'id'),\n",
       " (1, 'timestamp'),\n",
       " (2, 'full_sq'),\n",
       " (3, 'life_sq'),\n",
       " (4, 'floor'),\n",
       " (5, 'max_floor'),\n",
       " (6, 'material'),\n",
       " (7, 'build_year'),\n",
       " (8, 'num_room'),\n",
       " (9, 'kitch_sq'),\n",
       " (10, 'state'),\n",
       " (11, 'product_type'),\n",
       " (12, 'sub_area'),\n",
       " (13, 'area_m'),\n",
       " (14, 'raion_popul'),\n",
       " (15, 'green_zone_part'),\n",
       " (16, 'indust_part'),\n",
       " (17, 'children_preschool'),\n",
       " (18, 'preschool_quota'),\n",
       " (19, 'preschool_education_centers_raion'),\n",
       " (20, 'children_school'),\n",
       " (21, 'school_quota'),\n",
       " (22, 'school_education_centers_raion'),\n",
       " (23, 'school_education_centers_top_20_raion'),\n",
       " (24, 'hospital_beds_raion'),\n",
       " (25, 'healthcare_centers_raion'),\n",
       " (26, 'university_top_20_raion'),\n",
       " (27, 'sport_objects_raion'),\n",
       " (28, 'additional_education_raion'),\n",
       " (29, 'culture_objects_top_25'),\n",
       " (30, 'culture_objects_top_25_raion'),\n",
       " (31, 'shopping_centers_raion'),\n",
       " (32, 'office_raion'),\n",
       " (33, 'thermal_power_plant_raion'),\n",
       " (34, 'incineration_raion'),\n",
       " (35, 'oil_chemistry_raion'),\n",
       " (36, 'radiation_raion'),\n",
       " (37, 'railroad_terminal_raion'),\n",
       " (38, 'big_market_raion'),\n",
       " (39, 'nuclear_reactor_raion'),\n",
       " (40, 'detention_facility_raion'),\n",
       " (41, 'full_all'),\n",
       " (42, 'male_f'),\n",
       " (43, 'female_f'),\n",
       " (44, 'young_all'),\n",
       " (45, 'young_male'),\n",
       " (46, 'young_female'),\n",
       " (47, 'work_all'),\n",
       " (48, 'work_male'),\n",
       " (49, 'work_female'),\n",
       " (50, 'ekder_all'),\n",
       " (51, 'ekder_male'),\n",
       " (52, 'ekder_female'),\n",
       " (53, '0_6_all'),\n",
       " (54, '0_6_male'),\n",
       " (55, '0_6_female'),\n",
       " (56, '7_14_all'),\n",
       " (57, '7_14_male'),\n",
       " (58, '7_14_female'),\n",
       " (59, '0_17_all'),\n",
       " (60, '0_17_male'),\n",
       " (61, '0_17_female'),\n",
       " (62, '16_29_all'),\n",
       " (63, '16_29_male'),\n",
       " (64, '16_29_female'),\n",
       " (65, '0_13_all'),\n",
       " (66, '0_13_male'),\n",
       " (67, '0_13_female'),\n",
       " (68, 'raion_build_count_with_material_info'),\n",
       " (69, 'build_count_block'),\n",
       " (70, 'build_count_wood'),\n",
       " (71, 'build_count_frame'),\n",
       " (72, 'build_count_brick'),\n",
       " (73, 'build_count_monolith'),\n",
       " (74, 'build_count_panel'),\n",
       " (75, 'build_count_foam'),\n",
       " (76, 'build_count_slag'),\n",
       " (77, 'build_count_mix'),\n",
       " (78, 'raion_build_count_with_builddate_info'),\n",
       " (79, 'build_count_before_1920'),\n",
       " (80, 'build_count_1921-1945'),\n",
       " (81, 'build_count_1946-1970'),\n",
       " (82, 'build_count_1971-1995'),\n",
       " (83, 'build_count_after_1995'),\n",
       " (84, 'ID_metro'),\n",
       " (85, 'metro_min_avto'),\n",
       " (86, 'metro_km_avto'),\n",
       " (87, 'metro_min_walk'),\n",
       " (88, 'metro_km_walk'),\n",
       " (89, 'kindergarten_km'),\n",
       " (90, 'school_km'),\n",
       " (91, 'park_km'),\n",
       " (92, 'green_zone_km'),\n",
       " (93, 'industrial_km'),\n",
       " (94, 'water_treatment_km'),\n",
       " (95, 'cemetery_km'),\n",
       " (96, 'incineration_km'),\n",
       " (97, 'railroad_station_walk_km'),\n",
       " (98, 'railroad_station_walk_min'),\n",
       " (99, 'ID_railroad_station_walk'),\n",
       " (100, 'railroad_station_avto_km'),\n",
       " (101, 'railroad_station_avto_min'),\n",
       " (102, 'ID_railroad_station_avto'),\n",
       " (103, 'public_transport_station_km'),\n",
       " (104, 'public_transport_station_min_walk'),\n",
       " (105, 'water_km'),\n",
       " (106, 'water_1line'),\n",
       " (107, 'mkad_km'),\n",
       " (108, 'ttk_km'),\n",
       " (109, 'sadovoe_km'),\n",
       " (110, 'bulvar_ring_km'),\n",
       " (111, 'kremlin_km'),\n",
       " (112, 'big_road1_km'),\n",
       " (113, 'ID_big_road1'),\n",
       " (114, 'big_road1_1line'),\n",
       " (115, 'big_road2_km'),\n",
       " (116, 'ID_big_road2'),\n",
       " (117, 'railroad_km'),\n",
       " (118, 'railroad_1line'),\n",
       " (119, 'zd_vokzaly_avto_km'),\n",
       " (120, 'ID_railroad_terminal'),\n",
       " (121, 'bus_terminal_avto_km'),\n",
       " (122, 'ID_bus_terminal'),\n",
       " (123, 'oil_chemistry_km'),\n",
       " (124, 'nuclear_reactor_km'),\n",
       " (125, 'radiation_km'),\n",
       " (126, 'power_transmission_line_km'),\n",
       " (127, 'thermal_power_plant_km'),\n",
       " (128, 'ts_km'),\n",
       " (129, 'big_market_km'),\n",
       " (130, 'market_shop_km'),\n",
       " (131, 'fitness_km'),\n",
       " (132, 'swim_pool_km'),\n",
       " (133, 'ice_rink_km'),\n",
       " (134, 'stadium_km'),\n",
       " (135, 'basketball_km'),\n",
       " (136, 'hospice_morgue_km'),\n",
       " (137, 'detention_facility_km'),\n",
       " (138, 'public_healthcare_km'),\n",
       " (139, 'university_km'),\n",
       " (140, 'workplaces_km'),\n",
       " (141, 'shopping_centers_km'),\n",
       " (142, 'office_km'),\n",
       " (143, 'additional_education_km'),\n",
       " (144, 'preschool_km'),\n",
       " (145, 'big_church_km'),\n",
       " (146, 'church_synagogue_km'),\n",
       " (147, 'mosque_km'),\n",
       " (148, 'theater_km'),\n",
       " (149, 'museum_km'),\n",
       " (150, 'exhibition_km'),\n",
       " (151, 'catering_km'),\n",
       " (152, 'ecology'),\n",
       " (153, 'green_part_500'),\n",
       " (154, 'prom_part_500'),\n",
       " (155, 'office_count_500'),\n",
       " (156, 'office_sqm_500'),\n",
       " (157, 'trc_count_500'),\n",
       " (158, 'trc_sqm_500'),\n",
       " (159, 'cafe_count_500'),\n",
       " (160, 'cafe_sum_500_min_price_avg'),\n",
       " (161, 'cafe_sum_500_max_price_avg'),\n",
       " (162, 'cafe_avg_price_500'),\n",
       " (163, 'cafe_count_500_na_price'),\n",
       " (164, 'cafe_count_500_price_500'),\n",
       " (165, 'cafe_count_500_price_1000'),\n",
       " (166, 'cafe_count_500_price_1500'),\n",
       " (167, 'cafe_count_500_price_2500'),\n",
       " (168, 'cafe_count_500_price_4000'),\n",
       " (169, 'cafe_count_500_price_high'),\n",
       " (170, 'big_church_count_500'),\n",
       " (171, 'church_count_500'),\n",
       " (172, 'mosque_count_500'),\n",
       " (173, 'leisure_count_500'),\n",
       " (174, 'sport_count_500'),\n",
       " (175, 'market_count_500'),\n",
       " (176, 'green_part_1000'),\n",
       " (177, 'prom_part_1000'),\n",
       " (178, 'office_count_1000'),\n",
       " (179, 'office_sqm_1000'),\n",
       " (180, 'trc_count_1000'),\n",
       " (181, 'trc_sqm_1000'),\n",
       " (182, 'cafe_count_1000'),\n",
       " (183, 'cafe_sum_1000_min_price_avg'),\n",
       " (184, 'cafe_sum_1000_max_price_avg'),\n",
       " (185, 'cafe_avg_price_1000'),\n",
       " (186, 'cafe_count_1000_na_price'),\n",
       " (187, 'cafe_count_1000_price_500'),\n",
       " (188, 'cafe_count_1000_price_1000'),\n",
       " (189, 'cafe_count_1000_price_1500'),\n",
       " (190, 'cafe_count_1000_price_2500'),\n",
       " (191, 'cafe_count_1000_price_4000'),\n",
       " (192, 'cafe_count_1000_price_high'),\n",
       " (193, 'big_church_count_1000'),\n",
       " (194, 'church_count_1000'),\n",
       " (195, 'mosque_count_1000'),\n",
       " (196, 'leisure_count_1000'),\n",
       " (197, 'sport_count_1000'),\n",
       " (198, 'market_count_1000'),\n",
       " (199, 'green_part_1500'),\n",
       " (200, 'prom_part_1500'),\n",
       " (201, 'office_count_1500'),\n",
       " (202, 'office_sqm_1500'),\n",
       " (203, 'trc_count_1500'),\n",
       " (204, 'trc_sqm_1500'),\n",
       " (205, 'cafe_count_1500'),\n",
       " (206, 'cafe_sum_1500_min_price_avg'),\n",
       " (207, 'cafe_sum_1500_max_price_avg'),\n",
       " (208, 'cafe_avg_price_1500'),\n",
       " (209, 'cafe_count_1500_na_price'),\n",
       " (210, 'cafe_count_1500_price_500'),\n",
       " (211, 'cafe_count_1500_price_1000'),\n",
       " (212, 'cafe_count_1500_price_1500'),\n",
       " (213, 'cafe_count_1500_price_2500'),\n",
       " (214, 'cafe_count_1500_price_4000'),\n",
       " (215, 'cafe_count_1500_price_high'),\n",
       " (216, 'big_church_count_1500'),\n",
       " (217, 'church_count_1500'),\n",
       " (218, 'mosque_count_1500'),\n",
       " (219, 'leisure_count_1500'),\n",
       " (220, 'sport_count_1500'),\n",
       " (221, 'market_count_1500'),\n",
       " (222, 'green_part_2000'),\n",
       " (223, 'prom_part_2000'),\n",
       " (224, 'office_count_2000'),\n",
       " (225, 'office_sqm_2000'),\n",
       " (226, 'trc_count_2000'),\n",
       " (227, 'trc_sqm_2000'),\n",
       " (228, 'cafe_count_2000'),\n",
       " (229, 'cafe_sum_2000_min_price_avg'),\n",
       " (230, 'cafe_sum_2000_max_price_avg'),\n",
       " (231, 'cafe_avg_price_2000'),\n",
       " (232, 'cafe_count_2000_na_price'),\n",
       " (233, 'cafe_count_2000_price_500'),\n",
       " (234, 'cafe_count_2000_price_1000'),\n",
       " (235, 'cafe_count_2000_price_1500'),\n",
       " (236, 'cafe_count_2000_price_2500'),\n",
       " (237, 'cafe_count_2000_price_4000'),\n",
       " (238, 'cafe_count_2000_price_high'),\n",
       " (239, 'big_church_count_2000'),\n",
       " (240, 'church_count_2000'),\n",
       " (241, 'mosque_count_2000'),\n",
       " (242, 'leisure_count_2000'),\n",
       " (243, 'sport_count_2000'),\n",
       " (244, 'market_count_2000'),\n",
       " (245, 'green_part_3000'),\n",
       " (246, 'prom_part_3000'),\n",
       " (247, 'office_count_3000'),\n",
       " (248, 'office_sqm_3000'),\n",
       " (249, 'trc_count_3000'),\n",
       " (250, 'trc_sqm_3000'),\n",
       " (251, 'cafe_count_3000'),\n",
       " (252, 'cafe_sum_3000_min_price_avg'),\n",
       " (253, 'cafe_sum_3000_max_price_avg'),\n",
       " (254, 'cafe_avg_price_3000'),\n",
       " (255, 'cafe_count_3000_na_price'),\n",
       " (256, 'cafe_count_3000_price_500'),\n",
       " (257, 'cafe_count_3000_price_1000'),\n",
       " (258, 'cafe_count_3000_price_1500'),\n",
       " (259, 'cafe_count_3000_price_2500'),\n",
       " (260, 'cafe_count_3000_price_4000'),\n",
       " (261, 'cafe_count_3000_price_high'),\n",
       " (262, 'big_church_count_3000'),\n",
       " (263, 'church_count_3000'),\n",
       " (264, 'mosque_count_3000'),\n",
       " (265, 'leisure_count_3000'),\n",
       " (266, 'sport_count_3000'),\n",
       " (267, 'market_count_3000'),\n",
       " (268, 'green_part_5000'),\n",
       " (269, 'prom_part_5000'),\n",
       " (270, 'office_count_5000'),\n",
       " (271, 'office_sqm_5000'),\n",
       " (272, 'trc_count_5000'),\n",
       " (273, 'trc_sqm_5000'),\n",
       " (274, 'cafe_count_5000'),\n",
       " (275, 'cafe_sum_5000_min_price_avg'),\n",
       " (276, 'cafe_sum_5000_max_price_avg'),\n",
       " (277, 'cafe_avg_price_5000'),\n",
       " (278, 'cafe_count_5000_na_price'),\n",
       " (279, 'cafe_count_5000_price_500'),\n",
       " (280, 'cafe_count_5000_price_1000'),\n",
       " (281, 'cafe_count_5000_price_1500'),\n",
       " (282, 'cafe_count_5000_price_2500'),\n",
       " (283, 'cafe_count_5000_price_4000'),\n",
       " (284, 'cafe_count_5000_price_high'),\n",
       " (285, 'big_church_count_5000'),\n",
       " (286, 'church_count_5000'),\n",
       " (287, 'mosque_count_5000'),\n",
       " (288, 'leisure_count_5000'),\n",
       " (289, 'sport_count_5000'),\n",
       " (290, 'market_count_5000'),\n",
       " (291, 'price_doc')]"
      ]
     },
     "execution_count": 25,
     "metadata": {},
     "output_type": "execute_result"
    }
   ],
   "source": [
    "list(enumerate(df.columns))"
   ]
  },
  {
   "cell_type": "code",
   "execution_count": 26,
   "metadata": {},
   "outputs": [
    {
     "ename": "NameError",
     "evalue": "name 'col' is not defined",
     "output_type": "error",
     "traceback": [
      "\u001b[1;31m---------------------------------------------------------------------------\u001b[0m",
      "\u001b[1;31mNameError\u001b[0m                                 Traceback (most recent call last)",
      "Input \u001b[1;32mIn [26]\u001b[0m, in \u001b[0;36m<cell line: 1>\u001b[1;34m()\u001b[0m\n\u001b[1;32m----> 1\u001b[0m df[\u001b[43mcol\u001b[49m]\u001b[38;5;241m.\u001b[39misnull()\n",
      "\u001b[1;31mNameError\u001b[0m: name 'col' is not defined"
     ]
    }
   ],
   "source": [
    "df[col].isnull()"
   ]
  },
  {
   "cell_type": "code",
   "execution_count": null,
   "metadata": {},
   "outputs": [],
   "source": [
    "np.mean(df[col].isnull()) * 100"
   ]
  },
  {
   "cell_type": "code",
   "execution_count": null,
   "metadata": {},
   "outputs": [],
   "source": [
    "for i, col in enumerate(df.columns):\n",
    "    pct_missing = np.mean(df[col].isnull())\n",
    "    #print('{} - {}%'.format(col, np.round(pct_missing*100, 0)))\n",
    "    print(f'{col} - {np.round(pct_missing*100, 0)}%')\n",
    "    if i>=10:\n",
    "        break"
   ]
  },
  {
   "cell_type": "code",
   "execution_count": null,
   "metadata": {},
   "outputs": [],
   "source": [
    "np.mean(df['max_floor'].isnull()) * 100\n",
    "\n",
    "# Если пропусков больше 40% от всей колонки, то такую колонку удаляют.\n",
    "\n",
    "# Иначе:\n",
    "    # удаляем строки\n",
    "    # заменяем на медиану, среднее и т.д."
   ]
  },
  {
   "cell_type": "markdown",
   "metadata": {},
   "source": [
    "У признака life_sq отсутствует 21% значений, а у floor – только 1%.\n",
    "\n",
    "Этот список является полезным резюме, которое дополняет визуализацию тепловой карты. На практике часто проще применить именно такое описание. "
   ]
  },
  {
   "cell_type": "markdown",
   "metadata": {},
   "source": [
    "## Метод 3 - Гистограмма пропущенных данных\n",
    "Еще одна хорошая техника визуализации для наборов с большим количеством признаков – построение гистограммы для числа отсутствующих значений в записи."
   ]
  },
  {
   "cell_type": "code",
   "execution_count": null,
   "metadata": {},
   "outputs": [],
   "source": [
    "df.columns"
   ]
  },
  {
   "cell_type": "code",
   "execution_count": null,
   "metadata": {},
   "outputs": [],
   "source": [
    "[1, 0, 1, 1, 0]"
   ]
  },
  {
   "cell_type": "code",
   "execution_count": null,
   "metadata": {},
   "outputs": [],
   "source": [
    "# сначала создаем индикатор для признаков с пропущенными данными\n",
    "for col in df.columns:\n",
    "    missing = df[col].isnull()\n",
    "    num_missing = np.sum(missing)\n",
    "    \n",
    "    if num_missing > 0:  \n",
    "#         print('created missing indicator for: {}'.format(col))\n",
    "        df['{}_ismissing'.format(col)] = missing\n",
    "        \n",
    "# затем на основе индикатора строим гистограмму\n",
    "ismissing_cols = [col for col in df.columns if 'ismissing' in col]\n",
    "df['num_missing'] = df[ismissing_cols].sum(axis=1)\n",
    "u = df['num_missing'].value_counts().reset_index().sort_values(by='index').plot.bar(x='index')"
   ]
  },
  {
   "cell_type": "code",
   "execution_count": null,
   "metadata": {},
   "outputs": [],
   "source": [
    "len(ismissing_cols)"
   ]
  },
  {
   "cell_type": "code",
   "execution_count": null,
   "metadata": {},
   "outputs": [],
   "source": [
    "df[ismissing_cols].sum(axis=1)"
   ]
  },
  {
   "cell_type": "code",
   "execution_count": null,
   "metadata": {},
   "outputs": [],
   "source": [
    "df['num_missing'].value_counts().reset_index().sort_values(by='index')"
   ]
  },
  {
   "cell_type": "markdown",
   "metadata": {},
   "source": [
    "## Что делать с пропущенными значениями?\n",
    "Не существует общих решений для проблемы отсутствующих данных. Для каждого конкретного набора приходится искать наиболее подходящие методы или их комбинации.\n",
    "\n",
    "Разберем четыре самых распространенных техники. Они помогут в простых ситуациях, но, скорее всего, придется проявить творческий подход и поискать нетривиальные решения, например, промоделировать пропуски."
   ]
  },
  {
   "cell_type": "markdown",
   "metadata": {},
   "source": [
    "### Отбрасывание записей\n",
    "Выбросим все строки с пропущенными значениями. Это решение подходит только в том случае, если недостающие данные не являются информативными.\n",
    "\n",
    "Для отбрасывания можно использовать и другие критерии. Например, из гистограммы, построенной в предыдущем разделе, мы узнали, что лишь небольшое количество строк содержат более 35 пропусков. Мы можем создать новый набор данных df_less_missing_rows, в котором отбросим эти строки."
   ]
  },
  {
   "cell_type": "code",
   "execution_count": null,
   "metadata": {},
   "outputs": [],
   "source": [
    "df"
   ]
  },
  {
   "cell_type": "code",
   "execution_count": null,
   "metadata": {},
   "outputs": [],
   "source": [
    "# отбрасываем строки с большим количеством пропусков\n",
    "ind_missing = df[df['num_missing'] > 35].index\n",
    "df_less_missing_rows = df.drop(ind_missing, axis=0)\n",
    "# df_less_missing_rows = df[df['num_missing'] < 35]"
   ]
  },
  {
   "cell_type": "markdown",
   "metadata": {},
   "source": [
    "### Отбрасывание признаков\n",
    "\n",
    "Как и предыдущая техника, отбрасывание признаков может применяться только для неинформативных признаков.\n",
    "\n",
    "В процентном списке, построенном ранее, мы увидели, что признак hospital_beds_raion имеет высокий процент недостающих значений – 47%. Иногда от таких признаков можно отказаться совсем."
   ]
  },
  {
   "cell_type": "code",
   "execution_count": null,
   "metadata": {},
   "outputs": [],
   "source": [
    "cols_to_drop = ['hospital_beds_raion']\n",
    "df_less_hos_beds_raion = df.drop(cols_to_drop, axis=1)"
   ]
  },
  {
   "cell_type": "markdown",
   "metadata": {},
   "source": [
    "### Внесение недостающих значений\n",
    "Для численных признаков можно воспользоваться методом принудительного заполнения пропусков. Например, на место пропуска можно записать среднее, наиболее частое или медианное значение, полученное из остальных записей.\n",
    "\n",
    "Для категориальных признаков можно использовать в качестве заполнителя наиболее часто встречающееся значение.\n",
    "\n",
    "Возьмем для примера признак life_sq и заменим все недостающие значения медианой этого признака:"
   ]
  },
  {
   "cell_type": "code",
   "execution_count": null,
   "metadata": {},
   "outputs": [],
   "source": [
    "med = df['life_sq'].median()\n",
    "print(med)\n",
    "df['life_sq'] = df['life_sq'].fillna(med)\n",
    "# df['life_sq'].fillna(med, inplace=True)"
   ]
  },
  {
   "cell_type": "markdown",
   "metadata": {},
   "source": [
    "Одну и ту же стратегию заполнения можно применить сразу для всех числовых признаков:"
   ]
  },
  {
   "cell_type": "code",
   "execution_count": null,
   "metadata": {},
   "outputs": [],
   "source": [
    "# impute the missing values and create the missing value indicator variables for each numeric column.\n",
    "df_numeric = df.select_dtypes(include=[np.number])\n",
    "numeric_cols = df_numeric.columns.values\n",
    "for col in numeric_cols:\n",
    "    missing = df[col].isnull()\n",
    "    num_missing = np.sum(missing)\n",
    "    \n",
    "    if num_missing > 0:  # only do the imputation for the columns that have missing values.\n",
    "#         print('imputing missing values for: {}'.format(col))\n",
    "        df['{}_ismissing'.format(col)] = missing\n",
    "        med = df[col].median()\n",
    "        df[col] = df[col].fillna(med)"
   ]
  },
  {
   "cell_type": "code",
   "execution_count": null,
   "metadata": {},
   "outputs": [],
   "source": [
    "df"
   ]
  },
  {
   "cell_type": "markdown",
   "metadata": {},
   "source": [
    "К счастью, в нашем наборе не нашлось пропусков в категориальных признаках. Но это не мешает нам продемонстрировать использование той же стратегии:"
   ]
  },
  {
   "cell_type": "code",
   "execution_count": null,
   "metadata": {},
   "outputs": [],
   "source": [
    "df_non_numeric = df.select_dtypes(exclude=[np.number])\n",
    "non_numeric_cols = df_non_numeric.columns.values\n",
    "for col in non_numeric_cols:\n",
    "    missing = df[col].isnull()\n",
    "    num_missing = np.sum(missing)\n",
    "    \n",
    "    if num_missing > 0:  # only do the imputation for the columns that have missing values.\n",
    "        print('imputing missing values for: {}'.format(col))\n",
    "        df['{}_ismissing'.format(col)] = missing\n",
    "        # df[col].mode()\n",
    "        top = df[col].describe()['top'] # impute with the most frequent value.\n",
    "        df[col] = df[col].fillna(top)"
   ]
  },
  {
   "cell_type": "markdown",
   "metadata": {},
   "source": [
    "### Метод 4 - Замена недостающих значений\n",
    "Можно использовать некоторый дефолтный плейсхолдер для пропусков, например, новую категорию _MISSING_ для категориальных признаков или число -999 для числовых.\n",
    "\n",
    "Таким образом, мы сохраняем данные о пропущенных значениях, что тоже может быть ценной информацией."
   ]
  },
  {
   "cell_type": "code",
   "execution_count": null,
   "metadata": {},
   "outputs": [],
   "source": [
    "# категориальные признаки\n",
    "df['sub_area'] = df['sub_area'].fillna('_MISSING_')\n",
    "# численные признаки\n",
    "df['life_sq'] = df['life_sq'].fillna(-999)"
   ]
  },
  {
   "cell_type": "markdown",
   "metadata": {},
   "source": [
    "### А еще все эти методы уже сделали за нас"
   ]
  },
  {
   "cell_type": "code",
   "execution_count": null,
   "metadata": {},
   "outputs": [],
   "source": [
    "df = pd.read_csv('sberbank.csv')\n",
    "test1 = df[cols].copy()\n",
    "test1.head()"
   ]
  },
  {
   "cell_type": "code",
   "execution_count": null,
   "metadata": {},
   "outputs": [],
   "source": [
    "from sklearn.impute import SimpleImputer\n",
    "imp_mf = SimpleImputer( strategy='most_frequent')\n",
    "imp_mf.fit(test1)\n",
    "imputed_test1_df = imp_mf.transform(test1)\n",
    "pd.DataFrame(imputed_test1_df, columns = cols).head()"
   ]
  },
  {
   "cell_type": "code",
   "execution_count": null,
   "metadata": {},
   "outputs": [],
   "source": [
    "df = pd.read_csv('sberbank.csv')\n",
    "test1 = df[cols[3:10]].copy()\n",
    "imp_mean = SimpleImputer( strategy='mean')\n",
    "imp_mean.fit(test1)\n",
    "imputed_test1_df = imp_mean.transform(test1)\n",
    "pd.DataFrame(imputed_test1_df, columns = list(cols[3:10])).head()"
   ]
  },
  {
   "cell_type": "markdown",
   "metadata": {},
   "source": [
    "А еще можно подробненько прочесть вот тут:\n",
    "\n",
    "https://towardsdatascience.com/6-different-ways-to-compensate-for-missing-values-data-imputation-with-examples-6022d9ca0779"
   ]
  },
  {
   "cell_type": "markdown",
   "metadata": {},
   "source": [
    "## Нетипичные данные (выбросы)\n",
    "Выбросы – это данные, которые существенно отличаются от других наблюдений. Они могут соответствовать реальным отклонениям, но могут быть и просто ошибками."
   ]
  },
  {
   "cell_type": "markdown",
   "metadata": {},
   "source": [
    "### Как обнаружить выбросы?\n",
    "\n",
    "Для численных и категориальных признаков используются разные методы изучения распределения, позволяющие обнаружить выбросы."
   ]
  },
  {
   "cell_type": "markdown",
   "metadata": {},
   "source": [
    "### Гистограмма\n",
    "Если признак численный, можно построить гистограмму или коробчатую диаграмму (ящик с усами). Посмотрим на примере уже знакомого нам признака life_sq."
   ]
  },
  {
   "cell_type": "code",
   "execution_count": null,
   "metadata": {},
   "outputs": [],
   "source": [
    "matplotlib.rcParams['figure.figsize'] = (12,8)"
   ]
  },
  {
   "cell_type": "code",
   "execution_count": null,
   "metadata": {},
   "outputs": [],
   "source": [
    "(df['life_sq'].max() - df['life_sq'].min()) / 100"
   ]
  },
  {
   "cell_type": "code",
   "execution_count": null,
   "metadata": {},
   "outputs": [],
   "source": [
    "a = df['life_sq'].hist(bins=100)"
   ]
  },
  {
   "cell_type": "markdown",
   "metadata": {},
   "source": [
    "Чтобы изучить особенность поближе, построим коробчатую диаграмму (aka ящик с усами)"
   ]
  },
  {
   "cell_type": "code",
   "execution_count": null,
   "metadata": {},
   "outputs": [],
   "source": [
    "df.boxplot(column=['life_sq']); "
   ]
  },
  {
   "cell_type": "code",
   "execution_count": null,
   "metadata": {},
   "outputs": [],
   "source": [
    "q3 = df['life_sq'].quantile(.75)\n",
    "q1 = df['life_sq'].quantile(.25)\n",
    "iqr = q3 - q1 # interquartile range - межквартильный размах\n",
    "new_min = q1 - 1.5*iqr\n",
    "new_max = q3 + 1.5*iqr\n",
    "# сильные выбросы - iqr*3"
   ]
  },
  {
   "cell_type": "markdown",
   "metadata": {},
   "source": [
    "### Столбчатая диаграмма\n",
    "Для категориальных признаков можно построить столбчатую диаграмму – для визуализации данных о категориях и их распределении.\n",
    "\n",
    "Например, распределение признака ecology вполне равномерно и допустимо. Но если существует категория только с одним значением \"другое\", то это будет выброс."
   ]
  },
  {
   "cell_type": "code",
   "execution_count": null,
   "metadata": {},
   "outputs": [],
   "source": [
    "a = df['ecology'].value_counts().plot.bar()"
   ]
  },
  {
   "cell_type": "markdown",
   "metadata": {},
   "source": [
    "А еще есть огромное количество более умных методов обнаружения выбросов!\n",
    "Особым любителям математики читать тут: https://towardsdatascience.com/a-brief-overview-of-outlier-detection-techniques-1e0b2c19e561"
   ]
  },
  {
   "cell_type": "markdown",
   "metadata": {},
   "source": [
    "Выбросы довольно просто обнаружить, но выбор способа их устранения слишком существенно зависит от специфики набора данных и целей проекта. Их обработка во многом похожа на обработку пропущенных данных, которую мы разбирали в предыдущем разделе. Можно удалить записи или признаки с выбросами, либо скорректировать их, либо оставить без изменений.\n",
    "\n",
    "Переходим к более простой части очистки данных – удалению мусора.\n",
    "\n",
    "Вся информация, поступающая в модель, должна служить целям проекта. Если она не добавляет никакой ценности, от нее следует избавиться.\n",
    "\n",
    "Три основных типа «ненужных» данных:\n",
    "\n",
    "* неинформативные признаки с большим количеством одинаковых значений,\n",
    "* нерелевантные признаки,\n",
    "* дубликаты записей."
   ]
  },
  {
   "cell_type": "markdown",
   "metadata": {},
   "source": [
    "## Неинформативные признаки\n",
    "\n",
    "Если признак имеет слишком много строк с одинаковыми значениями, он не несет полезной информации для проекта. Составим список признаков, у которых более 95% строк содержат одно и то же значение."
   ]
  },
  {
   "cell_type": "code",
   "execution_count": null,
   "metadata": {
    "scrolled": true
   },
   "outputs": [],
   "source": [
    "num_rows = len(df.index)\n",
    "low_information_cols = [] #\n",
    "for col in df.columns:\n",
    "    cnts = df[col].value_counts(dropna=False)\n",
    "    top_pct = (cnts/num_rows).iloc[0]\n",
    "    \n",
    "    if top_pct > 0.95:\n",
    "        low_information_cols.append(col)\n",
    "        print('{0}: {1:.5f}%'.format(col, top_pct*100))\n",
    "        print(cnts)\n",
    "        print()"
   ]
  },
  {
   "cell_type": "markdown",
   "metadata": {},
   "source": [
    "### Что делать?\n",
    "Если после анализа причин получения повторяющихся значений вы пришли к выводу, что признак не несет полезной информации, используйте drop()."
   ]
  },
  {
   "cell_type": "markdown",
   "metadata": {},
   "source": [
    "## Нерелевантные признаки\n",
    "\n",
    "Нерелевантные признаки обнаруживаются ручным отбором и оценкой значимости. Например, признак, регистрирующий температуру воздуха в Торонто точно не имеет никакого отношения к прогнозированию цен на российское жилье. Если признак не имеет значения для проекта, его нужно исключить. Но этот вопрос надо обсудить отдельно: иногда можно выявить эффект \"ложной корреляции\" и счесть важным в действительности неважный признак."
   ]
  },
  {
   "cell_type": "markdown",
   "metadata": {},
   "source": [
    "## Дубликаты записей\n",
    "Если значения признаков (всех или большинства) в двух разных записях совпадают, эти записи называются дубликатами.\n",
    "\n",
    "###  Как обнаружить повторяющиеся записи?\n",
    "Способ обнаружения дубликатов зависит от того, что именно мы считаем дубликатами. Например, в наборе данных есть уникальный идентификатор id. Если две записи имеют одинаковый id, мы считаем, что это одна и та же запись. Удалим все неуникальные записи:"
   ]
  },
  {
   "cell_type": "code",
   "execution_count": null,
   "metadata": {},
   "outputs": [],
   "source": [
    "# отбрасываем неуникальные строки\n",
    "df_dedupped = df.drop('id', axis=1).drop_duplicates()\n",
    "# сравниваем формы старого и нового наборов\n",
    "print(df.shape)\n",
    "print(df_dedupped.shape)"
   ]
  },
  {
   "cell_type": "markdown",
   "metadata": {},
   "source": [
    "Получаем в результате 10 отброшенных дубликатов.\n",
    "\n",
    "Другой распространенный способ вычисления дубликатов: по набору ключевых признаков. Например, неуникальными можно считать записи с одной и той же площадью жилья, ценой и годом постройки.\n",
    "\n",
    "Найдем в нашем наборе дубликаты по группе критических признаков – **full_sq, life_sq, floor, build_year, num_room, price_doc:**"
   ]
  },
  {
   "cell_type": "code",
   "execution_count": null,
   "metadata": {},
   "outputs": [],
   "source": [
    "key = ['timestamp', 'full_sq', 'life_sq', 'floor', 'build_year', 'num_room', 'price_doc']\n",
    "df.fillna(-999).groupby(key)['id'].count().sort_values(ascending=False).head(20)"
   ]
  },
  {
   "cell_type": "markdown",
   "metadata": {},
   "source": [
    "Получили в результате 16 дублирующихся записей."
   ]
  },
  {
   "cell_type": "markdown",
   "metadata": {},
   "source": [
    "## Что делать с дубликатами?\n",
    "Очевидно, что повторяющиеся записи нам не нужны, значит, их нужно исключить из набора.\n",
    "\n",
    "Вот так выглядит удаление дубликатов, основанное на наборе ключевых признаков:"
   ]
  },
  {
   "cell_type": "code",
   "execution_count": null,
   "metadata": {},
   "outputs": [],
   "source": [
    "key = ['timestamp', 'full_sq', 'life_sq', 'floor', 'build_year', 'num_room', 'price_doc']\n",
    "df_dedupped2 = df.drop_duplicates(subset=key)\n",
    "print(df.shape)\n",
    "print(df_dedupped2.shape)"
   ]
  },
  {
   "cell_type": "markdown",
   "metadata": {},
   "source": [
    "Новый набор df_dedupped2 стал короче на 16 записей."
   ]
  },
  {
   "cell_type": "markdown",
   "metadata": {},
   "source": [
    "Большая проблема очистки данных – разные форматы записей. Для корректной работы модели важно, чтобы набор данных соответствовал определенным стандартам – необходимо тщательное исследование с учетом специфики самих данных. Мы рассмотрим четыре самых распространенных несогласованности:\n",
    "\n",
    "* Разные регистры символов.\n",
    "* Разные форматы данных (например, даты).\n",
    "* Опечатки в значениях категориальных признаков.\n",
    "* Адреса."
   ]
  },
  {
   "cell_type": "markdown",
   "metadata": {},
   "source": [
    "## Разные регистры символов\n",
    "Непоследовательное использование разных регистров в категориальных значениях является очень распространенной ошибкой, которая может существенно повлиять на анализ данных."
   ]
  },
  {
   "cell_type": "markdown",
   "metadata": {},
   "source": [
    "### Как обнаружить?\n",
    "Давайте посмотрим на признак sub_area:"
   ]
  },
  {
   "cell_type": "code",
   "execution_count": null,
   "metadata": {},
   "outputs": [],
   "source": [
    "df['sub_area'].value_counts(dropna=False)[:10]"
   ]
  },
  {
   "cell_type": "markdown",
   "metadata": {},
   "source": [
    "Но если в какой-то записи вместо Poselenie Sosenskoe окажется poselenie sosenskoe, они будут расценены как два разных значения."
   ]
  },
  {
   "cell_type": "markdown",
   "metadata": {},
   "source": [
    "### Что делать?\n",
    "Проблема легко решается принудительным изменением регистра:"
   ]
  },
  {
   "cell_type": "code",
   "execution_count": null,
   "metadata": {},
   "outputs": [],
   "source": [
    "# пусть все будет в нижнем регистре\n",
    "df['sub_area_lower'] = df['sub_area'].str.lower()\n",
    "df['sub_area_lower'].value_counts(dropna=False)[:10]"
   ]
  },
  {
   "cell_type": "markdown",
   "metadata": {},
   "source": [
    "## Разные форматы данных\n",
    "Ряд данных в наборе находится не в том формате, с которым нам было бы удобно работать. Например, даты, записанные в виде строки, следует преобразовать в формат DateTime. Признак timestamp представляет собой строку, хотя является датой:"
   ]
  },
  {
   "cell_type": "markdown",
   "metadata": {},
   "source": [
    "### Что же делать?\n",
    "Чтобы было проще анализировать транзакции по годам и месяцам, значения признака timestamp следует преобразовать в удобный формат:"
   ]
  },
  {
   "cell_type": "code",
   "execution_count": null,
   "metadata": {},
   "outputs": [],
   "source": [
    "df['timestamp_dt'] = pd.to_datetime(df['timestamp'], format='%Y-%m-%d')\n",
    "df['year'] = df['timestamp_dt'].dt.year\n",
    "df['month'] = df['timestamp_dt'].dt.month\n",
    "df['weekday'] = df['timestamp_dt'].dt.weekday\n",
    "print(df['year'].value_counts(dropna=False))\n",
    "print()\n",
    "print(df['month'].value_counts(dropna=False))"
   ]
  },
  {
   "cell_type": "markdown",
   "metadata": {},
   "source": [
    "Ссылочка для тех, кто хочет крутить даты в Python как жонглер из Cirque Du Soleil:\n",
    "\n",
    "https://towardsdatascience.com/how-to-manipulate-date-and-time-in-python-like-a-boss-ddea677c6a4d"
   ]
  },
  {
   "cell_type": "markdown",
   "metadata": {},
   "source": [
    "## Опечатки\n",
    "Опечатки в значениях категориальных признаков приводят к таким же проблемам, как и разные регистры символов.\n",
    "\n",
    "### Как обнаружить?\n",
    "\n",
    "Для обнаружения опечаток требуется особый подход. В нашем наборе данных о недвижимости опечаток нет, поэтому для примера создадим новый набор. В нем будет признак city, а его значениями будут torontoo и tronto. В обоих случаях это опечатки, а правильное значение – toronto.\n",
    "\n",
    "Простой способ идентификации подобных элементов – [расстояние Левенштейна](https://ru.wikipedia.org/wiki/Расстояние_Левенштейна). Суть этого метода заключается в измерении количества букв (расстояния), которые нам нужно изменить, чтобы из одного слова получить другое.\n",
    "\n",
    "Предположим, нам известно, что в признаке city должно находиться одно из четырех значений: toronto, vancouver, montreal или calgary. Мы вычисляем расстояние между всеми значениями и словом toronto (и vancouver).\n",
    "\n",
    "Те слова, в которых содержатся опечатки, имеют меньшее расстояние с правильным словом, так как отличаются всего на пару букв."
   ]
  },
  {
   "cell_type": "code",
   "execution_count": null,
   "metadata": {},
   "outputs": [],
   "source": [
    "from nltk.metrics import edit_distance\n",
    "df_city_ex = pd.DataFrame(data={'city': ['torontoo', 'toronto', 'tronto', 'vancouver', 'vancover', 'vancouvr', 'montreal', 'calgary']})\n",
    "df_city_ex['city_distance_toronto'] = df_city_ex['city'].map(lambda x: edit_distance(x, 'toronto'))\n",
    "df_city_ex['city_distance_vancouver'] = df_city_ex['city'].map(lambda x: edit_distance(x, 'vancouver'))\n",
    "df_city_ex"
   ]
  },
  {
   "cell_type": "markdown",
   "metadata": {},
   "source": [
    "Мы можем установить критерии для преобразования этих опечаток в правильные значения.\n",
    "\n",
    "Например, если расстояние некоторого значения от слова toronto не превышает 2 буквы, мы преобразуем это значение в правильное – toronto."
   ]
  },
  {
   "cell_type": "code",
   "execution_count": null,
   "metadata": {},
   "outputs": [],
   "source": [
    "msk = df_city_ex['city_distance_toronto'] <= 2\n",
    "df_city_ex.loc[msk, 'city'] = 'toronto'\n",
    "msk = df_city_ex['city_distance_vancouver'] <= 2\n",
    "df_city_ex.loc[msk, 'city'] = 'vancouver'\n",
    "df_city_ex"
   ]
  },
  {
   "cell_type": "markdown",
   "metadata": {},
   "source": [
    "## Оставим главную боль напоследок\n",
    "\n",
    "Проще предположить, что проблема разных форматов адреса точно существует. Даже если визуально вы не обнаружили беспорядка в этом признаке, все равно стоит стандартизировать их для надежности.\n",
    "\n",
    "В нашем наборе данных по соображениям конфиденциальности отсутствует признак адреса, поэтому создадим новый набор df_add_ex:"
   ]
  },
  {
   "cell_type": "code",
   "execution_count": null,
   "metadata": {},
   "outputs": [],
   "source": [
    "df_add_ex = pd.DataFrame(['123 MAIN St Apartment 15', '123 Main Street Apt 12   ', '543 FirSt Av', '  876 FIRst Ave.'], columns=['address'])\n",
    "df_add_ex"
   ]
  },
  {
   "cell_type": "markdown",
   "metadata": {},
   "source": [
    "### Что делать?\n",
    "\n",
    "Минимальное форматирование включает следующие операции:\n",
    "\n",
    "* приведение всех символов к нижнему регистру;\n",
    "* удаление пробелов в начале и конце строки;\n",
    "* удаление точек;\n",
    "* стандартизация формулировок: замена street на st, apartment на apt и т. д."
   ]
  },
  {
   "cell_type": "code",
   "execution_count": null,
   "metadata": {},
   "outputs": [],
   "source": [
    "df_add_ex['address_std'] = df_add_ex['address'].str.lower()\n",
    "df_add_ex['address_std'] = df_add_ex['address_std'].str.strip()\n",
    "df_add_ex['address_std'] = df_add_ex['address_std'].str.replace('\\\\.', '') \n",
    "df_add_ex['address_std'] = df_add_ex['address_std'].str.replace('\\\\bstreet\\\\b', 'st') \n",
    "df_add_ex['address_std'] = df_add_ex['address_std'].str.replace('\\\\bapartment\\\\b', 'apt') \n",
    "df_add_ex['address_std'] = df_add_ex['address_std'].str.replace('\\\\bav\\\\b', 'ave') \n",
    "df_add_ex"
   ]
  },
  {
   "cell_type": "markdown",
   "metadata": {},
   "source": [
    "А еще это идеальный момент для применения регулярных выражений :)"
   ]
  },
  {
   "cell_type": "code",
   "execution_count": null,
   "metadata": {},
   "outputs": [],
   "source": []
  }
 ],
 "metadata": {
  "kernelspec": {
   "display_name": "Python 3 (ipykernel)",
   "language": "python",
   "name": "python3"
  },
  "language_info": {
   "codemirror_mode": {
    "name": "ipython",
    "version": 3
   },
   "file_extension": ".py",
   "mimetype": "text/x-python",
   "name": "python",
   "nbconvert_exporter": "python",
   "pygments_lexer": "ipython3",
   "version": "3.9.12"
  },
  "toc": {
   "base_numbering": 1,
   "nav_menu": {},
   "number_sections": true,
   "sideBar": true,
   "skip_h1_title": false,
   "title_cell": "Table of Contents",
   "title_sidebar": "Contents",
   "toc_cell": false,
   "toc_position": {},
   "toc_section_display": true,
   "toc_window_display": false
  },
  "varInspector": {
   "cols": {
    "lenName": 16,
    "lenType": 16,
    "lenVar": 40
   },
   "kernels_config": {
    "python": {
     "delete_cmd_postfix": "",
     "delete_cmd_prefix": "del ",
     "library": "var_list.py",
     "varRefreshCmd": "print(var_dic_list())"
    },
    "r": {
     "delete_cmd_postfix": ") ",
     "delete_cmd_prefix": "rm(",
     "library": "var_list.r",
     "varRefreshCmd": "cat(var_dic_list()) "
    }
   },
   "types_to_exclude": [
    "module",
    "function",
    "builtin_function_or_method",
    "instance",
    "_Feature"
   ],
   "window_display": false
  }
 },
 "nbformat": 4,
 "nbformat_minor": 2
}
