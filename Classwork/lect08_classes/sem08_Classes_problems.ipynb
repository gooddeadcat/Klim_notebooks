{
 "cells": [
  {
   "cell_type": "markdown",
   "metadata": {},
   "source": [
    "## Классы\n",
    "Классы в питоне - это способ работать с объектом у которого необходимо иметь состояние. Как правило, вам необходимо с этим состоянием как-то работать: модифицировать или узнавать что-то. Для этого в классах используются методы: особые функции, которые имеют доступ к содержимому вашего объекта."
   ]
  },
  {
   "cell_type": "markdown",
   "metadata": {},
   "source": [
    "Рассмотрим пример. Предположим у вас есть сеть отелей. И вам было бы очень удобно работать с отелем, кок отдельным объектом. Что является состоянием отеля? Для простоты предположим, что только информация о заполненных/свободных номерах. Тогда мы можем описать отель следующим образом:\n",
    "\n",
    "```python\n",
    "class Hotel:\n",
    "    def __init__(self, num_of_rooms):\n",
    "        self.rooms = [0 for _ in range(num_of_rooms)]\n",
    "```\n",
    "\n",
    "При создании объекта `Hotel` ему нужно будет передать количество комнат в этом отеле. Информацию о свободных и занятых комнатах мы будем хранить в массиве длины `num_of_rooms`, где 0 - комната свободна, 1 - комната занята.\n",
    "\n",
    "Какие функции помощники нам нужны? Мы бы наверное хотели уметь занимать комнаты (когда кто-то въезжает) и освобждать. Для этого напишем два метода `occupy` и `realize`.\n",
    "\n",
    "```python\n",
    "class Hotel:\n",
    "    def __init__(self, num_of_rooms):\n",
    "        self.rooms = [0 for _ in range(num_of_rooms)]\n",
    "        \n",
    "    def occupy(self, room_id):\n",
    "        self.rooms[room_id] = 1\n",
    "        \n",
    "    def free(self, room_id):\n",
    "        self.rooms[room_id] = 0\n",
    "```\n",
    "\n",
    "Отлично, теперь мы можем выполнять элементарные действия с нашим классом. Попробуйте создать класс и занять несколько комнат."
   ]
  },
  {
   "cell_type": "code",
   "execution_count": null,
   "metadata": {},
   "outputs": [],
   "source": [
    "class Hotel:\n",
    "    def __init__(self, num_of_rooms):\n",
    "        self.rooms = {i: 'Free' for i in range(num_of_rooms)}\n",
    "        \n",
    "    def occupy(self, room_id):\n",
    "        self.rooms[room_id] = 'Occupied'\n",
    "        \n",
    "    def free(self, room_id):\n",
    "        self.rooms[room_id] = 'Free'\n",
    "\n",
    "# Избавиться от 0 комнаты (нет или подсобка)"
   ]
  },
  {
   "cell_type": "code",
   "execution_count": 13,
   "metadata": {},
   "outputs": [],
   "source": [
    "class Hotel:\n",
    "    def __init__(self, num_of_rooms):\n",
    "        self.rooms = [0 for _ in range(num_of_rooms)]\n",
    "        \n",
    "    def occupy(self, room_id):\n",
    "        self.rooms[room_id] = 1\n",
    "        \n",
    "    def free(self, room_id):\n",
    "        self.rooms[room_id] = 0"
   ]
  },
  {
   "cell_type": "code",
   "execution_count": 14,
   "metadata": {},
   "outputs": [],
   "source": [
    "h = Hotel(num_of_rooms=10)\n",
    "h2 = Hotel(num_of_rooms=12)"
   ]
  },
  {
   "cell_type": "code",
   "execution_count": 15,
   "metadata": {},
   "outputs": [],
   "source": [
    "h.occupy(2)"
   ]
  },
  {
   "cell_type": "code",
   "execution_count": 16,
   "metadata": {},
   "outputs": [
    {
     "data": {
      "text/plain": [
       "[0, 0, 1, 0, 0, 0, 0, 0, 0, 0]"
      ]
     },
     "execution_count": 16,
     "metadata": {},
     "output_type": "execute_result"
    }
   ],
   "source": [
    "h.rooms"
   ]
  },
  {
   "cell_type": "code",
   "execution_count": 17,
   "metadata": {},
   "outputs": [],
   "source": [
    "h.free(2)"
   ]
  },
  {
   "cell_type": "code",
   "execution_count": 18,
   "metadata": {},
   "outputs": [
    {
     "data": {
      "text/plain": [
       "[0, 0, 0, 0, 0, 0, 0, 0, 0, 0]"
      ]
     },
     "execution_count": 18,
     "metadata": {},
     "output_type": "execute_result"
    }
   ],
   "source": [
    "h.rooms"
   ]
  },
  {
   "cell_type": "markdown",
   "metadata": {},
   "source": [
    "Зачем нам нужны классы? Ведь можно было написать функцию\n",
    "```python\n",
    "def occupy(rooms, room_id):\n",
    "    rooms[room_id] = 1\n",
    "    return rooms\n",
    "```\n",
    "\n",
    "Плюс работы с объектами в том, что тем, кто пользуются нашим классом (включая нас самих) не нужно думать о том, как мы реализовали хранение комнат. Если в какой-то момент мы захотим изменить `list` на `dict` (например мы заметили, что так быстрее), никто ничего не заметит. Код пользователей не изменится. То же самое касается функциональности - если мы вдруг решили, что нам нужно добавить бронирование на дату, мы можем это сделать и те, кто уже пользуются нашим классом, - ничего не заметят. У них ничего не сломается. А это очень важно."
   ]
  },
  {
   "cell_type": "markdown",
   "metadata": {},
   "source": [
    "# Задание 1\n",
    "\n",
    "Допишите несколько методов в класс `Hotel`.\n",
    "\n",
    "Напишите метод `occupancy_rate`. Метод должен возвращать долю комнат, которые заняты.\n",
    "\n",
    "Напишите метод `close`. Метод должен освобождать все комнаты. Если `occupancy_rate` написан корректно, то после `close` `occupancy_rate` должен возвращать 0."
   ]
  },
  {
   "cell_type": "code",
   "execution_count": 83,
   "metadata": {},
   "outputs": [],
   "source": [
    "class Hotel:\n",
    "    def __init__(self, num_of_rooms):\n",
    "        self.num_of_rooms = num_of_rooms\n",
    "        self.rooms = [0 for _ in range(num_of_rooms)]\n",
    "        \n",
    "    def occupy(self, room_id):\n",
    "        self.rooms[room_id] = 1\n",
    "        \n",
    "    def free(self, room_id):\n",
    "        self.rooms[room_id] = 0\n",
    "        \n",
    "    def occupancy_rate(self):\n",
    "        return self.rooms.count(1) / len(self.rooms)\n",
    "        # return sum(self.rooms) / num_of_rooms\n",
    "        \n",
    "    def close(self):\n",
    "        self.rooms = [0 for _ in range(self.num_of_rooms)]"
   ]
  },
  {
   "cell_type": "code",
   "execution_count": 84,
   "metadata": {},
   "outputs": [],
   "source": [
    "h = Hotel(num_of_rooms=10)\n",
    "h2 = Hotel(num_of_rooms=12)"
   ]
  },
  {
   "cell_type": "code",
   "execution_count": 85,
   "metadata": {},
   "outputs": [],
   "source": [
    "h.occupy(2)"
   ]
  },
  {
   "cell_type": "code",
   "execution_count": 86,
   "metadata": {},
   "outputs": [
    {
     "data": {
      "text/plain": [
       "[0, 0, 1, 0, 0, 0, 0, 0, 0, 0]"
      ]
     },
     "execution_count": 86,
     "metadata": {},
     "output_type": "execute_result"
    }
   ],
   "source": [
    "h.rooms"
   ]
  },
  {
   "cell_type": "code",
   "execution_count": 87,
   "metadata": {},
   "outputs": [
    {
     "data": {
      "text/plain": [
       "0.1"
      ]
     },
     "execution_count": 87,
     "metadata": {},
     "output_type": "execute_result"
    }
   ],
   "source": [
    "h.occupancy_rate()"
   ]
  },
  {
   "cell_type": "code",
   "execution_count": 88,
   "metadata": {},
   "outputs": [],
   "source": [
    "h.close()"
   ]
  },
  {
   "cell_type": "code",
   "execution_count": 89,
   "metadata": {},
   "outputs": [
    {
     "data": {
      "text/plain": [
       "[0, 0, 0, 0, 0, 0, 0, 0, 0, 0]"
      ]
     },
     "execution_count": 89,
     "metadata": {},
     "output_type": "execute_result"
    }
   ],
   "source": [
    "h.rooms"
   ]
  },
  {
   "cell_type": "code",
   "execution_count": 90,
   "metadata": {},
   "outputs": [
    {
     "data": {
      "text/plain": [
       "0.0"
      ]
     },
     "execution_count": 90,
     "metadata": {},
     "output_type": "execute_result"
    }
   ],
   "source": [
    "h.occupancy_rate()"
   ]
  },
  {
   "cell_type": "markdown",
   "metadata": {},
   "source": [
    "# Задание 2\n",
    "Мы хотим, чтобы пользователь нашего класса не натворил глупостей. Например, не пытался занять уже занятую комнату. Допишите методы `occupy` и `free`. Проверьте внутри них, что состояние комнаты действительно меняется. Иначе вы должны бросить исключение с понятным текстом.\n",
    "\n",
    "Напоминаю, что исключение - это такая конструкция, когда программа завершает работу из некоторой точки. Как правило в случае появления ошибки.\n",
    "Синтаксис\n",
    "```python\n",
    "raise RuntimeError(\"Bad news\")\n",
    "```"
   ]
  },
  {
   "cell_type": "code",
   "execution_count": 91,
   "metadata": {},
   "outputs": [],
   "source": [
    "class Hotel:\n",
    "    def __init__(self, num_of_rooms):\n",
    "        self.num_of_rooms = num_of_rooms\n",
    "        self.rooms = [0 for _ in range(num_of_rooms)]\n",
    "        \n",
    "    def occupy(self, room_id):\n",
    "        if self.rooms[room_id] == 0:\n",
    "            self.rooms[room_id] = 1\n",
    "        else:\n",
    "            raise RuntimeError(f'Комната № {self.rooms[room_id]} уже занята!')\n",
    "        \n",
    "    def free(self, room_id):\n",
    "        if self.rooms[room_id] == 1:\n",
    "            self.rooms[room_id] = 0\n",
    "        else:\n",
    "            raise RuntimeError(f'Комната № {self.rooms[room_id]} уже свободна!')\n",
    "        \n",
    "    def occupancy_rate(self):\n",
    "        return self.rooms.count(1) / len(self.rooms)\n",
    "        # return sum(self.rooms) / num_of_rooms\n",
    "        \n",
    "    def close(self):\n",
    "        self.rooms = [0 for _ in range(self.num_of_rooms)]"
   ]
  },
  {
   "cell_type": "code",
   "execution_count": 92,
   "metadata": {},
   "outputs": [],
   "source": [
    "h = Hotel(num_of_rooms=10)\n",
    "h2 = Hotel(num_of_rooms=12)"
   ]
  },
  {
   "cell_type": "code",
   "execution_count": 96,
   "metadata": {},
   "outputs": [
    {
     "ename": "RuntimeError",
     "evalue": "Комната № 0 уже свободна!",
     "output_type": "error",
     "traceback": [
      "\u001b[1;31m---------------------------------------------------------------------------\u001b[0m",
      "\u001b[1;31mRuntimeError\u001b[0m                              Traceback (most recent call last)",
      "\u001b[1;32m<ipython-input-96-f4e82ae52ea4>\u001b[0m in \u001b[0;36m<module>\u001b[1;34m\u001b[0m\n\u001b[1;32m----> 1\u001b[1;33m \u001b[0mh\u001b[0m\u001b[1;33m.\u001b[0m\u001b[0mfree\u001b[0m\u001b[1;33m(\u001b[0m\u001b[1;36m2\u001b[0m\u001b[1;33m)\u001b[0m\u001b[1;33m\u001b[0m\u001b[1;33m\u001b[0m\u001b[0m\n\u001b[0m",
      "\u001b[1;32m<ipython-input-91-520ba39aa500>\u001b[0m in \u001b[0;36mfree\u001b[1;34m(self, room_id)\u001b[0m\n\u001b[0;32m     14\u001b[0m             \u001b[0mself\u001b[0m\u001b[1;33m.\u001b[0m\u001b[0mrooms\u001b[0m\u001b[1;33m[\u001b[0m\u001b[0mroom_id\u001b[0m\u001b[1;33m]\u001b[0m \u001b[1;33m=\u001b[0m \u001b[1;36m0\u001b[0m\u001b[1;33m\u001b[0m\u001b[1;33m\u001b[0m\u001b[0m\n\u001b[0;32m     15\u001b[0m         \u001b[1;32melse\u001b[0m\u001b[1;33m:\u001b[0m\u001b[1;33m\u001b[0m\u001b[1;33m\u001b[0m\u001b[0m\n\u001b[1;32m---> 16\u001b[1;33m             \u001b[1;32mraise\u001b[0m \u001b[0mRuntimeError\u001b[0m\u001b[1;33m(\u001b[0m\u001b[1;34mf'Комната № {self.rooms[room_id]} уже свободна!'\u001b[0m\u001b[1;33m)\u001b[0m\u001b[1;33m\u001b[0m\u001b[1;33m\u001b[0m\u001b[0m\n\u001b[0m\u001b[0;32m     17\u001b[0m \u001b[1;33m\u001b[0m\u001b[0m\n\u001b[0;32m     18\u001b[0m     \u001b[1;32mdef\u001b[0m \u001b[0moccupancy_rate\u001b[0m\u001b[1;33m(\u001b[0m\u001b[0mself\u001b[0m\u001b[1;33m)\u001b[0m\u001b[1;33m:\u001b[0m\u001b[1;33m\u001b[0m\u001b[1;33m\u001b[0m\u001b[0m\n",
      "\u001b[1;31mRuntimeError\u001b[0m: Комната № 0 уже свободна!"
     ]
    }
   ],
   "source": [
    "h.free(2)"
   ]
  },
  {
   "cell_type": "code",
   "execution_count": 93,
   "metadata": {},
   "outputs": [],
   "source": [
    "h.occupy(2)"
   ]
  },
  {
   "cell_type": "code",
   "execution_count": 94,
   "metadata": {},
   "outputs": [
    {
     "ename": "RuntimeError",
     "evalue": "Комната № 1 уже занята!",
     "output_type": "error",
     "traceback": [
      "\u001b[1;31m---------------------------------------------------------------------------\u001b[0m",
      "\u001b[1;31mRuntimeError\u001b[0m                              Traceback (most recent call last)",
      "\u001b[1;32m<ipython-input-94-9bdf139ed522>\u001b[0m in \u001b[0;36m<module>\u001b[1;34m\u001b[0m\n\u001b[1;32m----> 1\u001b[1;33m \u001b[0mh\u001b[0m\u001b[1;33m.\u001b[0m\u001b[0moccupy\u001b[0m\u001b[1;33m(\u001b[0m\u001b[1;36m2\u001b[0m\u001b[1;33m)\u001b[0m\u001b[1;33m\u001b[0m\u001b[1;33m\u001b[0m\u001b[0m\n\u001b[0m",
      "\u001b[1;32m<ipython-input-91-520ba39aa500>\u001b[0m in \u001b[0;36moccupy\u001b[1;34m(self, room_id)\u001b[0m\n\u001b[0;32m      8\u001b[0m             \u001b[0mself\u001b[0m\u001b[1;33m.\u001b[0m\u001b[0mrooms\u001b[0m\u001b[1;33m[\u001b[0m\u001b[0mroom_id\u001b[0m\u001b[1;33m]\u001b[0m \u001b[1;33m=\u001b[0m \u001b[1;36m1\u001b[0m\u001b[1;33m\u001b[0m\u001b[1;33m\u001b[0m\u001b[0m\n\u001b[0;32m      9\u001b[0m         \u001b[1;32melse\u001b[0m\u001b[1;33m:\u001b[0m\u001b[1;33m\u001b[0m\u001b[1;33m\u001b[0m\u001b[0m\n\u001b[1;32m---> 10\u001b[1;33m             \u001b[1;32mraise\u001b[0m \u001b[0mRuntimeError\u001b[0m\u001b[1;33m(\u001b[0m\u001b[1;34mf'Комната № {self.rooms[room_id]} уже занята!'\u001b[0m\u001b[1;33m)\u001b[0m\u001b[1;33m\u001b[0m\u001b[1;33m\u001b[0m\u001b[0m\n\u001b[0m\u001b[0;32m     11\u001b[0m \u001b[1;33m\u001b[0m\u001b[0m\n\u001b[0;32m     12\u001b[0m     \u001b[1;32mdef\u001b[0m \u001b[0mfree\u001b[0m\u001b[1;33m(\u001b[0m\u001b[0mself\u001b[0m\u001b[1;33m,\u001b[0m \u001b[0mroom_id\u001b[0m\u001b[1;33m)\u001b[0m\u001b[1;33m:\u001b[0m\u001b[1;33m\u001b[0m\u001b[1;33m\u001b[0m\u001b[0m\n",
      "\u001b[1;31mRuntimeError\u001b[0m: Комната № 1 уже занята!"
     ]
    }
   ],
   "source": [
    "h.occupy(2)"
   ]
  },
  {
   "cell_type": "code",
   "execution_count": 66,
   "metadata": {},
   "outputs": [
    {
     "data": {
      "text/plain": [
       "[0, 0, 1, 0, 0, 0, 0, 0, 0, 0]"
      ]
     },
     "execution_count": 66,
     "metadata": {},
     "output_type": "execute_result"
    }
   ],
   "source": [
    "h.rooms"
   ]
  },
  {
   "cell_type": "markdown",
   "metadata": {},
   "source": [
    "# Задание 3\n",
    "Добавьте возможность бронировать номера. Метод назовем `book(self, date, room_id)`. На вход приходит дата и номер комнаты и она становится занята. Если бронь не удалась, бросьте исключение. Перед бронью убедитесь, что комната свободна. Для этого напишите метод `is_booked(self, date, room_id)`. "
   ]
  },
  {
   "cell_type": "code",
   "execution_count": 5,
   "metadata": {},
   "outputs": [],
   "source": [
    "class Hotel:\n",
    "    def __init__(self, num_of_rooms):\n",
    "        self.num_of_rooms = num_of_rooms\n",
    "        self.rooms = [0 for _ in range(num_of_rooms)]\n",
    "        self.booked_rooms = {}\n",
    "        \n",
    "    def occupy(self, room_id):\n",
    "        if self.rooms[room_id] == 0:\n",
    "            self.rooms[room_id] = 1\n",
    "        else:\n",
    "            raise RuntimeError(f'Комната № {self.rooms[room_id]} уже занята!')\n",
    "        \n",
    "    def free(self, room_id):\n",
    "        if self.rooms[room_id] == 1:\n",
    "            self.rooms[room_id] = 0\n",
    "        else:\n",
    "            raise RuntimeError(f'Комната № {self.rooms[room_id]} уже свободна!')\n",
    "        \n",
    "    def occupancy_rate(self):\n",
    "        return self.rooms.count(1) / len(self.rooms)\n",
    "        # return sum(self.rooms) / num_of_rooms\n",
    "        \n",
    "    def close(self):\n",
    "        self.rooms = [0 for _ in range(self.num_of_rooms)]\n",
    "        \n",
    "    def is_booked(self, date, room_id):\n",
    "        if date in self.booked_rooms:\n",
    "            return room_id in self.booked_rooms[date]\n",
    "        else:\n",
    "            return False\n",
    "    \n",
    "    def book(self, date, room_id):\n",
    "        if Hotel.is_booked(self, date, room_id):\n",
    "            raise RuntimeError('Комната уже забронирована на эту дату!')\n",
    "        elif date in self.booked_rooms.keys():\n",
    "            self.booked_rooms[date].append(room_id)\n",
    "        else:\n",
    "            self.booked_rooms[date] = [room_id]"
   ]
  },
  {
   "cell_type": "markdown",
   "metadata": {},
   "source": [
    "# Задание 4\n",
    "Мы, как отель, хотим знать свою выручку на какой-то день. Напишите метод `income(self, date)`. Он должен возвращать количество денег, которое заработает отель в этот день. Представим, что стоймость всех комнат одинакова и равна 200$."
   ]
  },
  {
   "cell_type": "code",
   "execution_count": 6,
   "metadata": {},
   "outputs": [],
   "source": [
    "# TODO"
   ]
  }
 ],
 "metadata": {
  "kernelspec": {
   "display_name": "Python 3 (ipykernel)",
   "language": "python",
   "name": "python3"
  },
  "language_info": {
   "codemirror_mode": {
    "name": "ipython",
    "version": 3
   },
   "file_extension": ".py",
   "mimetype": "text/x-python",
   "name": "python",
   "nbconvert_exporter": "python",
   "pygments_lexer": "ipython3",
   "version": "3.9.12"
  },
  "toc": {
   "base_numbering": 1,
   "nav_menu": {},
   "number_sections": true,
   "sideBar": true,
   "skip_h1_title": false,
   "title_cell": "Table of Contents",
   "title_sidebar": "Contents",
   "toc_cell": false,
   "toc_position": {},
   "toc_section_display": true,
   "toc_window_display": false
  },
  "varInspector": {
   "cols": {
    "lenName": 16,
    "lenType": 16,
    "lenVar": 40
   },
   "kernels_config": {
    "python": {
     "delete_cmd_postfix": "",
     "delete_cmd_prefix": "del ",
     "library": "var_list.py",
     "varRefreshCmd": "print(var_dic_list())"
    },
    "r": {
     "delete_cmd_postfix": ") ",
     "delete_cmd_prefix": "rm(",
     "library": "var_list.r",
     "varRefreshCmd": "cat(var_dic_list()) "
    }
   },
   "types_to_exclude": [
    "module",
    "function",
    "builtin_function_or_method",
    "instance",
    "_Feature"
   ],
   "window_display": false
  }
 },
 "nbformat": 4,
 "nbformat_minor": 2
}
