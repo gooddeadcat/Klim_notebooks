{
 "cells": [
  {
   "cell_type": "markdown",
   "metadata": {},
   "source": [
    "# Conditions"
   ]
  },
  {
   "cell_type": "code",
   "execution_count": 1,
   "metadata": {
    "scrolled": true
   },
   "outputs": [
    {
     "name": "stdout",
     "output_type": "stream",
     "text": [
      "Сколько яиц в холодильнике? 1\n",
      "Идём в магазин\n"
     ]
    }
   ],
   "source": [
    "eggs = int(input('Сколько яиц в холодильнике? '))\n",
    "if eggs >= 3:\n",
    "    print('Готовим яишницу')\n",
    "else:\n",
    "    print('Идём в магазин') # отступы обязательны!"
   ]
  },
  {
   "cell_type": "code",
   "execution_count": 5,
   "metadata": {
    "scrolled": true
   },
   "outputs": [
    {
     "name": "stdout",
     "output_type": "stream",
     "text": [
      "Сколько яиц в холодильнике? 4\n",
      "Есть молоко (Да/Нет)? Да\n",
      "Готовим омлет\n"
     ]
    }
   ],
   "source": [
    "eggs = int(input('Сколько яиц в холодильнике? '))\n",
    "if eggs >= 3:\n",
    "    milk = input('Есть молоко (Да/Нет)? ')\n",
    "    if milk == 'Да':\n",
    "        print('Готовим омлет')\n",
    "    else:\n",
    "        print('Готовим яишницу')\n",
    "else:\n",
    "    print('Идём в магазин') # отступы обязательны!"
   ]
  },
  {
   "cell_type": "code",
   "execution_count": 9,
   "metadata": {},
   "outputs": [
    {
     "name": "stdout",
     "output_type": "stream",
     "text": [
      "Какой напиток? какао\n",
      "С Вас 100 рублей\n"
     ]
    }
   ],
   "source": [
    "drink = input('Какой напиток? ').lower()\n",
    "if drink == 'кофе':\n",
    "    print('С Вас 150 рублей')\n",
    "elif drink == 'чай' or drink == 'какао':\n",
    "    print('С Вас 100 рублей')\n",
    "else:\n",
    "    print('Нет в меню')"
   ]
  },
  {
   "cell_type": "code",
   "execution_count": 10,
   "metadata": {},
   "outputs": [
    {
     "name": "stdout",
     "output_type": "stream",
     "text": [
      "кофе\n",
      "КОФЕ\n"
     ]
    }
   ],
   "source": [
    "print('Кофе'.lower()) # у методов всегда есть скобки, даже пустые\n",
    "print('Кофе'.upper())"
   ]
  },
  {
   "cell_type": "code",
   "execution_count": null,
   "metadata": {},
   "outputs": [],
   "source": []
  }
 ],
 "metadata": {
  "kernelspec": {
   "display_name": "Python 3 (ipykernel)",
   "language": "python",
   "name": "python3"
  },
  "language_info": {
   "codemirror_mode": {
    "name": "ipython",
    "version": 3
   },
   "file_extension": ".py",
   "mimetype": "text/x-python",
   "name": "python",
   "nbconvert_exporter": "python",
   "pygments_lexer": "ipython3",
   "version": "3.9.12"
  }
 },
 "nbformat": 4,
 "nbformat_minor": 4
}
