{
 "cells": [
  {
   "cell_type": "markdown",
   "metadata": {},
   "source": [
    "# Python для анализа данных\n",
    "\n",
    "*Алла Тамбовцева, НИУ ВШЭ*\n",
    "\n",
    "дополнения: *Ян Пиле, НИУ ВШЭ*"
   ]
  },
  {
   "cell_type": "markdown",
   "metadata": {},
   "source": [
    "Посмотрим на другие примеры использования `selenium`. \n",
    "\n",
    "**Пример.** Зайдем на сайт книжного магазина и найдем все книги про Python. Загрузим библиотеку, веб-драйвер и откроем страницу в браузере через Python."
   ]
  },
  {
   "cell_type": "code",
   "execution_count": 1,
   "metadata": {},
   "outputs": [
    {
     "ename": "ImportError",
     "evalue": "cannot import name 'By' from 'webdriver_manager.chrome' (C:\\ProgramData\\Anaconda3\\lib\\site-packages\\webdriver_manager\\chrome.py)",
     "output_type": "error",
     "traceback": [
      "\u001b[1;31m---------------------------------------------------------------------------\u001b[0m",
      "\u001b[1;31mImportError\u001b[0m                               Traceback (most recent call last)",
      "\u001b[1;32m<ipython-input-1-f662dcc542e2>\u001b[0m in \u001b[0;36m<module>\u001b[1;34m\u001b[0m\n\u001b[1;32m----> 1\u001b[1;33m \u001b[1;32mfrom\u001b[0m \u001b[0mwebdriver_manager\u001b[0m\u001b[1;33m.\u001b[0m\u001b[0mchrome\u001b[0m \u001b[1;32mimport\u001b[0m \u001b[0mBy\u001b[0m\u001b[1;33m\u001b[0m\u001b[1;33m\u001b[0m\u001b[0m\n\u001b[0m",
      "\u001b[1;31mImportError\u001b[0m: cannot import name 'By' from 'webdriver_manager.chrome' (C:\\ProgramData\\Anaconda3\\lib\\site-packages\\webdriver_manager\\chrome.py)"
     ]
    }
   ],
   "source": [
    "from webdriver_manager.chrome import By"
   ]
  },
  {
   "cell_type": "code",
   "execution_count": 2,
   "metadata": {},
   "outputs": [
    {
     "name": "stderr",
     "output_type": "stream",
     "text": [
      "<ipython-input-2-fa51af40eecd>:4: DeprecationWarning: executable_path has been deprecated, please pass in a Service object\n",
      "  br = webdriver.Chrome(ChromeDriverManager().install())\n"
     ]
    }
   ],
   "source": [
    "from selenium import webdriver\n",
    "from webdriver_manager.chrome import ChromeDriverManager\n",
    "\n",
    "br = webdriver.Chrome(ChromeDriverManager().install())\n",
    "\n",
    "# открываем страницу в Chrome в автоматическом режиме\n",
    "br.get(\"http://www.biblio-globus.ru/\")"
   ]
  },
  {
   "cell_type": "markdown",
   "metadata": {},
   "source": [
    "Найдем с помощью CSS Selector'а (*SelectorGadget*) поле для ввода названия книги или автора. "
   ]
  },
  {
   "cell_type": "code",
   "execution_count": 3,
   "metadata": {},
   "outputs": [],
   "source": [
    "from selenium.webdriver.common.by import By"
   ]
  },
  {
   "cell_type": "code",
   "execution_count": 4,
   "metadata": {},
   "outputs": [],
   "source": [
    "field = br.find_element(By.CSS_SELECTOR, \"input\")"
   ]
  },
  {
   "cell_type": "markdown",
   "metadata": {},
   "source": [
    "Сохраним запрос:"
   ]
  },
  {
   "cell_type": "code",
   "execution_count": 5,
   "metadata": {},
   "outputs": [],
   "source": [
    "author = \"Python\"  # переменная author - условность"
   ]
  },
  {
   "cell_type": "markdown",
   "metadata": {},
   "source": [
    "Введем запрос в поле для поиска (`.send_keys`) и подождем чуть-чуть:"
   ]
  },
  {
   "cell_type": "code",
   "execution_count": 9,
   "metadata": {},
   "outputs": [],
   "source": [
    "field.send_keys(author)\n",
    "br.implicitly_wait(2)  # подождем пару секунд"
   ]
  },
  {
   "cell_type": "markdown",
   "metadata": {},
   "source": [
    "Теперь найдем кнопку для поиска (значок *лупа* рядом со строкой поиска) через CSS Selector:"
   ]
  },
  {
   "cell_type": "code",
   "execution_count": null,
   "metadata": {},
   "outputs": [],
   "source": [
    "#search-btn > i"
   ]
  },
  {
   "cell_type": "code",
   "execution_count": 10,
   "metadata": {
    "scrolled": true
   },
   "outputs": [],
   "source": [
    "submit = br.find_element(By.CSS_SELECTOR, \"#search-btn > i\")"
   ]
  },
  {
   "cell_type": "markdown",
   "metadata": {},
   "source": [
    "Кликнем на нее:"
   ]
  },
  {
   "cell_type": "code",
   "execution_count": 11,
   "metadata": {},
   "outputs": [],
   "source": [
    "submit.click()"
   ]
  },
  {
   "cell_type": "code",
   "execution_count": 12,
   "metadata": {},
   "outputs": [
    {
     "data": {
      "text/plain": [
       "selenium.webdriver.chrome.webdriver.WebDriver"
      ]
     },
     "execution_count": 12,
     "metadata": {},
     "output_type": "execute_result"
    }
   ],
   "source": [
    "type(br)"
   ]
  },
  {
   "cell_type": "markdown",
   "metadata": {},
   "source": [
    "Сохраним первую страницу с результатами в переменную `page1`."
   ]
  },
  {
   "cell_type": "code",
   "execution_count": 13,
   "metadata": {},
   "outputs": [],
   "source": [
    "page1 = br.page_source #разметка сайта"
   ]
  },
  {
   "cell_type": "code",
   "execution_count": 14,
   "metadata": {},
   "outputs": [
    {
     "data": {
      "text/plain": [
       "'<html><head>\\n    <meta charset=\"utf-8\">\\n    <meta http-equiv=\"X-UA-Compatible\" content=\"IE=edge\">\\n    <meta name=\"viewport\" content=\"width=device-width, initial-scale=1.0\">\\n    <title>Результаты поиска по запросу «Python» - Торговый Дом «Библио-Глобус» | Ваш Главный книжный</title>\\n    <meta name=\"description\">\\n    <link type=\"text/css\" rel=\"stylesheet\" href=\"https://cdnjs.cloudflare.com/ajax/libs/froala-design-blocks/2.0.0/css/froala_blocks.min.css\">\\n\\t<link rel=\"stylesheet\" href=\"/lib/bootstrap/dist/css/bootstrap.min.css\">\\n    <script type=\"text/javascript\" async=\"\" src=\"https://www.google-analytics.com/analytics.js\"></script><script async=\"\" src=\"https://mc.yandex.ru/metrika/tag.js\"></script><script type=\"text/javascript\" async=\"\" src=\"https://www.googletagmanager.com/gtag/js?id=UA-7930188-3&amp;l=dataLayer&amp;cx=c\"></script><script src=\"https://kit.fontawesome.com/9a4d5f4a2b.js\" crossorigin=\"anonymous\"></script><style media=\"all\" id=\"fa-v4-font-face\">/*!\\n * Font Awesome Free 6.2.0 by @fontawesome - https://fontawesome.com\\n * License - https://fontawesome.com/license/free (Icons: CC BY 4.0, Fonts: SIL OFL 1.1, Code: MIT License)\\n * Copyright 2022 Fonticons, Inc.\\n */@font-face{font-family:\"FontAwesome\";font-display:block;src:url(https://ka-f.fontawesome.com/releases/v6.2.0/webfonts/free-fa-solid-900.woff2) format(\"woff2\"),url(https://ka-f.fontawesome.com/releases/v6.2.0/webfonts/free-fa-solid-900.ttf) format(\"truetype\")}@font-face{font-family:\"FontAwesome\";font-display:block;src:url(https://ka-f.fontawesome.com/releases/v6.2.0/webfonts/free-fa-brands-400.woff2) format(\"woff2\"),url(https://ka-f.fontawesome.com/releases/v6.2.0/webfonts/free-fa-brands-400.ttf) format(\"truetype\")}@font-face{font-family:\"FontAwesome\";font-display:block;src:url(https://ka-f.fontawesome.com/releases/v6.2.0/webfonts/free-fa-regular-400.woff2) format(\"woff2\"),url(https://ka-f.fontawesome.com/releases/v6.2.0/webfonts/free-fa-regular-400.ttf) format(\"truetype\");unicode-range:u+f003,u+f006,u+f014,u+f016-f017,u+f01a-f01b,u+f01d,u+f022,u+f03e,u+f044,u+f046,u+f05c-f05d,u+f06e,u+f070,u+f087-f088,u+f08a,u+f094,u+f096-f097,u+f09d,u+f0a0,u+f0a2,u+f0a4-f0a7,u+f0c5,u+f0c7,u+f0e5-f0e6,u+f0eb,u+f0f6-f0f8,u+f10c,u+f114-f115,u+f118-f11a,u+f11c-f11d,u+f133,u+f147,u+f14e,u+f150-f152,u+f185-f186,u+f18e,u+f190-f192,u+f196,u+f1c1-f1c9,u+f1d9,u+f1db,u+f1e3,u+f1ea,u+f1f7,u+f1f9,u+f20a,u+f247-f248,u+f24a,u+f24d,u+f255-f25b,u+f25d,u+f271-f274,u+f278,u+f27b,u+f28c,u+f28e,u+f29c,u+f2b5,u+f2b7,u+f2ba,u+f2bc,u+f2be,u+f2c0-f2c1,u+f2c3,u+f2d0,u+f2d2,u+f2d4,u+f2dc}@font-face{font-family:\"FontAwesome\";font-display:block;src:url(https://ka-f.fontawesome.com/releases/v6.2.0/webfonts/free-fa-v4compatibility.woff2) format(\"woff2\"),url(https://ka-f.fontawesome.com/releases/v6.2.0/webfonts/free-fa-v4compatibility.ttf) format(\"truetype\");unicode-range:u+f041,u+f047,u+f065-f066,u+f07d-f07e,u+f080,u+f08b,u+f08e,u+f090,u+f09a,u+f0ac,u+f0ae,u+f0b2,u+f0d0,u+f0d6,u+f0e4,u+f0ec,u+f10a-f10b,u+f123,u+f13e,u+f148-f149,u+f14c,u+f156,u+f15e,u+f160-f161,u+f163,u+f175-f178,u+f195,u+f1f8,u+f219,u+f27a}</style><style media=\"all\" id=\"fa-v5-font-face\">/*!\\n * Font Awesome Free 6.2.0 by @fontawesome - https://fontawesome.com\\n * License - https://fontawesome.com/license/free (Icons: CC BY 4.0, Fonts: SIL OFL 1.1, Code: MIT License)\\n * Copyright 2022 Fonticons, Inc.\\n */@font-face{font-family:\"Font Awesome 5 Brands\";font-display:block;font-weight:400;src:url(https://ka-f.fontawesome.com/releases/v6.2.0/webfonts/free-fa-brands-400.woff2) format(\"woff2\"),url(https://ka-f.fontawesome.com/releases/v6.2.0/webfonts/free-fa-brands-400.ttf) format(\"truetype\")}@font-face{font-family:\"Font Awesome 5 Free\";font-display:block;font-weight:900;src:url(https://ka-f.fontawesome.com/releases/v6.2.0/webfonts/free-fa-solid-900.woff2) format(\"woff2\"),url(https://ka-f.fontawesome.com/releases/v6.2.0/webfonts/free-fa-solid-900.ttf) format(\"truetype\")}@font-face{font-family:\"Font Awesome 5 Free\";font-display:block;font-weight:400;src:url(https://ka-f.fontawesome.com/releases/v6.2.0/webfonts/free-fa-regular-400.woff2) format(\"woff2\"),url(https://ka-f.fontawesome.com/releases/v6.2.0/webfonts/free-fa-regular-400.ttf) format(\"truetype\")}</style><style media=\"all\" id=\"fa-v4-shims\">/*!\\n * Font Awesome Free 6.2.0 by @fontawesome - https://fontawesome.com\\n * License - https://fontawesome.com/license/free (Icons: CC BY 4.0, Fonts: SIL OFL 1.1, Code: MIT License)\\n * Copyright 2022 Fonticons, Inc.\\n */.fa.fa-glass:before{content:\"\\\\f000\"}.fa.fa-envelope-o{font-family:\"Font Awesome 6 Free\";font-weight:400}.fa.fa-envelope-o:before{content:\"\\\\f0e0\"}.fa.fa-star-o{font-family:\"Font Awesome 6 Free\";font-weight:400}.fa.fa-star-o:before{content:\"\\\\f005\"}.fa.fa-close:before,.fa.fa-remove:before{content:\"\\\\f00d\"}.fa.fa-gear:before{content:\"\\\\f013\"}.fa.fa-trash-o{font-family:\"Font Awesome 6 Free\";font-weight:400}.fa.fa-trash-o:before{content:\"\\\\f2ed\"}.fa.fa-home:before{content:\"\\\\f015\"}.fa.fa-file-o{font-family:\"Font Awesome 6 Free\";font-weight:400}.fa.fa-file-o:before{content:\"\\\\f15b\"}.fa.fa-clock-o{font-family:\"Font Awesome 6 Free\";font-weight:400}.fa.fa-clock-o:before{content:\"\\\\f017\"}.fa.fa-arrow-circle-o-down{font-family:\"Font Awesome 6 Free\";font-weight:400}.fa.fa-arrow-circle-o-down:before{content:\"\\\\f358\"}.fa.fa-arrow-circle-o-up{font-family:\"Font Awesome 6 Free\";font-weight:400}.fa.fa-arrow-circle-o-up:before{content:\"\\\\f35b\"}.fa.fa-play-circle-o{font-family:\"Font Awesome 6 Free\";font-weight:400}.fa.fa-play-circle-o:before{content:\"\\\\f144\"}.fa.fa-repeat:before,.fa.fa-rotate-right:before{content:\"\\\\f01e\"}.fa.fa-refresh:before{content:\"\\\\f021\"}.fa.fa-list-alt{font-family:\"Font Awesome 6 Free\";font-weight:400}.fa.fa-list-alt:before{content:\"\\\\f022\"}.fa.fa-dedent:before{content:\"\\\\f03b\"}.fa.fa-video-camera:before{content:\"\\\\f03d\"}.fa.fa-picture-o{font-family:\"Font Awesome 6 Free\";font-weight:400}.fa.fa-picture-o:before{content:\"\\\\f03e\"}.fa.fa-photo{font-family:\"Font Awesome 6 Free\";font-weight:400}.fa.fa-photo:before{content:\"\\\\f03e\"}.fa.fa-image{font-family:\"Font Awesome 6 Free\";font-weight:400}.fa.fa-image:before{content:\"\\\\f03e\"}.fa.fa-map-marker:before{content:\"\\\\f3c5\"}.fa.fa-pencil-square-o{font-family:\"Font Awesome 6 Free\";font-weight:400}.fa.fa-pencil-square-o:before{content:\"\\\\f044\"}.fa.fa-edit{font-family:\"Font Awesome 6 Free\";font-weight:400}.fa.fa-edit:before{content:\"\\\\f044\"}.fa.fa-share-square-o:before{content:\"\\\\f14d\"}.fa.fa-check-square-o{font-family:\"Font Awesome 6 Free\";font-weight:400}.fa.fa-check-square-o:before{content:\"\\\\f14a\"}.fa.fa-arrows:before{content:\"\\\\f0b2\"}.fa.fa-times-circle-o{font-family:\"Font Awesome 6 Free\";font-weight:400}.fa.fa-times-circle-o:before{content:\"\\\\f057\"}.fa.fa-check-circle-o{font-family:\"Font Awesome 6 Free\";font-weight:400}.fa.fa-check-circle-o:before{content:\"\\\\f058\"}.fa.fa-mail-forward:before{content:\"\\\\f064\"}.fa.fa-expand:before{content:\"\\\\f424\"}.fa.fa-compress:before{content:\"\\\\f422\"}.fa.fa-eye,.fa.fa-eye-slash{font-family:\"Font Awesome 6 Free\";font-weight:400}.fa.fa-warning:before{content:\"\\\\f071\"}.fa.fa-calendar:before{content:\"\\\\f073\"}.fa.fa-arrows-v:before{content:\"\\\\f338\"}.fa.fa-arrows-h:before{content:\"\\\\f337\"}.fa.fa-bar-chart-o:before,.fa.fa-bar-chart:before{content:\"\\\\e0e3\"}.fa.fa-twitter-square{font-family:\"Font Awesome 6 Brands\";font-weight:400}.fa.fa-twitter-square:before{content:\"\\\\f081\"}.fa.fa-facebook-square{font-family:\"Font Awesome 6 Brands\";font-weight:400}.fa.fa-facebook-square:before{content:\"\\\\f082\"}.fa.fa-gears:before{content:\"\\\\f085\"}.fa.fa-thumbs-o-up{font-family:\"Font Awesome 6 Free\";font-weight:400}.fa.fa-thumbs-o-up:before{content:\"\\\\f164\"}.fa.fa-thumbs-o-down{font-family:\"Font Awesome 6 Free\";font-weight:400}.fa.fa-thumbs-o-down:before{content:\"\\\\f165\"}.fa.fa-heart-o{font-family:\"Font Awesome 6 Free\";font-weight:400}.fa.fa-heart-o:before{content:\"\\\\f004\"}.fa.fa-sign-out:before{content:\"\\\\f2f5\"}.fa.fa-linkedin-square{font-family:\"Font Awesome 6 Brands\";font-weight:400}.fa.fa-linkedin-square:before{content:\"\\\\f08c\"}.fa.fa-thumb-tack:before{content:\"\\\\f08d\"}.fa.fa-external-link:before{content:\"\\\\f35d\"}.fa.fa-sign-in:before{content:\"\\\\f2f6\"}.fa.fa-github-square{font-family:\"Font Awesome 6 Brands\";font-weight:400}.fa.fa-github-square:before{content:\"\\\\f092\"}.fa.fa-lemon-o{font-family:\"Font Awesome 6 Free\";font-weight:400}.fa.fa-lemon-o:before{content:\"\\\\f094\"}.fa.fa-square-o{font-family:\"Font Awesome 6 Free\";font-weight:400}.fa.fa-square-o:before{content:\"\\\\f0c8\"}.fa.fa-bookmark-o{font-family:\"Font Awesome 6 Free\";font-weight:400}.fa.fa-bookmark-o:before{content:\"\\\\f02e\"}.fa.fa-facebook,.fa.fa-twitter{font-family:\"Font Awesome 6 Brands\";font-weight:400}.fa.fa-facebook:before{content:\"\\\\f39e\"}.fa.fa-facebook-f{font-family:\"Font Awesome 6 Brands\";font-weight:400}.fa.fa-facebook-f:before{content:\"\\\\f39e\"}.fa.fa-github{font-family:\"Font Awesome 6 Brands\";font-weight:400}.fa.fa-credit-card{font-family:\"Font Awesome 6 Free\";font-weight:400}.fa.fa-feed:before{content:\"\\\\f09e\"}.fa.fa-hdd-o{font-family:\"Font Awesome 6 Free\";font-weight:400}.fa.fa-hdd-o:before{content:\"\\\\f0a0\"}.fa.fa-hand-o-right{font-family:\"Font Awesome 6 Free\";font-weight:400}.fa.fa-hand-o-right:before{content:\"\\\\f0a4\"}.fa.fa-hand-o-left{font-family:\"Font Awesome 6 Free\";font-weight:400}.fa.fa-hand-o-left:before{content:\"\\\\f0a5\"}.fa.fa-hand-o-up{font-family:\"Font Awesome 6 Free\";font-weight:400}.fa.fa-hand-o-up:before{content:\"\\\\f0a6\"}.fa.fa-hand-o-down{font-family:\"Font Awesome 6 Free\";font-weight:400}.fa.fa-hand-o-down:before{content:\"\\\\f0a7\"}.fa.fa-globe:before{content:\"\\\\f57d\"}.fa.fa-tasks:before{content:\"\\\\f828\"}.fa.fa-arrows-alt:before{content:\"\\\\f31e\"}.fa.fa-group:before{content:\"\\\\f0c0\"}.fa.fa-chain:before{content:\"\\\\f0c1\"}.fa.fa-cut:before{content:\"\\\\f0c4\"}.fa.fa-files-o{font-family:\"Font Awesome 6 Free\";font-weight:400}.fa.fa-files-o:before{content:\"\\\\f0c5\"}.fa.fa-floppy-o{font-family:\"Font Awesome 6 Free\";font-weight:400}.fa.fa-floppy-o:before{content:\"\\\\f0c7\"}.fa.fa-save{font-family:\"Font Awesome 6 Free\";font-weight:400}.fa.fa-save:before{content:\"\\\\f0c7\"}.fa.fa-navicon:before,.fa.fa-reorder:before{content:\"\\\\f0c9\"}.fa.fa-magic:before{content:\"\\\\e2ca\"}.fa.fa-pinterest,.fa.fa-pinterest-square{font-family:\"Font Awesome 6 Brands\";font-weight:400}.fa.fa-pinterest-square:before{content:\"\\\\f0d3\"}.fa.fa-google-plus-square{font-family:\"Font Awesome 6 Brands\";font-weight:400}.fa.fa-google-plus-square:before{content:\"\\\\f0d4\"}.fa.fa-google-plus{font-family:\"Font Awesome 6 Brands\";font-weight:400}.fa.fa-google-plus:before{content:\"\\\\f0d5\"}.fa.fa-money:before{content:\"\\\\f3d1\"}.fa.fa-unsorted:before{content:\"\\\\f0dc\"}.fa.fa-sort-desc:before{content:\"\\\\f0dd\"}.fa.fa-sort-asc:before{content:\"\\\\f0de\"}.fa.fa-linkedin{font-family:\"Font Awesome 6 Brands\";font-weight:400}.fa.fa-linkedin:before{content:\"\\\\f0e1\"}.fa.fa-rotate-left:before{content:\"\\\\f0e2\"}.fa.fa-legal:before{content:\"\\\\f0e3\"}.fa.fa-dashboard:before,.fa.fa-tachometer:before{content:\"\\\\f625\"}.fa.fa-comment-o{font-family:\"Font Awesome 6 Free\";font-weight:400}.fa.fa-comment-o:before{content:\"\\\\f075\"}.fa.fa-comments-o{font-family:\"Font Awesome 6 Free\";font-weight:400}.fa.fa-comments-o:before{content:\"\\\\f086\"}.fa.fa-flash:before{content:\"\\\\f0e7\"}.fa.fa-clipboard:before{content:\"\\\\f0ea\"}.fa.fa-lightbulb-o{font-family:\"Font Awesome 6 Free\";font-weight:400}.fa.fa-lightbulb-o:before{content:\"\\\\f0eb\"}.fa.fa-exchange:before{content:\"\\\\f362\"}.fa.fa-cloud-download:before{content:\"\\\\f0ed\"}.fa.fa-cloud-upload:before{content:\"\\\\f0ee\"}.fa.fa-bell-o{font-family:\"Font Awesome 6 Free\";font-weight:400}.fa.fa-bell-o:before{content:\"\\\\f0f3\"}.fa.fa-cutlery:before{content:\"\\\\f2e7\"}.fa.fa-file-text-o{font-family:\"Font Awesome 6 Free\";font-weight:400}.fa.fa-file-text-o:before{content:\"\\\\f15c\"}.fa.fa-building-o{font-family:\"Font Awesome 6 Free\";font-weight:400}.fa.fa-building-o:before{content:\"\\\\f1ad\"}.fa.fa-hospital-o{font-family:\"Font Awesome 6 Free\";font-weight:400}.fa.fa-hospital-o:before{content:\"\\\\f0f8\"}.fa.fa-tablet:before{content:\"\\\\f3fa\"}.fa.fa-mobile-phone:before,.fa.fa-mobile:before{content:\"\\\\f3cd\"}.fa.fa-circle-o{font-family:\"Font Awesome 6 Free\";font-weight:400}.fa.fa-circle-o:before{content:\"\\\\f111\"}.fa.fa-mail-reply:before{content:\"\\\\f3e5\"}.fa.fa-github-alt{font-family:\"Font Awesome 6 Brands\";font-weight:400}.fa.fa-folder-o{font-family:\"Font Awesome 6 Free\";font-weight:400}.fa.fa-folder-o:before{content:\"\\\\f07b\"}.fa.fa-folder-open-o{font-family:\"Font Awesome 6 Free\";font-weight:400}.fa.fa-folder-open-o:before{content:\"\\\\f07c\"}.fa.fa-smile-o{font-family:\"Font Awesome 6 Free\";font-weight:400}.fa.fa-smile-o:before{content:\"\\\\f118\"}.fa.fa-frown-o{font-family:\"Font Awesome 6 Free\";font-weight:400}.fa.fa-frown-o:before{content:\"\\\\f119\"}.fa.fa-meh-o{font-family:\"Font Awesome 6 Free\";font-weight:400}.fa.fa-meh-o:before{content:\"\\\\f11a\"}.fa.fa-keyboard-o{font-family:\"Font Awesome 6 Free\";font-weight:400}.fa.fa-keyboard-o:before{content:\"\\\\f11c\"}.fa.fa-flag-o{font-family:\"Font Awesome 6 Free\";font-weight:400}.fa.fa-flag-o:before{content:\"\\\\f024\"}.fa.fa-mail-reply-all:before{content:\"\\\\f122\"}.fa.fa-star-half-o{font-family:\"Font Awesome 6 Free\";font-weight:400}.fa.fa-star-half-o:before{content:\"\\\\f5c0\"}.fa.fa-star-half-empty{font-family:\"Font Awesome 6 Free\";font-weight:400}.fa.fa-star-half-empty:before{content:\"\\\\f5c0\"}.fa.fa-star-half-full{font-family:\"Font Awesome 6 Free\";font-weight:400}.fa.fa-star-half-full:before{content:\"\\\\f5c0\"}.fa.fa-code-fork:before{content:\"\\\\f126\"}.fa.fa-chain-broken:before,.fa.fa-unlink:before{content:\"\\\\f127\"}.fa.fa-calendar-o{font-family:\"Font Awesome 6 Free\";font-weight:400}.fa.fa-calendar-o:before{content:\"\\\\f133\"}.fa.fa-css3,.fa.fa-html5,.fa.fa-maxcdn{font-family:\"Font Awesome 6 Brands\";font-weight:400}.fa.fa-unlock-alt:before{content:\"\\\\f09c\"}.fa.fa-minus-square-o{font-family:\"Font Awesome 6 Free\";font-weight:400}.fa.fa-minus-square-o:before{content:\"\\\\f146\"}.fa.fa-level-up:before{content:\"\\\\f3bf\"}.fa.fa-level-down:before{content:\"\\\\f3be\"}.fa.fa-pencil-square:before{content:\"\\\\f14b\"}.fa.fa-external-link-square:before{content:\"\\\\f360\"}.fa.fa-compass{font-family:\"Font Awesome 6 Free\";font-weight:400}.fa.fa-caret-square-o-down{font-family:\"Font Awesome 6 Free\";font-weight:400}.fa.fa-caret-square-o-down:before{content:\"\\\\f150\"}.fa.fa-toggle-down{font-family:\"Font Awesome 6 Free\";font-weight:400}.fa.fa-toggle-down:before{content:\"\\\\f150\"}.fa.fa-caret-square-o-up{font-family:\"Font Awesome 6 Free\";font-weight:400}.fa.fa-caret-square-o-up:before{content:\"\\\\f151\"}.fa.fa-toggle-up{font-family:\"Font Awesome 6 Free\";font-weight:400}.fa.fa-toggle-up:before{content:\"\\\\f151\"}.fa.fa-caret-square-o-right{font-family:\"Font Awesome 6 Free\";font-weight:400}.fa.fa-caret-square-o-right:before{content:\"\\\\f152\"}.fa.fa-toggle-right{font-family:\"Font Awesome 6 Free\";font-weight:400}.fa.fa-toggle-right:before{content:\"\\\\f152\"}.fa.fa-eur:before,.fa.fa-euro:before{content:\"\\\\f153\"}.fa.fa-gbp:before{content:\"\\\\f154\"}.fa.fa-dollar:before,.fa.fa-usd:before{content:\"\\\\24\"}.fa.fa-inr:before,.fa.fa-rupee:before{content:\"\\\\e1bc\"}.fa.fa-cny:before,.fa.fa-jpy:before,.fa.fa-rmb:before,.fa.fa-yen:before{content:\"\\\\f157\"}.fa.fa-rouble:before,.fa.fa-rub:before,.fa.fa-ruble:before{content:\"\\\\f158\"}.fa.fa-krw:before,.fa.fa-won:before{content:\"\\\\f159\"}.fa.fa-bitcoin,.fa.fa-btc{font-family:\"Font Awesome 6 Brands\";font-weight:400}.fa.fa-bitcoin:before{content:\"\\\\f15a\"}.fa.fa-file-text:before{content:\"\\\\f15c\"}.fa.fa-sort-alpha-asc:before{content:\"\\\\f15d\"}.fa.fa-sort-alpha-desc:before{content:\"\\\\f881\"}.fa.fa-sort-amount-asc:before{content:\"\\\\f884\"}.fa.fa-sort-amount-desc:before{content:\"\\\\f160\"}.fa.fa-sort-numeric-asc:before{content:\"\\\\f162\"}.fa.fa-sort-numeric-desc:before{content:\"\\\\f886\"}.fa.fa-youtube-square{font-family:\"Font Awesome 6 Brands\";font-weight:400}.fa.fa-youtube-square:before{content:\"\\\\f431\"}.fa.fa-xing,.fa.fa-xing-square,.fa.fa-youtube{font-family:\"Font Awesome 6 Brands\";font-weight:400}.fa.fa-xing-square:before{content:\"\\\\f169\"}.fa.fa-youtube-play{font-family:\"Font Awesome 6 Brands\";font-weight:400}.fa.fa-youtube-play:before{content:\"\\\\f167\"}.fa.fa-adn,.fa.fa-bitbucket,.fa.fa-bitbucket-square,.fa.fa-dropbox,.fa.fa-flickr,.fa.fa-instagram,.fa.fa-stack-overflow{font-family:\"Font Awesome 6 Brands\";font-weight:400}.fa.fa-bitbucket-square:before{content:\"\\\\f171\"}.fa.fa-tumblr,.fa.fa-tumblr-square{font-family:\"Font Awesome 6 Brands\";font-weight:400}.fa.fa-tumblr-square:before{content:\"\\\\f174\"}.fa.fa-long-arrow-down:before{content:\"\\\\f309\"}.fa.fa-long-arrow-up:before{content:\"\\\\f30c\"}.fa.fa-long-arrow-left:before{content:\"\\\\f30a\"}.fa.fa-long-arrow-right:before{content:\"\\\\f30b\"}.fa.fa-android,.fa.fa-apple,.fa.fa-dribbble,.fa.fa-foursquare,.fa.fa-gittip,.fa.fa-gratipay,.fa.fa-linux,.fa.fa-skype,.fa.fa-trello,.fa.fa-windows{font-family:\"Font Awesome 6 Brands\";font-weight:400}.fa.fa-gittip:before{content:\"\\\\f184\"}.fa.fa-sun-o{font-family:\"Font Awesome 6 Free\";font-weight:400}.fa.fa-sun-o:before{content:\"\\\\f185\"}.fa.fa-moon-o{font-family:\"Font Awesome 6 Free\";font-weight:400}.fa.fa-moon-o:before{content:\"\\\\f186\"}.fa.fa-pagelines,.fa.fa-renren,.fa.fa-stack-exchange,.fa.fa-vk,.fa.fa-weibo{font-family:\"Font Awesome 6 Brands\";font-weight:400}.fa.fa-arrow-circle-o-right{font-family:\"Font Awesome 6 Free\";font-weight:400}.fa.fa-arrow-circle-o-right:before{content:\"\\\\f35a\"}.fa.fa-arrow-circle-o-left{font-family:\"Font Awesome 6 Free\";font-weight:400}.fa.fa-arrow-circle-o-left:before{content:\"\\\\f359\"}.fa.fa-caret-square-o-left{font-family:\"Font Awesome 6 Free\";font-weight:400}.fa.fa-caret-square-o-left:before{content:\"\\\\f191\"}.fa.fa-toggle-left{font-family:\"Font Awesome 6 Free\";font-weight:400}.fa.fa-toggle-left:before{content:\"\\\\f191\"}.fa.fa-dot-circle-o{font-family:\"Font Awesome 6 Free\";font-weight:400}.fa.fa-dot-circle-o:before{content:\"\\\\f192\"}.fa.fa-vimeo-square{font-family:\"Font Awesome 6 Brands\";font-weight:400}.fa.fa-vimeo-square:before{content:\"\\\\f194\"}.fa.fa-try:before,.fa.fa-turkish-lira:before{content:\"\\\\e2bb\"}.fa.fa-plus-square-o{font-family:\"Font Awesome 6 Free\";font-weight:400}.fa.fa-plus-square-o:before{content:\"\\\\f0fe\"}.fa.fa-openid,.fa.fa-slack,.fa.fa-wordpress{font-family:\"Font Awesome 6 Brands\";font-weight:400}.fa.fa-bank:before,.fa.fa-institution:before{content:\"\\\\f19c\"}.fa.fa-mortar-board:before{content:\"\\\\f19d\"}.fa.fa-google,.fa.fa-reddit,.fa.fa-reddit-square,.fa.fa-yahoo{font-family:\"Font Awesome 6 Brands\";font-weight:400}.fa.fa-reddit-square:before{content:\"\\\\f1a2\"}.fa.fa-behance,.fa.fa-behance-square,.fa.fa-delicious,.fa.fa-digg,.fa.fa-drupal,.fa.fa-joomla,.fa.fa-pied-piper-alt,.fa.fa-pied-piper-pp,.fa.fa-stumbleupon,.fa.fa-stumbleupon-circle{font-family:\"Font Awesome 6 Brands\";font-weight:400}.fa.fa-behance-square:before{content:\"\\\\f1b5\"}.fa.fa-steam,.fa.fa-steam-square{font-family:\"Font Awesome 6 Brands\";font-weight:400}.fa.fa-steam-square:before{content:\"\\\\f1b7\"}.fa.fa-automobile:before{content:\"\\\\f1b9\"}.fa.fa-cab:before{content:\"\\\\f1ba\"}.fa.fa-deviantart,.fa.fa-soundcloud,.fa.fa-spotify{font-family:\"Font Awesome 6 Brands\";font-weight:400}.fa.fa-file-pdf-o{font-family:\"Font Awesome 6 Free\";font-weight:400}.fa.fa-file-pdf-o:before{content:\"\\\\f1c1\"}.fa.fa-file-word-o{font-family:\"Font Awesome 6 Free\";font-weight:400}.fa.fa-file-word-o:before{content:\"\\\\f1c2\"}.fa.fa-file-excel-o{font-family:\"Font Awesome 6 Free\";font-weight:400}.fa.fa-file-excel-o:before{content:\"\\\\f1c3\"}.fa.fa-file-powerpoint-o{font-family:\"Font Awesome 6 Free\";font-weight:400}.fa.fa-file-powerpoint-o:before{content:\"\\\\f1c4\"}.fa.fa-file-image-o{font-family:\"Font Awesome 6 Free\";font-weight:400}.fa.fa-file-image-o:before{content:\"\\\\f1c5\"}.fa.fa-file-photo-o{font-family:\"Font Awesome 6 Free\";font-weight:400}.fa.fa-file-photo-o:before{content:\"\\\\f1c5\"}.fa.fa-file-picture-o{font-family:\"Font Awesome 6 Free\";font-weight:400}.fa.fa-file-picture-o:before{content:\"\\\\f1c5\"}.fa.fa-file-archive-o{font-family:\"Font Awesome 6 Free\";font-weight:400}.fa.fa-file-archive-o:before{content:\"\\\\f1c6\"}.fa.fa-file-zip-o{font-family:\"Font Awesome 6 Free\";font-weight:400}.fa.fa-file-zip-o:before{content:\"\\\\f1c6\"}.fa.fa-file-audio-o{font-family:\"Font Awesome 6 Free\";font-weight:400}.fa.fa-file-audio-o:before{content:\"\\\\f1c7\"}.fa.fa-file-sound-o{font-family:\"Font Awesome 6 Free\";font-weight:400}.fa.fa-file-sound-o:before{content:\"\\\\f1c7\"}.fa.fa-file-video-o{font-family:\"Font Awesome 6 Free\";font-weight:400}.fa.fa-file-video-o:before{content:\"\\\\f1c8\"}.fa.fa-file-movie-o{font-family:\"Font Awesome 6 Free\";font-weight:400}.fa.fa-file-movie-o:before{content:\"\\\\f1c8\"}.fa.fa-file-code-o{font-family:\"Font Awesome 6 Free\";font-weight:400}.fa.fa-file-code-o:before{content:\"\\\\f1c9\"}.fa.fa-codepen,.fa.fa-jsfiddle,.fa.fa-vine{font-family:\"Font Awesome 6 Brands\";font-weight:400}.fa.fa-life-bouy:before,.fa.fa-life-buoy:before,.fa.fa-life-saver:before,.fa.fa-support:before{content:\"\\\\f1cd\"}.fa.fa-circle-o-notch:before{content:\"\\\\f1ce\"}.fa.fa-ra,.fa.fa-rebel{font-family:\"Font Awesome 6 Brands\";font-weight:400}.fa.fa-ra:before{content:\"\\\\f1d0\"}.fa.fa-resistance{font-family:\"Font Awesome 6 Brands\";font-weight:400}.fa.fa-resistance:before{content:\"\\\\f1d0\"}.fa.fa-empire,.fa.fa-ge{font-family:\"Font Awesome 6 Brands\";font-weight:400}.fa.fa-ge:before{content:\"\\\\f1d1\"}.fa.fa-git-square{font-family:\"Font Awesome 6 Brands\";font-weight:400}.fa.fa-git-square:before{content:\"\\\\f1d2\"}.fa.fa-git,.fa.fa-hacker-news,.fa.fa-y-combinator-square{font-family:\"Font Awesome 6 Brands\";font-weight:400}.fa.fa-y-combinator-square:before{content:\"\\\\f1d4\"}.fa.fa-yc-square{font-family:\"Font Awesome 6 Brands\";font-weight:400}.fa.fa-yc-square:before{content:\"\\\\f1d4\"}.fa.fa-qq,.fa.fa-tencent-weibo,.fa.fa-wechat,.fa.fa-weixin{font-family:\"Font Awesome 6 Brands\";font-weight:400}.fa.fa-wechat:before{content:\"\\\\f1d7\"}.fa.fa-send:before{content:\"\\\\f1d8\"}.fa.fa-paper-plane-o{font-family:\"Font Awesome 6 Free\";font-weight:400}.fa.fa-paper-plane-o:before{content:\"\\\\f1d8\"}.fa.fa-send-o{font-family:\"Font Awesome 6 Free\";font-weight:400}.fa.fa-send-o:before{content:\"\\\\f1d8\"}.fa.fa-circle-thin{font-family:\"Font Awesome 6 Free\";font-weight:400}.fa.fa-circle-thin:before{content:\"\\\\f111\"}.fa.fa-header:before{content:\"\\\\f1dc\"}.fa.fa-futbol-o{font-family:\"Font Awesome 6 Free\";font-weight:400}.fa.fa-futbol-o:before{content:\"\\\\f1e3\"}.fa.fa-soccer-ball-o{font-family:\"Font Awesome 6 Free\";font-weight:400}.fa.fa-soccer-ball-o:before{content:\"\\\\f1e3\"}.fa.fa-slideshare,.fa.fa-twitch,.fa.fa-yelp{font-family:\"Font Awesome 6 Brands\";font-weight:400}.fa.fa-newspaper-o{font-family:\"Font Awesome 6 Free\";font-weight:400}.fa.fa-newspaper-o:before{content:\"\\\\f1ea\"}.fa.fa-cc-amex,.fa.fa-cc-discover,.fa.fa-cc-mastercard,.fa.fa-cc-paypal,.fa.fa-cc-stripe,.fa.fa-cc-visa,.fa.fa-google-wallet,.fa.fa-paypal{font-family:\"Font Awesome 6 Brands\";font-weight:400}.fa.fa-bell-slash-o{font-family:\"Font Awesome 6 Free\";font-weight:400}.fa.fa-bell-slash-o:before{content:\"\\\\f1f6\"}.fa.fa-trash:before{content:\"\\\\f2ed\"}.fa.fa-copyright{font-family:\"Font Awesome 6 Free\";font-weight:400}.fa.fa-eyedropper:before{content:\"\\\\f1fb\"}.fa.fa-area-chart:before{content:\"\\\\f1fe\"}.fa.fa-pie-chart:before{content:\"\\\\f200\"}.fa.fa-line-chart:before{content:\"\\\\f201\"}.fa.fa-lastfm,.fa.fa-lastfm-square{font-family:\"Font Awesome 6 Brands\";font-weight:400}.fa.fa-lastfm-square:before{content:\"\\\\f203\"}.fa.fa-angellist,.fa.fa-ioxhost{font-family:\"Font Awesome 6 Brands\";font-weight:400}.fa.fa-cc{font-family:\"Font Awesome 6 Free\";font-weight:400}.fa.fa-cc:before{content:\"\\\\f20a\"}.fa.fa-ils:before,.fa.fa-shekel:before,.fa.fa-sheqel:before{content:\"\\\\f20b\"}.fa.fa-buysellads,.fa.fa-connectdevelop,.fa.fa-dashcube,.fa.fa-forumbee,.fa.fa-leanpub,.fa.fa-sellsy,.fa.fa-shirtsinbulk,.fa.fa-simplybuilt,.fa.fa-skyatlas{font-family:\"Font Awesome 6 Brands\";font-weight:400}.fa.fa-diamond{font-family:\"Font Awesome 6 Free\";font-weight:400}.fa.fa-diamond:before{content:\"\\\\f3a5\"}.fa.fa-intersex:before,.fa.fa-transgender:before{content:\"\\\\f224\"}.fa.fa-transgender-alt:before{content:\"\\\\f225\"}.fa.fa-facebook-official{font-family:\"Font Awesome 6 Brands\";font-weight:400}.fa.fa-facebook-official:before{content:\"\\\\f09a\"}.fa.fa-pinterest-p,.fa.fa-whatsapp{font-family:\"Font Awesome 6 Brands\";font-weight:400}.fa.fa-hotel:before{content:\"\\\\f236\"}.fa.fa-medium,.fa.fa-viacoin,.fa.fa-y-combinator,.fa.fa-yc{font-family:\"Font Awesome 6 Brands\";font-weight:400}.fa.fa-yc:before{content:\"\\\\f23b\"}.fa.fa-expeditedssl,.fa.fa-opencart,.fa.fa-optin-monster{font-family:\"Font Awesome 6 Brands\";font-weight:400}.fa.fa-battery-4:before,.fa.fa-battery:before{content:\"\\\\f240\"}.fa.fa-battery-3:before{content:\"\\\\f241\"}.fa.fa-battery-2:before{content:\"\\\\f242\"}.fa.fa-battery-1:before{content:\"\\\\f243\"}.fa.fa-battery-0:before{content:\"\\\\f244\"}.fa.fa-object-group,.fa.fa-object-ungroup,.fa.fa-sticky-note-o{font-family:\"Font Awesome 6 Free\";font-weight:400}.fa.fa-sticky-note-o:before{content:\"\\\\f249\"}.fa.fa-cc-diners-club,.fa.fa-cc-jcb{font-family:\"Font Awesome 6 Brands\";font-weight:400}.fa.fa-clone{font-family:\"Font Awesome 6 Free\";font-weight:400}.fa.fa-hourglass-o:before{content:\"\\\\f254\"}.fa.fa-hourglass-1:before{content:\"\\\\f251\"}.fa.fa-hourglass-2:before{content:\"\\\\f252\"}.fa.fa-hourglass-3:before{content:\"\\\\f253\"}.fa.fa-hand-rock-o{font-family:\"Font Awesome 6 Free\";font-weight:400}.fa.fa-hand-rock-o:before{content:\"\\\\f255\"}.fa.fa-hand-grab-o{font-family:\"Font Awesome 6 Free\";font-weight:400}.fa.fa-hand-grab-o:before{content:\"\\\\f255\"}.fa.fa-hand-paper-o{font-family:\"Font Awesome 6 Free\";font-weight:400}.fa.fa-hand-paper-o:before{content:\"\\\\f256\"}.fa.fa-hand-stop-o{font-family:\"Font Awesome 6 Free\";font-weight:400}.fa.fa-hand-stop-o:before{content:\"\\\\f256\"}.fa.fa-hand-scissors-o{font-family:\"Font Awesome 6 Free\";font-weight:400}.fa.fa-hand-scissors-o:before{content:\"\\\\f257\"}.fa.fa-hand-lizard-o{font-family:\"Font Awesome 6 Free\";font-weight:400}.fa.fa-hand-lizard-o:before{content:\"\\\\f258\"}.fa.fa-hand-spock-o{font-family:\"Font Awesome 6 Free\";font-weight:400}.fa.fa-hand-spock-o:before{content:\"\\\\f259\"}.fa.fa-hand-pointer-o{font-family:\"Font Awesome 6 Free\";font-weight:400}.fa.fa-hand-pointer-o:before{content:\"\\\\f25a\"}.fa.fa-hand-peace-o{font-family:\"Font Awesome 6 Free\";font-weight:400}.fa.fa-hand-peace-o:before{content:\"\\\\f25b\"}.fa.fa-registered{font-family:\"Font Awesome 6 Free\";font-weight:400}.fa.fa-creative-commons,.fa.fa-gg,.fa.fa-gg-circle,.fa.fa-odnoklassniki,.fa.fa-odnoklassniki-square{font-family:\"Font Awesome 6 Brands\";font-weight:400}.fa.fa-odnoklassniki-square:before{content:\"\\\\f264\"}.fa.fa-chrome,.fa.fa-firefox,.fa.fa-get-pocket,.fa.fa-internet-explorer,.fa.fa-opera,.fa.fa-safari,.fa.fa-wikipedia-w{font-family:\"Font Awesome 6 Brands\";font-weight:400}.fa.fa-television:before{content:\"\\\\f26c\"}.fa.fa-500px,.fa.fa-amazon,.fa.fa-contao{font-family:\"Font Awesome 6 Brands\";font-weight:400}.fa.fa-calendar-plus-o{font-family:\"Font Awesome 6 Free\";font-weight:400}.fa.fa-calendar-plus-o:before{content:\"\\\\f271\"}.fa.fa-calendar-minus-o{font-family:\"Font Awesome 6 Free\";font-weight:400}.fa.fa-calendar-minus-o:before{content:\"\\\\f272\"}.fa.fa-calendar-times-o{font-family:\"Font Awesome 6 Free\";font-weight:400}.fa.fa-calendar-times-o:before{content:\"\\\\f273\"}.fa.fa-calendar-check-o{font-family:\"Font Awesome 6 Free\";font-weight:400}.fa.fa-calendar-check-o:before{content:\"\\\\f274\"}.fa.fa-map-o{font-family:\"Font Awesome 6 Free\";font-weight:400}.fa.fa-map-o:before{content:\"\\\\f279\"}.fa.fa-commenting:before{content:\"\\\\f4ad\"}.fa.fa-commenting-o{font-family:\"Font Awesome 6 Free\";font-weight:400}.fa.fa-commenting-o:before{content:\"\\\\f4ad\"}.fa.fa-houzz,.fa.fa-vimeo{font-family:\"Font Awesome 6 Brands\";font-weight:400}.fa.fa-vimeo:before{content:\"\\\\f27d\"}.fa.fa-black-tie,.fa.fa-edge,.fa.fa-fonticons,.fa.fa-reddit-alien{font-family:\"Font Awesome 6 Brands\";font-weight:400}.fa.fa-credit-card-alt:before{content:\"\\\\f09d\"}.fa.fa-codiepie,.fa.fa-fort-awesome,.fa.fa-mixcloud,.fa.fa-modx,.fa.fa-product-hunt,.fa.fa-scribd,.fa.fa-usb{font-family:\"Font Awesome 6 Brands\";font-weight:400}.fa.fa-pause-circle-o{font-family:\"Font Awesome 6 Free\";font-weight:400}.fa.fa-pause-circle-o:before{content:\"\\\\f28b\"}.fa.fa-stop-circle-o{font-family:\"Font Awesome 6 Free\";font-weight:400}.fa.fa-stop-circle-o:before{content:\"\\\\f28d\"}.fa.fa-bluetooth,.fa.fa-bluetooth-b,.fa.fa-envira,.fa.fa-gitlab,.fa.fa-wheelchair-alt,.fa.fa-wpbeginner,.fa.fa-wpforms{font-family:\"Font Awesome 6 Brands\";font-weight:400}.fa.fa-wheelchair-alt:before{content:\"\\\\f368\"}.fa.fa-question-circle-o{font-family:\"Font Awesome 6 Free\";font-weight:400}.fa.fa-question-circle-o:before{content:\"\\\\f059\"}.fa.fa-volume-control-phone:before{content:\"\\\\f2a0\"}.fa.fa-asl-interpreting:before{content:\"\\\\f2a3\"}.fa.fa-deafness:before,.fa.fa-hard-of-hearing:before{content:\"\\\\f2a4\"}.fa.fa-glide,.fa.fa-glide-g{font-family:\"Font Awesome 6 Brands\";font-weight:400}.fa.fa-signing:before{content:\"\\\\f2a7\"}.fa.fa-viadeo,.fa.fa-viadeo-square{font-family:\"Font Awesome 6 Brands\";font-weight:400}.fa.fa-viadeo-square:before{content:\"\\\\f2aa\"}.fa.fa-snapchat,.fa.fa-snapchat-ghost{font-family:\"Font Awesome 6 Brands\";font-weight:400}.fa.fa-snapchat-ghost:before{content:\"\\\\f2ab\"}.fa.fa-snapchat-square{font-family:\"Font Awesome 6 Brands\";font-weight:400}.fa.fa-snapchat-square:before{content:\"\\\\f2ad\"}.fa.fa-first-order,.fa.fa-google-plus-official,.fa.fa-pied-piper,.fa.fa-themeisle,.fa.fa-yoast{font-family:\"Font Awesome 6 Brands\";font-weight:400}.fa.fa-google-plus-official:before{content:\"\\\\f2b3\"}.fa.fa-google-plus-circle{font-family:\"Font Awesome 6 Brands\";font-weight:400}.fa.fa-google-plus-circle:before{content:\"\\\\f2b3\"}.fa.fa-fa,.fa.fa-font-awesome{font-family:\"Font Awesome 6 Brands\";font-weight:400}.fa.fa-fa:before{content:\"\\\\f2b4\"}.fa.fa-handshake-o{font-family:\"Font Awesome 6 Free\";font-weight:400}.fa.fa-handshake-o:before{content:\"\\\\f2b5\"}.fa.fa-envelope-open-o{font-family:\"Font Awesome 6 Free\";font-weight:400}.fa.fa-envelope-open-o:before{content:\"\\\\f2b6\"}.fa.fa-linode{font-family:\"Font Awesome 6 Brands\";font-weight:400}.fa.fa-address-book-o{font-family:\"Font Awesome 6 Free\";font-weight:400}.fa.fa-address-book-o:before{content:\"\\\\f2b9\"}.fa.fa-vcard:before{content:\"\\\\f2bb\"}.fa.fa-address-card-o{font-family:\"Font Awesome 6 Free\";font-weight:400}.fa.fa-address-card-o:before{content:\"\\\\f2bb\"}.fa.fa-vcard-o{font-family:\"Font Awesome 6 Free\";font-weight:400}.fa.fa-vcard-o:before{content:\"\\\\f2bb\"}.fa.fa-user-circle-o{font-family:\"Font Awesome 6 Free\";font-weight:400}.fa.fa-user-circle-o:before{content:\"\\\\f2bd\"}.fa.fa-user-o{font-family:\"Font Awesome 6 Free\";font-weight:400}.fa.fa-user-o:before{content:\"\\\\f007\"}.fa.fa-id-badge{font-family:\"Font Awesome 6 Free\";font-weight:400}.fa.fa-drivers-license:before{content:\"\\\\f2c2\"}.fa.fa-id-card-o{font-family:\"Font Awesome 6 Free\";font-weight:400}.fa.fa-id-card-o:before{content:\"\\\\f2c2\"}.fa.fa-drivers-license-o{font-family:\"Font Awesome 6 Free\";font-weight:400}.fa.fa-drivers-license-o:before{content:\"\\\\f2c2\"}.fa.fa-free-code-camp,.fa.fa-quora,.fa.fa-telegram{font-family:\"Font Awesome 6 Brands\";font-weight:400}.fa.fa-thermometer-4:before,.fa.fa-thermometer:before{content:\"\\\\f2c7\"}.fa.fa-thermometer-3:before{content:\"\\\\f2c8\"}.fa.fa-thermometer-2:before{content:\"\\\\f2c9\"}.fa.fa-thermometer-1:before{content:\"\\\\f2ca\"}.fa.fa-thermometer-0:before{content:\"\\\\f2cb\"}.fa.fa-bathtub:before,.fa.fa-s15:before{content:\"\\\\f2cd\"}.fa.fa-window-maximize,.fa.fa-window-restore{font-family:\"Font Awesome 6 Free\";font-weight:400}.fa.fa-times-rectangle:before{content:\"\\\\f410\"}.fa.fa-window-close-o{font-family:\"Font Awesome 6 Free\";font-weight:400}.fa.fa-window-close-o:before{content:\"\\\\f410\"}.fa.fa-times-rectangle-o{font-family:\"Font Awesome 6 Free\";font-weight:400}.fa.fa-times-rectangle-o:before{content:\"\\\\f410\"}.fa.fa-bandcamp,.fa.fa-eercast,.fa.fa-etsy,.fa.fa-grav,.fa.fa-imdb,.fa.fa-ravelry{font-family:\"Font Awesome 6 Brands\";font-weight:400}.fa.fa-eercast:before{content:\"\\\\f2da\"}.fa.fa-snowflake-o{font-family:\"Font Awesome 6 Free\";font-weight:400}.fa.fa-snowflake-o:before{content:\"\\\\f2dc\"}.fa.fa-meetup,.fa.fa-superpowers,.fa.fa-wpexplorer{font-family:\"Font Awesome 6 Brands\";font-weight:400}</style><style media=\"all\" id=\"fa-main\">/*!\\n * Font Awesome Free 6.2.0 by @fontawesome - https://fontawesome.com\\n * License - https://fontawesome.com/license/free (Icons: CC BY 4.0, Fonts: SIL OFL 1.1, Code: MIT License)\\n * Copyright 2022 Fonticons, Inc.\\n */.fa{font-family:var(--fa-style-family,\"Font Awesome 6 Free\");font-weight:var(--fa-style,900)}.fa,.fa-brands,.fa-classic,.fa-regular,.fa-sharp,.fa-solid,.fab,.far,.fas{-moz-osx-font-smoothing:grayscale;-webkit-font-smoothing:antialiased;display:var(--fa-display,inline-block);font-style:normal;font-variant:normal;line-height:1;text-rendering:auto}.fa-classic,.fa-regular,.fa-solid,.far,.fas{font-family:\"Font Awesome 6 Free\"}.fa-brands,.fab{font-family:\"Font Awesome 6 Brands\"}.fa-1x{font-size:1em}.fa-2x{font-size:2em}.fa-3x{font-size:3em}.fa-4x{font-size:4em}.fa-5x{font-size:5em}.fa-6x{font-size:6em}.fa-7x{font-size:7em}.fa-8x{font-size:8em}.fa-9x{font-size:9em}.fa-10x{font-size:10em}.fa-2xs{font-size:.625em;line-height:.1em;vertical-align:.225em}.fa-xs{font-size:.75em;line-height:.08333em;vertical-align:.125em}.fa-sm{font-size:.875em;line-height:.07143em;vertical-align:.05357em}.fa-lg{font-size:1.25em;line-height:.05em;vertical-align:-.075em}.fa-xl{font-size:1.5em;line-height:.04167em;vertical-align:-.125em}.fa-2xl{font-size:2em;line-height:.03125em;vertical-align:-.1875em}.fa-fw{text-align:center;width:1.25em}.fa-ul{list-style-type:none;margin-left:var(--fa-li-margin,2.5em);padding-left:0}.fa-ul>li{position:relative}.fa-li{left:calc(var(--fa-li-width, 2em)*-1);position:absolute;text-align:center;width:var(--fa-li-width,2em);line-height:inherit}.fa-border{border-radius:var(--fa-border-radius,.1em);border:var(--fa-border-width,.08em) var(--fa-border-style,solid) var(--fa-border-color,#eee);padding:var(--fa-border-padding,.2em .25em .15em)}.fa-pull-left{float:left;margin-right:var(--fa-pull-margin,.3em)}.fa-pull-right{float:right;margin-left:var(--fa-pull-margin,.3em)}.fa-beat{-webkit-animation-name:fa-beat;animation-name:fa-beat;-webkit-animation-delay:var(--fa-animation-delay,0s);animation-delay:var(--fa-animation-delay,0s);-webkit-animation-direction:var(--fa-animation-direction,normal);animation-direction:var(--fa-animation-direction,normal);-webkit-animation-duration:var(--fa-animation-duration,1s);animation-duration:var(--fa-animation-duration,1s);-webkit-animation-iteration-count:var(--fa-animation-iteration-count,infinite);animation-iteration-count:var(--fa-animation-iteration-count,infinite);-webkit-animation-timing-function:var(--fa-animation-timing,ease-in-out);animation-timing-function:var(--fa-animation-timing,ease-in-out)}.fa-bounce{-webkit-animation-name:fa-bounce;animation-name:fa-bounce;-webkit-animation-delay:var(--fa-animation-delay,0s);animation-delay:var(--fa-animation-delay,0s);-webkit-animation-direction:var(--fa-animation-direction,normal);animation-direction:var(--fa-animation-direction,normal);-webkit-animation-duration:var(--fa-animation-duration,1s);animation-duration:var(--fa-animation-duration,1s);-webkit-animation-iteration-count:var(--fa-animation-iteration-count,infinite);animation-iteration-count:var(--fa-animation-iteration-count,infinite);-webkit-animation-timing-function:var(--fa-animation-timing,cubic-bezier(.28,.84,.42,1));animation-timing-function:var(--fa-animation-timing,cubic-bezier(.28,.84,.42,1))}.fa-fade{-webkit-animation-name:fa-fade;animation-name:fa-fade;-webkit-animation-iteration-count:var(--fa-animation-iteration-count,infinite);animation-iteration-count:var(--fa-animation-iteration-count,infinite);-webkit-animation-timing-function:var(--fa-animation-timing,cubic-bezier(.4,0,.6,1));animation-timing-function:var(--fa-animation-timing,cubic-bezier(.4,0,.6,1))}.fa-beat-fade,.fa-fade{-webkit-animation-delay:var(--fa-animation-delay,0s);animation-delay:var(--fa-animation-delay,0s);-webkit-animation-direction:var(--fa-animation-direction,normal);animation-direction:var(--fa-animation-direction,normal);-webkit-animation-duration:var(--fa-animation-duration,1s);animation-duration:var(--fa-animation-duration,1s)}.fa-beat-fade{-webkit-animation-name:fa-beat-fade;animation-name:fa-beat-fade;-webkit-animation-iteration-count:var(--fa-animation-iteration-count,infinite);animation-iteration-count:var(--fa-animation-iteration-count,infinite);-webkit-animation-timing-function:var(--fa-animation-timing,cubic-bezier(.4,0,.6,1));animation-timing-function:var(--fa-animation-timing,cubic-bezier(.4,0,.6,1))}.fa-flip{-webkit-animation-name:fa-flip;animation-name:fa-flip;-webkit-animation-delay:var(--fa-animation-delay,0s);animation-delay:var(--fa-animation-delay,0s);-webkit-animation-direction:var(--fa-animation-direction,normal);animation-direction:var(--fa-animation-direction,normal);-webkit-animation-duration:var(--fa-animation-duration,1s);animation-duration:var(--fa-animation-duration,1s);-webkit-animation-iteration-count:var(--fa-animation-iteration-count,infinite);animation-iteration-count:var(--fa-animation-iteration-count,infinite);-webkit-animation-timing-function:var(--fa-animation-timing,ease-in-out);animation-timing-function:var(--fa-animation-timing,ease-in-out)}.fa-shake{-webkit-animation-name:fa-shake;animation-name:fa-shake;-webkit-animation-duration:var(--fa-animation-duration,1s);animation-duration:var(--fa-animation-duration,1s);-webkit-animation-iteration-count:var(--fa-animation-iteration-count,infinite);animation-iteration-count:var(--fa-animation-iteration-count,infinite);-webkit-animation-timing-function:var(--fa-animation-timing,linear);animation-timing-function:var(--fa-animation-timing,linear)}.fa-shake,.fa-spin{-webkit-animation-delay:var(--fa-animation-delay,0s);animation-delay:var(--fa-animation-delay,0s);-webkit-animation-direction:var(--fa-animation-direction,normal);animation-direction:var(--fa-animation-direction,normal)}.fa-spin{-webkit-animation-name:fa-spin;animation-name:fa-spin;-webkit-animation-duration:var(--fa-animation-duration,2s);animation-duration:var(--fa-animation-duration,2s);-webkit-animation-iteration-count:var(--fa-animation-iteration-count,infinite);animation-iteration-count:var(--fa-animation-iteration-count,infinite);-webkit-animation-timing-function:var(--fa-animation-timing,linear);animation-timing-function:var(--fa-animation-timing,linear)}.fa-spin-reverse{--fa-animation-direction:reverse}.fa-pulse,.fa-spin-pulse{-webkit-animation-name:fa-spin;animation-name:fa-spin;-webkit-animation-direction:var(--fa-animation-direction,normal);animation-direction:var(--fa-animation-direction,normal);-webkit-animation-duration:var(--fa-animation-duration,1s);animation-duration:var(--fa-animation-duration,1s);-webkit-animation-iteration-count:var(--fa-animation-iteration-count,infinite);animation-iteration-count:var(--fa-animation-iteration-count,infinite);-webkit-animation-timing-function:var(--fa-animation-timing,steps(8));animation-timing-function:var(--fa-animation-timing,steps(8))}@media (prefers-reduced-motion:reduce){.fa-beat,.fa-beat-fade,.fa-bounce,.fa-fade,.fa-flip,.fa-pulse,.fa-shake,.fa-spin,.fa-spin-pulse{-webkit-animation-delay:-1ms;animation-delay:-1ms;-webkit-animation-duration:1ms;animation-duration:1ms;-webkit-animation-iteration-count:1;animation-iteration-count:1;transition-delay:0s;transition-duration:0s}}@-webkit-keyframes fa-beat{0%,90%{-webkit-transform:scale(1);transform:scale(1)}45%{-webkit-transform:scale(var(--fa-beat-scale,1.25));transform:scale(var(--fa-beat-scale,1.25))}}@keyframes fa-beat{0%,90%{-webkit-transform:scale(1);transform:scale(1)}45%{-webkit-transform:scale(var(--fa-beat-scale,1.25));transform:scale(var(--fa-beat-scale,1.25))}}@-webkit-keyframes fa-bounce{0%{-webkit-transform:scale(1) translateY(0);transform:scale(1) translateY(0)}10%{-webkit-transform:scale(var(--fa-bounce-start-scale-x,1.1),var(--fa-bounce-start-scale-y,.9)) translateY(0);transform:scale(var(--fa-bounce-start-scale-x,1.1),var(--fa-bounce-start-scale-y,.9)) translateY(0)}30%{-webkit-transform:scale(var(--fa-bounce-jump-scale-x,.9),var(--fa-bounce-jump-scale-y,1.1)) translateY(var(--fa-bounce-height,-.5em));transform:scale(var(--fa-bounce-jump-scale-x,.9),var(--fa-bounce-jump-scale-y,1.1)) translateY(var(--fa-bounce-height,-.5em))}50%{-webkit-transform:scale(var(--fa-bounce-land-scale-x,1.05),var(--fa-bounce-land-scale-y,.95)) translateY(0);transform:scale(var(--fa-bounce-land-scale-x,1.05),var(--fa-bounce-land-scale-y,.95)) translateY(0)}57%{-webkit-transform:scale(1) translateY(var(--fa-bounce-rebound,-.125em));transform:scale(1) translateY(var(--fa-bounce-rebound,-.125em))}64%{-webkit-transform:scale(1) translateY(0);transform:scale(1) translateY(0)}to{-webkit-transform:scale(1) translateY(0);transform:scale(1) translateY(0)}}@keyframes fa-bounce{0%{-webkit-transform:scale(1) translateY(0);transform:scale(1) translateY(0)}10%{-webkit-transform:scale(var(--fa-bounce-start-scale-x,1.1),var(--fa-bounce-start-scale-y,.9)) translateY(0);transform:scale(var(--fa-bounce-start-scale-x,1.1),var(--fa-bounce-start-scale-y,.9)) translateY(0)}30%{-webkit-transform:scale(var(--fa-bounce-jump-scale-x,.9),var(--fa-bounce-jump-scale-y,1.1)) translateY(var(--fa-bounce-height,-.5em));transform:scale(var(--fa-bounce-jump-scale-x,.9),var(--fa-bounce-jump-scale-y,1.1)) translateY(var(--fa-bounce-height,-.5em))}50%{-webkit-transform:scale(var(--fa-bounce-land-scale-x,1.05),var(--fa-bounce-land-scale-y,.95)) translateY(0);transform:scale(var(--fa-bounce-land-scale-x,1.05),var(--fa-bounce-land-scale-y,.95)) translateY(0)}57%{-webkit-transform:scale(1) translateY(var(--fa-bounce-rebound,-.125em));transform:scale(1) translateY(var(--fa-bounce-rebound,-.125em))}64%{-webkit-transform:scale(1) translateY(0);transform:scale(1) translateY(0)}to{-webkit-transform:scale(1) translateY(0);transform:scale(1) translateY(0)}}@-webkit-keyframes fa-fade{50%{opacity:var(--fa-fade-opacity,.4)}}@keyframes fa-fade{50%{opacity:var(--fa-fade-opacity,.4)}}@-webkit-keyframes fa-beat-fade{0%,to{opacity:var(--fa-beat-fade-opacity,.4);-webkit-transform:scale(1);transform:scale(1)}50%{opacity:1;-webkit-transform:scale(var(--fa-beat-fade-scale,1.125));transform:scale(var(--fa-beat-fade-scale,1.125))}}@keyframes fa-beat-fade{0%,to{opacity:var(--fa-beat-fade-opacity,.4);-webkit-transform:scale(1);transform:scale(1)}50%{opacity:1;-webkit-transform:scale(var(--fa-beat-fade-scale,1.125));transform:scale(var(--fa-beat-fade-scale,1.125))}}@-webkit-keyframes fa-flip{50%{-webkit-transform:rotate3d(var(--fa-flip-x,0),var(--fa-flip-y,1),var(--fa-flip-z,0),var(--fa-flip-angle,-180deg));transform:rotate3d(var(--fa-flip-x,0),var(--fa-flip-y,1),var(--fa-flip-z,0),var(--fa-flip-angle,-180deg))}}@keyframes fa-flip{50%{-webkit-transform:rotate3d(var(--fa-flip-x,0),var(--fa-flip-y,1),var(--fa-flip-z,0),var(--fa-flip-angle,-180deg));transform:rotate3d(var(--fa-flip-x,0),var(--fa-flip-y,1),var(--fa-flip-z,0),var(--fa-flip-angle,-180deg))}}@-webkit-keyframes fa-shake{0%{-webkit-transform:rotate(-15deg);transform:rotate(-15deg)}4%{-webkit-transform:rotate(15deg);transform:rotate(15deg)}8%,24%{-webkit-transform:rotate(-18deg);transform:rotate(-18deg)}12%,28%{-webkit-transform:rotate(18deg);transform:rotate(18deg)}16%{-webkit-transform:rotate(-22deg);transform:rotate(-22deg)}20%{-webkit-transform:rotate(22deg);transform:rotate(22deg)}32%{-webkit-transform:rotate(-12deg);transform:rotate(-12deg)}36%{-webkit-transform:rotate(12deg);transform:rotate(12deg)}40%,to{-webkit-transform:rotate(0deg);transform:rotate(0deg)}}@keyframes fa-shake{0%{-webkit-transform:rotate(-15deg);transform:rotate(-15deg)}4%{-webkit-transform:rotate(15deg);transform:rotate(15deg)}8%,24%{-webkit-transform:rotate(-18deg);transform:rotate(-18deg)}12%,28%{-webkit-transform:rotate(18deg);transform:rotate(18deg)}16%{-webkit-transform:rotate(-22deg);transform:rotate(-22deg)}20%{-webkit-transform:rotate(22deg);transform:rotate(22deg)}32%{-webkit-transform:rotate(-12deg);transform:rotate(-12deg)}36%{-webkit-transform:rotate(12deg);transform:rotate(12deg)}40%,to{-webkit-transform:rotate(0deg);transform:rotate(0deg)}}@-webkit-keyframes fa-spin{0%{-webkit-transform:rotate(0deg);transform:rotate(0deg)}to{-webkit-transform:rotate(1turn);transform:rotate(1turn)}}@keyframes fa-spin{0%{-webkit-transform:rotate(0deg);transform:rotate(0deg)}to{-webkit-transform:rotate(1turn);transform:rotate(1turn)}}.fa-rotate-90{-webkit-transform:rotate(90deg);transform:rotate(90deg)}.fa-rotate-180{-webkit-transform:rotate(180deg);transform:rotate(180deg)}.fa-rotate-270{-webkit-transform:rotate(270deg);transform:rotate(270deg)}.fa-flip-horizontal{-webkit-transform:scaleX(-1);transform:scaleX(-1)}.fa-flip-vertical{-webkit-transform:scaleY(-1);transform:scaleY(-1)}.fa-flip-both,.fa-flip-horizontal.fa-flip-vertical{-webkit-transform:scale(-1);transform:scale(-1)}.fa-rotate-by{-webkit-transform:rotate(var(--fa-rotate-angle,none));transform:rotate(var(--fa-rotate-angle,none))}.fa-stack{display:inline-block;height:2em;line-height:2em;position:relative;vertical-align:middle;width:2.5em}.fa-stack-1x,.fa-stack-2x{left:0;position:absolute;text-align:center;width:100%;z-index:var(--fa-stack-z-index,auto)}.fa-stack-1x{line-height:inherit}.fa-stack-2x{font-size:2em}.fa-inverse{color:var(--fa-inverse,#fff)}.fa-0:before{content:\"\\\\30\"}.fa-1:before{content:\"\\\\31\"}.fa-2:before{content:\"\\\\32\"}.fa-3:before{content:\"\\\\33\"}.fa-4:before{content:\"\\\\34\"}.fa-5:before{content:\"\\\\35\"}.fa-6:before{content:\"\\\\36\"}.fa-7:before{content:\"\\\\37\"}.fa-8:before{content:\"\\\\38\"}.fa-9:before{content:\"\\\\39\"}.fa-fill-drip:before{content:\"\\\\f576\"}.fa-arrows-to-circle:before{content:\"\\\\e4bd\"}.fa-chevron-circle-right:before,.fa-circle-chevron-right:before{content:\"\\\\f138\"}.fa-at:before{content:\"\\\\40\"}.fa-trash-alt:before,.fa-trash-can:before{content:\"\\\\f2ed\"}.fa-text-height:before{content:\"\\\\f034\"}.fa-user-times:before,.fa-user-xmark:before{content:\"\\\\f235\"}.fa-stethoscope:before{content:\"\\\\f0f1\"}.fa-comment-alt:before,.fa-message:before{content:\"\\\\f27a\"}.fa-info:before{content:\"\\\\f129\"}.fa-compress-alt:before,.fa-down-left-and-up-right-to-center:before{content:\"\\\\f422\"}.fa-explosion:before{content:\"\\\\e4e9\"}.fa-file-alt:before,.fa-file-lines:before,.fa-file-text:before{content:\"\\\\f15c\"}.fa-wave-square:before{content:\"\\\\f83e\"}.fa-ring:before{content:\"\\\\f70b\"}.fa-building-un:before{content:\"\\\\e4d9\"}.fa-dice-three:before{content:\"\\\\f527\"}.fa-calendar-alt:before,.fa-calendar-days:before{content:\"\\\\f073\"}.fa-anchor-circle-check:before{content:\"\\\\e4aa\"}.fa-building-circle-arrow-right:before{content:\"\\\\e4d1\"}.fa-volleyball-ball:before,.fa-volleyball:before{content:\"\\\\f45f\"}.fa-arrows-up-to-line:before{content:\"\\\\e4c2\"}.fa-sort-desc:before,.fa-sort-down:before{content:\"\\\\f0dd\"}.fa-circle-minus:before,.fa-minus-circle:before{content:\"\\\\f056\"}.fa-door-open:before{content:\"\\\\f52b\"}.fa-right-from-bracket:before,.fa-sign-out-alt:before{content:\"\\\\f2f5\"}.fa-atom:before{content:\"\\\\f5d2\"}.fa-soap:before{content:\"\\\\e06e\"}.fa-heart-music-camera-bolt:before,.fa-icons:before{content:\"\\\\f86d\"}.fa-microphone-alt-slash:before,.fa-microphone-lines-slash:before{content:\"\\\\f539\"}.fa-bridge-circle-check:before{content:\"\\\\e4c9\"}.fa-pump-medical:before{content:\"\\\\e06a\"}.fa-fingerprint:before{content:\"\\\\f577\"}.fa-hand-point-right:before{content:\"\\\\f0a4\"}.fa-magnifying-glass-location:before,.fa-search-location:before{content:\"\\\\f689\"}.fa-forward-step:before,.fa-step-forward:before{content:\"\\\\f051\"}.fa-face-smile-beam:before,.fa-smile-beam:before{content:\"\\\\f5b8\"}.fa-flag-checkered:before{content:\"\\\\f11e\"}.fa-football-ball:before,.fa-football:before{content:\"\\\\f44e\"}.fa-school-circle-exclamation:before{content:\"\\\\e56c\"}.fa-crop:before{content:\"\\\\f125\"}.fa-angle-double-down:before,.fa-angles-down:before{content:\"\\\\f103\"}.fa-users-rectangle:before{content:\"\\\\e594\"}.fa-people-roof:before{content:\"\\\\e537\"}.fa-people-line:before{content:\"\\\\e534\"}.fa-beer-mug-empty:before,.fa-beer:before{content:\"\\\\f0fc\"}.fa-diagram-predecessor:before{content:\"\\\\e477\"}.fa-arrow-up-long:before,.fa-long-arrow-up:before{content:\"\\\\f176\"}.fa-burn:before,.fa-fire-flame-simple:before{content:\"\\\\f46a\"}.fa-male:before,.fa-person:before{content:\"\\\\f183\"}.fa-laptop:before{content:\"\\\\f109\"}.fa-file-csv:before{content:\"\\\\f6dd\"}.fa-menorah:before{content:\"\\\\f676\"}.fa-truck-plane:before{content:\"\\\\e58f\"}.fa-record-vinyl:before{content:\"\\\\f8d9\"}.fa-face-grin-stars:before,.fa-grin-stars:before{content:\"\\\\f587\"}.fa-bong:before{content:\"\\\\f55c\"}.fa-pastafarianism:before,.fa-spaghetti-monster-flying:before{content:\"\\\\f67b\"}.fa-arrow-down-up-across-line:before{content:\"\\\\e4af\"}.fa-spoon:before,.fa-utensil-spoon:before{content:\"\\\\f2e5\"}.fa-jar-wheat:before{content:\"\\\\e517\"}.fa-envelopes-bulk:before,.fa-mail-bulk:before{content:\"\\\\f674\"}.fa-file-circle-exclamation:before{content:\"\\\\e4eb\"}.fa-circle-h:before,.fa-hospital-symbol:before{content:\"\\\\f47e\"}.fa-pager:before{content:\"\\\\f815\"}.fa-address-book:before,.fa-contact-book:before{content:\"\\\\f2b9\"}.fa-strikethrough:before{content:\"\\\\f0cc\"}.fa-k:before{content:\"\\\\4b\"}.fa-landmark-flag:before{content:\"\\\\e51c\"}.fa-pencil-alt:before,.fa-pencil:before{content:\"\\\\f303\"}.fa-backward:before{content:\"\\\\f04a\"}.fa-caret-right:before{content:\"\\\\f0da\"}.fa-comments:before{content:\"\\\\f086\"}.fa-file-clipboard:before,.fa-paste:before{content:\"\\\\f0ea\"}.fa-code-pull-request:before{content:\"\\\\e13c\"}.fa-clipboard-list:before{content:\"\\\\f46d\"}.fa-truck-loading:before,.fa-truck-ramp-box:before{content:\"\\\\f4de\"}.fa-user-check:before{content:\"\\\\f4fc\"}.fa-vial-virus:before{content:\"\\\\e597\"}.fa-sheet-plastic:before{content:\"\\\\e571\"}.fa-blog:before{content:\"\\\\f781\"}.fa-user-ninja:before{content:\"\\\\f504\"}.fa-person-arrow-up-from-line:before{content:\"\\\\e539\"}.fa-scroll-torah:before,.fa-torah:before{content:\"\\\\f6a0\"}.fa-broom-ball:before,.fa-quidditch-broom-ball:before,.fa-quidditch:before{content:\"\\\\f458\"}.fa-toggle-off:before{content:\"\\\\f204\"}.fa-archive:before,.fa-box-archive:before{content:\"\\\\f187\"}.fa-person-drowning:before{content:\"\\\\e545\"}.fa-arrow-down-9-1:before,.fa-sort-numeric-desc:before,.fa-sort-numeric-down-alt:before{content:\"\\\\f886\"}.fa-face-grin-tongue-squint:before,.fa-grin-tongue-squint:before{content:\"\\\\f58a\"}.fa-spray-can:before{content:\"\\\\f5bd\"}.fa-truck-monster:before{content:\"\\\\f63b\"}.fa-w:before{content:\"\\\\57\"}.fa-earth-africa:before,.fa-globe-africa:before{content:\"\\\\f57c\"}.fa-rainbow:before{content:\"\\\\f75b\"}.fa-circle-notch:before{content:\"\\\\f1ce\"}.fa-tablet-alt:before,.fa-tablet-screen-button:before{content:\"\\\\f3fa\"}.fa-paw:before{content:\"\\\\f1b0\"}.fa-cloud:before{content:\"\\\\f0c2\"}.fa-trowel-bricks:before{content:\"\\\\e58a\"}.fa-face-flushed:before,.fa-flushed:before{content:\"\\\\f579\"}.fa-hospital-user:before{content:\"\\\\f80d\"}.fa-tent-arrow-left-right:before{content:\"\\\\e57f\"}.fa-gavel:before,.fa-legal:before{content:\"\\\\f0e3\"}.fa-binoculars:before{content:\"\\\\f1e5\"}.fa-microphone-slash:before{content:\"\\\\f131\"}.fa-box-tissue:before{content:\"\\\\e05b\"}.fa-motorcycle:before{content:\"\\\\f21c\"}.fa-bell-concierge:before,.fa-concierge-bell:before{content:\"\\\\f562\"}.fa-pen-ruler:before,.fa-pencil-ruler:before{content:\"\\\\f5ae\"}.fa-people-arrows-left-right:before,.fa-people-arrows:before{content:\"\\\\e068\"}.fa-mars-and-venus-burst:before{content:\"\\\\e523\"}.fa-caret-square-right:before,.fa-square-caret-right:before{content:\"\\\\f152\"}.fa-cut:before,.fa-scissors:before{content:\"\\\\f0c4\"}.fa-sun-plant-wilt:before{content:\"\\\\e57a\"}.fa-toilets-portable:before{content:\"\\\\e584\"}.fa-hockey-puck:before{content:\"\\\\f453\"}.fa-table:before{content:\"\\\\f0ce\"}.fa-magnifying-glass-arrow-right:before{content:\"\\\\e521\"}.fa-digital-tachograph:before,.fa-tachograph-digital:before{content:\"\\\\f566\"}.fa-users-slash:before{content:\"\\\\e073\"}.fa-clover:before{content:\"\\\\e139\"}.fa-mail-reply:before,.fa-reply:before{content:\"\\\\f3e5\"}.fa-star-and-crescent:before{content:\"\\\\f699\"}.fa-house-fire:before{content:\"\\\\e50c\"}.fa-minus-square:before,.fa-square-minus:before{content:\"\\\\f146\"}.fa-helicopter:before{content:\"\\\\f533\"}.fa-compass:before{content:\"\\\\f14e\"}.fa-caret-square-down:before,.fa-square-caret-down:before{content:\"\\\\f150\"}.fa-file-circle-question:before{content:\"\\\\e4ef\"}.fa-laptop-code:before{content:\"\\\\f5fc\"}.fa-swatchbook:before{content:\"\\\\f5c3\"}.fa-prescription-bottle:before{content:\"\\\\f485\"}.fa-bars:before,.fa-navicon:before{content:\"\\\\f0c9\"}.fa-people-group:before{content:\"\\\\e533\"}.fa-hourglass-3:before,.fa-hourglass-end:before{content:\"\\\\f253\"}.fa-heart-broken:before,.fa-heart-crack:before{content:\"\\\\f7a9\"}.fa-external-link-square-alt:before,.fa-square-up-right:before{content:\"\\\\f360\"}.fa-face-kiss-beam:before,.fa-kiss-beam:before{content:\"\\\\f597\"}.fa-film:before{content:\"\\\\f008\"}.fa-ruler-horizontal:before{content:\"\\\\f547\"}.fa-people-robbery:before{content:\"\\\\e536\"}.fa-lightbulb:before{content:\"\\\\f0eb\"}.fa-caret-left:before{content:\"\\\\f0d9\"}.fa-circle-exclamation:before,.fa-exclamation-circle:before{content:\"\\\\f06a\"}.fa-school-circle-xmark:before{content:\"\\\\e56d\"}.fa-arrow-right-from-bracket:before,.fa-sign-out:before{content:\"\\\\f08b\"}.fa-chevron-circle-down:before,.fa-circle-chevron-down:before{content:\"\\\\f13a\"}.fa-unlock-alt:before,.fa-unlock-keyhole:before{content:\"\\\\f13e\"}.fa-cloud-showers-heavy:before{content:\"\\\\f740\"}.fa-headphones-alt:before,.fa-headphones-simple:before{content:\"\\\\f58f\"}.fa-sitemap:before{content:\"\\\\f0e8\"}.fa-circle-dollar-to-slot:before,.fa-donate:before{content:\"\\\\f4b9\"}.fa-memory:before{content:\"\\\\f538\"}.fa-road-spikes:before{content:\"\\\\e568\"}.fa-fire-burner:before{content:\"\\\\e4f1\"}.fa-flag:before{content:\"\\\\f024\"}.fa-hanukiah:before{content:\"\\\\f6e6\"}.fa-feather:before{content:\"\\\\f52d\"}.fa-volume-down:before,.fa-volume-low:before{content:\"\\\\f027\"}.fa-comment-slash:before{content:\"\\\\f4b3\"}.fa-cloud-sun-rain:before{content:\"\\\\f743\"}.fa-compress:before{content:\"\\\\f066\"}.fa-wheat-alt:before,.fa-wheat-awn:before{content:\"\\\\e2cd\"}.fa-ankh:before{content:\"\\\\f644\"}.fa-hands-holding-child:before{content:\"\\\\e4fa\"}.fa-asterisk:before{content:\"\\\\2a\"}.fa-check-square:before,.fa-square-check:before{content:\"\\\\f14a\"}.fa-peseta-sign:before{content:\"\\\\e221\"}.fa-header:before,.fa-heading:before{content:\"\\\\f1dc\"}.fa-ghost:before{content:\"\\\\f6e2\"}.fa-list-squares:before,.fa-list:before{content:\"\\\\f03a\"}.fa-phone-square-alt:before,.fa-square-phone-flip:before{content:\"\\\\f87b\"}.fa-cart-plus:before{content:\"\\\\f217\"}.fa-gamepad:before{content:\"\\\\f11b\"}.fa-circle-dot:before,.fa-dot-circle:before{content:\"\\\\f192\"}.fa-dizzy:before,.fa-face-dizzy:before{content:\"\\\\f567\"}.fa-egg:before{content:\"\\\\f7fb\"}.fa-house-medical-circle-xmark:before{content:\"\\\\e513\"}.fa-campground:before{content:\"\\\\f6bb\"}.fa-folder-plus:before{content:\"\\\\f65e\"}.fa-futbol-ball:before,.fa-futbol:before,.fa-soccer-ball:before{content:\"\\\\f1e3\"}.fa-paint-brush:before,.fa-paintbrush:before{content:\"\\\\f1fc\"}.fa-lock:before{content:\"\\\\f023\"}.fa-gas-pump:before{content:\"\\\\f52f\"}.fa-hot-tub-person:before,.fa-hot-tub:before{content:\"\\\\f593\"}.fa-map-location:before,.fa-map-marked:before{content:\"\\\\f59f\"}.fa-house-flood-water:before{content:\"\\\\e50e\"}.fa-tree:before{content:\"\\\\f1bb\"}.fa-bridge-lock:before{content:\"\\\\e4cc\"}.fa-sack-dollar:before{content:\"\\\\f81d\"}.fa-edit:before,.fa-pen-to-square:before{content:\"\\\\f044\"}.fa-car-side:before{content:\"\\\\f5e4\"}.fa-share-alt:before,.fa-share-nodes:before{content:\"\\\\f1e0\"}.fa-heart-circle-minus:before{content:\"\\\\e4ff\"}.fa-hourglass-2:before,.fa-hourglass-half:before{content:\"\\\\f252\"}.fa-microscope:before{content:\"\\\\f610\"}.fa-sink:before{content:\"\\\\e06d\"}.fa-bag-shopping:before,.fa-shopping-bag:before{content:\"\\\\f290\"}.fa-arrow-down-z-a:before,.fa-sort-alpha-desc:before,.fa-sort-alpha-down-alt:before{content:\"\\\\f881\"}.fa-mitten:before{content:\"\\\\f7b5\"}.fa-person-rays:before{content:\"\\\\e54d\"}.fa-users:before{content:\"\\\\f0c0\"}.fa-eye-slash:before{content:\"\\\\f070\"}.fa-flask-vial:before{content:\"\\\\e4f3\"}.fa-hand-paper:before,.fa-hand:before{content:\"\\\\f256\"}.fa-om:before{content:\"\\\\f679\"}.fa-worm:before{content:\"\\\\e599\"}.fa-house-circle-xmark:before{content:\"\\\\e50b\"}.fa-plug:before{content:\"\\\\f1e6\"}.fa-chevron-up:before{content:\"\\\\f077\"}.fa-hand-spock:before{content:\"\\\\f259\"}.fa-stopwatch:before{content:\"\\\\f2f2\"}.fa-face-kiss:before,.fa-kiss:before{content:\"\\\\f596\"}.fa-bridge-circle-xmark:before{content:\"\\\\e4cb\"}.fa-face-grin-tongue:before,.fa-grin-tongue:before{content:\"\\\\f589\"}.fa-chess-bishop:before{content:\"\\\\f43a\"}.fa-face-grin-wink:before,.fa-grin-wink:before{content:\"\\\\f58c\"}.fa-deaf:before,.fa-deafness:before,.fa-ear-deaf:before,.fa-hard-of-hearing:before{content:\"\\\\f2a4\"}.fa-road-circle-check:before{content:\"\\\\e564\"}.fa-dice-five:before{content:\"\\\\f523\"}.fa-rss-square:before,.fa-square-rss:before{content:\"\\\\f143\"}.fa-land-mine-on:before{content:\"\\\\e51b\"}.fa-i-cursor:before{content:\"\\\\f246\"}.fa-stamp:before{content:\"\\\\f5bf\"}.fa-stairs:before{content:\"\\\\e289\"}.fa-i:before{content:\"\\\\49\"}.fa-hryvnia-sign:before,.fa-hryvnia:before{content:\"\\\\f6f2\"}.fa-pills:before{content:\"\\\\f484\"}.fa-face-grin-wide:before,.fa-grin-alt:before{content:\"\\\\f581\"}.fa-tooth:before{content:\"\\\\f5c9\"}.fa-v:before{content:\"\\\\56\"}.fa-bicycle:before{content:\"\\\\f206\"}.fa-rod-asclepius:before,.fa-rod-snake:before,.fa-staff-aesculapius:before,.fa-staff-snake:before{content:\"\\\\e579\"}.fa-head-side-cough-slash:before{content:\"\\\\e062\"}.fa-ambulance:before,.fa-truck-medical:before{content:\"\\\\f0f9\"}.fa-wheat-awn-circle-exclamation:before{content:\"\\\\e598\"}.fa-snowman:before{content:\"\\\\f7d0\"}.fa-mortar-pestle:before{content:\"\\\\f5a7\"}.fa-road-barrier:before{content:\"\\\\e562\"}.fa-school:before{content:\"\\\\f549\"}.fa-igloo:before{content:\"\\\\f7ae\"}.fa-joint:before{content:\"\\\\f595\"}.fa-angle-right:before{content:\"\\\\f105\"}.fa-horse:before{content:\"\\\\f6f0\"}.fa-q:before{content:\"\\\\51\"}.fa-g:before{content:\"\\\\47\"}.fa-notes-medical:before{content:\"\\\\f481\"}.fa-temperature-2:before,.fa-temperature-half:before,.fa-thermometer-2:before,.fa-thermometer-half:before{content:\"\\\\f2c9\"}.fa-dong-sign:before{content:\"\\\\e169\"}.fa-capsules:before{content:\"\\\\f46b\"}.fa-poo-bolt:before,.fa-poo-storm:before{content:\"\\\\f75a\"}.fa-face-frown-open:before,.fa-frown-open:before{content:\"\\\\f57a\"}.fa-hand-point-up:before{content:\"\\\\f0a6\"}.fa-money-bill:before{content:\"\\\\f0d6\"}.fa-bookmark:before{content:\"\\\\f02e\"}.fa-align-justify:before{content:\"\\\\f039\"}.fa-umbrella-beach:before{content:\"\\\\f5ca\"}.fa-helmet-un:before{content:\"\\\\e503\"}.fa-bullseye:before{content:\"\\\\f140\"}.fa-bacon:before{content:\"\\\\f7e5\"}.fa-hand-point-down:before{content:\"\\\\f0a7\"}.fa-arrow-up-from-bracket:before{content:\"\\\\e09a\"}.fa-folder-blank:before,.fa-folder:before{content:\"\\\\f07b\"}.fa-file-medical-alt:before,.fa-file-waveform:before{content:\"\\\\f478\"}.fa-radiation:before{content:\"\\\\f7b9\"}.fa-chart-simple:before{content:\"\\\\e473\"}.fa-mars-stroke:before{content:\"\\\\f229\"}.fa-vial:before{content:\"\\\\f492\"}.fa-dashboard:before,.fa-gauge-med:before,.fa-gauge:before,.fa-tachometer-alt-average:before{content:\"\\\\f624\"}.fa-magic-wand-sparkles:before,.fa-wand-magic-sparkles:before{content:\"\\\\e2ca\"}.fa-e:before{content:\"\\\\45\"}.fa-pen-alt:before,.fa-pen-clip:before{content:\"\\\\f305\"}.fa-bridge-circle-exclamation:before{content:\"\\\\e4ca\"}.fa-user:before{content:\"\\\\f007\"}.fa-school-circle-check:before{content:\"\\\\e56b\"}.fa-dumpster:before{content:\"\\\\f793\"}.fa-shuttle-van:before,.fa-van-shuttle:before{content:\"\\\\f5b6\"}.fa-building-user:before{content:\"\\\\e4da\"}.fa-caret-square-left:before,.fa-square-caret-left:before{content:\"\\\\f191\"}.fa-highlighter:before{content:\"\\\\f591\"}.fa-key:before{content:\"\\\\f084\"}.fa-bullhorn:before{content:\"\\\\f0a1\"}.fa-globe:before{content:\"\\\\f0ac\"}.fa-synagogue:before{content:\"\\\\f69b\"}.fa-person-half-dress:before{content:\"\\\\e548\"}.fa-road-bridge:before{content:\"\\\\e563\"}.fa-location-arrow:before{content:\"\\\\f124\"}.fa-c:before{content:\"\\\\43\"}.fa-tablet-button:before{content:\"\\\\f10a\"}.fa-building-lock:before{content:\"\\\\e4d6\"}.fa-pizza-slice:before{content:\"\\\\f818\"}.fa-money-bill-wave:before{content:\"\\\\f53a\"}.fa-area-chart:before,.fa-chart-area:before{content:\"\\\\f1fe\"}.fa-house-flag:before{content:\"\\\\e50d\"}.fa-person-circle-minus:before{content:\"\\\\e540\"}.fa-ban:before,.fa-cancel:before{content:\"\\\\f05e\"}.fa-camera-rotate:before{content:\"\\\\e0d8\"}.fa-air-freshener:before,.fa-spray-can-sparkles:before{content:\"\\\\f5d0\"}.fa-star:before{content:\"\\\\f005\"}.fa-repeat:before{content:\"\\\\f363\"}.fa-cross:before{content:\"\\\\f654\"}.fa-box:before{content:\"\\\\f466\"}.fa-venus-mars:before{content:\"\\\\f228\"}.fa-arrow-pointer:before,.fa-mouse-pointer:before{content:\"\\\\f245\"}.fa-expand-arrows-alt:before,.fa-maximize:before{content:\"\\\\f31e\"}.fa-charging-station:before{content:\"\\\\f5e7\"}.fa-shapes:before,.fa-triangle-circle-square:before{content:\"\\\\f61f\"}.fa-random:before,.fa-shuffle:before{content:\"\\\\f074\"}.fa-person-running:before,.fa-running:before{content:\"\\\\f70c\"}.fa-mobile-retro:before{content:\"\\\\e527\"}.fa-grip-lines-vertical:before{content:\"\\\\f7a5\"}.fa-spider:before{content:\"\\\\f717\"}.fa-hands-bound:before{content:\"\\\\e4f9\"}.fa-file-invoice-dollar:before{content:\"\\\\f571\"}.fa-plane-circle-exclamation:before{content:\"\\\\e556\"}.fa-x-ray:before{content:\"\\\\f497\"}.fa-spell-check:before{content:\"\\\\f891\"}.fa-slash:before{content:\"\\\\f715\"}.fa-computer-mouse:before,.fa-mouse:before{content:\"\\\\f8cc\"}.fa-arrow-right-to-bracket:before,.fa-sign-in:before{content:\"\\\\f090\"}.fa-shop-slash:before,.fa-store-alt-slash:before{content:\"\\\\e070\"}.fa-server:before{content:\"\\\\f233\"}.fa-virus-covid-slash:before{content:\"\\\\e4a9\"}.fa-shop-lock:before{content:\"\\\\e4a5\"}.fa-hourglass-1:before,.fa-hourglass-start:before{content:\"\\\\f251\"}.fa-blender-phone:before{content:\"\\\\f6b6\"}.fa-building-wheat:before{content:\"\\\\e4db\"}.fa-person-breastfeeding:before{content:\"\\\\e53a\"}.fa-right-to-bracket:before,.fa-sign-in-alt:before{content:\"\\\\f2f6\"}.fa-venus:before{content:\"\\\\f221\"}.fa-passport:before{content:\"\\\\f5ab\"}.fa-heart-pulse:before,.fa-heartbeat:before{content:\"\\\\f21e\"}.fa-people-carry-box:before,.fa-people-carry:before{content:\"\\\\f4ce\"}.fa-temperature-high:before{content:\"\\\\f769\"}.fa-microchip:before{content:\"\\\\f2db\"}.fa-crown:before{content:\"\\\\f521\"}.fa-weight-hanging:before{content:\"\\\\f5cd\"}.fa-xmarks-lines:before{content:\"\\\\e59a\"}.fa-file-prescription:before{content:\"\\\\f572\"}.fa-weight-scale:before,.fa-weight:before{content:\"\\\\f496\"}.fa-user-friends:before,.fa-user-group:before{content:\"\\\\f500\"}.fa-arrow-up-a-z:before,.fa-sort-alpha-up:before{content:\"\\\\f15e\"}.fa-chess-knight:before{content:\"\\\\f441\"}.fa-face-laugh-squint:before,.fa-laugh-squint:before{content:\"\\\\f59b\"}.fa-wheelchair:before{content:\"\\\\f193\"}.fa-arrow-circle-up:before,.fa-circle-arrow-up:before{content:\"\\\\f0aa\"}.fa-toggle-on:before{content:\"\\\\f205\"}.fa-person-walking:before,.fa-walking:before{content:\"\\\\f554\"}.fa-l:before{content:\"\\\\4c\"}.fa-fire:before{content:\"\\\\f06d\"}.fa-bed-pulse:before,.fa-procedures:before{content:\"\\\\f487\"}.fa-shuttle-space:before,.fa-space-shuttle:before{content:\"\\\\f197\"}.fa-face-laugh:before,.fa-laugh:before{content:\"\\\\f599\"}.fa-folder-open:before{content:\"\\\\f07c\"}.fa-heart-circle-plus:before{content:\"\\\\e500\"}.fa-code-fork:before{content:\"\\\\e13b\"}.fa-city:before{content:\"\\\\f64f\"}.fa-microphone-alt:before,.fa-microphone-lines:before{content:\"\\\\f3c9\"}.fa-pepper-hot:before{content:\"\\\\f816\"}.fa-unlock:before{content:\"\\\\f09c\"}.fa-colon-sign:before{content:\"\\\\e140\"}.fa-headset:before{content:\"\\\\f590\"}.fa-store-slash:before{content:\"\\\\e071\"}.fa-road-circle-xmark:before{content:\"\\\\e566\"}.fa-user-minus:before{content:\"\\\\f503\"}.fa-mars-stroke-up:before,.fa-mars-stroke-v:before{content:\"\\\\f22a\"}.fa-champagne-glasses:before,.fa-glass-cheers:before{content:\"\\\\f79f\"}.fa-clipboard:before{content:\"\\\\f328\"}.fa-house-circle-exclamation:before{content:\"\\\\e50a\"}.fa-file-arrow-up:before,.fa-file-upload:before{content:\"\\\\f574\"}.fa-wifi-3:before,.fa-wifi-strong:before,.fa-wifi:before{content:\"\\\\f1eb\"}.fa-bath:before,.fa-bathtub:before{content:\"\\\\f2cd\"}.fa-underline:before{content:\"\\\\f0cd\"}.fa-user-edit:before,.fa-user-pen:before{content:\"\\\\f4ff\"}.fa-signature:before{content:\"\\\\f5b7\"}.fa-stroopwafel:before{content:\"\\\\f551\"}.fa-bold:before{content:\"\\\\f032\"}.fa-anchor-lock:before{content:\"\\\\e4ad\"}.fa-building-ngo:before{content:\"\\\\e4d7\"}.fa-manat-sign:before{content:\"\\\\e1d5\"}.fa-not-equal:before{content:\"\\\\f53e\"}.fa-border-style:before,.fa-border-top-left:before{content:\"\\\\f853\"}.fa-map-location-dot:before,.fa-map-marked-alt:before{content:\"\\\\f5a0\"}.fa-jedi:before{content:\"\\\\f669\"}.fa-poll:before,.fa-square-poll-vertical:before{content:\"\\\\f681\"}.fa-mug-hot:before{content:\"\\\\f7b6\"}.fa-battery-car:before,.fa-car-battery:before{content:\"\\\\f5df\"}.fa-gift:before{content:\"\\\\f06b\"}.fa-dice-two:before{content:\"\\\\f528\"}.fa-chess-queen:before{content:\"\\\\f445\"}.fa-glasses:before{content:\"\\\\f530\"}.fa-chess-board:before{content:\"\\\\f43c\"}.fa-building-circle-check:before{content:\"\\\\e4d2\"}.fa-person-chalkboard:before{content:\"\\\\e53d\"}.fa-mars-stroke-h:before,.fa-mars-stroke-right:before{content:\"\\\\f22b\"}.fa-hand-back-fist:before,.fa-hand-rock:before{content:\"\\\\f255\"}.fa-caret-square-up:before,.fa-square-caret-up:before{content:\"\\\\f151\"}.fa-cloud-showers-water:before{content:\"\\\\e4e4\"}.fa-bar-chart:before,.fa-chart-bar:before{content:\"\\\\f080\"}.fa-hands-bubbles:before,.fa-hands-wash:before{content:\"\\\\e05e\"}.fa-less-than-equal:before{content:\"\\\\f537\"}.fa-train:before{content:\"\\\\f238\"}.fa-eye-low-vision:before,.fa-low-vision:before{content:\"\\\\f2a8\"}.fa-crow:before{content:\"\\\\f520\"}.fa-sailboat:before{content:\"\\\\e445\"}.fa-window-restore:before{content:\"\\\\f2d2\"}.fa-plus-square:before,.fa-square-plus:before{content:\"\\\\f0fe\"}.fa-torii-gate:before{content:\"\\\\f6a1\"}.fa-frog:before{content:\"\\\\f52e\"}.fa-bucket:before{content:\"\\\\e4cf\"}.fa-image:before{content:\"\\\\f03e\"}.fa-microphone:before{content:\"\\\\f130\"}.fa-cow:before{content:\"\\\\f6c8\"}.fa-caret-up:before{content:\"\\\\f0d8\"}.fa-screwdriver:before{content:\"\\\\f54a\"}.fa-folder-closed:before{content:\"\\\\e185\"}.fa-house-tsunami:before{content:\"\\\\e515\"}.fa-square-nfi:before{content:\"\\\\e576\"}.fa-arrow-up-from-ground-water:before{content:\"\\\\e4b5\"}.fa-glass-martini-alt:before,.fa-martini-glass:before{content:\"\\\\f57b\"}.fa-rotate-back:before,.fa-rotate-backward:before,.fa-rotate-left:before,.fa-undo-alt:before{content:\"\\\\f2ea\"}.fa-columns:before,.fa-table-columns:before{content:\"\\\\f0db\"}.fa-lemon:before{content:\"\\\\f094\"}.fa-head-side-mask:before{content:\"\\\\e063\"}.fa-handshake:before{content:\"\\\\f2b5\"}.fa-gem:before{content:\"\\\\f3a5\"}.fa-dolly-box:before,.fa-dolly:before{content:\"\\\\f472\"}.fa-smoking:before{content:\"\\\\f48d\"}.fa-compress-arrows-alt:before,.fa-minimize:before{content:\"\\\\f78c\"}.fa-monument:before{content:\"\\\\f5a6\"}.fa-snowplow:before{content:\"\\\\f7d2\"}.fa-angle-double-right:before,.fa-angles-right:before{content:\"\\\\f101\"}.fa-cannabis:before{content:\"\\\\f55f\"}.fa-circle-play:before,.fa-play-circle:before{content:\"\\\\f144\"}.fa-tablets:before{content:\"\\\\f490\"}.fa-ethernet:before{content:\"\\\\f796\"}.fa-eur:before,.fa-euro-sign:before,.fa-euro:before{content:\"\\\\f153\"}.fa-chair:before{content:\"\\\\f6c0\"}.fa-check-circle:before,.fa-circle-check:before{content:\"\\\\f058\"}.fa-circle-stop:before,.fa-stop-circle:before{content:\"\\\\f28d\"}.fa-compass-drafting:before,.fa-drafting-compass:before{content:\"\\\\f568\"}.fa-plate-wheat:before{content:\"\\\\e55a\"}.fa-icicles:before{content:\"\\\\f7ad\"}.fa-person-shelter:before{content:\"\\\\e54f\"}.fa-neuter:before{content:\"\\\\f22c\"}.fa-id-badge:before{content:\"\\\\f2c1\"}.fa-marker:before{content:\"\\\\f5a1\"}.fa-face-laugh-beam:before,.fa-laugh-beam:before{content:\"\\\\f59a\"}.fa-helicopter-symbol:before{content:\"\\\\e502\"}.fa-universal-access:before{content:\"\\\\f29a\"}.fa-chevron-circle-up:before,.fa-circle-chevron-up:before{content:\"\\\\f139\"}.fa-lari-sign:before{content:\"\\\\e1c8\"}.fa-volcano:before{content:\"\\\\f770\"}.fa-person-walking-dashed-line-arrow-right:before{content:\"\\\\e553\"}.fa-gbp:before,.fa-pound-sign:before,.fa-sterling-sign:before{content:\"\\\\f154\"}.fa-viruses:before{content:\"\\\\e076\"}.fa-square-person-confined:before{content:\"\\\\e577\"}.fa-user-tie:before{content:\"\\\\f508\"}.fa-arrow-down-long:before,.fa-long-arrow-down:before{content:\"\\\\f175\"}.fa-tent-arrow-down-to-line:before{content:\"\\\\e57e\"}.fa-certificate:before{content:\"\\\\f0a3\"}.fa-mail-reply-all:before,.fa-reply-all:before{content:\"\\\\f122\"}.fa-suitcase:before{content:\"\\\\f0f2\"}.fa-person-skating:before,.fa-skating:before{content:\"\\\\f7c5\"}.fa-filter-circle-dollar:before,.fa-funnel-dollar:before{content:\"\\\\f662\"}.fa-camera-retro:before{content:\"\\\\f083\"}.fa-arrow-circle-down:before,.fa-circle-arrow-down:before{content:\"\\\\f0ab\"}.fa-arrow-right-to-file:before,.fa-file-import:before{content:\"\\\\f56f\"}.fa-external-link-square:before,.fa-square-arrow-up-right:before{content:\"\\\\f14c\"}.fa-box-open:before{content:\"\\\\f49e\"}.fa-scroll:before{content:\"\\\\f70e\"}.fa-spa:before{content:\"\\\\f5bb\"}.fa-location-pin-lock:before{content:\"\\\\e51f\"}.fa-pause:before{content:\"\\\\f04c\"}.fa-hill-avalanche:before{content:\"\\\\e507\"}.fa-temperature-0:before,.fa-temperature-empty:before,.fa-thermometer-0:before,.fa-thermometer-empty:before{content:\"\\\\f2cb\"}.fa-bomb:before{content:\"\\\\f1e2\"}.fa-registered:before{content:\"\\\\f25d\"}.fa-address-card:before,.fa-contact-card:before,.fa-vcard:before{content:\"\\\\f2bb\"}.fa-balance-scale-right:before,.fa-scale-unbalanced-flip:before{content:\"\\\\f516\"}.fa-subscript:before{content:\"\\\\f12c\"}.fa-diamond-turn-right:before,.fa-directions:before{content:\"\\\\f5eb\"}.fa-burst:before{content:\"\\\\e4dc\"}.fa-house-laptop:before,.fa-laptop-house:before{content:\"\\\\e066\"}.fa-face-tired:before,.fa-tired:before{content:\"\\\\f5c8\"}.fa-money-bills:before{content:\"\\\\e1f3\"}.fa-smog:before{content:\"\\\\f75f\"}.fa-crutch:before{content:\"\\\\f7f7\"}.fa-cloud-arrow-up:before,.fa-cloud-upload-alt:before,.fa-cloud-upload:before{content:\"\\\\f0ee\"}.fa-palette:before{content:\"\\\\f53f\"}.fa-arrows-turn-right:before{content:\"\\\\e4c0\"}.fa-vest:before{content:\"\\\\e085\"}.fa-ferry:before{content:\"\\\\e4ea\"}.fa-arrows-down-to-people:before{content:\"\\\\e4b9\"}.fa-seedling:before,.fa-sprout:before{content:\"\\\\f4d8\"}.fa-arrows-alt-h:before,.fa-left-right:before{content:\"\\\\f337\"}.fa-boxes-packing:before{content:\"\\\\e4c7\"}.fa-arrow-circle-left:before,.fa-circle-arrow-left:before{content:\"\\\\f0a8\"}.fa-group-arrows-rotate:before{content:\"\\\\e4f6\"}.fa-bowl-food:before{content:\"\\\\e4c6\"}.fa-candy-cane:before{content:\"\\\\f786\"}.fa-arrow-down-wide-short:before,.fa-sort-amount-asc:before,.fa-sort-amount-down:before{content:\"\\\\f160\"}.fa-cloud-bolt:before,.fa-thunderstorm:before{content:\"\\\\f76c\"}.fa-remove-format:before,.fa-text-slash:before{content:\"\\\\f87d\"}.fa-face-smile-wink:before,.fa-smile-wink:before{content:\"\\\\f4da\"}.fa-file-word:before{content:\"\\\\f1c2\"}.fa-file-powerpoint:before{content:\"\\\\f1c4\"}.fa-arrows-h:before,.fa-arrows-left-right:before{content:\"\\\\f07e\"}.fa-house-lock:before{content:\"\\\\e510\"}.fa-cloud-arrow-down:before,.fa-cloud-download-alt:before,.fa-cloud-download:before{content:\"\\\\f0ed\"}.fa-children:before{content:\"\\\\e4e1\"}.fa-blackboard:before,.fa-chalkboard:before{content:\"\\\\f51b\"}.fa-user-alt-slash:before,.fa-user-large-slash:before{content:\"\\\\f4fa\"}.fa-envelope-open:before{content:\"\\\\f2b6\"}.fa-handshake-alt-slash:before,.fa-handshake-simple-slash:before{content:\"\\\\e05f\"}.fa-mattress-pillow:before{content:\"\\\\e525\"}.fa-guarani-sign:before{content:\"\\\\e19a\"}.fa-arrows-rotate:before,.fa-refresh:before,.fa-sync:before{content:\"\\\\f021\"}.fa-fire-extinguisher:before{content:\"\\\\f134\"}.fa-cruzeiro-sign:before{content:\"\\\\e152\"}.fa-greater-than-equal:before{content:\"\\\\f532\"}.fa-shield-alt:before,.fa-shield-halved:before{content:\"\\\\f3ed\"}.fa-atlas:before,.fa-book-atlas:before{content:\"\\\\f558\"}.fa-virus:before{content:\"\\\\e074\"}.fa-envelope-circle-check:before{content:\"\\\\e4e8\"}.fa-layer-group:before{content:\"\\\\f5fd\"}.fa-arrows-to-dot:before{content:\"\\\\e4be\"}.fa-archway:before{content:\"\\\\f557\"}.fa-heart-circle-check:before{content:\"\\\\e4fd\"}.fa-house-chimney-crack:before,.fa-house-damage:before{content:\"\\\\f6f1\"}.fa-file-archive:before,.fa-file-zipper:before{content:\"\\\\f1c6\"}.fa-square:before{content:\"\\\\f0c8\"}.fa-glass-martini:before,.fa-martini-glass-empty:before{content:\"\\\\f000\"}.fa-couch:before{content:\"\\\\f4b8\"}.fa-cedi-sign:before{content:\"\\\\e0df\"}.fa-italic:before{content:\"\\\\f033\"}.fa-church:before{content:\"\\\\f51d\"}.fa-comments-dollar:before{content:\"\\\\f653\"}.fa-democrat:before{content:\"\\\\f747\"}.fa-z:before{content:\"\\\\5a\"}.fa-person-skiing:before,.fa-skiing:before{content:\"\\\\f7c9\"}.fa-road-lock:before{content:\"\\\\e567\"}.fa-a:before{content:\"\\\\41\"}.fa-temperature-arrow-down:before,.fa-temperature-down:before{content:\"\\\\e03f\"}.fa-feather-alt:before,.fa-feather-pointed:before{content:\"\\\\f56b\"}.fa-p:before{content:\"\\\\50\"}.fa-snowflake:before{content:\"\\\\f2dc\"}.fa-newspaper:before{content:\"\\\\f1ea\"}.fa-ad:before,.fa-rectangle-ad:before{content:\"\\\\f641\"}.fa-arrow-circle-right:before,.fa-circle-arrow-right:before{content:\"\\\\f0a9\"}.fa-filter-circle-xmark:before{content:\"\\\\e17b\"}.fa-locust:before{content:\"\\\\e520\"}.fa-sort:before,.fa-unsorted:before{content:\"\\\\f0dc\"}.fa-list-1-2:before,.fa-list-numeric:before,.fa-list-ol:before{content:\"\\\\f0cb\"}.fa-person-dress-burst:before{content:\"\\\\e544\"}.fa-money-check-alt:before,.fa-money-check-dollar:before{content:\"\\\\f53d\"}.fa-vector-square:before{content:\"\\\\f5cb\"}.fa-bread-slice:before{content:\"\\\\f7ec\"}.fa-language:before{content:\"\\\\f1ab\"}.fa-face-kiss-wink-heart:before,.fa-kiss-wink-heart:before{content:\"\\\\f598\"}.fa-filter:before{content:\"\\\\f0b0\"}.fa-question:before{content:\"\\\\3f\"}.fa-file-signature:before{content:\"\\\\f573\"}.fa-arrows-alt:before,.fa-up-down-left-right:before{content:\"\\\\f0b2\"}.fa-house-chimney-user:before{content:\"\\\\e065\"}.fa-hand-holding-heart:before{content:\"\\\\f4be\"}.fa-puzzle-piece:before{content:\"\\\\f12e\"}.fa-money-check:before{content:\"\\\\f53c\"}.fa-star-half-alt:before,.fa-star-half-stroke:before{content:\"\\\\f5c0\"}.fa-code:before{content:\"\\\\f121\"}.fa-glass-whiskey:before,.fa-whiskey-glass:before{content:\"\\\\f7a0\"}.fa-building-circle-exclamation:before{content:\"\\\\e4d3\"}.fa-magnifying-glass-chart:before{content:\"\\\\e522\"}.fa-arrow-up-right-from-square:before,.fa-external-link:before{content:\"\\\\f08e\"}.fa-cubes-stacked:before{content:\"\\\\e4e6\"}.fa-krw:before,.fa-won-sign:before,.fa-won:before{content:\"\\\\f159\"}.fa-virus-covid:before{content:\"\\\\e4a8\"}.fa-austral-sign:before{content:\"\\\\e0a9\"}.fa-f:before{content:\"\\\\46\"}.fa-leaf:before{content:\"\\\\f06c\"}.fa-road:before{content:\"\\\\f018\"}.fa-cab:before,.fa-taxi:before{content:\"\\\\f1ba\"}.fa-person-circle-plus:before{content:\"\\\\e541\"}.fa-chart-pie:before,.fa-pie-chart:before{content:\"\\\\f200\"}.fa-bolt-lightning:before{content:\"\\\\e0b7\"}.fa-sack-xmark:before{content:\"\\\\e56a\"}.fa-file-excel:before{content:\"\\\\f1c3\"}.fa-file-contract:before{content:\"\\\\f56c\"}.fa-fish-fins:before{content:\"\\\\e4f2\"}.fa-building-flag:before{content:\"\\\\e4d5\"}.fa-face-grin-beam:before,.fa-grin-beam:before{content:\"\\\\f582\"}.fa-object-ungroup:before{content:\"\\\\f248\"}.fa-poop:before{content:\"\\\\f619\"}.fa-location-pin:before,.fa-map-marker:before{content:\"\\\\f041\"}.fa-kaaba:before{content:\"\\\\f66b\"}.fa-toilet-paper:before{content:\"\\\\f71e\"}.fa-hard-hat:before,.fa-hat-hard:before,.fa-helmet-safety:before{content:\"\\\\f807\"}.fa-eject:before{content:\"\\\\f052\"}.fa-arrow-alt-circle-right:before,.fa-circle-right:before{content:\"\\\\f35a\"}.fa-plane-circle-check:before{content:\"\\\\e555\"}.fa-face-rolling-eyes:before,.fa-meh-rolling-eyes:before{content:\"\\\\f5a5\"}.fa-object-group:before{content:\"\\\\f247\"}.fa-chart-line:before,.fa-line-chart:before{content:\"\\\\f201\"}.fa-mask-ventilator:before{content:\"\\\\e524\"}.fa-arrow-right:before{content:\"\\\\f061\"}.fa-map-signs:before,.fa-signs-post:before{content:\"\\\\f277\"}.fa-cash-register:before{content:\"\\\\f788\"}.fa-person-circle-question:before{content:\"\\\\e542\"}.fa-h:before{content:\"\\\\48\"}.fa-tarp:before{content:\"\\\\e57b\"}.fa-screwdriver-wrench:before,.fa-tools:before{content:\"\\\\f7d9\"}.fa-arrows-to-eye:before{content:\"\\\\e4bf\"}.fa-plug-circle-bolt:before{content:\"\\\\e55b\"}.fa-heart:before{content:\"\\\\f004\"}.fa-mars-and-venus:before{content:\"\\\\f224\"}.fa-home-user:before,.fa-house-user:before{content:\"\\\\e1b0\"}.fa-dumpster-fire:before{content:\"\\\\f794\"}.fa-house-crack:before{content:\"\\\\e3b1\"}.fa-cocktail:before,.fa-martini-glass-citrus:before{content:\"\\\\f561\"}.fa-face-surprise:before,.fa-surprise:before{content:\"\\\\f5c2\"}.fa-bottle-water:before{content:\"\\\\e4c5\"}.fa-circle-pause:before,.fa-pause-circle:before{content:\"\\\\f28b\"}.fa-toilet-paper-slash:before{content:\"\\\\e072\"}.fa-apple-alt:before,.fa-apple-whole:before{content:\"\\\\f5d1\"}.fa-kitchen-set:before{content:\"\\\\e51a\"}.fa-r:before{content:\"\\\\52\"}.fa-temperature-1:before,.fa-temperature-quarter:before,.fa-thermometer-1:before,.fa-thermometer-quarter:before{content:\"\\\\f2ca\"}.fa-cube:before{content:\"\\\\f1b2\"}.fa-bitcoin-sign:before{content:\"\\\\e0b4\"}.fa-shield-dog:before{content:\"\\\\e573\"}.fa-solar-panel:before{content:\"\\\\f5ba\"}.fa-lock-open:before{content:\"\\\\f3c1\"}.fa-elevator:before{content:\"\\\\e16d\"}.fa-money-bill-transfer:before{content:\"\\\\e528\"}.fa-money-bill-trend-up:before{content:\"\\\\e529\"}.fa-house-flood-water-circle-arrow-right:before{content:\"\\\\e50f\"}.fa-poll-h:before,.fa-square-poll-horizontal:before{content:\"\\\\f682\"}.fa-circle:before{content:\"\\\\f111\"}.fa-backward-fast:before,.fa-fast-backward:before{content:\"\\\\f049\"}.fa-recycle:before{content:\"\\\\f1b8\"}.fa-user-astronaut:before{content:\"\\\\f4fb\"}.fa-plane-slash:before{content:\"\\\\e069\"}.fa-trademark:before{content:\"\\\\f25c\"}.fa-basketball-ball:before,.fa-basketball:before{content:\"\\\\f434\"}.fa-satellite-dish:before{content:\"\\\\f7c0\"}.fa-arrow-alt-circle-up:before,.fa-circle-up:before{content:\"\\\\f35b\"}.fa-mobile-alt:before,.fa-mobile-screen-button:before{content:\"\\\\f3cd\"}.fa-volume-high:before,.fa-volume-up:before{content:\"\\\\f028\"}.fa-users-rays:before{content:\"\\\\e593\"}.fa-wallet:before{content:\"\\\\f555\"}.fa-clipboard-check:before{content:\"\\\\f46c\"}.fa-file-audio:before{content:\"\\\\f1c7\"}.fa-burger:before,.fa-hamburger:before{content:\"\\\\f805\"}.fa-wrench:before{content:\"\\\\f0ad\"}.fa-bugs:before{content:\"\\\\e4d0\"}.fa-rupee-sign:before,.fa-rupee:before{content:\"\\\\f156\"}.fa-file-image:before{content:\"\\\\f1c5\"}.fa-circle-question:before,.fa-question-circle:before{content:\"\\\\f059\"}.fa-plane-departure:before{content:\"\\\\f5b0\"}.fa-handshake-slash:before{content:\"\\\\e060\"}.fa-book-bookmark:before{content:\"\\\\e0bb\"}.fa-code-branch:before{content:\"\\\\f126\"}.fa-hat-cowboy:before{content:\"\\\\f8c0\"}.fa-bridge:before{content:\"\\\\e4c8\"}.fa-phone-alt:before,.fa-phone-flip:before{content:\"\\\\f879\"}.fa-truck-front:before{content:\"\\\\e2b7\"}.fa-cat:before{content:\"\\\\f6be\"}.fa-anchor-circle-exclamation:before{content:\"\\\\e4ab\"}.fa-truck-field:before{content:\"\\\\e58d\"}.fa-route:before{content:\"\\\\f4d7\"}.fa-clipboard-question:before{content:\"\\\\e4e3\"}.fa-panorama:before{content:\"\\\\e209\"}.fa-comment-medical:before{content:\"\\\\f7f5\"}.fa-teeth-open:before{content:\"\\\\f62f\"}.fa-file-circle-minus:before{content:\"\\\\e4ed\"}.fa-tags:before{content:\"\\\\f02c\"}.fa-wine-glass:before{content:\"\\\\f4e3\"}.fa-fast-forward:before,.fa-forward-fast:before{content:\"\\\\f050\"}.fa-face-meh-blank:before,.fa-meh-blank:before{content:\"\\\\f5a4\"}.fa-parking:before,.fa-square-parking:before{content:\"\\\\f540\"}.fa-house-signal:before{content:\"\\\\e012\"}.fa-bars-progress:before,.fa-tasks-alt:before{content:\"\\\\f828\"}.fa-faucet-drip:before{content:\"\\\\e006\"}.fa-cart-flatbed:before,.fa-dolly-flatbed:before{content:\"\\\\f474\"}.fa-ban-smoking:before,.fa-smoking-ban:before{content:\"\\\\f54d\"}.fa-terminal:before{content:\"\\\\f120\"}.fa-mobile-button:before{content:\"\\\\f10b\"}.fa-house-medical-flag:before{content:\"\\\\e514\"}.fa-basket-shopping:before,.fa-shopping-basket:before{content:\"\\\\f291\"}.fa-tape:before{content:\"\\\\f4db\"}.fa-bus-alt:before,.fa-bus-simple:before{content:\"\\\\f55e\"}.fa-eye:before{content:\"\\\\f06e\"}.fa-face-sad-cry:before,.fa-sad-cry:before{content:\"\\\\f5b3\"}.fa-audio-description:before{content:\"\\\\f29e\"}.fa-person-military-to-person:before{content:\"\\\\e54c\"}.fa-file-shield:before{content:\"\\\\e4f0\"}.fa-user-slash:before{content:\"\\\\f506\"}.fa-pen:before{content:\"\\\\f304\"}.fa-tower-observation:before{content:\"\\\\e586\"}.fa-file-code:before{content:\"\\\\f1c9\"}.fa-signal-5:before,.fa-signal-perfect:before,.fa-signal:before{content:\"\\\\f012\"}.fa-bus:before{content:\"\\\\f207\"}.fa-heart-circle-xmark:before{content:\"\\\\e501\"}.fa-home-lg:before,.fa-house-chimney:before{content:\"\\\\e3af\"}.fa-window-maximize:before{content:\"\\\\f2d0\"}.fa-face-frown:before,.fa-frown:before{content:\"\\\\f119\"}.fa-prescription:before{content:\"\\\\f5b1\"}.fa-shop:before,.fa-store-alt:before{content:\"\\\\f54f\"}.fa-floppy-disk:before,.fa-save:before{content:\"\\\\f0c7\"}.fa-vihara:before{content:\"\\\\f6a7\"}.fa-balance-scale-left:before,.fa-scale-unbalanced:before{content:\"\\\\f515\"}.fa-sort-asc:before,.fa-sort-up:before{content:\"\\\\f0de\"}.fa-comment-dots:before,.fa-commenting:before{content:\"\\\\f4ad\"}.fa-plant-wilt:before{content:\"\\\\e5aa\"}.fa-diamond:before{content:\"\\\\f219\"}.fa-face-grin-squint:before,.fa-grin-squint:before{content:\"\\\\f585\"}.fa-hand-holding-dollar:before,.fa-hand-holding-usd:before{content:\"\\\\f4c0\"}.fa-bacterium:before{content:\"\\\\e05a\"}.fa-hand-pointer:before{content:\"\\\\f25a\"}.fa-drum-steelpan:before{content:\"\\\\f56a\"}.fa-hand-scissors:before{content:\"\\\\f257\"}.fa-hands-praying:before,.fa-praying-hands:before{content:\"\\\\f684\"}.fa-arrow-right-rotate:before,.fa-arrow-rotate-forward:before,.fa-arrow-rotate-right:before,.fa-redo:before{content:\"\\\\f01e\"}.fa-biohazard:before{content:\"\\\\f780\"}.fa-location-crosshairs:before,.fa-location:before{content:\"\\\\f601\"}.fa-mars-double:before{content:\"\\\\f227\"}.fa-child-dress:before{content:\"\\\\e59c\"}.fa-users-between-lines:before{content:\"\\\\e591\"}.fa-lungs-virus:before{content:\"\\\\e067\"}.fa-face-grin-tears:before,.fa-grin-tears:before{content:\"\\\\f588\"}.fa-phone:before{content:\"\\\\f095\"}.fa-calendar-times:before,.fa-calendar-xmark:before{content:\"\\\\f273\"}.fa-child-reaching:before{content:\"\\\\e59d\"}.fa-head-side-virus:before{content:\"\\\\e064\"}.fa-user-cog:before,.fa-user-gear:before{content:\"\\\\f4fe\"}.fa-arrow-up-1-9:before,.fa-sort-numeric-up:before{content:\"\\\\f163\"}.fa-door-closed:before{content:\"\\\\f52a\"}.fa-shield-virus:before{content:\"\\\\e06c\"}.fa-dice-six:before{content:\"\\\\f526\"}.fa-mosquito-net:before{content:\"\\\\e52c\"}.fa-bridge-water:before{content:\"\\\\e4ce\"}.fa-person-booth:before{content:\"\\\\f756\"}.fa-text-width:before{content:\"\\\\f035\"}.fa-hat-wizard:before{content:\"\\\\f6e8\"}.fa-pen-fancy:before{content:\"\\\\f5ac\"}.fa-digging:before,.fa-person-digging:before{content:\"\\\\f85e\"}.fa-trash:before{content:\"\\\\f1f8\"}.fa-gauge-simple-med:before,.fa-gauge-simple:before,.fa-tachometer-average:before{content:\"\\\\f629\"}.fa-book-medical:before{content:\"\\\\f7e6\"}.fa-poo:before{content:\"\\\\f2fe\"}.fa-quote-right-alt:before,.fa-quote-right:before{content:\"\\\\f10e\"}.fa-shirt:before,.fa-t-shirt:before,.fa-tshirt:before{content:\"\\\\f553\"}.fa-cubes:before{content:\"\\\\f1b3\"}.fa-divide:before{content:\"\\\\f529\"}.fa-tenge-sign:before,.fa-tenge:before{content:\"\\\\f7d7\"}.fa-headphones:before{content:\"\\\\f025\"}.fa-hands-holding:before{content:\"\\\\f4c2\"}.fa-hands-clapping:before{content:\"\\\\e1a8\"}.fa-republican:before{content:\"\\\\f75e\"}.fa-arrow-left:before{content:\"\\\\f060\"}.fa-person-circle-xmark:before{content:\"\\\\e543\"}.fa-ruler:before{content:\"\\\\f545\"}.fa-align-left:before{content:\"\\\\f036\"}.fa-dice-d6:before{content:\"\\\\f6d1\"}.fa-restroom:before{content:\"\\\\f7bd\"}.fa-j:before{content:\"\\\\4a\"}.fa-users-viewfinder:before{content:\"\\\\e595\"}.fa-file-video:before{content:\"\\\\f1c8\"}.fa-external-link-alt:before,.fa-up-right-from-square:before{content:\"\\\\f35d\"}.fa-table-cells:before,.fa-th:before{content:\"\\\\f00a\"}.fa-file-pdf:before{content:\"\\\\f1c1\"}.fa-bible:before,.fa-book-bible:before{content:\"\\\\f647\"}.fa-o:before{content:\"\\\\4f\"}.fa-medkit:before,.fa-suitcase-medical:before{content:\"\\\\f0fa\"}.fa-user-secret:before{content:\"\\\\f21b\"}.fa-otter:before{content:\"\\\\f700\"}.fa-female:before,.fa-person-dress:before{content:\"\\\\f182\"}.fa-comment-dollar:before{content:\"\\\\f651\"}.fa-briefcase-clock:before,.fa-business-time:before{content:\"\\\\f64a\"}.fa-table-cells-large:before,.fa-th-large:before{content:\"\\\\f009\"}.fa-book-tanakh:before,.fa-tanakh:before{content:\"\\\\f827\"}.fa-phone-volume:before,.fa-volume-control-phone:before{content:\"\\\\f2a0\"}.fa-hat-cowboy-side:before{content:\"\\\\f8c1\"}.fa-clipboard-user:before{content:\"\\\\f7f3\"}.fa-child:before{content:\"\\\\f1ae\"}.fa-lira-sign:before{content:\"\\\\f195\"}.fa-satellite:before{content:\"\\\\f7bf\"}.fa-plane-lock:before{content:\"\\\\e558\"}.fa-tag:before{content:\"\\\\f02b\"}.fa-comment:before{content:\"\\\\f075\"}.fa-birthday-cake:before,.fa-cake-candles:before,.fa-cake:before{content:\"\\\\f1fd\"}.fa-envelope:before{content:\"\\\\f0e0\"}.fa-angle-double-up:before,.fa-angles-up:before{content:\"\\\\f102\"}.fa-paperclip:before{content:\"\\\\f0c6\"}.fa-arrow-right-to-city:before{content:\"\\\\e4b3\"}.fa-ribbon:before{content:\"\\\\f4d6\"}.fa-lungs:before{content:\"\\\\f604\"}.fa-arrow-up-9-1:before,.fa-sort-numeric-up-alt:before{content:\"\\\\f887\"}.fa-litecoin-sign:before{content:\"\\\\e1d3\"}.fa-border-none:before{content:\"\\\\f850\"}.fa-circle-nodes:before{content:\"\\\\e4e2\"}.fa-parachute-box:before{content:\"\\\\f4cd\"}.fa-indent:before{content:\"\\\\f03c\"}.fa-truck-field-un:before{content:\"\\\\e58e\"}.fa-hourglass-empty:before,.fa-hourglass:before{content:\"\\\\f254\"}.fa-mountain:before{content:\"\\\\f6fc\"}.fa-user-doctor:before,.fa-user-md:before{content:\"\\\\f0f0\"}.fa-circle-info:before,.fa-info-circle:before{content:\"\\\\f05a\"}.fa-cloud-meatball:before{content:\"\\\\f73b\"}.fa-camera-alt:before,.fa-camera:before{content:\"\\\\f030\"}.fa-square-virus:before{content:\"\\\\e578\"}.fa-meteor:before{content:\"\\\\f753\"}.fa-car-on:before{content:\"\\\\e4dd\"}.fa-sleigh:before{content:\"\\\\f7cc\"}.fa-arrow-down-1-9:before,.fa-sort-numeric-asc:before,.fa-sort-numeric-down:before{content:\"\\\\f162\"}.fa-hand-holding-droplet:before,.fa-hand-holding-water:before{content:\"\\\\f4c1\"}.fa-water:before{content:\"\\\\f773\"}.fa-calendar-check:before{content:\"\\\\f274\"}.fa-braille:before{content:\"\\\\f2a1\"}.fa-prescription-bottle-alt:before,.fa-prescription-bottle-medical:before{content:\"\\\\f486\"}.fa-landmark:before{content:\"\\\\f66f\"}.fa-truck:before{content:\"\\\\f0d1\"}.fa-crosshairs:before{content:\"\\\\f05b\"}.fa-person-cane:before{content:\"\\\\e53c\"}.fa-tent:before{content:\"\\\\e57d\"}.fa-vest-patches:before{content:\"\\\\e086\"}.fa-check-double:before{content:\"\\\\f560\"}.fa-arrow-down-a-z:before,.fa-sort-alpha-asc:before,.fa-sort-alpha-down:before{content:\"\\\\f15d\"}.fa-money-bill-wheat:before{content:\"\\\\e52a\"}.fa-cookie:before{content:\"\\\\f563\"}.fa-arrow-left-rotate:before,.fa-arrow-rotate-back:before,.fa-arrow-rotate-backward:before,.fa-arrow-rotate-left:before,.fa-undo:before{content:\"\\\\f0e2\"}.fa-hard-drive:before,.fa-hdd:before{content:\"\\\\f0a0\"}.fa-face-grin-squint-tears:before,.fa-grin-squint-tears:before{content:\"\\\\f586\"}.fa-dumbbell:before{content:\"\\\\f44b\"}.fa-list-alt:before,.fa-rectangle-list:before{content:\"\\\\f022\"}.fa-tarp-droplet:before{content:\"\\\\e57c\"}.fa-house-medical-circle-check:before{content:\"\\\\e511\"}.fa-person-skiing-nordic:before,.fa-skiing-nordic:before{content:\"\\\\f7ca\"}.fa-calendar-plus:before{content:\"\\\\f271\"}.fa-plane-arrival:before{content:\"\\\\f5af\"}.fa-arrow-alt-circle-left:before,.fa-circle-left:before{content:\"\\\\f359\"}.fa-subway:before,.fa-train-subway:before{content:\"\\\\f239\"}.fa-chart-gantt:before{content:\"\\\\e0e4\"}.fa-indian-rupee-sign:before,.fa-indian-rupee:before,.fa-inr:before{content:\"\\\\e1bc\"}.fa-crop-alt:before,.fa-crop-simple:before{content:\"\\\\f565\"}.fa-money-bill-1:before,.fa-money-bill-alt:before{content:\"\\\\f3d1\"}.fa-left-long:before,.fa-long-arrow-alt-left:before{content:\"\\\\f30a\"}.fa-dna:before{content:\"\\\\f471\"}.fa-virus-slash:before{content:\"\\\\e075\"}.fa-minus:before,.fa-subtract:before{content:\"\\\\f068\"}.fa-child-rifle:before{content:\"\\\\e4e0\"}.fa-chess:before{content:\"\\\\f439\"}.fa-arrow-left-long:before,.fa-long-arrow-left:before{content:\"\\\\f177\"}.fa-plug-circle-check:before{content:\"\\\\e55c\"}.fa-street-view:before{content:\"\\\\f21d\"}.fa-franc-sign:before{content:\"\\\\e18f\"}.fa-volume-off:before{content:\"\\\\f026\"}.fa-american-sign-language-interpreting:before,.fa-asl-interpreting:before,.fa-hands-american-sign-language-interpreting:before,.fa-hands-asl-interpreting:before{content:\"\\\\f2a3\"}.fa-cog:before,.fa-gear:before{content:\"\\\\f013\"}.fa-droplet-slash:before,.fa-tint-slash:before{content:\"\\\\f5c7\"}.fa-mosque:before{content:\"\\\\f678\"}.fa-mosquito:before{content:\"\\\\e52b\"}.fa-star-of-david:before{content:\"\\\\f69a\"}.fa-person-military-rifle:before{content:\"\\\\e54b\"}.fa-cart-shopping:before,.fa-shopping-cart:before{content:\"\\\\f07a\"}.fa-vials:before{content:\"\\\\f493\"}.fa-plug-circle-plus:before{content:\"\\\\e55f\"}.fa-place-of-worship:before{content:\"\\\\f67f\"}.fa-grip-vertical:before{content:\"\\\\f58e\"}.fa-arrow-turn-up:before,.fa-level-up:before{content:\"\\\\f148\"}.fa-u:before{content:\"\\\\55\"}.fa-square-root-alt:before,.fa-square-root-variable:before{content:\"\\\\f698\"}.fa-clock-four:before,.fa-clock:before{content:\"\\\\f017\"}.fa-backward-step:before,.fa-step-backward:before{content:\"\\\\f048\"}.fa-pallet:before{content:\"\\\\f482\"}.fa-faucet:before{content:\"\\\\e005\"}.fa-baseball-bat-ball:before{content:\"\\\\f432\"}.fa-s:before{content:\"\\\\53\"}.fa-timeline:before{content:\"\\\\e29c\"}.fa-keyboard:before{content:\"\\\\f11c\"}.fa-caret-down:before{content:\"\\\\f0d7\"}.fa-clinic-medical:before,.fa-house-chimney-medical:before{content:\"\\\\f7f2\"}.fa-temperature-3:before,.fa-temperature-three-quarters:before,.fa-thermometer-3:before,.fa-thermometer-three-quarters:before{content:\"\\\\f2c8\"}.fa-mobile-android-alt:before,.fa-mobile-screen:before{content:\"\\\\f3cf\"}.fa-plane-up:before{content:\"\\\\e22d\"}.fa-piggy-bank:before{content:\"\\\\f4d3\"}.fa-battery-3:before,.fa-battery-half:before{content:\"\\\\f242\"}.fa-mountain-city:before{content:\"\\\\e52e\"}.fa-coins:before{content:\"\\\\f51e\"}.fa-khanda:before{content:\"\\\\f66d\"}.fa-sliders-h:before,.fa-sliders:before{content:\"\\\\f1de\"}.fa-folder-tree:before{content:\"\\\\f802\"}.fa-network-wired:before{content:\"\\\\f6ff\"}.fa-map-pin:before{content:\"\\\\f276\"}.fa-hamsa:before{content:\"\\\\f665\"}.fa-cent-sign:before{content:\"\\\\e3f5\"}.fa-flask:before{content:\"\\\\f0c3\"}.fa-person-pregnant:before{content:\"\\\\e31e\"}.fa-wand-sparkles:before{content:\"\\\\f72b\"}.fa-ellipsis-v:before,.fa-ellipsis-vertical:before{content:\"\\\\f142\"}.fa-ticket:before{content:\"\\\\f145\"}.fa-power-off:before{content:\"\\\\f011\"}.fa-long-arrow-alt-right:before,.fa-right-long:before{content:\"\\\\f30b\"}.fa-flag-usa:before{content:\"\\\\f74d\"}.fa-laptop-file:before{content:\"\\\\e51d\"}.fa-teletype:before,.fa-tty:before{content:\"\\\\f1e4\"}.fa-diagram-next:before{content:\"\\\\e476\"}.fa-person-rifle:before{content:\"\\\\e54e\"}.fa-house-medical-circle-exclamation:before{content:\"\\\\e512\"}.fa-closed-captioning:before{content:\"\\\\f20a\"}.fa-hiking:before,.fa-person-hiking:before{content:\"\\\\f6ec\"}.fa-venus-double:before{content:\"\\\\f226\"}.fa-images:before{content:\"\\\\f302\"}.fa-calculator:before{content:\"\\\\f1ec\"}.fa-people-pulling:before{content:\"\\\\e535\"}.fa-n:before{content:\"\\\\4e\"}.fa-cable-car:before,.fa-tram:before{content:\"\\\\f7da\"}.fa-cloud-rain:before{content:\"\\\\f73d\"}.fa-building-circle-xmark:before{content:\"\\\\e4d4\"}.fa-ship:before{content:\"\\\\f21a\"}.fa-arrows-down-to-line:before{content:\"\\\\e4b8\"}.fa-download:before{content:\"\\\\f019\"}.fa-face-grin:before,.fa-grin:before{content:\"\\\\f580\"}.fa-backspace:before,.fa-delete-left:before{content:\"\\\\f55a\"}.fa-eye-dropper-empty:before,.fa-eye-dropper:before,.fa-eyedropper:before{content:\"\\\\f1fb\"}.fa-file-circle-check:before{content:\"\\\\e5a0\"}.fa-forward:before{content:\"\\\\f04e\"}.fa-mobile-android:before,.fa-mobile-phone:before,.fa-mobile:before{content:\"\\\\f3ce\"}.fa-face-meh:before,.fa-meh:before{content:\"\\\\f11a\"}.fa-align-center:before{content:\"\\\\f037\"}.fa-book-dead:before,.fa-book-skull:before{content:\"\\\\f6b7\"}.fa-drivers-license:before,.fa-id-card:before{content:\"\\\\f2c2\"}.fa-dedent:before,.fa-outdent:before{content:\"\\\\f03b\"}.fa-heart-circle-exclamation:before{content:\"\\\\e4fe\"}.fa-home-alt:before,.fa-home-lg-alt:before,.fa-home:before,.fa-house:before{content:\"\\\\f015\"}.fa-calendar-week:before{content:\"\\\\f784\"}.fa-laptop-medical:before{content:\"\\\\f812\"}.fa-b:before{content:\"\\\\42\"}.fa-file-medical:before{content:\"\\\\f477\"}.fa-dice-one:before{content:\"\\\\f525\"}.fa-kiwi-bird:before{content:\"\\\\f535\"}.fa-arrow-right-arrow-left:before,.fa-exchange:before{content:\"\\\\f0ec\"}.fa-redo-alt:before,.fa-rotate-forward:before,.fa-rotate-right:before{content:\"\\\\f2f9\"}.fa-cutlery:before,.fa-utensils:before{content:\"\\\\f2e7\"}.fa-arrow-up-wide-short:before,.fa-sort-amount-up:before{content:\"\\\\f161\"}.fa-mill-sign:before{content:\"\\\\e1ed\"}.fa-bowl-rice:before{content:\"\\\\e2eb\"}.fa-skull:before{content:\"\\\\f54c\"}.fa-broadcast-tower:before,.fa-tower-broadcast:before{content:\"\\\\f519\"}.fa-truck-pickup:before{content:\"\\\\f63c\"}.fa-long-arrow-alt-up:before,.fa-up-long:before{content:\"\\\\f30c\"}.fa-stop:before{content:\"\\\\f04d\"}.fa-code-merge:before{content:\"\\\\f387\"}.fa-upload:before{content:\"\\\\f093\"}.fa-hurricane:before{content:\"\\\\f751\"}.fa-mound:before{content:\"\\\\e52d\"}.fa-toilet-portable:before{content:\"\\\\e583\"}.fa-compact-disc:before{content:\"\\\\f51f\"}.fa-file-arrow-down:before,.fa-file-download:before{content:\"\\\\f56d\"}.fa-caravan:before{content:\"\\\\f8ff\"}.fa-shield-cat:before{content:\"\\\\e572\"}.fa-bolt:before,.fa-zap:before{content:\"\\\\f0e7\"}.fa-glass-water:before{content:\"\\\\e4f4\"}.fa-oil-well:before{content:\"\\\\e532\"}.fa-vault:before{content:\"\\\\e2c5\"}.fa-mars:before{content:\"\\\\f222\"}.fa-toilet:before{content:\"\\\\f7d8\"}.fa-plane-circle-xmark:before{content:\"\\\\e557\"}.fa-cny:before,.fa-jpy:before,.fa-rmb:before,.fa-yen-sign:before,.fa-yen:before{content:\"\\\\f157\"}.fa-rouble:before,.fa-rub:before,.fa-ruble-sign:before,.fa-ruble:before{content:\"\\\\f158\"}.fa-sun:before{content:\"\\\\f185\"}.fa-guitar:before{content:\"\\\\f7a6\"}.fa-face-laugh-wink:before,.fa-laugh-wink:before{content:\"\\\\f59c\"}.fa-horse-head:before{content:\"\\\\f7ab\"}.fa-bore-hole:before{content:\"\\\\e4c3\"}.fa-industry:before{content:\"\\\\f275\"}.fa-arrow-alt-circle-down:before,.fa-circle-down:before{content:\"\\\\f358\"}.fa-arrows-turn-to-dots:before{content:\"\\\\e4c1\"}.fa-florin-sign:before{content:\"\\\\e184\"}.fa-arrow-down-short-wide:before,.fa-sort-amount-desc:before,.fa-sort-amount-down-alt:before{content:\"\\\\f884\"}.fa-less-than:before{content:\"\\\\3c\"}.fa-angle-down:before{content:\"\\\\f107\"}.fa-car-tunnel:before{content:\"\\\\e4de\"}.fa-head-side-cough:before{content:\"\\\\e061\"}.fa-grip-lines:before{content:\"\\\\f7a4\"}.fa-thumbs-down:before{content:\"\\\\f165\"}.fa-user-lock:before{content:\"\\\\f502\"}.fa-arrow-right-long:before,.fa-long-arrow-right:before{content:\"\\\\f178\"}.fa-anchor-circle-xmark:before{content:\"\\\\e4ac\"}.fa-ellipsis-h:before,.fa-ellipsis:before{content:\"\\\\f141\"}.fa-chess-pawn:before{content:\"\\\\f443\"}.fa-first-aid:before,.fa-kit-medical:before{content:\"\\\\f479\"}.fa-person-through-window:before{content:\"\\\\e5a9\"}.fa-toolbox:before{content:\"\\\\f552\"}.fa-hands-holding-circle:before{content:\"\\\\e4fb\"}.fa-bug:before{content:\"\\\\f188\"}.fa-credit-card-alt:before,.fa-credit-card:before{content:\"\\\\f09d\"}.fa-automobile:before,.fa-car:before{content:\"\\\\f1b9\"}.fa-hand-holding-hand:before{content:\"\\\\e4f7\"}.fa-book-open-reader:before,.fa-book-reader:before{content:\"\\\\f5da\"}.fa-mountain-sun:before{content:\"\\\\e52f\"}.fa-arrows-left-right-to-line:before{content:\"\\\\e4ba\"}.fa-dice-d20:before{content:\"\\\\f6cf\"}.fa-truck-droplet:before{content:\"\\\\e58c\"}.fa-file-circle-xmark:before{content:\"\\\\e5a1\"}.fa-temperature-arrow-up:before,.fa-temperature-up:before{content:\"\\\\e040\"}.fa-medal:before{content:\"\\\\f5a2\"}.fa-bed:before{content:\"\\\\f236\"}.fa-h-square:before,.fa-square-h:before{content:\"\\\\f0fd\"}.fa-podcast:before{content:\"\\\\f2ce\"}.fa-temperature-4:before,.fa-temperature-full:before,.fa-thermometer-4:before,.fa-thermometer-full:before{content:\"\\\\f2c7\"}.fa-bell:before{content:\"\\\\f0f3\"}.fa-superscript:before{content:\"\\\\f12b\"}.fa-plug-circle-xmark:before{content:\"\\\\e560\"}.fa-star-of-life:before{content:\"\\\\f621\"}.fa-phone-slash:before{content:\"\\\\f3dd\"}.fa-paint-roller:before{content:\"\\\\f5aa\"}.fa-hands-helping:before,.fa-handshake-angle:before{content:\"\\\\f4c4\"}.fa-location-dot:before,.fa-map-marker-alt:before{content:\"\\\\f3c5\"}.fa-file:before{content:\"\\\\f15b\"}.fa-greater-than:before{content:\"\\\\3e\"}.fa-person-swimming:before,.fa-swimmer:before{content:\"\\\\f5c4\"}.fa-arrow-down:before{content:\"\\\\f063\"}.fa-droplet:before,.fa-tint:before{content:\"\\\\f043\"}.fa-eraser:before{content:\"\\\\f12d\"}.fa-earth-america:before,.fa-earth-americas:before,.fa-earth:before,.fa-globe-americas:before{content:\"\\\\f57d\"}.fa-person-burst:before{content:\"\\\\e53b\"}.fa-dove:before{content:\"\\\\f4ba\"}.fa-battery-0:before,.fa-battery-empty:before{content:\"\\\\f244\"}.fa-socks:before{content:\"\\\\f696\"}.fa-inbox:before{content:\"\\\\f01c\"}.fa-section:before{content:\"\\\\e447\"}.fa-gauge-high:before,.fa-tachometer-alt-fast:before,.fa-tachometer-alt:before{content:\"\\\\f625\"}.fa-envelope-open-text:before{content:\"\\\\f658\"}.fa-hospital-alt:before,.fa-hospital-wide:before,.fa-hospital:before{content:\"\\\\f0f8\"}.fa-wine-bottle:before{content:\"\\\\f72f\"}.fa-chess-rook:before{content:\"\\\\f447\"}.fa-bars-staggered:before,.fa-reorder:before,.fa-stream:before{content:\"\\\\f550\"}.fa-dharmachakra:before{content:\"\\\\f655\"}.fa-hotdog:before{content:\"\\\\f80f\"}.fa-blind:before,.fa-person-walking-with-cane:before{content:\"\\\\f29d\"}.fa-drum:before{content:\"\\\\f569\"}.fa-ice-cream:before{content:\"\\\\f810\"}.fa-heart-circle-bolt:before{content:\"\\\\e4fc\"}.fa-fax:before{content:\"\\\\f1ac\"}.fa-paragraph:before{content:\"\\\\f1dd\"}.fa-check-to-slot:before,.fa-vote-yea:before{content:\"\\\\f772\"}.fa-star-half:before{content:\"\\\\f089\"}.fa-boxes-alt:before,.fa-boxes-stacked:before,.fa-boxes:before{content:\"\\\\f468\"}.fa-chain:before,.fa-link:before{content:\"\\\\f0c1\"}.fa-assistive-listening-systems:before,.fa-ear-listen:before{content:\"\\\\f2a2\"}.fa-tree-city:before{content:\"\\\\e587\"}.fa-play:before{content:\"\\\\f04b\"}.fa-font:before{content:\"\\\\f031\"}.fa-rupiah-sign:before{content:\"\\\\e23d\"}.fa-magnifying-glass:before,.fa-search:before{content:\"\\\\f002\"}.fa-ping-pong-paddle-ball:before,.fa-table-tennis-paddle-ball:before,.fa-table-tennis:before{content:\"\\\\f45d\"}.fa-diagnoses:before,.fa-person-dots-from-line:before{content:\"\\\\f470\"}.fa-trash-can-arrow-up:before,.fa-trash-restore-alt:before{content:\"\\\\f82a\"}.fa-naira-sign:before{content:\"\\\\e1f6\"}.fa-cart-arrow-down:before{content:\"\\\\f218\"}.fa-walkie-talkie:before{content:\"\\\\f8ef\"}.fa-file-edit:before,.fa-file-pen:before{content:\"\\\\f31c\"}.fa-receipt:before{content:\"\\\\f543\"}.fa-pen-square:before,.fa-pencil-square:before,.fa-square-pen:before{content:\"\\\\f14b\"}.fa-suitcase-rolling:before{content:\"\\\\f5c1\"}.fa-person-circle-exclamation:before{content:\"\\\\e53f\"}.fa-chevron-down:before{content:\"\\\\f078\"}.fa-battery-5:before,.fa-battery-full:before,.fa-battery:before{content:\"\\\\f240\"}.fa-skull-crossbones:before{content:\"\\\\f714\"}.fa-code-compare:before{content:\"\\\\e13a\"}.fa-list-dots:before,.fa-list-ul:before{content:\"\\\\f0ca\"}.fa-school-lock:before{content:\"\\\\e56f\"}.fa-tower-cell:before{content:\"\\\\e585\"}.fa-down-long:before,.fa-long-arrow-alt-down:before{content:\"\\\\f309\"}.fa-ranking-star:before{content:\"\\\\e561\"}.fa-chess-king:before{content:\"\\\\f43f\"}.fa-person-harassing:before{content:\"\\\\e549\"}.fa-brazilian-real-sign:before{content:\"\\\\e46c\"}.fa-landmark-alt:before,.fa-landmark-dome:before{content:\"\\\\f752\"}.fa-arrow-up:before{content:\"\\\\f062\"}.fa-television:before,.fa-tv-alt:before,.fa-tv:before{content:\"\\\\f26c\"}.fa-shrimp:before{content:\"\\\\e448\"}.fa-list-check:before,.fa-tasks:before{content:\"\\\\f0ae\"}.fa-jug-detergent:before{content:\"\\\\e519\"}.fa-circle-user:before,.fa-user-circle:before{content:\"\\\\f2bd\"}.fa-user-shield:before{content:\"\\\\f505\"}.fa-wind:before{content:\"\\\\f72e\"}.fa-car-burst:before,.fa-car-crash:before{content:\"\\\\f5e1\"}.fa-y:before{content:\"\\\\59\"}.fa-person-snowboarding:before,.fa-snowboarding:before{content:\"\\\\f7ce\"}.fa-shipping-fast:before,.fa-truck-fast:before{content:\"\\\\f48b\"}.fa-fish:before{content:\"\\\\f578\"}.fa-user-graduate:before{content:\"\\\\f501\"}.fa-adjust:before,.fa-circle-half-stroke:before{content:\"\\\\f042\"}.fa-clapperboard:before{content:\"\\\\e131\"}.fa-circle-radiation:before,.fa-radiation-alt:before{content:\"\\\\f7ba\"}.fa-baseball-ball:before,.fa-baseball:before{content:\"\\\\f433\"}.fa-jet-fighter-up:before{content:\"\\\\e518\"}.fa-diagram-project:before,.fa-project-diagram:before{content:\"\\\\f542\"}.fa-copy:before{content:\"\\\\f0c5\"}.fa-volume-mute:before,.fa-volume-times:before,.fa-volume-xmark:before{content:\"\\\\f6a9\"}.fa-hand-sparkles:before{content:\"\\\\e05d\"}.fa-grip-horizontal:before,.fa-grip:before{content:\"\\\\f58d\"}.fa-share-from-square:before,.fa-share-square:before{content:\"\\\\f14d\"}.fa-gun:before{content:\"\\\\e19b\"}.fa-phone-square:before,.fa-square-phone:before{content:\"\\\\f098\"}.fa-add:before,.fa-plus:before{content:\"\\\\2b\"}.fa-expand:before{content:\"\\\\f065\"}.fa-computer:before{content:\"\\\\e4e5\"}.fa-close:before,.fa-multiply:before,.fa-remove:before,.fa-times:before,.fa-xmark:before{content:\"\\\\f00d\"}.fa-arrows-up-down-left-right:before,.fa-arrows:before{content:\"\\\\f047\"}.fa-chalkboard-teacher:before,.fa-chalkboard-user:before{content:\"\\\\f51c\"}.fa-peso-sign:before{content:\"\\\\e222\"}.fa-building-shield:before{content:\"\\\\e4d8\"}.fa-baby:before{content:\"\\\\f77c\"}.fa-users-line:before{content:\"\\\\e592\"}.fa-quote-left-alt:before,.fa-quote-left:before{content:\"\\\\f10d\"}.fa-tractor:before{content:\"\\\\f722\"}.fa-trash-arrow-up:before,.fa-trash-restore:before{content:\"\\\\f829\"}.fa-arrow-down-up-lock:before{content:\"\\\\e4b0\"}.fa-lines-leaning:before{content:\"\\\\e51e\"}.fa-ruler-combined:before{content:\"\\\\f546\"}.fa-copyright:before{content:\"\\\\f1f9\"}.fa-equals:before{content:\"\\\\3d\"}.fa-blender:before{content:\"\\\\f517\"}.fa-teeth:before{content:\"\\\\f62e\"}.fa-ils:before,.fa-shekel-sign:before,.fa-shekel:before,.fa-sheqel-sign:before,.fa-sheqel:before{content:\"\\\\f20b\"}.fa-map:before{content:\"\\\\f279\"}.fa-rocket:before{content:\"\\\\f135\"}.fa-photo-film:before,.fa-photo-video:before{content:\"\\\\f87c\"}.fa-folder-minus:before{content:\"\\\\f65d\"}.fa-store:before{content:\"\\\\f54e\"}.fa-arrow-trend-up:before{content:\"\\\\e098\"}.fa-plug-circle-minus:before{content:\"\\\\e55e\"}.fa-sign-hanging:before,.fa-sign:before{content:\"\\\\f4d9\"}.fa-bezier-curve:before{content:\"\\\\f55b\"}.fa-bell-slash:before{content:\"\\\\f1f6\"}.fa-tablet-android:before,.fa-tablet:before{content:\"\\\\f3fb\"}.fa-school-flag:before{content:\"\\\\e56e\"}.fa-fill:before{content:\"\\\\f575\"}.fa-angle-up:before{content:\"\\\\f106\"}.fa-drumstick-bite:before{content:\"\\\\f6d7\"}.fa-holly-berry:before{content:\"\\\\f7aa\"}.fa-chevron-left:before{content:\"\\\\f053\"}.fa-bacteria:before{content:\"\\\\e059\"}.fa-hand-lizard:before{content:\"\\\\f258\"}.fa-disease:before{content:\"\\\\f7fa\"}.fa-briefcase-medical:before{content:\"\\\\f469\"}.fa-genderless:before{content:\"\\\\f22d\"}.fa-chevron-right:before{content:\"\\\\f054\"}.fa-retweet:before{content:\"\\\\f079\"}.fa-car-alt:before,.fa-car-rear:before{content:\"\\\\f5de\"}.fa-pump-soap:before{content:\"\\\\e06b\"}.fa-video-slash:before{content:\"\\\\f4e2\"}.fa-battery-2:before,.fa-battery-quarter:before{content:\"\\\\f243\"}.fa-radio:before{content:\"\\\\f8d7\"}.fa-baby-carriage:before,.fa-carriage-baby:before{content:\"\\\\f77d\"}.fa-traffic-light:before{content:\"\\\\f637\"}.fa-thermometer:before{content:\"\\\\f491\"}.fa-vr-cardboard:before{content:\"\\\\f729\"}.fa-hand-middle-finger:before{content:\"\\\\f806\"}.fa-percent:before,.fa-percentage:before{content:\"\\\\25\"}.fa-truck-moving:before{content:\"\\\\f4df\"}.fa-glass-water-droplet:before{content:\"\\\\e4f5\"}.fa-display:before{content:\"\\\\e163\"}.fa-face-smile:before,.fa-smile:before{content:\"\\\\f118\"}.fa-thumb-tack:before,.fa-thumbtack:before{content:\"\\\\f08d\"}.fa-trophy:before{content:\"\\\\f091\"}.fa-person-praying:before,.fa-pray:before{content:\"\\\\f683\"}.fa-hammer:before{content:\"\\\\f6e3\"}.fa-hand-peace:before{content:\"\\\\f25b\"}.fa-rotate:before,.fa-sync-alt:before{content:\"\\\\f2f1\"}.fa-spinner:before{content:\"\\\\f110\"}.fa-robot:before{content:\"\\\\f544\"}.fa-peace:before{content:\"\\\\f67c\"}.fa-cogs:before,.fa-gears:before{content:\"\\\\f085\"}.fa-warehouse:before{content:\"\\\\f494\"}.fa-arrow-up-right-dots:before{content:\"\\\\e4b7\"}.fa-splotch:before{content:\"\\\\f5bc\"}.fa-face-grin-hearts:before,.fa-grin-hearts:before{content:\"\\\\f584\"}.fa-dice-four:before{content:\"\\\\f524\"}.fa-sim-card:before{content:\"\\\\f7c4\"}.fa-transgender-alt:before,.fa-transgender:before{content:\"\\\\f225\"}.fa-mercury:before{content:\"\\\\f223\"}.fa-arrow-turn-down:before,.fa-level-down:before{content:\"\\\\f149\"}.fa-person-falling-burst:before{content:\"\\\\e547\"}.fa-award:before{content:\"\\\\f559\"}.fa-ticket-alt:before,.fa-ticket-simple:before{content:\"\\\\f3ff\"}.fa-building:before{content:\"\\\\f1ad\"}.fa-angle-double-left:before,.fa-angles-left:before{content:\"\\\\f100\"}.fa-qrcode:before{content:\"\\\\f029\"}.fa-clock-rotate-left:before,.fa-history:before{content:\"\\\\f1da\"}.fa-face-grin-beam-sweat:before,.fa-grin-beam-sweat:before{content:\"\\\\f583\"}.fa-arrow-right-from-file:before,.fa-file-export:before{content:\"\\\\f56e\"}.fa-shield-blank:before,.fa-shield:before{content:\"\\\\f132\"}.fa-arrow-up-short-wide:before,.fa-sort-amount-up-alt:before{content:\"\\\\f885\"}.fa-house-medical:before{content:\"\\\\e3b2\"}.fa-golf-ball-tee:before,.fa-golf-ball:before{content:\"\\\\f450\"}.fa-chevron-circle-left:before,.fa-circle-chevron-left:before{content:\"\\\\f137\"}.fa-house-chimney-window:before{content:\"\\\\e00d\"}.fa-pen-nib:before{content:\"\\\\f5ad\"}.fa-tent-arrow-turn-left:before{content:\"\\\\e580\"}.fa-tents:before{content:\"\\\\e582\"}.fa-magic:before,.fa-wand-magic:before{content:\"\\\\f0d0\"}.fa-dog:before{content:\"\\\\f6d3\"}.fa-carrot:before{content:\"\\\\f787\"}.fa-moon:before{content:\"\\\\f186\"}.fa-wine-glass-alt:before,.fa-wine-glass-empty:before{content:\"\\\\f5ce\"}.fa-cheese:before{content:\"\\\\f7ef\"}.fa-yin-yang:before{content:\"\\\\f6ad\"}.fa-music:before{content:\"\\\\f001\"}.fa-code-commit:before{content:\"\\\\f386\"}.fa-temperature-low:before{content:\"\\\\f76b\"}.fa-biking:before,.fa-person-biking:before{content:\"\\\\f84a\"}.fa-broom:before{content:\"\\\\f51a\"}.fa-shield-heart:before{content:\"\\\\e574\"}.fa-gopuram:before{content:\"\\\\f664\"}.fa-earth-oceania:before,.fa-globe-oceania:before{content:\"\\\\e47b\"}.fa-square-xmark:before,.fa-times-square:before,.fa-xmark-square:before{content:\"\\\\f2d3\"}.fa-hashtag:before{content:\"\\\\23\"}.fa-expand-alt:before,.fa-up-right-and-down-left-from-center:before{content:\"\\\\f424\"}.fa-oil-can:before{content:\"\\\\f613\"}.fa-t:before{content:\"\\\\54\"}.fa-hippo:before{content:\"\\\\f6ed\"}.fa-chart-column:before{content:\"\\\\e0e3\"}.fa-infinity:before{content:\"\\\\f534\"}.fa-vial-circle-check:before{content:\"\\\\e596\"}.fa-person-arrow-down-to-line:before{content:\"\\\\e538\"}.fa-voicemail:before{content:\"\\\\f897\"}.fa-fan:before{content:\"\\\\f863\"}.fa-person-walking-luggage:before{content:\"\\\\e554\"}.fa-arrows-alt-v:before,.fa-up-down:before{content:\"\\\\f338\"}.fa-cloud-moon-rain:before{content:\"\\\\f73c\"}.fa-calendar:before{content:\"\\\\f133\"}.fa-trailer:before{content:\"\\\\e041\"}.fa-bahai:before,.fa-haykal:before{content:\"\\\\f666\"}.fa-sd-card:before{content:\"\\\\f7c2\"}.fa-dragon:before{content:\"\\\\f6d5\"}.fa-shoe-prints:before{content:\"\\\\f54b\"}.fa-circle-plus:before,.fa-plus-circle:before{content:\"\\\\f055\"}.fa-face-grin-tongue-wink:before,.fa-grin-tongue-wink:before{content:\"\\\\f58b\"}.fa-hand-holding:before{content:\"\\\\f4bd\"}.fa-plug-circle-exclamation:before{content:\"\\\\e55d\"}.fa-chain-broken:before,.fa-chain-slash:before,.fa-link-slash:before,.fa-unlink:before{content:\"\\\\f127\"}.fa-clone:before{content:\"\\\\f24d\"}.fa-person-walking-arrow-loop-left:before{content:\"\\\\e551\"}.fa-arrow-up-z-a:before,.fa-sort-alpha-up-alt:before{content:\"\\\\f882\"}.fa-fire-alt:before,.fa-fire-flame-curved:before{content:\"\\\\f7e4\"}.fa-tornado:before{content:\"\\\\f76f\"}.fa-file-circle-plus:before{content:\"\\\\e494\"}.fa-book-quran:before,.fa-quran:before{content:\"\\\\f687\"}.fa-anchor:before{content:\"\\\\f13d\"}.fa-border-all:before{content:\"\\\\f84c\"}.fa-angry:before,.fa-face-angry:before{content:\"\\\\f556\"}.fa-cookie-bite:before{content:\"\\\\f564\"}.fa-arrow-trend-down:before{content:\"\\\\e097\"}.fa-feed:before,.fa-rss:before{content:\"\\\\f09e\"}.fa-draw-polygon:before{content:\"\\\\f5ee\"}.fa-balance-scale:before,.fa-scale-balanced:before{content:\"\\\\f24e\"}.fa-gauge-simple-high:before,.fa-tachometer-fast:before,.fa-tachometer:before{content:\"\\\\f62a\"}.fa-shower:before{content:\"\\\\f2cc\"}.fa-desktop-alt:before,.fa-desktop:before{content:\"\\\\f390\"}.fa-m:before{content:\"\\\\4d\"}.fa-table-list:before,.fa-th-list:before{content:\"\\\\f00b\"}.fa-comment-sms:before,.fa-sms:before{content:\"\\\\f7cd\"}.fa-book:before{content:\"\\\\f02d\"}.fa-user-plus:before{content:\"\\\\f234\"}.fa-check:before{content:\"\\\\f00c\"}.fa-battery-4:before,.fa-battery-three-quarters:before{content:\"\\\\f241\"}.fa-house-circle-check:before{content:\"\\\\e509\"}.fa-angle-left:before{content:\"\\\\f104\"}.fa-diagram-successor:before{content:\"\\\\e47a\"}.fa-truck-arrow-right:before{content:\"\\\\e58b\"}.fa-arrows-split-up-and-left:before{content:\"\\\\e4bc\"}.fa-fist-raised:before,.fa-hand-fist:before{content:\"\\\\f6de\"}.fa-cloud-moon:before{content:\"\\\\f6c3\"}.fa-briefcase:before{content:\"\\\\f0b1\"}.fa-person-falling:before{content:\"\\\\e546\"}.fa-image-portrait:before,.fa-portrait:before{content:\"\\\\f3e0\"}.fa-user-tag:before{content:\"\\\\f507\"}.fa-rug:before{content:\"\\\\e569\"}.fa-earth-europe:before,.fa-globe-europe:before{content:\"\\\\f7a2\"}.fa-cart-flatbed-suitcase:before,.fa-luggage-cart:before{content:\"\\\\f59d\"}.fa-rectangle-times:before,.fa-rectangle-xmark:before,.fa-times-rectangle:before,.fa-window-close:before{content:\"\\\\f410\"}.fa-baht-sign:before{content:\"\\\\e0ac\"}.fa-book-open:before{content:\"\\\\f518\"}.fa-book-journal-whills:before,.fa-journal-whills:before{content:\"\\\\f66a\"}.fa-handcuffs:before{content:\"\\\\e4f8\"}.fa-exclamation-triangle:before,.fa-triangle-exclamation:before,.fa-warning:before{content:\"\\\\f071\"}.fa-database:before{content:\"\\\\f1c0\"}.fa-arrow-turn-right:before,.fa-mail-forward:before,.fa-share:before{content:\"\\\\f064\"}.fa-bottle-droplet:before{content:\"\\\\e4c4\"}.fa-mask-face:before{content:\"\\\\e1d7\"}.fa-hill-rockslide:before{content:\"\\\\e508\"}.fa-exchange-alt:before,.fa-right-left:before{content:\"\\\\f362\"}.fa-paper-plane:before{content:\"\\\\f1d8\"}.fa-road-circle-exclamation:before{content:\"\\\\e565\"}.fa-dungeon:before{content:\"\\\\f6d9\"}.fa-align-right:before{content:\"\\\\f038\"}.fa-money-bill-1-wave:before,.fa-money-bill-wave-alt:before{content:\"\\\\f53b\"}.fa-life-ring:before{content:\"\\\\f1cd\"}.fa-hands:before,.fa-sign-language:before,.fa-signing:before{content:\"\\\\f2a7\"}.fa-calendar-day:before{content:\"\\\\f783\"}.fa-ladder-water:before,.fa-swimming-pool:before,.fa-water-ladder:before{content:\"\\\\f5c5\"}.fa-arrows-up-down:before,.fa-arrows-v:before{content:\"\\\\f07d\"}.fa-face-grimace:before,.fa-grimace:before{content:\"\\\\f57f\"}.fa-wheelchair-alt:before,.fa-wheelchair-move:before{content:\"\\\\e2ce\"}.fa-level-down-alt:before,.fa-turn-down:before{content:\"\\\\f3be\"}.fa-person-walking-arrow-right:before{content:\"\\\\e552\"}.fa-envelope-square:before,.fa-square-envelope:before{content:\"\\\\f199\"}.fa-dice:before{content:\"\\\\f522\"}.fa-bowling-ball:before{content:\"\\\\f436\"}.fa-brain:before{content:\"\\\\f5dc\"}.fa-band-aid:before,.fa-bandage:before{content:\"\\\\f462\"}.fa-calendar-minus:before{content:\"\\\\f272\"}.fa-circle-xmark:before,.fa-times-circle:before,.fa-xmark-circle:before{content:\"\\\\f057\"}.fa-gifts:before{content:\"\\\\f79c\"}.fa-hotel:before{content:\"\\\\f594\"}.fa-earth-asia:before,.fa-globe-asia:before{content:\"\\\\f57e\"}.fa-id-card-alt:before,.fa-id-card-clip:before{content:\"\\\\f47f\"}.fa-magnifying-glass-plus:before,.fa-search-plus:before{content:\"\\\\f00e\"}.fa-thumbs-up:before{content:\"\\\\f164\"}.fa-user-clock:before{content:\"\\\\f4fd\"}.fa-allergies:before,.fa-hand-dots:before{content:\"\\\\f461\"}.fa-file-invoice:before{content:\"\\\\f570\"}.fa-window-minimize:before{content:\"\\\\f2d1\"}.fa-coffee:before,.fa-mug-saucer:before{content:\"\\\\f0f4\"}.fa-brush:before{content:\"\\\\f55d\"}.fa-mask:before{content:\"\\\\f6fa\"}.fa-magnifying-glass-minus:before,.fa-search-minus:before{content:\"\\\\f010\"}.fa-ruler-vertical:before{content:\"\\\\f548\"}.fa-user-alt:before,.fa-user-large:before{content:\"\\\\f406\"}.fa-train-tram:before{content:\"\\\\e5b4\"}.fa-user-nurse:before{content:\"\\\\f82f\"}.fa-syringe:before{content:\"\\\\f48e\"}.fa-cloud-sun:before{content:\"\\\\f6c4\"}.fa-stopwatch-20:before{content:\"\\\\e06f\"}.fa-square-full:before{content:\"\\\\f45c\"}.fa-magnet:before{content:\"\\\\f076\"}.fa-jar:before{content:\"\\\\e516\"}.fa-note-sticky:before,.fa-sticky-note:before{content:\"\\\\f249\"}.fa-bug-slash:before{content:\"\\\\e490\"}.fa-arrow-up-from-water-pump:before{content:\"\\\\e4b6\"}.fa-bone:before{content:\"\\\\f5d7\"}.fa-user-injured:before{content:\"\\\\f728\"}.fa-face-sad-tear:before,.fa-sad-tear:before{content:\"\\\\f5b4\"}.fa-plane:before{content:\"\\\\f072\"}.fa-tent-arrows-down:before{content:\"\\\\e581\"}.fa-exclamation:before{content:\"\\\\21\"}.fa-arrows-spin:before{content:\"\\\\e4bb\"}.fa-print:before{content:\"\\\\f02f\"}.fa-try:before,.fa-turkish-lira-sign:before,.fa-turkish-lira:before{content:\"\\\\e2bb\"}.fa-dollar-sign:before,.fa-dollar:before,.fa-usd:before{content:\"\\\\24\"}.fa-x:before{content:\"\\\\58\"}.fa-magnifying-glass-dollar:before,.fa-search-dollar:before{content:\"\\\\f688\"}.fa-users-cog:before,.fa-users-gear:before{content:\"\\\\f509\"}.fa-person-military-pointing:before{content:\"\\\\e54a\"}.fa-bank:before,.fa-building-columns:before,.fa-institution:before,.fa-museum:before,.fa-university:before{content:\"\\\\f19c\"}.fa-umbrella:before{content:\"\\\\f0e9\"}.fa-trowel:before{content:\"\\\\e589\"}.fa-d:before{content:\"\\\\44\"}.fa-stapler:before{content:\"\\\\e5af\"}.fa-masks-theater:before,.fa-theater-masks:before{content:\"\\\\f630\"}.fa-kip-sign:before{content:\"\\\\e1c4\"}.fa-hand-point-left:before{content:\"\\\\f0a5\"}.fa-handshake-alt:before,.fa-handshake-simple:before{content:\"\\\\f4c6\"}.fa-fighter-jet:before,.fa-jet-fighter:before{content:\"\\\\f0fb\"}.fa-share-alt-square:before,.fa-square-share-nodes:before{content:\"\\\\f1e1\"}.fa-barcode:before{content:\"\\\\f02a\"}.fa-plus-minus:before{content:\"\\\\e43c\"}.fa-video-camera:before,.fa-video:before{content:\"\\\\f03d\"}.fa-graduation-cap:before,.fa-mortar-board:before{content:\"\\\\f19d\"}.fa-hand-holding-medical:before{content:\"\\\\e05c\"}.fa-person-circle-check:before{content:\"\\\\e53e\"}.fa-level-up-alt:before,.fa-turn-up:before{content:\"\\\\f3bf\"}.fa-sr-only,.fa-sr-only-focusable:not(:focus),.sr-only,.sr-only-focusable:not(:focus){position:absolute;width:1px;height:1px;padding:0;margin:-1px;overflow:hidden;clip:rect(0,0,0,0);white-space:nowrap;border-width:0}:host,:root{--fa-style-family-brands:\"Font Awesome 6 Brands\";--fa-font-brands:normal 400 1em/1 \"Font Awesome 6 Brands\"}@font-face{font-family:\"Font Awesome 6 Brands\";font-style:normal;font-weight:400;font-display:block;src:url(https://ka-f.fontawesome.com/releases/v6.2.0/webfonts/free-fa-brands-400.woff2) format(\"woff2\"),url(https://ka-f.fontawesome.com/releases/v6.2.0/webfonts/free-fa-brands-400.ttf) format(\"truetype\")}.fa-brands,.fab{font-weight:400}.fa-monero:before{content:\"\\\\f3d0\"}.fa-hooli:before{content:\"\\\\f427\"}.fa-yelp:before{content:\"\\\\f1e9\"}.fa-cc-visa:before{content:\"\\\\f1f0\"}.fa-lastfm:before{content:\"\\\\f202\"}.fa-shopware:before{content:\"\\\\f5b5\"}.fa-creative-commons-nc:before{content:\"\\\\f4e8\"}.fa-aws:before{content:\"\\\\f375\"}.fa-redhat:before{content:\"\\\\f7bc\"}.fa-yoast:before{content:\"\\\\f2b1\"}.fa-cloudflare:before{content:\"\\\\e07d\"}.fa-ups:before{content:\"\\\\f7e0\"}.fa-wpexplorer:before{content:\"\\\\f2de\"}.fa-dyalog:before{content:\"\\\\f399\"}.fa-bity:before{content:\"\\\\f37a\"}.fa-stackpath:before{content:\"\\\\f842\"}.fa-buysellads:before{content:\"\\\\f20d\"}.fa-first-order:before{content:\"\\\\f2b0\"}.fa-modx:before{content:\"\\\\f285\"}.fa-guilded:before{content:\"\\\\e07e\"}.fa-vnv:before{content:\"\\\\f40b\"}.fa-js-square:before,.fa-square-js:before{content:\"\\\\f3b9\"}.fa-microsoft:before{content:\"\\\\f3ca\"}.fa-qq:before{content:\"\\\\f1d6\"}.fa-orcid:before{content:\"\\\\f8d2\"}.fa-java:before{content:\"\\\\f4e4\"}.fa-invision:before{content:\"\\\\f7b0\"}.fa-creative-commons-pd-alt:before{content:\"\\\\f4ed\"}.fa-centercode:before{content:\"\\\\f380\"}.fa-glide-g:before{content:\"\\\\f2a6\"}.fa-drupal:before{content:\"\\\\f1a9\"}.fa-hire-a-helper:before{content:\"\\\\f3b0\"}.fa-creative-commons-by:before{content:\"\\\\f4e7\"}.fa-unity:before{content:\"\\\\e049\"}.fa-whmcs:before{content:\"\\\\f40d\"}.fa-rocketchat:before{content:\"\\\\f3e8\"}.fa-vk:before{content:\"\\\\f189\"}.fa-untappd:before{content:\"\\\\f405\"}.fa-mailchimp:before{content:\"\\\\f59e\"}.fa-css3-alt:before{content:\"\\\\f38b\"}.fa-reddit-square:before,.fa-square-reddit:before{content:\"\\\\f1a2\"}.fa-vimeo-v:before{content:\"\\\\f27d\"}.fa-contao:before{content:\"\\\\f26d\"}.fa-square-font-awesome:before{content:\"\\\\e5ad\"}.fa-deskpro:before{content:\"\\\\f38f\"}.fa-sistrix:before{content:\"\\\\f3ee\"}.fa-instagram-square:before,.fa-square-instagram:before{content:\"\\\\e055\"}.fa-battle-net:before{content:\"\\\\f835\"}.fa-the-red-yeti:before{content:\"\\\\f69d\"}.fa-hacker-news-square:before,.fa-square-hacker-news:before{content:\"\\\\f3af\"}.fa-edge:before{content:\"\\\\f282\"}.fa-napster:before{content:\"\\\\f3d2\"}.fa-snapchat-square:before,.fa-square-snapchat:before{content:\"\\\\f2ad\"}.fa-google-plus-g:before{content:\"\\\\f0d5\"}.fa-artstation:before{content:\"\\\\f77a\"}.fa-markdown:before{content:\"\\\\f60f\"}.fa-sourcetree:before{content:\"\\\\f7d3\"}.fa-google-plus:before{content:\"\\\\f2b3\"}.fa-diaspora:before{content:\"\\\\f791\"}.fa-foursquare:before{content:\"\\\\f180\"}.fa-stack-overflow:before{content:\"\\\\f16c\"}.fa-github-alt:before{content:\"\\\\f113\"}.fa-phoenix-squadron:before{content:\"\\\\f511\"}.fa-pagelines:before{content:\"\\\\f18c\"}.fa-algolia:before{content:\"\\\\f36c\"}.fa-red-river:before{content:\"\\\\f3e3\"}.fa-creative-commons-sa:before{content:\"\\\\f4ef\"}.fa-safari:before{content:\"\\\\f267\"}.fa-google:before{content:\"\\\\f1a0\"}.fa-font-awesome-alt:before,.fa-square-font-awesome-stroke:before{content:\"\\\\f35c\"}.fa-atlassian:before{content:\"\\\\f77b\"}.fa-linkedin-in:before{content:\"\\\\f0e1\"}.fa-digital-ocean:before{content:\"\\\\f391\"}.fa-nimblr:before{content:\"\\\\f5a8\"}.fa-chromecast:before{content:\"\\\\f838\"}.fa-evernote:before{content:\"\\\\f839\"}.fa-hacker-news:before{content:\"\\\\f1d4\"}.fa-creative-commons-sampling:before{content:\"\\\\f4f0\"}.fa-adversal:before{content:\"\\\\f36a\"}.fa-creative-commons:before{content:\"\\\\f25e\"}.fa-watchman-monitoring:before{content:\"\\\\e087\"}.fa-fonticons:before{content:\"\\\\f280\"}.fa-weixin:before{content:\"\\\\f1d7\"}.fa-shirtsinbulk:before{content:\"\\\\f214\"}.fa-codepen:before{content:\"\\\\f1cb\"}.fa-git-alt:before{content:\"\\\\f841\"}.fa-lyft:before{content:\"\\\\f3c3\"}.fa-rev:before{content:\"\\\\f5b2\"}.fa-windows:before{content:\"\\\\f17a\"}.fa-wizards-of-the-coast:before{content:\"\\\\f730\"}.fa-square-viadeo:before,.fa-viadeo-square:before{content:\"\\\\f2aa\"}.fa-meetup:before{content:\"\\\\f2e0\"}.fa-centos:before{content:\"\\\\f789\"}.fa-adn:before{content:\"\\\\f170\"}.fa-cloudsmith:before{content:\"\\\\f384\"}.fa-pied-piper-alt:before{content:\"\\\\f1a8\"}.fa-dribbble-square:before,.fa-square-dribbble:before{content:\"\\\\f397\"}.fa-codiepie:before{content:\"\\\\f284\"}.fa-node:before{content:\"\\\\f419\"}.fa-mix:before{content:\"\\\\f3cb\"}.fa-steam:before{content:\"\\\\f1b6\"}.fa-cc-apple-pay:before{content:\"\\\\f416\"}.fa-scribd:before{content:\"\\\\f28a\"}.fa-openid:before{content:\"\\\\f19b\"}.fa-instalod:before{content:\"\\\\e081\"}.fa-expeditedssl:before{content:\"\\\\f23e\"}.fa-sellcast:before{content:\"\\\\f2da\"}.fa-square-twitter:before,.fa-twitter-square:before{content:\"\\\\f081\"}.fa-r-project:before{content:\"\\\\f4f7\"}.fa-delicious:before{content:\"\\\\f1a5\"}.fa-freebsd:before{content:\"\\\\f3a4\"}.fa-vuejs:before{content:\"\\\\f41f\"}.fa-accusoft:before{content:\"\\\\f369\"}.fa-ioxhost:before{content:\"\\\\f208\"}.fa-fonticons-fi:before{content:\"\\\\f3a2\"}.fa-app-store:before{content:\"\\\\f36f\"}.fa-cc-mastercard:before{content:\"\\\\f1f1\"}.fa-itunes-note:before{content:\"\\\\f3b5\"}.fa-golang:before{content:\"\\\\e40f\"}.fa-kickstarter:before{content:\"\\\\f3bb\"}.fa-grav:before{content:\"\\\\f2d6\"}.fa-weibo:before{content:\"\\\\f18a\"}.fa-uncharted:before{content:\"\\\\e084\"}.fa-firstdraft:before{content:\"\\\\f3a1\"}.fa-square-youtube:before,.fa-youtube-square:before{content:\"\\\\f431\"}.fa-wikipedia-w:before{content:\"\\\\f266\"}.fa-rendact:before,.fa-wpressr:before{content:\"\\\\f3e4\"}.fa-angellist:before{content:\"\\\\f209\"}.fa-galactic-republic:before{content:\"\\\\f50c\"}.fa-nfc-directional:before{content:\"\\\\e530\"}.fa-skype:before{content:\"\\\\f17e\"}.fa-joget:before{content:\"\\\\f3b7\"}.fa-fedora:before{content:\"\\\\f798\"}.fa-stripe-s:before{content:\"\\\\f42a\"}.fa-meta:before{content:\"\\\\e49b\"}.fa-laravel:before{content:\"\\\\f3bd\"}.fa-hotjar:before{content:\"\\\\f3b1\"}.fa-bluetooth-b:before{content:\"\\\\f294\"}.fa-sticker-mule:before{content:\"\\\\f3f7\"}.fa-creative-commons-zero:before{content:\"\\\\f4f3\"}.fa-hips:before{content:\"\\\\f452\"}.fa-behance:before{content:\"\\\\f1b4\"}.fa-reddit:before{content:\"\\\\f1a1\"}.fa-discord:before{content:\"\\\\f392\"}.fa-chrome:before{content:\"\\\\f268\"}.fa-app-store-ios:before{content:\"\\\\f370\"}.fa-cc-discover:before{content:\"\\\\f1f2\"}.fa-wpbeginner:before{content:\"\\\\f297\"}.fa-confluence:before{content:\"\\\\f78d\"}.fa-mdb:before{content:\"\\\\f8ca\"}.fa-dochub:before{content:\"\\\\f394\"}.fa-accessible-icon:before{content:\"\\\\f368\"}.fa-ebay:before{content:\"\\\\f4f4\"}.fa-amazon:before{content:\"\\\\f270\"}.fa-unsplash:before{content:\"\\\\e07c\"}.fa-yarn:before{content:\"\\\\f7e3\"}.fa-square-steam:before,.fa-steam-square:before{content:\"\\\\f1b7\"}.fa-500px:before{content:\"\\\\f26e\"}.fa-square-vimeo:before,.fa-vimeo-square:before{content:\"\\\\f194\"}.fa-asymmetrik:before{content:\"\\\\f372\"}.fa-font-awesome-flag:before,.fa-font-awesome-logo-full:before,.fa-font-awesome:before{content:\"\\\\f2b4\"}.fa-gratipay:before{content:\"\\\\f184\"}.fa-apple:before{content:\"\\\\f179\"}.fa-hive:before{content:\"\\\\e07f\"}.fa-gitkraken:before{content:\"\\\\f3a6\"}.fa-keybase:before{content:\"\\\\f4f5\"}.fa-apple-pay:before{content:\"\\\\f415\"}.fa-padlet:before{content:\"\\\\e4a0\"}.fa-amazon-pay:before{content:\"\\\\f42c\"}.fa-github-square:before,.fa-square-github:before{content:\"\\\\f092\"}.fa-stumbleupon:before{content:\"\\\\f1a4\"}.fa-fedex:before{content:\"\\\\f797\"}.fa-phoenix-framework:before{content:\"\\\\f3dc\"}.fa-shopify:before{content:\"\\\\e057\"}.fa-neos:before{content:\"\\\\f612\"}.fa-hackerrank:before{content:\"\\\\f5f7\"}.fa-researchgate:before{content:\"\\\\f4f8\"}.fa-swift:before{content:\"\\\\f8e1\"}.fa-angular:before{content:\"\\\\f420\"}.fa-speakap:before{content:\"\\\\f3f3\"}.fa-angrycreative:before{content:\"\\\\f36e\"}.fa-y-combinator:before{content:\"\\\\f23b\"}.fa-empire:before{content:\"\\\\f1d1\"}.fa-envira:before{content:\"\\\\f299\"}.fa-gitlab-square:before,.fa-square-gitlab:before{content:\"\\\\e5ae\"}.fa-studiovinari:before{content:\"\\\\f3f8\"}.fa-pied-piper:before{content:\"\\\\f2ae\"}.fa-wordpress:before{content:\"\\\\f19a\"}.fa-product-hunt:before{content:\"\\\\f288\"}.fa-firefox:before{content:\"\\\\f269\"}.fa-linode:before{content:\"\\\\f2b8\"}.fa-goodreads:before{content:\"\\\\f3a8\"}.fa-odnoklassniki-square:before,.fa-square-odnoklassniki:before{content:\"\\\\f264\"}.fa-jsfiddle:before{content:\"\\\\f1cc\"}.fa-sith:before{content:\"\\\\f512\"}.fa-themeisle:before{content:\"\\\\f2b2\"}.fa-page4:before{content:\"\\\\f3d7\"}.fa-hashnode:before{content:\"\\\\e499\"}.fa-react:before{content:\"\\\\f41b\"}.fa-cc-paypal:before{content:\"\\\\f1f4\"}.fa-squarespace:before{content:\"\\\\f5be\"}.fa-cc-stripe:before{content:\"\\\\f1f5\"}.fa-creative-commons-share:before{content:\"\\\\f4f2\"}.fa-bitcoin:before{content:\"\\\\f379\"}.fa-keycdn:before{content:\"\\\\f3ba\"}.fa-opera:before{content:\"\\\\f26a\"}.fa-itch-io:before{content:\"\\\\f83a\"}.fa-umbraco:before{content:\"\\\\f8e8\"}.fa-galactic-senate:before{content:\"\\\\f50d\"}.fa-ubuntu:before{content:\"\\\\f7df\"}.fa-draft2digital:before{content:\"\\\\f396\"}.fa-stripe:before{content:\"\\\\f429\"}.fa-houzz:before{content:\"\\\\f27c\"}.fa-gg:before{content:\"\\\\f260\"}.fa-dhl:before{content:\"\\\\f790\"}.fa-pinterest-square:before,.fa-square-pinterest:before{content:\"\\\\f0d3\"}.fa-xing:before{content:\"\\\\f168\"}.fa-blackberry:before{content:\"\\\\f37b\"}.fa-creative-commons-pd:before{content:\"\\\\f4ec\"}.fa-playstation:before{content:\"\\\\f3df\"}.fa-quinscape:before{content:\"\\\\f459\"}.fa-less:before{content:\"\\\\f41d\"}.fa-blogger-b:before{content:\"\\\\f37d\"}.fa-opencart:before{content:\"\\\\f23d\"}.fa-vine:before{content:\"\\\\f1ca\"}.fa-paypal:before{content:\"\\\\f1ed\"}.fa-gitlab:before{content:\"\\\\f296\"}.fa-typo3:before{content:\"\\\\f42b\"}.fa-reddit-alien:before{content:\"\\\\f281\"}.fa-yahoo:before{content:\"\\\\f19e\"}.fa-dailymotion:before{content:\"\\\\e052\"}.fa-affiliatetheme:before{content:\"\\\\f36b\"}.fa-pied-piper-pp:before{content:\"\\\\f1a7\"}.fa-bootstrap:before{content:\"\\\\f836\"}.fa-odnoklassniki:before{content:\"\\\\f263\"}.fa-nfc-symbol:before{content:\"\\\\e531\"}.fa-ethereum:before{content:\"\\\\f42e\"}.fa-speaker-deck:before{content:\"\\\\f83c\"}.fa-creative-commons-nc-eu:before{content:\"\\\\f4e9\"}.fa-patreon:before{content:\"\\\\f3d9\"}.fa-avianex:before{content:\"\\\\f374\"}.fa-ello:before{content:\"\\\\f5f1\"}.fa-gofore:before{content:\"\\\\f3a7\"}.fa-bimobject:before{content:\"\\\\f378\"}.fa-facebook-f:before{content:\"\\\\f39e\"}.fa-google-plus-square:before,.fa-square-google-plus:before{content:\"\\\\f0d4\"}.fa-mandalorian:before{content:\"\\\\f50f\"}.fa-first-order-alt:before{content:\"\\\\f50a\"}.fa-osi:before{content:\"\\\\f41a\"}.fa-google-wallet:before{content:\"\\\\f1ee\"}.fa-d-and-d-beyond:before{content:\"\\\\f6ca\"}.fa-periscope:before{content:\"\\\\f3da\"}.fa-fulcrum:before{content:\"\\\\f50b\"}.fa-cloudscale:before{content:\"\\\\f383\"}.fa-forumbee:before{content:\"\\\\f211\"}.fa-mizuni:before{content:\"\\\\f3cc\"}.fa-schlix:before{content:\"\\\\f3ea\"}.fa-square-xing:before,.fa-xing-square:before{content:\"\\\\f169\"}.fa-bandcamp:before{content:\"\\\\f2d5\"}.fa-wpforms:before{content:\"\\\\f298\"}.fa-cloudversify:before{content:\"\\\\f385\"}.fa-usps:before{content:\"\\\\f7e1\"}.fa-megaport:before{content:\"\\\\f5a3\"}.fa-magento:before{content:\"\\\\f3c4\"}.fa-spotify:before{content:\"\\\\f1bc\"}.fa-optin-monster:before{content:\"\\\\f23c\"}.fa-fly:before{content:\"\\\\f417\"}.fa-aviato:before{content:\"\\\\f421\"}.fa-itunes:before{content:\"\\\\f3b4\"}.fa-cuttlefish:before{content:\"\\\\f38c\"}.fa-blogger:before{content:\"\\\\f37c\"}.fa-flickr:before{content:\"\\\\f16e\"}.fa-viber:before{content:\"\\\\f409\"}.fa-soundcloud:before{content:\"\\\\f1be\"}.fa-digg:before{content:\"\\\\f1a6\"}.fa-tencent-weibo:before{content:\"\\\\f1d5\"}.fa-symfony:before{content:\"\\\\f83d\"}.fa-maxcdn:before{content:\"\\\\f136\"}.fa-etsy:before{content:\"\\\\f2d7\"}.fa-facebook-messenger:before{content:\"\\\\f39f\"}.fa-audible:before{content:\"\\\\f373\"}.fa-think-peaks:before{content:\"\\\\f731\"}.fa-bilibili:before{content:\"\\\\e3d9\"}.fa-erlang:before{content:\"\\\\f39d\"}.fa-cotton-bureau:before{content:\"\\\\f89e\"}.fa-dashcube:before{content:\"\\\\f210\"}.fa-42-group:before,.fa-innosoft:before{content:\"\\\\e080\"}.fa-stack-exchange:before{content:\"\\\\f18d\"}.fa-elementor:before{content:\"\\\\f430\"}.fa-pied-piper-square:before,.fa-square-pied-piper:before{content:\"\\\\e01e\"}.fa-creative-commons-nd:before{content:\"\\\\f4eb\"}.fa-palfed:before{content:\"\\\\f3d8\"}.fa-superpowers:before{content:\"\\\\f2dd\"}.fa-resolving:before{content:\"\\\\f3e7\"}.fa-xbox:before{content:\"\\\\f412\"}.fa-searchengin:before{content:\"\\\\f3eb\"}.fa-tiktok:before{content:\"\\\\e07b\"}.fa-facebook-square:before,.fa-square-facebook:before{content:\"\\\\f082\"}.fa-renren:before{content:\"\\\\f18b\"}.fa-linux:before{content:\"\\\\f17c\"}.fa-glide:before{content:\"\\\\f2a5\"}.fa-linkedin:before{content:\"\\\\f08c\"}.fa-hubspot:before{content:\"\\\\f3b2\"}.fa-deploydog:before{content:\"\\\\f38e\"}.fa-twitch:before{content:\"\\\\f1e8\"}.fa-ravelry:before{content:\"\\\\f2d9\"}.fa-mixer:before{content:\"\\\\e056\"}.fa-lastfm-square:before,.fa-square-lastfm:before{content:\"\\\\f203\"}.fa-vimeo:before{content:\"\\\\f40a\"}.fa-mendeley:before{content:\"\\\\f7b3\"}.fa-uniregistry:before{content:\"\\\\f404\"}.fa-figma:before{content:\"\\\\f799\"}.fa-creative-commons-remix:before{content:\"\\\\f4ee\"}.fa-cc-amazon-pay:before{content:\"\\\\f42d\"}.fa-dropbox:before{content:\"\\\\f16b\"}.fa-instagram:before{content:\"\\\\f16d\"}.fa-cmplid:before{content:\"\\\\e360\"}.fa-facebook:before{content:\"\\\\f09a\"}.fa-gripfire:before{content:\"\\\\f3ac\"}.fa-jedi-order:before{content:\"\\\\f50e\"}.fa-uikit:before{content:\"\\\\f403\"}.fa-fort-awesome-alt:before{content:\"\\\\f3a3\"}.fa-phabricator:before{content:\"\\\\f3db\"}.fa-ussunnah:before{content:\"\\\\f407\"}.fa-earlybirds:before{content:\"\\\\f39a\"}.fa-trade-federation:before{content:\"\\\\f513\"}.fa-autoprefixer:before{content:\"\\\\f41c\"}.fa-whatsapp:before{content:\"\\\\f232\"}.fa-slideshare:before{content:\"\\\\f1e7\"}.fa-google-play:before{content:\"\\\\f3ab\"}.fa-viadeo:before{content:\"\\\\f2a9\"}.fa-line:before{content:\"\\\\f3c0\"}.fa-google-drive:before{content:\"\\\\f3aa\"}.fa-servicestack:before{content:\"\\\\f3ec\"}.fa-simplybuilt:before{content:\"\\\\f215\"}.fa-bitbucket:before{content:\"\\\\f171\"}.fa-imdb:before{content:\"\\\\f2d8\"}.fa-deezer:before{content:\"\\\\e077\"}.fa-raspberry-pi:before{content:\"\\\\f7bb\"}.fa-jira:before{content:\"\\\\f7b1\"}.fa-docker:before{content:\"\\\\f395\"}.fa-screenpal:before{content:\"\\\\e570\"}.fa-bluetooth:before{content:\"\\\\f293\"}.fa-gitter:before{content:\"\\\\f426\"}.fa-d-and-d:before{content:\"\\\\f38d\"}.fa-microblog:before{content:\"\\\\e01a\"}.fa-cc-diners-club:before{content:\"\\\\f24c\"}.fa-gg-circle:before{content:\"\\\\f261\"}.fa-pied-piper-hat:before{content:\"\\\\f4e5\"}.fa-kickstarter-k:before{content:\"\\\\f3bc\"}.fa-yandex:before{content:\"\\\\f413\"}.fa-readme:before{content:\"\\\\f4d5\"}.fa-html5:before{content:\"\\\\f13b\"}.fa-sellsy:before{content:\"\\\\f213\"}.fa-sass:before{content:\"\\\\f41e\"}.fa-wirsindhandwerk:before,.fa-wsh:before{content:\"\\\\e2d0\"}.fa-buromobelexperte:before{content:\"\\\\f37f\"}.fa-salesforce:before{content:\"\\\\f83b\"}.fa-octopus-deploy:before{content:\"\\\\e082\"}.fa-medapps:before{content:\"\\\\f3c6\"}.fa-ns8:before{content:\"\\\\f3d5\"}.fa-pinterest-p:before{content:\"\\\\f231\"}.fa-apper:before{content:\"\\\\f371\"}.fa-fort-awesome:before{content:\"\\\\f286\"}.fa-waze:before{content:\"\\\\f83f\"}.fa-cc-jcb:before{content:\"\\\\f24b\"}.fa-snapchat-ghost:before,.fa-snapchat:before{content:\"\\\\f2ab\"}.fa-fantasy-flight-games:before{content:\"\\\\f6dc\"}.fa-rust:before{content:\"\\\\e07a\"}.fa-wix:before{content:\"\\\\f5cf\"}.fa-behance-square:before,.fa-square-behance:before{content:\"\\\\f1b5\"}.fa-supple:before{content:\"\\\\f3f9\"}.fa-rebel:before{content:\"\\\\f1d0\"}.fa-css3:before{content:\"\\\\f13c\"}.fa-staylinked:before{content:\"\\\\f3f5\"}.fa-kaggle:before{content:\"\\\\f5fa\"}.fa-space-awesome:before{content:\"\\\\e5ac\"}.fa-deviantart:before{content:\"\\\\f1bd\"}.fa-cpanel:before{content:\"\\\\f388\"}.fa-goodreads-g:before{content:\"\\\\f3a9\"}.fa-git-square:before,.fa-square-git:before{content:\"\\\\f1d2\"}.fa-square-tumblr:before,.fa-tumblr-square:before{content:\"\\\\f174\"}.fa-trello:before{content:\"\\\\f181\"}.fa-creative-commons-nc-jp:before{content:\"\\\\f4ea\"}.fa-get-pocket:before{content:\"\\\\f265\"}.fa-perbyte:before{content:\"\\\\e083\"}.fa-grunt:before{content:\"\\\\f3ad\"}.fa-weebly:before{content:\"\\\\f5cc\"}.fa-connectdevelop:before{content:\"\\\\f20e\"}.fa-leanpub:before{content:\"\\\\f212\"}.fa-black-tie:before{content:\"\\\\f27e\"}.fa-themeco:before{content:\"\\\\f5c6\"}.fa-python:before{content:\"\\\\f3e2\"}.fa-android:before{content:\"\\\\f17b\"}.fa-bots:before{content:\"\\\\e340\"}.fa-free-code-camp:before{content:\"\\\\f2c5\"}.fa-hornbill:before{content:\"\\\\f592\"}.fa-js:before{content:\"\\\\f3b8\"}.fa-ideal:before{content:\"\\\\e013\"}.fa-git:before{content:\"\\\\f1d3\"}.fa-dev:before{content:\"\\\\f6cc\"}.fa-sketch:before{content:\"\\\\f7c6\"}.fa-yandex-international:before{content:\"\\\\f414\"}.fa-cc-amex:before{content:\"\\\\f1f3\"}.fa-uber:before{content:\"\\\\f402\"}.fa-github:before{content:\"\\\\f09b\"}.fa-php:before{content:\"\\\\f457\"}.fa-alipay:before{content:\"\\\\f642\"}.fa-youtube:before{content:\"\\\\f167\"}.fa-skyatlas:before{content:\"\\\\f216\"}.fa-firefox-browser:before{content:\"\\\\e007\"}.fa-replyd:before{content:\"\\\\f3e6\"}.fa-suse:before{content:\"\\\\f7d6\"}.fa-jenkins:before{content:\"\\\\f3b6\"}.fa-twitter:before{content:\"\\\\f099\"}.fa-rockrms:before{content:\"\\\\f3e9\"}.fa-pinterest:before{content:\"\\\\f0d2\"}.fa-buffer:before{content:\"\\\\f837\"}.fa-npm:before{content:\"\\\\f3d4\"}.fa-yammer:before{content:\"\\\\f840\"}.fa-btc:before{content:\"\\\\f15a\"}.fa-dribbble:before{content:\"\\\\f17d\"}.fa-stumbleupon-circle:before{content:\"\\\\f1a3\"}.fa-internet-explorer:before{content:\"\\\\f26b\"}.fa-telegram-plane:before,.fa-telegram:before{content:\"\\\\f2c6\"}.fa-old-republic:before{content:\"\\\\f510\"}.fa-square-whatsapp:before,.fa-whatsapp-square:before{content:\"\\\\f40c\"}.fa-node-js:before{content:\"\\\\f3d3\"}.fa-edge-legacy:before{content:\"\\\\e078\"}.fa-slack-hash:before,.fa-slack:before{content:\"\\\\f198\"}.fa-medrt:before{content:\"\\\\f3c8\"}.fa-usb:before{content:\"\\\\f287\"}.fa-tumblr:before{content:\"\\\\f173\"}.fa-vaadin:before{content:\"\\\\f408\"}.fa-quora:before{content:\"\\\\f2c4\"}.fa-reacteurope:before{content:\"\\\\f75d\"}.fa-medium-m:before,.fa-medium:before{content:\"\\\\f23a\"}.fa-amilia:before{content:\"\\\\f36d\"}.fa-mixcloud:before{content:\"\\\\f289\"}.fa-flipboard:before{content:\"\\\\f44d\"}.fa-viacoin:before{content:\"\\\\f237\"}.fa-critical-role:before{content:\"\\\\f6c9\"}.fa-sitrox:before{content:\"\\\\e44a\"}.fa-discourse:before{content:\"\\\\f393\"}.fa-joomla:before{content:\"\\\\f1aa\"}.fa-mastodon:before{content:\"\\\\f4f6\"}.fa-airbnb:before{content:\"\\\\f834\"}.fa-wolf-pack-battalion:before{content:\"\\\\f514\"}.fa-buy-n-large:before{content:\"\\\\f8a6\"}.fa-gulp:before{content:\"\\\\f3ae\"}.fa-creative-commons-sampling-plus:before{content:\"\\\\f4f1\"}.fa-strava:before{content:\"\\\\f428\"}.fa-ember:before{content:\"\\\\f423\"}.fa-canadian-maple-leaf:before{content:\"\\\\f785\"}.fa-teamspeak:before{content:\"\\\\f4f9\"}.fa-pushed:before{content:\"\\\\f3e1\"}.fa-wordpress-simple:before{content:\"\\\\f411\"}.fa-nutritionix:before{content:\"\\\\f3d6\"}.fa-wodu:before{content:\"\\\\e088\"}.fa-google-pay:before{content:\"\\\\e079\"}.fa-intercom:before{content:\"\\\\f7af\"}.fa-zhihu:before{content:\"\\\\f63f\"}.fa-korvue:before{content:\"\\\\f42f\"}.fa-pix:before{content:\"\\\\e43a\"}.fa-steam-symbol:before{content:\"\\\\f3f6\"}:host,:root{--fa-font-regular:normal 400 1em/1 \"Font Awesome 6 Free\"}@font-face{font-family:\"Font Awesome 6 Free\";font-style:normal;font-weight:400;font-display:block;src:url(https://ka-f.fontawesome.com/releases/v6.2.0/webfonts/free-fa-regular-400.woff2) format(\"woff2\"),url(https://ka-f.fontawesome.com/releases/v6.2.0/webfonts/free-fa-regular-400.ttf) format(\"truetype\")}@font-face{font-family:\"Font Awesome 6 Pro\";font-style:normal;font-weight:400;font-display:block;src:url(https://ka-f.fontawesome.com/releases/v6.2.0/webfonts/free-fa-regular-400.woff2) format(\"woff2\"),url(https://ka-f.fontawesome.com/releases/v6.2.0/webfonts/free-fa-regular-400.ttf) format(\"truetype\")}.fa-regular,.far{font-weight:400}:host,:root{--fa-style-family-classic:\"Font Awesome 6 Free\";--fa-font-solid:normal 900 1em/1 \"Font Awesome 6 Free\"}@font-face{font-family:\"Font Awesome 6 Free\";font-style:normal;font-weight:900;font-display:block;src:url(https://ka-f.fontawesome.com/releases/v6.2.0/webfonts/free-fa-solid-900.woff2) format(\"woff2\"),url(https://ka-f.fontawesome.com/releases/v6.2.0/webfonts/free-fa-solid-900.ttf) format(\"truetype\")}@font-face{font-family:\"Font Awesome 6 Pro\";font-style:normal;font-weight:900;font-display:block;src:url(https://ka-f.fontawesome.com/releases/v6.2.0/webfonts/free-fa-solid-900.woff2) format(\"woff2\"),url(https://ka-f.fontawesome.com/releases/v6.2.0/webfonts/free-fa-solid-900.ttf) format(\"truetype\")}.fa-solid,.fas{font-weight:900}@font-face{font-family:\"Font Awesome 5 Brands\";font-display:block;font-weight:400;src:url(https://ka-f.fontawesome.com/releases/v6.2.0/webfonts/free-fa-brands-400.woff2) format(\"woff2\"),url(https://ka-f.fontawesome.com/releases/v6.2.0/webfonts/free-fa-brands-400.ttf) format(\"truetype\")}@font-face{font-family:\"Font Awesome 5 Free\";font-display:block;font-weight:900;src:url(https://ka-f.fontawesome.com/releases/v6.2.0/webfonts/free-fa-solid-900.woff2) format(\"woff2\"),url(https://ka-f.fontawesome.com/releases/v6.2.0/webfonts/free-fa-solid-900.ttf) format(\"truetype\")}@font-face{font-family:\"Font Awesome 5 Free\";font-display:block;font-weight:400;src:url(https://ka-f.fontawesome.com/releases/v6.2.0/webfonts/free-fa-regular-400.woff2) format(\"woff2\"),url(https://ka-f.fontawesome.com/releases/v6.2.0/webfonts/free-fa-regular-400.ttf) format(\"truetype\")}@font-face{font-family:\"FontAwesome\";font-display:block;src:url(https://ka-f.fontawesome.com/releases/v6.2.0/webfonts/free-fa-solid-900.woff2) format(\"woff2\"),url(https://ka-f.fontawesome.com/releases/v6.2.0/webfonts/free-fa-solid-900.ttf) format(\"truetype\")}@font-face{font-family:\"FontAwesome\";font-display:block;src:url(https://ka-f.fontawesome.com/releases/v6.2.0/webfonts/free-fa-brands-400.woff2) format(\"woff2\"),url(https://ka-f.fontawesome.com/releases/v6.2.0/webfonts/free-fa-brands-400.ttf) format(\"truetype\")}@font-face{font-family:\"FontAwesome\";font-display:block;src:url(https://ka-f.fontawesome.com/releases/v6.2.0/webfonts/free-fa-regular-400.woff2) format(\"woff2\"),url(https://ka-f.fontawesome.com/releases/v6.2.0/webfonts/free-fa-regular-400.ttf) format(\"truetype\");unicode-range:u+f003,u+f006,u+f014,u+f016-f017,u+f01a-f01b,u+f01d,u+f022,u+f03e,u+f044,u+f046,u+f05c-f05d,u+f06e,u+f070,u+f087-f088,u+f08a,u+f094,u+f096-f097,u+f09d,u+f0a0,u+f0a2,u+f0a4-f0a7,u+f0c5,u+f0c7,u+f0e5-f0e6,u+f0eb,u+f0f6-f0f8,u+f10c,u+f114-f115,u+f118-f11a,u+f11c-f11d,u+f133,u+f147,u+f14e,u+f150-f152,u+f185-f186,u+f18e,u+f190-f192,u+f196,u+f1c1-f1c9,u+f1d9,u+f1db,u+f1e3,u+f1ea,u+f1f7,u+f1f9,u+f20a,u+f247-f248,u+f24a,u+f24d,u+f255-f25b,u+f25d,u+f271-f274,u+f278,u+f27b,u+f28c,u+f28e,u+f29c,u+f2b5,u+f2b7,u+f2ba,u+f2bc,u+f2be,u+f2c0-f2c1,u+f2c3,u+f2d0,u+f2d2,u+f2d4,u+f2dc}@font-face{font-family:\"FontAwesome\";font-display:block;src:url(https://ka-f.fontawesome.com/releases/v6.2.0/webfonts/free-fa-v4compatibility.woff2) format(\"woff2\"),url(https://ka-f.fontawesome.com/releases/v6.2.0/webfonts/free-fa-v4compatibility.ttf) format(\"truetype\");unicode-range:u+f041,u+f047,u+f065-f066,u+f07d-f07e,u+f080,u+f08b,u+f08e,u+f090,u+f09a,u+f0ac,u+f0ae,u+f0b2,u+f0d0,u+f0d6,u+f0e4,u+f0ec,u+f10a-f10b,u+f123,u+f13e,u+f148-f149,u+f14c,u+f156,u+f15e,u+f160-f161,u+f163,u+f175-f178,u+f195,u+f1f8,u+f219,u+f27a}</style>\\n    <script src=\"https://unpkg.com/@popperjs/core@2\"></script>\\n    <link rel=\"stylesheet\" href=\"/css/site.css?v=hZzsqta6fXD0wLngAVVO3CniwKpmWO4rDJbt-fQuKiQ\">\\n\\t<link rel=\"stylesheet\" href=\"/css/blog.css?v=feen4EV8Re6Pl18GUJNdwL2E2pvfgu1TZsqD7yMXyuM\">\\n\\t<link rel=\"stylesheet\" href=\"/css/owl.carousel.css?v=qvCL5q5O0hEpOm1CgOLQUuHzMusAZqDcAZL9ijqfOdI\">\\n\\t<link rel=\"stylesheet\" href=\"/css/owl.theme.default.min.css?v=kksNxjDRxd_5-jGurZUJd1sdR2v-ClrCl3svESBaJqw\">\\n    <link rel=\"stylesheet\" href=\"/css/fancybox.css?v=7gMVmh7i2Xmo99mvvfnSn9dZfunTii7j4yPdmTAMUR0\">\\n    <link rel=\"icon\" type=\"image/x-icon\" href=\"/favicon.ico\">\\n    <!-- Google tag (gtag.js) -->\\n    <script async=\"\" src=\"https://www.googletagmanager.com/gtag/js?id=G-EV2Z9RHBY2\"></script>\\n    <script>\\n        window.dataLayer = window.dataLayer || [];\\n        function gtag() { dataLayer.push(arguments); }\\n        gtag(\\'js\\', new Date());\\n        gtag(\\'config\\', \\'UA-7930188-3\\');\\n        gtag(\\'config\\', \\'G-EV2Z9RHBY2\\');\\n    </script>\\n</head>\\n<body>\\n\\n<header class=\"blog-header\" style=\"padding:0 0 0px 0;\">\\n\\t<div class=\"container\">\\n\\t<div class=\"row desktop-header\">\\n        <div class=\"col-3 col-sm-12 col-md-3\"><a href=\"/\"><img class=\"img-fluid main-logo\" src=\"/images/logo_2.jpg\" alt=\"\"></a></div>\\n\\t\\t<div class=\"col-9 col-sm-12 col-md-9\" style=\"background:url(/images/building8.jpg) 15px 0 no-repeat; min-height:166px;\"></div>\\n\\t</div>\\n\\t<div class=\"row mobile-header\">\\n\\t\\t<div class=\"col-12\"><a href=\"/\"><img style=\"margin-top:5px;\" class=\"img-fluid\" src=\"/images/logo_2.jpg\" alt=\"\"></a></div>\\n\\t</div>\\n\\t</div>\\n</header>\\n\\n    <nav class=\"navbar navbar-expand-lg navbar-dark sticky-top bg-dark\">\\n        <div class=\"container row wide\" style=\"margin:0 auto !important;\">\\n\\n            <!-- <a class=\"navbar-brand\" href=\"#\">Container XL</a> -->\\n\\n            <div class=\"collapse navbar-collapse col-lg-9 col-xl-9 order-2 order-sm-2 order-md-2 order-lg-1 order-xl-1\" id=\"navbarsExample07XL\">\\n                \\n\\n      <ul class=\"navbar-nav mr-auto\">\\n            <li class=\"nav-item\">\\n              <a class=\"nav-link\" href=\"https://www.bgshop.ru\">Интернет-магазин</a>\\n            </li>\\n            <li class=\"nav-item\">\\n              <a class=\"nav-link\" href=\"/article/7\">Поставщикам</a>\\n            </li>\\n            <li class=\"nav-item\">\\n              <a class=\"nav-link\" href=\"/article/1\">О компании</a>\\n            </li>\\n            <li class=\"nav-item\">\\n              <a class=\"nav-link\" href=\"/article/9\">Библио-Глобус в Челябинске</a>\\n            </li>\\n           \\n\\t\\t<!--\\n\\t\\t<li class=\"nav-item dropdown\">\\n          <a class=\"nav-link dropdown-toggle\" href=\"#\" id=\"dropdown07XL\" data-toggle=\"dropdown\" aria-expanded=\"false\">Dropdown</a>\\n          <div class=\"dropdown-menu\" aria-labelledby=\"dropdown07XL\">\\n            <a class=\"dropdown-item\" href=\"#\">Action</a>\\n            <a class=\"dropdown-item\" href=\"#\">Another action</a>\\n            <a class=\"dropdown-item\" href=\"#\">Something else here</a>\\n          </div>\\n        </li>\\n\\t\\t-->\\n\\t\\t\\n      </ul>\\n   \\n                \\n\\n\\n<ul class=\"navbar-nav mr-auto mobile-nav\"> \\n\\n    <li class=\"nav-item dropdown mobile-nav\"> \\n        <a class=\"nav-link dropdown-toggle\" href=\"#\" id=\"dropdown08XL\" data-toggle=\"dropdown\" aria-expanded=\"false\">Информация</a>\\n        <div class=\"dropdown-menu\" aria-labelledby=\"dropdown08XL\">\\n                    <a class=\"dropdown-item\" href=\"/events\"><span class=\"fa-li\"><i class=\"fas fa-angle-right\" aria-hidden=\"true\"></i></span>&nbsp;Литературная афиша</a>\\n                    <a class=\"dropdown-item\" href=\"/article/4\"><span class=\"fa-li\"><i class=\"fas fa-angle-right\" aria-hidden=\"true\"></i></span>&nbsp;Литературная гостиная<br>им.&nbsp;И.Д.&nbsp;Сытина (клубные встречи)</a>\\n                    <a class=\"dropdown-item\" href=\"/news\"><span class=\"fa-li\"><i class=\"fas fa-angle-right\" aria-hidden=\"true\"></i></span>&nbsp;Библио-новости</a>\\n                    <a class=\"dropdown-item\" href=\"http://digest.biblio-globus.ru\"><span class=\"fa-li\"><i class=\"fas fa-angle-right\" aria-hidden=\"true\"></i></span>&nbsp;Книжный дайджест</a>\\n                    <a class=\"dropdown-item\" href=\"/article/8\"><span class=\"fa-li\"><i class=\"fas fa-angle-right\" aria-hidden=\"true\"></i></span>&nbsp;Активация клубной (дисконтной) карты</a>\\n                    <a class=\"dropdown-item\" href=\"/article/10\"><span class=\"fa-li\"><i class=\"fas fa-angle-right\" aria-hidden=\"true\"></i></span>&nbsp;Подарочная карта</a>\\n                    <a class=\"dropdown-item\" href=\"http://www.biblio-globus.ru/profile\"><span class=\"fa-li\"><i class=\"fas fa-angle-right\" aria-hidden=\"true\"></i></span>&nbsp;Личный кабинет</a>\\n                    <a class=\"dropdown-item\" href=\"http://service.biblio-globus.ru/librariancabinet/\"><span class=\"fa-li\"><i class=\"fas fa-angle-right\" aria-hidden=\"true\"></i></span>&nbsp;Кабинет юридического лица</a>\\n                    <a class=\"dropdown-item\" href=\"/article/6\"><span class=\"fa-li\"><i class=\"fas fa-angle-right\" aria-hidden=\"true\"></i></span>&nbsp;Персональное<br>и корпоративное обслуживание</a>\\n                    <a class=\"dropdown-item\" href=\"/article/5\"><span class=\"fa-li\"><i class=\"fas fa-angle-right\" aria-hidden=\"true\"></i></span>&nbsp;Ваши мероприятия у нас</a>\\n         </div>\\n    </li>\\n\\n    <li class=\"nav-item dropdown mobile-nav\"> \\n        <a class=\"nav-link dropdown-toggle\" href=\"#\" id=\"dropdown08XL\" data-toggle=\"dropdown\" aria-expanded=\"false\">Каталог</a>\\n        <div class=\"dropdown-menu\" aria-labelledby=\"dropdown08XL\">\\n                    <a class=\"dropdown-item\" href=\"/catalog\"><span class=\"fa-li\"><i class=\"fas fa-angle-right\" aria-hidden=\"true\"></i></span>&nbsp;Книги</a>\\n                    <a class=\"dropdown-item\" href=\"/search?id=7\"><span class=\"fa-li\"><i class=\"fas fa-angle-right\" aria-hidden=\"true\"></i></span>&nbsp;Аудиокниги</a>\\n                    <a class=\"dropdown-item\" href=\"/article/11\"><span class=\"fa-li\"><i class=\"fas fa-angle-right\" aria-hidden=\"true\"></i></span>&nbsp;Антиквариат и коллекционирование</a>\\n         </div>\\n    </li>\\n\\n            <li class=\"nav-item dropdown mobile-nav\"> \\n                <a class=\"nav-link dropdown-toggle\" href=\"#\" id=\"dropdown07XL\" data-toggle=\"dropdown\" aria-expanded=\"false\">Маркет</a>\\n                <div class=\"dropdown-menu\" aria-labelledby=\"dropdown07XL\">\\n                            <a class=\"dropdown-item\" href=\"/search?id=8\"><span class=\"fa-li\"><i class=\"fas fa-angle-right\" aria-hidden=\"true\"></i></span>&nbsp;Канцелярские и офисные товары</a>\\n                            <a class=\"dropdown-item\" href=\"/search?id=9\"><span class=\"fa-li\"><i class=\"fas fa-angle-right\" aria-hidden=\"true\"></i></span>&nbsp;Флористика и товары для дома</a>\\n                            <a class=\"dropdown-item\" href=\"/search?id=5\"><span class=\"fa-li\"><i class=\"fas fa-angle-right\" aria-hidden=\"true\"></i></span>&nbsp;LA CORVETTE. Марсельское мыло и косметика</a>\\n                            <a class=\"dropdown-item\" href=\"/search?id=1\"><span class=\"fa-li\"><i class=\"fas fa-angle-right\" aria-hidden=\"true\"></i></span>&nbsp;Товары из Японии и Кореи</a>\\n                            <a class=\"dropdown-item\" href=\"/search?id=12\"><span class=\"fa-li\"><i class=\"fas fa-angle-right\" aria-hidden=\"true\"></i></span>&nbsp;Здоровье и гигиена</a>\\n                            <a class=\"dropdown-item\" href=\"/search?id=6\"><span class=\"fa-li\"><i class=\"fas fa-angle-right\" aria-hidden=\"true\"></i></span>&nbsp;Товары для дома</a>\\n                            <a class=\"dropdown-item\" href=\"/search?id=13\"><span class=\"fa-li\"><i class=\"fas fa-angle-right\" aria-hidden=\"true\"></i></span>&nbsp;Кофе</a>\\n                            <a class=\"dropdown-item\" href=\"/search?id=11\"><span class=\"fa-li\"><i class=\"fas fa-angle-right\" aria-hidden=\"true\"></i></span>&nbsp;Чай</a>\\n                            <a class=\"dropdown-item\" href=\"/search?id=4\"><span class=\"fa-li\"><i class=\"fas fa-angle-right\" aria-hidden=\"true\"></i></span>&nbsp;Шоколад</a>\\n                            <a class=\"dropdown-item\" href=\"/search?id=10\"><span class=\"fa-li\"><i class=\"fas fa-angle-right\" aria-hidden=\"true\"></i></span>&nbsp;Вода</a>\\n                </div>\\n            </li>\\n\\n</ul> \\n            </div>\\n            <div class=\"col-sm-12 col-md-12 col-lg-3 col-xl-3 order-1 order-sm-1 order-md-1 order-lg-2 order-xl-2 wide search-form\">\\n                \\n\\n\\n<form method=\"get\" class=\"form-row\" action=\"/search\">\\n    <div class=\"col-2 col-sm-2 col-md-2 d-lg-none d-xl-none\">\\n        <button class=\"navbar-toggler btn-sm navbar-toggler-btn\" type=\"button\" data-toggle=\"collapse\" data-target=\"#navbarsExample07XL\" aria-controls=\"navbarsExample07XL\" aria-expanded=\"false\" aria-label=\"Toggle navigation\">\\n            <i class=\"fa-solid fa-bars\"></i>\\n        </button>\\n    </div>\\n    <div class=\"col-10 col-sm-10 col-md-10 col-lg-12 col-xl-12\">\\n        <span role=\"status\" aria-live=\"polite\" class=\"ui-helper-hidden-accessible\"></span>\\n        <input type=\"text\" id=\"search-text\" name=\"q\" placeholder=\"Поиск\" role=\"searchbox\" class=\"InputBox\" autocomplete=\"off\">\\n        <button type=\"submit\" id=\"search-btn\" class=\"Button\"><i class=\"fa-solid fa-magnifying-glass\"></i></button>\\n        <!-- <input name=\"q\" class=\"form-control form-control-sm nav-search my-2\" type=\"text\" placeholder=\"Поиск\" aria-label=\"Поиск\" /> -->\\n    </div>\\n    <!--\\n    <div class=\"col-2\">\\n        <button class=\"btn btn-sm btn-primary my-2\" type=\"submit\"><i class=\"fa-solid fa-magnifying-glass\"></i></button>\\n    </div>-->\\n</form>\\n\\n<!--\\n<form asp-controller=\"Catalog\" asp-action=\"SearchProducts\" class=\"form-inline mt-2 mt-md-0 search_form\" method=\"get\">\\n    <input class=\"form-control mr-sm-2 search\" style=\"color:#444 !important;\" type=\"text\" placeholder=\"Найти\" name=\"q\" aria-label=\"Search\">\\n    <button class=\"btn btn-outline-secondary btn-sm\" type=\"submit\"><i class=\"fas fa-search\"></i></button>\\n</form>-->\\n\\n<!--\\n<form asp-action=\"SearchProducts\" method=\"get\"  class=\"form-inline my-2 my-md-0\">\\n    <input class=\"form-control form-control-sm nav-search\" type=\"text\" placeholder=\"Поиск\" aria-label=\"Поиск\">\\n</form>\\n\\n<form asp-controller=\"Catalog\" asp-action=\"SearchProducts\" method=\"get\" class=\"form-inline my-2 my-md-0\">\\n    <input name=\"q\" class=\"form-control form-control-sm nav-search\" type=\"text\" placeholder=\"Поиск\" aria-label=\"Поиск\" />\\n    <button class=\"btn btn-sm btn-primary my-2 my-sm-0\" type=\"submit\"><i class=\"fa-solid fa-magnifying-glass\"></i></button>\\n</form>\\n-->\\n\\n            </div>\\n        </div>\\n    </nav>\\n  \\n<div class=\"container\" style=\"margin-top:15px;\">\\n\\n</div>\\n\\n<main role=\"main\" class=\"container\">\\n  <div class=\"row\">  \\n    <aside class=\"col-sm-12 col-md-12 col-lg-3 blog-sidebar\">\\n\\n    \\n\\n\\t<div class=\"p-4 mb-3 bg-light rounded\">\\n        <h4 style=\"color:#3a83bf; font-size:1.1rem;\">Информация</h4>\\n        <ol class=\"list-unstyled mb-0\">  \\n\\t<li><a style=\"color:#666666;\" href=\"/events\"><span class=\"fa-li\"><i style=\"color:#aeaeae;\" class=\"fas fa-angle-right\" aria-hidden=\"true\"></i></span>Литературная афиша</a></li>\\n\\t<li><a style=\"color:#666666;\" href=\"/article/4\"><span class=\"fa-li\"><i style=\"color:#aeaeae;\" class=\"fas fa-angle-right\" aria-hidden=\"true\"></i></span>Литературная гостиная<br>им.&nbsp;И.Д.&nbsp;Сытина (клубные встречи)</a></li>\\n\\t<li><a style=\"color:#666666;\" href=\"/news\"><span class=\"fa-li\"><i style=\"color:#aeaeae;\" class=\"fas fa-angle-right\" aria-hidden=\"true\"></i></span>Библио-новости</a></li>\\n\\t<li><a style=\"color:#666666;\" href=\"http://digest.biblio-globus.ru\"><span class=\"fa-li\"><i style=\"color:#aeaeae;\" class=\"fas fa-angle-right\" aria-hidden=\"true\"></i></span>Книжный дайджест</a></li>\\n\\t<li><a style=\"color:#666666;\" href=\"/article/8\"><span class=\"fa-li\"><i style=\"color:#aeaeae;\" class=\"fas fa-angle-right\" aria-hidden=\"true\"></i></span>Активация клубной (дисконтной) карты</a></li>\\n\\t<li><a style=\"color:#666666;\" href=\"/article/10\"><span class=\"fa-li\"><i style=\"color:#aeaeae;\" class=\"fas fa-angle-right\" aria-hidden=\"true\"></i></span>Подарочная карта</a></li>\\n\\t<li><a style=\"color:#666666;\" href=\"http://www.biblio-globus.ru/profile\"><span class=\"fa-li\"><i style=\"color:#aeaeae;\" class=\"fas fa-angle-right\" aria-hidden=\"true\"></i></span>Личный кабинет</a></li>\\n\\t<li><a style=\"color:#666666;\" href=\"http://service.biblio-globus.ru/librariancabinet/\"><span class=\"fa-li\"><i style=\"color:#aeaeae;\" class=\"fas fa-angle-right\" aria-hidden=\"true\"></i></span>Кабинет юридического лица</a></li>\\n\\t<li><a style=\"color:#666666;\" href=\"/article/6\"><span class=\"fa-li\"><i style=\"color:#aeaeae;\" class=\"fas fa-angle-right\" aria-hidden=\"true\"></i></span>Персональное<br>и корпоративное обслуживание</a></li>\\n\\t<li><a style=\"color:#666666;\" href=\"/article/5\"><span class=\"fa-li\"><i style=\"color:#aeaeae;\" class=\"fas fa-angle-right\" aria-hidden=\"true\"></i></span>Ваши мероприятия у нас</a></li>\\n</ol>\\n  </div>\\n    \\n\\n\\t<div class=\"p-4 mb-3 bg-light rounded\">\\n        <h4 style=\"color:#3a83bf; font-size:1.1rem;\">Каталог</h4>\\n        <ol class=\"list-unstyled mb-0\"> \\n        \\n\\n\\t        <li>\\n                <a style=\"color:#666666;\" href=\"/catalog\"><span class=\"fa-li\"><i style=\"color:#aeaeae;\" class=\"fas fa-angle-right\" aria-hidden=\"true\"></i></span>Книги</a>\\n            </li>\\n\\t        <li>\\n                <a style=\"color:#666666;\" href=\"/search?id=7\"><span class=\"fa-li\"><i style=\"color:#aeaeae;\" class=\"fas fa-angle-right\" aria-hidden=\"true\"></i></span>Аудиокниги</a>\\n            </li>\\n\\t        <li>\\n                <a style=\"color:#666666;\" href=\"/article/11\"><span class=\"fa-li\"><i style=\"color:#aeaeae;\" class=\"fas fa-angle-right\" aria-hidden=\"true\"></i></span>Антиквариат и коллекционирование</a>\\n            </li>\\n\\t        <li>\\n                <a style=\"color:#666666;\" href=\"\"><span class=\"fa-li\"><i style=\"color:#aeaeae;\" class=\"fas fa-angle-right\" aria-hidden=\"true\"></i></span>Маркет</a>\\n                    <ul>\\n\\t\\t                    <li><a style=\"color:#666666;\" href=\"/search?id=8\">Канцелярские и офисные товары</a></li>\\n\\t\\t                    <li><a style=\"color:#666666;\" href=\"/search?id=9\">Флористика и товары для дома</a></li>\\n\\t\\t                    <li><a style=\"color:#666666;\" href=\"/search?id=5\">LA CORVETTE. Марсельское мыло и косметика</a></li>\\n\\t\\t                    <li><a style=\"color:#666666;\" href=\"/search?id=1\">Товары из Японии и Кореи</a></li>\\n\\t\\t                    <li><a style=\"color:#666666;\" href=\"/search?id=12\">Здоровье и гигиена</a></li>\\n\\t\\t                    <li><a style=\"color:#666666;\" href=\"/search?id=6\">Товары для дома</a></li>\\n\\t\\t                    <li><a style=\"color:#666666;\" href=\"/search?id=13\">Кофе</a></li>\\n\\t\\t                    <li><a style=\"color:#666666;\" href=\"/search?id=11\">Чай</a></li>\\n\\t\\t                    <li><a style=\"color:#666666;\" href=\"/search?id=4\">Шоколад</a></li>\\n\\t\\t                    <li><a style=\"color:#666666;\" href=\"/search?id=10\">Вода</a></li>\\n                    </ul>\\n            </li>\\n        </ol>\\n    </div>\\n\\n\\n    <div class=\"p-4 mb-3 bg-light rounded\">\\t\\t\\t\\t\\n    <h4 style=\"color:#3a83bf; font-size:1.1rem;\">Мы в соцсетях</h4>\\n        <ol class=\"list-unstyled mb-0\">\\n            <li><a style=\"color:#666666;\" href=\"http://vk.com/biblioglobus_msk\" target=\"_blank\"><span class=\"fa-li\"><i style=\"color:#007bff;\" class=\"fa-brands fa-vk\"></i></span>мы в Вконтакте</a></li>\\n            <li><a style=\"color:#666666;\" href=\"http://twitter.com/Biblio_Globus/\" target=\"_blank\"><span class=\"fa-li\"><i style=\"color:#33ccff;\" class=\"fa-brands fa-twitter-square\"></i></span>мы в Twitter</a></li>\\n            <li><a style=\"color:#666666;\" href=\"https://ok.ru/group/55673286951161\" target=\"_blank\"><span class=\"fa-li\"><i style=\"color:#f7931e;\" class=\"fa-brands fa-odnoklassniki-square\"></i></span>мы в Одноклассниках</a></li>\\n            <li><a style=\"color:#666666;\" href=\"http://www.youtube.com/user/BiblioGlobusStore/\" target=\"_blank\"><span class=\"fa-li\"><i style=\"color:red;\" class=\"fa-brands fa-youtube\"></i></span>мы в YouTube</a></li>\\n            <li><a style=\"color:#666666;\" href=\"https://t.me/biblioglobus_1\" target=\"_blank\"><span class=\"fa-li\"><i style=\"color:#2e87ca;\" class=\"fa-brands fa-telegram\"></i></span>мы в Telegram</a></li>\\n        </ol>\\t\\n    </div>\\n\\n\\n    </aside>\\n  \\n  <div class=\"col-sm-12 col-md-12 col-lg-9  blog-main\">\\n\\n    \\n\\n<!--\\n<form asp-action=\"SearchProducts\" method=\"get\">\\n    <input asp-for=\"q\" class=\"search-text\" />\\n    <button type=\"submit\" class=\"button-1 search-button\">Поиск</button>\\n</form>\\n-->\\n\\n\\n<nav aria-label=\"breadcrumb\">\\n  <ol class=\"breadcrumb\">\\n    <li class=\"breadcrumb-item\"><a href=\"/\">Главная</a></li>\\n    <li class=\"breadcrumb-item active\" aria-current=\"page\">Каталог</li>\\n  </ol>\\n</nav>\\n\\n\\t<div class=\"col-sm-12 col-md-12 col-lg-12 wide\">\\n\\t\\t<div class=\"row justify-content-center\">\\n\\t\\t  <div class=\"col-12 text-left\">\\n\\t\\t\\t<h1>Результаты поиска по запросу «Python»: </h1>\\n\\t\\t  </div>\\n\\t\\t</div>\\n\\t\\t<div class=\"row row-cols-2 row-cols-sm-2 row-cols-md-3  row-cols-lg-4 row-cols-xl-4\">\\n\\t\\t\\t\\t<div class=\"col mb-4\">\\n\\t\\t\\t\\t\\t<div class=\"card h-100\">\\n\\n\\t\\t\\t\\t\\t\\t<a href=\"/product/10727655\" style=\"display: flex; padding:10px 0; align-items:center; text-align:center; background:#f7f7f7; overflow:hidden; min-height:240px; max-height:240px; vertical-align:middle;\" class=\"rounded\">\\n\\t\\t\\t\\t\\t\\t\\t<img style=\"max-height:220px; mix-blend-mode: multiply; margin:0px auto; border-radius:4px;\" src=\"https://static.biblio-globus.ru/images/ImageHandler.ashx?fileName=10727655.jpg&amp;width=260\" class=\"img-fluid\" alt=\"...\">\\n\\t\\t\\t\\t\\t\\t</a>\\n\\n\\t\\t\\t\\t\\t\\t<div class=\"card-body\" style=\"padding-left:0; padding-right:0;\">\\n\\t\\t\\t\\t\\t\\t\\t<div style=\"text-align:left; font-family:\\'Gilroy-Extrabold\\'; font-size:1.2rem;\">\\n\\t\\t\\t\\t\\t\\t\\t\\t559&nbsp;₽\\n\\n\\n\\n\\t\\t\\t\\t\\t\\t\\t</div>\\n\\n\\t\\t\\t\\t\\t\\t\\t<div class=\"card-title\" style=\"font-size:.92rem; line-height:1.2; margin-top:.3rem;\"><a style=\"color:#444;\" href=\"/product/10727655\">Компьютерное зрение на Python. Первые шаги</a></div>\\n\\n\\t\\t\\t\\t\\t\\t\\t<p class=\"card-text\" style=\"color:#555;\">В книге изложен учебный курс для школьников, начинающих изучать компьютерное ...</p>\\n\\t\\t\\t\\t\\t\\t</div>\\n\\n\\n\\t\\t\\t\\t\\t\\t<!--\\n\\t\\t\\t\\t\\t\\t<div class=\"row\">\\n\\t\\t\\t\\t\\t\\t\\t<div class=\"col-9\">\\n\\t\\t\\t\\t\\t\\t\\t<a href=\"#\" class=\"btn-sm btn-primary btn-order\">Оформить заказ</a>\\n\\t\\t\\t\\t\\t\\t\\t</div>\\n\\t\\t\\t\\t\\t\\t\\t<div class=\"col-3\">\\n\\t\\t\\t\\t\\t\\t\\t<a href=\"#\" class=\"btn-sm btn-primary btn-order\"><i class=\"fa-solid fa-bookmark\"></i></a>\\n\\t\\t\\t\\t\\t\\t\\t</div>\\n\\t\\t\\t\\t\\t\\t</div>\\n\\t\\t\\t\\t\\t\\t-->\\n\\n\\t\\t\\t\\t\\t</div>\\n\\n\\t\\t\\t\\t</div>\\n\\t\\t\\t\\t<!--\\n\\t\\t\\t\\t<div class=\"media position-relative p_list_elem_2\">\\n\\t\\t\\t\\t\\t<a href=\"/product/10727655\"><img style=\"max-height:180px; border-radius:4px; -webkit-box-shadow: 0 10px 6px -6px #777;-moz-box-shadow: 0 10px 6px -6px #777;\\n\\t\\t\\t\\t\\tbox-shadow: 0 10px 6px -6px #777;\" src=\"https://static.biblio-globus.ru/images/ImageHandler.ashx?fileName=10727655.jpg&width=120\" class=\"mr-3\" alt=\"...\"></a>\\n\\t\\t\\t\\t\\t<div class=\"media-body p_list_descr_1\">\\n\\t\\t\\t\\t\\t\\t<div class=\"row\">\\n\\t\\t\\t\\t\\t\\t\\t<div class=\"col-sm-12 col-md-12 col-lg-9\">\\n\\t\\t\\t\\t\\t\\t\\t\\t<span class=\"badge bg-danger\" style=\"font-family:Arial; font-size:.75rem; color:#fff; font-weight:normal; margin-bottom:.85rem;\">Новинка</span>\\n\\n\\t\\t\\t\\t\\t\\t\\t\\t<span>Э. Д. Шакирьянов </span>\\n\\t\\t\\t\\t\\t\\t\\t\\t<h5 class=\"mt-0\"><a href=\"/product/10727655\">Компьютерное зрение на Python. Первые шаги</a></h5>\\n\\t\\t\\t\\t\\t\\t\\t\\t<p>ISBN: 978-5-00101-318-1 <span style=\"padding:3px 5px;\">&bull;</span> 160&nbsp;стр. <span style=\"padding:3px 5px;\">&bull;</span> </p>\\n\\n\\t\\t\\t\\t\\t\\t\\t\\t<p>В книге изложен учебный курс для школьников, начинающих изучать компьютерное зрение с языком программирования Python и библиотекой OpenCV. Описаны особенности установки языка Py...</p>\\n\\t\\t\\t\\t\\t\\t\\t\\t<a style=\"display:none;\" href=\"#\" class=\"stretched-link p_list_link\"><i class=\"fas fa-book-open\"></i>&nbsp; Подробнее</a>\\n\\t\\t\\t\\t\\t\\t\\t</div>\\n\\t\\t\\t\\t\\t\\t\\t<div class=\"col-sm-12 col-md-12 col-lg-3\">\\n\\t\\t\\t\\t559&nbsp;&#8381;\\n\\t\\t\\t\\t\\t\\t\\t</div>\\n\\t\\t\\t\\t\\t\\t</div>\\n\\t\\t\\t\\t\\t</div>\\n\\t\\t\\t\\t</div> -->\\n\\t\\t\\t\\t<div class=\"col mb-4\">\\n\\t\\t\\t\\t\\t<div class=\"card h-100\">\\n\\n\\t\\t\\t\\t\\t\\t<a href=\"/product/10483871\" style=\"display: flex; padding:10px 0; align-items:center; text-align:center; background:#f7f7f7; overflow:hidden; min-height:240px; max-height:240px; vertical-align:middle;\" class=\"rounded\">\\n\\t\\t\\t\\t\\t\\t\\t<img style=\"max-height:220px; mix-blend-mode: multiply; margin:0px auto; border-radius:4px;\" src=\"https://static.biblio-globus.ru/images/ImageHandler.ashx?fileName=10483871.jpg&amp;width=260\" class=\"img-fluid\" alt=\"...\">\\n\\t\\t\\t\\t\\t\\t</a>\\n\\n\\t\\t\\t\\t\\t\\t<div class=\"card-body\" style=\"padding-left:0; padding-right:0;\">\\n\\t\\t\\t\\t\\t\\t\\t<div style=\"text-align:left; font-family:\\'Gilroy-Extrabold\\'; font-size:1.2rem;\">\\n\\t\\t\\t\\t\\t\\t\\t\\t1739&nbsp;₽\\n\\n\\n\\n\\t\\t\\t\\t\\t\\t\\t</div>\\n\\n\\t\\t\\t\\t\\t\\t\\t<div class=\"card-title\" style=\"font-size:.92rem; line-height:1.2; margin-top:.3rem;\"><a style=\"color:#444;\" href=\"/product/10483871\">Глубокое обучение на Python</a></div>\\n\\n\\t\\t\\t\\t\\t\\t\\t<p class=\"card-text\" style=\"color:#555;\">Глубокое обучение — Deep learning — это набор алгоритмов машинного обучения, ...</p>\\n\\t\\t\\t\\t\\t\\t</div>\\n\\n\\n\\t\\t\\t\\t\\t\\t<!--\\n\\t\\t\\t\\t\\t\\t<div class=\"row\">\\n\\t\\t\\t\\t\\t\\t\\t<div class=\"col-9\">\\n\\t\\t\\t\\t\\t\\t\\t<a href=\"#\" class=\"btn-sm btn-primary btn-order\">Оформить заказ</a>\\n\\t\\t\\t\\t\\t\\t\\t</div>\\n\\t\\t\\t\\t\\t\\t\\t<div class=\"col-3\">\\n\\t\\t\\t\\t\\t\\t\\t<a href=\"#\" class=\"btn-sm btn-primary btn-order\"><i class=\"fa-solid fa-bookmark\"></i></a>\\n\\t\\t\\t\\t\\t\\t\\t</div>\\n\\t\\t\\t\\t\\t\\t</div>\\n\\t\\t\\t\\t\\t\\t-->\\n\\n\\t\\t\\t\\t\\t</div>\\n\\n\\t\\t\\t\\t</div>\\n\\t\\t\\t\\t<!--\\n\\t\\t\\t\\t<div class=\"media position-relative p_list_elem_2\">\\n\\t\\t\\t\\t\\t<a href=\"/product/10483871\"><img style=\"max-height:180px; border-radius:4px; -webkit-box-shadow: 0 10px 6px -6px #777;-moz-box-shadow: 0 10px 6px -6px #777;\\n\\t\\t\\t\\t\\tbox-shadow: 0 10px 6px -6px #777;\" src=\"https://static.biblio-globus.ru/images/ImageHandler.ashx?fileName=10483871.jpg&width=120\" class=\"mr-3\" alt=\"...\"></a>\\n\\t\\t\\t\\t\\t<div class=\"media-body p_list_descr_1\">\\n\\t\\t\\t\\t\\t\\t<div class=\"row\">\\n\\t\\t\\t\\t\\t\\t\\t<div class=\"col-sm-12 col-md-12 col-lg-9\">\\n\\t\\t\\t\\t\\t\\t\\t\\t<span class=\"badge bg-danger\" style=\"font-family:Arial; font-size:.75rem; color:#fff; font-weight:normal; margin-bottom:.85rem;\">Новинка</span>\\n\\n\\t\\t\\t\\t\\t\\t\\t\\t<span>Ф. Шолле</span>\\n\\t\\t\\t\\t\\t\\t\\t\\t<h5 class=\"mt-0\"><a href=\"/product/10483871\">Глубокое обучение на Python</a></h5>\\n\\t\\t\\t\\t\\t\\t\\t\\t<p>ISBN: 978-5-4461-0770-4 <span style=\"padding:3px 5px;\">&bull;</span> 400&nbsp;стр. <span style=\"padding:3px 5px;\">&bull;</span> 16&#x2B;</p>\\n\\n\\t\\t\\t\\t\\t\\t\\t\\t<p>Глубокое обучение &#x2014; Deep learning &#x2014; это набор алгоритмов машинного обучения, которые моделируют высокоуровневые абстракции в данных, используя архитектуры, состоящие из множеств...</p>\\n\\t\\t\\t\\t\\t\\t\\t\\t<a style=\"display:none;\" href=\"#\" class=\"stretched-link p_list_link\"><i class=\"fas fa-book-open\"></i>&nbsp; Подробнее</a>\\n\\t\\t\\t\\t\\t\\t\\t</div>\\n\\t\\t\\t\\t\\t\\t\\t<div class=\"col-sm-12 col-md-12 col-lg-3\">\\n\\t\\t\\t\\t1739&nbsp;&#8381;\\n\\t\\t\\t\\t\\t\\t\\t</div>\\n\\t\\t\\t\\t\\t\\t</div>\\n\\t\\t\\t\\t\\t</div>\\n\\t\\t\\t\\t</div> -->\\n\\t\\t\\t\\t<div class=\"col mb-4\">\\n\\t\\t\\t\\t\\t<div class=\"card h-100\">\\n\\n\\t\\t\\t\\t\\t\\t<a href=\"/product/10839595\" style=\"display: flex; padding:10px 0; align-items:center; text-align:center; background:#f7f7f7; overflow:hidden; min-height:240px; max-height:240px; vertical-align:middle;\" class=\"rounded\">\\n\\t\\t\\t\\t\\t\\t\\t<img style=\"max-height:220px; mix-blend-mode: multiply; margin:0px auto; border-radius:4px;\" src=\"https://static.biblio-globus.ru/images/ImageHandler.ashx?fileName=10839595.jpg&amp;width=260\" class=\"img-fluid\" alt=\"...\">\\n\\t\\t\\t\\t\\t\\t</a>\\n\\n\\t\\t\\t\\t\\t\\t<div class=\"card-body\" style=\"padding-left:0; padding-right:0;\">\\n\\t\\t\\t\\t\\t\\t\\t<div style=\"text-align:left; font-family:\\'Gilroy-Extrabold\\'; font-size:1.2rem;\">\\n\\t\\t\\t\\t\\t\\t\\t\\t1059&nbsp;₽\\n\\n\\n\\n\\t\\t\\t\\t\\t\\t\\t</div>\\n\\n\\t\\t\\t\\t\\t\\t\\t<div class=\"card-title\" style=\"font-size:.92rem; line-height:1.2; margin-top:.3rem;\"><a style=\"color:#444;\" href=\"/product/10839595\">Python для юных программистов</a></div>\\n\\n\\t\\t\\t\\t\\t\\t\\t<p class=\"card-text\" style=\"color:#555;\">Книга написана на основе опыта обучения программированию на языке Python в кр...</p>\\n\\t\\t\\t\\t\\t\\t</div>\\n\\n\\n\\t\\t\\t\\t\\t\\t<!--\\n\\t\\t\\t\\t\\t\\t<div class=\"row\">\\n\\t\\t\\t\\t\\t\\t\\t<div class=\"col-9\">\\n\\t\\t\\t\\t\\t\\t\\t<a href=\"#\" class=\"btn-sm btn-primary btn-order\">Оформить заказ</a>\\n\\t\\t\\t\\t\\t\\t\\t</div>\\n\\t\\t\\t\\t\\t\\t\\t<div class=\"col-3\">\\n\\t\\t\\t\\t\\t\\t\\t<a href=\"#\" class=\"btn-sm btn-primary btn-order\"><i class=\"fa-solid fa-bookmark\"></i></a>\\n\\t\\t\\t\\t\\t\\t\\t</div>\\n\\t\\t\\t\\t\\t\\t</div>\\n\\t\\t\\t\\t\\t\\t-->\\n\\n\\t\\t\\t\\t\\t</div>\\n\\n\\t\\t\\t\\t</div>\\n\\t\\t\\t\\t<!--\\n\\t\\t\\t\\t<div class=\"media position-relative p_list_elem_2\">\\n\\t\\t\\t\\t\\t<a href=\"/product/10839595\"><img style=\"max-height:180px; border-radius:4px; -webkit-box-shadow: 0 10px 6px -6px #777;-moz-box-shadow: 0 10px 6px -6px #777;\\n\\t\\t\\t\\t\\tbox-shadow: 0 10px 6px -6px #777;\" src=\"https://static.biblio-globus.ru/images/ImageHandler.ashx?fileName=10839595.jpg&width=120\" class=\"mr-3\" alt=\"...\"></a>\\n\\t\\t\\t\\t\\t<div class=\"media-body p_list_descr_1\">\\n\\t\\t\\t\\t\\t\\t<div class=\"row\">\\n\\t\\t\\t\\t\\t\\t\\t<div class=\"col-sm-12 col-md-12 col-lg-9\">\\n\\t\\t\\t\\t\\t\\t\\t\\t<span class=\"badge bg-danger\" style=\"font-family:Arial; font-size:.75rem; color:#fff; font-weight:normal; margin-bottom:.85rem;\">Новинка</span>\\n\\n\\t\\t\\t\\t\\t\\t\\t\\t<span>Д. В. Голиков , С. В. Жучков </span>\\n\\t\\t\\t\\t\\t\\t\\t\\t<h5 class=\"mt-0\"><a href=\"/product/10839595\">Python для юных программистов</a></h5>\\n\\t\\t\\t\\t\\t\\t\\t\\t<p>ISBN: 978-5-9775-6713-8 <span style=\"padding:3px 5px;\">&bull;</span> 160&nbsp;стр. <span style=\"padding:3px 5px;\">&bull;</span> </p>\\n\\n\\t\\t\\t\\t\\t\\t\\t\\t<p>Книга написана на основе опыта обучения программированию на языке Python в кружке юных программистов и протестирована на детях 7&#x2013;12 лет. Материал рассчитан на самостоятельное, б...</p>\\n\\t\\t\\t\\t\\t\\t\\t\\t<a style=\"display:none;\" href=\"#\" class=\"stretched-link p_list_link\"><i class=\"fas fa-book-open\"></i>&nbsp; Подробнее</a>\\n\\t\\t\\t\\t\\t\\t\\t</div>\\n\\t\\t\\t\\t\\t\\t\\t<div class=\"col-sm-12 col-md-12 col-lg-3\">\\n\\t\\t\\t\\t1059&nbsp;&#8381;\\n\\t\\t\\t\\t\\t\\t\\t</div>\\n\\t\\t\\t\\t\\t\\t</div>\\n\\t\\t\\t\\t\\t</div>\\n\\t\\t\\t\\t</div> -->\\n\\t\\t\\t\\t<div class=\"col mb-4\">\\n\\t\\t\\t\\t\\t<div class=\"card h-100\">\\n\\n\\t\\t\\t\\t\\t\\t<a href=\"/product/10776656\" style=\"display: flex; padding:10px 0; align-items:center; text-align:center; background:#f7f7f7; overflow:hidden; min-height:240px; max-height:240px; vertical-align:middle;\" class=\"rounded\">\\n\\t\\t\\t\\t\\t\\t\\t<img style=\"max-height:220px; mix-blend-mode: multiply; margin:0px auto; border-radius:4px;\" src=\"https://static.biblio-globus.ru/images/ImageHandler.ashx?fileName=10776656.jpg&amp;width=260\" class=\"img-fluid\" alt=\"...\">\\n\\t\\t\\t\\t\\t\\t</a>\\n\\n\\t\\t\\t\\t\\t\\t<div class=\"card-body\" style=\"padding-left:0; padding-right:0;\">\\n\\t\\t\\t\\t\\t\\t\\t<div style=\"text-align:left; font-family:\\'Gilroy-Extrabold\\'; font-size:1.2rem;\">\\n\\t\\t\\t\\t\\t\\t\\t\\t519&nbsp;₽\\n\\n\\n\\n\\t\\t\\t\\t\\t\\t\\t</div>\\n\\n\\t\\t\\t\\t\\t\\t\\t<div class=\"card-title\" style=\"font-size:.92rem; line-height:1.2; margin-top:.3rem;\"><a style=\"color:#444;\" href=\"/product/10776656\">Справочник PYTHON.  Кратко, быстро, под...</a></div>\\n\\n\\t\\t\\t\\t\\t\\t\\t<p class=\"card-text\" style=\"color:#555;\">Данный справочник содержит всю ключевую информацию о Python в удобной и нагля...</p>\\n\\t\\t\\t\\t\\t\\t</div>\\n\\n\\n\\t\\t\\t\\t\\t\\t<!--\\n\\t\\t\\t\\t\\t\\t<div class=\"row\">\\n\\t\\t\\t\\t\\t\\t\\t<div class=\"col-9\">\\n\\t\\t\\t\\t\\t\\t\\t<a href=\"#\" class=\"btn-sm btn-primary btn-order\">Оформить заказ</a>\\n\\t\\t\\t\\t\\t\\t\\t</div>\\n\\t\\t\\t\\t\\t\\t\\t<div class=\"col-3\">\\n\\t\\t\\t\\t\\t\\t\\t<a href=\"#\" class=\"btn-sm btn-primary btn-order\"><i class=\"fa-solid fa-bookmark\"></i></a>\\n\\t\\t\\t\\t\\t\\t\\t</div>\\n\\t\\t\\t\\t\\t\\t</div>\\n\\t\\t\\t\\t\\t\\t-->\\n\\n\\t\\t\\t\\t\\t</div>\\n\\n\\t\\t\\t\\t</div>\\n\\t\\t\\t\\t<!--\\n\\t\\t\\t\\t<div class=\"media position-relative p_list_elem_2\">\\n\\t\\t\\t\\t\\t<a href=\"/product/10776656\"><img style=\"max-height:180px; border-radius:4px; -webkit-box-shadow: 0 10px 6px -6px #777;-moz-box-shadow: 0 10px 6px -6px #777;\\n\\t\\t\\t\\t\\tbox-shadow: 0 10px 6px -6px #777;\" src=\"https://static.biblio-globus.ru/images/ImageHandler.ashx?fileName=10776656.jpg&width=120\" class=\"mr-3\" alt=\"...\"></a>\\n\\t\\t\\t\\t\\t<div class=\"media-body p_list_descr_1\">\\n\\t\\t\\t\\t\\t\\t<div class=\"row\">\\n\\t\\t\\t\\t\\t\\t\\t<div class=\"col-sm-12 col-md-12 col-lg-9\">\\n\\t\\t\\t\\t\\t\\t\\t\\t<span class=\"badge bg-danger\" style=\"font-family:Arial; font-size:.75rem; color:#fff; font-weight:normal; margin-bottom:.85rem;\">Новинка</span>\\n\\n\\t\\t\\t\\t\\t\\t\\t\\t<span>Д. М. Кольцов , Е. В. Дубовик </span>\\n\\t\\t\\t\\t\\t\\t\\t\\t<h5 class=\"mt-0\"><a href=\"/product/10776656\">Справочник PYTHON.  Кратко, быстро, под рукой</a></h5>\\n\\t\\t\\t\\t\\t\\t\\t\\t<p>ISBN: 978-5-94387-717-9 <span style=\"padding:3px 5px;\">&bull;</span> 288&nbsp;стр. <span style=\"padding:3px 5px;\">&bull;</span> 12&#x2B;</p>\\n\\n\\t\\t\\t\\t\\t\\t\\t\\t<p>Данный справочник содержит всю ключевую информацию о Python в удобной и наглядной форме. Структура справочника позволяет быстро и удобно находить нужную информацию, получать при...</p>\\n\\t\\t\\t\\t\\t\\t\\t\\t<a style=\"display:none;\" href=\"#\" class=\"stretched-link p_list_link\"><i class=\"fas fa-book-open\"></i>&nbsp; Подробнее</a>\\n\\t\\t\\t\\t\\t\\t\\t</div>\\n\\t\\t\\t\\t\\t\\t\\t<div class=\"col-sm-12 col-md-12 col-lg-3\">\\n\\t\\t\\t\\t519&nbsp;&#8381;\\n\\t\\t\\t\\t\\t\\t\\t</div>\\n\\t\\t\\t\\t\\t\\t</div>\\n\\t\\t\\t\\t\\t</div>\\n\\t\\t\\t\\t</div> -->\\n\\t\\t\\t\\t<div class=\"col mb-4\">\\n\\t\\t\\t\\t\\t<div class=\"card h-100\">\\n\\n\\t\\t\\t\\t\\t\\t<a href=\"/product/10532193\" style=\"display: flex; padding:10px 0; align-items:center; text-align:center; background:#f7f7f7; overflow:hidden; min-height:240px; max-height:240px; vertical-align:middle;\" class=\"rounded\">\\n\\t\\t\\t\\t\\t\\t\\t<img style=\"max-height:220px; mix-blend-mode: multiply; margin:0px auto; border-radius:4px;\" src=\"https://static.biblio-globus.ru/images/ImageHandler.ashx?fileName=10532193.jpg&amp;width=260\" class=\"img-fluid\" alt=\"...\">\\n\\t\\t\\t\\t\\t\\t</a>\\n\\n\\t\\t\\t\\t\\t\\t<div class=\"card-body\" style=\"padding-left:0; padding-right:0;\">\\n\\t\\t\\t\\t\\t\\t\\t<div style=\"text-align:left; font-family:\\'Gilroy-Extrabold\\'; font-size:1.2rem;\">\\n\\t\\t\\t\\t\\t\\t\\t\\t2039&nbsp;₽\\n\\n\\n\\n\\t\\t\\t\\t\\t\\t\\t</div>\\n\\n\\t\\t\\t\\t\\t\\t\\t<div class=\"card-title\" style=\"font-size:.92rem; line-height:1.2; margin-top:.3rem;\"><a style=\"color:#444;\" href=\"/product/10532193\">Python. Экспресс-курс</a></div>\\n\\n\\t\\t\\t\\t\\t\\t\\t<p class=\"card-text\" style=\"color:#555;\">Вы уже умеете кодить на одном или нескольких языках программирования? Тогда н...</p>\\n\\t\\t\\t\\t\\t\\t</div>\\n\\n\\n\\t\\t\\t\\t\\t\\t<!--\\n\\t\\t\\t\\t\\t\\t<div class=\"row\">\\n\\t\\t\\t\\t\\t\\t\\t<div class=\"col-9\">\\n\\t\\t\\t\\t\\t\\t\\t<a href=\"#\" class=\"btn-sm btn-primary btn-order\">Оформить заказ</a>\\n\\t\\t\\t\\t\\t\\t\\t</div>\\n\\t\\t\\t\\t\\t\\t\\t<div class=\"col-3\">\\n\\t\\t\\t\\t\\t\\t\\t<a href=\"#\" class=\"btn-sm btn-primary btn-order\"><i class=\"fa-solid fa-bookmark\"></i></a>\\n\\t\\t\\t\\t\\t\\t\\t</div>\\n\\t\\t\\t\\t\\t\\t</div>\\n\\t\\t\\t\\t\\t\\t-->\\n\\n\\t\\t\\t\\t\\t</div>\\n\\n\\t\\t\\t\\t</div>\\n\\t\\t\\t\\t<!--\\n\\t\\t\\t\\t<div class=\"media position-relative p_list_elem_2\">\\n\\t\\t\\t\\t\\t<a href=\"/product/10532193\"><img style=\"max-height:180px; border-radius:4px; -webkit-box-shadow: 0 10px 6px -6px #777;-moz-box-shadow: 0 10px 6px -6px #777;\\n\\t\\t\\t\\t\\tbox-shadow: 0 10px 6px -6px #777;\" src=\"https://static.biblio-globus.ru/images/ImageHandler.ashx?fileName=10532193.jpg&width=120\" class=\"mr-3\" alt=\"...\"></a>\\n\\t\\t\\t\\t\\t<div class=\"media-body p_list_descr_1\">\\n\\t\\t\\t\\t\\t\\t<div class=\"row\">\\n\\t\\t\\t\\t\\t\\t\\t<div class=\"col-sm-12 col-md-12 col-lg-9\">\\n\\t\\t\\t\\t\\t\\t\\t\\t<span class=\"badge bg-danger\" style=\"font-family:Arial; font-size:.75rem; color:#fff; font-weight:normal; margin-bottom:.85rem;\">Новинка</span>\\n\\n\\t\\t\\t\\t\\t\\t\\t\\t<span>Н. Седер</span>\\n\\t\\t\\t\\t\\t\\t\\t\\t<h5 class=\"mt-0\"><a href=\"/product/10532193\">Python. Экспресс-курс</a></h5>\\n\\t\\t\\t\\t\\t\\t\\t\\t<p>ISBN: 978-5-4461-0908-1 <span style=\"padding:3px 5px;\">&bull;</span> 480&nbsp;стр. <span style=\"padding:3px 5px;\">&bull;</span> 16&#x2B;</p>\\n\\n\\t\\t\\t\\t\\t\\t\\t\\t<p>Вы уже умеете кодить на одном или нескольких языках программирования? Тогда настала пора пройти экспресс-курс Python. Впервые на русском языке выходит новое издание одной из сам...</p>\\n\\t\\t\\t\\t\\t\\t\\t\\t<a style=\"display:none;\" href=\"#\" class=\"stretched-link p_list_link\"><i class=\"fas fa-book-open\"></i>&nbsp; Подробнее</a>\\n\\t\\t\\t\\t\\t\\t\\t</div>\\n\\t\\t\\t\\t\\t\\t\\t<div class=\"col-sm-12 col-md-12 col-lg-3\">\\n\\t\\t\\t\\t2039&nbsp;&#8381;\\n\\t\\t\\t\\t\\t\\t\\t</div>\\n\\t\\t\\t\\t\\t\\t</div>\\n\\t\\t\\t\\t\\t</div>\\n\\t\\t\\t\\t</div> -->\\n\\t\\t\\t\\t<div class=\"col mb-4\">\\n\\t\\t\\t\\t\\t<div class=\"card h-100\">\\n\\n\\t\\t\\t\\t\\t\\t<a href=\"/product/10473444\" style=\"display: flex; padding:10px 0; align-items:center; text-align:center; background:#f7f7f7; overflow:hidden; min-height:240px; max-height:240px; vertical-align:middle;\" class=\"rounded\">\\n\\t\\t\\t\\t\\t\\t\\t<img style=\"max-height:220px; mix-blend-mode: multiply; margin:0px auto; border-radius:4px;\" src=\"https://static.biblio-globus.ru/images/ImageHandler.ashx?fileName=10473444.jpg&amp;width=260\" class=\"img-fluid\" alt=\"...\">\\n\\t\\t\\t\\t\\t\\t</a>\\n\\n\\t\\t\\t\\t\\t\\t<div class=\"card-body\" style=\"padding-left:0; padding-right:0;\">\\n\\t\\t\\t\\t\\t\\t\\t<div style=\"text-align:left; font-family:\\'Gilroy-Extrabold\\'; font-size:1.2rem;\">\\n\\t\\t\\t\\t\\t\\t\\t\\t609&nbsp;₽\\n\\n\\n\\n\\t\\t\\t\\t\\t\\t\\t</div>\\n\\n\\t\\t\\t\\t\\t\\t\\t<div class=\"card-title\" style=\"font-size:.92rem; line-height:1.2; margin-top:.3rem;\"><a style=\"color:#444;\" href=\"/product/10473444\">HTML, CSS, SCRATCH, PYTHON. Моя первая ...</a></div>\\n\\n\\t\\t\\t\\t\\t\\t\\t<p class=\"card-text\" style=\"color:#555;\">Хотите научиться создавать программы и сайты,  но не знаете, как это сделать?...</p>\\n\\t\\t\\t\\t\\t\\t</div>\\n\\n\\n\\t\\t\\t\\t\\t\\t<!--\\n\\t\\t\\t\\t\\t\\t<div class=\"row\">\\n\\t\\t\\t\\t\\t\\t\\t<div class=\"col-9\">\\n\\t\\t\\t\\t\\t\\t\\t<a href=\"#\" class=\"btn-sm btn-primary btn-order\">Оформить заказ</a>\\n\\t\\t\\t\\t\\t\\t\\t</div>\\n\\t\\t\\t\\t\\t\\t\\t<div class=\"col-3\">\\n\\t\\t\\t\\t\\t\\t\\t<a href=\"#\" class=\"btn-sm btn-primary btn-order\"><i class=\"fa-solid fa-bookmark\"></i></a>\\n\\t\\t\\t\\t\\t\\t\\t</div>\\n\\t\\t\\t\\t\\t\\t</div>\\n\\t\\t\\t\\t\\t\\t-->\\n\\n\\t\\t\\t\\t\\t</div>\\n\\n\\t\\t\\t\\t</div>\\n\\t\\t\\t\\t<!--\\n\\t\\t\\t\\t<div class=\"media position-relative p_list_elem_2\">\\n\\t\\t\\t\\t\\t<a href=\"/product/10473444\"><img style=\"max-height:180px; border-radius:4px; -webkit-box-shadow: 0 10px 6px -6px #777;-moz-box-shadow: 0 10px 6px -6px #777;\\n\\t\\t\\t\\t\\tbox-shadow: 0 10px 6px -6px #777;\" src=\"https://static.biblio-globus.ru/images/ImageHandler.ashx?fileName=10473444.jpg&width=120\" class=\"mr-3\" alt=\"...\"></a>\\n\\t\\t\\t\\t\\t<div class=\"media-body p_list_descr_1\">\\n\\t\\t\\t\\t\\t\\t<div class=\"row\">\\n\\t\\t\\t\\t\\t\\t\\t<div class=\"col-sm-12 col-md-12 col-lg-9\">\\n\\t\\t\\t\\t\\t\\t\\t\\t<span class=\"badge bg-danger\" style=\"font-family:Arial; font-size:.75rem; color:#fff; font-weight:normal; margin-bottom:.85rem;\">Новинка</span>\\n\\n\\t\\t\\t\\t\\t\\t\\t\\t<span>С. В. Голиков, Е. В. Дубовик, Г. С. Русин, Ю. А. Иркова</span>\\n\\t\\t\\t\\t\\t\\t\\t\\t<h5 class=\"mt-0\"><a href=\"/product/10473444\">HTML, CSS, SCRATCH, PYTHON. Моя первая книга по программированию</a></h5>\\n\\t\\t\\t\\t\\t\\t\\t\\t<p>ISBN: 978-5-94387-754-4 <span style=\"padding:3px 5px;\">&bull;</span> 332&nbsp;стр. <span style=\"padding:3px 5px;\">&bull;</span> </p>\\n\\n\\t\\t\\t\\t\\t\\t\\t\\t<p>Хотите научиться создавать программы и сайты,  но не знаете, как это сделать? Тогда эта книга - то, что вам нужно! Она состоит из двух частей: в первой части вы изучите два попу...</p>\\n\\t\\t\\t\\t\\t\\t\\t\\t<a style=\"display:none;\" href=\"#\" class=\"stretched-link p_list_link\"><i class=\"fas fa-book-open\"></i>&nbsp; Подробнее</a>\\n\\t\\t\\t\\t\\t\\t\\t</div>\\n\\t\\t\\t\\t\\t\\t\\t<div class=\"col-sm-12 col-md-12 col-lg-3\">\\n\\t\\t\\t\\t609&nbsp;&#8381;\\n\\t\\t\\t\\t\\t\\t\\t</div>\\n\\t\\t\\t\\t\\t\\t</div>\\n\\t\\t\\t\\t\\t</div>\\n\\t\\t\\t\\t</div> -->\\n\\t\\t\\t\\t<div class=\"col mb-4\">\\n\\t\\t\\t\\t\\t<div class=\"card h-100\">\\n\\n\\t\\t\\t\\t\\t\\t<a href=\"/product/10224348\" style=\"display: flex; padding:10px 0; align-items:center; text-align:center; background:#f7f7f7; overflow:hidden; min-height:240px; max-height:240px; vertical-align:middle;\" class=\"rounded\">\\n\\t\\t\\t\\t\\t\\t\\t<img style=\"max-height:220px; mix-blend-mode: multiply; margin:0px auto; border-radius:4px;\" src=\"https://static.biblio-globus.ru/images/ImageHandler.ashx?fileName=10224348.jpg&amp;width=260\" class=\"img-fluid\" alt=\"...\">\\n\\t\\t\\t\\t\\t\\t</a>\\n\\n\\t\\t\\t\\t\\t\\t<div class=\"card-body\" style=\"padding-left:0; padding-right:0;\">\\n\\t\\t\\t\\t\\t\\t\\t<div style=\"text-align:left; font-family:\\'Gilroy-Extrabold\\'; font-size:1.2rem;\">\\n\\t\\t\\t\\t\\t\\t\\t\\t809&nbsp;₽\\n\\n\\n\\n\\t\\t\\t\\t\\t\\t\\t</div>\\n\\n\\t\\t\\t\\t\\t\\t\\t<div class=\"card-title\" style=\"font-size:.92rem; line-height:1.2; margin-top:.3rem;\"><a style=\"color:#444;\" href=\"/product/10224348\">Программирование на Python для начинающих</a></div>\\n\\n\\t\\t\\t\\t\\t\\t\\t<p class=\"card-text\" style=\"color:#555;\">Книга \"Программирование на  Python для начинающих\" является исчерпывающим рук...</p>\\n\\t\\t\\t\\t\\t\\t</div>\\n\\n\\n\\t\\t\\t\\t\\t\\t<!--\\n\\t\\t\\t\\t\\t\\t<div class=\"row\">\\n\\t\\t\\t\\t\\t\\t\\t<div class=\"col-9\">\\n\\t\\t\\t\\t\\t\\t\\t<a href=\"#\" class=\"btn-sm btn-primary btn-order\">Оформить заказ</a>\\n\\t\\t\\t\\t\\t\\t\\t</div>\\n\\t\\t\\t\\t\\t\\t\\t<div class=\"col-3\">\\n\\t\\t\\t\\t\\t\\t\\t<a href=\"#\" class=\"btn-sm btn-primary btn-order\"><i class=\"fa-solid fa-bookmark\"></i></a>\\n\\t\\t\\t\\t\\t\\t\\t</div>\\n\\t\\t\\t\\t\\t\\t</div>\\n\\t\\t\\t\\t\\t\\t-->\\n\\n\\t\\t\\t\\t\\t</div>\\n\\n\\t\\t\\t\\t</div>\\n\\t\\t\\t\\t<!--\\n\\t\\t\\t\\t<div class=\"media position-relative p_list_elem_2\">\\n\\t\\t\\t\\t\\t<a href=\"/product/10224348\"><img style=\"max-height:180px; border-radius:4px; -webkit-box-shadow: 0 10px 6px -6px #777;-moz-box-shadow: 0 10px 6px -6px #777;\\n\\t\\t\\t\\t\\tbox-shadow: 0 10px 6px -6px #777;\" src=\"https://static.biblio-globus.ru/images/ImageHandler.ashx?fileName=10224348.jpg&width=120\" class=\"mr-3\" alt=\"...\"></a>\\n\\t\\t\\t\\t\\t<div class=\"media-body p_list_descr_1\">\\n\\t\\t\\t\\t\\t\\t<div class=\"row\">\\n\\t\\t\\t\\t\\t\\t\\t<div class=\"col-sm-12 col-md-12 col-lg-9\">\\n\\t\\t\\t\\t\\t\\t\\t\\t<span class=\"badge bg-danger\" style=\"font-family:Arial; font-size:.75rem; color:#fff; font-weight:normal; margin-bottom:.85rem;\">Новинка</span>\\n\\n\\t\\t\\t\\t\\t\\t\\t\\t<span>М. МакГрат</span>\\n\\t\\t\\t\\t\\t\\t\\t\\t<h5 class=\"mt-0\"><a href=\"/product/10224348\">Программирование на Python для начинающих</a></h5>\\n\\t\\t\\t\\t\\t\\t\\t\\t<p>ISBN: 978-5-699-81406-0 <span style=\"padding:3px 5px;\">&bull;</span> 192&nbsp;стр. <span style=\"padding:3px 5px;\">&bull;</span> 12&#x2B;</p>\\n\\n\\t\\t\\t\\t\\t\\t\\t\\t<p>Книга &quot;Программирование на  Python для начинающих&quot; является исчерпывающим руководством для того, чтобы научиться программировать на языке Python. В этой книге с помощью примеров...</p>\\n\\t\\t\\t\\t\\t\\t\\t\\t<a style=\"display:none;\" href=\"#\" class=\"stretched-link p_list_link\"><i class=\"fas fa-book-open\"></i>&nbsp; Подробнее</a>\\n\\t\\t\\t\\t\\t\\t\\t</div>\\n\\t\\t\\t\\t\\t\\t\\t<div class=\"col-sm-12 col-md-12 col-lg-3\">\\n\\t\\t\\t\\t809&nbsp;&#8381;\\n\\t\\t\\t\\t\\t\\t\\t</div>\\n\\t\\t\\t\\t\\t\\t</div>\\n\\t\\t\\t\\t\\t</div>\\n\\t\\t\\t\\t</div> -->\\n\\t\\t\\t\\t<div class=\"col mb-4\">\\n\\t\\t\\t\\t\\t<div class=\"card h-100\">\\n\\n\\t\\t\\t\\t\\t\\t<a href=\"/product/10831874\" style=\"display: flex; padding:10px 0; align-items:center; text-align:center; background:#f7f7f7; overflow:hidden; min-height:240px; max-height:240px; vertical-align:middle;\" class=\"rounded\">\\n\\t\\t\\t\\t\\t\\t\\t<img style=\"max-height:220px; mix-blend-mode: multiply; margin:0px auto; border-radius:4px;\" src=\"https://static.biblio-globus.ru/images/ImageHandler.ashx?fileName=10831874.jpg&amp;width=260\" class=\"img-fluid\" alt=\"...\">\\n\\t\\t\\t\\t\\t\\t</a>\\n\\n\\t\\t\\t\\t\\t\\t<div class=\"card-body\" style=\"padding-left:0; padding-right:0;\">\\n\\t\\t\\t\\t\\t\\t\\t<div style=\"text-align:left; font-family:\\'Gilroy-Extrabold\\'; font-size:1.2rem;\">\\n\\t\\t\\t\\t\\t\\t\\t\\t2509&nbsp;₽\\n\\n\\n\\n\\t\\t\\t\\t\\t\\t\\t</div>\\n\\n\\t\\t\\t\\t\\t\\t\\t<div class=\"card-title\" style=\"font-size:.92rem; line-height:1.2; margin-top:.3rem;\"><a style=\"color:#444;\" href=\"/product/10831874\">Глубокое обучение с подкреплением: теор...</a></div>\\n\\n\\t\\t\\t\\t\\t\\t\\t<p class=\"card-text\" style=\"color:#555;\">Глубокое обучение с подкреплением (глубокое RL) сочетает в себе два подхода к...</p>\\n\\t\\t\\t\\t\\t\\t</div>\\n\\n\\n\\t\\t\\t\\t\\t\\t<!--\\n\\t\\t\\t\\t\\t\\t<div class=\"row\">\\n\\t\\t\\t\\t\\t\\t\\t<div class=\"col-9\">\\n\\t\\t\\t\\t\\t\\t\\t<a href=\"#\" class=\"btn-sm btn-primary btn-order\">Оформить заказ</a>\\n\\t\\t\\t\\t\\t\\t\\t</div>\\n\\t\\t\\t\\t\\t\\t\\t<div class=\"col-3\">\\n\\t\\t\\t\\t\\t\\t\\t<a href=\"#\" class=\"btn-sm btn-primary btn-order\"><i class=\"fa-solid fa-bookmark\"></i></a>\\n\\t\\t\\t\\t\\t\\t\\t</div>\\n\\t\\t\\t\\t\\t\\t</div>\\n\\t\\t\\t\\t\\t\\t-->\\n\\n\\t\\t\\t\\t\\t</div>\\n\\n\\t\\t\\t\\t</div>\\n\\t\\t\\t\\t<!--\\n\\t\\t\\t\\t<div class=\"media position-relative p_list_elem_2\">\\n\\t\\t\\t\\t\\t<a href=\"/product/10831874\"><img style=\"max-height:180px; border-radius:4px; -webkit-box-shadow: 0 10px 6px -6px #777;-moz-box-shadow: 0 10px 6px -6px #777;\\n\\t\\t\\t\\t\\tbox-shadow: 0 10px 6px -6px #777;\" src=\"https://static.biblio-globus.ru/images/ImageHandler.ashx?fileName=10831874.jpg&width=120\" class=\"mr-3\" alt=\"...\"></a>\\n\\t\\t\\t\\t\\t<div class=\"media-body p_list_descr_1\">\\n\\t\\t\\t\\t\\t\\t<div class=\"row\">\\n\\t\\t\\t\\t\\t\\t\\t<div class=\"col-sm-12 col-md-12 col-lg-9\">\\n\\t\\t\\t\\t\\t\\t\\t\\t<span class=\"badge bg-danger\" style=\"font-family:Arial; font-size:.75rem; color:#fff; font-weight:normal; margin-bottom:.85rem;\">Новинка</span>\\n\\n\\t\\t\\t\\t\\t\\t\\t\\t<span>Л. Грессер , В. Кенг</span>\\n\\t\\t\\t\\t\\t\\t\\t\\t<h5 class=\"mt-0\"><a href=\"/product/10831874\">Глубокое обучение с подкреплением: теория и практика на языке Python</a></h5>\\n\\t\\t\\t\\t\\t\\t\\t\\t<p>ISBN: 978-5-4461-1699-7 <span style=\"padding:3px 5px;\">&bull;</span> 416&nbsp;стр. <span style=\"padding:3px 5px;\">&bull;</span> 16&#x2B;</p>\\n\\n\\t\\t\\t\\t\\t\\t\\t\\t<p>Глубокое обучение с подкреплением (глубокое RL) сочетает в себе два подхода к машинному обучению. В ходе такого обучения виртуальные агенты учатся решать последовательные задачи...</p>\\n\\t\\t\\t\\t\\t\\t\\t\\t<a style=\"display:none;\" href=\"#\" class=\"stretched-link p_list_link\"><i class=\"fas fa-book-open\"></i>&nbsp; Подробнее</a>\\n\\t\\t\\t\\t\\t\\t\\t</div>\\n\\t\\t\\t\\t\\t\\t\\t<div class=\"col-sm-12 col-md-12 col-lg-3\">\\n\\t\\t\\t\\t2509&nbsp;&#8381;\\n\\t\\t\\t\\t\\t\\t\\t</div>\\n\\t\\t\\t\\t\\t\\t</div>\\n\\t\\t\\t\\t\\t</div>\\n\\t\\t\\t\\t</div> -->\\n\\t\\t\\t\\t<div class=\"col mb-4\">\\n\\t\\t\\t\\t\\t<div class=\"card h-100\">\\n\\n\\t\\t\\t\\t\\t\\t<a href=\"/product/10713630\" style=\"display: flex; padding:10px 0; align-items:center; text-align:center; background:#f7f7f7; overflow:hidden; min-height:240px; max-height:240px; vertical-align:middle;\" class=\"rounded\">\\n\\t\\t\\t\\t\\t\\t\\t<img style=\"max-height:220px; mix-blend-mode: multiply; margin:0px auto; border-radius:4px;\" src=\"https://static.biblio-globus.ru/images/ImageHandler.ashx?fileName=10713630.jpg&amp;width=260\" class=\"img-fluid\" alt=\"...\">\\n\\t\\t\\t\\t\\t\\t</a>\\n\\n\\t\\t\\t\\t\\t\\t<div class=\"card-body\" style=\"padding-left:0; padding-right:0;\">\\n\\t\\t\\t\\t\\t\\t\\t<div style=\"text-align:left; font-family:\\'Gilroy-Extrabold\\'; font-size:1.2rem;\">\\n\\t\\t\\t\\t\\t\\t\\t\\t2119&nbsp;₽\\n\\n\\n\\n\\t\\t\\t\\t\\t\\t\\t</div>\\n\\n\\t\\t\\t\\t\\t\\t\\t<div class=\"card-title\" style=\"font-size:.92rem; line-height:1.2; margin-top:.3rem;\"><a style=\"color:#444;\" href=\"/product/10713630\">Python и наука о данных для чайников, 2...</a></div>\\n\\n\\t\\t\\t\\t\\t\\t\\t<p class=\"card-text\" style=\"color:#555;\">Наука о данных - это вовсе не страшно!Интересуетесь наукой о данных, но немно...</p>\\n\\t\\t\\t\\t\\t\\t</div>\\n\\n\\n\\t\\t\\t\\t\\t\\t<!--\\n\\t\\t\\t\\t\\t\\t<div class=\"row\">\\n\\t\\t\\t\\t\\t\\t\\t<div class=\"col-9\">\\n\\t\\t\\t\\t\\t\\t\\t<a href=\"#\" class=\"btn-sm btn-primary btn-order\">Оформить заказ</a>\\n\\t\\t\\t\\t\\t\\t\\t</div>\\n\\t\\t\\t\\t\\t\\t\\t<div class=\"col-3\">\\n\\t\\t\\t\\t\\t\\t\\t<a href=\"#\" class=\"btn-sm btn-primary btn-order\"><i class=\"fa-solid fa-bookmark\"></i></a>\\n\\t\\t\\t\\t\\t\\t\\t</div>\\n\\t\\t\\t\\t\\t\\t</div>\\n\\t\\t\\t\\t\\t\\t-->\\n\\n\\t\\t\\t\\t\\t</div>\\n\\n\\t\\t\\t\\t</div>\\n\\t\\t\\t\\t<!--\\n\\t\\t\\t\\t<div class=\"media position-relative p_list_elem_2\">\\n\\t\\t\\t\\t\\t<a href=\"/product/10713630\"><img style=\"max-height:180px; border-radius:4px; -webkit-box-shadow: 0 10px 6px -6px #777;-moz-box-shadow: 0 10px 6px -6px #777;\\n\\t\\t\\t\\t\\tbox-shadow: 0 10px 6px -6px #777;\" src=\"https://static.biblio-globus.ru/images/ImageHandler.ashx?fileName=10713630.jpg&width=120\" class=\"mr-3\" alt=\"...\"></a>\\n\\t\\t\\t\\t\\t<div class=\"media-body p_list_descr_1\">\\n\\t\\t\\t\\t\\t\\t<div class=\"row\">\\n\\t\\t\\t\\t\\t\\t\\t<div class=\"col-sm-12 col-md-12 col-lg-9\">\\n\\t\\t\\t\\t\\t\\t\\t\\t<span class=\"badge bg-danger\" style=\"font-family:Arial; font-size:.75rem; color:#fff; font-weight:normal; margin-bottom:.85rem;\">Новинка</span>\\n\\n\\t\\t\\t\\t\\t\\t\\t\\t<span>Мюллер , Массарон</span>\\n\\t\\t\\t\\t\\t\\t\\t\\t<h5 class=\"mt-0\"><a href=\"/product/10713630\">Python и наука о данных для чайников, 2-е издание</a></h5>\\n\\t\\t\\t\\t\\t\\t\\t\\t<p>ISBN: 978-5-907203-47-1 <span style=\"padding:3px 5px;\">&bull;</span> 512с. ,ил.&nbsp;стр. <span style=\"padding:3px 5px;\">&bull;</span> </p>\\n\\n\\t\\t\\t\\t\\t\\t\\t\\t<p>Наука о данных - это вовсе не страшно!Интересуетесь наукой о данных, но немного побаиваетесь? Не нужно! Эта книга покажет, как использовать язык Python для создания интересных в...</p>\\n\\t\\t\\t\\t\\t\\t\\t\\t<a style=\"display:none;\" href=\"#\" class=\"stretched-link p_list_link\"><i class=\"fas fa-book-open\"></i>&nbsp; Подробнее</a>\\n\\t\\t\\t\\t\\t\\t\\t</div>\\n\\t\\t\\t\\t\\t\\t\\t<div class=\"col-sm-12 col-md-12 col-lg-3\">\\n\\t\\t\\t\\t2119&nbsp;&#8381;\\n\\t\\t\\t\\t\\t\\t\\t</div>\\n\\t\\t\\t\\t\\t\\t</div>\\n\\t\\t\\t\\t\\t</div>\\n\\t\\t\\t\\t</div> -->\\n\\t\\t\\t\\t<div class=\"col mb-4\">\\n\\t\\t\\t\\t\\t<div class=\"card h-100\">\\n\\n\\t\\t\\t\\t\\t\\t<a href=\"/product/10645085\" style=\"display: flex; padding:10px 0; align-items:center; text-align:center; background:#f7f7f7; overflow:hidden; min-height:240px; max-height:240px; vertical-align:middle;\" class=\"rounded\">\\n\\t\\t\\t\\t\\t\\t\\t<img style=\"max-height:220px; mix-blend-mode: multiply; margin:0px auto; border-radius:4px;\" src=\"https://static.biblio-globus.ru/images/ImageHandler.ashx?fileName=10645085.jpg&amp;width=260\" class=\"img-fluid\" alt=\"...\">\\n\\t\\t\\t\\t\\t\\t</a>\\n\\n\\t\\t\\t\\t\\t\\t<div class=\"card-body\" style=\"padding-left:0; padding-right:0;\">\\n\\t\\t\\t\\t\\t\\t\\t<div style=\"text-align:left; font-family:\\'Gilroy-Extrabold\\'; font-size:1.2rem;\">\\n\\t\\t\\t\\t\\t\\t\\t\\t1029&nbsp;₽\\n\\n\\n\\n\\t\\t\\t\\t\\t\\t\\t</div>\\n\\n\\t\\t\\t\\t\\t\\t\\t<div class=\"card-title\" style=\"font-size:.92rem; line-height:1.2; margin-top:.3rem;\"><a style=\"color:#444;\" href=\"/product/10645085\">Легкий способ выучить Python 3 еще глубже</a></div>\\n\\n\\t\\t\\t\\t\\t\\t\\t<p class=\"card-text\" style=\"color:#555;\">Воплотите ваши идеи в код самого высокого качества!\\r\\nЗед Шоу – один из тех, к...</p>\\n\\t\\t\\t\\t\\t\\t</div>\\n\\n\\n\\t\\t\\t\\t\\t\\t<!--\\n\\t\\t\\t\\t\\t\\t<div class=\"row\">\\n\\t\\t\\t\\t\\t\\t\\t<div class=\"col-9\">\\n\\t\\t\\t\\t\\t\\t\\t<a href=\"#\" class=\"btn-sm btn-primary btn-order\">Оформить заказ</a>\\n\\t\\t\\t\\t\\t\\t\\t</div>\\n\\t\\t\\t\\t\\t\\t\\t<div class=\"col-3\">\\n\\t\\t\\t\\t\\t\\t\\t<a href=\"#\" class=\"btn-sm btn-primary btn-order\"><i class=\"fa-solid fa-bookmark\"></i></a>\\n\\t\\t\\t\\t\\t\\t\\t</div>\\n\\t\\t\\t\\t\\t\\t</div>\\n\\t\\t\\t\\t\\t\\t-->\\n\\n\\t\\t\\t\\t\\t</div>\\n\\n\\t\\t\\t\\t</div>\\n\\t\\t\\t\\t<!--\\n\\t\\t\\t\\t<div class=\"media position-relative p_list_elem_2\">\\n\\t\\t\\t\\t\\t<a href=\"/product/10645085\"><img style=\"max-height:180px; border-radius:4px; -webkit-box-shadow: 0 10px 6px -6px #777;-moz-box-shadow: 0 10px 6px -6px #777;\\n\\t\\t\\t\\t\\tbox-shadow: 0 10px 6px -6px #777;\" src=\"https://static.biblio-globus.ru/images/ImageHandler.ashx?fileName=10645085.jpg&width=120\" class=\"mr-3\" alt=\"...\"></a>\\n\\t\\t\\t\\t\\t<div class=\"media-body p_list_descr_1\">\\n\\t\\t\\t\\t\\t\\t<div class=\"row\">\\n\\t\\t\\t\\t\\t\\t\\t<div class=\"col-sm-12 col-md-12 col-lg-9\">\\n\\t\\t\\t\\t\\t\\t\\t\\t<span class=\"badge bg-danger\" style=\"font-family:Arial; font-size:.75rem; color:#fff; font-weight:normal; margin-bottom:.85rem;\">Новинка</span>\\n\\n\\t\\t\\t\\t\\t\\t\\t\\t<span>З. Шоу </span>\\n\\t\\t\\t\\t\\t\\t\\t\\t<h5 class=\"mt-0\"><a href=\"/product/10645085\">Легкий способ выучить Python 3 еще глубже</a></h5>\\n\\t\\t\\t\\t\\t\\t\\t\\t<p>ISBN: 978-5-04-093107-1 <span style=\"padding:3px 5px;\">&bull;</span> 272&nbsp;стр. <span style=\"padding:3px 5px;\">&bull;</span> 12&#x2B;</p>\\n\\n\\t\\t\\t\\t\\t\\t\\t\\t<p>Воплотите ваши идеи в код самого высокого качества!&#xD;&#xA;Зед Шоу &#x2013; один из тех, кто по-настоящему разбирается в Python. Его советы помогли миллионам программистов по всему миру, пом...</p>\\n\\t\\t\\t\\t\\t\\t\\t\\t<a style=\"display:none;\" href=\"#\" class=\"stretched-link p_list_link\"><i class=\"fas fa-book-open\"></i>&nbsp; Подробнее</a>\\n\\t\\t\\t\\t\\t\\t\\t</div>\\n\\t\\t\\t\\t\\t\\t\\t<div class=\"col-sm-12 col-md-12 col-lg-3\">\\n\\t\\t\\t\\t1029&nbsp;&#8381;\\n\\t\\t\\t\\t\\t\\t\\t</div>\\n\\t\\t\\t\\t\\t\\t</div>\\n\\t\\t\\t\\t\\t</div>\\n\\t\\t\\t\\t</div> -->\\n\\t\\t\\t\\t<div class=\"col mb-4\">\\n\\t\\t\\t\\t\\t<div class=\"card h-100\">\\n\\n\\t\\t\\t\\t\\t\\t<a href=\"/product/10627655\" style=\"display: flex; padding:10px 0; align-items:center; text-align:center; background:#f7f7f7; overflow:hidden; min-height:240px; max-height:240px; vertical-align:middle;\" class=\"rounded\">\\n\\t\\t\\t\\t\\t\\t\\t<img style=\"max-height:220px; mix-blend-mode: multiply; margin:0px auto; border-radius:4px;\" src=\"https://static.biblio-globus.ru/images/ImageHandler.ashx?fileName=10627655.jpg&amp;width=260\" class=\"img-fluid\" alt=\"...\">\\n\\t\\t\\t\\t\\t\\t</a>\\n\\n\\t\\t\\t\\t\\t\\t<div class=\"card-body\" style=\"padding-left:0; padding-right:0;\">\\n\\t\\t\\t\\t\\t\\t\\t<div style=\"text-align:left; font-family:\\'Gilroy-Extrabold\\'; font-size:1.2rem;\">\\n\\t\\t\\t\\t\\t\\t\\t\\t2359&nbsp;₽\\n\\n\\n\\n\\t\\t\\t\\t\\t\\t\\t</div>\\n\\n\\t\\t\\t\\t\\t\\t\\t<div class=\"card-title\" style=\"font-size:.92rem; line-height:1.2; margin-top:.3rem;\"><a style=\"color:#444;\" href=\"/product/10627655\">Байесовский анализ на Python</a></div>\\n\\n\\t\\t\\t\\t\\t\\t\\t<p class=\"card-text\" style=\"color:#555;\">Эта книга, посвященная методике вероятностного программирования, научит вас с...</p>\\n\\t\\t\\t\\t\\t\\t</div>\\n\\n\\n\\t\\t\\t\\t\\t\\t<!--\\n\\t\\t\\t\\t\\t\\t<div class=\"row\">\\n\\t\\t\\t\\t\\t\\t\\t<div class=\"col-9\">\\n\\t\\t\\t\\t\\t\\t\\t<a href=\"#\" class=\"btn-sm btn-primary btn-order\">Оформить заказ</a>\\n\\t\\t\\t\\t\\t\\t\\t</div>\\n\\t\\t\\t\\t\\t\\t\\t<div class=\"col-3\">\\n\\t\\t\\t\\t\\t\\t\\t<a href=\"#\" class=\"btn-sm btn-primary btn-order\"><i class=\"fa-solid fa-bookmark\"></i></a>\\n\\t\\t\\t\\t\\t\\t\\t</div>\\n\\t\\t\\t\\t\\t\\t</div>\\n\\t\\t\\t\\t\\t\\t-->\\n\\n\\t\\t\\t\\t\\t</div>\\n\\n\\t\\t\\t\\t</div>\\n\\t\\t\\t\\t<!--\\n\\t\\t\\t\\t<div class=\"media position-relative p_list_elem_2\">\\n\\t\\t\\t\\t\\t<a href=\"/product/10627655\"><img style=\"max-height:180px; border-radius:4px; -webkit-box-shadow: 0 10px 6px -6px #777;-moz-box-shadow: 0 10px 6px -6px #777;\\n\\t\\t\\t\\t\\tbox-shadow: 0 10px 6px -6px #777;\" src=\"https://static.biblio-globus.ru/images/ImageHandler.ashx?fileName=10627655.jpg&width=120\" class=\"mr-3\" alt=\"...\"></a>\\n\\t\\t\\t\\t\\t<div class=\"media-body p_list_descr_1\">\\n\\t\\t\\t\\t\\t\\t<div class=\"row\">\\n\\t\\t\\t\\t\\t\\t\\t<div class=\"col-sm-12 col-md-12 col-lg-9\">\\n\\t\\t\\t\\t\\t\\t\\t\\t<span class=\"badge bg-danger\" style=\"font-family:Arial; font-size:.75rem; color:#fff; font-weight:normal; margin-bottom:.85rem;\">Новинка</span>\\n\\n\\t\\t\\t\\t\\t\\t\\t\\t<span>О. Мартин</span>\\n\\t\\t\\t\\t\\t\\t\\t\\t<h5 class=\"mt-0\"><a href=\"/product/10627655\">Байесовский анализ на Python</a></h5>\\n\\t\\t\\t\\t\\t\\t\\t\\t<p>ISBN: 978-5-97060-768-8 <span style=\"padding:3px 5px;\">&bull;</span> 340&nbsp;стр. <span style=\"padding:3px 5px;\">&bull;</span> </p>\\n\\n\\t\\t\\t\\t\\t\\t\\t\\t<p>Эта книга, посвященная методике вероятностного программирования, научит вас создавать гибкие байесовские статистические модели в программном коде.&#xD;&#xA;Сочетание гибкого определения...</p>\\n\\t\\t\\t\\t\\t\\t\\t\\t<a style=\"display:none;\" href=\"#\" class=\"stretched-link p_list_link\"><i class=\"fas fa-book-open\"></i>&nbsp; Подробнее</a>\\n\\t\\t\\t\\t\\t\\t\\t</div>\\n\\t\\t\\t\\t\\t\\t\\t<div class=\"col-sm-12 col-md-12 col-lg-3\">\\n\\t\\t\\t\\t2359&nbsp;&#8381;\\n\\t\\t\\t\\t\\t\\t\\t</div>\\n\\t\\t\\t\\t\\t\\t</div>\\n\\t\\t\\t\\t\\t</div>\\n\\t\\t\\t\\t</div> -->\\n\\t\\t\\t\\t<div class=\"col mb-4\">\\n\\t\\t\\t\\t\\t<div class=\"card h-100\">\\n\\n\\t\\t\\t\\t\\t\\t<a href=\"/product/10577109\" style=\"display: flex; padding:10px 0; align-items:center; text-align:center; background:#f7f7f7; overflow:hidden; min-height:240px; max-height:240px; vertical-align:middle;\" class=\"rounded\">\\n\\t\\t\\t\\t\\t\\t\\t<img style=\"max-height:220px; mix-blend-mode: multiply; margin:0px auto; border-radius:4px;\" src=\"https://static.biblio-globus.ru/images/ImageHandler.ashx?fileName=10577109.jpg&amp;width=260\" class=\"img-fluid\" alt=\"...\">\\n\\t\\t\\t\\t\\t\\t</a>\\n\\n\\t\\t\\t\\t\\t\\t<div class=\"card-body\" style=\"padding-left:0; padding-right:0;\">\\n\\t\\t\\t\\t\\t\\t\\t<div style=\"text-align:left; font-family:\\'Gilroy-Extrabold\\'; font-size:1.2rem;\">\\n\\t\\t\\t\\t\\t\\t\\t\\t1999&nbsp;₽\\n\\n\\n\\n\\t\\t\\t\\t\\t\\t\\t</div>\\n\\n\\t\\t\\t\\t\\t\\t\\t<div class=\"card-title\" style=\"font-size:.92rem; line-height:1.2; margin-top:.3rem;\"><a style=\"color:#444;\" href=\"/product/10577109\">Вероятностное программирование на Pytho...</a></div>\\n\\n\\t\\t\\t\\t\\t\\t\\t<p class=\"card-text\" style=\"color:#555;\">Байесовские методы пугают формулами многих «айтишников», но без анализа стати...</p>\\n\\t\\t\\t\\t\\t\\t</div>\\n\\n\\n\\t\\t\\t\\t\\t\\t<!--\\n\\t\\t\\t\\t\\t\\t<div class=\"row\">\\n\\t\\t\\t\\t\\t\\t\\t<div class=\"col-9\">\\n\\t\\t\\t\\t\\t\\t\\t<a href=\"#\" class=\"btn-sm btn-primary btn-order\">Оформить заказ</a>\\n\\t\\t\\t\\t\\t\\t\\t</div>\\n\\t\\t\\t\\t\\t\\t\\t<div class=\"col-3\">\\n\\t\\t\\t\\t\\t\\t\\t<a href=\"#\" class=\"btn-sm btn-primary btn-order\"><i class=\"fa-solid fa-bookmark\"></i></a>\\n\\t\\t\\t\\t\\t\\t\\t</div>\\n\\t\\t\\t\\t\\t\\t</div>\\n\\t\\t\\t\\t\\t\\t-->\\n\\n\\t\\t\\t\\t\\t</div>\\n\\n\\t\\t\\t\\t</div>\\n\\t\\t\\t\\t<!--\\n\\t\\t\\t\\t<div class=\"media position-relative p_list_elem_2\">\\n\\t\\t\\t\\t\\t<a href=\"/product/10577109\"><img style=\"max-height:180px; border-radius:4px; -webkit-box-shadow: 0 10px 6px -6px #777;-moz-box-shadow: 0 10px 6px -6px #777;\\n\\t\\t\\t\\t\\tbox-shadow: 0 10px 6px -6px #777;\" src=\"https://static.biblio-globus.ru/images/ImageHandler.ashx?fileName=10577109.jpg&width=120\" class=\"mr-3\" alt=\"...\"></a>\\n\\t\\t\\t\\t\\t<div class=\"media-body p_list_descr_1\">\\n\\t\\t\\t\\t\\t\\t<div class=\"row\">\\n\\t\\t\\t\\t\\t\\t\\t<div class=\"col-sm-12 col-md-12 col-lg-9\">\\n\\t\\t\\t\\t\\t\\t\\t\\t<span class=\"badge bg-danger\" style=\"font-family:Arial; font-size:.75rem; color:#fff; font-weight:normal; margin-bottom:.85rem;\">Новинка</span>\\n\\n\\t\\t\\t\\t\\t\\t\\t\\t<span>К. Дэвидсон-Пайлон</span>\\n\\t\\t\\t\\t\\t\\t\\t\\t<h5 class=\"mt-0\"><a href=\"/product/10577109\">Вероятностное программирование на Python : байесовский вывод и алгоритмы</a></h5>\\n\\t\\t\\t\\t\\t\\t\\t\\t<p>ISBN: 978-5-4461-1058-2 <span style=\"padding:3px 5px;\">&bull;</span> 256&nbsp;стр. <span style=\"padding:3px 5px;\">&bull;</span> 12&#x2B;</p>\\n\\n\\t\\t\\t\\t\\t\\t\\t\\t<p>Байесовские методы пугают формулами многих &#xAB;айтишников&#xBB;, но без анализа статистики и вероятностей сейчас не обойтись. Кэмерон Дэвидсон-Пайлон рассказывает о байесовском методе с...</p>\\n\\t\\t\\t\\t\\t\\t\\t\\t<a style=\"display:none;\" href=\"#\" class=\"stretched-link p_list_link\"><i class=\"fas fa-book-open\"></i>&nbsp; Подробнее</a>\\n\\t\\t\\t\\t\\t\\t\\t</div>\\n\\t\\t\\t\\t\\t\\t\\t<div class=\"col-sm-12 col-md-12 col-lg-3\">\\n\\t\\t\\t\\t1999&nbsp;&#8381;\\n\\t\\t\\t\\t\\t\\t\\t</div>\\n\\t\\t\\t\\t\\t\\t</div>\\n\\t\\t\\t\\t\\t</div>\\n\\t\\t\\t\\t</div> -->\\n\\t\\t\\t\\t<div class=\"col mb-4\">\\n\\t\\t\\t\\t\\t<div class=\"card h-100\">\\n\\n\\t\\t\\t\\t\\t\\t<a href=\"/product/10548788\" style=\"display: flex; padding:10px 0; align-items:center; text-align:center; background:#f7f7f7; overflow:hidden; min-height:240px; max-height:240px; vertical-align:middle;\" class=\"rounded\">\\n\\t\\t\\t\\t\\t\\t\\t<img style=\"max-height:220px; mix-blend-mode: multiply; margin:0px auto; border-radius:4px;\" src=\"https://static.biblio-globus.ru/images/ImageHandler.ashx?fileName=10548788.jpg&amp;width=260\" class=\"img-fluid\" alt=\"...\">\\n\\t\\t\\t\\t\\t\\t</a>\\n\\n\\t\\t\\t\\t\\t\\t<div class=\"card-body\" style=\"padding-left:0; padding-right:0;\">\\n\\t\\t\\t\\t\\t\\t\\t<div style=\"text-align:left; font-family:\\'Gilroy-Extrabold\\'; font-size:1.2rem;\">\\n\\t\\t\\t\\t\\t\\t\\t\\t1409&nbsp;₽\\n\\n\\n\\n\\t\\t\\t\\t\\t\\t\\t</div>\\n\\n\\t\\t\\t\\t\\t\\t\\t<div class=\"card-title\" style=\"font-size:.92rem; line-height:1.2; margin-top:.3rem;\"><a style=\"color:#444;\" href=\"/product/10548788\">Python : Карманный справочник</a></div>\\n\\n\\t\\t\\t\\t\\t\\t\\t<p class=\"card-text\" style=\"color:#555;\">Этот краткий справочник по Python карманного типа обновлен с учетом версий 3....</p>\\n\\t\\t\\t\\t\\t\\t</div>\\n\\n\\n\\t\\t\\t\\t\\t\\t<!--\\n\\t\\t\\t\\t\\t\\t<div class=\"row\">\\n\\t\\t\\t\\t\\t\\t\\t<div class=\"col-9\">\\n\\t\\t\\t\\t\\t\\t\\t<a href=\"#\" class=\"btn-sm btn-primary btn-order\">Оформить заказ</a>\\n\\t\\t\\t\\t\\t\\t\\t</div>\\n\\t\\t\\t\\t\\t\\t\\t<div class=\"col-3\">\\n\\t\\t\\t\\t\\t\\t\\t<a href=\"#\" class=\"btn-sm btn-primary btn-order\"><i class=\"fa-solid fa-bookmark\"></i></a>\\n\\t\\t\\t\\t\\t\\t\\t</div>\\n\\t\\t\\t\\t\\t\\t</div>\\n\\t\\t\\t\\t\\t\\t-->\\n\\n\\t\\t\\t\\t\\t</div>\\n\\n\\t\\t\\t\\t</div>\\n\\t\\t\\t\\t<!--\\n\\t\\t\\t\\t<div class=\"media position-relative p_list_elem_2\">\\n\\t\\t\\t\\t\\t<a href=\"/product/10548788\"><img style=\"max-height:180px; border-radius:4px; -webkit-box-shadow: 0 10px 6px -6px #777;-moz-box-shadow: 0 10px 6px -6px #777;\\n\\t\\t\\t\\t\\tbox-shadow: 0 10px 6px -6px #777;\" src=\"https://static.biblio-globus.ru/images/ImageHandler.ashx?fileName=10548788.jpg&width=120\" class=\"mr-3\" alt=\"...\"></a>\\n\\t\\t\\t\\t\\t<div class=\"media-body p_list_descr_1\">\\n\\t\\t\\t\\t\\t\\t<div class=\"row\">\\n\\t\\t\\t\\t\\t\\t\\t<div class=\"col-sm-12 col-md-12 col-lg-9\">\\n\\t\\t\\t\\t\\t\\t\\t\\t<span class=\"badge bg-danger\" style=\"font-family:Arial; font-size:.75rem; color:#fff; font-weight:normal; margin-bottom:.85rem;\">Новинка</span>\\n\\n\\t\\t\\t\\t\\t\\t\\t\\t<span>М. Лутц</span>\\n\\t\\t\\t\\t\\t\\t\\t\\t<h5 class=\"mt-0\"><a href=\"/product/10548788\">Python : Карманный справочник</a></h5>\\n\\t\\t\\t\\t\\t\\t\\t\\t<p>ISBN: 978-5-907114-60-9 <span style=\"padding:3px 5px;\">&bull;</span> 318&nbsp;стр. <span style=\"padding:3px 5px;\">&bull;</span> </p>\\n\\n\\t\\t\\t\\t\\t\\t\\t\\t<p>Этот краткий справочник по Python карманного типа обновлен с учетом версий 3.4 и 2.7 и очень удобен для наведения быстрых справок в процессе разработки программ на Python. В лак...</p>\\n\\t\\t\\t\\t\\t\\t\\t\\t<a style=\"display:none;\" href=\"#\" class=\"stretched-link p_list_link\"><i class=\"fas fa-book-open\"></i>&nbsp; Подробнее</a>\\n\\t\\t\\t\\t\\t\\t\\t</div>\\n\\t\\t\\t\\t\\t\\t\\t<div class=\"col-sm-12 col-md-12 col-lg-3\">\\n\\t\\t\\t\\t1409&nbsp;&#8381;\\n\\t\\t\\t\\t\\t\\t\\t</div>\\n\\t\\t\\t\\t\\t\\t</div>\\n\\t\\t\\t\\t\\t</div>\\n\\t\\t\\t\\t</div> -->\\n\\t\\t\\t\\t<div class=\"col mb-4\">\\n\\t\\t\\t\\t\\t<div class=\"card h-100\">\\n\\n\\t\\t\\t\\t\\t\\t<a href=\"/product/10546976\" style=\"display: flex; padding:10px 0; align-items:center; text-align:center; background:#f7f7f7; overflow:hidden; min-height:240px; max-height:240px; vertical-align:middle;\" class=\"rounded\">\\n\\t\\t\\t\\t\\t\\t\\t<img style=\"max-height:220px; mix-blend-mode: multiply; margin:0px auto; border-radius:4px;\" src=\"https://static.biblio-globus.ru/images/ImageHandler.ashx?fileName=10546976.jpg&amp;width=260\" class=\"img-fluid\" alt=\"...\">\\n\\t\\t\\t\\t\\t\\t</a>\\n\\n\\t\\t\\t\\t\\t\\t<div class=\"card-body\" style=\"padding-left:0; padding-right:0;\">\\n\\t\\t\\t\\t\\t\\t\\t<div style=\"text-align:left; font-family:\\'Gilroy-Extrabold\\'; font-size:1.2rem;\">\\n\\t\\t\\t\\t\\t\\t\\t\\t2349&nbsp;₽\\n\\n\\n\\n\\t\\t\\t\\t\\t\\t\\t</div>\\n\\n\\t\\t\\t\\t\\t\\t\\t<div class=\"card-title\" style=\"font-size:.92rem; line-height:1.2; margin-top:.3rem;\"><a style=\"color:#444;\" href=\"/product/10546976\">Искусственный интеллект с примерами на ...</a></div>\\n\\n\\t\\t\\t\\t\\t\\t\\t<p class=\"card-text\" style=\"color:#555;\">В этой книге исследуются различные сценарии применения искусственного интелле...</p>\\n\\t\\t\\t\\t\\t\\t</div>\\n\\n\\n\\t\\t\\t\\t\\t\\t<!--\\n\\t\\t\\t\\t\\t\\t<div class=\"row\">\\n\\t\\t\\t\\t\\t\\t\\t<div class=\"col-9\">\\n\\t\\t\\t\\t\\t\\t\\t<a href=\"#\" class=\"btn-sm btn-primary btn-order\">Оформить заказ</a>\\n\\t\\t\\t\\t\\t\\t\\t</div>\\n\\t\\t\\t\\t\\t\\t\\t<div class=\"col-3\">\\n\\t\\t\\t\\t\\t\\t\\t<a href=\"#\" class=\"btn-sm btn-primary btn-order\"><i class=\"fa-solid fa-bookmark\"></i></a>\\n\\t\\t\\t\\t\\t\\t\\t</div>\\n\\t\\t\\t\\t\\t\\t</div>\\n\\t\\t\\t\\t\\t\\t-->\\n\\n\\t\\t\\t\\t\\t</div>\\n\\n\\t\\t\\t\\t</div>\\n\\t\\t\\t\\t<!--\\n\\t\\t\\t\\t<div class=\"media position-relative p_list_elem_2\">\\n\\t\\t\\t\\t\\t<a href=\"/product/10546976\"><img style=\"max-height:180px; border-radius:4px; -webkit-box-shadow: 0 10px 6px -6px #777;-moz-box-shadow: 0 10px 6px -6px #777;\\n\\t\\t\\t\\t\\tbox-shadow: 0 10px 6px -6px #777;\" src=\"https://static.biblio-globus.ru/images/ImageHandler.ashx?fileName=10546976.jpg&width=120\" class=\"mr-3\" alt=\"...\"></a>\\n\\t\\t\\t\\t\\t<div class=\"media-body p_list_descr_1\">\\n\\t\\t\\t\\t\\t\\t<div class=\"row\">\\n\\t\\t\\t\\t\\t\\t\\t<div class=\"col-sm-12 col-md-12 col-lg-9\">\\n\\t\\t\\t\\t\\t\\t\\t\\t<span class=\"badge bg-danger\" style=\"font-family:Arial; font-size:.75rem; color:#fff; font-weight:normal; margin-bottom:.85rem;\">Новинка</span>\\n\\n\\t\\t\\t\\t\\t\\t\\t\\t<span>П. Джоши</span>\\n\\t\\t\\t\\t\\t\\t\\t\\t<h5 class=\"mt-0\"><a href=\"/product/10546976\">Искусственный интеллект с примерами на Python</a></h5>\\n\\t\\t\\t\\t\\t\\t\\t\\t<p>ISBN: 978-5-907114-41-8 <span style=\"padding:3px 5px;\">&bull;</span> 444&nbsp;стр. <span style=\"padding:3px 5px;\">&bull;</span> </p>\\n\\n\\t\\t\\t\\t\\t\\t\\t\\t<p>В этой книге исследуются различные сценарии применения искусственного интеллекта, взятые из реальной жизни. Вначале рассматриваются общие концепции искусственного интеллекта, по...</p>\\n\\t\\t\\t\\t\\t\\t\\t\\t<a style=\"display:none;\" href=\"#\" class=\"stretched-link p_list_link\"><i class=\"fas fa-book-open\"></i>&nbsp; Подробнее</a>\\n\\t\\t\\t\\t\\t\\t\\t</div>\\n\\t\\t\\t\\t\\t\\t\\t<div class=\"col-sm-12 col-md-12 col-lg-3\">\\n\\t\\t\\t\\t2349&nbsp;&#8381;\\n\\t\\t\\t\\t\\t\\t\\t</div>\\n\\t\\t\\t\\t\\t\\t</div>\\n\\t\\t\\t\\t\\t</div>\\n\\t\\t\\t\\t</div> -->\\n\\t\\t\\t\\t<div class=\"col mb-4\">\\n\\t\\t\\t\\t\\t<div class=\"card h-100\">\\n\\n\\t\\t\\t\\t\\t\\t<a href=\"/product/10493284\" style=\"display: flex; padding:10px 0; align-items:center; text-align:center; background:#f7f7f7; overflow:hidden; min-height:240px; max-height:240px; vertical-align:middle;\" class=\"rounded\">\\n\\t\\t\\t\\t\\t\\t\\t<img style=\"max-height:220px; mix-blend-mode: multiply; margin:0px auto; border-radius:4px;\" src=\"https://static.biblio-globus.ru/images/ImageHandler.ashx?fileName=10493284.jpg&amp;width=260\" class=\"img-fluid\" alt=\"...\">\\n\\t\\t\\t\\t\\t\\t</a>\\n\\n\\t\\t\\t\\t\\t\\t<div class=\"card-body\" style=\"padding-left:0; padding-right:0;\">\\n\\t\\t\\t\\t\\t\\t\\t<div style=\"text-align:left; font-family:\\'Gilroy-Extrabold\\'; font-size:1.2rem;\">\\n\\t\\t\\t\\t\\t\\t\\t\\t6449&nbsp;₽\\n\\n\\n\\n\\t\\t\\t\\t\\t\\t\\t</div>\\n\\n\\t\\t\\t\\t\\t\\t\\t<div class=\"card-title\" style=\"font-size:.92rem; line-height:1.2; margin-top:.3rem;\"><a style=\"color:#444;\" href=\"/product/10493284\">Стандартная библиотека Python 3</a></div>\\n\\n\\t\\t\\t\\t\\t\\t\\t<p class=\"card-text\" style=\"color:#555;\">В этой книге Даг Хеллман, эксперт по языку Python, описывает все основные раз...</p>\\n\\t\\t\\t\\t\\t\\t</div>\\n\\n\\n\\t\\t\\t\\t\\t\\t<!--\\n\\t\\t\\t\\t\\t\\t<div class=\"row\">\\n\\t\\t\\t\\t\\t\\t\\t<div class=\"col-9\">\\n\\t\\t\\t\\t\\t\\t\\t<a href=\"#\" class=\"btn-sm btn-primary btn-order\">Оформить заказ</a>\\n\\t\\t\\t\\t\\t\\t\\t</div>\\n\\t\\t\\t\\t\\t\\t\\t<div class=\"col-3\">\\n\\t\\t\\t\\t\\t\\t\\t<a href=\"#\" class=\"btn-sm btn-primary btn-order\"><i class=\"fa-solid fa-bookmark\"></i></a>\\n\\t\\t\\t\\t\\t\\t\\t</div>\\n\\t\\t\\t\\t\\t\\t</div>\\n\\t\\t\\t\\t\\t\\t-->\\n\\n\\t\\t\\t\\t\\t</div>\\n\\n\\t\\t\\t\\t</div>\\n\\t\\t\\t\\t<!--\\n\\t\\t\\t\\t<div class=\"media position-relative p_list_elem_2\">\\n\\t\\t\\t\\t\\t<a href=\"/product/10493284\"><img style=\"max-height:180px; border-radius:4px; -webkit-box-shadow: 0 10px 6px -6px #777;-moz-box-shadow: 0 10px 6px -6px #777;\\n\\t\\t\\t\\t\\tbox-shadow: 0 10px 6px -6px #777;\" src=\"https://static.biblio-globus.ru/images/ImageHandler.ashx?fileName=10493284.jpg&width=120\" class=\"mr-3\" alt=\"...\"></a>\\n\\t\\t\\t\\t\\t<div class=\"media-body p_list_descr_1\">\\n\\t\\t\\t\\t\\t\\t<div class=\"row\">\\n\\t\\t\\t\\t\\t\\t\\t<div class=\"col-sm-12 col-md-12 col-lg-9\">\\n\\t\\t\\t\\t\\t\\t\\t\\t<span class=\"badge bg-danger\" style=\"font-family:Arial; font-size:.75rem; color:#fff; font-weight:normal; margin-bottom:.85rem;\">Новинка</span>\\n\\n\\t\\t\\t\\t\\t\\t\\t\\t<span>Д. Хеллман</span>\\n\\t\\t\\t\\t\\t\\t\\t\\t<h5 class=\"mt-0\"><a href=\"/product/10493284\">Стандартная библиотека Python 3</a></h5>\\n\\t\\t\\t\\t\\t\\t\\t\\t<p>ISBN: 978-5-6040043-8-8 <span style=\"padding:3px 5px;\">&bull;</span> 1376&nbsp;стр. <span style=\"padding:3px 5px;\">&bull;</span> </p>\\n\\n\\t\\t\\t\\t\\t\\t\\t\\t<p>В этой книге Даг Хеллман, эксперт по языку Python, описывает все основные разделы библиотеки Python 3.x, сопровождая изложение материала компактными примерами исходного кода и р...</p>\\n\\t\\t\\t\\t\\t\\t\\t\\t<a style=\"display:none;\" href=\"#\" class=\"stretched-link p_list_link\"><i class=\"fas fa-book-open\"></i>&nbsp; Подробнее</a>\\n\\t\\t\\t\\t\\t\\t\\t</div>\\n\\t\\t\\t\\t\\t\\t\\t<div class=\"col-sm-12 col-md-12 col-lg-3\">\\n\\t\\t\\t\\t6449&nbsp;&#8381;\\n\\t\\t\\t\\t\\t\\t\\t</div>\\n\\t\\t\\t\\t\\t\\t</div>\\n\\t\\t\\t\\t\\t</div>\\n\\t\\t\\t\\t</div> -->\\n\\t\\t\\t\\t<div class=\"col mb-4\">\\n\\t\\t\\t\\t\\t<div class=\"card h-100\">\\n\\n\\t\\t\\t\\t\\t\\t<a href=\"/product/10487932\" style=\"display: flex; padding:10px 0; align-items:center; text-align:center; background:#f7f7f7; overflow:hidden; min-height:240px; max-height:240px; vertical-align:middle;\" class=\"rounded\">\\n\\t\\t\\t\\t\\t\\t\\t<img style=\"max-height:220px; mix-blend-mode: multiply; margin:0px auto; border-radius:4px;\" src=\"https://static.biblio-globus.ru/images/ImageHandler.ashx?fileName=10487932.jpg&amp;width=260\" class=\"img-fluid\" alt=\"...\">\\n\\t\\t\\t\\t\\t\\t</a>\\n\\n\\t\\t\\t\\t\\t\\t<div class=\"card-body\" style=\"padding-left:0; padding-right:0;\">\\n\\t\\t\\t\\t\\t\\t\\t<div style=\"text-align:left; font-family:\\'Gilroy-Extrabold\\'; font-size:1.2rem;\">\\n\\t\\t\\t\\t\\t\\t\\t\\t1959&nbsp;₽\\n\\n\\n\\n\\t\\t\\t\\t\\t\\t\\t</div>\\n\\n\\t\\t\\t\\t\\t\\t\\t<div class=\"card-title\" style=\"font-size:.92rem; line-height:1.2; margin-top:.3rem;\"><a style=\"color:#444;\" href=\"/product/10487932\">Python для сложных задач: наука о данны...</a></div>\\n\\n\\t\\t\\t\\t\\t\\t\\t<p class=\"card-text\" style=\"color:#555;\">Книга «Python Data Science Handbook» - это подробное руководство по самым раз...</p>\\n\\t\\t\\t\\t\\t\\t</div>\\n\\n\\n\\t\\t\\t\\t\\t\\t<!--\\n\\t\\t\\t\\t\\t\\t<div class=\"row\">\\n\\t\\t\\t\\t\\t\\t\\t<div class=\"col-9\">\\n\\t\\t\\t\\t\\t\\t\\t<a href=\"#\" class=\"btn-sm btn-primary btn-order\">Оформить заказ</a>\\n\\t\\t\\t\\t\\t\\t\\t</div>\\n\\t\\t\\t\\t\\t\\t\\t<div class=\"col-3\">\\n\\t\\t\\t\\t\\t\\t\\t<a href=\"#\" class=\"btn-sm btn-primary btn-order\"><i class=\"fa-solid fa-bookmark\"></i></a>\\n\\t\\t\\t\\t\\t\\t\\t</div>\\n\\t\\t\\t\\t\\t\\t</div>\\n\\t\\t\\t\\t\\t\\t-->\\n\\n\\t\\t\\t\\t\\t</div>\\n\\n\\t\\t\\t\\t</div>\\n\\t\\t\\t\\t<!--\\n\\t\\t\\t\\t<div class=\"media position-relative p_list_elem_2\">\\n\\t\\t\\t\\t\\t<a href=\"/product/10487932\"><img style=\"max-height:180px; border-radius:4px; -webkit-box-shadow: 0 10px 6px -6px #777;-moz-box-shadow: 0 10px 6px -6px #777;\\n\\t\\t\\t\\t\\tbox-shadow: 0 10px 6px -6px #777;\" src=\"https://static.biblio-globus.ru/images/ImageHandler.ashx?fileName=10487932.jpg&width=120\" class=\"mr-3\" alt=\"...\"></a>\\n\\t\\t\\t\\t\\t<div class=\"media-body p_list_descr_1\">\\n\\t\\t\\t\\t\\t\\t<div class=\"row\">\\n\\t\\t\\t\\t\\t\\t\\t<div class=\"col-sm-12 col-md-12 col-lg-9\">\\n\\t\\t\\t\\t\\t\\t\\t\\t<span class=\"badge bg-danger\" style=\"font-family:Arial; font-size:.75rem; color:#fff; font-weight:normal; margin-bottom:.85rem;\">Новинка</span>\\n\\n\\t\\t\\t\\t\\t\\t\\t\\t<span>Дж. В. Плас</span>\\n\\t\\t\\t\\t\\t\\t\\t\\t<h5 class=\"mt-0\"><a href=\"/product/10487932\">Python для сложных задач: наука о данных и машинное обучение</a></h5>\\n\\t\\t\\t\\t\\t\\t\\t\\t<p>ISBN: 978-5-4461-0914-2 <span style=\"padding:3px 5px;\">&bull;</span> 576&nbsp;стр. <span style=\"padding:3px 5px;\">&bull;</span> 16&#x2B;</p>\\n\\n\\t\\t\\t\\t\\t\\t\\t\\t<p>Книга &#xAB;Python Data Science Handbook&#xBB; - это подробное руководство по самым разным вычислительным и статистическим методам, без которых немыслима любая интенсивная обработка данны...</p>\\n\\t\\t\\t\\t\\t\\t\\t\\t<a style=\"display:none;\" href=\"#\" class=\"stretched-link p_list_link\"><i class=\"fas fa-book-open\"></i>&nbsp; Подробнее</a>\\n\\t\\t\\t\\t\\t\\t\\t</div>\\n\\t\\t\\t\\t\\t\\t\\t<div class=\"col-sm-12 col-md-12 col-lg-3\">\\n\\t\\t\\t\\t1959&nbsp;&#8381;\\n\\t\\t\\t\\t\\t\\t\\t</div>\\n\\t\\t\\t\\t\\t\\t</div>\\n\\t\\t\\t\\t\\t</div>\\n\\t\\t\\t\\t</div> -->\\n\\t\\t\\t\\t<div class=\"col mb-4\">\\n\\t\\t\\t\\t\\t<div class=\"card h-100\">\\n\\n\\t\\t\\t\\t\\t\\t<a href=\"/product/10873807\" style=\"display: flex; padding:10px 0; align-items:center; text-align:center; background:#f7f7f7; overflow:hidden; min-height:240px; max-height:240px; vertical-align:middle;\" class=\"rounded\">\\n\\t\\t\\t\\t\\t\\t\\t<img style=\"max-height:220px; mix-blend-mode: multiply; margin:0px auto; border-radius:4px;\" src=\"https://static.biblio-globus.ru/images/ImageHandler.ashx?fileName=10873807.jpg&amp;width=260\" class=\"img-fluid\" alt=\"...\">\\n\\t\\t\\t\\t\\t\\t</a>\\n\\n\\t\\t\\t\\t\\t\\t<div class=\"card-body\" style=\"padding-left:0; padding-right:0;\">\\n\\t\\t\\t\\t\\t\\t\\t<div style=\"text-align:left; font-family:\\'Gilroy-Extrabold\\'; font-size:1.2rem;\">\\n\\t\\t\\t\\t\\t\\t\\t\\t3409&nbsp;₽\\n\\n\\t\\t\\t\\t\\t\\t\\t\\t\\t<span class=\"badge bg-danger product-new\">Новинка</span>\\n\\n\\n\\t\\t\\t\\t\\t\\t\\t</div>\\n\\n\\t\\t\\t\\t\\t\\t\\t<div class=\"card-title\" style=\"font-size:.92rem; line-height:1.2; margin-top:.3rem;\"><a style=\"color:#444;\" href=\"/product/10873807\">Объяснимые модели искусственного интелл...</a></div>\\n\\n\\t\\t\\t\\t\\t\\t\\t<p class=\"card-text\" style=\"color:#555;\">В этой книге рассматриваются так называемые модели \"черного ящика\" для повыше...</p>\\n\\t\\t\\t\\t\\t\\t</div>\\n\\n\\n\\t\\t\\t\\t\\t\\t<!--\\n\\t\\t\\t\\t\\t\\t<div class=\"row\">\\n\\t\\t\\t\\t\\t\\t\\t<div class=\"col-9\">\\n\\t\\t\\t\\t\\t\\t\\t<a href=\"#\" class=\"btn-sm btn-primary btn-order\">Оформить заказ</a>\\n\\t\\t\\t\\t\\t\\t\\t</div>\\n\\t\\t\\t\\t\\t\\t\\t<div class=\"col-3\">\\n\\t\\t\\t\\t\\t\\t\\t<a href=\"#\" class=\"btn-sm btn-primary btn-order\"><i class=\"fa-solid fa-bookmark\"></i></a>\\n\\t\\t\\t\\t\\t\\t\\t</div>\\n\\t\\t\\t\\t\\t\\t</div>\\n\\t\\t\\t\\t\\t\\t-->\\n\\n\\t\\t\\t\\t\\t</div>\\n\\n\\t\\t\\t\\t</div>\\n\\t\\t\\t\\t<!--\\n\\t\\t\\t\\t<div class=\"media position-relative p_list_elem_2\">\\n\\t\\t\\t\\t\\t<a href=\"/product/10873807\"><img style=\"max-height:180px; border-radius:4px; -webkit-box-shadow: 0 10px 6px -6px #777;-moz-box-shadow: 0 10px 6px -6px #777;\\n\\t\\t\\t\\t\\tbox-shadow: 0 10px 6px -6px #777;\" src=\"https://static.biblio-globus.ru/images/ImageHandler.ashx?fileName=10873807.jpg&width=120\" class=\"mr-3\" alt=\"...\"></a>\\n\\t\\t\\t\\t\\t<div class=\"media-body p_list_descr_1\">\\n\\t\\t\\t\\t\\t\\t<div class=\"row\">\\n\\t\\t\\t\\t\\t\\t\\t<div class=\"col-sm-12 col-md-12 col-lg-9\">\\n\\t\\t\\t\\t\\t\\t\\t\\t<span class=\"badge bg-danger\" style=\"font-family:Arial; font-size:.75rem; color:#fff; font-weight:normal; margin-bottom:.85rem;\">Новинка</span>\\n\\n\\t\\t\\t\\t\\t\\t\\t\\t<span>П. Мишра</span>\\n\\t\\t\\t\\t\\t\\t\\t\\t<h5 class=\"mt-0\"><a href=\"/product/10873807\">Объяснимые модели искусственного интеллекта на Python</a></h5>\\n\\t\\t\\t\\t\\t\\t\\t\\t<p>ISBN: 978-5-93700-124-5 <span style=\"padding:3px 5px;\">&bull;</span> 298&nbsp;стр. <span style=\"padding:3px 5px;\">&bull;</span> </p>\\n\\n\\t\\t\\t\\t\\t\\t\\t\\t<p>В этой книге рассматриваются так называемые модели &quot;черного ящика&quot; для повышения адаптивности, интерпретируемости и объяснимости решений, принимаемых алгоритмами искусственного ...</p>\\n\\t\\t\\t\\t\\t\\t\\t\\t<a style=\"display:none;\" href=\"#\" class=\"stretched-link p_list_link\"><i class=\"fas fa-book-open\"></i>&nbsp; Подробнее</a>\\n\\t\\t\\t\\t\\t\\t\\t</div>\\n\\t\\t\\t\\t\\t\\t\\t<div class=\"col-sm-12 col-md-12 col-lg-3\">\\n\\t\\t\\t\\t3409&nbsp;&#8381;\\n\\t\\t\\t\\t\\t\\t\\t</div>\\n\\t\\t\\t\\t\\t\\t</div>\\n\\t\\t\\t\\t\\t</div>\\n\\t\\t\\t\\t</div> -->\\n\\t\\t\\t\\t<div class=\"col mb-4\">\\n\\t\\t\\t\\t\\t<div class=\"card h-100\">\\n\\n\\t\\t\\t\\t\\t\\t<a href=\"/product/10870208\" style=\"display: flex; padding:10px 0; align-items:center; text-align:center; background:#f7f7f7; overflow:hidden; min-height:240px; max-height:240px; vertical-align:middle;\" class=\"rounded\">\\n\\t\\t\\t\\t\\t\\t\\t<img style=\"max-height:220px; mix-blend-mode: multiply; margin:0px auto; border-radius:4px;\" src=\"https://static.biblio-globus.ru/images/ImageHandler.ashx?fileName=10870208.jpg&amp;width=260\" class=\"img-fluid\" alt=\"...\">\\n\\t\\t\\t\\t\\t\\t</a>\\n\\n\\t\\t\\t\\t\\t\\t<div class=\"card-body\" style=\"padding-left:0; padding-right:0;\">\\n\\t\\t\\t\\t\\t\\t\\t<div style=\"text-align:left; font-family:\\'Gilroy-Extrabold\\'; font-size:1.2rem;\">\\n\\t\\t\\t\\t\\t\\t\\t\\t6549&nbsp;₽\\n\\n\\n\\n\\t\\t\\t\\t\\t\\t\\t</div>\\n\\n\\t\\t\\t\\t\\t\\t\\t<div class=\"card-title\" style=\"font-size:.92rem; line-height:1.2; margin-top:.3rem;\"><a style=\"color:#444;\" href=\"/product/10870208\">PYTHON. К вершинам мастерства. </a></div>\\n\\n\\t\\t\\t\\t\\t\\t\\t<p class=\"card-text\" style=\"color:#555;\">Не тратьте зря времени, пытаясь подогнать Python под способы программирования...</p>\\n\\t\\t\\t\\t\\t\\t</div>\\n\\n\\n\\t\\t\\t\\t\\t\\t<!--\\n\\t\\t\\t\\t\\t\\t<div class=\"row\">\\n\\t\\t\\t\\t\\t\\t\\t<div class=\"col-9\">\\n\\t\\t\\t\\t\\t\\t\\t<a href=\"#\" class=\"btn-sm btn-primary btn-order\">Оформить заказ</a>\\n\\t\\t\\t\\t\\t\\t\\t</div>\\n\\t\\t\\t\\t\\t\\t\\t<div class=\"col-3\">\\n\\t\\t\\t\\t\\t\\t\\t<a href=\"#\" class=\"btn-sm btn-primary btn-order\"><i class=\"fa-solid fa-bookmark\"></i></a>\\n\\t\\t\\t\\t\\t\\t\\t</div>\\n\\t\\t\\t\\t\\t\\t</div>\\n\\t\\t\\t\\t\\t\\t-->\\n\\n\\t\\t\\t\\t\\t</div>\\n\\n\\t\\t\\t\\t</div>\\n\\t\\t\\t\\t<!--\\n\\t\\t\\t\\t<div class=\"media position-relative p_list_elem_2\">\\n\\t\\t\\t\\t\\t<a href=\"/product/10870208\"><img style=\"max-height:180px; border-radius:4px; -webkit-box-shadow: 0 10px 6px -6px #777;-moz-box-shadow: 0 10px 6px -6px #777;\\n\\t\\t\\t\\t\\tbox-shadow: 0 10px 6px -6px #777;\" src=\"https://static.biblio-globus.ru/images/ImageHandler.ashx?fileName=10870208.jpg&width=120\" class=\"mr-3\" alt=\"...\"></a>\\n\\t\\t\\t\\t\\t<div class=\"media-body p_list_descr_1\">\\n\\t\\t\\t\\t\\t\\t<div class=\"row\">\\n\\t\\t\\t\\t\\t\\t\\t<div class=\"col-sm-12 col-md-12 col-lg-9\">\\n\\t\\t\\t\\t\\t\\t\\t\\t<span class=\"badge bg-danger\" style=\"font-family:Arial; font-size:.75rem; color:#fff; font-weight:normal; margin-bottom:.85rem;\">Новинка</span>\\n\\n\\t\\t\\t\\t\\t\\t\\t\\t<span>Л. Рамальо</span>\\n\\t\\t\\t\\t\\t\\t\\t\\t<h5 class=\"mt-0\"><a href=\"/product/10870208\">PYTHON. К вершинам мастерства. </a></h5>\\n\\t\\t\\t\\t\\t\\t\\t\\t<p>ISBN: 978-5-97060-885-2 <span style=\"padding:3px 5px;\">&bull;</span> 898&nbsp;стр. <span style=\"padding:3px 5px;\">&bull;</span> </p>\\n\\n\\t\\t\\t\\t\\t\\t\\t\\t<p>Не тратьте зря времени, пытаясь подогнать Python под способы программирования, знакомые вам по другим языкам. Python настолько прост, что вы очень быстро освоите его в общих чер...</p>\\n\\t\\t\\t\\t\\t\\t\\t\\t<a style=\"display:none;\" href=\"#\" class=\"stretched-link p_list_link\"><i class=\"fas fa-book-open\"></i>&nbsp; Подробнее</a>\\n\\t\\t\\t\\t\\t\\t\\t</div>\\n\\t\\t\\t\\t\\t\\t\\t<div class=\"col-sm-12 col-md-12 col-lg-3\">\\n\\t\\t\\t\\t6549&nbsp;&#8381;\\n\\t\\t\\t\\t\\t\\t\\t</div>\\n\\t\\t\\t\\t\\t\\t</div>\\n\\t\\t\\t\\t\\t</div>\\n\\t\\t\\t\\t</div> -->\\n\\t\\t\\t\\t<div class=\"col mb-4\">\\n\\t\\t\\t\\t\\t<div class=\"card h-100\">\\n\\n\\t\\t\\t\\t\\t\\t<a href=\"/product/10854863\" style=\"display: flex; padding:10px 0; align-items:center; text-align:center; background:#f7f7f7; overflow:hidden; min-height:240px; max-height:240px; vertical-align:middle;\" class=\"rounded\">\\n\\t\\t\\t\\t\\t\\t\\t<img style=\"max-height:220px; mix-blend-mode: multiply; margin:0px auto; border-radius:4px;\" src=\"https://static.biblio-globus.ru/images/ImageHandler.ashx?fileName=10854863.jpg&amp;width=260\" class=\"img-fluid\" alt=\"...\">\\n\\t\\t\\t\\t\\t\\t</a>\\n\\n\\t\\t\\t\\t\\t\\t<div class=\"card-body\" style=\"padding-left:0; padding-right:0;\">\\n\\t\\t\\t\\t\\t\\t\\t<div style=\"text-align:left; font-family:\\'Gilroy-Extrabold\\'; font-size:1.2rem;\">\\n\\t\\t\\t\\t\\t\\t\\t\\t679&nbsp;₽\\n\\n\\n\\n\\t\\t\\t\\t\\t\\t\\t</div>\\n\\n\\t\\t\\t\\t\\t\\t\\t<div class=\"card-title\" style=\"font-size:.92rem; line-height:1.2; margin-top:.3rem;\"><a style=\"color:#444;\" href=\"/product/10854863\">Python.Создаем программы и игры</a></div>\\n\\n\\t\\t\\t\\t\\t\\t\\t<p class=\"card-text\" style=\"color:#555;\">Данная книга позволяет уже с первых шагов создавать свои программы на языке P...</p>\\n\\t\\t\\t\\t\\t\\t</div>\\n\\n\\n\\t\\t\\t\\t\\t\\t<!--\\n\\t\\t\\t\\t\\t\\t<div class=\"row\">\\n\\t\\t\\t\\t\\t\\t\\t<div class=\"col-9\">\\n\\t\\t\\t\\t\\t\\t\\t<a href=\"#\" class=\"btn-sm btn-primary btn-order\">Оформить заказ</a>\\n\\t\\t\\t\\t\\t\\t\\t</div>\\n\\t\\t\\t\\t\\t\\t\\t<div class=\"col-3\">\\n\\t\\t\\t\\t\\t\\t\\t<a href=\"#\" class=\"btn-sm btn-primary btn-order\"><i class=\"fa-solid fa-bookmark\"></i></a>\\n\\t\\t\\t\\t\\t\\t\\t</div>\\n\\t\\t\\t\\t\\t\\t</div>\\n\\t\\t\\t\\t\\t\\t-->\\n\\n\\t\\t\\t\\t\\t</div>\\n\\n\\t\\t\\t\\t</div>\\n\\t\\t\\t\\t<!--\\n\\t\\t\\t\\t<div class=\"media position-relative p_list_elem_2\">\\n\\t\\t\\t\\t\\t<a href=\"/product/10854863\"><img style=\"max-height:180px; border-radius:4px; -webkit-box-shadow: 0 10px 6px -6px #777;-moz-box-shadow: 0 10px 6px -6px #777;\\n\\t\\t\\t\\t\\tbox-shadow: 0 10px 6px -6px #777;\" src=\"https://static.biblio-globus.ru/images/ImageHandler.ashx?fileName=10854863.jpg&width=120\" class=\"mr-3\" alt=\"...\"></a>\\n\\t\\t\\t\\t\\t<div class=\"media-body p_list_descr_1\">\\n\\t\\t\\t\\t\\t\\t<div class=\"row\">\\n\\t\\t\\t\\t\\t\\t\\t<div class=\"col-sm-12 col-md-12 col-lg-9\">\\n\\t\\t\\t\\t\\t\\t\\t\\t<span class=\"badge bg-danger\" style=\"font-family:Arial; font-size:.75rem; color:#fff; font-weight:normal; margin-bottom:.85rem;\">Новинка</span>\\n\\n\\t\\t\\t\\t\\t\\t\\t\\t<span>Д. М. Кольцов </span>\\n\\t\\t\\t\\t\\t\\t\\t\\t<h5 class=\"mt-0\"><a href=\"/product/10854863\">Python.Создаем программы и игры</a></h5>\\n\\t\\t\\t\\t\\t\\t\\t\\t<p>ISBN: 978-5-907592-01-8 <span style=\"padding:3px 5px;\">&bull;</span> 432&nbsp;стр. <span style=\"padding:3px 5px;\">&bull;</span> 12&#x2B;</p>\\n\\n\\t\\t\\t\\t\\t\\t\\t\\t<p>Данная книга позволяет уже с первых шагов создавать свои программы на языке Python. Акцент сделан на написании компьютерных игр и небольших приложений. Для удобства начинающих п...</p>\\n\\t\\t\\t\\t\\t\\t\\t\\t<a style=\"display:none;\" href=\"#\" class=\"stretched-link p_list_link\"><i class=\"fas fa-book-open\"></i>&nbsp; Подробнее</a>\\n\\t\\t\\t\\t\\t\\t\\t</div>\\n\\t\\t\\t\\t\\t\\t\\t<div class=\"col-sm-12 col-md-12 col-lg-3\">\\n\\t\\t\\t\\t679&nbsp;&#8381;\\n\\t\\t\\t\\t\\t\\t\\t</div>\\n\\t\\t\\t\\t\\t\\t</div>\\n\\t\\t\\t\\t\\t</div>\\n\\t\\t\\t\\t</div> -->\\n\\t\\t\\t\\t<div class=\"col mb-4\">\\n\\t\\t\\t\\t\\t<div class=\"card h-100\">\\n\\n\\t\\t\\t\\t\\t\\t<a href=\"/product/10849439\" style=\"display: flex; padding:10px 0; align-items:center; text-align:center; background:#f7f7f7; overflow:hidden; min-height:240px; max-height:240px; vertical-align:middle;\" class=\"rounded\">\\n\\t\\t\\t\\t\\t\\t\\t<img style=\"max-height:220px; mix-blend-mode: multiply; margin:0px auto; border-radius:4px;\" src=\"https://static.biblio-globus.ru/images/ImageHandler.ashx?fileName=10849439.jpg&amp;width=260\" class=\"img-fluid\" alt=\"...\">\\n\\t\\t\\t\\t\\t\\t</a>\\n\\n\\t\\t\\t\\t\\t\\t<div class=\"card-body\" style=\"padding-left:0; padding-right:0;\">\\n\\t\\t\\t\\t\\t\\t\\t<div style=\"text-align:left; font-family:\\'Gilroy-Extrabold\\'; font-size:1.2rem;\">\\n\\t\\t\\t\\t\\t\\t\\t\\t2619&nbsp;₽\\n\\n\\n\\n\\t\\t\\t\\t\\t\\t\\t</div>\\n\\n\\t\\t\\t\\t\\t\\t\\t<div class=\"card-title\" style=\"font-size:.92rem; line-height:1.2; margin-top:.3rem;\"><a style=\"color:#444;\" href=\"/product/10849439\">Начинаем программировать на Python</a></div>\\n\\n\\t\\t\\t\\t\\t\\t\\t<p class=\"card-text\" style=\"color:#555;\">Изложены принципы программирования, с помощью которых читатель приобретет нав...</p>\\n\\t\\t\\t\\t\\t\\t</div>\\n\\n\\n\\t\\t\\t\\t\\t\\t<!--\\n\\t\\t\\t\\t\\t\\t<div class=\"row\">\\n\\t\\t\\t\\t\\t\\t\\t<div class=\"col-9\">\\n\\t\\t\\t\\t\\t\\t\\t<a href=\"#\" class=\"btn-sm btn-primary btn-order\">Оформить заказ</a>\\n\\t\\t\\t\\t\\t\\t\\t</div>\\n\\t\\t\\t\\t\\t\\t\\t<div class=\"col-3\">\\n\\t\\t\\t\\t\\t\\t\\t<a href=\"#\" class=\"btn-sm btn-primary btn-order\"><i class=\"fa-solid fa-bookmark\"></i></a>\\n\\t\\t\\t\\t\\t\\t\\t</div>\\n\\t\\t\\t\\t\\t\\t</div>\\n\\t\\t\\t\\t\\t\\t-->\\n\\n\\t\\t\\t\\t\\t</div>\\n\\n\\t\\t\\t\\t</div>\\n\\t\\t\\t\\t<!--\\n\\t\\t\\t\\t<div class=\"media position-relative p_list_elem_2\">\\n\\t\\t\\t\\t\\t<a href=\"/product/10849439\"><img style=\"max-height:180px; border-radius:4px; -webkit-box-shadow: 0 10px 6px -6px #777;-moz-box-shadow: 0 10px 6px -6px #777;\\n\\t\\t\\t\\t\\tbox-shadow: 0 10px 6px -6px #777;\" src=\"https://static.biblio-globus.ru/images/ImageHandler.ashx?fileName=10849439.jpg&width=120\" class=\"mr-3\" alt=\"...\"></a>\\n\\t\\t\\t\\t\\t<div class=\"media-body p_list_descr_1\">\\n\\t\\t\\t\\t\\t\\t<div class=\"row\">\\n\\t\\t\\t\\t\\t\\t\\t<div class=\"col-sm-12 col-md-12 col-lg-9\">\\n\\t\\t\\t\\t\\t\\t\\t\\t<span class=\"badge bg-danger\" style=\"font-family:Arial; font-size:.75rem; color:#fff; font-weight:normal; margin-bottom:.85rem;\">Новинка</span>\\n\\n\\t\\t\\t\\t\\t\\t\\t\\t<span>Т. Гэддис </span>\\n\\t\\t\\t\\t\\t\\t\\t\\t<h5 class=\"mt-0\"><a href=\"/product/10849439\">Начинаем программировать на Python</a></h5>\\n\\t\\t\\t\\t\\t\\t\\t\\t<p>ISBN: 978-5-9775-6803-6 <span style=\"padding:3px 5px;\">&bull;</span> 880&nbsp;стр. <span style=\"padding:3px 5px;\">&bull;</span> </p>\\n\\n\\t\\t\\t\\t\\t\\t\\t\\t<p>Изложены принципы программирования, с помощью которых читатель приобретет навыки алгоритмического решения задач на языке Python, даже не имея опыта программирования. Дано кратко...</p>\\n\\t\\t\\t\\t\\t\\t\\t\\t<a style=\"display:none;\" href=\"#\" class=\"stretched-link p_list_link\"><i class=\"fas fa-book-open\"></i>&nbsp; Подробнее</a>\\n\\t\\t\\t\\t\\t\\t\\t</div>\\n\\t\\t\\t\\t\\t\\t\\t<div class=\"col-sm-12 col-md-12 col-lg-3\">\\n\\t\\t\\t\\t2619&nbsp;&#8381;\\n\\t\\t\\t\\t\\t\\t\\t</div>\\n\\t\\t\\t\\t\\t\\t</div>\\n\\t\\t\\t\\t\\t</div>\\n\\t\\t\\t\\t</div> -->\\n\\t\\t</div>\\n\\t\\t<nav><ul class=\"pagination justify-content-center\"><li class=\"page-item active\"> <a class=\"page-link\" href=\"#\">1</a></li><li class=\"page-item\"><a class=\"page-link\" data-page=\"2\" href=\"https://www.biblio-globus.ru/search?q=Python&amp;pagenumber=2\">2</a></li><li class=\"page-item\"><a class=\"page-link\" data-page=\"3\" href=\"https://www.biblio-globus.ru/search?q=Python&amp;pagenumber=3\">3</a></li><li class=\"page-item\"><a class=\"page-link\" data-page=\"2\" href=\"https://www.biblio-globus.ru/search?q=Python&amp;pagenumber=2\"><i class=\"fa-solid fa-angle-right\"></i></a></li><li class=\"page-item\"><a class=\"page-link\" data-page=\"7\" href=\"https://www.biblio-globus.ru/search?q=Python&amp;pagenumber=7\"><i class=\"fa-solid fa-angles-right\"></i></a></li></ul></nav>\\n\\t </div>\\n\\n\\n\\n \\n\\n    </div>\\n\\n  </div>\\n\\n</main>\\n\\n\\n    <div class=\"container\">\\n        <div class=\"row blog-footer\">\\n\\n            <div class=\"col-md-4\" style=\"text-align:left;\">\\n                <h5 style=\"color:#777777;\">Контактная информация</h5>\\n                <ul class=\"list-unstyled\">\\n                    <li style=\"font-size:.8rem; margin-bottom:20px;\">\\n                        Телефон: <a href=\"tel:+74957811900\">+7 (495) 781-19-00</a><br>\\n                        E-mail: <a href=\"mailto:mail@biblio-globus.ru\">mail@biblio-globus.ru</a>\\n                    </li>\\n                    <li style=\"font-size:.8rem; margin-bottom:10px;\">\\n                        Адрес: г.&nbsp;Москва, Мясницкая&nbsp;ул., д.&nbsp;6/3, стр.&nbsp;1.\\n                    </li>\\n                    <li style=\"font-size:.8rem; margin-bottom:10px;\">\\n                        Проезд до станций метро:<br>\\n                        \"Лубянка\",\"Кузнецкий мост\", \"Китай-город\".\\n                    </li>\\n                    <li style=\"font-size:.8rem; margin-bottom:20px;\">\\n                        Часы работы:<br>\\n                        Будни: 9.00 - 21.00<br>\\n                        Выходные: 10.00 - 21.00<br>\\n                        Без перерыва.\\n                    </li>\\n                </ul>\\n            </div>\\n            <div class=\"col-md-4\" style=\"text-align:left;\">\\n                <h5 style=\"color:#777777;\">Интернет-магазин</h5>\\n                <ul class=\"list-unstyled\">\\n                    <li style=\"font-size:.8rem; margin-bottom:10px;\">\\n                        <a href=\"https://www.bgshop.ru\" target=\"_blank\">www.bgshop.ru</a>\\n                    </li>\\n\\n                    <li style=\"font-size:.8rem; margin-bottom:10px;\">\\n                        Время работы службы выдачи заказов (м. Лубянка):<br>\\n                        Будни: 9.00 - 21.00<br>\\n                        Выходные: 10.00 - 21.00<br>\\n                        Без перерыва.\\n                    </li>\\n                    <li style=\"font-size:.8rem; margin-bottom:20px;\">\\n                        Телефон: <a href=\"tel:+74957811912\">+7 (495) 781-19-12</a><br>\\n                        E-mail: <a href=\"mailto:web.logist@bgshop.ru\">web.logist@bgshop.ru</a>\\n                    </li>\\n                </ul>\\n            </div>\\n            <div class=\"col-md-4\" style=\"text-align:left;\">\\n                <h5 style=\"color:#777777;\">Сервисы</h5>\\n                <ul class=\"list-unstyled\">\\n                    <li style=\"font-size:.8rem; margin-bottom:10px;\">\\n                        Вход для поставщиков: <a href=\"http://blog.biblio-globus.ru/vendor\" target=\"_blank\">«Кабинет поставщика» <i class=\"fa-solid fa-arrow-up-right-from-square\"></i></a>\\n                    </li>\\n                    <li style=\"font-size:.8rem; margin-bottom:30px;\">\\n                        Вход для комитентов: <a href=\"http://blog.biblio-globus.ru/comitent\" target=\"_blank\">«Кабинет комитента» <i class=\"fa-solid fa-arrow-up-right-from-square\"></i></a>\\n                    </li>\\n                </ul>\\n                <ul class=\"list-unstyled\">\\n                    <li style=\"font-size:.8rem; margin-bottom:20px;\">\\n                        <a href=\"https://play.google.com/store/apps/details?id=ru.biblio_globus.bgcorpapp&amp;pcampaignid=pcampaignidMKT-Other-global-all-co-prtnr-py-PartBadge-Mar2515-1\" target=\"_blank\"><img src=\"/files/banners/google_play.png\" alt=\"\"></a>\\n                        <a href=\"https://apps.apple.com/us/app/%D0%B1%D0%B8%D0%B1%D0%BB%D0%B8%D0%BE-%D0%B3%D0%BB%D0%BE%D0%B1%D1%83%D1%81/id1562849109\" target=\"_blank\">  <img src=\"/files/banners/apps_tore.png\" alt=\"\"></a>\\n                    </li>\\n                </ul>\\n            </div>\\n\\n            <div class=\"col-12\" style=\"text-align:left;\">\\n                <h6 style=\"margin-top:15px;color:#777777;\">© 2022, OOO Торговый Дом «БИБЛИО-ГЛОБУС»</h6>\\n            </div>\\n\\n        </div>\\n    </div>\\n\\n\\n    <!-- Yandex.Metrika counter -->\\n    <script type=\"text/javascript\">\\n        (function (m, e, t, r, i, k, a) {\\n            m[i] = m[i] || function () { (m[i].a = m[i].a || []).push(arguments) };\\n            m[i].l = 1 * new Date();\\n            for (var j = 0; j < document.scripts.length; j++) { if (document.scripts[j].src === r) { return; } }\\n            k = e.createElement(t), a = e.getElementsByTagName(t)[0], k.async = 1, k.src = r, a.parentNode.insertBefore(k, a)\\n        })\\n            (window, document, \"script\", \"https://mc.yandex.ru/metrika/tag.js\", \"ym\");\\n\\n        ym(11588953, \"init\", {\\n            clickmap: true,\\n            trackLinks: true,\\n            accurateTrackBounce: true,\\n            webvisor: true\\n        });\\n    </script>\\n    <noscript><div><img src=\"https://mc.yandex.ru/watch/11588953\" style=\"position:absolute; left:-9999px;\" alt=\"\" /></div></noscript>\\n    <!-- /Yandex.Metrika counter -->\\n\\n\\n<script src=\"https://cdn.jsdelivr.net/npm/jquery@3.5.1/dist/jquery.min.js\"></script>\\n<script src=\"/js/owl.carousel.min.js\"></script>\\n<script src=\"https://cdn.jsdelivr.net/npm/bootstrap@4.6.0/dist/js/bootstrap.bundle.min.js\" integrity=\"sha384-Piv4xVNRyMGpqkS2by6br4gNJ7DXjqk09RmUpJ8jgGtD7zP9yug3goQfGII0yAns\" crossorigin=\"anonymous\"></script>\\n\\n<script type=\"text/javascript\">\\n$(document).ready(function(){\\n\\n$(function () {\\n  $(\\'[data-toggle=\"tooltip\"]\\').tooltip()\\n})\\n\\n\\n$(\\'#owl-carousel_1\\').owlCarousel({\\n    loop:true,\\n    margin:0,\\n    responsiveClass:true,\\n    responsive:{\\n        0:{\\n            items:1,\\n            nav:true\\n        },\\n        600:{\\n            items:1,\\n            nav:false\\n        },\\n        1000:{\\n            items:1,\\n            nav:true,\\n            loop:false,\\n\\t\\t\\tdots:false,\\n\\t\\t\\tnav:false\\n        }\\n    }\\n});\\n\\n$(\\'#owl-carousel_2\\').owlCarousel({\\n    loop:true,\\n    margin:10,\\n    nav:true,\\n    responsive:{\\n        0:{\\n            items:2\\n        },\\n        600:{\\n            items:3\\n        },\\n        1000:{\\n            items:5\\n        }\\n    }\\n})\\n\\n$(\\'#owl-carousel_3\\').owlCarousel({\\n    loop:true,\\n    margin:10,\\n\\t/*autoWidth:true,\\n\\titems:3*/\\n    responsiveClass:true,\\n    responsive:{\\n        0:{\\n            items:2,\\n            nav:false,\\n\\t\\t\\tdots:false\\n        },\\n        600:{\\n            items:3,\\n            nav:false,\\n\\t\\t\\tdots:false\\n        },\\n        1000:{\\n            items:3,\\n            nav:false,\\n\\t\\t\\tdots:false,\\n            loop:false\\n        },\\n        1200:{\\n            items:4,\\n            nav:false,\\n\\t\\t\\tdots:false,\\n            loop:false\\n        },\\n        1400:{\\n            items:5,\\n            nav:false,\\n\\t\\t\\tdots:false,\\n            loop:false\\n        }\\n    }\\n})\\n\\n$(\\'#owl-carousel_4\\').owlCarousel({\\n    loop:true,\\n    margin:10,\\n    responsiveClass:true,\\n    responsive:{\\n        0:{\\n            items:1,\\n            nav:true\\n        },\\n        600:{\\n            items:2,\\n            nav:false\\n        },\\n        1000:{\\n            items:3,\\n            nav:false,\\n\\t\\t\\tdots:false,\\n            loop:false\\n        }\\n    }\\n})\\n\\n$(\\'#owl-carousel_5\\').owlCarousel({\\n    loop:true,\\n    margin:10,\\n    responsiveClass:true,\\n    responsive:{\\n        0:{\\n            items:1,\\n            nav:false,\\n\\t\\t\\tdots:false\\n        },\\n        600:{\\n            items:2,\\n            nav:false,\\n\\t\\t\\tdots:false\\n        },\\n        1000:{\\n            items:3,\\n            nav:false,\\n\\t\\t\\tdots: false,\\n            loop:false\\n        }\\n    }\\n})\\n\\n$(\\'#owl-carousel_6\\').owlCarousel({\\n    loop:true,\\n    margin:10,\\n\\t/*autoWidth:true,\\n\\titems:3*/\\n    responsiveClass:true,\\n    responsive:{\\n        0:{\\n            items:2,\\n            nav:false,\\n\\t\\t\\tdots:false\\n        },\\n        600:{\\n            items:3,\\n            nav:false,\\n\\t\\t\\tdots:false\\n        },\\n        1000:{\\n            items:3,\\n            nav:false,\\n\\t\\t\\tdots:false,\\n            loop:false\\n        },\\n        1200:{\\n            items:4,\\n            nav:false,\\n\\t\\t\\tdots:false,\\n            loop:false\\n        },\\n        1400:{\\n            items:5,\\n            nav:false,\\n\\t\\t\\tdots:false,\\n            loop:false\\n        }\\n    }\\n})\\n\\n$(\\'#owl-carousel_7\\').owlCarousel({\\n    loop: true,\\n    margin: 10,\\n    responsiveClass: true,\\n    responsive: {\\n        0: {\\n            items: 2,\\n            nav: false,\\n            dots: false\\n        },\\n        600: {\\n            items: 3,\\n            nav: false,\\n            dots: false\\n        },\\n        1000: {\\n            items: 5,\\n            nav: false,\\n            dots: false,\\n            loop: false\\n        }\\n    }\\n})\\n\\n$(\\'#owl-carousel_8\\').owlCarousel({\\n    loop:true,\\n    margin:10,\\n    responsiveClass:true,\\n    responsive:{\\n        0:{\\n            items:2,\\n            nav:false,\\n\\t\\t\\tdots:false\\n        },\\n        600:{\\n            items:3,\\n            nav:false,\\n\\t\\t\\tdots:false\\n        },\\n        1000:{\\n            items:5,\\n            nav:false,\\n\\t\\t\\tdots: false,\\n            loop:false\\n        }\\n    }\\n})\\n\\n});\\n\\n\\n</script>\\n  \\n\\n\\n\\t<script src=\"/js/owl.carousel.min.js\"></script>\\n    <script src=\"/js/fancybox.umd.js\"></script>\\n    <!--\\n    <script src=\"~/lib/jquery/dist/jquery.min.js\"></script>\\n    <script src=\"~/lib/bootstrap/dist/js/bootstrap.bundle.min.js\"></script> -->\\n    <script src=\"/js/site.js?v=4q1jwFhaPaZgr8WAUSrux6hAuh0XDg9kPS3xIVq36I0\"></script>\\n    \\n\\n\\n</body></html>'"
      ]
     },
     "execution_count": 14,
     "metadata": {},
     "output_type": "execute_result"
    }
   ],
   "source": [
    "page1"
   ]
  },
  {
   "cell_type": "markdown",
   "metadata": {},
   "source": [
    "Теперь обработаем эту страницу через `BeautifulSoup`:"
   ]
  },
  {
   "cell_type": "code",
   "execution_count": 15,
   "metadata": {},
   "outputs": [],
   "source": [
    "from bs4 import BeautifulSoup"
   ]
  },
  {
   "cell_type": "code",
   "execution_count": 16,
   "metadata": {},
   "outputs": [],
   "source": [
    "soup1 = BeautifulSoup(page1, 'lxml') #library XML"
   ]
  },
  {
   "cell_type": "markdown",
   "metadata": {},
   "source": [
    "Найдем все названия книг на этой странице. По исходному коду можно увидеть, что они имеют тэг `a` с атрибутом `class`, равным `name`:"
   ]
  },
  {
   "cell_type": "code",
   "execution_count": 18,
   "metadata": {},
   "outputs": [
    {
     "data": {
      "text/plain": [
       "[<a href=\"/product/10727655\" style=\"color:#444;\">Компьютерное зрение на Python. Первые шаги</a>,\n",
       " <a href=\"/product/10483871\" style=\"color:#444;\">Глубокое обучение на Python</a>,\n",
       " <a href=\"/product/10839595\" style=\"color:#444;\">Python для юных программистов</a>,\n",
       " <a href=\"/product/10776656\" style=\"color:#444;\">Справочник PYTHON.  Кратко, быстро, под...</a>,\n",
       " <a href=\"/product/10532193\" style=\"color:#444;\">Python. Экспресс-курс</a>,\n",
       " <a href=\"/product/10473444\" style=\"color:#444;\">HTML, CSS, SCRATCH, PYTHON. Моя первая ...</a>,\n",
       " <a href=\"/product/10224348\" style=\"color:#444;\">Программирование на Python для начинающих</a>,\n",
       " <a href=\"/product/10831874\" style=\"color:#444;\">Глубокое обучение с подкреплением: теор...</a>,\n",
       " <a href=\"/product/10713630\" style=\"color:#444;\">Python и наука о данных для чайников, 2...</a>,\n",
       " <a href=\"/product/10645085\" style=\"color:#444;\">Легкий способ выучить Python 3 еще глубже</a>,\n",
       " <a href=\"/product/10627655\" style=\"color:#444;\">Байесовский анализ на Python</a>,\n",
       " <a href=\"/product/10577109\" style=\"color:#444;\">Вероятностное программирование на Pytho...</a>,\n",
       " <a href=\"/product/10548788\" style=\"color:#444;\">Python : Карманный справочник</a>,\n",
       " <a href=\"/product/10546976\" style=\"color:#444;\">Искусственный интеллект с примерами на ...</a>,\n",
       " <a href=\"/product/10493284\" style=\"color:#444;\">Стандартная библиотека Python 3</a>,\n",
       " <a href=\"/product/10487932\" style=\"color:#444;\">Python для сложных задач: наука о данны...</a>,\n",
       " <a href=\"/product/10873807\" style=\"color:#444;\">Объяснимые модели искусственного интелл...</a>,\n",
       " <a href=\"/product/10870208\" style=\"color:#444;\">PYTHON. К вершинам мастерства. </a>,\n",
       " <a href=\"/product/10854863\" style=\"color:#444;\">Python.Создаем программы и игры</a>,\n",
       " <a href=\"/product/10849439\" style=\"color:#444;\">Начинаем программировать на Python</a>]"
      ]
     },
     "execution_count": 18,
     "metadata": {},
     "output_type": "execute_result"
    }
   ],
   "source": [
    "soup1.find_all('a', {'style':'color:#444;'})"
   ]
  },
  {
   "cell_type": "code",
   "execution_count": 21,
   "metadata": {},
   "outputs": [],
   "source": [
    "for i in soup1.find_all('div', {'class' : \"details_1\"}):\n",
    "    print(i.find('a', {'style':'color:#444;'}).text)"
   ]
  },
  {
   "cell_type": "markdown",
   "metadata": {},
   "source": [
    "С помощью списковых включений выберем из ссылок с тэгом `<a>` текст (так мы уже делали, и не раз)."
   ]
  },
  {
   "cell_type": "code",
   "execution_count": 22,
   "metadata": {},
   "outputs": [],
   "source": [
    "books1 = [b.text for b in soup1.find_all('a', {'style':'color:#444;'})]"
   ]
  },
  {
   "cell_type": "code",
   "execution_count": 23,
   "metadata": {},
   "outputs": [
    {
     "data": {
      "text/plain": [
       "['Компьютерное зрение на Python. Первые шаги',\n",
       " 'Глубокое обучение на Python',\n",
       " 'Python для юных программистов',\n",
       " 'Справочник PYTHON.  Кратко, быстро, под...',\n",
       " 'Python. Экспресс-курс',\n",
       " 'HTML, CSS, SCRATCH, PYTHON. Моя первая ...',\n",
       " 'Программирование на Python для начинающих',\n",
       " 'Глубокое обучение с подкреплением: теор...',\n",
       " 'Python и наука о данных для чайников, 2...',\n",
       " 'Легкий способ выучить Python 3 еще глубже',\n",
       " 'Байесовский анализ на Python',\n",
       " 'Вероятностное программирование на Pytho...',\n",
       " 'Python : Карманный справочник',\n",
       " 'Искусственный интеллект с примерами на ...',\n",
       " 'Стандартная библиотека Python 3',\n",
       " 'Python для сложных задач: наука о данны...',\n",
       " 'Объяснимые модели искусственного интелл...',\n",
       " 'PYTHON. К вершинам мастерства. ',\n",
       " 'Python.Создаем программы и игры',\n",
       " 'Начинаем программировать на Python']"
      ]
     },
     "execution_count": 23,
     "metadata": {},
     "output_type": "execute_result"
    }
   ],
   "source": [
    "books1"
   ]
  },
  {
   "cell_type": "markdown",
   "metadata": {},
   "source": [
    "Теперь аналогичным образом сгрузим информацию об авторах:"
   ]
  },
  {
   "cell_type": "code",
   "execution_count": 27,
   "metadata": {},
   "outputs": [
    {
     "name": "stdout",
     "output_type": "stream",
     "text": [
      "[None]\n",
      "[None, None]\n",
      "[None, None, None]\n",
      "[None, None, None, None]\n",
      "[None, None, None, None, None]\n",
      "[None, None, None, None, None, None]\n",
      "[None, None, None, None, None, None, None]\n",
      "[None, None, None, None, None, None, None, None]\n",
      "[None, None, None, None, None, None, None, None, None]\n",
      "[None, None, None, None, None, None, None, None, None, None]\n",
      "[None, None, None, None, None, None, None, None, None, None, None]\n",
      "[None, None, None, None, None, None, None, None, None, None, None, None]\n",
      "[None, None, None, None, None, None, None, None, None, None, None, None, None]\n",
      "[None, None, None, None, None, None, None, None, None, None, None, None, None, None]\n",
      "[None, None, None, None, None, None, None, None, None, None, None, None, None, None, None]\n",
      "[None, None, None, None, None, None, None, None, None, None, None, None, None, None, None, None]\n",
      "[None, None, None, None, None, None, None, None, None, None, None, None, None, None, None, None, None]\n",
      "[None, None, None, None, None, None, None, None, None, None, None, None, None, None, None, None, None, None]\n"
     ]
    },
    {
     "ename": "KeyboardInterrupt",
     "evalue": "",
     "output_type": "error",
     "traceback": [
      "\u001b[1;31m---------------------------------------------------------------------------\u001b[0m",
      "\u001b[1;31mKeyboardInterrupt\u001b[0m                         Traceback (most recent call last)",
      "\u001b[1;32m<ipython-input-27-80451b7aaabf>\u001b[0m in \u001b[0;36m<module>\u001b[1;34m\u001b[0m\n\u001b[0;32m      2\u001b[0m \u001b[1;32mfor\u001b[0m \u001b[0mbook\u001b[0m \u001b[1;32min\u001b[0m \u001b[0msoup1\u001b[0m\u001b[1;33m.\u001b[0m\u001b[0mfind_all\u001b[0m\u001b[1;33m(\u001b[0m\u001b[1;34m'a'\u001b[0m\u001b[1;33m,\u001b[0m \u001b[1;33m{\u001b[0m\u001b[1;34m'style'\u001b[0m\u001b[1;33m:\u001b[0m\u001b[1;34m'color:#444;'\u001b[0m\u001b[1;33m}\u001b[0m\u001b[1;33m)\u001b[0m\u001b[1;33m:\u001b[0m\u001b[1;33m\u001b[0m\u001b[1;33m\u001b[0m\u001b[0m\n\u001b[0;32m      3\u001b[0m     \u001b[0mlink\u001b[0m \u001b[1;33m=\u001b[0m \u001b[1;34m'https://www.biblio-globus.ru'\u001b[0m \u001b[1;33m+\u001b[0m \u001b[0mbook\u001b[0m\u001b[1;33m.\u001b[0m\u001b[0mget\u001b[0m\u001b[1;33m(\u001b[0m\u001b[1;34m'href'\u001b[0m\u001b[1;33m)\u001b[0m\u001b[1;33m\u001b[0m\u001b[1;33m\u001b[0m\u001b[0m\n\u001b[1;32m----> 4\u001b[1;33m     \u001b[0mbr\u001b[0m\u001b[1;33m.\u001b[0m\u001b[0mget\u001b[0m\u001b[1;33m(\u001b[0m\u001b[0mlink\u001b[0m\u001b[1;33m)\u001b[0m\u001b[1;33m\u001b[0m\u001b[1;33m\u001b[0m\u001b[0m\n\u001b[0m\u001b[0;32m      5\u001b[0m     \u001b[0mbr\u001b[0m\u001b[1;33m.\u001b[0m\u001b[0mimplicitly_wait\u001b[0m\u001b[1;33m(\u001b[0m\u001b[1;36m1\u001b[0m\u001b[1;33m)\u001b[0m\u001b[1;33m\u001b[0m\u001b[1;33m\u001b[0m\u001b[0m\n\u001b[0;32m      6\u001b[0m     \u001b[0mpage1\u001b[0m \u001b[1;33m=\u001b[0m \u001b[0mbr\u001b[0m\u001b[1;33m.\u001b[0m\u001b[0mpage_source\u001b[0m\u001b[1;33m\u001b[0m\u001b[1;33m\u001b[0m\u001b[0m\n",
      "\u001b[1;32mC:\\ProgramData\\Anaconda3\\lib\\site-packages\\selenium\\webdriver\\remote\\webdriver.py\u001b[0m in \u001b[0;36mget\u001b[1;34m(self, url)\u001b[0m\n\u001b[0;32m    439\u001b[0m         \u001b[0mLoads\u001b[0m \u001b[0ma\u001b[0m \u001b[0mweb\u001b[0m \u001b[0mpage\u001b[0m \u001b[1;32min\u001b[0m \u001b[0mthe\u001b[0m \u001b[0mcurrent\u001b[0m \u001b[0mbrowser\u001b[0m \u001b[0msession\u001b[0m\u001b[1;33m.\u001b[0m\u001b[1;33m\u001b[0m\u001b[1;33m\u001b[0m\u001b[0m\n\u001b[0;32m    440\u001b[0m         \"\"\"\n\u001b[1;32m--> 441\u001b[1;33m         \u001b[0mself\u001b[0m\u001b[1;33m.\u001b[0m\u001b[0mexecute\u001b[0m\u001b[1;33m(\u001b[0m\u001b[0mCommand\u001b[0m\u001b[1;33m.\u001b[0m\u001b[0mGET\u001b[0m\u001b[1;33m,\u001b[0m \u001b[1;33m{\u001b[0m\u001b[1;34m'url'\u001b[0m\u001b[1;33m:\u001b[0m \u001b[0murl\u001b[0m\u001b[1;33m}\u001b[0m\u001b[1;33m)\u001b[0m\u001b[1;33m\u001b[0m\u001b[1;33m\u001b[0m\u001b[0m\n\u001b[0m\u001b[0;32m    442\u001b[0m \u001b[1;33m\u001b[0m\u001b[0m\n\u001b[0;32m    443\u001b[0m     \u001b[1;33m@\u001b[0m\u001b[0mproperty\u001b[0m\u001b[1;33m\u001b[0m\u001b[1;33m\u001b[0m\u001b[0m\n",
      "\u001b[1;32mC:\\ProgramData\\Anaconda3\\lib\\site-packages\\selenium\\webdriver\\remote\\webdriver.py\u001b[0m in \u001b[0;36mexecute\u001b[1;34m(self, driver_command, params)\u001b[0m\n\u001b[0;32m    425\u001b[0m \u001b[1;33m\u001b[0m\u001b[0m\n\u001b[0;32m    426\u001b[0m         \u001b[0mparams\u001b[0m \u001b[1;33m=\u001b[0m \u001b[0mself\u001b[0m\u001b[1;33m.\u001b[0m\u001b[0m_wrap_value\u001b[0m\u001b[1;33m(\u001b[0m\u001b[0mparams\u001b[0m\u001b[1;33m)\u001b[0m\u001b[1;33m\u001b[0m\u001b[1;33m\u001b[0m\u001b[0m\n\u001b[1;32m--> 427\u001b[1;33m         \u001b[0mresponse\u001b[0m \u001b[1;33m=\u001b[0m \u001b[0mself\u001b[0m\u001b[1;33m.\u001b[0m\u001b[0mcommand_executor\u001b[0m\u001b[1;33m.\u001b[0m\u001b[0mexecute\u001b[0m\u001b[1;33m(\u001b[0m\u001b[0mdriver_command\u001b[0m\u001b[1;33m,\u001b[0m \u001b[0mparams\u001b[0m\u001b[1;33m)\u001b[0m\u001b[1;33m\u001b[0m\u001b[1;33m\u001b[0m\u001b[0m\n\u001b[0m\u001b[0;32m    428\u001b[0m         \u001b[1;32mif\u001b[0m \u001b[0mresponse\u001b[0m\u001b[1;33m:\u001b[0m\u001b[1;33m\u001b[0m\u001b[1;33m\u001b[0m\u001b[0m\n\u001b[0;32m    429\u001b[0m             \u001b[0mself\u001b[0m\u001b[1;33m.\u001b[0m\u001b[0merror_handler\u001b[0m\u001b[1;33m.\u001b[0m\u001b[0mcheck_response\u001b[0m\u001b[1;33m(\u001b[0m\u001b[0mresponse\u001b[0m\u001b[1;33m)\u001b[0m\u001b[1;33m\u001b[0m\u001b[1;33m\u001b[0m\u001b[0m\n",
      "\u001b[1;32mC:\\ProgramData\\Anaconda3\\lib\\site-packages\\selenium\\webdriver\\remote\\remote_connection.py\u001b[0m in \u001b[0;36mexecute\u001b[1;34m(self, command, params)\u001b[0m\n\u001b[0;32m    342\u001b[0m         \u001b[0mdata\u001b[0m \u001b[1;33m=\u001b[0m \u001b[0mutils\u001b[0m\u001b[1;33m.\u001b[0m\u001b[0mdump_json\u001b[0m\u001b[1;33m(\u001b[0m\u001b[0mparams\u001b[0m\u001b[1;33m)\u001b[0m\u001b[1;33m\u001b[0m\u001b[1;33m\u001b[0m\u001b[0m\n\u001b[0;32m    343\u001b[0m         \u001b[0murl\u001b[0m \u001b[1;33m=\u001b[0m \u001b[1;34mf\"{self._url}{path}\"\u001b[0m\u001b[1;33m\u001b[0m\u001b[1;33m\u001b[0m\u001b[0m\n\u001b[1;32m--> 344\u001b[1;33m         \u001b[1;32mreturn\u001b[0m \u001b[0mself\u001b[0m\u001b[1;33m.\u001b[0m\u001b[0m_request\u001b[0m\u001b[1;33m(\u001b[0m\u001b[0mcommand_info\u001b[0m\u001b[1;33m[\u001b[0m\u001b[1;36m0\u001b[0m\u001b[1;33m]\u001b[0m\u001b[1;33m,\u001b[0m \u001b[0murl\u001b[0m\u001b[1;33m,\u001b[0m \u001b[0mbody\u001b[0m\u001b[1;33m=\u001b[0m\u001b[0mdata\u001b[0m\u001b[1;33m)\u001b[0m\u001b[1;33m\u001b[0m\u001b[1;33m\u001b[0m\u001b[0m\n\u001b[0m\u001b[0;32m    345\u001b[0m \u001b[1;33m\u001b[0m\u001b[0m\n\u001b[0;32m    346\u001b[0m     \u001b[1;32mdef\u001b[0m \u001b[0m_request\u001b[0m\u001b[1;33m(\u001b[0m\u001b[0mself\u001b[0m\u001b[1;33m,\u001b[0m \u001b[0mmethod\u001b[0m\u001b[1;33m,\u001b[0m \u001b[0murl\u001b[0m\u001b[1;33m,\u001b[0m \u001b[0mbody\u001b[0m\u001b[1;33m=\u001b[0m\u001b[1;32mNone\u001b[0m\u001b[1;33m)\u001b[0m\u001b[1;33m:\u001b[0m\u001b[1;33m\u001b[0m\u001b[1;33m\u001b[0m\u001b[0m\n",
      "\u001b[1;32mC:\\ProgramData\\Anaconda3\\lib\\site-packages\\selenium\\webdriver\\remote\\remote_connection.py\u001b[0m in \u001b[0;36m_request\u001b[1;34m(self, method, url, body)\u001b[0m\n\u001b[0;32m    364\u001b[0m \u001b[1;33m\u001b[0m\u001b[0m\n\u001b[0;32m    365\u001b[0m         \u001b[1;32mif\u001b[0m \u001b[0mself\u001b[0m\u001b[1;33m.\u001b[0m\u001b[0mkeep_alive\u001b[0m\u001b[1;33m:\u001b[0m\u001b[1;33m\u001b[0m\u001b[1;33m\u001b[0m\u001b[0m\n\u001b[1;32m--> 366\u001b[1;33m             \u001b[0mresponse\u001b[0m \u001b[1;33m=\u001b[0m \u001b[0mself\u001b[0m\u001b[1;33m.\u001b[0m\u001b[0m_conn\u001b[0m\u001b[1;33m.\u001b[0m\u001b[0mrequest\u001b[0m\u001b[1;33m(\u001b[0m\u001b[0mmethod\u001b[0m\u001b[1;33m,\u001b[0m \u001b[0murl\u001b[0m\u001b[1;33m,\u001b[0m \u001b[0mbody\u001b[0m\u001b[1;33m=\u001b[0m\u001b[0mbody\u001b[0m\u001b[1;33m,\u001b[0m \u001b[0mheaders\u001b[0m\u001b[1;33m=\u001b[0m\u001b[0mheaders\u001b[0m\u001b[1;33m)\u001b[0m\u001b[1;33m\u001b[0m\u001b[1;33m\u001b[0m\u001b[0m\n\u001b[0m\u001b[0;32m    367\u001b[0m             \u001b[0mstatuscode\u001b[0m \u001b[1;33m=\u001b[0m \u001b[0mresponse\u001b[0m\u001b[1;33m.\u001b[0m\u001b[0mstatus\u001b[0m\u001b[1;33m\u001b[0m\u001b[1;33m\u001b[0m\u001b[0m\n\u001b[0;32m    368\u001b[0m         \u001b[1;32melse\u001b[0m\u001b[1;33m:\u001b[0m\u001b[1;33m\u001b[0m\u001b[1;33m\u001b[0m\u001b[0m\n",
      "\u001b[1;32mC:\\ProgramData\\Anaconda3\\lib\\site-packages\\urllib3\\request.py\u001b[0m in \u001b[0;36mrequest\u001b[1;34m(self, method, url, fields, headers, **urlopen_kw)\u001b[0m\n\u001b[0;32m     77\u001b[0m             )\n\u001b[0;32m     78\u001b[0m         \u001b[1;32melse\u001b[0m\u001b[1;33m:\u001b[0m\u001b[1;33m\u001b[0m\u001b[1;33m\u001b[0m\u001b[0m\n\u001b[1;32m---> 79\u001b[1;33m             return self.request_encode_body(\n\u001b[0m\u001b[0;32m     80\u001b[0m                 \u001b[0mmethod\u001b[0m\u001b[1;33m,\u001b[0m \u001b[0murl\u001b[0m\u001b[1;33m,\u001b[0m \u001b[0mfields\u001b[0m\u001b[1;33m=\u001b[0m\u001b[0mfields\u001b[0m\u001b[1;33m,\u001b[0m \u001b[0mheaders\u001b[0m\u001b[1;33m=\u001b[0m\u001b[0mheaders\u001b[0m\u001b[1;33m,\u001b[0m \u001b[1;33m**\u001b[0m\u001b[0murlopen_kw\u001b[0m\u001b[1;33m\u001b[0m\u001b[1;33m\u001b[0m\u001b[0m\n\u001b[0;32m     81\u001b[0m             )\n",
      "\u001b[1;32mC:\\ProgramData\\Anaconda3\\lib\\site-packages\\urllib3\\request.py\u001b[0m in \u001b[0;36mrequest_encode_body\u001b[1;34m(self, method, url, fields, headers, encode_multipart, multipart_boundary, **urlopen_kw)\u001b[0m\n\u001b[0;32m    169\u001b[0m         \u001b[0mextra_kw\u001b[0m\u001b[1;33m.\u001b[0m\u001b[0mupdate\u001b[0m\u001b[1;33m(\u001b[0m\u001b[0murlopen_kw\u001b[0m\u001b[1;33m)\u001b[0m\u001b[1;33m\u001b[0m\u001b[1;33m\u001b[0m\u001b[0m\n\u001b[0;32m    170\u001b[0m \u001b[1;33m\u001b[0m\u001b[0m\n\u001b[1;32m--> 171\u001b[1;33m         \u001b[1;32mreturn\u001b[0m \u001b[0mself\u001b[0m\u001b[1;33m.\u001b[0m\u001b[0murlopen\u001b[0m\u001b[1;33m(\u001b[0m\u001b[0mmethod\u001b[0m\u001b[1;33m,\u001b[0m \u001b[0murl\u001b[0m\u001b[1;33m,\u001b[0m \u001b[1;33m**\u001b[0m\u001b[0mextra_kw\u001b[0m\u001b[1;33m)\u001b[0m\u001b[1;33m\u001b[0m\u001b[1;33m\u001b[0m\u001b[0m\n\u001b[0m",
      "\u001b[1;32mC:\\ProgramData\\Anaconda3\\lib\\site-packages\\urllib3\\poolmanager.py\u001b[0m in \u001b[0;36murlopen\u001b[1;34m(self, method, url, redirect, **kw)\u001b[0m\n\u001b[0;32m    334\u001b[0m             \u001b[0mresponse\u001b[0m \u001b[1;33m=\u001b[0m \u001b[0mconn\u001b[0m\u001b[1;33m.\u001b[0m\u001b[0murlopen\u001b[0m\u001b[1;33m(\u001b[0m\u001b[0mmethod\u001b[0m\u001b[1;33m,\u001b[0m \u001b[0murl\u001b[0m\u001b[1;33m,\u001b[0m \u001b[1;33m**\u001b[0m\u001b[0mkw\u001b[0m\u001b[1;33m)\u001b[0m\u001b[1;33m\u001b[0m\u001b[1;33m\u001b[0m\u001b[0m\n\u001b[0;32m    335\u001b[0m         \u001b[1;32melse\u001b[0m\u001b[1;33m:\u001b[0m\u001b[1;33m\u001b[0m\u001b[1;33m\u001b[0m\u001b[0m\n\u001b[1;32m--> 336\u001b[1;33m             \u001b[0mresponse\u001b[0m \u001b[1;33m=\u001b[0m \u001b[0mconn\u001b[0m\u001b[1;33m.\u001b[0m\u001b[0murlopen\u001b[0m\u001b[1;33m(\u001b[0m\u001b[0mmethod\u001b[0m\u001b[1;33m,\u001b[0m \u001b[0mu\u001b[0m\u001b[1;33m.\u001b[0m\u001b[0mrequest_uri\u001b[0m\u001b[1;33m,\u001b[0m \u001b[1;33m**\u001b[0m\u001b[0mkw\u001b[0m\u001b[1;33m)\u001b[0m\u001b[1;33m\u001b[0m\u001b[1;33m\u001b[0m\u001b[0m\n\u001b[0m\u001b[0;32m    337\u001b[0m \u001b[1;33m\u001b[0m\u001b[0m\n\u001b[0;32m    338\u001b[0m         \u001b[0mredirect_location\u001b[0m \u001b[1;33m=\u001b[0m \u001b[0mredirect\u001b[0m \u001b[1;32mand\u001b[0m \u001b[0mresponse\u001b[0m\u001b[1;33m.\u001b[0m\u001b[0mget_redirect_location\u001b[0m\u001b[1;33m(\u001b[0m\u001b[1;33m)\u001b[0m\u001b[1;33m\u001b[0m\u001b[1;33m\u001b[0m\u001b[0m\n",
      "\u001b[1;32mC:\\ProgramData\\Anaconda3\\lib\\site-packages\\urllib3\\connectionpool.py\u001b[0m in \u001b[0;36murlopen\u001b[1;34m(self, method, url, body, headers, retries, redirect, assert_same_host, timeout, pool_timeout, release_conn, chunked, body_pos, **response_kw)\u001b[0m\n\u001b[0;32m    668\u001b[0m \u001b[1;33m\u001b[0m\u001b[0m\n\u001b[0;32m    669\u001b[0m             \u001b[1;31m# Make the request on the httplib connection object.\u001b[0m\u001b[1;33m\u001b[0m\u001b[1;33m\u001b[0m\u001b[1;33m\u001b[0m\u001b[0m\n\u001b[1;32m--> 670\u001b[1;33m             httplib_response = self._make_request(\n\u001b[0m\u001b[0;32m    671\u001b[0m                 \u001b[0mconn\u001b[0m\u001b[1;33m,\u001b[0m\u001b[1;33m\u001b[0m\u001b[1;33m\u001b[0m\u001b[0m\n\u001b[0;32m    672\u001b[0m                 \u001b[0mmethod\u001b[0m\u001b[1;33m,\u001b[0m\u001b[1;33m\u001b[0m\u001b[1;33m\u001b[0m\u001b[0m\n",
      "\u001b[1;32mC:\\ProgramData\\Anaconda3\\lib\\site-packages\\urllib3\\connectionpool.py\u001b[0m in \u001b[0;36m_make_request\u001b[1;34m(self, conn, method, url, timeout, chunked, **httplib_request_kw)\u001b[0m\n\u001b[0;32m    424\u001b[0m                     \u001b[1;31m# Python 3 (including for exceptions like SystemExit).\u001b[0m\u001b[1;33m\u001b[0m\u001b[1;33m\u001b[0m\u001b[1;33m\u001b[0m\u001b[0m\n\u001b[0;32m    425\u001b[0m                     \u001b[1;31m# Otherwise it looks like a bug in the code.\u001b[0m\u001b[1;33m\u001b[0m\u001b[1;33m\u001b[0m\u001b[1;33m\u001b[0m\u001b[0m\n\u001b[1;32m--> 426\u001b[1;33m                     \u001b[0msix\u001b[0m\u001b[1;33m.\u001b[0m\u001b[0mraise_from\u001b[0m\u001b[1;33m(\u001b[0m\u001b[0me\u001b[0m\u001b[1;33m,\u001b[0m \u001b[1;32mNone\u001b[0m\u001b[1;33m)\u001b[0m\u001b[1;33m\u001b[0m\u001b[1;33m\u001b[0m\u001b[0m\n\u001b[0m\u001b[0;32m    427\u001b[0m         \u001b[1;32mexcept\u001b[0m \u001b[1;33m(\u001b[0m\u001b[0mSocketTimeout\u001b[0m\u001b[1;33m,\u001b[0m \u001b[0mBaseSSLError\u001b[0m\u001b[1;33m,\u001b[0m \u001b[0mSocketError\u001b[0m\u001b[1;33m)\u001b[0m \u001b[1;32mas\u001b[0m \u001b[0me\u001b[0m\u001b[1;33m:\u001b[0m\u001b[1;33m\u001b[0m\u001b[1;33m\u001b[0m\u001b[0m\n\u001b[0;32m    428\u001b[0m             \u001b[0mself\u001b[0m\u001b[1;33m.\u001b[0m\u001b[0m_raise_timeout\u001b[0m\u001b[1;33m(\u001b[0m\u001b[0merr\u001b[0m\u001b[1;33m=\u001b[0m\u001b[0me\u001b[0m\u001b[1;33m,\u001b[0m \u001b[0murl\u001b[0m\u001b[1;33m=\u001b[0m\u001b[0murl\u001b[0m\u001b[1;33m,\u001b[0m \u001b[0mtimeout_value\u001b[0m\u001b[1;33m=\u001b[0m\u001b[0mread_timeout\u001b[0m\u001b[1;33m)\u001b[0m\u001b[1;33m\u001b[0m\u001b[1;33m\u001b[0m\u001b[0m\n",
      "\u001b[1;32mC:\\ProgramData\\Anaconda3\\lib\\site-packages\\urllib3\\packages\\six.py\u001b[0m in \u001b[0;36mraise_from\u001b[1;34m(value, from_value)\u001b[0m\n",
      "\u001b[1;32mC:\\ProgramData\\Anaconda3\\lib\\site-packages\\urllib3\\connectionpool.py\u001b[0m in \u001b[0;36m_make_request\u001b[1;34m(self, conn, method, url, timeout, chunked, **httplib_request_kw)\u001b[0m\n\u001b[0;32m    419\u001b[0m                 \u001b[1;31m# Python 3\u001b[0m\u001b[1;33m\u001b[0m\u001b[1;33m\u001b[0m\u001b[1;33m\u001b[0m\u001b[0m\n\u001b[0;32m    420\u001b[0m                 \u001b[1;32mtry\u001b[0m\u001b[1;33m:\u001b[0m\u001b[1;33m\u001b[0m\u001b[1;33m\u001b[0m\u001b[0m\n\u001b[1;32m--> 421\u001b[1;33m                     \u001b[0mhttplib_response\u001b[0m \u001b[1;33m=\u001b[0m \u001b[0mconn\u001b[0m\u001b[1;33m.\u001b[0m\u001b[0mgetresponse\u001b[0m\u001b[1;33m(\u001b[0m\u001b[1;33m)\u001b[0m\u001b[1;33m\u001b[0m\u001b[1;33m\u001b[0m\u001b[0m\n\u001b[0m\u001b[0;32m    422\u001b[0m                 \u001b[1;32mexcept\u001b[0m \u001b[0mBaseException\u001b[0m \u001b[1;32mas\u001b[0m \u001b[0me\u001b[0m\u001b[1;33m:\u001b[0m\u001b[1;33m\u001b[0m\u001b[1;33m\u001b[0m\u001b[0m\n\u001b[0;32m    423\u001b[0m                     \u001b[1;31m# Remove the TypeError from the exception chain in\u001b[0m\u001b[1;33m\u001b[0m\u001b[1;33m\u001b[0m\u001b[1;33m\u001b[0m\u001b[0m\n",
      "\u001b[1;32mC:\\ProgramData\\Anaconda3\\lib\\http\\client.py\u001b[0m in \u001b[0;36mgetresponse\u001b[1;34m(self)\u001b[0m\n\u001b[0;32m   1345\u001b[0m         \u001b[1;32mtry\u001b[0m\u001b[1;33m:\u001b[0m\u001b[1;33m\u001b[0m\u001b[1;33m\u001b[0m\u001b[0m\n\u001b[0;32m   1346\u001b[0m             \u001b[1;32mtry\u001b[0m\u001b[1;33m:\u001b[0m\u001b[1;33m\u001b[0m\u001b[1;33m\u001b[0m\u001b[0m\n\u001b[1;32m-> 1347\u001b[1;33m                 \u001b[0mresponse\u001b[0m\u001b[1;33m.\u001b[0m\u001b[0mbegin\u001b[0m\u001b[1;33m(\u001b[0m\u001b[1;33m)\u001b[0m\u001b[1;33m\u001b[0m\u001b[1;33m\u001b[0m\u001b[0m\n\u001b[0m\u001b[0;32m   1348\u001b[0m             \u001b[1;32mexcept\u001b[0m \u001b[0mConnectionError\u001b[0m\u001b[1;33m:\u001b[0m\u001b[1;33m\u001b[0m\u001b[1;33m\u001b[0m\u001b[0m\n\u001b[0;32m   1349\u001b[0m                 \u001b[0mself\u001b[0m\u001b[1;33m.\u001b[0m\u001b[0mclose\u001b[0m\u001b[1;33m(\u001b[0m\u001b[1;33m)\u001b[0m\u001b[1;33m\u001b[0m\u001b[1;33m\u001b[0m\u001b[0m\n",
      "\u001b[1;32mC:\\ProgramData\\Anaconda3\\lib\\http\\client.py\u001b[0m in \u001b[0;36mbegin\u001b[1;34m(self)\u001b[0m\n\u001b[0;32m    305\u001b[0m         \u001b[1;31m# read until we get a non-100 response\u001b[0m\u001b[1;33m\u001b[0m\u001b[1;33m\u001b[0m\u001b[1;33m\u001b[0m\u001b[0m\n\u001b[0;32m    306\u001b[0m         \u001b[1;32mwhile\u001b[0m \u001b[1;32mTrue\u001b[0m\u001b[1;33m:\u001b[0m\u001b[1;33m\u001b[0m\u001b[1;33m\u001b[0m\u001b[0m\n\u001b[1;32m--> 307\u001b[1;33m             \u001b[0mversion\u001b[0m\u001b[1;33m,\u001b[0m \u001b[0mstatus\u001b[0m\u001b[1;33m,\u001b[0m \u001b[0mreason\u001b[0m \u001b[1;33m=\u001b[0m \u001b[0mself\u001b[0m\u001b[1;33m.\u001b[0m\u001b[0m_read_status\u001b[0m\u001b[1;33m(\u001b[0m\u001b[1;33m)\u001b[0m\u001b[1;33m\u001b[0m\u001b[1;33m\u001b[0m\u001b[0m\n\u001b[0m\u001b[0;32m    308\u001b[0m             \u001b[1;32mif\u001b[0m \u001b[0mstatus\u001b[0m \u001b[1;33m!=\u001b[0m \u001b[0mCONTINUE\u001b[0m\u001b[1;33m:\u001b[0m\u001b[1;33m\u001b[0m\u001b[1;33m\u001b[0m\u001b[0m\n\u001b[0;32m    309\u001b[0m                 \u001b[1;32mbreak\u001b[0m\u001b[1;33m\u001b[0m\u001b[1;33m\u001b[0m\u001b[0m\n",
      "\u001b[1;32mC:\\ProgramData\\Anaconda3\\lib\\http\\client.py\u001b[0m in \u001b[0;36m_read_status\u001b[1;34m(self)\u001b[0m\n\u001b[0;32m    266\u001b[0m \u001b[1;33m\u001b[0m\u001b[0m\n\u001b[0;32m    267\u001b[0m     \u001b[1;32mdef\u001b[0m \u001b[0m_read_status\u001b[0m\u001b[1;33m(\u001b[0m\u001b[0mself\u001b[0m\u001b[1;33m)\u001b[0m\u001b[1;33m:\u001b[0m\u001b[1;33m\u001b[0m\u001b[1;33m\u001b[0m\u001b[0m\n\u001b[1;32m--> 268\u001b[1;33m         \u001b[0mline\u001b[0m \u001b[1;33m=\u001b[0m \u001b[0mstr\u001b[0m\u001b[1;33m(\u001b[0m\u001b[0mself\u001b[0m\u001b[1;33m.\u001b[0m\u001b[0mfp\u001b[0m\u001b[1;33m.\u001b[0m\u001b[0mreadline\u001b[0m\u001b[1;33m(\u001b[0m\u001b[0m_MAXLINE\u001b[0m \u001b[1;33m+\u001b[0m \u001b[1;36m1\u001b[0m\u001b[1;33m)\u001b[0m\u001b[1;33m,\u001b[0m \u001b[1;34m\"iso-8859-1\"\u001b[0m\u001b[1;33m)\u001b[0m\u001b[1;33m\u001b[0m\u001b[1;33m\u001b[0m\u001b[0m\n\u001b[0m\u001b[0;32m    269\u001b[0m         \u001b[1;32mif\u001b[0m \u001b[0mlen\u001b[0m\u001b[1;33m(\u001b[0m\u001b[0mline\u001b[0m\u001b[1;33m)\u001b[0m \u001b[1;33m>\u001b[0m \u001b[0m_MAXLINE\u001b[0m\u001b[1;33m:\u001b[0m\u001b[1;33m\u001b[0m\u001b[1;33m\u001b[0m\u001b[0m\n\u001b[0;32m    270\u001b[0m             \u001b[1;32mraise\u001b[0m \u001b[0mLineTooLong\u001b[0m\u001b[1;33m(\u001b[0m\u001b[1;34m\"status line\"\u001b[0m\u001b[1;33m)\u001b[0m\u001b[1;33m\u001b[0m\u001b[1;33m\u001b[0m\u001b[0m\n",
      "\u001b[1;32mC:\\ProgramData\\Anaconda3\\lib\\socket.py\u001b[0m in \u001b[0;36mreadinto\u001b[1;34m(self, b)\u001b[0m\n\u001b[0;32m    667\u001b[0m         \u001b[1;32mwhile\u001b[0m \u001b[1;32mTrue\u001b[0m\u001b[1;33m:\u001b[0m\u001b[1;33m\u001b[0m\u001b[1;33m\u001b[0m\u001b[0m\n\u001b[0;32m    668\u001b[0m             \u001b[1;32mtry\u001b[0m\u001b[1;33m:\u001b[0m\u001b[1;33m\u001b[0m\u001b[1;33m\u001b[0m\u001b[0m\n\u001b[1;32m--> 669\u001b[1;33m                 \u001b[1;32mreturn\u001b[0m \u001b[0mself\u001b[0m\u001b[1;33m.\u001b[0m\u001b[0m_sock\u001b[0m\u001b[1;33m.\u001b[0m\u001b[0mrecv_into\u001b[0m\u001b[1;33m(\u001b[0m\u001b[0mb\u001b[0m\u001b[1;33m)\u001b[0m\u001b[1;33m\u001b[0m\u001b[1;33m\u001b[0m\u001b[0m\n\u001b[0m\u001b[0;32m    670\u001b[0m             \u001b[1;32mexcept\u001b[0m \u001b[0mtimeout\u001b[0m\u001b[1;33m:\u001b[0m\u001b[1;33m\u001b[0m\u001b[1;33m\u001b[0m\u001b[0m\n\u001b[0;32m    671\u001b[0m                 \u001b[0mself\u001b[0m\u001b[1;33m.\u001b[0m\u001b[0m_timeout_occurred\u001b[0m \u001b[1;33m=\u001b[0m \u001b[1;32mTrue\u001b[0m\u001b[1;33m\u001b[0m\u001b[1;33m\u001b[0m\u001b[0m\n",
      "\u001b[1;31mKeyboardInterrupt\u001b[0m: "
     ]
    }
   ],
   "source": [
    "authors1 = []\n",
    "for book in soup1.find_all('a', {'style':'color:#444;'}):\n",
    "    link = 'https://www.biblio-globus.ru' + book.get('href')\n",
    "    br.get(link)\n",
    "    br.implicitly_wait(1)\n",
    "    page1 = br.page_source\n",
    "    soup1 = BeautifulSoup(page1, 'lxml')\n",
    "    authors1.append(soup1.find('hl', {'class': 'card-title'}))\n",
    "    print(authors1)"
   ]
  },
  {
   "cell_type": "code",
   "execution_count": 30,
   "metadata": {},
   "outputs": [],
   "source": [
    "authors1 = []\n",
    "for book in soup1.find_all('a', {'style':'color:#444;'}):\n",
    "    link = 'https://www.biblio-globus.ru' + book.get('href')\n",
    "    br.get(link)\n",
    "    br.implicitly_wait(1)\n",
    "    page1 = br.page_source\n",
    "    soup1 = BeautifulSoup(page1, 'lxml')\n",
    "    authors1.append(soup1.find('h1', {'class' : 'card-title'}).text.split('|')[1].strip())"
   ]
  },
  {
   "cell_type": "code",
   "execution_count": 31,
   "metadata": {},
   "outputs": [
    {
     "name": "stdout",
     "output_type": "stream",
     "text": [
      "['Гифт Н.', 'Уатт Дж.', 'Персиваль Г.', 'Майков К. А.', 'Пэйн  Б.', 'Кайзер С.', 'Свейгарт Э.', 'Хапке  Х.', 'Уэйд Р.', 'Лейси Н.', 'Кольцов Д. М.', 'Постолит А. В.', 'Постолит А. В.', 'Яворски М.', 'Васильев Ю.', 'Бровкин А. А.', 'Рамальо Л.', 'Стейпл Д.', 'Кольцов Д. М.', 'Ферлитш Э.', 'Голиков Д. В.', 'Свейгарт Э.', 'Грессер Л.', 'Кольцов Д. М.', 'Харенслак  Б.', 'Щерба А. В.', '', 'Корягин А.', 'Майер К.', 'Зейтц Д.', 'Гифт Н.', 'Уатт Дж.', 'Персиваль Г.', 'Майков К. А.', 'Пэйн  Б.', 'Кайзер С.', 'Свейгарт Э.', 'Хапке  Х.', 'Уэйд Р.', 'Лейси Н.', 'Кольцов Д. М.', 'Постолит А. В.', 'Постолит А. В.', 'Яворски М.', 'Васильев Ю.', 'Бровкин А. А.', 'Рамальо Л.', 'Стейпл Д.', 'Кольцов Д. М.', 'Ферлитш Э.', 'Голиков Д. В.', 'Свейгарт Э.', 'Грессер Л.', 'Кольцов Д. М.', 'Харенслак  Б.', 'Щерба А. В.', '', 'Корягин А.', 'Майер К.', 'Зейтц Д.', 'Грессер Л.', 'Мюллер , Массарон Дж. П. , Л.', 'Шоу  З.', 'Мартин О.', 'Дэвидсон-Пайлон К.', 'Лутц М.', 'Джоши П.', 'Хеллман Д.', 'Плас Дж. В.', 'Мишра П.', 'Грессер Л.', 'Мюллер , Массарон Дж. П. , Л.', 'Шоу  З.', 'Мартин О.', 'Дэвидсон-Пайлон К.', 'Лутц М.', 'Джоши П.', 'Хеллман Д.', 'Плас Дж. В.', 'Мишра П.']\n"
     ]
    }
   ],
   "source": [
    "print(authors1)"
   ]
  },
  {
   "cell_type": "code",
   "execution_count": 31,
   "metadata": {},
   "outputs": [],
   "source": [
    "# [a.text for a in soup1.find_all('div', {'class': 'author'})]\n",
    "# то же самое что и\n",
    "authors1 = []\n",
    "for a in soup1.find_all('div', {'class': 'author'}):\n",
    "    authors1.append(a.text)"
   ]
  },
  {
   "cell_type": "code",
   "execution_count": 32,
   "metadata": {},
   "outputs": [],
   "source": [
    "for p in range(1, 3):\n",
    "    link = f'https://www.biblio-globus.ru/search?q=Python&pagenumber={p}'\n",
    "    try:\n",
    "        soup = BeautifulSoup(page1, 'lxml')\n",
    "        books.extend([b.text for b in soup.find_all('a', {'style':'color:#444;'})])\n",
    "        for book in soup1.find_all('a', {'style':'color:#444;'}):\n",
    "            link = 'https://www.biblio-globus.ru' + book.get('href')\n",
    "            br.get(link)\n",
    "            br.implicitly_wait(1)\n",
    "            page = br.page_source\n",
    "            soup = BeautifulSoup(page, 'lxml')\n",
    "            authors.append(soup.find('h1', {'class' : 'card-title'}).text.split('|')[1].strip())\n",
    "    except:\n",
    "        break"
   ]
  },
  {
   "cell_type": "code",
   "execution_count": null,
   "metadata": {},
   "outputs": [],
   "source": []
  },
  {
   "cell_type": "code",
   "execution_count": 36,
   "metadata": {},
   "outputs": [
    {
     "data": {
      "text/plain": [
       "[<div class=\"author\">Н. М. Ершов</div>,\n",
       " <div class=\"author\">Э. Свейгарт</div>,\n",
       " <div class=\"author\">Н. Нисчал</div>,\n",
       " <div class=\"author\">Д. М. Кольцов </div>,\n",
       " <div class=\"author\">А. В. Протодьяконов, П. А. Пылов, В. Е. Садовников</div>,\n",
       " <div class=\"author\">М. Доусон</div>,\n",
       " <div class=\"author\">Дж. Бриггс</div>,\n",
       " <div class=\"author\">Т. Гэддис </div>,\n",
       " <div class=\"author\">М. Харрисон</div>,\n",
       " <div class=\"author\">П. Бэрри</div>]"
      ]
     },
     "execution_count": 36,
     "metadata": {},
     "output_type": "execute_result"
    }
   ],
   "source": [
    "soup1.find_all('div', {'class': 'author'})"
   ]
  },
  {
   "cell_type": "code",
   "execution_count": 32,
   "metadata": {},
   "outputs": [
    {
     "data": {
      "text/plain": [
       "['Н. М. Ершов',\n",
       " 'Э. Свейгарт',\n",
       " 'Н. Нисчал',\n",
       " 'Д. М. Кольцов ',\n",
       " 'А. В. Протодьяконов, П. А. Пылов, В. Е. Садовников',\n",
       " 'М. Доусон',\n",
       " 'Дж. Бриггс',\n",
       " 'Т. Гэддис ',\n",
       " 'М. Харрисон',\n",
       " 'П. Бэрри']"
      ]
     },
     "execution_count": 32,
     "metadata": {},
     "output_type": "execute_result"
    }
   ],
   "source": [
    "authors1"
   ]
  },
  {
   "cell_type": "code",
   "execution_count": 37,
   "metadata": {},
   "outputs": [],
   "source": [
    "authors1 = [a.text for a in soup1.find_all('div', {'class': 'author'})]"
   ]
  },
  {
   "cell_type": "markdown",
   "metadata": {},
   "source": [
    "Сгрузим расположение:"
   ]
  },
  {
   "cell_type": "code",
   "execution_count": 33,
   "metadata": {},
   "outputs": [],
   "source": [
    "#place1 = [p.text for p in soup1.find_all('div', {'class':'placement'})]\n",
    "\n",
    "place1 = []\n",
    "for p in soup1.find_all('div', {'class': 'details_1'}):\n",
    "    if 'Расположение' in p.text:\n",
    "        place1.append(p.find('div', {'class': 'placement'}).text)\n",
    "        #place1 = p.find('div', {'class': 'placement'}).append(p.text)\n",
    "    else:\n",
    "        place1.append(None)"
   ]
  },
  {
   "cell_type": "code",
   "execution_count": 34,
   "metadata": {},
   "outputs": [
    {
     "data": {
      "text/plain": [
       "[]"
      ]
     },
     "execution_count": 34,
     "metadata": {},
     "output_type": "execute_result"
    }
   ],
   "source": [
    "place1"
   ]
  },
  {
   "cell_type": "markdown",
   "metadata": {},
   "source": [
    "И, конечно, цену:"
   ]
  },
  {
   "cell_type": "code",
   "execution_count": 35,
   "metadata": {},
   "outputs": [],
   "source": [
    "price1 = [p.text for p in soup1.find_all('div', \n",
    "                                         {'class':'title_data price'})]"
   ]
  },
  {
   "cell_type": "code",
   "execution_count": 36,
   "metadata": {},
   "outputs": [
    {
     "data": {
      "text/plain": [
       "[]"
      ]
     },
     "execution_count": 36,
     "metadata": {},
     "output_type": "execute_result"
    }
   ],
   "source": [
    "price1"
   ]
  },
  {
   "cell_type": "markdown",
   "metadata": {},
   "source": [
    "Осталось пройтись по всем страницам, которые были выданы в результате поиска. Для примера перейдем на страницу 2 и на этом остановимся."
   ]
  },
  {
   "cell_type": "code",
   "execution_count": 47,
   "metadata": {},
   "outputs": [],
   "source": [
    "next_p = br.find_element(By.CSS_SELECTOR, '.next_page')"
   ]
  },
  {
   "cell_type": "code",
   "execution_count": 48,
   "metadata": {},
   "outputs": [],
   "source": [
    "next_p.click()"
   ]
  },
  {
   "cell_type": "markdown",
   "metadata": {},
   "source": [
    "Проделаем то же самое, что и с первой страницей. По-хорошему нужно написать функцию, которая будет искать на странице названия книг, их расположение и цену. Но оставим это в качестве задания читателю :)"
   ]
  },
  {
   "cell_type": "code",
   "execution_count": 54,
   "metadata": {},
   "outputs": [],
   "source": [
    "page2 = br.page_source\n",
    "soup2 = BeautifulSoup(page2, 'lxml')\n",
    "books2 = [b.text for b in soup2.find_all('a', {'class':'name'})]\n",
    "author2 = [a.text for a in soup2.find_all('div', {'class': 'author'})]\n",
    "place2 = [p.text for p in soup2.find_all('div', {'class':'placement'})]\n",
    "price2 = [p.text for p in soup2.find_all('div', {'class':'title_data price'})]"
   ]
  },
  {
   "cell_type": "markdown",
   "metadata": {},
   "source": [
    "Расширим списки результатов с первой страницы данными, полученными со второй страницы, используя метод `.extend()`."
   ]
  },
  {
   "cell_type": "code",
   "execution_count": 55,
   "metadata": {},
   "outputs": [],
   "source": [
    "books1.extend(books2) # books1 + books2\n",
    "authors1.extend(books2)\n",
    "place1.extend(place2)\n",
    "price1.extend(price2)"
   ]
  },
  {
   "cell_type": "markdown",
   "metadata": {},
   "source": [
    "Осталось импортировать библиотеку `pandas` и создать датафрейм."
   ]
  },
  {
   "cell_type": "code",
   "execution_count": 49,
   "metadata": {},
   "outputs": [],
   "source": [
    "import pandas as pd"
   ]
  },
  {
   "cell_type": "code",
   "execution_count": 56,
   "metadata": {},
   "outputs": [
    {
     "data": {
      "text/plain": [
       "20"
      ]
     },
     "execution_count": 56,
     "metadata": {},
     "output_type": "execute_result"
    }
   ],
   "source": [
    "len(books1)"
   ]
  },
  {
   "cell_type": "code",
   "execution_count": 57,
   "metadata": {},
   "outputs": [
    {
     "data": {
      "text/plain": [
       "20"
      ]
     },
     "execution_count": 57,
     "metadata": {},
     "output_type": "execute_result"
    }
   ],
   "source": [
    "len(authors1)"
   ]
  },
  {
   "cell_type": "code",
   "execution_count": 58,
   "metadata": {},
   "outputs": [
    {
     "data": {
      "text/plain": [
       "20"
      ]
     },
     "execution_count": 58,
     "metadata": {},
     "output_type": "execute_result"
    }
   ],
   "source": [
    "len(place1)"
   ]
  },
  {
   "cell_type": "code",
   "execution_count": 59,
   "metadata": {},
   "outputs": [
    {
     "data": {
      "text/plain": [
       "20"
      ]
     },
     "execution_count": 59,
     "metadata": {},
     "output_type": "execute_result"
    }
   ],
   "source": [
    "len(price1)"
   ]
  },
  {
   "cell_type": "markdown",
   "metadata": {},
   "source": [
    "Для разнообразия создадим датафрейм не из списка списков, а из словаря. Ключами словаря будут названия столбцов в таблице, а значениями – списки с сохраненной информацией (названия книг, цены и проч.)."
   ]
  },
  {
   "cell_type": "code",
   "execution_count": 60,
   "metadata": {},
   "outputs": [],
   "source": [
    "df = pd.DataFrame({'book': books1, 'author': authors1,\n",
    "                   'placement': place1, 'price': price1})"
   ]
  },
  {
   "cell_type": "code",
   "execution_count": 61,
   "metadata": {},
   "outputs": [
    {
     "data": {
      "text/html": [
       "<div>\n",
       "<style scoped>\n",
       "    .dataframe tbody tr th:only-of-type {\n",
       "        vertical-align: middle;\n",
       "    }\n",
       "\n",
       "    .dataframe tbody tr th {\n",
       "        vertical-align: top;\n",
       "    }\n",
       "\n",
       "    .dataframe thead th {\n",
       "        text-align: right;\n",
       "    }\n",
       "</style>\n",
       "<table border=\"1\" class=\"dataframe\">\n",
       "  <thead>\n",
       "    <tr style=\"text-align: right;\">\n",
       "      <th></th>\n",
       "      <th>book</th>\n",
       "      <th>author</th>\n",
       "      <th>placement</th>\n",
       "      <th>price</th>\n",
       "    </tr>\n",
       "  </thead>\n",
       "  <tbody>\n",
       "    <tr>\n",
       "      <th>0</th>\n",
       "      <td>Практическое введение в решение дифференциальн...</td>\n",
       "      <td>Н. М. Ершов</td>\n",
       "      <td>Расположение в торговом зале: Уровень 1, зал №...</td>\n",
       "      <td>Цена: 2619,00 руб.</td>\n",
       "    </tr>\n",
       "    <tr>\n",
       "      <th>1</th>\n",
       "      <td>Python. Чистый код для продолжающих</td>\n",
       "      <td>Э. Свейгарт</td>\n",
       "      <td>None</td>\n",
       "      <td>Цена: 2239,00 руб.</td>\n",
       "    </tr>\n",
       "    <tr>\n",
       "      <th>2</th>\n",
       "      <td>Python - это просто. Пошаговое руководство по ...</td>\n",
       "      <td>Н. Нисчал</td>\n",
       "      <td>Расположение в торговом зале: Уровень 1, зал №...</td>\n",
       "      <td>Цена: 1189,00 руб.</td>\n",
       "    </tr>\n",
       "    <tr>\n",
       "      <th>3</th>\n",
       "      <td>Python.Создаем программы и игры</td>\n",
       "      <td>Д. М. Кольцов</td>\n",
       "      <td>Расположение в торговом зале: Уровень 1, зал №...</td>\n",
       "      <td>Цена: 679,00 руб.</td>\n",
       "    </tr>\n",
       "    <tr>\n",
       "      <th>4</th>\n",
       "      <td>Алгоритмы Data Science и их практическая реали...</td>\n",
       "      <td>А. В. Протодьяконов, П. А. Пылов, В. Е. Садовн...</td>\n",
       "      <td>Расположение в торговом зале: Уровень 1, зал №...</td>\n",
       "      <td>Цена: 3459,00 руб.</td>\n",
       "    </tr>\n",
       "    <tr>\n",
       "      <th>5</th>\n",
       "      <td>Программируем на Python</td>\n",
       "      <td>М. Доусон</td>\n",
       "      <td>Расположение в торговом зале: Уровень 1, зал №...</td>\n",
       "      <td>Цена: 1359,00 руб.</td>\n",
       "    </tr>\n",
       "    <tr>\n",
       "      <th>6</th>\n",
       "      <td>Python для детей : самоучитель по программиров...</td>\n",
       "      <td>Дж. Бриггс</td>\n",
       "      <td>Расположение в торговом зале: Уровень 1, зал №...</td>\n",
       "      <td>Цена: 1569,00 руб.</td>\n",
       "    </tr>\n",
       "    <tr>\n",
       "      <th>7</th>\n",
       "      <td>Начинаем программировать на Python</td>\n",
       "      <td>Т. Гэддис</td>\n",
       "      <td>Расположение в торговом зале: Уровень 1, зал №...</td>\n",
       "      <td>Цена: 2619,00 руб.</td>\n",
       "    </tr>\n",
       "    <tr>\n",
       "      <th>8</th>\n",
       "      <td>Машинное обучение: карманный справочник. Кратк...</td>\n",
       "      <td>М. Харрисон</td>\n",
       "      <td>Расположение в торговом зале: Уровень 1, зал №...</td>\n",
       "      <td>Цена: 939,00 руб.</td>\n",
       "    </tr>\n",
       "    <tr>\n",
       "      <th>9</th>\n",
       "      <td>Изучаем программирование на Python</td>\n",
       "      <td>П. Бэрри</td>\n",
       "      <td>Расположение в торговом зале: Уровень 1, зал №...</td>\n",
       "      <td>Цена: 1859,00 руб.</td>\n",
       "    </tr>\n",
       "  </tbody>\n",
       "</table>\n",
       "</div>"
      ],
      "text/plain": [
       "                                                book  \\\n",
       "0  Практическое введение в решение дифференциальн...   \n",
       "1                Python. Чистый код для продолжающих   \n",
       "2  Python - это просто. Пошаговое руководство по ...   \n",
       "3                    Python.Создаем программы и игры   \n",
       "4  Алгоритмы Data Science и их практическая реали...   \n",
       "5                            Программируем на Python   \n",
       "6  Python для детей : самоучитель по программиров...   \n",
       "7                 Начинаем программировать на Python   \n",
       "8  Машинное обучение: карманный справочник. Кратк...   \n",
       "9                 Изучаем программирование на Python   \n",
       "\n",
       "                                              author  \\\n",
       "0                                        Н. М. Ершов   \n",
       "1                                        Э. Свейгарт   \n",
       "2                                          Н. Нисчал   \n",
       "3                                     Д. М. Кольцов    \n",
       "4  А. В. Протодьяконов, П. А. Пылов, В. Е. Садовн...   \n",
       "5                                          М. Доусон   \n",
       "6                                         Дж. Бриггс   \n",
       "7                                         Т. Гэддис    \n",
       "8                                        М. Харрисон   \n",
       "9                                           П. Бэрри   \n",
       "\n",
       "                                           placement               price  \n",
       "0  Расположение в торговом зале: Уровень 1, зал №...  Цена: 2619,00 руб.  \n",
       "1                                               None  Цена: 2239,00 руб.  \n",
       "2  Расположение в торговом зале: Уровень 1, зал №...  Цена: 1189,00 руб.  \n",
       "3  Расположение в торговом зале: Уровень 1, зал №...   Цена: 679,00 руб.  \n",
       "4  Расположение в торговом зале: Уровень 1, зал №...  Цена: 3459,00 руб.  \n",
       "5  Расположение в торговом зале: Уровень 1, зал №...  Цена: 1359,00 руб.  \n",
       "6  Расположение в торговом зале: Уровень 1, зал №...  Цена: 1569,00 руб.  \n",
       "7  Расположение в торговом зале: Уровень 1, зал №...  Цена: 2619,00 руб.  \n",
       "8  Расположение в торговом зале: Уровень 1, зал №...   Цена: 939,00 руб.  \n",
       "9  Расположение в торговом зале: Уровень 1, зал №...  Цена: 1859,00 руб.  "
      ]
     },
     "execution_count": 61,
     "metadata": {},
     "output_type": "execute_result"
    }
   ],
   "source": [
    "df.head(10)"
   ]
  },
  {
   "cell_type": "code",
   "execution_count": 62,
   "metadata": {},
   "outputs": [
    {
     "name": "stdout",
     "output_type": "stream",
     "text": [
      "<class 'pandas.core.frame.DataFrame'>\n",
      "RangeIndex: 20 entries, 0 to 19\n",
      "Data columns (total 4 columns):\n",
      " #   Column     Non-Null Count  Dtype \n",
      "---  ------     --------------  ----- \n",
      " 0   book       20 non-null     object\n",
      " 1   author     20 non-null     object\n",
      " 2   placement  19 non-null     object\n",
      " 3   price      20 non-null     object\n",
      "dtypes: object(4)\n",
      "memory usage: 768.0+ bytes\n"
     ]
    }
   ],
   "source": [
    "df.info() #object ~ string"
   ]
  },
  {
   "cell_type": "markdown",
   "metadata": {},
   "source": [
    "Давайте приведем столбец с ценой к числовому типу. Уберем слова *Цена* и *руб*, а потом сконвертируем строки в числа с плавающей точкой. Напишем функцию `get_price()`,"
   ]
  },
  {
   "cell_type": "code",
   "execution_count": null,
   "metadata": {},
   "outputs": [],
   "source": [
    "#iloc = index location"
   ]
  },
  {
   "cell_type": "code",
   "execution_count": 74,
   "metadata": {},
   "outputs": [
    {
     "data": {
      "text/html": [
       "<div>\n",
       "<style scoped>\n",
       "    .dataframe tbody tr th:only-of-type {\n",
       "        vertical-align: middle;\n",
       "    }\n",
       "\n",
       "    .dataframe tbody tr th {\n",
       "        vertical-align: top;\n",
       "    }\n",
       "\n",
       "    .dataframe thead th {\n",
       "        text-align: right;\n",
       "    }\n",
       "</style>\n",
       "<table border=\"1\" class=\"dataframe\">\n",
       "  <thead>\n",
       "    <tr style=\"text-align: right;\">\n",
       "      <th></th>\n",
       "      <th>book</th>\n",
       "      <th>author</th>\n",
       "      <th>placement</th>\n",
       "      <th>price</th>\n",
       "    </tr>\n",
       "  </thead>\n",
       "  <tbody>\n",
       "    <tr>\n",
       "      <th>1</th>\n",
       "      <td>Python. Чистый код для продолжающих</td>\n",
       "      <td>Э. Свейгарт</td>\n",
       "      <td>None</td>\n",
       "      <td>Цена: 2239,00 руб.</td>\n",
       "    </tr>\n",
       "    <tr>\n",
       "      <th>2</th>\n",
       "      <td>Python - это просто. Пошаговое руководство по ...</td>\n",
       "      <td>Н. Нисчал</td>\n",
       "      <td>Расположение в торговом зале: Уровень 1, зал №...</td>\n",
       "      <td>Цена: 1189,00 руб.</td>\n",
       "    </tr>\n",
       "    <tr>\n",
       "      <th>3</th>\n",
       "      <td>Python.Создаем программы и игры</td>\n",
       "      <td>Д. М. Кольцов</td>\n",
       "      <td>Расположение в торговом зале: Уровень 1, зал №...</td>\n",
       "      <td>Цена: 679,00 руб.</td>\n",
       "    </tr>\n",
       "  </tbody>\n",
       "</table>\n",
       "</div>"
      ],
      "text/plain": [
       "                                                book          author  \\\n",
       "1                Python. Чистый код для продолжающих     Э. Свейгарт   \n",
       "2  Python - это просто. Пошаговое руководство по ...       Н. Нисчал   \n",
       "3                    Python.Создаем программы и игры  Д. М. Кольцов    \n",
       "\n",
       "                                           placement               price  \n",
       "1                                               None  Цена: 2239,00 руб.  \n",
       "2  Расположение в торговом зале: Уровень 1, зал №...  Цена: 1189,00 руб.  \n",
       "3  Расположение в торговом зале: Уровень 1, зал №...   Цена: 679,00 руб.  "
      ]
     },
     "execution_count": 74,
     "metadata": {},
     "output_type": "execute_result"
    }
   ],
   "source": [
    "df.iloc[1:4]"
   ]
  },
  {
   "cell_type": "code",
   "execution_count": 73,
   "metadata": {},
   "outputs": [
    {
     "data": {
      "text/plain": [
       "1    Цена: 2239,00 руб.\n",
       "2    Цена: 1189,00 руб.\n",
       "3     Цена: 679,00 руб.\n",
       "Name: price, dtype: object"
      ]
     },
     "execution_count": 73,
     "metadata": {},
     "output_type": "execute_result"
    }
   ],
   "source": [
    "df.iloc[1:4, 3]"
   ]
  },
  {
   "cell_type": "code",
   "execution_count": 64,
   "metadata": {},
   "outputs": [
    {
     "data": {
      "text/plain": [
       "'Цена: 2239,00 руб.'"
      ]
     },
     "execution_count": 64,
     "metadata": {},
     "output_type": "execute_result"
    }
   ],
   "source": [
    "df.iloc[1, -1] #срез - первое значение номер строки \n",
    "        #по конкретному индесу, 2е – номер колонки"
   ]
  },
  {
   "cell_type": "code",
   "execution_count": 66,
   "metadata": {},
   "outputs": [
    {
     "data": {
      "text/plain": [
       "['Цена:', '2239,00', 'руб.']"
      ]
     },
     "execution_count": 66,
     "metadata": {},
     "output_type": "execute_result"
    }
   ],
   "source": [
    "df.iloc[1, 3].split()"
   ]
  },
  {
   "cell_type": "code",
   "execution_count": 67,
   "metadata": {},
   "outputs": [
    {
     "data": {
      "text/plain": [
       "'2239,00'"
      ]
     },
     "execution_count": 67,
     "metadata": {},
     "output_type": "execute_result"
    }
   ],
   "source": [
    "df.iloc[1, 3].split()[1]"
   ]
  },
  {
   "cell_type": "code",
   "execution_count": 68,
   "metadata": {},
   "outputs": [
    {
     "data": {
      "text/plain": [
       "'2239.00'"
      ]
     },
     "execution_count": 68,
     "metadata": {},
     "output_type": "execute_result"
    }
   ],
   "source": [
    "df.iloc[1, 3].split()[1].replace(',','.')"
   ]
  },
  {
   "cell_type": "code",
   "execution_count": 75,
   "metadata": {},
   "outputs": [
    {
     "data": {
      "text/plain": [
       "2239.0"
      ]
     },
     "execution_count": 75,
     "metadata": {},
     "output_type": "execute_result"
    }
   ],
   "source": [
    "float(df.iloc[1, 3].split()[1].replace(',', '.'))"
   ]
  },
  {
   "cell_type": "code",
   "execution_count": 76,
   "metadata": {},
   "outputs": [],
   "source": [
    "import re"
   ]
  },
  {
   "cell_type": "code",
   "execution_count": 79,
   "metadata": {},
   "outputs": [
    {
     "data": {
      "text/plain": [
       "'2239.00'"
      ]
     },
     "execution_count": 79,
     "metadata": {},
     "output_type": "execute_result"
    }
   ],
   "source": [
    "'.'.join(re.findall(r'\\d+', df.iloc[1, 3]))"
   ]
  },
  {
   "cell_type": "code",
   "execution_count": 80,
   "metadata": {},
   "outputs": [
    {
     "data": {
      "text/plain": [
       "2239.0"
      ]
     },
     "execution_count": 80,
     "metadata": {},
     "output_type": "execute_result"
    }
   ],
   "source": [
    "float('.'.join(re.findall(r'\\d+', df.iloc[1, 3])))"
   ]
  },
  {
   "cell_type": "code",
   "execution_count": null,
   "metadata": {},
   "outputs": [],
   "source": [
    "re.findall(r'\\d+', df.iloc[1, 3])"
   ]
  },
  {
   "cell_type": "code",
   "execution_count": null,
   "metadata": {},
   "outputs": [],
   "source": [
    "float(df.iloc[1, 3].split()[1].replace(',', '.'))"
   ]
  },
  {
   "cell_type": "code",
   "execution_count": 81,
   "metadata": {},
   "outputs": [],
   "source": [
    "def get_price(price):\n",
    "    book_price = price.split(' ')[1]  # разобьем строку по пробелу и возьмем второй элемент\n",
    "    book_price = book_price.replace(',', '.')  # заменим запятую на точку\n",
    "    price_num = float(book_price)  # сконвертируем в float\n",
    "    return price_num"
   ]
  },
  {
   "cell_type": "code",
   "execution_count": 82,
   "metadata": {},
   "outputs": [],
   "source": [
    "def price(x):\n",
    "    return float('.'.join(re.findall(r'\\d+',x)))"
   ]
  },
  {
   "cell_type": "code",
   "execution_count": 83,
   "metadata": {},
   "outputs": [
    {
     "data": {
      "text/plain": [
       "2619.0"
      ]
     },
     "execution_count": 83,
     "metadata": {},
     "output_type": "execute_result"
    }
   ],
   "source": [
    "# проверка\n",
    "get_price(df.price[0])"
   ]
  },
  {
   "cell_type": "code",
   "execution_count": 84,
   "metadata": {},
   "outputs": [
    {
     "data": {
      "text/plain": [
       "2619.0"
      ]
     },
     "execution_count": 84,
     "metadata": {},
     "output_type": "execute_result"
    }
   ],
   "source": [
    "price(df.price[0])"
   ]
  },
  {
   "cell_type": "markdown",
   "metadata": {},
   "source": [
    "Всё отлично работает! Применим функцию к столбцу *price* и создадим новый столбец *nprice*."
   ]
  },
  {
   "cell_type": "code",
   "execution_count": 85,
   "metadata": {},
   "outputs": [
    {
     "data": {
      "text/html": [
       "<div>\n",
       "<style scoped>\n",
       "    .dataframe tbody tr th:only-of-type {\n",
       "        vertical-align: middle;\n",
       "    }\n",
       "\n",
       "    .dataframe tbody tr th {\n",
       "        vertical-align: top;\n",
       "    }\n",
       "\n",
       "    .dataframe thead th {\n",
       "        text-align: right;\n",
       "    }\n",
       "</style>\n",
       "<table border=\"1\" class=\"dataframe\">\n",
       "  <thead>\n",
       "    <tr style=\"text-align: right;\">\n",
       "      <th></th>\n",
       "      <th>book</th>\n",
       "      <th>author</th>\n",
       "      <th>placement</th>\n",
       "      <th>price</th>\n",
       "    </tr>\n",
       "  </thead>\n",
       "  <tbody>\n",
       "    <tr>\n",
       "      <th>0</th>\n",
       "      <td>Практическое введение в решение дифференциальн...</td>\n",
       "      <td>Н. М. Ершов</td>\n",
       "      <td>Расположение в торговом зале: Уровень 1, зал №...</td>\n",
       "      <td>Цена: 2619,00 руб.</td>\n",
       "    </tr>\n",
       "    <tr>\n",
       "      <th>1</th>\n",
       "      <td>Python. Чистый код для продолжающих</td>\n",
       "      <td>Э. Свейгарт</td>\n",
       "      <td>None</td>\n",
       "      <td>Цена: 2239,00 руб.</td>\n",
       "    </tr>\n",
       "  </tbody>\n",
       "</table>\n",
       "</div>"
      ],
      "text/plain": [
       "                                                book       author  \\\n",
       "0  Практическое введение в решение дифференциальн...  Н. М. Ершов   \n",
       "1                Python. Чистый код для продолжающих  Э. Свейгарт   \n",
       "\n",
       "                                           placement               price  \n",
       "0  Расположение в торговом зале: Уровень 1, зал №...  Цена: 2619,00 руб.  \n",
       "1                                               None  Цена: 2239,00 руб.  "
      ]
     },
     "execution_count": 85,
     "metadata": {},
     "output_type": "execute_result"
    }
   ],
   "source": [
    "df.head(2)"
   ]
  },
  {
   "cell_type": "code",
   "execution_count": 88,
   "metadata": {},
   "outputs": [],
   "source": [
    "df['nprice'] = df.price.apply(get_price)"
   ]
  },
  {
   "cell_type": "code",
   "execution_count": 89,
   "metadata": {},
   "outputs": [
    {
     "data": {
      "text/html": [
       "<div>\n",
       "<style scoped>\n",
       "    .dataframe tbody tr th:only-of-type {\n",
       "        vertical-align: middle;\n",
       "    }\n",
       "\n",
       "    .dataframe tbody tr th {\n",
       "        vertical-align: top;\n",
       "    }\n",
       "\n",
       "    .dataframe thead th {\n",
       "        text-align: right;\n",
       "    }\n",
       "</style>\n",
       "<table border=\"1\" class=\"dataframe\">\n",
       "  <thead>\n",
       "    <tr style=\"text-align: right;\">\n",
       "      <th></th>\n",
       "      <th>book</th>\n",
       "      <th>author</th>\n",
       "      <th>placement</th>\n",
       "      <th>price</th>\n",
       "      <th>nprice</th>\n",
       "    </tr>\n",
       "  </thead>\n",
       "  <tbody>\n",
       "    <tr>\n",
       "      <th>0</th>\n",
       "      <td>Практическое введение в решение дифференциальн...</td>\n",
       "      <td>Н. М. Ершов</td>\n",
       "      <td>Расположение в торговом зале: Уровень 1, зал №...</td>\n",
       "      <td>Цена: 2619,00 руб.</td>\n",
       "      <td>2619.0</td>\n",
       "    </tr>\n",
       "    <tr>\n",
       "      <th>1</th>\n",
       "      <td>Python. Чистый код для продолжающих</td>\n",
       "      <td>Э. Свейгарт</td>\n",
       "      <td>None</td>\n",
       "      <td>Цена: 2239,00 руб.</td>\n",
       "      <td>2239.0</td>\n",
       "    </tr>\n",
       "    <tr>\n",
       "      <th>2</th>\n",
       "      <td>Python - это просто. Пошаговое руководство по ...</td>\n",
       "      <td>Н. Нисчал</td>\n",
       "      <td>Расположение в торговом зале: Уровень 1, зал №...</td>\n",
       "      <td>Цена: 1189,00 руб.</td>\n",
       "      <td>1189.0</td>\n",
       "    </tr>\n",
       "    <tr>\n",
       "      <th>3</th>\n",
       "      <td>Python.Создаем программы и игры</td>\n",
       "      <td>Д. М. Кольцов</td>\n",
       "      <td>Расположение в торговом зале: Уровень 1, зал №...</td>\n",
       "      <td>Цена: 679,00 руб.</td>\n",
       "      <td>679.0</td>\n",
       "    </tr>\n",
       "    <tr>\n",
       "      <th>4</th>\n",
       "      <td>Алгоритмы Data Science и их практическая реали...</td>\n",
       "      <td>А. В. Протодьяконов, П. А. Пылов, В. Е. Садовн...</td>\n",
       "      <td>Расположение в торговом зале: Уровень 1, зал №...</td>\n",
       "      <td>Цена: 3459,00 руб.</td>\n",
       "      <td>3459.0</td>\n",
       "    </tr>\n",
       "  </tbody>\n",
       "</table>\n",
       "</div>"
      ],
      "text/plain": [
       "                                                book  \\\n",
       "0  Практическое введение в решение дифференциальн...   \n",
       "1                Python. Чистый код для продолжающих   \n",
       "2  Python - это просто. Пошаговое руководство по ...   \n",
       "3                    Python.Создаем программы и игры   \n",
       "4  Алгоритмы Data Science и их практическая реали...   \n",
       "\n",
       "                                              author  \\\n",
       "0                                        Н. М. Ершов   \n",
       "1                                        Э. Свейгарт   \n",
       "2                                          Н. Нисчал   \n",
       "3                                     Д. М. Кольцов    \n",
       "4  А. В. Протодьяконов, П. А. Пылов, В. Е. Садовн...   \n",
       "\n",
       "                                           placement               price  \\\n",
       "0  Расположение в торговом зале: Уровень 1, зал №...  Цена: 2619,00 руб.   \n",
       "1                                               None  Цена: 2239,00 руб.   \n",
       "2  Расположение в торговом зале: Уровень 1, зал №...  Цена: 1189,00 руб.   \n",
       "3  Расположение в торговом зале: Уровень 1, зал №...   Цена: 679,00 руб.   \n",
       "4  Расположение в торговом зале: Уровень 1, зал №...  Цена: 3459,00 руб.   \n",
       "\n",
       "   nprice  \n",
       "0  2619.0  \n",
       "1  2239.0  \n",
       "2  1189.0  \n",
       "3   679.0  \n",
       "4  3459.0  "
      ]
     },
     "execution_count": 89,
     "metadata": {},
     "output_type": "execute_result"
    }
   ],
   "source": [
    "df.head()"
   ]
  },
  {
   "cell_type": "code",
   "execution_count": 90,
   "metadata": {},
   "outputs": [
    {
     "name": "stdout",
     "output_type": "stream",
     "text": [
      "<class 'pandas.core.frame.DataFrame'>\n",
      "RangeIndex: 20 entries, 0 to 19\n",
      "Data columns (total 5 columns):\n",
      " #   Column     Non-Null Count  Dtype  \n",
      "---  ------     --------------  -----  \n",
      " 0   book       20 non-null     object \n",
      " 1   author     20 non-null     object \n",
      " 2   placement  19 non-null     object \n",
      " 3   price      20 non-null     object \n",
      " 4   nprice     20 non-null     float64\n",
      "dtypes: float64(1), object(4)\n",
      "memory usage: 928.0+ bytes\n"
     ]
    }
   ],
   "source": [
    "df.info()"
   ]
  },
  {
   "cell_type": "code",
   "execution_count": 91,
   "metadata": {},
   "outputs": [
    {
     "data": {
      "text/html": [
       "<div>\n",
       "<style scoped>\n",
       "    .dataframe tbody tr th:only-of-type {\n",
       "        vertical-align: middle;\n",
       "    }\n",
       "\n",
       "    .dataframe tbody tr th {\n",
       "        vertical-align: top;\n",
       "    }\n",
       "\n",
       "    .dataframe thead th {\n",
       "        text-align: right;\n",
       "    }\n",
       "</style>\n",
       "<table border=\"1\" class=\"dataframe\">\n",
       "  <thead>\n",
       "    <tr style=\"text-align: right;\">\n",
       "      <th></th>\n",
       "      <th>nprice</th>\n",
       "    </tr>\n",
       "  </thead>\n",
       "  <tbody>\n",
       "    <tr>\n",
       "      <th>count</th>\n",
       "      <td>20.000000</td>\n",
       "    </tr>\n",
       "    <tr>\n",
       "      <th>mean</th>\n",
       "      <td>1846.500000</td>\n",
       "    </tr>\n",
       "    <tr>\n",
       "      <th>std</th>\n",
       "      <td>1113.561735</td>\n",
       "    </tr>\n",
       "    <tr>\n",
       "      <th>min</th>\n",
       "      <td>499.000000</td>\n",
       "    </tr>\n",
       "    <tr>\n",
       "      <th>25%</th>\n",
       "      <td>1046.500000</td>\n",
       "    </tr>\n",
       "    <tr>\n",
       "      <th>50%</th>\n",
       "      <td>1514.000000</td>\n",
       "    </tr>\n",
       "    <tr>\n",
       "      <th>75%</th>\n",
       "      <td>2334.000000</td>\n",
       "    </tr>\n",
       "    <tr>\n",
       "      <th>max</th>\n",
       "      <td>4459.000000</td>\n",
       "    </tr>\n",
       "  </tbody>\n",
       "</table>\n",
       "</div>"
      ],
      "text/plain": [
       "            nprice\n",
       "count    20.000000\n",
       "mean   1846.500000\n",
       "std    1113.561735\n",
       "min     499.000000\n",
       "25%    1046.500000\n",
       "50%    1514.000000\n",
       "75%    2334.000000\n",
       "max    4459.000000"
      ]
     },
     "execution_count": 91,
     "metadata": {},
     "output_type": "execute_result"
    }
   ],
   "source": [
    "df.describe() #для количеств признаков возвращает статистики"
   ]
  },
  {
   "cell_type": "markdown",
   "metadata": {},
   "source": [
    "Теперь можем расположить книги по цене в порядке возрастания:"
   ]
  },
  {
   "cell_type": "code",
   "execution_count": 93,
   "metadata": {},
   "outputs": [
    {
     "data": {
      "text/html": [
       "<div>\n",
       "<style scoped>\n",
       "    .dataframe tbody tr th:only-of-type {\n",
       "        vertical-align: middle;\n",
       "    }\n",
       "\n",
       "    .dataframe tbody tr th {\n",
       "        vertical-align: top;\n",
       "    }\n",
       "\n",
       "    .dataframe thead th {\n",
       "        text-align: right;\n",
       "    }\n",
       "</style>\n",
       "<table border=\"1\" class=\"dataframe\">\n",
       "  <thead>\n",
       "    <tr style=\"text-align: right;\">\n",
       "      <th></th>\n",
       "      <th>book</th>\n",
       "      <th>author</th>\n",
       "      <th>placement</th>\n",
       "      <th>price</th>\n",
       "      <th>nprice</th>\n",
       "    </tr>\n",
       "  </thead>\n",
       "  <tbody>\n",
       "    <tr>\n",
       "      <th>14</th>\n",
       "      <td>Изучаем Python, том 1</td>\n",
       "      <td>Изучаем Python, том 1</td>\n",
       "      <td>Расположение в торговом зале: Уровень 1, зал №...</td>\n",
       "      <td>Цена: 4459,00 руб.</td>\n",
       "      <td>4459.0</td>\n",
       "    </tr>\n",
       "    <tr>\n",
       "      <th>17</th>\n",
       "      <td>Стандартная библиотека Python 3</td>\n",
       "      <td>Стандартная библиотека Python 3</td>\n",
       "      <td>Расположение в торговом зале: Уровень 1, зал №...</td>\n",
       "      <td>Цена: 4109,00 руб.</td>\n",
       "      <td>4109.0</td>\n",
       "    </tr>\n",
       "    <tr>\n",
       "      <th>4</th>\n",
       "      <td>Алгоритмы Data Science и их практическая реали...</td>\n",
       "      <td>А. В. Протодьяконов, П. А. Пылов, В. Е. Садовн...</td>\n",
       "      <td>Расположение в торговом зале: Уровень 1, зал №...</td>\n",
       "      <td>Цена: 3459,00 руб.</td>\n",
       "      <td>3459.0</td>\n",
       "    </tr>\n",
       "    <tr>\n",
       "      <th>0</th>\n",
       "      <td>Практическое введение в решение дифференциальн...</td>\n",
       "      <td>Н. М. Ершов</td>\n",
       "      <td>Расположение в торговом зале: Уровень 1, зал №...</td>\n",
       "      <td>Цена: 2619,00 руб.</td>\n",
       "      <td>2619.0</td>\n",
       "    </tr>\n",
       "    <tr>\n",
       "      <th>7</th>\n",
       "      <td>Начинаем программировать на Python</td>\n",
       "      <td>Т. Гэддис</td>\n",
       "      <td>Расположение в торговом зале: Уровень 1, зал №...</td>\n",
       "      <td>Цена: 2619,00 руб.</td>\n",
       "      <td>2619.0</td>\n",
       "    </tr>\n",
       "    <tr>\n",
       "      <th>1</th>\n",
       "      <td>Python. Чистый код для продолжающих</td>\n",
       "      <td>Э. Свейгарт</td>\n",
       "      <td>None</td>\n",
       "      <td>Цена: 2239,00 руб.</td>\n",
       "      <td>2239.0</td>\n",
       "    </tr>\n",
       "    <tr>\n",
       "      <th>13</th>\n",
       "      <td>Простой Python. Современный стиль программиров...</td>\n",
       "      <td>Простой Python. Современный стиль программиров...</td>\n",
       "      <td>Расположение в торговом зале: Уровень 1, зал №...</td>\n",
       "      <td>Цена: 2019,00 руб.</td>\n",
       "      <td>2019.0</td>\n",
       "    </tr>\n",
       "    <tr>\n",
       "      <th>9</th>\n",
       "      <td>Изучаем программирование на Python</td>\n",
       "      <td>П. Бэрри</td>\n",
       "      <td>Расположение в торговом зале: Уровень 1, зал №...</td>\n",
       "      <td>Цена: 1859,00 руб.</td>\n",
       "      <td>1859.0</td>\n",
       "    </tr>\n",
       "    <tr>\n",
       "      <th>19</th>\n",
       "      <td>Большая книга проектов Python</td>\n",
       "      <td>Большая книга проектов Python</td>\n",
       "      <td>Расположение в торговом зале: Уровень 1, зал №...</td>\n",
       "      <td>Цена: 1669,00 руб.</td>\n",
       "      <td>1669.0</td>\n",
       "    </tr>\n",
       "    <tr>\n",
       "      <th>6</th>\n",
       "      <td>Python для детей : самоучитель по программиров...</td>\n",
       "      <td>Дж. Бриггс</td>\n",
       "      <td>Расположение в торговом зале: Уровень 1, зал №...</td>\n",
       "      <td>Цена: 1569,00 руб.</td>\n",
       "      <td>1569.0</td>\n",
       "    </tr>\n",
       "    <tr>\n",
       "      <th>16</th>\n",
       "      <td>Чистый Python. Тонкости программирования для п...</td>\n",
       "      <td>Чистый Python. Тонкости программирования для п...</td>\n",
       "      <td>Расположение в торговом зале: Уровень 1, зал №...</td>\n",
       "      <td>Цена: 1459,00 руб.</td>\n",
       "      <td>1459.0</td>\n",
       "    </tr>\n",
       "    <tr>\n",
       "      <th>5</th>\n",
       "      <td>Программируем на Python</td>\n",
       "      <td>М. Доусон</td>\n",
       "      <td>Расположение в торговом зале: Уровень 1, зал №...</td>\n",
       "      <td>Цена: 1359,00 руб.</td>\n",
       "      <td>1359.0</td>\n",
       "    </tr>\n",
       "    <tr>\n",
       "      <th>15</th>\n",
       "      <td>Python 3   Самое необходимое</td>\n",
       "      <td>Python 3   Самое необходимое</td>\n",
       "      <td>Расположение в торговом зале: Уровень 1, зал №...</td>\n",
       "      <td>Цена: 1329,00 руб.</td>\n",
       "      <td>1329.0</td>\n",
       "    </tr>\n",
       "    <tr>\n",
       "      <th>2</th>\n",
       "      <td>Python - это просто. Пошаговое руководство по ...</td>\n",
       "      <td>Н. Нисчал</td>\n",
       "      <td>Расположение в торговом зале: Уровень 1, зал №...</td>\n",
       "      <td>Цена: 1189,00 руб.</td>\n",
       "      <td>1189.0</td>\n",
       "    </tr>\n",
       "    <tr>\n",
       "      <th>10</th>\n",
       "      <td>Python для юных программистов</td>\n",
       "      <td>Python для юных программистов</td>\n",
       "      <td>Расположение в торговом зале: Уровень 1, зал №...</td>\n",
       "      <td>Цена: 1059,00 руб.</td>\n",
       "      <td>1059.0</td>\n",
       "    </tr>\n",
       "    <tr>\n",
       "      <th>12</th>\n",
       "      <td>Python: быстрый старт</td>\n",
       "      <td>Python: быстрый старт</td>\n",
       "      <td>Расположение в торговом зале: Уровень 1, зал №...</td>\n",
       "      <td>Цена: 1009,00 руб.</td>\n",
       "      <td>1009.0</td>\n",
       "    </tr>\n",
       "    <tr>\n",
       "      <th>8</th>\n",
       "      <td>Машинное обучение: карманный справочник. Кратк...</td>\n",
       "      <td>М. Харрисон</td>\n",
       "      <td>Расположение в торговом зале: Уровень 1, зал №...</td>\n",
       "      <td>Цена: 939,00 руб.</td>\n",
       "      <td>939.0</td>\n",
       "    </tr>\n",
       "    <tr>\n",
       "      <th>18</th>\n",
       "      <td>Программирование на Python для начинающих</td>\n",
       "      <td>Программирование на Python для начинающих</td>\n",
       "      <td>Расположение в торговом зале: Уровень 1, зал №...</td>\n",
       "      <td>Цена: 789,00 руб.</td>\n",
       "      <td>789.0</td>\n",
       "    </tr>\n",
       "    <tr>\n",
       "      <th>3</th>\n",
       "      <td>Python.Создаем программы и игры</td>\n",
       "      <td>Д. М. Кольцов</td>\n",
       "      <td>Расположение в торговом зале: Уровень 1, зал №...</td>\n",
       "      <td>Цена: 679,00 руб.</td>\n",
       "      <td>679.0</td>\n",
       "    </tr>\n",
       "    <tr>\n",
       "      <th>11</th>\n",
       "      <td>Справочник PYTHON.  Кратко, быстро, под рукой</td>\n",
       "      <td>Справочник PYTHON.  Кратко, быстро, под рукой</td>\n",
       "      <td>Расположение в торговом зале: Уровень 1, зал №...</td>\n",
       "      <td>Цена: 499,00 руб.</td>\n",
       "      <td>499.0</td>\n",
       "    </tr>\n",
       "  </tbody>\n",
       "</table>\n",
       "</div>"
      ],
      "text/plain": [
       "                                                 book  \\\n",
       "14                              Изучаем Python, том 1   \n",
       "17                    Стандартная библиотека Python 3   \n",
       "4   Алгоритмы Data Science и их практическая реали...   \n",
       "0   Практическое введение в решение дифференциальн...   \n",
       "7                  Начинаем программировать на Python   \n",
       "1                 Python. Чистый код для продолжающих   \n",
       "13  Простой Python. Современный стиль программиров...   \n",
       "9                  Изучаем программирование на Python   \n",
       "19                      Большая книга проектов Python   \n",
       "6   Python для детей : самоучитель по программиров...   \n",
       "16  Чистый Python. Тонкости программирования для п...   \n",
       "5                             Программируем на Python   \n",
       "15                      Python 3   Самое необходимое    \n",
       "2   Python - это просто. Пошаговое руководство по ...   \n",
       "10                      Python для юных программистов   \n",
       "12                              Python: быстрый старт   \n",
       "8   Машинное обучение: карманный справочник. Кратк...   \n",
       "18          Программирование на Python для начинающих   \n",
       "3                     Python.Создаем программы и игры   \n",
       "11      Справочник PYTHON.  Кратко, быстро, под рукой   \n",
       "\n",
       "                                               author  \\\n",
       "14                              Изучаем Python, том 1   \n",
       "17                    Стандартная библиотека Python 3   \n",
       "4   А. В. Протодьяконов, П. А. Пылов, В. Е. Садовн...   \n",
       "0                                         Н. М. Ершов   \n",
       "7                                          Т. Гэддис    \n",
       "1                                         Э. Свейгарт   \n",
       "13  Простой Python. Современный стиль программиров...   \n",
       "9                                            П. Бэрри   \n",
       "19                      Большая книга проектов Python   \n",
       "6                                          Дж. Бриггс   \n",
       "16  Чистый Python. Тонкости программирования для п...   \n",
       "5                                           М. Доусон   \n",
       "15                      Python 3   Самое необходимое    \n",
       "2                                           Н. Нисчал   \n",
       "10                      Python для юных программистов   \n",
       "12                              Python: быстрый старт   \n",
       "8                                         М. Харрисон   \n",
       "18          Программирование на Python для начинающих   \n",
       "3                                      Д. М. Кольцов    \n",
       "11      Справочник PYTHON.  Кратко, быстро, под рукой   \n",
       "\n",
       "                                            placement               price  \\\n",
       "14  Расположение в торговом зале: Уровень 1, зал №...  Цена: 4459,00 руб.   \n",
       "17  Расположение в торговом зале: Уровень 1, зал №...  Цена: 4109,00 руб.   \n",
       "4   Расположение в торговом зале: Уровень 1, зал №...  Цена: 3459,00 руб.   \n",
       "0   Расположение в торговом зале: Уровень 1, зал №...  Цена: 2619,00 руб.   \n",
       "7   Расположение в торговом зале: Уровень 1, зал №...  Цена: 2619,00 руб.   \n",
       "1                                                None  Цена: 2239,00 руб.   \n",
       "13  Расположение в торговом зале: Уровень 1, зал №...  Цена: 2019,00 руб.   \n",
       "9   Расположение в торговом зале: Уровень 1, зал №...  Цена: 1859,00 руб.   \n",
       "19  Расположение в торговом зале: Уровень 1, зал №...  Цена: 1669,00 руб.   \n",
       "6   Расположение в торговом зале: Уровень 1, зал №...  Цена: 1569,00 руб.   \n",
       "16  Расположение в торговом зале: Уровень 1, зал №...  Цена: 1459,00 руб.   \n",
       "5   Расположение в торговом зале: Уровень 1, зал №...  Цена: 1359,00 руб.   \n",
       "15  Расположение в торговом зале: Уровень 1, зал №...  Цена: 1329,00 руб.   \n",
       "2   Расположение в торговом зале: Уровень 1, зал №...  Цена: 1189,00 руб.   \n",
       "10  Расположение в торговом зале: Уровень 1, зал №...  Цена: 1059,00 руб.   \n",
       "12  Расположение в торговом зале: Уровень 1, зал №...  Цена: 1009,00 руб.   \n",
       "8   Расположение в торговом зале: Уровень 1, зал №...   Цена: 939,00 руб.   \n",
       "18  Расположение в торговом зале: Уровень 1, зал №...   Цена: 789,00 руб.   \n",
       "3   Расположение в торговом зале: Уровень 1, зал №...   Цена: 679,00 руб.   \n",
       "11  Расположение в торговом зале: Уровень 1, зал №...   Цена: 499,00 руб.   \n",
       "\n",
       "    nprice  \n",
       "14  4459.0  \n",
       "17  4109.0  \n",
       "4   3459.0  \n",
       "0   2619.0  \n",
       "7   2619.0  \n",
       "1   2239.0  \n",
       "13  2019.0  \n",
       "9   1859.0  \n",
       "19  1669.0  \n",
       "6   1569.0  \n",
       "16  1459.0  \n",
       "5   1359.0  \n",
       "15  1329.0  \n",
       "2   1189.0  \n",
       "10  1059.0  \n",
       "12  1009.0  \n",
       "8    939.0  \n",
       "18   789.0  \n",
       "3    679.0  \n",
       "11   499.0  "
      ]
     },
     "execution_count": 93,
     "metadata": {},
     "output_type": "execute_result"
    }
   ],
   "source": [
    "df.sort_values('nprice', ascending=False)"
   ]
  },
  {
   "cell_type": "markdown",
   "metadata": {},
   "source": [
    "И сохраним всю таблицу в csv-файл:"
   ]
  },
  {
   "cell_type": "code",
   "execution_count": 94,
   "metadata": {},
   "outputs": [],
   "source": [
    "df.to_csv(\"books.csv\", index=False)"
   ]
  },
  {
   "cell_type": "code",
   "execution_count": 95,
   "metadata": {},
   "outputs": [],
   "source": [
    "df.to_excel(\"books.xlsx\", index=False)"
   ]
  },
  {
   "cell_type": "code",
   "execution_count": 96,
   "metadata": {},
   "outputs": [],
   "source": [
    "br.close()"
   ]
  },
  {
   "cell_type": "code",
   "execution_count": null,
   "metadata": {},
   "outputs": [],
   "source": []
  },
  {
   "cell_type": "code",
   "execution_count": null,
   "metadata": {
    "scrolled": true
   },
   "outputs": [],
   "source": [
    "from selenium import webdriver\n",
    "from webdriver_manager.chrome import ChromeDriverManager\n",
    "\n",
    "br = webdriver.Chrome(ChromeDriverManager().install())\n",
    "\n",
    "# открываем страницу в Chrome в автоматическом режиме\n",
    "br.get(\"http://www.biblio-globus.ru/\")"
   ]
  },
  {
   "cell_type": "code",
   "execution_count": null,
   "metadata": {},
   "outputs": [],
   "source": [
    "books = '//*[@id=\"TableMRight\"]/tbody/tr/td/table/tbody/tr[2]/td[2]/a'"
   ]
  },
  {
   "cell_type": "code",
   "execution_count": null,
   "metadata": {},
   "outputs": [],
   "source": [
    "books_el = br.find_element_by_xpath(books)"
   ]
  },
  {
   "cell_type": "code",
   "execution_count": null,
   "metadata": {},
   "outputs": [],
   "source": [
    "books_el.click()"
   ]
  },
  {
   "cell_type": "code",
   "execution_count": null,
   "metadata": {},
   "outputs": [],
   "source": [
    "det_css = 'body > table > tbody > tr:nth-child(2) > td.column_right > div > div.card-columns > div:nth-child(1) > div > ul > li > ul > li:nth-child(2) > ul > li:nth-child(2) > a'"
   ]
  },
  {
   "cell_type": "code",
   "execution_count": null,
   "metadata": {},
   "outputs": [],
   "source": [
    "det_el = br.find_element_by_css_selector(det_css)"
   ]
  },
  {
   "cell_type": "code",
   "execution_count": null,
   "metadata": {},
   "outputs": [],
   "source": [
    "det_el.click()"
   ]
  },
  {
   "cell_type": "code",
   "execution_count": null,
   "metadata": {},
   "outputs": [],
   "source": [
    "page1 = BeautifulSoup(br.page_source)"
   ]
  },
  {
   "cell_type": "code",
   "execution_count": null,
   "metadata": {},
   "outputs": [],
   "source": [
    "books_p1 = page1.find_all('div', {'class': 'details_1'})"
   ]
  },
  {
   "cell_type": "code",
   "execution_count": null,
   "metadata": {},
   "outputs": [],
   "source": [
    "len(books_p1)"
   ]
  },
  {
   "cell_type": "code",
   "execution_count": null,
   "metadata": {},
   "outputs": [],
   "source": [
    "books_p1[0]"
   ]
  },
  {
   "cell_type": "code",
   "execution_count": null,
   "metadata": {},
   "outputs": [],
   "source": [
    "books_p1[0].div is not None"
   ]
  },
  {
   "cell_type": "code",
   "execution_count": null,
   "metadata": {},
   "outputs": [],
   "source": [
    "books_p1[0].find('div', {'class': 'author'}).text"
   ]
  },
  {
   "cell_type": "code",
   "execution_count": null,
   "metadata": {},
   "outputs": [],
   "source": [
    "books_p1[0].a.text"
   ]
  },
  {
   "cell_type": "code",
   "execution_count": null,
   "metadata": {},
   "outputs": [],
   "source": [
    "books_p1[0].find('div', {'class': 'placement'}).text"
   ]
  },
  {
   "cell_type": "code",
   "execution_count": null,
   "metadata": {},
   "outputs": [],
   "source": [
    "books_p1[0].find('div', {'class': 'title_data price'}).text"
   ]
  },
  {
   "cell_type": "code",
   "execution_count": null,
   "metadata": {},
   "outputs": [],
   "source": [
    "books_p1[0].find('div', {'class': 'title_data pricee'}) is None"
   ]
  },
  {
   "cell_type": "code",
   "execution_count": null,
   "metadata": {},
   "outputs": [],
   "source": [
    "titles = []\n",
    "authors = []\n",
    "places = []\n",
    "prices = []\n",
    "for book in books_p1:\n",
    "    if book.find('div', {'class': 'author'}) is not None:\n",
    "        authors.append(book.find('div', {'class': 'author'}).text)\n",
    "    else:\n",
    "        authors.append('')\n",
    "        \n",
    "    if book.a is not None:\n",
    "        titles.append(book.a.text)\n",
    "    else:\n",
    "        titles.append('')\n",
    "        \n",
    "    if book.find('div', {'class': 'placement'}) is not None:\n",
    "        places.append(book.find('div', {'class': 'placement'}).text)\n",
    "    else:\n",
    "        places.append('')\n",
    "        \n",
    "    if book.find('div', {'class': 'title_data price'}) is not None:\n",
    "        prices.append(book.find('div', {'class': 'title_data price'}).text)\n",
    "    else:\n",
    "        prices.append('')"
   ]
  },
  {
   "cell_type": "code",
   "execution_count": null,
   "metadata": {
    "scrolled": false
   },
   "outputs": [],
   "source": [
    "titles"
   ]
  },
  {
   "cell_type": "code",
   "execution_count": null,
   "metadata": {},
   "outputs": [],
   "source": [
    "def get_page_info(books_p):\n",
    "    titles = []\n",
    "    authors = []\n",
    "    places = []\n",
    "    prices = []\n",
    "    for book in books_p:\n",
    "        if book.div is not None:\n",
    "            authors.append(book.div.text)\n",
    "        else:\n",
    "            authors.append('')\n",
    "\n",
    "        if book.a is not None:\n",
    "            titles.append(book.a.text)\n",
    "        else:\n",
    "            titles.append('')\n",
    "\n",
    "        if book.find('div', {'class': 'placement'}) is not None:\n",
    "            places.append(book.find('div', {'class': 'placement'}).text)\n",
    "        else:\n",
    "            places.append('')\n",
    "\n",
    "        if book.find('div', {'class': 'title_data price'}) is not None:\n",
    "            prices.append(book.find('div', {'class': 'title_data price'}).text)\n",
    "        else:\n",
    "            prices.append('')\n",
    "            \n",
    "    return titles, authors, places, prices"
   ]
  },
  {
   "cell_type": "code",
   "execution_count": null,
   "metadata": {},
   "outputs": [],
   "source": [
    "next_page = '//*[@id=\"main_wrapper\"]/ul/li[4]/a'"
   ]
  },
  {
   "cell_type": "code",
   "execution_count": null,
   "metadata": {},
   "outputs": [],
   "source": [
    "page2 = br.find_element_by_xpath(next_page)"
   ]
  },
  {
   "cell_type": "code",
   "execution_count": null,
   "metadata": {},
   "outputs": [],
   "source": [
    "page2.click()"
   ]
  },
  {
   "cell_type": "code",
   "execution_count": null,
   "metadata": {},
   "outputs": [],
   "source": [
    "# next_page_2 = '//*[@id=\"main_wrapper\"]/ul/li[8]/a'\n",
    "# next_page_2 = br.find_element_by_xpath(next_page_2)\n",
    "# next_page_2.click()"
   ]
  },
  {
   "cell_type": "code",
   "execution_count": null,
   "metadata": {},
   "outputs": [],
   "source": [
    "from time import sleep"
   ]
  },
  {
   "cell_type": "code",
   "execution_count": null,
   "metadata": {},
   "outputs": [],
   "source": [
    "np_xpath = '//*[@id=\"main_wrapper\"]/ul/li[8]/a/span[1]'"
   ]
  },
  {
   "cell_type": "code",
   "execution_count": null,
   "metadata": {},
   "outputs": [],
   "source": [
    "for _ in range(3):\n",
    "    try:\n",
    "        page = BeautifulSoup(br.page_source)\n",
    "        books = page.find_all('div', {'class': 'details_1'})\n",
    "        t, a, pl, pr = get_page_info(books)\n",
    "        titles.extend(t)\n",
    "        authors.extend(a)\n",
    "        places.extend(pl)\n",
    "        prices.extend(pr)\n",
    "        np = br.find_element_by_xpath(np_xpath)\n",
    "        sleep(3)\n",
    "        np.click()\n",
    "    except:\n",
    "        print('all pages parsed')\n",
    "        break"
   ]
  },
  {
   "cell_type": "code",
   "execution_count": null,
   "metadata": {},
   "outputs": [],
   "source": [
    "df = pd.DataFrame({'book': titles, 'author': authors,\n",
    "                   'placement': places, 'price': prices})"
   ]
  },
  {
   "cell_type": "code",
   "execution_count": null,
   "metadata": {},
   "outputs": [],
   "source": [
    "df.head()"
   ]
  },
  {
   "cell_type": "code",
   "execution_count": null,
   "metadata": {},
   "outputs": [],
   "source": [
    "df.shape"
   ]
  },
  {
   "cell_type": "code",
   "execution_count": null,
   "metadata": {},
   "outputs": [],
   "source": [
    "br.close()"
   ]
  },
  {
   "cell_type": "code",
   "execution_count": null,
   "metadata": {},
   "outputs": [],
   "source": []
  }
 ],
 "metadata": {
  "kernelspec": {
   "display_name": "Python 3",
   "language": "python",
   "name": "python3"
  },
  "language_info": {
   "codemirror_mode": {
    "name": "ipython",
    "version": 3
   },
   "file_extension": ".py",
   "mimetype": "text/x-python",
   "name": "python",
   "nbconvert_exporter": "python",
   "pygments_lexer": "ipython3",
   "version": "3.8.5"
  },
  "toc": {
   "base_numbering": 1,
   "nav_menu": {},
   "number_sections": true,
   "sideBar": true,
   "skip_h1_title": false,
   "title_cell": "Table of Contents",
   "title_sidebar": "Contents",
   "toc_cell": false,
   "toc_position": {},
   "toc_section_display": true,
   "toc_window_display": false
  },
  "varInspector": {
   "cols": {
    "lenName": 16,
    "lenType": 16,
    "lenVar": 40
   },
   "kernels_config": {
    "python": {
     "delete_cmd_postfix": "",
     "delete_cmd_prefix": "del ",
     "library": "var_list.py",
     "varRefreshCmd": "print(var_dic_list())"
    },
    "r": {
     "delete_cmd_postfix": ") ",
     "delete_cmd_prefix": "rm(",
     "library": "var_list.r",
     "varRefreshCmd": "cat(var_dic_list()) "
    }
   },
   "types_to_exclude": [
    "module",
    "function",
    "builtin_function_or_method",
    "instance",
    "_Feature"
   ],
   "window_display": false
  }
 },
 "nbformat": 4,
 "nbformat_minor": 2
}
