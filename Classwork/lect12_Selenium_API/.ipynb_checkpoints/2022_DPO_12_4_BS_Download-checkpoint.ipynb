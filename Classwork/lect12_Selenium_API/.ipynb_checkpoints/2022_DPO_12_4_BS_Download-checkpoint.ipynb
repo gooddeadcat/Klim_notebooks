{
 "cells": [
  {
   "cell_type": "markdown",
   "metadata": {},
   "source": [
    "# Python для анализа данных\n",
    "\n",
    "## Веб-скрэйпинг: скачивание файлов\n",
    "\n",
    "*На основе блокнота Татьяны Рогович, НИУ ВШЭ*\n",
    "*Автор: Ян Пиле, НИУ ВШЭ*"
   ]
  },
  {
   "cell_type": "markdown",
   "metadata": {},
   "source": [
    "## Скачивание файлов"
   ]
  },
  {
   "cell_type": "markdown",
   "metadata": {},
   "source": [
    "Кстати, еще одно применение скрэйпинга, о котором мы пока не поговорили - это автоматизированное скачивание файлов. Например, вы хотите скачать научные статьи по определенному ключевому слову или прайс-листы поставщика, которые он загружает на сайт в эскеле.\n",
    "\n",
    "Давайте посмотрим, как скачивать файлы на примере pdf и заодно попробуем походить по ссылкам. Кстати, этот процесс еще часто называется spidering или crawling, потому что ваш скрипт как паучок ползет по ссылкам (отсюда и название первых поисковых роботов - spider).\n",
    "\n",
    "Давайте попробуем сохранить англоязычные summary дисертаций, защищенных в 2019 году\n",
    "\n",
    "Мы уже отредактировали фильтры и ссылка их запомнила. Позже сегодня посмотрим как можно самим заполнять такие поля с помощью Selenium.\n",
    "\n",
    "https://www.hse.ru/sci/diss/?author=&chief=&year=2019&type=1&degree_type=&council=&spec=&fulltext=yes"
   ]
  },
  {
   "cell_type": "code",
   "execution_count": 2,
   "metadata": {},
   "outputs": [
    {
     "name": "stderr",
     "output_type": "stream",
     "text": [
      "<ipython-input-2-f65fc303a615>:12: DeprecationWarning: executable_path has been deprecated, please pass in a Service object\n",
      "  driver = webdriver.Chrome(ChromeDriverManager().install())\n"
     ]
    }
   ],
   "source": [
    "import requests \n",
    "from bs4 import BeautifulSoup\n",
    "from selenium import webdriver\n",
    "from selenium import webdriver\n",
    "from selenium.webdriver.common.keys import Keys\n",
    "from selenium.webdriver.support.ui import Select\n",
    "from time import sleep\n",
    "import pandas as pd\n",
    "from selenium import webdriver\n",
    "from webdriver_manager.chrome import ChromeDriverManager\n",
    "\n",
    "driver = webdriver.Chrome(ChromeDriverManager().install())\n",
    "\n",
    "driver.implicitly_wait(2)"
   ]
  },
  {
   "cell_type": "code",
   "execution_count": 3,
   "metadata": {},
   "outputs": [],
   "source": [
    "link = 'https://www.hse.ru/sci/diss/?fulltext=yes'\n",
    "driver.get(link)"
   ]
  },
  {
   "cell_type": "code",
   "execution_count": 4,
   "metadata": {},
   "outputs": [],
   "source": [
    "soup = BeautifulSoup(driver.page_source)\n",
    "# soup.find_all('a')"
   ]
  },
  {
   "cell_type": "code",
   "execution_count": 38,
   "metadata": {},
   "outputs": [],
   "source": [
    "# soup.find_all('a', {'class':'link'})"
   ]
  },
  {
   "cell_type": "markdown",
   "metadata": {},
   "source": [
    "Давайте для начала поэкспериментируем с первым кандидатом."
   ]
  },
  {
   "cell_type": "code",
   "execution_count": 5,
   "metadata": {},
   "outputs": [
    {
     "name": "stdout",
     "output_type": "stream",
     "text": [
      "199\n"
     ]
    },
    {
     "data": {
      "text/plain": [
       "[<a class=\"link\" href=\"/sci/diss/783799266\">Форсайт для стратегического прогнозирования и планирования инновационного и научно-технологического развития на национальном, отраслевом и корпоративном уровнях</a>,\n",
       " <a class=\"link\" href=\"/org/persons/188939\" target=\"_blank\">Чулок Александр Александрович</a>,\n",
       " <a class=\"link\" href=\"/sci/diss/?keyword=%D0%B3%D0%BB%D0%BE%D0%B1%D0%B0%D0%BB%D1%8C%D0%BD%D1%8B%D0%B5%20%D1%82%D1%80%D0%B5%D0%BD%D0%B4%D1%8B\">глобальные тренды</a>,\n",
       " <a class=\"link\" href=\"/sci/diss/?keyword=%D0%B3%D0%BE%D1%81%D1%83%D0%B4%D0%B0%D1%80%D1%81%D1%82%D0%B2%D0%B5%D0%BD%D0%BD%D0%BE%D0%B5%20%D1%83%D0%BF%D1%80%D0%B0%D0%B2%D0%BB%D0%B5%D0%BD%D0%B8%D0%B5\">государственное управление</a>,\n",
       " <a class=\"link\" href=\"/sci/diss/?keyword=%D0%B8%D0%BD%D0%BD%D0%BE%D0%B2%D0%B0%D1%86%D0%B8%D0%B8\">инновации</a>,\n",
       " <a class=\"link\" href=\"/sci/diss/?keyword=%D0%BA%D0%BE%D1%80%D0%BF%D0%BE%D1%80%D0%B0%D1%82%D0%B8%D0%B2%D0%BD%D1%8B%D0%B9%20%D1%84%D0%BE%D1%80%D1%81%D0%B0%D0%B9%D1%82\">корпоративный форсайт</a>,\n",
       " <a class=\"link\" href=\"/sci/diss/?keyword=%D0%BD%D0%B0%D1%86%D0%B8%D0%BE%D0%BD%D0%B0%D0%BB%D1%8C%D0%BD%D1%8B%D0%B9%20%D1%84%D0%BE%D1%80%D1%81%D0%B0%D0%B9%D1%82\">национальный форсайт</a>,\n",
       " <a class=\"link\" href=\"/sci/diss/?keyword=%D0%BE%D1%82%D1%80%D0%B0%D1%81%D0%BB%D0%B5%D0%B2%D0%BE%D0%B9%20%D1%84%D0%BE%D1%80%D1%81%D0%B0%D0%B9%D1%82\">отраслевой форсайт</a>,\n",
       " <a class=\"link\" href=\"/sci/diss/?keyword=%D0%BF%D0%BB%D0%B0%D0%BD%D0%B8%D1%80%D0%BE%D0%B2%D0%B0%D0%BD%D0%B8%D0%B5\">планирование</a>,\n",
       " <a class=\"link\" href=\"/sci/diss/?keyword=%D0%BF%D1%80%D0%BE%D0%B3%D0%BD%D0%BE%D0%B7%D0%B8%D1%80%D0%BE%D0%B2%D0%B0%D0%BD%D0%B8%D0%B5\">прогнозирование</a>]"
      ]
     },
     "execution_count": 5,
     "metadata": {},
     "output_type": "execute_result"
    }
   ],
   "source": [
    "print(len(soup.find_all('a')))\n",
    "soup.find_all('a', {'class':'link'})[:10]"
   ]
  },
  {
   "cell_type": "markdown",
   "metadata": {},
   "source": [
    "Видим, что ссылок очень много, а нам нужны только те, которые ведут на summary. Можно поискать их по тексту ссылки."
   ]
  },
  {
   "cell_type": "code",
   "execution_count": 8,
   "metadata": {},
   "outputs": [
    {
     "name": "stdout",
     "output_type": "stream",
     "text": [
      "http://www.hse.ru/data/2022/10/21/1730269488/Резюме_АА Чулок_eng_21-10-2022.pdf\n",
      "http://www.hse.ru/data/2022/09/15/1873608165/1Резюме_Жирун ENG 11.08.2022.pdf\n",
      "http://www.hse.ru/data/2022/10/21/1735581062/Summary_Kazartsev.pdf\n",
      "http://www.hse.ru/data/2022/10/20/1732572695/Осадчий_резюме_ENG.pdf\n",
      "http://www.hse.ru/data/2022/10/18/1734048505/Мифтахутдинов_резюме_ENG.pdf\n",
      "http://www.hse.ru/data/2022/10/14/1731127090/Сметанин_резюме_ENG.pdf\n",
      "http://www.hse.ru/data/2022/10/22/1686225294/Summary Mospan A.N. 27.09.pdf\n",
      "http://www.hse.ru/data/2022/08/31/1695860089/Мкртчян_summary.pdf\n",
      "http://www.hse.ru/data/2022/08/19/1644913549/ИТОГ_БАЛАШОВ_SUMMARY.pdf\n",
      "http://www.hse.ru/data/2022/10/12/1645724092/Summary Семион.pdf\n"
     ]
    }
   ],
   "source": [
    "for link in soup.find_all('a', text='Summary'):\n",
    "    print(link.get('href'))"
   ]
  },
  {
   "cell_type": "markdown",
   "metadata": {},
   "source": [
    "И соберем ссылки в список."
   ]
  },
  {
   "cell_type": "code",
   "execution_count": 9,
   "metadata": {},
   "outputs": [
    {
     "name": "stdout",
     "output_type": "stream",
     "text": [
      "<a class=\"link\" data-hse-file=\"PDF\" href=\"http://www.hse.ru/data/2022/10/21/1730269488/Резюме_АА Чулок_eng_21-10-2022.pdf\">Summary</a>\n",
      "<a class=\"link\" data-hse-file=\"PDF\" href=\"http://www.hse.ru/data/2022/09/15/1873608165/1Резюме_Жирун ENG 11.08.2022.pdf\">Summary</a>\n",
      "<a class=\"link\" data-hse-file=\"PDF\" href=\"http://www.hse.ru/data/2022/10/21/1735581062/Summary_Kazartsev.pdf\">Summary</a>\n",
      "<a class=\"link\" data-hse-file=\"PDF\" href=\"http://www.hse.ru/data/2022/10/20/1732572695/Осадчий_резюме_ENG.pdf\">Summary</a>\n",
      "<a class=\"link\" data-hse-file=\"PDF\" href=\"http://www.hse.ru/data/2022/10/18/1734048505/Мифтахутдинов_резюме_ENG.pdf\">Summary</a>\n",
      "<a class=\"link\" data-hse-file=\"PDF\" href=\"http://www.hse.ru/data/2022/10/14/1731127090/Сметанин_резюме_ENG.pdf\">Summary</a>\n",
      "<a class=\"link\" data-hse-file=\"PDF\" href=\"http://www.hse.ru/data/2022/10/22/1686225294/Summary Mospan A.N. 27.09.pdf\">Summary</a>\n",
      "<a class=\"link\" data-hse-file=\"PDF\" href=\"http://www.hse.ru/data/2022/08/31/1695860089/Мкртчян_summary.pdf\">Summary</a>\n",
      "<a class=\"link\" data-hse-file=\"PDF\" href=\"http://www.hse.ru/data/2022/08/19/1644913549/ИТОГ_БАЛАШОВ_SUMMARY.pdf\">Summary</a>\n",
      "<a class=\"link\" data-hse-file=\"PDF\" href=\"http://www.hse.ru/data/2022/10/12/1645724092/Summary Семион.pdf\">Summary</a>\n",
      "['http://www.hse.ru/data/2022/10/21/1730269488/Резюме_АА Чулок_eng_21-10-2022.pdf', 'http://www.hse.ru/data/2022/09/15/1873608165/1Резюме_Жирун ENG 11.08.2022.pdf', 'http://www.hse.ru/data/2022/10/21/1735581062/Summary_Kazartsev.pdf', 'http://www.hse.ru/data/2022/10/20/1732572695/Осадчий_резюме_ENG.pdf', 'http://www.hse.ru/data/2022/10/18/1734048505/Мифтахутдинов_резюме_ENG.pdf', 'http://www.hse.ru/data/2022/10/14/1731127090/Сметанин_резюме_ENG.pdf', 'http://www.hse.ru/data/2022/10/22/1686225294/Summary Mospan A.N. 27.09.pdf', 'http://www.hse.ru/data/2022/08/31/1695860089/Мкртчян_summary.pdf', 'http://www.hse.ru/data/2022/08/19/1644913549/ИТОГ_БАЛАШОВ_SUMMARY.pdf', 'http://www.hse.ru/data/2022/10/12/1645724092/Summary Семион.pdf']\n"
     ]
    }
   ],
   "source": [
    "links = []\n",
    "for link in soup.find_all('a', text='Summary'):\n",
    "    print(link)\n",
    "    links.append(link.get('href'))\n",
    "    \n",
    "print(links)"
   ]
  },
  {
   "cell_type": "markdown",
   "metadata": {},
   "source": [
    "Отлично. Теперь нужно придумать, откуда взять название для каждого файла. Пусть это будут фамилии авторов, давайте доберемся до них. Такую задачу мы пока не решали: будем искать тэг по тексту, а потом искать его родителя (потому что ни ячейку таблицы с именем автора, ни саму таблицу не получится уникально отсечь)."
   ]
  },
  {
   "cell_type": "code",
   "execution_count": 10,
   "metadata": {},
   "outputs": [
    {
     "name": "stdout",
     "output_type": "stream",
     "text": [
      "глобальные тренды, \n",
      "дискурс, \n",
      "вероятностные модели размера, \n",
      " covariance matrix, \n",
      "Мифтахутдинов Зульфат Шайхинурович\n",
      "Тутубалина Елена Викторовна\n",
      "машинное обучение, \n",
      "автоматическая классификация текстов, \n",
      "личностные ресурсы, \n",
      "Мкртчян Арам Арсенович\n",
      "Гладуш Юрий Геннадьевич\n",
      "аэрозольный метод, \n",
      "«негативные» и «позитивные» права человека, \n",
      "дифференциальная игра, \n"
     ]
    }
   ],
   "source": [
    "for author in soup.find_all('div', {'class':'p1 v'}):\n",
    "    try:\n",
    "        print(author.span.text)\n",
    "    except:\n",
    "        pass\n"
   ]
  },
  {
   "cell_type": "markdown",
   "metadata": {},
   "source": [
    "Достанем фамилии."
   ]
  },
  {
   "cell_type": "code",
   "execution_count": 19,
   "metadata": {},
   "outputs": [
    {
     "name": "stdout",
     "output_type": "stream",
     "text": [
      "Чулок Александр Александрович\n",
      "Совет по государственному и муниципальному управлению\n",
      "глобальные тренды, государственное управление, инновации, корпоративный форсайт, национальный форсайт, отраслевой форсайт, планирование, прогнозирование, развитие науки и технологий, система прогнозирования, теория и практика стратегического планирования, форсайт, экосистемы\n",
      "Жирун Ирина Васильевна\n",
      "Малинова Ольга Юрьевна\n",
      "Совет по политологии\n",
      "дискурс, НАТО, национальная идентичность, политика идентичности, политические элиты, Украина\n",
      "Казарцев Евгений Вячеславович\n",
      "Совет по филологии\n",
      "вероятностные модели размера, континентальная силлабо-тоника, метрическая версификация, нидерландский, немецкий и русский стих, поэтические традиции, просодия стиха, Сравнительное стиховедение, ямб\n",
      "Осадчий Алексей Евгеньевич\n",
      "Совет по компьютерным наукам \n",
      " covariance matrix,  inverse problem, adaptive beamforming, brain-computer interface, cortical traveling waves, Epileptogenic zone, functional connectivity, instantaneous neurofeedback, interictal activity, interpretable models, magnetoencephalography, neural activity decoding, neural activity propagation, neurofeedback efficiency, real-time phase tracking, speech prosthesis, Synchronous sources\n",
      "Мифтахутдинов Зульфат Шайхинурович\n",
      "Тутубалина Елена Викторовна\n",
      "Совет по компьютерным наукам \n",
      "машинное обучение, нейронные сети, нормализация медицинских концептов, обучение метрике, связывание именованных сущностей\n",
      "Сметанин Сергей Игоревич\n",
      "Комаров Михаил Михайлович\n",
      "Совет по компьютерным наукам \n",
      "автоматическая классификация текстов, автоматическая обработка текстов, компьютерная лингвистика, машинное обучение, ошибочная классификация, социальные сети\n",
      "Моспан Анастасия Никитична\n",
      "Леонтьев Дмитрий Алексеевич\n",
      "Совет по психологии\n",
      "личностные ресурсы, мировоззренческие убеждения в свободе/предопределенности/ непредсказуемости, неопределенность, психологические реакции, совладание с ситуациями неопределенности\n",
      "Мкртчян Арам Арсенович\n",
      "Гладуш Юрий Геннадьевич, Насибулин Альберт Галийевич\n",
      "Совет по физике\n",
      "аэрозольный метод, волоконные лазеры, синхронизация мод, углеродные нанотрубки\n",
      "Балашов Дмитрий Викторович\n",
      "Белькович Родион Юрьевич\n",
      "Совет по праву\n",
      "«негативные» и «позитивные» права человека, дистрибутивная справедливость, либертарианские теории справедливости, подход возможностей, проблема глобальной справедливости, современные теории справедливости, эгалитаристские теории справедливости, эффективный альтруизм\n",
      "Семион Александр Александрович\n",
      "Афанасьев Валерий Николаевич\n",
      "Совет по инженерным наукам и прикладной математике\n",
      "дифференциальная игра, задача оптимального управления, нелинейное управление, уравнение Риккати\n",
      "['Чулок', 'Совет', 'глобальные', 'Жирун', 'Малинова', 'Совет', 'дискурс,', 'Казарцев', 'Совет', 'вероятностные', 'Осадчий', 'Совет', 'covariance', 'Мифтахутдинов', 'Тутубалина', 'Совет', 'машинное', 'Сметанин', 'Комаров', 'Совет', 'автоматическая', 'Моспан', 'Леонтьев', 'Совет', 'личностные', 'Мкртчян', 'Гладуш', 'Совет', 'аэрозольный', 'Балашов', 'Белькович', 'Совет', '«негативные»', 'Семион', 'Афанасьев', 'Совет', 'дифференциальная']\n"
     ]
    }
   ],
   "source": [
    "authors = []\n",
    "for author in soup.find_all('div', {'class': 'p1 v'}):\n",
    "    print(author.text)\n",
    "    #authors.append(author.parent()[1].get_text().split()[0])\n",
    "    \n",
    "print(authors)"
   ]
  },
  {
   "cell_type": "markdown",
   "metadata": {},
   "source": [
    "Проверим, что списки действительно одинаковой длины."
   ]
  },
  {
   "cell_type": "code",
   "execution_count": 20,
   "metadata": {},
   "outputs": [
    {
     "data": {
      "text/plain": [
       "False"
      ]
     },
     "execution_count": 20,
     "metadata": {},
     "output_type": "execute_result"
    }
   ],
   "source": [
    "len(links) == len(authors)"
   ]
  },
  {
   "cell_type": "code",
   "execution_count": 21,
   "metadata": {},
   "outputs": [
    {
     "name": "stdout",
     "output_type": "stream",
     "text": [
      "['http://www.hse.ru/data/2022/10/21/1730269488/Резюме_АА Чулок_eng_21-10-2022.pdf', 'http://www.hse.ru/data/2022/09/15/1873608165/1Резюме_Жирун ENG 11.08.2022.pdf', 'http://www.hse.ru/data/2022/10/21/1735581062/Summary_Kazartsev.pdf', 'http://www.hse.ru/data/2022/10/20/1732572695/Осадчий_резюме_ENG.pdf', 'http://www.hse.ru/data/2022/10/18/1734048505/Мифтахутдинов_резюме_ENG.pdf', 'http://www.hse.ru/data/2022/10/14/1731127090/Сметанин_резюме_ENG.pdf', 'http://www.hse.ru/data/2022/10/22/1686225294/Summary Mospan A.N. 27.09.pdf', 'http://www.hse.ru/data/2022/08/31/1695860089/Мкртчян_summary.pdf', 'http://www.hse.ru/data/2022/08/19/1644913549/ИТОГ_БАЛАШОВ_SUMMARY.pdf', 'http://www.hse.ru/data/2022/10/12/1645724092/Summary Семион.pdf']\n"
     ]
    }
   ],
   "source": [
    "print(links)"
   ]
  },
  {
   "cell_type": "markdown",
   "metadata": {},
   "source": [
    "Теперь попробуем сохранить файл. У нас все файлы pdf, будем переименовывать их фамилиями автора. Кстати, если файлы разного формата, то расширение можно узнать через атрибут headers"
   ]
  },
  {
   "cell_type": "code",
   "execution_count": 22,
   "metadata": {},
   "outputs": [
    {
     "data": {
      "text/plain": [
       "'application/pdf'"
      ]
     },
     "execution_count": 22,
     "metadata": {},
     "output_type": "execute_result"
    }
   ],
   "source": [
    "requests.get(links[0]).headers['content-type']"
   ]
  },
  {
   "cell_type": "code",
   "execution_count": 23,
   "metadata": {},
   "outputs": [],
   "source": [
    "# потоковое чтение файла, потому pdf может быть большим и не уместиться в памяти\n",
    "summary = requests.get(links[0], stream=True) \n",
    "\n",
    "# на всякий случай делаем проверку, иначе получим битый файл\n",
    "if summary.headers['content-type'] == 'application/pdf': \n",
    "\n",
    "    # wb - запись байтовой информации\n",
    "    fh = open('test.pdf', 'wb') \n",
    "    \n",
    "    # считываем туда \"содержание\" файла по ссылке\n",
    "    fh.write(summary.content) \n",
    "    fh.close()"
   ]
  },
  {
   "cell_type": "code",
   "execution_count": 24,
   "metadata": {},
   "outputs": [
    {
     "data": {
      "text/plain": [
       "'C:\\\\Users\\\\Student\\\\Desktop\\\\GitHub\\\\Klim_notebooks\\\\Classwork\\\\lect12_Selenium_API'"
      ]
     },
     "execution_count": 24,
     "metadata": {},
     "output_type": "execute_result"
    }
   ],
   "source": [
    "import os\n",
    "os.getcwd()"
   ]
  },
  {
   "cell_type": "markdown",
   "metadata": {},
   "source": [
    "Давайте теперь еще добавим имя файла по фамилии."
   ]
  },
  {
   "cell_type": "code",
   "execution_count": 25,
   "metadata": {},
   "outputs": [],
   "source": [
    "# потоковое чтение файла, потому pdf может быть большим и не уместиться в памяти\n",
    "summary = requests.get(links[0], stream=True) \n",
    "\n",
    "# на всякий случай делаем проверку, иначе получим битый файл\n",
    "if summary.headers['content-type'] == 'application/pdf': \n",
    "\n",
    "    # wb - запись байтовой информации\n",
    "    fh = open(f'{authors[0]}.pdf', 'wb') \n",
    "    \n",
    "    # считываем туда \"содержание\" файла по ссылке\n",
    "    fh.write(summary.content) \n",
    "    fh.close()"
   ]
  },
  {
   "cell_type": "markdown",
   "metadata": {},
   "source": [
    "Давайте сохраним обработку файла в функцию и соберем уже все в цикл."
   ]
  },
  {
   "cell_type": "code",
   "execution_count": 26,
   "metadata": {},
   "outputs": [],
   "source": [
    "def get_pdf(idx):\n",
    "    summary = requests.get(links[idx], stream=True) # потоковое чтение файла, потому pdf может быть большим и не уместиться в памяти\n",
    "    if summary.headers['content-type'] == 'application/pdf': # на всякий случай делаем проверку, иначе получим битый файл\n",
    "        s = re.findall(r'\\w+',links[idx].split('/')[-1])[0]\n",
    "        fh = open(f'{s}.pdf', 'wb') # wb - запись байтовой информации\n",
    "        fh.write(summary.content) # считываем туда \"содержание\" файла по ссылке\n",
    "        fh.close()"
   ]
  },
  {
   "cell_type": "code",
   "execution_count": null,
   "metadata": {},
   "outputs": [],
   "source": [
    "def get_pdf(idx):\n",
    "    summary = requests.get(links[idx], stream=True) # потоковое чтение файла, потому pdf может быть большим и не уместиться в памяти\n",
    "    if summary.headers['content-type'] == 'application/pdf': # на всякий случай делаем проверку, иначе получим битый файл\n",
    "        fh = open(f'{authors[idx]}.pdf', 'wb') # wb - запись байтовой информации\n",
    "        fh.write(summary.content) # считываем туда \"содержание\" файла по ссылке\n",
    "        fh.close()"
   ]
  },
  {
   "cell_type": "code",
   "execution_count": 27,
   "metadata": {},
   "outputs": [],
   "source": [
    "import re\n",
    "s = re.findall(r'\\w+',links[0].split('/')[-1])[0]"
   ]
  },
  {
   "cell_type": "code",
   "execution_count": 28,
   "metadata": {},
   "outputs": [
    {
     "data": {
      "text/plain": [
       "'Резюме_АА.pdf'"
      ]
     },
     "execution_count": 28,
     "metadata": {},
     "output_type": "execute_result"
    }
   ],
   "source": [
    "f'{s}.pdf'"
   ]
  },
  {
   "cell_type": "code",
   "execution_count": 29,
   "metadata": {},
   "outputs": [],
   "source": [
    "link = 'https://www.hse.ru/sci/diss/?fulltext=yes'\n",
    "driver.get(link)\n",
    "\n",
    "soup = BeautifulSoup(driver.page_source)\n",
    "\n",
    "links = []\n",
    "for link in soup.find_all('a', text='Summary'):\n",
    "    links.append(link.get('href'))\n",
    "\n",
    "authors = []\n",
    "for author in soup.find_all('td', text='Соискатель:'):\n",
    "    authors.append(author.parent()[1].get_text().split()[0])"
   ]
  },
  {
   "cell_type": "code",
   "execution_count": 30,
   "metadata": {},
   "outputs": [
    {
     "data": {
      "text/plain": [
       "['http://www.hse.ru/data/2022/10/21/1730269488/Резюме_АА Чулок_eng_21-10-2022.pdf',\n",
       " 'http://www.hse.ru/data/2022/09/15/1873608165/1Резюме_Жирун ENG 11.08.2022.pdf',\n",
       " 'http://www.hse.ru/data/2022/10/21/1735581062/Summary_Kazartsev.pdf',\n",
       " 'http://www.hse.ru/data/2022/10/20/1732572695/Осадчий_резюме_ENG.pdf',\n",
       " 'http://www.hse.ru/data/2022/10/18/1734048505/Мифтахутдинов_резюме_ENG.pdf',\n",
       " 'http://www.hse.ru/data/2022/10/14/1731127090/Сметанин_резюме_ENG.pdf',\n",
       " 'http://www.hse.ru/data/2022/10/22/1686225294/Summary Mospan A.N. 27.09.pdf',\n",
       " 'http://www.hse.ru/data/2022/08/31/1695860089/Мкртчян_summary.pdf',\n",
       " 'http://www.hse.ru/data/2022/08/19/1644913549/ИТОГ_БАЛАШОВ_SUMMARY.pdf',\n",
       " 'http://www.hse.ru/data/2022/10/12/1645724092/Summary Семион.pdf']"
      ]
     },
     "execution_count": 30,
     "metadata": {},
     "output_type": "execute_result"
    }
   ],
   "source": [
    "links\n"
   ]
  },
  {
   "cell_type": "code",
   "execution_count": 31,
   "metadata": {},
   "outputs": [],
   "source": [
    "for idx in range(len(links)):\n",
    "    get_pdf(idx)"
   ]
  },
  {
   "cell_type": "markdown",
   "metadata": {},
   "source": [
    "Готово!"
   ]
  },
  {
   "cell_type": "code",
   "execution_count": 21,
   "metadata": {},
   "outputs": [],
   "source": [
    "driver.close()"
   ]
  }
 ],
 "metadata": {
  "kernelspec": {
   "display_name": "Python 3",
   "language": "python",
   "name": "python3"
  },
  "language_info": {
   "codemirror_mode": {
    "name": "ipython",
    "version": 3
   },
   "file_extension": ".py",
   "mimetype": "text/x-python",
   "name": "python",
   "nbconvert_exporter": "python",
   "pygments_lexer": "ipython3",
   "version": "3.8.5"
  },
  "toc": {
   "base_numbering": 1,
   "nav_menu": {},
   "number_sections": true,
   "sideBar": true,
   "skip_h1_title": false,
   "title_cell": "Table of Contents",
   "title_sidebar": "Contents",
   "toc_cell": false,
   "toc_position": {},
   "toc_section_display": true,
   "toc_window_display": false
  },
  "varInspector": {
   "cols": {
    "lenName": 16,
    "lenType": 16,
    "lenVar": 40
   },
   "kernels_config": {
    "python": {
     "delete_cmd_postfix": "",
     "delete_cmd_prefix": "del ",
     "library": "var_list.py",
     "varRefreshCmd": "print(var_dic_list())"
    },
    "r": {
     "delete_cmd_postfix": ") ",
     "delete_cmd_prefix": "rm(",
     "library": "var_list.r",
     "varRefreshCmd": "cat(var_dic_list()) "
    }
   },
   "types_to_exclude": [
    "module",
    "function",
    "builtin_function_or_method",
    "instance",
    "_Feature"
   ],
   "window_display": false
  }
 },
 "nbformat": 4,
 "nbformat_minor": 4
}
