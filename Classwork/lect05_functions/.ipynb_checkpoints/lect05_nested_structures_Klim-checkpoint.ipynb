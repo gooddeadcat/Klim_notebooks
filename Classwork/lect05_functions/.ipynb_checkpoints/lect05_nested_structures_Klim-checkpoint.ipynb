{
 "cells": [
  {
   "cell_type": "code",
   "execution_count": 5,
   "metadata": {},
   "outputs": [
    {
     "name": "stdout",
     "output_type": "stream",
     "text": [
      "12345\n"
     ]
    },
    {
     "ename": "TypeError",
     "evalue": "'int' object is not iterable",
     "output_type": "error",
     "traceback": [
      "\u001b[1;31m---------------------------------------------------------------------------\u001b[0m",
      "\u001b[1;31mTypeError\u001b[0m                                 Traceback (most recent call last)",
      "\u001b[1;32m<ipython-input-5-008911755c79>\u001b[0m in \u001b[0;36m<module>\u001b[1;34m\u001b[0m\n\u001b[1;32m----> 1\u001b[1;33m \u001b[0mnumbers\u001b[0m \u001b[1;33m=\u001b[0m \u001b[0mlist\u001b[0m\u001b[1;33m(\u001b[0m\u001b[0mmap\u001b[0m\u001b[1;33m(\u001b[0m\u001b[0mstr\u001b[0m\u001b[1;33m.\u001b[0m\u001b[0mstrip\u001b[0m\u001b[1;33m,\u001b[0m \u001b[0mint\u001b[0m\u001b[1;33m(\u001b[0m\u001b[0minput\u001b[0m\u001b[1;33m(\u001b[0m\u001b[1;33m)\u001b[0m\u001b[1;33m)\u001b[0m\u001b[1;33m)\u001b[0m\u001b[1;33m)\u001b[0m \u001b[1;31m# в map надо указывать тип данных для метода\u001b[0m\u001b[1;33m\u001b[0m\u001b[1;33m\u001b[0m\u001b[0m\n\u001b[0m\u001b[0;32m      2\u001b[0m \u001b[0mnumbers\u001b[0m\u001b[1;33m\u001b[0m\u001b[1;33m\u001b[0m\u001b[0m\n",
      "\u001b[1;31mTypeError\u001b[0m: 'int' object is not iterable"
     ]
    }
   ],
   "source": [
    "numbers = list(map(str.strip, input())) # в map надо указывать тип данных для метода\n",
    "numbers"
   ]
  },
  {
   "cell_type": "markdown",
   "metadata": {},
   "source": [
    "# Вложенные структуры"
   ]
  },
  {
   "cell_type": "code",
   "execution_count": 3,
   "metadata": {},
   "outputs": [
    {
     "name": "stdout",
     "output_type": "stream",
     "text": [
      "['Маша', 'Петя', 'Вася', 'Глаша', 'Миша', 'Оля', 'Муся', 'Рая']\n"
     ]
    }
   ],
   "source": [
    "# словарь словарей списков(json)\n",
    "students = {'1 курс' :\n",
    " {'181 группа' : ['Маша', 'Петя'],\n",
    "  '182 группа' : ['Вася', 'Глаша']},\n",
    " '2 курс' :\n",
    " {'171 группа' : ['Миша', 'Оля'],\n",
    "  '172 группа' : ['Муся', 'Рая']}}\n",
    "\n",
    "student = [student for course in students for group in students[course] for student in students[course][group]]\n",
    "print(student)"
   ]
  },
  {
   "cell_type": "code",
   "execution_count": 7,
   "metadata": {},
   "outputs": [
    {
     "name": "stdout",
     "output_type": "stream",
     "text": [
      "Маша\n",
      "Петя\n",
      "Вася\n",
      "Глаша\n",
      "Миша\n",
      "Оля\n",
      "Муся\n",
      "Рая\n"
     ]
    }
   ],
   "source": [
    "for course in students:\n",
    "    for group in students[course]:\n",
    "        for student in students[course][group]:\n",
    "            print(student)"
   ]
  },
  {
   "cell_type": "markdown",
   "metadata": {},
   "source": [
    "# Сортировка с sorted()"
   ]
  },
  {
   "cell_type": "code",
   "execution_count": 9,
   "metadata": {},
   "outputs": [
    {
     "data": {
      "text/plain": [
       "['отл', 'Удовл', 'хОр']"
      ]
     },
     "execution_count": 9,
     "metadata": {},
     "output_type": "execute_result"
    }
   ],
   "source": [
    "# key - способ сортировки.\n",
    "marks = ['Удовл', 'хОр', 'отл']\n",
    "sorted(marks, key=str.lower)"
   ]
  },
  {
   "cell_type": "markdown",
   "metadata": {},
   "source": [
    "# Задачи"
   ]
  },
  {
   "cell_type": "markdown",
   "metadata": {},
   "source": [
    "Олимпиада\n",
    "Учителя 3 класса решили провести олимпиаду по математике. Результаты собраны в словарь results, где ключами являются имена детей, а значениями — их результаты (целые числа). На районную олимпиаду поедут те ученики, которые набрали проходной балл и выше. Выведите имена тех школьников, которые набрали проходной балл. \n",
    "\n",
    "ФОРМАТ ВВОДА\n",
    "Словарь results уже задан.\n",
    "Вводится целое число N — проходной балл. \n",
    "ФОРМАТ ВЫВОДА\n",
    "Имена детей, которые набрали не менее проходного балла. Каждое имя на новой строке."
   ]
  },
  {
   "cell_type": "code",
   "execution_count": 30,
   "metadata": {},
   "outputs": [
    {
     "name": "stdout",
     "output_type": "stream",
     "text": [
      "80\n",
      "Петя\n",
      "Даша\n",
      "Миша\n"
     ]
    }
   ],
   "source": [
    "results = {'Петя': 100, 'Даша': 85, 'Кирилл': 28, \n",
    "            'Дима': 44, 'Миша': 91, 'Настя': 76, \n",
    "            'Глеб': 75}\n",
    "\n",
    "N = int(input())\n",
    "for i in results:\n",
    "    if results[i] >= N:\n",
    "        print(i)"
   ]
  },
  {
   "cell_type": "markdown",
   "metadata": {},
   "source": [
    "Путешествия\n",
    "Вася любит путешествовать, и обычно в одной стране он посещает сразу несколько городов. Все посещенные города Вася записывает в словарь cities в формате {'Страна': ['Город 1', 'Город 2']}. \n",
    "\n",
    "Вася вспоминает свои путешествия, и хочет по названию города узнать страну и сколько городов в ней он посетил. \n",
    "\n",
    "ФОРМАТ ВВОДА \n",
    "Словарь cities уже задан.\n",
    "Вводится строка — название города. Гарантируется, что такой город присутствует в словаре cities.\n",
    "ФОРМАТ ВЫВОДА\n",
    "Страна (строка) и количество городов (целое число), которые Вася посетил в этой стране, разделенные пробелом."
   ]
  },
  {
   "cell_type": "code",
   "execution_count": 25,
   "metadata": {},
   "outputs": [],
   "source": [
    "cities = {'Россия': ['Москва', 'Санкт-Петербург', 'Ростов-на-Дону', 'Казань'],\n",
    "            'Германия': ['Берлин', 'Дюссельдорф', 'Дрезден', 'Кельн'], \n",
    "            'Франция': ['Марсель', 'Ницца', 'Лион'], \n",
    "            'Великобритания': ['Лондон', 'Глазго']}"
   ]
  },
  {
   "cell_type": "code",
   "execution_count": 28,
   "metadata": {},
   "outputs": [
    {
     "name": "stdout",
     "output_type": "stream",
     "text": [
      "Марсель\n",
      "Франция 3\n"
     ]
    }
   ],
   "source": [
    "city = input()\n",
    "for country in cities:\n",
    "    if city in cities[country]:\n",
    "        print(country, len(cities[country]))"
   ]
  },
  {
   "cell_type": "code",
   "execution_count": 31,
   "metadata": {},
   "outputs": [
    {
     "name": "stdout",
     "output_type": "stream",
     "text": [
      "Марсель\n",
      "Франция 3\n"
     ]
    }
   ],
   "source": [
    "city = input()\n",
    "country_visited = [f'{country} {len(cities[country])}'  for country in cities if city in cities[country]]\n",
    "print(*country_visited)"
   ]
  },
  {
   "cell_type": "markdown",
   "metadata": {},
   "source": [
    "Музыкальная библиотека\n",
    "\n",
    "Вася коллекционирует музыку и хочет лучше ориентироваться в собранных им пластинках. Помогите Васе, написав программу, которая по списку имеющихся у Васи пластинок и названию исполнителя расскажет, сколько пластинок у Васи есть и выведет их перечень в алфавитном порядке.\n",
    "\n",
    "ФОРМАТ ВВОДА\n",
    "\n",
    "Строки, где указано имя исполнителя и, через двоеточие с пробелом, одна из имеющихся у Васи пластинок.\n",
    "\n",
    "Гарантируется, что будет введена информация минимум об одной пластинке.\n",
    "\n",
    "Строка с указанием имени исполнителя, о котором хочет узнать Вася. В этой строке нет двоеточий и этой строкой кончается ввод данных. Гарантируется, что Вася хочет узнать только о том исполнителе, который у него есть\n",
    "\n",
    "ФОРМАТ ВЫВОДА\n",
    "\n",
    "Строка вида \"Queen (3): A Night at the Opera, Innuendo, The Miracle.\", состоящая из названия группы, количества пластинок (в скобках) и, через двоеточие с пробелом, перечня альбомов, разделённых точкой с запятой и пробелом. \n",
    "\n",
    "В конце строки стоит точка.\n",
    "\n",
    "Queen: Innuendo\n",
    "Queen: The Miracle\n",
    "Dawid Bowie: Space Oddity\n",
    "Queen: A Night at the Opera\n",
    "Simon & Garfunkel: The Sound of Silence\n",
    "Queen"
   ]
  },
  {
   "cell_type": "code",
   "execution_count": null,
   "metadata": {},
   "outputs": [],
   "source": [
    "collection = dict()\n",
    "while True:\n",
    "    line = input().split(':')\n",
    "    if len(line) == 1:\n",
    "        print(f'{line[0]} ({len(collection[line[0]])}): ', end='')\n",
    "        print(*collection[line[0]], sep=', ', end='\\n')\n",
    "        break\n",
    "    if line[0] not in collection:\n",
    "        collection[line[0]] = []\n",
    "    collection[line[0]].append(line[1].strip(' '))"
   ]
  },
  {
   "cell_type": "code",
   "execution_count": null,
   "metadata": {},
   "outputs": [],
   "source": [
    "songs = {}\n",
    "while True:\n",
    "    song = input()\n",
    "    if ':' not in song:\n",
    "        print(f'{song} ({len(songs[song])}): {\", \".join(sorted(songs[song]))}.')\n",
    "        break\n",
    "    song = song.split(': ')\n",
    "    if song[0] not in songs:\n",
    "        songs[song[0]] = [song[1]]\n",
    "    else:\n",
    "        songs[song[0]].append(song[1])"
   ]
  }
 ],
 "metadata": {
  "kernelspec": {
   "display_name": "Python 3 (ipykernel)",
   "language": "python",
   "name": "python3"
  },
  "language_info": {
   "codemirror_mode": {
    "name": "ipython",
    "version": 3
   },
   "file_extension": ".py",
   "mimetype": "text/x-python",
   "name": "python",
   "nbconvert_exporter": "python",
   "pygments_lexer": "ipython3",
   "version": "3.9.12"
  }
 },
 "nbformat": 4,
 "nbformat_minor": 4
}
